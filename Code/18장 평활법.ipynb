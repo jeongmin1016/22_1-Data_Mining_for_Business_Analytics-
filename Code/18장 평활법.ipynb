{
 "cells": [
  {
   "cell_type": "code",
   "execution_count": 1,
   "id": "ca5adbcd",
   "metadata": {},
   "outputs": [],
   "source": [
    "%matplotlib inline\n",
    "from pathlib import Path\n",
    "\n",
    "import numpy as np\n",
    "import pandas as pd\n",
    "import matplotlib.pylab as plt\n",
    "import statsmodels.formula.api as sm\n",
    "from statsmodels.tsa import tsatools\n",
    "from statsmodels.tsa.holtwinters import ExponentialSmoothing"
   ]
  },
  {
   "cell_type": "code",
   "execution_count": 2,
   "id": "d1734d73",
   "metadata": {},
   "outputs": [],
   "source": [
    "# Create the graph\n",
    "def singleGraphLayout(ax, ylim, train_df, valid_df):\n",
    "    ax.set_xlim('1990', '2004-6')\n",
    "    ax.set_ylim(*ylim)\n",
    "    ax.set_xlabel('Time')\n",
    "    one_month = pd.Timedelta('31 days')\n",
    "    xtrain = (min(train_df.index), max(train_df.index) - one_month)\n",
    "    xvalid = (min(valid_df.index) + one_month, max(valid_df.index) - one_month)\n",
    "    xtv = xtrain[1] + 0.5 * (xvalid[0] - xtrain[1])\n",
    "\n",
    "    ypos = 0.9 * ylim[1] + 0.1 * ylim[0]\n",
    "    ax.add_line(plt.Line2D(xtrain, (ypos, ypos), color='black', linewidth=0.5))\n",
    "    ax.add_line(plt.Line2D(xvalid, (ypos, ypos), color='black', linewidth=0.5))\n",
    "    ax.axvline(x=xtv, ymin=0, ymax=1, color='black', linewidth=0.5)\n",
    "\n",
    "    ypos = 0.925 * ylim[1] + 0.075 * ylim[0]\n",
    "    ax.text('1995', ypos, 'Training')\n",
    "    ax.text('2002-3', ypos, 'Validation')\n",
    "\n",
    "def graphLayout(axes, train_df, valid_df):\n",
    "    singleGraphLayout(axes[0], [1300, 2550], train_df, valid_df)\n",
    "    singleGraphLayout(axes[1], [-550, 550], train_df, valid_df)\n",
    "    train_df.plot(y='Ridership', ax=axes[0], color='C0', linewidth=0.75)\n",
    "    valid_df.plot(y='Ridership', ax=axes[0], color='C0', linestyle='dashed', linewidth=0.75)\n",
    "    axes[1].axhline(y=0, xmin=0, xmax=1, color='black', linewidth=0.5)\n",
    "    axes[0].set_xlabel('')\n",
    "    axes[0].set_ylabel('Ridership (in 000s)')\n",
    "    axes[1].set_ylabel('Forecast Errors')\n",
    "    if axes[0].get_legend(): \n",
    "        axes[0].get_legend().remove()"
   ]
  },
  {
   "cell_type": "markdown",
   "id": "76c2c7a2",
   "metadata": {},
   "source": [
    "# 18.1 9/11 사태로 인한 미국 항공기 여행 여파"
   ]
  },
  {
   "cell_type": "code",
   "execution_count": 3,
   "id": "6a52b9bf",
   "metadata": {},
   "outputs": [],
   "source": [
    "bts = pd.read_csv('Sept11Travel.csv')\n",
    "bts = bts.rename(columns = {'Month-Year':'Day'})"
   ]
  },
  {
   "cell_type": "code",
   "execution_count": 4,
   "id": "af6c0c56",
   "metadata": {},
   "outputs": [
    {
     "data": {
      "text/html": [
       "<div>\n",
       "<style scoped>\n",
       "    .dataframe tbody tr th:only-of-type {\n",
       "        vertical-align: middle;\n",
       "    }\n",
       "\n",
       "    .dataframe tbody tr th {\n",
       "        vertical-align: top;\n",
       "    }\n",
       "\n",
       "    .dataframe thead th {\n",
       "        text-align: right;\n",
       "    }\n",
       "</style>\n",
       "<table border=\"1\" class=\"dataframe\">\n",
       "  <thead>\n",
       "    <tr style=\"text-align: right;\">\n",
       "      <th></th>\n",
       "      <th>Day</th>\n",
       "      <th>AirRPM</th>\n",
       "      <th>RailPM</th>\n",
       "      <th>VMT_billions</th>\n",
       "    </tr>\n",
       "  </thead>\n",
       "  <tbody>\n",
       "    <tr>\n",
       "      <th>0</th>\n",
       "      <td>Jan-90</td>\n",
       "      <td>35153577</td>\n",
       "      <td>454115779</td>\n",
       "      <td>163.28</td>\n",
       "    </tr>\n",
       "    <tr>\n",
       "      <th>1</th>\n",
       "      <td>Feb-90</td>\n",
       "      <td>32965187</td>\n",
       "      <td>435086002</td>\n",
       "      <td>153.25</td>\n",
       "    </tr>\n",
       "    <tr>\n",
       "      <th>2</th>\n",
       "      <td>Mar-90</td>\n",
       "      <td>39993913</td>\n",
       "      <td>568289732</td>\n",
       "      <td>178.42</td>\n",
       "    </tr>\n",
       "    <tr>\n",
       "      <th>3</th>\n",
       "      <td>Apr-90</td>\n",
       "      <td>37981886</td>\n",
       "      <td>568101697</td>\n",
       "      <td>178.68</td>\n",
       "    </tr>\n",
       "    <tr>\n",
       "      <th>4</th>\n",
       "      <td>May-90</td>\n",
       "      <td>38419672</td>\n",
       "      <td>539628385</td>\n",
       "      <td>188.88</td>\n",
       "    </tr>\n",
       "    <tr>\n",
       "      <th>...</th>\n",
       "      <td>...</td>\n",
       "      <td>...</td>\n",
       "      <td>...</td>\n",
       "      <td>...</td>\n",
       "    </tr>\n",
       "    <tr>\n",
       "      <th>115</th>\n",
       "      <td>Aug-99</td>\n",
       "      <td>63752132</td>\n",
       "      <td>528001216</td>\n",
       "      <td>242.57</td>\n",
       "    </tr>\n",
       "    <tr>\n",
       "      <th>116</th>\n",
       "      <td>Sep-99</td>\n",
       "      <td>53733696</td>\n",
       "      <td>393137094</td>\n",
       "      <td>225.30</td>\n",
       "    </tr>\n",
       "    <tr>\n",
       "      <th>117</th>\n",
       "      <td>Oct-99</td>\n",
       "      <td>57407208</td>\n",
       "      <td>425897553</td>\n",
       "      <td>234.66</td>\n",
       "    </tr>\n",
       "    <tr>\n",
       "      <th>118</th>\n",
       "      <td>Nov-99</td>\n",
       "      <td>53866781</td>\n",
       "      <td>421595015</td>\n",
       "      <td>222.83</td>\n",
       "    </tr>\n",
       "    <tr>\n",
       "      <th>119</th>\n",
       "      <td>Dec-99</td>\n",
       "      <td>52331272</td>\n",
       "      <td>442742459</td>\n",
       "      <td>222.46</td>\n",
       "    </tr>\n",
       "  </tbody>\n",
       "</table>\n",
       "<p>120 rows × 4 columns</p>\n",
       "</div>"
      ],
      "text/plain": [
       "        Day    AirRPM     RailPM  VMT_billions\n",
       "0    Jan-90  35153577  454115779        163.28\n",
       "1    Feb-90  32965187  435086002        153.25\n",
       "2    Mar-90  39993913  568289732        178.42\n",
       "3    Apr-90  37981886  568101697        178.68\n",
       "4    May-90  38419672  539628385        188.88\n",
       "..      ...       ...        ...           ...\n",
       "115  Aug-99  63752132  528001216        242.57\n",
       "116  Sep-99  53733696  393137094        225.30\n",
       "117  Oct-99  57407208  425897553        234.66\n",
       "118  Nov-99  53866781  421595015        222.83\n",
       "119  Dec-99  52331272  442742459        222.46\n",
       "\n",
       "[120 rows x 4 columns]"
      ]
     },
     "execution_count": 4,
     "metadata": {},
     "output_type": "execute_result"
    }
   ],
   "source": [
    "p_bts = bts.iloc[0:120]\n",
    "p_bts # 9/11 전 데이터 - 학습데이터로 이용"
   ]
  },
  {
   "cell_type": "code",
   "execution_count": 5,
   "id": "d12770a9",
   "metadata": {},
   "outputs": [
    {
     "name": "stderr",
     "output_type": "stream",
     "text": [
      "C:\\Users\\Public\\Documents\\ESTsoft\\CreatorTemp\\ipykernel_10964\\398678094.py:1: SettingWithCopyWarning: \n",
      "A value is trying to be set on a copy of a slice from a DataFrame.\n",
      "Try using .loc[row_indexer,col_indexer] = value instead\n",
      "\n",
      "See the caveats in the documentation: https://pandas.pydata.org/pandas-docs/stable/user_guide/indexing.html#returning-a-view-versus-a-copy\n",
      "  p_bts['Day']=pd.to_datetime(p_bts.Day, format='%b-%y')\n"
     ]
    },
    {
     "data": {
      "text/html": [
       "<div>\n",
       "<style scoped>\n",
       "    .dataframe tbody tr th:only-of-type {\n",
       "        vertical-align: middle;\n",
       "    }\n",
       "\n",
       "    .dataframe tbody tr th {\n",
       "        vertical-align: top;\n",
       "    }\n",
       "\n",
       "    .dataframe thead th {\n",
       "        text-align: right;\n",
       "    }\n",
       "</style>\n",
       "<table border=\"1\" class=\"dataframe\">\n",
       "  <thead>\n",
       "    <tr style=\"text-align: right;\">\n",
       "      <th></th>\n",
       "      <th>Day</th>\n",
       "      <th>AirRPM</th>\n",
       "      <th>RailPM</th>\n",
       "      <th>VMT_billions</th>\n",
       "    </tr>\n",
       "  </thead>\n",
       "  <tbody>\n",
       "    <tr>\n",
       "      <th>0</th>\n",
       "      <td>1990-01-01</td>\n",
       "      <td>35153577</td>\n",
       "      <td>454115779</td>\n",
       "      <td>163.28</td>\n",
       "    </tr>\n",
       "    <tr>\n",
       "      <th>1</th>\n",
       "      <td>1990-02-01</td>\n",
       "      <td>32965187</td>\n",
       "      <td>435086002</td>\n",
       "      <td>153.25</td>\n",
       "    </tr>\n",
       "    <tr>\n",
       "      <th>2</th>\n",
       "      <td>1990-03-01</td>\n",
       "      <td>39993913</td>\n",
       "      <td>568289732</td>\n",
       "      <td>178.42</td>\n",
       "    </tr>\n",
       "    <tr>\n",
       "      <th>3</th>\n",
       "      <td>1990-04-01</td>\n",
       "      <td>37981886</td>\n",
       "      <td>568101697</td>\n",
       "      <td>178.68</td>\n",
       "    </tr>\n",
       "    <tr>\n",
       "      <th>4</th>\n",
       "      <td>1990-05-01</td>\n",
       "      <td>38419672</td>\n",
       "      <td>539628385</td>\n",
       "      <td>188.88</td>\n",
       "    </tr>\n",
       "    <tr>\n",
       "      <th>...</th>\n",
       "      <td>...</td>\n",
       "      <td>...</td>\n",
       "      <td>...</td>\n",
       "      <td>...</td>\n",
       "    </tr>\n",
       "    <tr>\n",
       "      <th>115</th>\n",
       "      <td>1999-08-01</td>\n",
       "      <td>63752132</td>\n",
       "      <td>528001216</td>\n",
       "      <td>242.57</td>\n",
       "    </tr>\n",
       "    <tr>\n",
       "      <th>116</th>\n",
       "      <td>1999-09-01</td>\n",
       "      <td>53733696</td>\n",
       "      <td>393137094</td>\n",
       "      <td>225.30</td>\n",
       "    </tr>\n",
       "    <tr>\n",
       "      <th>117</th>\n",
       "      <td>1999-10-01</td>\n",
       "      <td>57407208</td>\n",
       "      <td>425897553</td>\n",
       "      <td>234.66</td>\n",
       "    </tr>\n",
       "    <tr>\n",
       "      <th>118</th>\n",
       "      <td>1999-11-01</td>\n",
       "      <td>53866781</td>\n",
       "      <td>421595015</td>\n",
       "      <td>222.83</td>\n",
       "    </tr>\n",
       "    <tr>\n",
       "      <th>119</th>\n",
       "      <td>1999-12-01</td>\n",
       "      <td>52331272</td>\n",
       "      <td>442742459</td>\n",
       "      <td>222.46</td>\n",
       "    </tr>\n",
       "  </tbody>\n",
       "</table>\n",
       "<p>120 rows × 4 columns</p>\n",
       "</div>"
      ],
      "text/plain": [
       "           Day    AirRPM     RailPM  VMT_billions\n",
       "0   1990-01-01  35153577  454115779        163.28\n",
       "1   1990-02-01  32965187  435086002        153.25\n",
       "2   1990-03-01  39993913  568289732        178.42\n",
       "3   1990-04-01  37981886  568101697        178.68\n",
       "4   1990-05-01  38419672  539628385        188.88\n",
       "..         ...       ...        ...           ...\n",
       "115 1999-08-01  63752132  528001216        242.57\n",
       "116 1999-09-01  53733696  393137094        225.30\n",
       "117 1999-10-01  57407208  425897553        234.66\n",
       "118 1999-11-01  53866781  421595015        222.83\n",
       "119 1999-12-01  52331272  442742459        222.46\n",
       "\n",
       "[120 rows x 4 columns]"
      ]
     },
     "execution_count": 5,
     "metadata": {},
     "output_type": "execute_result"
    }
   ],
   "source": [
    "p_bts['Day']=pd.to_datetime(p_bts.Day, format='%b-%y')\n",
    "p_bts"
   ]
  },
  {
   "cell_type": "markdown",
   "id": "31bfad15",
   "metadata": {},
   "source": [
    "### a"
   ]
  },
  {
   "cell_type": "code",
   "execution_count": 6,
   "id": "667ed4f0",
   "metadata": {},
   "outputs": [
    {
     "name": "stdout",
     "output_type": "stream",
     "text": [
      "64397523\n",
      "29672427\n"
     ]
    },
    {
     "data": {
      "image/png": "[encoded data removed]",
      "text/plain": [
       "<Figure size 432x288 with 1 Axes>"
      ]
     },
     "metadata": {
      "needs_background": "light"
     },
     "output_type": "display_data"
    }
   ],
   "source": [
    "## 항공기 시계열 데이터\n",
    "\n",
    "# convert dataframe column to series (name is used to label the data)\n",
    "pbts_Airrpm = pd.Series(p_bts.AirRPM.values, index=p_bts.Day, name='AirRPM')\n",
    "\n",
    "# define the time series frequency\n",
    "pbts_Airrpm.index = pd.DatetimeIndex(pbts_Airrpm.index, freq=pbts_Airrpm.index.inferred_freq)\n",
    "\n",
    "# y 축 범위 조정을 위해 최댓값 및 최솟값 구하기\n",
    "print(p_bts.AirRPM.max())\n",
    "print(p_bts.AirRPM.min())\n",
    "\n",
    "ax = pbts_Airrpm.plot()\n",
    "ax.set_xlabel('Day')\n",
    "ax.set_ylabel('AirRPM')\n",
    "_ = ax.set_ylim(29000000, 65000000)\n",
    "\n",
    "plt.show()"
   ]
  },
  {
   "cell_type": "markdown",
   "id": "49569017",
   "metadata": {},
   "source": [
    "### b"
   ]
  },
  {
   "cell_type": "markdown",
   "id": "13f229cb",
   "metadata": {},
   "source": [
    "추세는 증가하는 경향이나 감소하는 경향을 의미하는데 해당 그래프는 증가하는 추세가 있다고 본다"
   ]
  },
  {
   "cell_type": "code",
   "execution_count": 7,
   "id": "17093cf2",
   "metadata": {},
   "outputs": [],
   "source": [
    "## 계절 변동이 제거된 항공기 시계열 그래프"
   ]
  },
  {
   "cell_type": "markdown",
   "id": "b481051a",
   "metadata": {},
   "source": [
    "##### 이중지수평활법"
   ]
  },
  {
   "cell_type": "markdown",
   "id": "b47a692a",
   "metadata": {},
   "source": [
    "평활법은 크게 두가지로 구분했을 때 이동평균법과 단순지수평활법으로 나눌 수 있다. \n",
    "\n",
    "두 방법 모두 추세나 계절변동이 존재하지 않는 시계열에 적합한 방법이다.\n",
    "\n",
    "위의 두 방법의 큰 차이는 예측을 위해 필요한 과거 데이터의 개수나 평균을 구할 때 사용하는 가중치 계산에서 차이를 보인다.\n",
    "\n",
    "\n",
    "- 이동평균법 : 윈도우의 폭을 정하고 이에 따라 각 윈도우 내 연속된값들을 평균 구해 미래 값 예측 \n",
    "- 단순지수평활법 : 과거 데이터들의 가중평균을 이용해 미래 값 예측\n",
    "- 이중지수평활법 : 추세를 가진 시계열의 경우 적용 가능\n",
    "- 홀트-윈터 지수평활법 : 추세와 계절변동이 모두 존재하는 시계열"
   ]
  },
  {
   "cell_type": "markdown",
   "id": "045fc166",
   "metadata": {},
   "source": [
    "# 18.2 이동평균법과 지수평활법의 관계"
   ]
  },
  {
   "cell_type": "markdown",
   "id": "8087e1c8",
   "metadata": {},
   "source": [
    "평활법을 적용할 때는 평활상수를 결정해야 하는데 평활상수는 최근 데이터에 부여할 가중치를 결정하는 역할을 한다."
   ]
  },
  {
   "cell_type": "markdown",
   "id": "77aaf906",
   "metadata": {},
   "source": [
    "이동평균법의 경우 윈도우의 폭w을, 지수평활법의 경우 평활상수(알파)를 결정해야 한다.\n",
    "두 하이퍼 모수는 최근 정보가 과거의 정보에 비해 얼마나 중요하게 고려되는 지를 결정해주는 역할을 한다.\n",
    "윈도우의 폭과 평활상수 사이에는 관계가 있는데 (윈도우의 폭)=2/(알파) - 1 인 경우 이동평균법과 지수평활법은 유사한 결과를 나타낸다. "
   ]
  },
  {
   "cell_type": "markdown",
   "id": "ea7d5c03",
   "metadata": {},
   "source": [
    "# 18.3 이동평균법을 사용한 예측"
   ]
  },
  {
   "cell_type": "code",
   "execution_count": 8,
   "id": "9c1c0bd2",
   "metadata": {},
   "outputs": [
    {
     "data": {
      "text/html": [
       "<div>\n",
       "<style scoped>\n",
       "    .dataframe tbody tr th:only-of-type {\n",
       "        vertical-align: middle;\n",
       "    }\n",
       "\n",
       "    .dataframe tbody tr th {\n",
       "        vertical-align: top;\n",
       "    }\n",
       "\n",
       "    .dataframe thead th {\n",
       "        text-align: right;\n",
       "    }\n",
       "</style>\n",
       "<table border=\"1\" class=\"dataframe\">\n",
       "  <thead>\n",
       "    <tr style=\"text-align: right;\">\n",
       "      <th></th>\n",
       "      <th>Month</th>\n",
       "      <th>Price</th>\n",
       "    </tr>\n",
       "  </thead>\n",
       "  <tbody>\n",
       "    <tr>\n",
       "      <th>0</th>\n",
       "      <td>Sep 98</td>\n",
       "      <td>27</td>\n",
       "    </tr>\n",
       "    <tr>\n",
       "      <th>1</th>\n",
       "      <td>Oct 98</td>\n",
       "      <td>31</td>\n",
       "    </tr>\n",
       "    <tr>\n",
       "      <th>2</th>\n",
       "      <td>Nov 98</td>\n",
       "      <td>58</td>\n",
       "    </tr>\n",
       "    <tr>\n",
       "      <th>3</th>\n",
       "      <td>Dec 98</td>\n",
       "      <td>63</td>\n",
       "    </tr>\n",
       "    <tr>\n",
       "      <th>4</th>\n",
       "      <td>Jan 99</td>\n",
       "      <td>59</td>\n",
       "    </tr>\n",
       "  </tbody>\n",
       "</table>\n",
       "</div>"
      ],
      "text/plain": [
       "    Month  Price\n",
       "0  Sep 98     27\n",
       "1  Oct 98     31\n",
       "2  Nov 98     58\n",
       "3  Dec 98     63\n",
       "4  Jan 99     59"
      ]
     },
     "execution_count": 8,
     "metadata": {},
     "output_type": "execute_result"
    }
   ],
   "source": [
    "# data = {\"월\":\"판매액\", \"Sept 98\": \"27\", \n",
    "#         \"Oct 98\": \"31\", \"Nov 98\": \"58\", \n",
    "#        \"Dec 98\": \"63\", \"Jan 98\": \"59\"}\n",
    "\n",
    "data = pd.DataFrame({\"Month\":[\"Sep 98\", \"Oct 98\", \"Nov 98\", \"Dec 98\", \"Jan 99\"], # sept 하면 아래 format 이 적용이 안돼 sep으로 해줌\n",
    "       \"Price\" : [27, 31, 58, 63, 59]})\n",
    "data\n"
   ]
  },
  {
   "cell_type": "code",
   "execution_count": 9,
   "id": "f6c9bfc3",
   "metadata": {},
   "outputs": [
    {
     "data": {
      "text/plain": [
       "0   1998-09-01\n",
       "1   1998-10-01\n",
       "2   1998-11-01\n",
       "3   1998-12-01\n",
       "4   1999-01-01\n",
       "Name: Month, dtype: datetime64[ns]"
      ]
     },
     "execution_count": 9,
     "metadata": {},
     "output_type": "execute_result"
    }
   ],
   "source": [
    "data.Month = pd.to_datetime(data.Month, format='%b %y')\n",
    "data.Month"
   ]
  },
  {
   "cell_type": "markdown",
   "id": "05c0b988",
   "metadata": {},
   "source": [
    "### a"
   ]
  },
  {
   "cell_type": "code",
   "execution_count": 10,
   "id": "d98e32cc",
   "metadata": {},
   "outputs": [],
   "source": [
    "# 예측 시에는 이전이동평균법이 사용되는데 이전이동평균법은 윈도우의 폭w를 정하고 이에 맞게 최근 w기간의 값들을 이용해 평균 구함"
   ]
  },
  {
   "cell_type": "code",
   "execution_count": 21,
   "id": "df82dbb6",
   "metadata": {},
   "outputs": [
    {
     "data": {
      "text/plain": [
       "44.75"
      ]
     },
     "execution_count": 21,
     "metadata": {},
     "output_type": "execute_result"
    }
   ],
   "source": [
    "y = (27+31+58+63)/4\n",
    "y"
   ]
  },
  {
   "cell_type": "markdown",
   "id": "2649e797",
   "metadata": {},
   "source": [
    "### b"
   ]
  },
  {
   "cell_type": "code",
   "execution_count": 22,
   "id": "7efdc208",
   "metadata": {},
   "outputs": [
    {
     "data": {
      "text/plain": [
       "14.25"
      ]
     },
     "execution_count": 22,
     "metadata": {},
     "output_type": "execute_result"
    }
   ],
   "source": [
    "ry = 59 \n",
    "ry - y"
   ]
  },
  {
   "cell_type": "markdown",
   "id": "909144f0",
   "metadata": {},
   "source": [
    "# 18.4 홀트 - 윈터 지수평활법 최적화"
   ]
  },
  {
   "cell_type": "markdown",
   "id": "400c9053",
   "metadata": {},
   "source": [
    "### a"
   ]
  },
  {
   "cell_type": "markdown",
   "id": "02ca40c8",
   "metadata": {},
   "source": [
    "추세가 없다 ..?"
   ]
  },
  {
   "cell_type": "code",
   "execution_count": 13,
   "id": "c9b82879",
   "metadata": {},
   "outputs": [],
   "source": [
    "# 시점 t 에서 t-1에서의 추세와 수준의 차이 값의 가중평균을 통해 구할 수 있음.\n",
    "# 보기 3번과 4번은 어떤 의미로 해석해야 하는지 이해가 되지 않음"
   ]
  },
  {
   "cell_type": "markdown",
   "id": "af9af298",
   "metadata": {},
   "source": [
    "### b"
   ]
  },
  {
   "cell_type": "markdown",
   "id": "adcfac0f",
   "metadata": {},
   "source": [
    "보통 다양한 값들을 시도하여 그 중 검증 데이터의 예측 오류를 최소화하는 값을 정하는 방법이 사용되고 있다.\n",
    "모델의 과적합이나 미래 데이터의 예측에 있어서 부정확한 결과를 도출할 수 있다. \n",
    "-> 지식이 없을 때는 통상적으로 0.1-0.2 사이의 값을 선택한다."
   ]
  },
  {
   "cell_type": "markdown",
   "id": "84c2da0c",
   "metadata": {},
   "source": [
    "# 18.5 백화점 판매액 예측"
   ]
  },
  {
   "cell_type": "code",
   "execution_count": 14,
   "id": "3b720871",
   "metadata": {},
   "outputs": [],
   "source": [
    "departss = pd.read_csv('DepartmentStoreSales.csv')"
   ]
  },
  {
   "cell_type": "code",
   "execution_count": 15,
   "id": "dd8a8b3f",
   "metadata": {},
   "outputs": [],
   "source": [
    "departss.Quarter = pd.to_datetime(departss.Quarter, format='%d') # 분기니까 일로 변환하여 적용하는 것이 간단할 것이라 생각"
   ]
  },
  {
   "cell_type": "code",
   "execution_count": 16,
   "id": "5b3cdc6e",
   "metadata": {},
   "outputs": [
    {
     "name": "stdout",
     "output_type": "stream",
     "text": [
      "103337    48617\n"
     ]
    }
   ],
   "source": [
    "# y 축 범위 조정을 위해 최댓값 및 최솟값 구하기\n",
    "print(departss.Sales.max(),'  ', departss.Sales.min())"
   ]
  },
  {
   "cell_type": "code",
   "execution_count": 17,
   "id": "84fb0ae9",
   "metadata": {},
   "outputs": [
    {
     "data": {
      "image/png": "[encoded data removed]",
      "text/plain": [
       "<Figure size 432x288 with 1 Axes>"
      ]
     },
     "metadata": {
      "needs_background": "light"
     },
     "output_type": "display_data"
    }
   ],
   "source": [
    "# convert dataframe column to series (name is used to label the data)\n",
    "de_Sales = pd.Series(departss.Sales.values, index=departss.Quarter, name='Sales')\n",
    "\n",
    "# define the time series frequency\n",
    "de_Sales.index = pd.DatetimeIndex(de_Sales.index, freq=de_Sales.index.inferred_freq)\n",
    "\n",
    "ax = de_Sales.plot()\n",
    "ax.set_xlabel('Quarter')\n",
    "ax.set_ylabel('Sales')\n",
    "_ = ax.set_ylim(48000, 105000) \n",
    "plt.show()"
   ]
  },
  {
   "cell_type": "markdown",
   "id": "0224c83e",
   "metadata": {},
   "source": [
    "증가하는 추세를 보임\n",
    "\n",
    "변동성이 커지는 지는 잘 모르겠음"
   ]
  },
  {
   "cell_type": "markdown",
   "id": "bede0a9d",
   "metadata": {},
   "source": [
    "### a"
   ]
  },
  {
   "cell_type": "markdown",
   "id": "cf702e2a",
   "metadata": {},
   "source": [
    "이동평균법과 단순지수평활법은 추세가 존재하지 않는 시계열에 적합한 방법으로 사용되기 때문에 이를 제외한 것들은 적합하다고 생각한다."
   ]
  },
  {
   "cell_type": "markdown",
   "id": "8f7c2898",
   "metadata": {},
   "source": [
    "### b"
   ]
  },
  {
   "cell_type": "code",
   "execution_count": 24,
   "id": "7909e023",
   "metadata": {},
   "outputs": [],
   "source": [
    "# partition the data\n",
    "nValid = 4\n",
    "nTrain = len(de_Sales) - nValid\n",
    "\n",
    "train_ts = de_Sales[:nTrain]\n",
    "valid_ts = de_Sales[nTrain:]\n"
   ]
  },
  {
   "cell_type": "code",
   "execution_count": 25,
   "id": "3bfd7a3d",
   "metadata": {},
   "outputs": [
    {
     "ename": "ValueError",
     "evalue": "The given frequency argument is incompatible with the given index.",
     "output_type": "error",
     "traceback": [
      "\u001b[1;31m---------------------------------------------------------------------------\u001b[0m",
      "\u001b[1;31mValueError\u001b[0m                                Traceback (most recent call last)",
      "Input \u001b[1;32mIn [25]\u001b[0m, in \u001b[0;36m<cell line: 2>\u001b[1;34m()\u001b[0m\n\u001b[0;32m      1\u001b[0m \u001b[38;5;66;03m# run exponential smoothing with additive trend and additive seasonal\u001b[39;00m\n\u001b[1;32m----> 2\u001b[0m expSmooth \u001b[38;5;241m=\u001b[39m \u001b[43mExponentialSmoothing\u001b[49m\u001b[43m(\u001b[49m\u001b[43mtrain_ts\u001b[49m\u001b[43m,\u001b[49m\u001b[43m \u001b[49m\u001b[43mtrend\u001b[49m\u001b[38;5;241;43m=\u001b[39;49m\u001b[38;5;124;43m'\u001b[39;49m\u001b[38;5;124;43madditive\u001b[39;49m\u001b[38;5;124;43m'\u001b[39;49m\u001b[43m,\u001b[49m\u001b[43m \u001b[49m\u001b[43mseasonal\u001b[49m\u001b[38;5;241;43m=\u001b[39;49m\u001b[38;5;124;43m'\u001b[39;49m\u001b[38;5;124;43madditive\u001b[39;49m\u001b[38;5;124;43m'\u001b[39;49m\u001b[43m,\u001b[49m\u001b[43m \u001b[49m\u001b[43mseasonal_periods\u001b[49m\u001b[38;5;241;43m=\u001b[39;49m\u001b[38;5;241;43m12\u001b[39;49m\u001b[43m,\u001b[49m\u001b[43m \u001b[49m\u001b[43mfreq\u001b[49m\u001b[38;5;241;43m=\u001b[39;49m\u001b[38;5;124;43m'\u001b[39;49m\u001b[38;5;124;43mMS\u001b[39;49m\u001b[38;5;124;43m'\u001b[39;49m\u001b[43m)\u001b[49m\n\u001b[0;32m      3\u001b[0m expSmoothFit \u001b[38;5;241m=\u001b[39m expSmooth\u001b[38;5;241m.\u001b[39mfit()\n\u001b[0;32m      5\u001b[0m fig, ax \u001b[38;5;241m=\u001b[39m plt\u001b[38;5;241m.\u001b[39msubplots(figsize\u001b[38;5;241m=\u001b[39m(\u001b[38;5;241m9\u001b[39m,\u001b[38;5;241m4\u001b[39m))\n",
      "File \u001b[1;32m~\\anaconda3\\lib\\site-packages\\pandas\\util\\_decorators.py:207\u001b[0m, in \u001b[0;36mdeprecate_kwarg.<locals>._deprecate_kwarg.<locals>.wrapper\u001b[1;34m(*args, **kwargs)\u001b[0m\n\u001b[0;32m    205\u001b[0m     \u001b[38;5;28;01melse\u001b[39;00m:\n\u001b[0;32m    206\u001b[0m         kwargs[new_arg_name] \u001b[38;5;241m=\u001b[39m new_arg_value\n\u001b[1;32m--> 207\u001b[0m \u001b[38;5;28;01mreturn\u001b[39;00m func(\u001b[38;5;241m*\u001b[39margs, \u001b[38;5;241m*\u001b[39m\u001b[38;5;241m*\u001b[39mkwargs)\n",
      "File \u001b[1;32m~\\anaconda3\\lib\\site-packages\\statsmodels\\tsa\\holtwinters\\model.py:222\u001b[0m, in \u001b[0;36mExponentialSmoothing.__init__\u001b[1;34m(self, endog, trend, damped_trend, seasonal, seasonal_periods, initialization_method, initial_level, initial_trend, initial_seasonal, use_boxcox, bounds, dates, freq, missing)\u001b[0m\n\u001b[0;32m    203\u001b[0m \u001b[38;5;129m@deprecate_kwarg\u001b[39m(\u001b[38;5;124m\"\u001b[39m\u001b[38;5;124mdamped\u001b[39m\u001b[38;5;124m\"\u001b[39m, \u001b[38;5;124m\"\u001b[39m\u001b[38;5;124mdamped_trend\u001b[39m\u001b[38;5;124m\"\u001b[39m)\n\u001b[0;32m    204\u001b[0m \u001b[38;5;28;01mdef\u001b[39;00m \u001b[38;5;21m__init__\u001b[39m(\n\u001b[0;32m    205\u001b[0m     \u001b[38;5;28mself\u001b[39m,\n\u001b[1;32m   (...)\u001b[0m\n\u001b[0;32m    220\u001b[0m     missing\u001b[38;5;241m=\u001b[39m\u001b[38;5;124m\"\u001b[39m\u001b[38;5;124mnone\u001b[39m\u001b[38;5;124m\"\u001b[39m,\n\u001b[0;32m    221\u001b[0m ):\n\u001b[1;32m--> 222\u001b[0m     \u001b[38;5;28;43msuper\u001b[39;49m\u001b[43m(\u001b[49m\u001b[43m)\u001b[49m\u001b[38;5;241;43m.\u001b[39;49m\u001b[38;5;21;43m__init__\u001b[39;49m\u001b[43m(\u001b[49m\u001b[43mendog\u001b[49m\u001b[43m,\u001b[49m\u001b[43m \u001b[49m\u001b[38;5;28;43;01mNone\u001b[39;49;00m\u001b[43m,\u001b[49m\u001b[43m \u001b[49m\u001b[43mdates\u001b[49m\u001b[43m,\u001b[49m\u001b[43m \u001b[49m\u001b[43mfreq\u001b[49m\u001b[43m,\u001b[49m\u001b[43m \u001b[49m\u001b[43mmissing\u001b[49m\u001b[38;5;241;43m=\u001b[39;49m\u001b[43mmissing\u001b[49m\u001b[43m)\u001b[49m\n\u001b[0;32m    223\u001b[0m     \u001b[38;5;28mself\u001b[39m\u001b[38;5;241m.\u001b[39m_y \u001b[38;5;241m=\u001b[39m \u001b[38;5;28mself\u001b[39m\u001b[38;5;241m.\u001b[39m_data \u001b[38;5;241m=\u001b[39m array_like(\n\u001b[0;32m    224\u001b[0m         endog, \u001b[38;5;124m\"\u001b[39m\u001b[38;5;124mendog\u001b[39m\u001b[38;5;124m\"\u001b[39m, ndim\u001b[38;5;241m=\u001b[39m\u001b[38;5;241m1\u001b[39m, contiguous\u001b[38;5;241m=\u001b[39m\u001b[38;5;28;01mTrue\u001b[39;00m, order\u001b[38;5;241m=\u001b[39m\u001b[38;5;124m\"\u001b[39m\u001b[38;5;124mC\u001b[39m\u001b[38;5;124m\"\u001b[39m\n\u001b[0;32m    225\u001b[0m     )\n\u001b[0;32m    226\u001b[0m     options \u001b[38;5;241m=\u001b[39m (\u001b[38;5;124m\"\u001b[39m\u001b[38;5;124madd\u001b[39m\u001b[38;5;124m\"\u001b[39m, \u001b[38;5;124m\"\u001b[39m\u001b[38;5;124mmul\u001b[39m\u001b[38;5;124m\"\u001b[39m, \u001b[38;5;124m\"\u001b[39m\u001b[38;5;124madditive\u001b[39m\u001b[38;5;124m\"\u001b[39m, \u001b[38;5;124m\"\u001b[39m\u001b[38;5;124mmultiplicative\u001b[39m\u001b[38;5;124m\"\u001b[39m)\n",
      "File \u001b[1;32m~\\anaconda3\\lib\\site-packages\\statsmodels\\tsa\\base\\tsa_model.py:471\u001b[0m, in \u001b[0;36mTimeSeriesModel.__init__\u001b[1;34m(self, endog, exog, dates, freq, missing, **kwargs)\u001b[0m\n\u001b[0;32m    468\u001b[0m \u001b[38;5;28msuper\u001b[39m()\u001b[38;5;241m.\u001b[39m\u001b[38;5;21m__init__\u001b[39m(endog, exog, missing\u001b[38;5;241m=\u001b[39mmissing, \u001b[38;5;241m*\u001b[39m\u001b[38;5;241m*\u001b[39mkwargs)\n\u001b[0;32m    470\u001b[0m \u001b[38;5;66;03m# Date handling in indexes\u001b[39;00m\n\u001b[1;32m--> 471\u001b[0m \u001b[38;5;28;43mself\u001b[39;49m\u001b[38;5;241;43m.\u001b[39;49m\u001b[43m_init_dates\u001b[49m\u001b[43m(\u001b[49m\u001b[43mdates\u001b[49m\u001b[43m,\u001b[49m\u001b[43m \u001b[49m\u001b[43mfreq\u001b[49m\u001b[43m)\u001b[49m\n",
      "File \u001b[1;32m~\\anaconda3\\lib\\site-packages\\statsmodels\\tsa\\base\\tsa_model.py:627\u001b[0m, in \u001b[0;36mTimeSeriesModel._init_dates\u001b[1;34m(self, dates, freq)\u001b[0m\n\u001b[0;32m    619\u001b[0m     \u001b[38;5;66;03m# Finally, if the index itself has a frequency and there was\u001b[39;00m\n\u001b[0;32m    620\u001b[0m     \u001b[38;5;66;03m# also a given frequency, raise an exception if they are not\u001b[39;00m\n\u001b[0;32m    621\u001b[0m     \u001b[38;5;66;03m# equal\u001b[39;00m\n\u001b[0;32m    622\u001b[0m     \u001b[38;5;28;01melif\u001b[39;00m (\n\u001b[0;32m    623\u001b[0m         freq \u001b[38;5;129;01mis\u001b[39;00m \u001b[38;5;129;01mnot\u001b[39;00m \u001b[38;5;28;01mNone\u001b[39;00m\n\u001b[0;32m    624\u001b[0m         \u001b[38;5;129;01mand\u001b[39;00m \u001b[38;5;129;01mnot\u001b[39;00m inferred_freq\n\u001b[0;32m    625\u001b[0m         \u001b[38;5;129;01mand\u001b[39;00m \u001b[38;5;129;01mnot\u001b[39;00m (index\u001b[38;5;241m.\u001b[39mfreq \u001b[38;5;241m==\u001b[39m freq)\n\u001b[0;32m    626\u001b[0m     ):\n\u001b[1;32m--> 627\u001b[0m         \u001b[38;5;28;01mraise\u001b[39;00m \u001b[38;5;167;01mValueError\u001b[39;00m(\n\u001b[0;32m    628\u001b[0m             \u001b[38;5;124m\"\u001b[39m\u001b[38;5;124mThe given frequency argument is\u001b[39m\u001b[38;5;124m\"\u001b[39m\n\u001b[0;32m    629\u001b[0m             \u001b[38;5;124m\"\u001b[39m\u001b[38;5;124m incompatible with the given index.\u001b[39m\u001b[38;5;124m\"\u001b[39m\n\u001b[0;32m    630\u001b[0m         )\n\u001b[0;32m    631\u001b[0m \u001b[38;5;66;03m# Finally, raise an exception if we could not coerce to date-based\u001b[39;00m\n\u001b[0;32m    632\u001b[0m \u001b[38;5;66;03m# but we were given a frequency argument\u001b[39;00m\n\u001b[0;32m    633\u001b[0m \u001b[38;5;28;01melif\u001b[39;00m freq \u001b[38;5;129;01mis\u001b[39;00m \u001b[38;5;129;01mnot\u001b[39;00m \u001b[38;5;28;01mNone\u001b[39;00m:\n",
      "\u001b[1;31mValueError\u001b[0m: The given frequency argument is incompatible with the given index."
     ]
    }
   ],
   "source": [
    "# run exponential smoothing with additive trend and additive seasonal\n",
    "expSmooth = ExponentialSmoothing(train_ts, trend='additive', seasonal='additive', seasonal_periods=12, freq='MS')\n",
    "expSmoothFit = expSmooth.fit()\n",
    "\n",
    "fig, ax = plt.subplots(figsize=(9,4))\n",
    "train_ts.plot(ax=ax, color='black', linewidth=0.5)\n",
    "valid_ts.plot(ax=ax, color='black', linewidth=0.25)\n",
    "\n",
    "expSmoothFit.fittedvalues.plot(ax=ax)\n",
    "expSmoothFit.forecast(len(valid_ts)).plot(ax=ax, style='--', linewidth=2, color='C0')\n",
    "singleGraphLayout(ax, [1300, 2550], train_ts, valid_ts)\n",
    "\n",
    "plt.show()"
   ]
  },
  {
   "cell_type": "code",
   "execution_count": null,
   "id": "a41248f5",
   "metadata": {},
   "outputs": [],
   "source": [
    "# 왜이럴까 왜 에러가 날까..............."
   ]
  },
  {
   "cell_type": "markdown",
   "id": "66a235fb",
   "metadata": {},
   "source": [
    "### c"
   ]
  },
  {
   "cell_type": "markdown",
   "id": "98d98b32",
   "metadata": {},
   "source": [
    "큰 추세가 보이지 않아 지수평활법을 적용해도 괜찮을 것 같다"
   ]
  },
  {
   "cell_type": "markdown",
   "id": "d288885a",
   "metadata": {},
   "source": [
    "# 18.6 가전제품 선적량"
   ]
  },
  {
   "cell_type": "code",
   "execution_count": 26,
   "id": "a541f827",
   "metadata": {},
   "outputs": [],
   "source": [
    "As = pd.read_csv('ApplianceShipments.csv')"
   ]
  },
  {
   "cell_type": "code",
   "execution_count": 27,
   "id": "4397ca77",
   "metadata": {},
   "outputs": [],
   "source": [
    "As['day']=pd.date_range(\"1985-1-1\", \"1989-12-31\", freq=\" Q-JAN\")"
   ]
  },
  {
   "cell_type": "code",
   "execution_count": 40,
   "id": "00497cfe",
   "metadata": {},
   "outputs": [
    {
     "data": {
      "text/html": [
       "<div>\n",
       "<style scoped>\n",
       "    .dataframe tbody tr th:only-of-type {\n",
       "        vertical-align: middle;\n",
       "    }\n",
       "\n",
       "    .dataframe tbody tr th {\n",
       "        vertical-align: top;\n",
       "    }\n",
       "\n",
       "    .dataframe thead th {\n",
       "        text-align: right;\n",
       "    }\n",
       "</style>\n",
       "<table border=\"1\" class=\"dataframe\">\n",
       "  <thead>\n",
       "    <tr style=\"text-align: right;\">\n",
       "      <th></th>\n",
       "      <th>Quarter</th>\n",
       "      <th>Shipments</th>\n",
       "      <th>day</th>\n",
       "    </tr>\n",
       "  </thead>\n",
       "  <tbody>\n",
       "    <tr>\n",
       "      <th>0</th>\n",
       "      <td>Q1-1985</td>\n",
       "      <td>4009</td>\n",
       "      <td>1985-01-31</td>\n",
       "    </tr>\n",
       "    <tr>\n",
       "      <th>1</th>\n",
       "      <td>Q2-1985</td>\n",
       "      <td>4321</td>\n",
       "      <td>1985-04-30</td>\n",
       "    </tr>\n",
       "    <tr>\n",
       "      <th>2</th>\n",
       "      <td>Q3-1985</td>\n",
       "      <td>4224</td>\n",
       "      <td>1985-07-31</td>\n",
       "    </tr>\n",
       "    <tr>\n",
       "      <th>3</th>\n",
       "      <td>Q4-1985</td>\n",
       "      <td>3944</td>\n",
       "      <td>1985-10-31</td>\n",
       "    </tr>\n",
       "    <tr>\n",
       "      <th>4</th>\n",
       "      <td>Q1-1986</td>\n",
       "      <td>4123</td>\n",
       "      <td>1986-01-31</td>\n",
       "    </tr>\n",
       "    <tr>\n",
       "      <th>5</th>\n",
       "      <td>Q2-1986</td>\n",
       "      <td>4522</td>\n",
       "      <td>1986-04-30</td>\n",
       "    </tr>\n",
       "    <tr>\n",
       "      <th>6</th>\n",
       "      <td>Q3-1986</td>\n",
       "      <td>4657</td>\n",
       "      <td>1986-07-31</td>\n",
       "    </tr>\n",
       "    <tr>\n",
       "      <th>7</th>\n",
       "      <td>Q4-1986</td>\n",
       "      <td>4030</td>\n",
       "      <td>1986-10-31</td>\n",
       "    </tr>\n",
       "    <tr>\n",
       "      <th>8</th>\n",
       "      <td>Q1-1987</td>\n",
       "      <td>4493</td>\n",
       "      <td>1987-01-31</td>\n",
       "    </tr>\n",
       "    <tr>\n",
       "      <th>9</th>\n",
       "      <td>Q2-1987</td>\n",
       "      <td>4806</td>\n",
       "      <td>1987-04-30</td>\n",
       "    </tr>\n",
       "    <tr>\n",
       "      <th>10</th>\n",
       "      <td>Q3-1987</td>\n",
       "      <td>4551</td>\n",
       "      <td>1987-07-31</td>\n",
       "    </tr>\n",
       "    <tr>\n",
       "      <th>11</th>\n",
       "      <td>Q4-1987</td>\n",
       "      <td>4485</td>\n",
       "      <td>1987-10-31</td>\n",
       "    </tr>\n",
       "    <tr>\n",
       "      <th>12</th>\n",
       "      <td>Q1-1988</td>\n",
       "      <td>4595</td>\n",
       "      <td>1988-01-31</td>\n",
       "    </tr>\n",
       "    <tr>\n",
       "      <th>13</th>\n",
       "      <td>Q2-1988</td>\n",
       "      <td>4799</td>\n",
       "      <td>1988-04-30</td>\n",
       "    </tr>\n",
       "    <tr>\n",
       "      <th>14</th>\n",
       "      <td>Q3-1988</td>\n",
       "      <td>4417</td>\n",
       "      <td>1988-07-31</td>\n",
       "    </tr>\n",
       "    <tr>\n",
       "      <th>15</th>\n",
       "      <td>Q4-1988</td>\n",
       "      <td>4258</td>\n",
       "      <td>1988-10-31</td>\n",
       "    </tr>\n",
       "    <tr>\n",
       "      <th>16</th>\n",
       "      <td>Q1-1989</td>\n",
       "      <td>4245</td>\n",
       "      <td>1989-01-31</td>\n",
       "    </tr>\n",
       "    <tr>\n",
       "      <th>17</th>\n",
       "      <td>Q2-1989</td>\n",
       "      <td>4900</td>\n",
       "      <td>1989-04-30</td>\n",
       "    </tr>\n",
       "    <tr>\n",
       "      <th>18</th>\n",
       "      <td>Q3-1989</td>\n",
       "      <td>4585</td>\n",
       "      <td>1989-07-31</td>\n",
       "    </tr>\n",
       "    <tr>\n",
       "      <th>19</th>\n",
       "      <td>Q4-1989</td>\n",
       "      <td>4533</td>\n",
       "      <td>1989-10-31</td>\n",
       "    </tr>\n",
       "  </tbody>\n",
       "</table>\n",
       "</div>"
      ],
      "text/plain": [
       "    Quarter  Shipments        day\n",
       "0   Q1-1985       4009 1985-01-31\n",
       "1   Q2-1985       4321 1985-04-30\n",
       "2   Q3-1985       4224 1985-07-31\n",
       "3   Q4-1985       3944 1985-10-31\n",
       "4   Q1-1986       4123 1986-01-31\n",
       "5   Q2-1986       4522 1986-04-30\n",
       "6   Q3-1986       4657 1986-07-31\n",
       "7   Q4-1986       4030 1986-10-31\n",
       "8   Q1-1987       4493 1987-01-31\n",
       "9   Q2-1987       4806 1987-04-30\n",
       "10  Q3-1987       4551 1987-07-31\n",
       "11  Q4-1987       4485 1987-10-31\n",
       "12  Q1-1988       4595 1988-01-31\n",
       "13  Q2-1988       4799 1988-04-30\n",
       "14  Q3-1988       4417 1988-07-31\n",
       "15  Q4-1988       4258 1988-10-31\n",
       "16  Q1-1989       4245 1989-01-31\n",
       "17  Q2-1989       4900 1989-04-30\n",
       "18  Q3-1989       4585 1989-07-31\n",
       "19  Q4-1989       4533 1989-10-31"
      ]
     },
     "execution_count": 40,
     "metadata": {},
     "output_type": "execute_result"
    }
   ],
   "source": [
    "As"
   ]
  },
  {
   "cell_type": "code",
   "execution_count": 28,
   "id": "580d3795",
   "metadata": {},
   "outputs": [
    {
     "data": {
      "image/png": "[encoded data removed]",
      "text/plain": [
       "<Figure size 432x288 with 1 Axes>"
      ]
     },
     "metadata": {
      "needs_background": "light"
     },
     "output_type": "display_data"
    }
   ],
   "source": [
    "# convert dataframe column to series (name is used to label the data)\n",
    "ass = pd.Series(As.Shipments.values, index=As.day, name='Shipments')\n",
    "\n",
    "# define the time series frequency\n",
    "ass.index = pd.DatetimeIndex(ass.index, freq=ass.index.inferred_freq)\n",
    "\n",
    "ax = ass.plot()\n",
    "ax.set_xlabel('day')\n",
    "ax.set_ylabel('Shipments')\n",
    "_ = ax.set_ylim(3900, 5000) \n",
    "plt.show()"
   ]
  },
  {
   "cell_type": "markdown",
   "id": "8fc7c9d5",
   "metadata": {},
   "source": [
    "### a"
   ]
  },
  {
   "cell_type": "markdown",
   "id": "f3ad87fc",
   "metadata": {},
   "source": [
    "홀트 윈터 지수평활법"
   ]
  },
  {
   "cell_type": "markdown",
   "id": "488ac017",
   "metadata": {},
   "source": [
    "### b"
   ]
  },
  {
   "cell_type": "code",
   "execution_count": 29,
   "id": "1b89adf0",
   "metadata": {},
   "outputs": [],
   "source": [
    "nValid = 4\n",
    "nTrain = len(ass) - nValid\n",
    "\n",
    "train_ts = ass[:nTrain]\n",
    "valid_ts = ass[nTrain:]"
   ]
  },
  {
   "cell_type": "code",
   "execution_count": 30,
   "id": "bc971582",
   "metadata": {},
   "outputs": [],
   "source": [
    "ma_trailing = train_ts.rolling(4).mean()\n",
    "ma_trailing = pd.Series(ma_trailing[:-1].values, index=ma_trailing.index[1:])"
   ]
  },
  {
   "cell_type": "code",
   "execution_count": 36,
   "id": "e6e3ec05",
   "metadata": {},
   "outputs": [
    {
     "data": {
      "image/png": "[encoded data removed]",
      "text/plain": [
       "<Figure size 576x504 with 1 Axes>"
      ]
     },
     "metadata": {
      "needs_background": "light"
     },
     "output_type": "display_data"
    }
   ],
   "source": [
    "fig, ax = plt.subplots(figsize=(8, 7))\n",
    "ax = ass.plot(ax=ax, color='black', linewidth=0.25)\n",
    "\n",
    "ma_trailing.plot(ax=ax, style='--', linewidth=2)\n",
    "ax.set_xlabel('day')\n",
    "ax.set_ylabel('shipments')\n",
    "ax.legend(['shipments', 'Trailing Moving Average'])\n",
    "\n",
    "plt.show()"
   ]
  },
  {
   "cell_type": "markdown",
   "id": "70db52ba",
   "metadata": {},
   "source": [
    "#### 1"
   ]
  },
  {
   "cell_type": "markdown",
   "id": "c88d7b7e",
   "metadata": {},
   "source": [
    "증가하는 추세"
   ]
  },
  {
   "cell_type": "markdown",
   "id": "e2196f9d",
   "metadata": {},
   "source": [
    "#### 2"
   ]
  },
  {
   "cell_type": "code",
   "execution_count": 38,
   "id": "a9a1ac67",
   "metadata": {},
   "outputs": [
    {
     "data": {
      "text/html": [
       "<div>\n",
       "<style scoped>\n",
       "    .dataframe tbody tr th:only-of-type {\n",
       "        vertical-align: middle;\n",
       "    }\n",
       "\n",
       "    .dataframe tbody tr th {\n",
       "        vertical-align: top;\n",
       "    }\n",
       "\n",
       "    .dataframe thead th {\n",
       "        text-align: right;\n",
       "    }\n",
       "</style>\n",
       "<table border=\"1\" class=\"dataframe\">\n",
       "  <thead>\n",
       "    <tr style=\"text-align: right;\">\n",
       "      <th></th>\n",
       "      <th>Quarter</th>\n",
       "      <th>Shipments</th>\n",
       "      <th>day</th>\n",
       "    </tr>\n",
       "  </thead>\n",
       "  <tbody>\n",
       "    <tr>\n",
       "      <th>16</th>\n",
       "      <td>Q1-1989</td>\n",
       "      <td>4245</td>\n",
       "      <td>1989-01-31</td>\n",
       "    </tr>\n",
       "    <tr>\n",
       "      <th>17</th>\n",
       "      <td>Q2-1989</td>\n",
       "      <td>4900</td>\n",
       "      <td>1989-04-30</td>\n",
       "    </tr>\n",
       "    <tr>\n",
       "      <th>18</th>\n",
       "      <td>Q3-1989</td>\n",
       "      <td>4585</td>\n",
       "      <td>1989-07-31</td>\n",
       "    </tr>\n",
       "    <tr>\n",
       "      <th>19</th>\n",
       "      <td>Q4-1989</td>\n",
       "      <td>4533</td>\n",
       "      <td>1989-10-31</td>\n",
       "    </tr>\n",
       "  </tbody>\n",
       "</table>\n",
       "</div>"
      ],
      "text/plain": [
       "    Quarter  Shipments        day\n",
       "16  Q1-1989       4245 1989-01-31\n",
       "17  Q2-1989       4900 1989-04-30\n",
       "18  Q3-1989       4585 1989-07-31\n",
       "19  Q4-1989       4533 1989-10-31"
      ]
     },
     "execution_count": 38,
     "metadata": {},
     "output_type": "execute_result"
    }
   ],
   "source": [
    "As.iloc[16:]"
   ]
  },
  {
   "cell_type": "code",
   "execution_count": 39,
   "id": "75751067",
   "metadata": {},
   "outputs": [
    {
     "data": {
      "text/plain": [
       "4565.75"
      ]
     },
     "execution_count": 39,
     "metadata": {},
     "output_type": "execute_result"
    }
   ],
   "source": [
    "sum_ship=4245+4900+4585+4533\n",
    "sum_ship/4"
   ]
  },
  {
   "cell_type": "markdown",
   "id": "2a07490a",
   "metadata": {},
   "source": [
    "#### 3"
   ]
  },
  {
   "cell_type": "code",
   "execution_count": null,
   "id": "61acf376",
   "metadata": {},
   "outputs": [],
   "source": []
  },
  {
   "cell_type": "markdown",
   "id": "c7d8a572",
   "metadata": {},
   "source": [
    "#### 4"
   ]
  },
  {
   "cell_type": "markdown",
   "id": "c6fd09bb",
   "metadata": {},
   "source": [
    "과대추정 ?"
   ]
  },
  {
   "cell_type": "markdown",
   "id": "834c193e",
   "metadata": {},
   "source": [
    "#### 5"
   ]
  },
  {
   "cell_type": "markdown",
   "id": "e03f2f20",
   "metadata": {},
   "source": [
    "윈도우가 시계열의 어떤 부분에 위치하는 지에 따라 유의해야 한다."
   ]
  },
  {
   "cell_type": "markdown",
   "id": "af206dfe",
   "metadata": {},
   "source": [
    "### c"
   ]
  },
  {
   "cell_type": "code",
   "execution_count": null,
   "id": "52c42b4e",
   "metadata": {},
   "outputs": [],
   "source": []
  },
  {
   "cell_type": "code",
   "execution_count": null,
   "id": "c9eb8dd1",
   "metadata": {},
   "outputs": [],
   "source": []
  },
  {
   "cell_type": "markdown",
   "id": "413cead3",
   "metadata": {},
   "source": [
    "# 18.7 샴푸 판매량 예측"
   ]
  },
  {
   "cell_type": "markdown",
   "id": "c2e207cb",
   "metadata": {},
   "source": [
    "홀트 윈터 지수평활법\n",
    "\n",
    "추세와 변동 모두 있음"
   ]
  },
  {
   "cell_type": "markdown",
   "id": "56a0b3f1",
   "metadata": {},
   "source": [
    "# 18.8 천연가스 판매량 "
   ]
  },
  {
   "cell_type": "markdown",
   "id": "d1247e88",
   "metadata": {},
   "source": [
    "# 18.9 호주 와인의 판매량 "
   ]
  },
  {
   "cell_type": "code",
   "execution_count": null,
   "id": "e975b70c",
   "metadata": {},
   "outputs": [],
   "source": []
  },
  {
   "cell_type": "code",
   "execution_count": null,
   "id": "fddb8cb5",
   "metadata": {},
   "outputs": [],
   "source": []
  },
  {
   "cell_type": "code",
   "execution_count": null,
   "id": "23443eb9",
   "metadata": {},
   "outputs": [],
   "source": []
  }
 ],
 "metadata": {
  "kernelspec": {
   "display_name": "Python 3 (ipykernel)",
   "language": "python",
   "name": "python3"
  },
  "language_info": {
   "codemirror_mode": {
    "name": "ipython",
    "version": 3
   },
   "file_extension": ".py",
   "mimetype": "text/x-python",
   "name": "python",
   "nbconvert_exporter": "python",
   "pygments_lexer": "ipython3",
   "version": "3.9.12"
  }
 },
 "nbformat": 4,
 "nbformat_minor": 5
}
