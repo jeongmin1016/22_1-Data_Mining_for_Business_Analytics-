{
 "cells": [
  {
   "cell_type": "code",
   "execution_count": 1,
   "id": "224f0979",
   "metadata": {},
   "outputs": [],
   "source": [
    "%matplotlib inline\n",
    "from pathlib import Path\n",
    "\n",
    "import pandas as pd\n",
    "from sklearn.model_selection import train_test_split\n",
    "from sklearn.linear_model import LinearRegression, Lasso, Ridge, LassoCV, BayesianRidge\n",
    "import statsmodels.formula.api as sm\n",
    "import matplotlib.pylab as plt\n",
    "\n",
    "from dmba import regressionSummary, exhaustive_search\n",
    "from dmba import backward_elimination, forward_selection, stepwise_selection\n",
    "from dmba import adjusted_r2_score, AIC_score, BIC_score"
   ]
  },
  {
   "cell_type": "code",
   "execution_count": 41,
   "id": "c7f4d995",
   "metadata": {},
   "outputs": [],
   "source": [
    "toyota = pd.read_csv('ToyotaCorolla.csv')"
   ]
  },
  {
   "cell_type": "code",
   "execution_count": 42,
   "id": "5451d7df",
   "metadata": {},
   "outputs": [],
   "source": [
    "toyota = toyota.copy()\n",
    "toyota = pd.get_dummies(toyota, columns=[\"Fuel_Type\"], prefix_sep='_', drop_first = True) \n",
    "## Fuel_Type object라 가변수로 변환 뒤 적용"
   ]
  },
  {
   "cell_type": "code",
   "execution_count": 43,
   "id": "17d4bbb1",
   "metadata": {},
   "outputs": [
    {
     "data": {
      "text/plain": [
       "Index(['Id', 'Model', 'Price', 'Age_08_04', 'Mfg_Month', 'Mfg_Year', 'KM',\n",
       "       'HP', 'Met_Color', 'Color', 'Automatic', 'CC', 'Doors', 'Cylinders',\n",
       "       'Gears', 'Quarterly_Tax', 'Weight', 'Mfr_Guarantee', 'BOVAG_Guarantee',\n",
       "       'Guarantee_Period', 'ABS', 'Airbag_1', 'Airbag_2', 'Airco',\n",
       "       'Automatic_airco', 'Boardcomputer', 'CD_Player', 'Central_Lock',\n",
       "       'Powered_Windows', 'Power_Steering', 'Radio', 'Mistlamps',\n",
       "       'Sport_Model', 'Backseat_Divider', 'Metallic_Rim', 'Radio_cassette',\n",
       "       'Parking_Assistant', 'Tow_Bar', 'Fuel_Type_Diesel', 'Fuel_Type_Petrol'],\n",
       "      dtype='object')"
      ]
     },
     "execution_count": 43,
     "metadata": {},
     "output_type": "execute_result"
    }
   ],
   "source": [
    "toyota.columns"
   ]
  },
  {
   "cell_type": "code",
   "execution_count": 44,
   "id": "ee869708",
   "metadata": {},
   "outputs": [],
   "source": [
    "predictors = ['Age_08_04',  'KM', 'Fuel_Type_Diesel', 'Fuel_Type_Petrol', 'HP', 'Automatic', 'Doors',\n",
    "             'Quarterly_Tax', 'Mfr_Guarantee', 'Guarantee_Period', 'Airco', 'Automatic_airco', 'CD_Player', \n",
    "              'Powered_Windows', 'Sport_Model', 'Tow_Bar']\n",
    "outcome = \"Price\"\n",
    "\n",
    "X = pd.get_dummies(toyota[predictors], drop_first=True)\n",
    "y = toyota[outcome]"
   ]
  },
  {
   "cell_type": "code",
   "execution_count": 37,
   "id": "f0dd9c26",
   "metadata": {},
   "outputs": [],
   "source": [
    "train_X, vaild_X, train_y, vaild_y = train_test_split(X,y, train_size = 0.5, random_state = 1)"
   ]
  },
  {
   "cell_type": "code",
   "execution_count": 38,
   "id": "4a83933d",
   "metadata": {},
   "outputs": [],
   "source": [
    "## 학습용 50% 검증용 30% 평가용 20%\n",
    "trainData = toyota.sample(frac=0.5, random_state=1)\n",
    "validData = toyota.drop(trainData.index).sample(frac=0.6, random_state=1)\n",
    "testData = toyota.drop(trainData.index).drop(validData.index) "
   ]
  },
  {
   "cell_type": "code",
   "execution_count": 40,
   "id": "60c5cd5e",
   "metadata": {},
   "outputs": [
    {
     "name": "stdout",
     "output_type": "stream",
     "text": [
      "Intercept 8998.528552931206\n",
      "           Preditior  coefficient\n",
      "0          Age_08_04  -112.139772\n",
      "1                 KM    -0.019437\n",
      "2   Fuel_Type_Diesel  2163.735433\n",
      "3   Fuel_Type_Petrol  1968.284558\n",
      "4                 HP    39.474311\n",
      "5          Automatic   583.265499\n",
      "6              Doors   214.445095\n",
      "7      Quarterly_Tax    17.192451\n",
      "8      Mfr_Guarantee   129.110109\n",
      "9   Guarantee_Period    77.305623\n",
      "10             Airco    45.831357\n",
      "11   Automatic_airco  2956.041165\n",
      "12         CD_Player   276.496513\n",
      "13   Powered_Windows   521.606032\n",
      "14       Sport_Model   517.807321\n",
      "15           Tow_Bar  -267.478660\n"
     ]
    }
   ],
   "source": [
    "car_lm = LinearRegression()\n",
    "car_lm.fit(train_X, train_y)\n",
    "\n",
    "print(\"Intercept\", car_lm.intercept_)\n",
    "print(pd.DataFrame({'Preditior': X.columns, 'coefficient': car_lm.coef_})) # 계수 print"
   ]
  },
  {
   "cell_type": "code",
   "execution_count": null,
   "id": "a3a2fd4f",
   "metadata": {},
   "outputs": [],
   "source": [
    "##a 가격 예측하는 데 있어서 가장 중요한 3~4개의 자동차 속성들은 무엇인가"
   ]
  },
  {
   "cell_type": "code",
   "execution_count": 47,
   "id": "a80552e4",
   "metadata": {},
   "outputs": [
    {
     "name": "stdout",
     "output_type": "stream",
     "text": [
      "intercept :  8285.39834941601\n",
      "          Predictors  Coefficient\n",
      "0          Age_08_04  -111.220280\n",
      "1                 KM    -0.016265\n",
      "2   Fuel_Type_Diesel  2313.076450\n",
      "3   Fuel_Type_Petrol  3145.575719\n",
      "4                 HP    32.069859\n",
      "5          Automatic   536.593712\n",
      "6              Doors   130.936305\n",
      "7      Quarterly_Tax    21.689746\n",
      "8      Mfr_Guarantee   216.361361\n",
      "9   Guarantee_Period    91.314854\n",
      "10             Airco    62.256902\n",
      "11   Automatic_airco  3184.704838\n",
      "12         CD_Player   247.676882\n",
      "13   Powered_Windows   492.718042\n",
      "14       Sport_Model   349.905657\n",
      "15           Tow_Bar  -180.733479\n"
     ]
    }
   ],
   "source": [
    "# train:valid:test = 6:2;2로 나눔\n",
    "train_X, test_X, train_y, test_y = train_test_split(X, y, test_size=0.2, random_state=1)\n",
    "# X랑 y를 train: test=8:2로 나눔\n",
    "train_X, valid_X, train_y, valid_y = train_test_split(train_X, train_y, test_size=0.25, random_state=1)\n",
    "# 8에 해당하는 train을 또 train:valid=3:1 (0.75:0.25)로 나눠지고 이후 6:2로 나눠지게 됨\n",
    "\n",
    "model=LinearRegression()\n",
    "model.fit(train_X, train_y)\n",
    "\n",
    "print(\"intercept : \", model.intercept_)\n",
    "print(pd.DataFrame({\"Predictors\": X.columns, \"Coefficient\": model.coef_}))"
   ]
  },
  {
   "cell_type": "code",
   "execution_count": 48,
   "id": "9760f0ca",
   "metadata": {},
   "outputs": [
    {
     "name": "stdout",
     "output_type": "stream",
     "text": [
      "     n     r2adj           AIC  Age_08_04  Airco  Automatic  Automatic_airco  CD_Player  Doors  \\\n",
      "0    1  0.761855  15312.342479       True  False      False            False      False  False   \n",
      "1    2  0.817745  15083.046574       True  False      False             True      False  False   \n",
      "2    3  0.841174  14965.571840       True  False      False             True      False  False   \n",
      "3    4  0.850247  14915.917776       True  False      False             True      False  False   \n",
      "4    5  0.868412  14805.576124       True  False      False             True      False  False   \n",
      "5    6  0.873589  14772.010618       True  False      False             True      False  False   \n",
      "6    7  0.876484  14753.049493       True  False      False             True      False  False   \n",
      "7    8  0.880403  14726.283911       True  False      False             True      False  False   \n",
      "8    9  0.883718  14703.069300       True  False      False             True      False  False   \n",
      "9   10  0.885014  14694.403536       True  False      False             True      False  False   \n",
      "10  11  0.886010  14687.902664       True  False       True             True      False  False   \n",
      "11  12  0.886930  14681.910097       True  False       True             True      False   True   \n",
      "12  13  0.887719  14676.864598       True  False       True             True      False   True   \n",
      "13  14  0.888168  14674.398096       True  False       True             True       True   True   \n",
      "14  15  0.888502  14672.803324       True  False       True             True       True   True   \n",
      "15  16  0.888416  14674.451251       True   True       True             True       True   True   \n",
      "\n",
      "    Fuel_Type_Diesel  Fuel_Type_Petrol  Guarantee_Period     HP     KM  Mfr_Guarantee  \\\n",
      "0              False             False             False  False  False          False   \n",
      "1              False             False             False  False  False          False   \n",
      "2              False             False             False   True  False          False   \n",
      "3              False             False             False   True   True          False   \n",
      "4              False             False             False   True   True          False   \n",
      "5              False             False             False   True   True          False   \n",
      "6              False             False              True   True   True          False   \n",
      "7              False              True              True   True   True          False   \n",
      "8               True              True              True   True   True          False   \n",
      "9               True              True              True   True   True          False   \n",
      "10              True              True              True   True   True          False   \n",
      "11              True              True              True   True   True          False   \n",
      "12              True              True              True   True   True           True   \n",
      "13              True              True              True   True   True           True   \n",
      "14              True              True              True   True   True           True   \n",
      "15              True              True              True   True   True           True   \n",
      "\n",
      "    Powered_Windows  Quarterly_Tax  Sport_Model  Tow_Bar  \n",
      "0             False          False        False    False  \n",
      "1             False          False        False    False  \n",
      "2             False          False        False    False  \n",
      "3             False          False        False    False  \n",
      "4             False           True        False    False  \n",
      "5              True           True        False    False  \n",
      "6              True           True        False    False  \n",
      "7              True           True        False    False  \n",
      "8              True           True        False    False  \n",
      "9              True           True         True    False  \n",
      "10             True           True         True    False  \n",
      "11             True           True         True    False  \n",
      "12             True           True         True    False  \n",
      "13             True           True         True    False  \n",
      "14             True           True         True     True  \n",
      "15             True           True         True     True  \n"
     ]
    }
   ],
   "source": [
    "## 가장 중요한 변수를 찾기위해 전역탐색 이용\n",
    "def train_model(variables):\n",
    "    model = LinearRegression()\n",
    "    model.fit(train_X[variables], train_y)\n",
    "    return model\n",
    "\n",
    "def score_model(model, variables):\n",
    "    pred_y = model.predict(train_X[variables])\n",
    "    # we negate as score is optimized to be as low as possible\n",
    "    return -adjusted_r2_score(train_y, pred_y, model)\n",
    "\n",
    "allVariables = train_X.columns\n",
    "results = exhaustive_search(allVariables, train_model, score_model)\n",
    "\n",
    "data = []\n",
    "for result in results:\n",
    "    model = result['model']\n",
    "    variables = result['variables']\n",
    "    AIC = AIC_score(train_y, model.predict(train_X[variables]), model)\n",
    "    \n",
    "    d = {'n': result['n'], 'r2adj': -result['score'], 'AIC': AIC}\n",
    "    d.update({var: var in result['variables'] for var in allVariables})\n",
    "    data.append(d)\n",
    "pd.set_option('display.width', 100)\n",
    "print(pd.DataFrame(data, columns=('n', 'r2adj', 'AIC') + tuple(sorted(allVariables))))\n",
    "pd.reset_option('display.width')"
   ]
  },
  {
   "cell_type": "markdown",
   "id": "af273f87",
   "metadata": {},
   "source": [
    "첫번째 시행했을 때 Age_08_04 변수가 가장 영향이 크고 다음으로 Automatic_airco이며 세번째로는 HP 변수로 가장 영향을 많이 끼치는 변수라 볼 수 있다."
   ]
  },
  {
   "cell_type": "code",
   "execution_count": 50,
   "id": "976b9501",
   "metadata": {},
   "outputs": [],
   "source": [
    "##b 유용하다고 생각하는 평가지표를 사용하여, 가격 예측 모델의 성능을 평가"
   ]
  },
  {
   "cell_type": "code",
   "execution_count": 51,
   "id": "0f2689d7",
   "metadata": {},
   "outputs": [],
   "source": [
    "pred_y = model.predict(valid_X)"
   ]
  },
  {
   "cell_type": "code",
   "execution_count": 53,
   "id": "c3ceaba7",
   "metadata": {},
   "outputs": [
    {
     "name": "stdout",
     "output_type": "stream",
     "text": [
      "adjusted r2 :  0.8624440914674278\n",
      "AIC :  4961.532350281473\n",
      "BIC :  5027.4030301651455\n"
     ]
    }
   ],
   "source": [
    "print('adjusted r2 : ', adjusted_r2_score(valid_y, pred_y, model))\n",
    "print('AIC : ', AIC_score(valid_y, pred_y, model))\n",
    "print('BIC : ', BIC_score(valid_y, pred_y, model))"
   ]
  },
  {
   "cell_type": "markdown",
   "id": "efbce81e",
   "metadata": {},
   "source": []
  },
  {
   "cell_type": "markdown",
   "id": "2c92062c",
   "metadata": {},
   "source": []
  },
  {
   "cell_type": "code",
   "execution_count": null,
   "id": "ed2bd235",
   "metadata": {},
   "outputs": [],
   "source": []
  },
  {
   "cell_type": "code",
   "execution_count": null,
   "id": "8328e347",
   "metadata": {},
   "outputs": [],
   "source": []
  },
  {
   "cell_type": "code",
   "execution_count": null,
   "id": "b848fc15",
   "metadata": {},
   "outputs": [],
   "source": []
  }
 ],
 "metadata": {
  "kernelspec": {
   "display_name": "Python 3 (ipykernel)",
   "language": "python",
   "name": "python3"
  },
  "language_info": {
   "codemirror_mode": {
    "name": "ipython",
    "version": 3
   },
   "file_extension": ".py",
   "mimetype": "text/x-python",
   "name": "python",
   "nbconvert_exporter": "python",
   "pygments_lexer": "ipython3",
   "version": "3.9.7"
  }
 },
 "nbformat": 4,
 "nbformat_minor": 5
}
