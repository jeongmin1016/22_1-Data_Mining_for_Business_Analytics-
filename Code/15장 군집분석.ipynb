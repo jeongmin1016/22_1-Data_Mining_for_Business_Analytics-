{
 "cells": [
  {
   "cell_type": "code",
   "execution_count": 174,
   "id": "bc1f94f3",
   "metadata": {},
   "outputs": [],
   "source": [
    "%matplotlib inline\n",
    "\n",
    "from pathlib import Path\n",
    "\n",
    "import pandas as pd\n",
    "from sklearn import preprocessing\n",
    "from sklearn.metrics import pairwise\n",
    "from scipy.cluster.hierarchy import dendrogram, linkage, fcluster\n",
    "from sklearn.cluster import KMeans\n",
    "import matplotlib.pylab as plt\n",
    "import seaborn as sns\n",
    "from pandas.plotting import parallel_coordinates"
   ]
  },
  {
   "cell_type": "markdown",
   "id": "df744fd0",
   "metadata": {},
   "source": [
    "# 15.1 대학순위"
   ]
  },
  {
   "cell_type": "code",
   "execution_count": 258,
   "id": "a249cee3",
   "metadata": {},
   "outputs": [],
   "source": [
    "# 유사한 레코드로부터 결측값 추정\n",
    "# 결측값 없는 레코드 군집화 -> 결측값이 있는 레코드에 가장 가까운 군집 찾기"
   ]
  },
  {
   "cell_type": "markdown",
   "id": "c64eac9d",
   "metadata": {},
   "source": [
    "### a"
   ]
  },
  {
   "cell_type": "code",
   "execution_count": 279,
   "id": "11145b89",
   "metadata": {},
   "outputs": [],
   "source": [
    "univ = pd.read_csv('Universities.csv')\n",
    "univ.set_index('College Name', inplace=True)"
   ]
  },
  {
   "cell_type": "code",
   "execution_count": 274,
   "id": "6c6e93b7",
   "metadata": {},
   "outputs": [
    {
     "data": {
      "text/html": [
       "<div>\n",
       "<style scoped>\n",
       "    .dataframe tbody tr th:only-of-type {\n",
       "        vertical-align: middle;\n",
       "    }\n",
       "\n",
       "    .dataframe tbody tr th {\n",
       "        vertical-align: top;\n",
       "    }\n",
       "\n",
       "    .dataframe thead th {\n",
       "        text-align: right;\n",
       "    }\n",
       "</style>\n",
       "<table border=\"1\" class=\"dataframe\">\n",
       "  <thead>\n",
       "    <tr style=\"text-align: right;\">\n",
       "      <th></th>\n",
       "      <th>State</th>\n",
       "      <th>Public (1)/ Private (2)</th>\n",
       "      <th># appli. rec'd</th>\n",
       "      <th># appl. accepted</th>\n",
       "      <th># new stud. enrolled</th>\n",
       "      <th>% new stud. from top 10%</th>\n",
       "      <th>% new stud. from top 25%</th>\n",
       "      <th># FT undergrad</th>\n",
       "      <th># PT undergrad</th>\n",
       "      <th>in-state tuition</th>\n",
       "      <th>out-of-state tuition</th>\n",
       "      <th>room</th>\n",
       "      <th>board</th>\n",
       "      <th>add. fees</th>\n",
       "      <th>estim. book costs</th>\n",
       "      <th>estim. personal $</th>\n",
       "      <th>% fac. w/PHD</th>\n",
       "      <th>stud./fac. ratio</th>\n",
       "      <th>Graduation rate</th>\n",
       "    </tr>\n",
       "    <tr>\n",
       "      <th>College Name</th>\n",
       "      <th></th>\n",
       "      <th></th>\n",
       "      <th></th>\n",
       "      <th></th>\n",
       "      <th></th>\n",
       "      <th></th>\n",
       "      <th></th>\n",
       "      <th></th>\n",
       "      <th></th>\n",
       "      <th></th>\n",
       "      <th></th>\n",
       "      <th></th>\n",
       "      <th></th>\n",
       "      <th></th>\n",
       "      <th></th>\n",
       "      <th></th>\n",
       "      <th></th>\n",
       "      <th></th>\n",
       "      <th></th>\n",
       "    </tr>\n",
       "  </thead>\n",
       "  <tbody>\n",
       "    <tr>\n",
       "      <th>Alaska Pacific University</th>\n",
       "      <td>AK</td>\n",
       "      <td>2</td>\n",
       "      <td>193.0</td>\n",
       "      <td>146.0</td>\n",
       "      <td>55.0</td>\n",
       "      <td>16.0</td>\n",
       "      <td>44.0</td>\n",
       "      <td>249.0</td>\n",
       "      <td>869.0</td>\n",
       "      <td>7560.0</td>\n",
       "      <td>7560.0</td>\n",
       "      <td>1620.0</td>\n",
       "      <td>2500.0</td>\n",
       "      <td>130.0</td>\n",
       "      <td>800.0</td>\n",
       "      <td>1500.0</td>\n",
       "      <td>76.0</td>\n",
       "      <td>11.9</td>\n",
       "      <td>15.0</td>\n",
       "    </tr>\n",
       "    <tr>\n",
       "      <th>University of Alaska Southeast</th>\n",
       "      <td>AK</td>\n",
       "      <td>1</td>\n",
       "      <td>146.0</td>\n",
       "      <td>117.0</td>\n",
       "      <td>89.0</td>\n",
       "      <td>4.0</td>\n",
       "      <td>24.0</td>\n",
       "      <td>492.0</td>\n",
       "      <td>1849.0</td>\n",
       "      <td>1742.0</td>\n",
       "      <td>5226.0</td>\n",
       "      <td>2514.0</td>\n",
       "      <td>2250.0</td>\n",
       "      <td>34.0</td>\n",
       "      <td>500.0</td>\n",
       "      <td>1162.0</td>\n",
       "      <td>39.0</td>\n",
       "      <td>9.5</td>\n",
       "      <td>39.0</td>\n",
       "    </tr>\n",
       "    <tr>\n",
       "      <th>Birmingham-Southern College</th>\n",
       "      <td>AL</td>\n",
       "      <td>2</td>\n",
       "      <td>805.0</td>\n",
       "      <td>588.0</td>\n",
       "      <td>287.0</td>\n",
       "      <td>67.0</td>\n",
       "      <td>88.0</td>\n",
       "      <td>1376.0</td>\n",
       "      <td>207.0</td>\n",
       "      <td>11660.0</td>\n",
       "      <td>11660.0</td>\n",
       "      <td>2050.0</td>\n",
       "      <td>2430.0</td>\n",
       "      <td>120.0</td>\n",
       "      <td>400.0</td>\n",
       "      <td>900.0</td>\n",
       "      <td>74.0</td>\n",
       "      <td>14.0</td>\n",
       "      <td>72.0</td>\n",
       "    </tr>\n",
       "  </tbody>\n",
       "</table>\n",
       "</div>"
      ],
      "text/plain": [
       "                               State  Public (1)/ Private (2)  # appli. rec'd  \\\n",
       "College Name                                                                    \n",
       "Alaska Pacific University         AK                        2           193.0   \n",
       "University of Alaska Southeast    AK                        1           146.0   \n",
       "Birmingham-Southern College       AL                        2           805.0   \n",
       "\n",
       "                                # appl. accepted  # new stud. enrolled  \\\n",
       "College Name                                                             \n",
       "Alaska Pacific University                  146.0                  55.0   \n",
       "University of Alaska Southeast             117.0                  89.0   \n",
       "Birmingham-Southern College                588.0                 287.0   \n",
       "\n",
       "                                % new stud. from top 10%  \\\n",
       "College Name                                               \n",
       "Alaska Pacific University                           16.0   \n",
       "University of Alaska Southeast                       4.0   \n",
       "Birmingham-Southern College                         67.0   \n",
       "\n",
       "                                % new stud. from top 25%  # FT undergrad  \\\n",
       "College Name                                                               \n",
       "Alaska Pacific University                           44.0           249.0   \n",
       "University of Alaska Southeast                      24.0           492.0   \n",
       "Birmingham-Southern College                         88.0          1376.0   \n",
       "\n",
       "                                # PT undergrad  in-state tuition  \\\n",
       "College Name                                                       \n",
       "Alaska Pacific University                869.0            7560.0   \n",
       "University of Alaska Southeast          1849.0            1742.0   \n",
       "Birmingham-Southern College              207.0           11660.0   \n",
       "\n",
       "                                out-of-state tuition    room   board  \\\n",
       "College Name                                                           \n",
       "Alaska Pacific University                     7560.0  1620.0  2500.0   \n",
       "University of Alaska Southeast                5226.0  2514.0  2250.0   \n",
       "Birmingham-Southern College                  11660.0  2050.0  2430.0   \n",
       "\n",
       "                                add. fees  estim. book costs  \\\n",
       "College Name                                                   \n",
       "Alaska Pacific University           130.0              800.0   \n",
       "University of Alaska Southeast       34.0              500.0   \n",
       "Birmingham-Southern College         120.0              400.0   \n",
       "\n",
       "                                estim. personal $  % fac. w/PHD  \\\n",
       "College Name                                                      \n",
       "Alaska Pacific University                  1500.0          76.0   \n",
       "University of Alaska Southeast             1162.0          39.0   \n",
       "Birmingham-Southern College                 900.0          74.0   \n",
       "\n",
       "                                stud./fac. ratio  Graduation rate  \n",
       "College Name                                                       \n",
       "Alaska Pacific University                   11.9             15.0  \n",
       "University of Alaska Southeast               9.5             39.0  \n",
       "Birmingham-Southern College                 14.0             72.0  "
      ]
     },
     "execution_count": 274,
     "metadata": {},
     "output_type": "execute_result"
    }
   ],
   "source": [
    "univ_d=univ.dropna()\n",
    "univ_d.head(3)"
   ]
  },
  {
   "cell_type": "markdown",
   "id": "00331df3",
   "metadata": {},
   "source": [
    "### b"
   ]
  },
  {
   "cell_type": "code",
   "execution_count": 275,
   "id": "c5bc19b9",
   "metadata": {},
   "outputs": [],
   "source": [
    "# 완전연결법과 유클리드 거리 사용 -> 계층적 군집화 실행 \n",
    "# 변수 정규화 필요 \n",
    "# 몇 개의 군집이 합리적"
   ]
  },
  {
   "cell_type": "code",
   "execution_count": 276,
   "id": "698ab4b3",
   "metadata": {},
   "outputs": [
    {
     "data": {
      "text/plain": [
       "19"
      ]
     },
     "execution_count": 276,
     "metadata": {},
     "output_type": "execute_result"
    }
   ],
   "source": [
    "len(univ_d.columns)"
   ]
  },
  {
   "cell_type": "code",
   "execution_count": 263,
   "id": "40ec9291",
   "metadata": {},
   "outputs": [
    {
     "name": "stdout",
     "output_type": "stream",
     "text": [
      "<class 'pandas.core.frame.DataFrame'>\n",
      "Index: 471 entries, Alaska Pacific University to University of Wyoming\n",
      "Data columns (total 19 columns):\n",
      " #   Column                    Non-Null Count  Dtype  \n",
      "---  ------                    --------------  -----  \n",
      " 0   State                     471 non-null    object \n",
      " 1   Public (1)/ Private (2)   471 non-null    int64  \n",
      " 2   # appli. rec'd            471 non-null    float64\n",
      " 3   # appl. accepted          471 non-null    float64\n",
      " 4   # new stud. enrolled      471 non-null    float64\n",
      " 5   % new stud. from top 10%  471 non-null    float64\n",
      " 6   % new stud. from top 25%  471 non-null    float64\n",
      " 7   # FT undergrad            471 non-null    float64\n",
      " 8   # PT undergrad            471 non-null    float64\n",
      " 9   in-state tuition          471 non-null    float64\n",
      " 10  out-of-state tuition      471 non-null    float64\n",
      " 11  room                      471 non-null    float64\n",
      " 12  board                     471 non-null    float64\n",
      " 13  add. fees                 471 non-null    float64\n",
      " 14  estim. book costs         471 non-null    float64\n",
      " 15  estim. personal $         471 non-null    float64\n",
      " 16  % fac. w/PHD              471 non-null    float64\n",
      " 17  stud./fac. ratio          471 non-null    float64\n",
      " 18  Graduation rate           471 non-null    float64\n",
      "dtypes: float64(17), int64(1), object(1)\n",
      "memory usage: 73.6+ KB\n"
     ]
    }
   ],
   "source": [
    "univ_d.info() # state, public(1) / private(2)"
   ]
  },
  {
   "cell_type": "code",
   "execution_count": 264,
   "id": "ff7a3abd",
   "metadata": {},
   "outputs": [
    {
     "data": {
      "text/plain": [
       "17"
      ]
     },
     "execution_count": 264,
     "metadata": {},
     "output_type": "execute_result"
    }
   ],
   "source": [
    "univ_dd = univ_d.drop(columns=['State', 'Public (1)/ Private (2)'])\n",
    "len(univ_dd.columns)"
   ]
  },
  {
   "cell_type": "code",
   "execution_count": 178,
   "id": "1bf1aee1",
   "metadata": {},
   "outputs": [],
   "source": [
    "# scikit-learn uses population standard deviation - 정규화 (1)\n",
    "univ_norm = univ_dd.apply(preprocessing.scale, axis=0) # collegename을 inplace 해주지 않으면 에러 발생"
   ]
  },
  {
   "cell_type": "code",
   "execution_count": 179,
   "id": "0c5506fa",
   "metadata": {},
   "outputs": [],
   "source": [
    "# pandas uses sample standard deviation - 정규화 (2)\n",
    "univ_norm = (univ_dd - univ_dd.mean())/univ_dd.std()"
   ]
  },
  {
   "cell_type": "code",
   "execution_count": 180,
   "id": "63586553",
   "metadata": {},
   "outputs": [
    {
     "data": {
      "text/html": [
       "<div>\n",
       "<style scoped>\n",
       "    .dataframe tbody tr th:only-of-type {\n",
       "        vertical-align: middle;\n",
       "    }\n",
       "\n",
       "    .dataframe tbody tr th {\n",
       "        vertical-align: top;\n",
       "    }\n",
       "\n",
       "    .dataframe thead th {\n",
       "        text-align: right;\n",
       "    }\n",
       "</style>\n",
       "<table border=\"1\" class=\"dataframe\">\n",
       "  <thead>\n",
       "    <tr style=\"text-align: right;\">\n",
       "      <th>College Name</th>\n",
       "      <th>Alaska Pacific University</th>\n",
       "      <th>University of Alaska Southeast</th>\n",
       "      <th>Birmingham-Southern College</th>\n",
       "      <th>Huntingdon College</th>\n",
       "      <th>Talladega College</th>\n",
       "      <th>University of Alabama at Birmingham</th>\n",
       "      <th>Arkansas College (Lyon College)</th>\n",
       "      <th>Hendrix College</th>\n",
       "      <th>John Brown University</th>\n",
       "      <th>Harding University</th>\n",
       "      <th>...</th>\n",
       "      <th>Lawrence University</th>\n",
       "      <th>Ripon College</th>\n",
       "      <th>St. Norbert College</th>\n",
       "      <th>Viterbo College</th>\n",
       "      <th>University of Wisconsin-Stout</th>\n",
       "      <th>Univ. of Wisconsin at Eau Claire</th>\n",
       "      <th>Wisconsin Lutheran College</th>\n",
       "      <th>Alderson-Broaddus College</th>\n",
       "      <th>Marshall University</th>\n",
       "      <th>University of Wyoming</th>\n",
       "    </tr>\n",
       "    <tr>\n",
       "      <th>College Name</th>\n",
       "      <th></th>\n",
       "      <th></th>\n",
       "      <th></th>\n",
       "      <th></th>\n",
       "      <th></th>\n",
       "      <th></th>\n",
       "      <th></th>\n",
       "      <th></th>\n",
       "      <th></th>\n",
       "      <th></th>\n",
       "      <th></th>\n",
       "      <th></th>\n",
       "      <th></th>\n",
       "      <th></th>\n",
       "      <th></th>\n",
       "      <th></th>\n",
       "      <th></th>\n",
       "      <th></th>\n",
       "      <th></th>\n",
       "      <th></th>\n",
       "      <th></th>\n",
       "    </tr>\n",
       "  </thead>\n",
       "  <tbody>\n",
       "    <tr>\n",
       "      <th>Alaska Pacific University</th>\n",
       "      <td>0.000000</td>\n",
       "      <td>3.965173</td>\n",
       "      <td>5.608260</td>\n",
       "      <td>2.764006</td>\n",
       "      <td>3.681427</td>\n",
       "      <td>4.333964</td>\n",
       "      <td>4.275639</td>\n",
       "      <td>4.994746</td>\n",
       "      <td>4.301548</td>\n",
       "      <td>5.128989</td>\n",
       "      <td>...</td>\n",
       "      <td>5.541852</td>\n",
       "      <td>4.857836</td>\n",
       "      <td>5.272476</td>\n",
       "      <td>4.365792</td>\n",
       "      <td>5.578834</td>\n",
       "      <td>6.834955</td>\n",
       "      <td>3.525922</td>\n",
       "      <td>3.522044</td>\n",
       "      <td>4.483828</td>\n",
       "      <td>3.545882</td>\n",
       "    </tr>\n",
       "    <tr>\n",
       "      <th>University of Alaska Southeast</th>\n",
       "      <td>3.965173</td>\n",
       "      <td>0.000000</td>\n",
       "      <td>6.198812</td>\n",
       "      <td>3.310421</td>\n",
       "      <td>5.148365</td>\n",
       "      <td>5.410312</td>\n",
       "      <td>4.860824</td>\n",
       "      <td>5.820410</td>\n",
       "      <td>4.006527</td>\n",
       "      <td>5.890543</td>\n",
       "      <td>...</td>\n",
       "      <td>6.408917</td>\n",
       "      <td>5.386898</td>\n",
       "      <td>5.162330</td>\n",
       "      <td>3.728603</td>\n",
       "      <td>5.379143</td>\n",
       "      <td>6.695410</td>\n",
       "      <td>2.726693</td>\n",
       "      <td>3.485452</td>\n",
       "      <td>5.042048</td>\n",
       "      <td>4.668733</td>\n",
       "    </tr>\n",
       "    <tr>\n",
       "      <th>Birmingham-Southern College</th>\n",
       "      <td>5.608260</td>\n",
       "      <td>6.198812</td>\n",
       "      <td>0.000000</td>\n",
       "      <td>3.849315</td>\n",
       "      <td>5.595936</td>\n",
       "      <td>6.989681</td>\n",
       "      <td>2.626237</td>\n",
       "      <td>2.667381</td>\n",
       "      <td>3.503319</td>\n",
       "      <td>4.377141</td>\n",
       "      <td>...</td>\n",
       "      <td>2.493972</td>\n",
       "      <td>3.370323</td>\n",
       "      <td>2.867435</td>\n",
       "      <td>4.615102</td>\n",
       "      <td>5.944608</td>\n",
       "      <td>6.301875</td>\n",
       "      <td>4.607591</td>\n",
       "      <td>4.772927</td>\n",
       "      <td>5.696944</td>\n",
       "      <td>5.041789</td>\n",
       "    </tr>\n",
       "  </tbody>\n",
       "</table>\n",
       "<p>3 rows × 471 columns</p>\n",
       "</div>"
      ],
      "text/plain": [
       "College Name                    Alaska Pacific University  \\\n",
       "College Name                                                \n",
       "Alaska Pacific University                        0.000000   \n",
       "University of Alaska Southeast                   3.965173   \n",
       "Birmingham-Southern College                      5.608260   \n",
       "\n",
       "College Name                    University of Alaska Southeast  \\\n",
       "College Name                                                     \n",
       "Alaska Pacific University                             3.965173   \n",
       "University of Alaska Southeast                        0.000000   \n",
       "Birmingham-Southern College                           6.198812   \n",
       "\n",
       "College Name                    Birmingham-Southern College  \\\n",
       "College Name                                                  \n",
       "Alaska Pacific University                          5.608260   \n",
       "University of Alaska Southeast                     6.198812   \n",
       "Birmingham-Southern College                        0.000000   \n",
       "\n",
       "College Name                    Huntingdon College  Talladega College  \\\n",
       "College Name                                                            \n",
       "Alaska Pacific University                 2.764006           3.681427   \n",
       "University of Alaska Southeast            3.310421           5.148365   \n",
       "Birmingham-Southern College               3.849315           5.595936   \n",
       "\n",
       "College Name                    University of Alabama at Birmingham  \\\n",
       "College Name                                                          \n",
       "Alaska Pacific University                                  4.333964   \n",
       "University of Alaska Southeast                             5.410312   \n",
       "Birmingham-Southern College                                6.989681   \n",
       "\n",
       "College Name                    Arkansas College (Lyon College)  \\\n",
       "College Name                                                      \n",
       "Alaska Pacific University                              4.275639   \n",
       "University of Alaska Southeast                         4.860824   \n",
       "Birmingham-Southern College                            2.626237   \n",
       "\n",
       "College Name                    Hendrix College  John Brown University  \\\n",
       "College Name                                                             \n",
       "Alaska Pacific University              4.994746               4.301548   \n",
       "University of Alaska Southeast         5.820410               4.006527   \n",
       "Birmingham-Southern College            2.667381               3.503319   \n",
       "\n",
       "College Name                    Harding University  ...  Lawrence University  \\\n",
       "College Name                                        ...                        \n",
       "Alaska Pacific University                 5.128989  ...             5.541852   \n",
       "University of Alaska Southeast            5.890543  ...             6.408917   \n",
       "Birmingham-Southern College               4.377141  ...             2.493972   \n",
       "\n",
       "College Name                    Ripon College  St. Norbert College  \\\n",
       "College Name                                                         \n",
       "Alaska Pacific University            4.857836             5.272476   \n",
       "University of Alaska Southeast       5.386898             5.162330   \n",
       "Birmingham-Southern College          3.370323             2.867435   \n",
       "\n",
       "College Name                    Viterbo College  \\\n",
       "College Name                                      \n",
       "Alaska Pacific University              4.365792   \n",
       "University of Alaska Southeast         3.728603   \n",
       "Birmingham-Southern College            4.615102   \n",
       "\n",
       "College Name                    University of Wisconsin-Stout  \\\n",
       "College Name                                                    \n",
       "Alaska Pacific University                            5.578834   \n",
       "University of Alaska Southeast                       5.379143   \n",
       "Birmingham-Southern College                          5.944608   \n",
       "\n",
       "College Name                    Univ. of Wisconsin at Eau Claire  \\\n",
       "College Name                                                       \n",
       "Alaska Pacific University                               6.834955   \n",
       "University of Alaska Southeast                          6.695410   \n",
       "Birmingham-Southern College                             6.301875   \n",
       "\n",
       "College Name                    Wisconsin Lutheran College  \\\n",
       "College Name                                                 \n",
       "Alaska Pacific University                         3.525922   \n",
       "University of Alaska Southeast                    2.726693   \n",
       "Birmingham-Southern College                       4.607591   \n",
       "\n",
       "College Name                    Alderson-Broaddus College  \\\n",
       "College Name                                                \n",
       "Alaska Pacific University                        3.522044   \n",
       "University of Alaska Southeast                   3.485452   \n",
       "Birmingham-Southern College                      4.772927   \n",
       "\n",
       "College Name                    Marshall University  University of Wyoming  \n",
       "College Name                                                                \n",
       "Alaska Pacific University                  4.483828               3.545882  \n",
       "University of Alaska Southeast             5.042048               4.668733  \n",
       "Birmingham-Southern College                5.696944               5.041789  \n",
       "\n",
       "[3 rows x 471 columns]"
      ]
     },
     "execution_count": 180,
     "metadata": {},
     "output_type": "execute_result"
    }
   ],
   "source": [
    "# compute normalized distance\n",
    "d_norm = pairwise.pairwise_distances(univ_norm, metric='euclidean') # euclidean : 거리계산 유형\n",
    "\n",
    "pd.DataFrame(d_norm, columns=univ_dd.index, index=univ_dd.index).head(3) \n",
    "# 정규화한 값으로 유클리드 거리를 사영해 계산된 처음 5개의 대학 간 거리 행렬"
   ]
  },
  {
   "cell_type": "code",
   "execution_count": 106,
   "id": "219e1098",
   "metadata": {},
   "outputs": [
    {
     "data": {
      "image/png": "[encoded data removed]",
      "text/plain": [
       "<Figure size 2160x360 with 1 Axes>"
      ]
     },
     "metadata": {
      "needs_background": "light"
     },
     "output_type": "display_data"
    }
   ],
   "source": [
    "# 덴드로그램\n",
    "\n",
    "Z = linkage(univ_norm, method='complete') # single / complete / average \n",
    "# complete 어느 정도 수준까지 같은 군집으로 볼 것인가\n",
    "\n",
    "fig = plt.figure(figsize=(30, 5))\n",
    "fig.subplots_adjust(bottom=0.23)\n",
    "\n",
    "plt.title('Hierarchical Clustering Dendrogram (Single linkage)')  # 계층적 군집화를 실행하는 덴드로그램\n",
    "plt.xlabel('College Name')\n",
    "\n",
    "dendrogram(Z, color_threshold=13) # 어느 정도 수준까지를 같은 군집으로 볼 것이냐를 판단하고 시각화하는 옵션\n",
    "plt.axhline(y=13, color='black', linewidth=0.5, linestyle='dashed')\n",
    "plt.show()"
   ]
  },
  {
   "cell_type": "markdown",
   "id": "1119e4fa",
   "metadata": {},
   "source": [
    " 6개로 나눠져 6개의 군집이 가장 합리적이다?"
   ]
  },
  {
   "cell_type": "markdown",
   "id": "0ff065fc",
   "metadata": {},
   "source": [
    "### c"
   ]
  },
  {
   "cell_type": "code",
   "execution_count": 107,
   "id": "4880dbd7",
   "metadata": {},
   "outputs": [],
   "source": [
    "# 각 군집에 대해 요약 통계량 비교"
   ]
  },
  {
   "cell_type": "code",
   "execution_count": 220,
   "id": "fead9be9",
   "metadata": {},
   "outputs": [],
   "source": [
    "memb = fcluster(linkage(univ_norm, 'complete'), 6, criterion='maxclust')\n",
    "memb = pd.Series(memb, index=univ_norm.index)"
   ]
  },
  {
   "cell_type": "code",
   "execution_count": 221,
   "id": "c9ac0a21",
   "metadata": {},
   "outputs": [
    {
     "data": {
      "image/png": "[encoded data removed]",
      "text/plain": [
       "<Figure size 720x720 with 4 Axes>"
      ]
     },
     "metadata": {
      "needs_background": "light"
     },
     "output_type": "display_data"
    }
   ],
   "source": [
    "univ_norm.index = ['{}: {}'.format(cluster, state) for cluster, state in zip(memb, univ_norm.index)]\n",
    "sns.clustermap(univ_norm, method='complete', col_cluster=False,  cmap=\"mako_r\")\n",
    "plt.show()"
   ]
  },
  {
   "cell_type": "code",
   "execution_count": 223,
   "id": "ebfc8fff",
   "metadata": {},
   "outputs": [],
   "source": [
    "univ_norm['cluster']=[' {}'.format(i) for i,company in zip(memb, univ_norm.index)] # 클러스터 변수 생성\n",
    "grouped= univ_norm.groupby('cluster')"
   ]
  },
  {
   "cell_type": "code",
   "execution_count": 224,
   "id": "d9bc5718",
   "metadata": {
    "scrolled": true
   },
   "outputs": [
    {
     "data": {
      "text/html": [
       "<div>\n",
       "<style scoped>\n",
       "    .dataframe tbody tr th:only-of-type {\n",
       "        vertical-align: middle;\n",
       "    }\n",
       "\n",
       "    .dataframe tbody tr th {\n",
       "        vertical-align: top;\n",
       "    }\n",
       "\n",
       "    .dataframe thead th {\n",
       "        text-align: right;\n",
       "    }\n",
       "</style>\n",
       "<table border=\"1\" class=\"dataframe\">\n",
       "  <thead>\n",
       "    <tr style=\"text-align: right;\">\n",
       "      <th></th>\n",
       "      <th># appli. rec'd</th>\n",
       "      <th># appl. accepted</th>\n",
       "      <th># new stud. enrolled</th>\n",
       "      <th>% new stud. from top 10%</th>\n",
       "      <th>% new stud. from top 25%</th>\n",
       "      <th># FT undergrad</th>\n",
       "      <th># PT undergrad</th>\n",
       "      <th>in-state tuition</th>\n",
       "      <th>out-of-state tuition</th>\n",
       "      <th>room</th>\n",
       "      <th>board</th>\n",
       "      <th>add. fees</th>\n",
       "      <th>estim. book costs</th>\n",
       "      <th>estim. personal $</th>\n",
       "      <th>% fac. w/PHD</th>\n",
       "      <th>stud./fac. ratio</th>\n",
       "      <th>Graduation rate</th>\n",
       "    </tr>\n",
       "    <tr>\n",
       "      <th>cluster</th>\n",
       "      <th></th>\n",
       "      <th></th>\n",
       "      <th></th>\n",
       "      <th></th>\n",
       "      <th></th>\n",
       "      <th></th>\n",
       "      <th></th>\n",
       "      <th></th>\n",
       "      <th></th>\n",
       "      <th></th>\n",
       "      <th></th>\n",
       "      <th></th>\n",
       "      <th></th>\n",
       "      <th></th>\n",
       "      <th></th>\n",
       "      <th></th>\n",
       "      <th></th>\n",
       "    </tr>\n",
       "  </thead>\n",
       "  <tbody>\n",
       "    <tr>\n",
       "      <th>1</th>\n",
       "      <td>-0.183104</td>\n",
       "      <td>-0.130953</td>\n",
       "      <td>-0.086946</td>\n",
       "      <td>-0.453943</td>\n",
       "      <td>-0.426433</td>\n",
       "      <td>-0.055592</td>\n",
       "      <td>0.048707</td>\n",
       "      <td>-0.396060</td>\n",
       "      <td>-0.447075</td>\n",
       "      <td>-0.229710</td>\n",
       "      <td>-0.262345</td>\n",
       "      <td>-0.080217</td>\n",
       "      <td>-0.055366</td>\n",
       "      <td>0.137784</td>\n",
       "      <td>-0.325413</td>\n",
       "      <td>0.269412</td>\n",
       "      <td>-0.324234</td>\n",
       "    </tr>\n",
       "    <tr>\n",
       "      <th>2</th>\n",
       "      <td>0.126661</td>\n",
       "      <td>-0.047599</td>\n",
       "      <td>-0.152147</td>\n",
       "      <td>1.151489</td>\n",
       "      <td>1.054250</td>\n",
       "      <td>-0.224331</td>\n",
       "      <td>-0.388708</td>\n",
       "      <td>1.074683</td>\n",
       "      <td>1.163809</td>\n",
       "      <td>0.543995</td>\n",
       "      <td>0.621277</td>\n",
       "      <td>0.119205</td>\n",
       "      <td>0.034959</td>\n",
       "      <td>-0.442631</td>\n",
       "      <td>0.801581</td>\n",
       "      <td>-0.738667</td>\n",
       "      <td>0.855461</td>\n",
       "    </tr>\n",
       "    <tr>\n",
       "      <th>3</th>\n",
       "      <td>-0.625145</td>\n",
       "      <td>-0.665783</td>\n",
       "      <td>-0.630935</td>\n",
       "      <td>-1.461792</td>\n",
       "      <td>-1.754144</td>\n",
       "      <td>-0.650630</td>\n",
       "      <td>-0.306932</td>\n",
       "      <td>0.330512</td>\n",
       "      <td>0.151876</td>\n",
       "      <td>2.274143</td>\n",
       "      <td>1.196165</td>\n",
       "      <td>-0.699782</td>\n",
       "      <td>10.976562</td>\n",
       "      <td>-1.014803</td>\n",
       "      <td>-3.912723</td>\n",
       "      <td>-1.837112</td>\n",
       "      <td>-1.022909</td>\n",
       "    </tr>\n",
       "    <tr>\n",
       "      <th>4</th>\n",
       "      <td>2.907958</td>\n",
       "      <td>3.500182</td>\n",
       "      <td>3.778731</td>\n",
       "      <td>0.427310</td>\n",
       "      <td>0.679124</td>\n",
       "      <td>3.717682</td>\n",
       "      <td>1.645813</td>\n",
       "      <td>-0.358179</td>\n",
       "      <td>0.062752</td>\n",
       "      <td>0.424828</td>\n",
       "      <td>0.590598</td>\n",
       "      <td>0.925495</td>\n",
       "      <td>0.088790</td>\n",
       "      <td>0.763121</td>\n",
       "      <td>0.691195</td>\n",
       "      <td>0.524887</td>\n",
       "      <td>-0.010966</td>\n",
       "    </tr>\n",
       "    <tr>\n",
       "      <th>5</th>\n",
       "      <td>11.034906</td>\n",
       "      <td>9.692269</td>\n",
       "      <td>4.083835</td>\n",
       "      <td>0.432230</td>\n",
       "      <td>1.148780</td>\n",
       "      <td>3.820346</td>\n",
       "      <td>1.885465</td>\n",
       "      <td>-1.045287</td>\n",
       "      <td>-0.734091</td>\n",
       "      <td>0.783653</td>\n",
       "      <td>-0.239813</td>\n",
       "      <td>1.753462</td>\n",
       "      <td>0.865374</td>\n",
       "      <td>1.022310</td>\n",
       "      <td>1.007577</td>\n",
       "      <td>1.420255</td>\n",
       "      <td>0.630265</td>\n",
       "    </tr>\n",
       "    <tr>\n",
       "      <th>6</th>\n",
       "      <td>1.941181</td>\n",
       "      <td>1.731019</td>\n",
       "      <td>2.996063</td>\n",
       "      <td>-0.108919</td>\n",
       "      <td>-0.032070</td>\n",
       "      <td>2.771136</td>\n",
       "      <td>13.610166</td>\n",
       "      <td>-1.130300</td>\n",
       "      <td>-0.377153</td>\n",
       "      <td>-1.013910</td>\n",
       "      <td>0.218853</td>\n",
       "      <td>0.098295</td>\n",
       "      <td>1.012446</td>\n",
       "      <td>2.343721</td>\n",
       "      <td>0.887570</td>\n",
       "      <td>-0.452090</td>\n",
       "      <td>-1.133120</td>\n",
       "    </tr>\n",
       "  </tbody>\n",
       "</table>\n",
       "</div>"
      ],
      "text/plain": [
       "         # appli. rec'd  # appl. accepted  # new stud. enrolled  \\\n",
       "cluster                                                           \n",
       " 1            -0.183104         -0.130953             -0.086946   \n",
       " 2             0.126661         -0.047599             -0.152147   \n",
       " 3            -0.625145         -0.665783             -0.630935   \n",
       " 4             2.907958          3.500182              3.778731   \n",
       " 5            11.034906          9.692269              4.083835   \n",
       " 6             1.941181          1.731019              2.996063   \n",
       "\n",
       "         % new stud. from top 10%  % new stud. from top 25%  # FT undergrad  \\\n",
       "cluster                                                                       \n",
       " 1                      -0.453943                 -0.426433       -0.055592   \n",
       " 2                       1.151489                  1.054250       -0.224331   \n",
       " 3                      -1.461792                 -1.754144       -0.650630   \n",
       " 4                       0.427310                  0.679124        3.717682   \n",
       " 5                       0.432230                  1.148780        3.820346   \n",
       " 6                      -0.108919                 -0.032070        2.771136   \n",
       "\n",
       "         # PT undergrad  in-state tuition  out-of-state tuition      room  \\\n",
       "cluster                                                                     \n",
       " 1             0.048707         -0.396060             -0.447075 -0.229710   \n",
       " 2            -0.388708          1.074683              1.163809  0.543995   \n",
       " 3            -0.306932          0.330512              0.151876  2.274143   \n",
       " 4             1.645813         -0.358179              0.062752  0.424828   \n",
       " 5             1.885465         -1.045287             -0.734091  0.783653   \n",
       " 6            13.610166         -1.130300             -0.377153 -1.013910   \n",
       "\n",
       "            board  add. fees  estim. book costs  estim. personal $  \\\n",
       "cluster                                                              \n",
       " 1      -0.262345  -0.080217          -0.055366           0.137784   \n",
       " 2       0.621277   0.119205           0.034959          -0.442631   \n",
       " 3       1.196165  -0.699782          10.976562          -1.014803   \n",
       " 4       0.590598   0.925495           0.088790           0.763121   \n",
       " 5      -0.239813   1.753462           0.865374           1.022310   \n",
       " 6       0.218853   0.098295           1.012446           2.343721   \n",
       "\n",
       "         % fac. w/PHD  stud./fac. ratio  Graduation rate  \n",
       "cluster                                                   \n",
       " 1          -0.325413          0.269412        -0.324234  \n",
       " 2           0.801581         -0.738667         0.855461  \n",
       " 3          -3.912723         -1.837112        -1.022909  \n",
       " 4           0.691195          0.524887        -0.010966  \n",
       " 5           1.007577          1.420255         0.630265  \n",
       " 6           0.887570         -0.452090        -1.133120  "
      ]
     },
     "execution_count": 224,
     "metadata": {},
     "output_type": "execute_result"
    }
   ],
   "source": [
    "grouped.agg('mean')"
   ]
  },
  {
   "cell_type": "markdown",
   "id": "f6940c91",
   "metadata": {},
   "source": [
    "#### d"
   ]
  },
  {
   "cell_type": "code",
   "execution_count": 237,
   "id": "17831f4f",
   "metadata": {},
   "outputs": [],
   "source": [
    "univ_c=univ_d[['State', 'Public (1)/ Private (2)']]"
   ]
  },
  {
   "cell_type": "code",
   "execution_count": 241,
   "id": "b64d4afe",
   "metadata": {},
   "outputs": [
    {
     "name": "stderr",
     "output_type": "stream",
     "text": [
      "C:\\Users\\Public\\Documents\\ESTsoft\\CreatorTemp\\ipykernel_23160\\1119039490.py:1: SettingWithCopyWarning: \n",
      "A value is trying to be set on a copy of a slice from a DataFrame.\n",
      "Try using .loc[row_indexer,col_indexer] = value instead\n",
      "\n",
      "See the caveats in the documentation: https://pandas.pydata.org/pandas-docs/stable/user_guide/indexing.html#returning-a-view-versus-a-copy\n",
      "  univ_c['cluster']=[' {}'.format(i) for i,name in zip(memb, univ_norm.index)] # 클러스터 변수 생성\n",
      "C:\\Users\\Public\\Documents\\ESTsoft\\CreatorTemp\\ipykernel_23160\\1119039490.py:2: FutureWarning: Indexing with multiple keys (implicitly converted to a tuple of keys) will be deprecated, use a list instead.\n",
      "  univ_c.groupby('cluster')['State', 'Public (1)/ Private (2)'].value_counts()\n"
     ]
    },
    {
     "data": {
      "text/plain": [
       "cluster  State  Public (1)/ Private (2)\n",
       " 1       PA     2                          20\n",
       "         IA     2                          15\n",
       "         NY     2                          14\n",
       "         TX     2                          12\n",
       "         OH     2                          12\n",
       "                                           ..\n",
       " 4       IL     1                           1\n",
       "         CA     2                           1\n",
       "         AZ     1                           1\n",
       " 5       NJ     1                           1\n",
       " 6       MN     1                           1\n",
       "Length: 136, dtype: int64"
      ]
     },
     "execution_count": 241,
     "metadata": {},
     "output_type": "execute_result"
    }
   ],
   "source": [
    "univ_c['cluster']=[' {}'.format(i) for i,name in zip(memb, univ_norm.index)] # 클러스터 변수 생성\n",
    "univ_c.groupby('cluster')['State', 'Public (1)/ Private (2)'].value_counts()"
   ]
  },
  {
   "cell_type": "markdown",
   "id": "8a44b5ea",
   "metadata": {},
   "source": [
    "#### e"
   ]
  },
  {
   "cell_type": "markdown",
   "id": "901e4cda",
   "metadata": {},
   "source": [
    "#### f"
   ]
  },
  {
   "cell_type": "code",
   "execution_count": 299,
   "id": "693c9768",
   "metadata": {},
   "outputs": [],
   "source": [
    "univ = pd.read_csv('Universities.csv')\n",
    "univ.set_index('College Name', inplace=True)\n",
    "univ=univ.drop(columns=['State','Public (1)/ Private (2)'])"
   ]
  },
  {
   "cell_type": "code",
   "execution_count": 302,
   "id": "85552c13",
   "metadata": {},
   "outputs": [
    {
     "data": {
      "text/html": [
       "<div>\n",
       "<style scoped>\n",
       "    .dataframe tbody tr th:only-of-type {\n",
       "        vertical-align: middle;\n",
       "    }\n",
       "\n",
       "    .dataframe tbody tr th {\n",
       "        vertical-align: top;\n",
       "    }\n",
       "\n",
       "    .dataframe thead th {\n",
       "        text-align: right;\n",
       "    }\n",
       "</style>\n",
       "<table border=\"1\" class=\"dataframe\">\n",
       "  <thead>\n",
       "    <tr style=\"text-align: right;\">\n",
       "      <th></th>\n",
       "      <th># appli. rec'd</th>\n",
       "      <th># appl. accepted</th>\n",
       "      <th># new stud. enrolled</th>\n",
       "      <th>% new stud. from top 10%</th>\n",
       "      <th>% new stud. from top 25%</th>\n",
       "      <th># FT undergrad</th>\n",
       "      <th># PT undergrad</th>\n",
       "      <th>in-state tuition</th>\n",
       "      <th>out-of-state tuition</th>\n",
       "      <th>room</th>\n",
       "      <th>board</th>\n",
       "      <th>add. fees</th>\n",
       "      <th>estim. book costs</th>\n",
       "      <th>estim. personal $</th>\n",
       "      <th>% fac. w/PHD</th>\n",
       "      <th>stud./fac. ratio</th>\n",
       "      <th>Graduation rate</th>\n",
       "    </tr>\n",
       "    <tr>\n",
       "      <th>College Name</th>\n",
       "      <th></th>\n",
       "      <th></th>\n",
       "      <th></th>\n",
       "      <th></th>\n",
       "      <th></th>\n",
       "      <th></th>\n",
       "      <th></th>\n",
       "      <th></th>\n",
       "      <th></th>\n",
       "      <th></th>\n",
       "      <th></th>\n",
       "      <th></th>\n",
       "      <th></th>\n",
       "      <th></th>\n",
       "      <th></th>\n",
       "      <th></th>\n",
       "      <th></th>\n",
       "    </tr>\n",
       "  </thead>\n",
       "  <tbody>\n",
       "    <tr>\n",
       "      <th>Tufts University</th>\n",
       "      <td>7614.0</td>\n",
       "      <td>3605.0</td>\n",
       "      <td>1205.0</td>\n",
       "      <td>60.0</td>\n",
       "      <td>90.0</td>\n",
       "      <td>4598.0</td>\n",
       "      <td>NaN</td>\n",
       "      <td>19701.0</td>\n",
       "      <td>19701.0</td>\n",
       "      <td>3038.0</td>\n",
       "      <td>2930.0</td>\n",
       "      <td>503.0</td>\n",
       "      <td>600.0</td>\n",
       "      <td>928.0</td>\n",
       "      <td>99.0</td>\n",
       "      <td>10.3</td>\n",
       "      <td>92.0</td>\n",
       "    </tr>\n",
       "  </tbody>\n",
       "</table>\n",
       "</div>"
      ],
      "text/plain": [
       "                  # appli. rec'd  # appl. accepted  # new stud. enrolled  \\\n",
       "College Name                                                               \n",
       "Tufts University          7614.0            3605.0                1205.0   \n",
       "\n",
       "                  % new stud. from top 10%  % new stud. from top 25%  \\\n",
       "College Name                                                           \n",
       "Tufts University                      60.0                      90.0   \n",
       "\n",
       "                  # FT undergrad  # PT undergrad  in-state tuition  \\\n",
       "College Name                                                         \n",
       "Tufts University          4598.0             NaN           19701.0   \n",
       "\n",
       "                  out-of-state tuition    room   board  add. fees  \\\n",
       "College Name                                                        \n",
       "Tufts University               19701.0  3038.0  2930.0      503.0   \n",
       "\n",
       "                  estim. book costs  estim. personal $  % fac. w/PHD  \\\n",
       "College Name                                                           \n",
       "Tufts University              600.0              928.0          99.0   \n",
       "\n",
       "                  stud./fac. ratio  Graduation rate  \n",
       "College Name                                         \n",
       "Tufts University              10.3             92.0  "
      ]
     },
     "execution_count": 302,
     "metadata": {},
     "output_type": "execute_result"
    }
   ],
   "source": [
    "univ.loc[['Tufts University']]"
   ]
  },
  {
   "cell_type": "code",
   "execution_count": 303,
   "id": "262d49c9",
   "metadata": {},
   "outputs": [
    {
     "data": {
      "text/plain": [
       "# PT undergrad    797.454352\n",
       "dtype: float64"
      ]
     },
     "execution_count": 303,
     "metadata": {},
     "output_type": "execute_result"
    }
   ],
   "source": [
    "univ_dd[['# PT undergrad']].mean() # 범주형도 드랍하고 결측도 드랍된 데이터 프레임"
   ]
  },
  {
   "cell_type": "code",
   "execution_count": 304,
   "id": "4d40f80b",
   "metadata": {},
   "outputs": [
    {
     "data": {
      "text/html": [
       "<div>\n",
       "<style scoped>\n",
       "    .dataframe tbody tr th:only-of-type {\n",
       "        vertical-align: middle;\n",
       "    }\n",
       "\n",
       "    .dataframe tbody tr th {\n",
       "        vertical-align: top;\n",
       "    }\n",
       "\n",
       "    .dataframe thead th {\n",
       "        text-align: right;\n",
       "    }\n",
       "</style>\n",
       "<table border=\"1\" class=\"dataframe\">\n",
       "  <thead>\n",
       "    <tr style=\"text-align: right;\">\n",
       "      <th></th>\n",
       "      <th># appli. rec'd</th>\n",
       "      <th># appl. accepted</th>\n",
       "      <th># new stud. enrolled</th>\n",
       "      <th>% new stud. from top 10%</th>\n",
       "      <th>% new stud. from top 25%</th>\n",
       "      <th># FT undergrad</th>\n",
       "      <th># PT undergrad</th>\n",
       "      <th>in-state tuition</th>\n",
       "      <th>out-of-state tuition</th>\n",
       "      <th>room</th>\n",
       "      <th>board</th>\n",
       "      <th>add. fees</th>\n",
       "      <th>estim. book costs</th>\n",
       "      <th>estim. personal $</th>\n",
       "      <th>% fac. w/PHD</th>\n",
       "      <th>stud./fac. ratio</th>\n",
       "      <th>Graduation rate</th>\n",
       "    </tr>\n",
       "    <tr>\n",
       "      <th>College Name</th>\n",
       "      <th></th>\n",
       "      <th></th>\n",
       "      <th></th>\n",
       "      <th></th>\n",
       "      <th></th>\n",
       "      <th></th>\n",
       "      <th></th>\n",
       "      <th></th>\n",
       "      <th></th>\n",
       "      <th></th>\n",
       "      <th></th>\n",
       "      <th></th>\n",
       "      <th></th>\n",
       "      <th></th>\n",
       "      <th></th>\n",
       "      <th></th>\n",
       "      <th></th>\n",
       "    </tr>\n",
       "  </thead>\n",
       "  <tbody>\n",
       "    <tr>\n",
       "      <th>Tufts University</th>\n",
       "      <td>7614.0</td>\n",
       "      <td>3605.0</td>\n",
       "      <td>1205.0</td>\n",
       "      <td>60.0</td>\n",
       "      <td>90.0</td>\n",
       "      <td>4598.0</td>\n",
       "      <td>797.454352</td>\n",
       "      <td>19701.0</td>\n",
       "      <td>19701.0</td>\n",
       "      <td>3038.0</td>\n",
       "      <td>2930.0</td>\n",
       "      <td>503.0</td>\n",
       "      <td>600.0</td>\n",
       "      <td>928.0</td>\n",
       "      <td>99.0</td>\n",
       "      <td>10.3</td>\n",
       "      <td>92.0</td>\n",
       "    </tr>\n",
       "  </tbody>\n",
       "</table>\n",
       "</div>"
      ],
      "text/plain": [
       "                  # appli. rec'd  # appl. accepted  # new stud. enrolled  \\\n",
       "College Name                                                               \n",
       "Tufts University          7614.0            3605.0                1205.0   \n",
       "\n",
       "                  % new stud. from top 10%  % new stud. from top 25%  \\\n",
       "College Name                                                           \n",
       "Tufts University                      60.0                      90.0   \n",
       "\n",
       "                  # FT undergrad  # PT undergrad  in-state tuition  \\\n",
       "College Name                                                         \n",
       "Tufts University          4598.0      797.454352           19701.0   \n",
       "\n",
       "                  out-of-state tuition    room   board  add. fees  \\\n",
       "College Name                                                        \n",
       "Tufts University               19701.0  3038.0  2930.0      503.0   \n",
       "\n",
       "                  estim. book costs  estim. personal $  % fac. w/PHD  \\\n",
       "College Name                                                           \n",
       "Tufts University              600.0              928.0          99.0   \n",
       "\n",
       "                  stud./fac. ratio  Graduation rate  \n",
       "College Name                                         \n",
       "Tufts University              10.3             92.0  "
      ]
     },
     "execution_count": 304,
     "metadata": {},
     "output_type": "execute_result"
    }
   ],
   "source": [
    "univ['# PT undergrad']['Tufts University']=797.454352 # 평균으로 결측값 대체\n",
    "univ.loc[['Tufts University']]"
   ]
  },
  {
   "cell_type": "code",
   "execution_count": 284,
   "id": "0fee23ae",
   "metadata": {},
   "outputs": [
    {
     "data": {
      "text/html": [
       "<div>\n",
       "<style scoped>\n",
       "    .dataframe tbody tr th:only-of-type {\n",
       "        vertical-align: middle;\n",
       "    }\n",
       "\n",
       "    .dataframe tbody tr th {\n",
       "        vertical-align: top;\n",
       "    }\n",
       "\n",
       "    .dataframe thead th {\n",
       "        text-align: right;\n",
       "    }\n",
       "</style>\n",
       "<table border=\"1\" class=\"dataframe\">\n",
       "  <thead>\n",
       "    <tr style=\"text-align: right;\">\n",
       "      <th></th>\n",
       "      <th># appli. rec'd</th>\n",
       "      <th># appl. accepted</th>\n",
       "      <th># new stud. enrolled</th>\n",
       "      <th>% new stud. from top 10%</th>\n",
       "      <th>% new stud. from top 25%</th>\n",
       "      <th># FT undergrad</th>\n",
       "      <th>in-state tuition</th>\n",
       "      <th>out-of-state tuition</th>\n",
       "      <th>room</th>\n",
       "      <th>board</th>\n",
       "      <th>add. fees</th>\n",
       "      <th>estim. book costs</th>\n",
       "      <th>estim. personal $</th>\n",
       "      <th>% fac. w/PHD</th>\n",
       "      <th>stud./fac. ratio</th>\n",
       "      <th>Graduation rate</th>\n",
       "    </tr>\n",
       "    <tr>\n",
       "      <th>College Name</th>\n",
       "      <th></th>\n",
       "      <th></th>\n",
       "      <th></th>\n",
       "      <th></th>\n",
       "      <th></th>\n",
       "      <th></th>\n",
       "      <th></th>\n",
       "      <th></th>\n",
       "      <th></th>\n",
       "      <th></th>\n",
       "      <th></th>\n",
       "      <th></th>\n",
       "      <th></th>\n",
       "      <th></th>\n",
       "      <th></th>\n",
       "      <th></th>\n",
       "    </tr>\n",
       "  </thead>\n",
       "  <tbody>\n",
       "    <tr>\n",
       "      <th>Tufts University</th>\n",
       "      <td>7614.0</td>\n",
       "      <td>3605.0</td>\n",
       "      <td>1205.0</td>\n",
       "      <td>60.0</td>\n",
       "      <td>90.0</td>\n",
       "      <td>4598.0</td>\n",
       "      <td>19701.0</td>\n",
       "      <td>19701.0</td>\n",
       "      <td>3038.0</td>\n",
       "      <td>2930.0</td>\n",
       "      <td>503.0</td>\n",
       "      <td>600.0</td>\n",
       "      <td>928.0</td>\n",
       "      <td>99.0</td>\n",
       "      <td>10.3</td>\n",
       "      <td>92.0</td>\n",
       "    </tr>\n",
       "  </tbody>\n",
       "</table>\n",
       "</div>"
      ],
      "text/plain": [
       "                  # appli. rec'd  # appl. accepted  # new stud. enrolled  \\\n",
       "College Name                                                               \n",
       "Tufts University          7614.0            3605.0                1205.0   \n",
       "\n",
       "                  % new stud. from top 10%  % new stud. from top 25%  \\\n",
       "College Name                                                           \n",
       "Tufts University                      60.0                      90.0   \n",
       "\n",
       "                  # FT undergrad  in-state tuition  out-of-state tuition  \\\n",
       "College Name                                                               \n",
       "Tufts University          4598.0           19701.0               19701.0   \n",
       "\n",
       "                    room   board  add. fees  estim. book costs  \\\n",
       "College Name                                                     \n",
       "Tufts University  3038.0  2930.0      503.0              600.0   \n",
       "\n",
       "                  estim. personal $  % fac. w/PHD  stud./fac. ratio  \\\n",
       "College Name                                                          \n",
       "Tufts University              928.0          99.0              10.3   \n",
       "\n",
       "                  Graduation rate  \n",
       "College Name                       \n",
       "Tufts University             92.0  "
      ]
     },
     "execution_count": 284,
     "metadata": {},
     "output_type": "execute_result"
    }
   ],
   "source": [
    "tu=univ.loc[['Tufts University']]\n",
    "tu=tu.drop(columns=['State','Public (1)/ Private (2)', '# PT undergrad'])\n",
    "tu"
   ]
  },
  {
   "cell_type": "code",
   "execution_count": null,
   "id": "d64929b0",
   "metadata": {},
   "outputs": [],
   "source": []
  },
  {
   "cell_type": "code",
   "execution_count": null,
   "id": "5c4ab775",
   "metadata": {},
   "outputs": [],
   "source": []
  },
  {
   "cell_type": "markdown",
   "id": "7712a721",
   "metadata": {},
   "source": [
    "# 15.2 제약 산업"
   ]
  },
  {
   "cell_type": "code",
   "execution_count": 181,
   "id": "f2b160d3",
   "metadata": {},
   "outputs": [],
   "source": [
    "pha = pd.read_csv('Pharmaceuticals.csv')\n",
    "pha.set_index('Name', inplace=True)"
   ]
  },
  {
   "cell_type": "code",
   "execution_count": 182,
   "id": "6b1e37a6",
   "metadata": {},
   "outputs": [
    {
     "name": "stdout",
     "output_type": "stream",
     "text": [
      "<class 'pandas.core.frame.DataFrame'>\n",
      "Index: 21 entries, Abbott Laboratories to Wyeth\n",
      "Data columns (total 13 columns):\n",
      " #   Column                 Non-Null Count  Dtype  \n",
      "---  ------                 --------------  -----  \n",
      " 0   Symbol                 21 non-null     object \n",
      " 1   Market_Cap             21 non-null     float64\n",
      " 2   Beta                   21 non-null     float64\n",
      " 3   PE_Ratio               21 non-null     float64\n",
      " 4   ROE                    21 non-null     float64\n",
      " 5   ROA                    21 non-null     float64\n",
      " 6   Asset_Turnover         21 non-null     float64\n",
      " 7   Leverage               21 non-null     float64\n",
      " 8   Rev_Growth             21 non-null     float64\n",
      " 9   Net_Profit_Margin      21 non-null     float64\n",
      " 10  Median_Recommendation  21 non-null     object \n",
      " 11  Location               21 non-null     object \n",
      " 12  Exchange               21 non-null     object \n",
      "dtypes: float64(9), object(4)\n",
      "memory usage: 2.3+ KB\n"
     ]
    }
   ],
   "source": [
    "pha.info()"
   ]
  },
  {
   "cell_type": "markdown",
   "id": "8f9b06ca",
   "metadata": {},
   "source": [
    "- market_cap\n",
    "- beta \n",
    "- pe_ratio\n",
    "- net profit margin : 자산 수익률\n",
    "- asset turnover : 회전율\n",
    "- leverage\n",
    "- rev_growth\n",
    "- 순이윤 폭\n",
    "- median_recommendation\n",
    "- loction\n",
    "- 상장된 주식 거래소\n",
    "\n",
    "symbol 을 제거하고 시작해야 하나"
   ]
  },
  {
   "cell_type": "code",
   "execution_count": 183,
   "id": "b56da8fd",
   "metadata": {},
   "outputs": [],
   "source": [
    "pha=pha.drop(columns=['Symbol'])"
   ]
  },
  {
   "cell_type": "code",
   "execution_count": 184,
   "id": "484971ba",
   "metadata": {},
   "outputs": [
    {
     "data": {
      "text/html": [
       "<div>\n",
       "<style scoped>\n",
       "    .dataframe tbody tr th:only-of-type {\n",
       "        vertical-align: middle;\n",
       "    }\n",
       "\n",
       "    .dataframe tbody tr th {\n",
       "        vertical-align: top;\n",
       "    }\n",
       "\n",
       "    .dataframe thead th {\n",
       "        text-align: right;\n",
       "    }\n",
       "</style>\n",
       "<table border=\"1\" class=\"dataframe\">\n",
       "  <thead>\n",
       "    <tr style=\"text-align: right;\">\n",
       "      <th></th>\n",
       "      <th>Market_Cap</th>\n",
       "      <th>Beta</th>\n",
       "      <th>PE_Ratio</th>\n",
       "      <th>ROE</th>\n",
       "      <th>ROA</th>\n",
       "      <th>Asset_Turnover</th>\n",
       "      <th>Leverage</th>\n",
       "      <th>Rev_Growth</th>\n",
       "      <th>Net_Profit_Margin</th>\n",
       "      <th>Median_Recommendation</th>\n",
       "      <th>Location</th>\n",
       "      <th>Exchange</th>\n",
       "    </tr>\n",
       "    <tr>\n",
       "      <th>Name</th>\n",
       "      <th></th>\n",
       "      <th></th>\n",
       "      <th></th>\n",
       "      <th></th>\n",
       "      <th></th>\n",
       "      <th></th>\n",
       "      <th></th>\n",
       "      <th></th>\n",
       "      <th></th>\n",
       "      <th></th>\n",
       "      <th></th>\n",
       "      <th></th>\n",
       "    </tr>\n",
       "  </thead>\n",
       "  <tbody>\n",
       "    <tr>\n",
       "      <th>Abbott Laboratories</th>\n",
       "      <td>68.44</td>\n",
       "      <td>0.32</td>\n",
       "      <td>24.7</td>\n",
       "      <td>26.4</td>\n",
       "      <td>11.8</td>\n",
       "      <td>0.7</td>\n",
       "      <td>0.42</td>\n",
       "      <td>7.54</td>\n",
       "      <td>16.1</td>\n",
       "      <td>Moderate Buy</td>\n",
       "      <td>US</td>\n",
       "      <td>NYSE</td>\n",
       "    </tr>\n",
       "    <tr>\n",
       "      <th>Allergan, Inc.</th>\n",
       "      <td>7.58</td>\n",
       "      <td>0.41</td>\n",
       "      <td>82.5</td>\n",
       "      <td>12.9</td>\n",
       "      <td>5.5</td>\n",
       "      <td>0.9</td>\n",
       "      <td>0.60</td>\n",
       "      <td>9.16</td>\n",
       "      <td>5.5</td>\n",
       "      <td>Moderate Buy</td>\n",
       "      <td>CANADA</td>\n",
       "      <td>NYSE</td>\n",
       "    </tr>\n",
       "    <tr>\n",
       "      <th>Amersham plc</th>\n",
       "      <td>6.30</td>\n",
       "      <td>0.46</td>\n",
       "      <td>20.7</td>\n",
       "      <td>14.9</td>\n",
       "      <td>7.8</td>\n",
       "      <td>0.9</td>\n",
       "      <td>0.27</td>\n",
       "      <td>7.05</td>\n",
       "      <td>11.2</td>\n",
       "      <td>Strong Buy</td>\n",
       "      <td>UK</td>\n",
       "      <td>NYSE</td>\n",
       "    </tr>\n",
       "  </tbody>\n",
       "</table>\n",
       "</div>"
      ],
      "text/plain": [
       "                     Market_Cap  Beta  PE_Ratio   ROE   ROA  Asset_Turnover  \\\n",
       "Name                                                                          \n",
       "Abbott Laboratories       68.44  0.32      24.7  26.4  11.8             0.7   \n",
       "Allergan, Inc.             7.58  0.41      82.5  12.9   5.5             0.9   \n",
       "Amersham plc               6.30  0.46      20.7  14.9   7.8             0.9   \n",
       "\n",
       "                     Leverage  Rev_Growth  Net_Profit_Margin  \\\n",
       "Name                                                           \n",
       "Abbott Laboratories      0.42        7.54               16.1   \n",
       "Allergan, Inc.           0.60        9.16                5.5   \n",
       "Amersham plc             0.27        7.05               11.2   \n",
       "\n",
       "                    Median_Recommendation Location Exchange  \n",
       "Name                                                         \n",
       "Abbott Laboratories          Moderate Buy       US     NYSE  \n",
       "Allergan, Inc.               Moderate Buy   CANADA     NYSE  \n",
       "Amersham plc                   Strong Buy       UK     NYSE  "
      ]
     },
     "execution_count": 184,
     "metadata": {},
     "output_type": "execute_result"
    }
   ],
   "source": [
    "pha.head(3)"
   ]
  },
  {
   "cell_type": "code",
   "execution_count": 185,
   "id": "9860d73c",
   "metadata": {},
   "outputs": [
    {
     "name": "stdout",
     "output_type": "stream",
     "text": [
      "21\n",
      "12\n"
     ]
    }
   ],
   "source": [
    "print(len(pha)) # 21개의 회사 군집화\n",
    "print(len(pha.columns)) # 12개의 변수 수집"
   ]
  },
  {
   "cell_type": "markdown",
   "id": "05ff1f00",
   "metadata": {},
   "source": [
    "### a "
   ]
  },
  {
   "cell_type": "code",
   "execution_count": 186,
   "id": "d39a9692",
   "metadata": {},
   "outputs": [],
   "source": [
    "pha_n=pha.iloc[:,0:9] # 1번부터 9번까지의 변수"
   ]
  },
  {
   "cell_type": "code",
   "execution_count": 187,
   "id": "5497fc84",
   "metadata": {},
   "outputs": [
    {
     "data": {
      "text/html": [
       "<div>\n",
       "<style scoped>\n",
       "    .dataframe tbody tr th:only-of-type {\n",
       "        vertical-align: middle;\n",
       "    }\n",
       "\n",
       "    .dataframe tbody tr th {\n",
       "        vertical-align: top;\n",
       "    }\n",
       "\n",
       "    .dataframe thead th {\n",
       "        text-align: right;\n",
       "    }\n",
       "</style>\n",
       "<table border=\"1\" class=\"dataframe\">\n",
       "  <thead>\n",
       "    <tr style=\"text-align: right;\">\n",
       "      <th></th>\n",
       "      <th>Market_Cap</th>\n",
       "      <th>Beta</th>\n",
       "      <th>PE_Ratio</th>\n",
       "      <th>ROE</th>\n",
       "      <th>ROA</th>\n",
       "      <th>Asset_Turnover</th>\n",
       "      <th>Leverage</th>\n",
       "      <th>Rev_Growth</th>\n",
       "      <th>Net_Profit_Margin</th>\n",
       "    </tr>\n",
       "    <tr>\n",
       "      <th>Name</th>\n",
       "      <th></th>\n",
       "      <th></th>\n",
       "      <th></th>\n",
       "      <th></th>\n",
       "      <th></th>\n",
       "      <th></th>\n",
       "      <th></th>\n",
       "      <th></th>\n",
       "      <th></th>\n",
       "    </tr>\n",
       "  </thead>\n",
       "  <tbody>\n",
       "    <tr>\n",
       "      <th>Abbott Laboratories</th>\n",
       "      <td>68.44</td>\n",
       "      <td>0.32</td>\n",
       "      <td>24.7</td>\n",
       "      <td>26.4</td>\n",
       "      <td>11.8</td>\n",
       "      <td>0.7</td>\n",
       "      <td>0.42</td>\n",
       "      <td>7.54</td>\n",
       "      <td>16.1</td>\n",
       "    </tr>\n",
       "    <tr>\n",
       "      <th>Allergan, Inc.</th>\n",
       "      <td>7.58</td>\n",
       "      <td>0.41</td>\n",
       "      <td>82.5</td>\n",
       "      <td>12.9</td>\n",
       "      <td>5.5</td>\n",
       "      <td>0.9</td>\n",
       "      <td>0.60</td>\n",
       "      <td>9.16</td>\n",
       "      <td>5.5</td>\n",
       "    </tr>\n",
       "    <tr>\n",
       "      <th>Amersham plc</th>\n",
       "      <td>6.30</td>\n",
       "      <td>0.46</td>\n",
       "      <td>20.7</td>\n",
       "      <td>14.9</td>\n",
       "      <td>7.8</td>\n",
       "      <td>0.9</td>\n",
       "      <td>0.27</td>\n",
       "      <td>7.05</td>\n",
       "      <td>11.2</td>\n",
       "    </tr>\n",
       "    <tr>\n",
       "      <th>AstraZeneca PLC</th>\n",
       "      <td>67.63</td>\n",
       "      <td>0.52</td>\n",
       "      <td>21.5</td>\n",
       "      <td>27.4</td>\n",
       "      <td>15.4</td>\n",
       "      <td>0.9</td>\n",
       "      <td>0.00</td>\n",
       "      <td>15.00</td>\n",
       "      <td>18.0</td>\n",
       "    </tr>\n",
       "    <tr>\n",
       "      <th>Aventis</th>\n",
       "      <td>47.16</td>\n",
       "      <td>0.32</td>\n",
       "      <td>20.1</td>\n",
       "      <td>21.8</td>\n",
       "      <td>7.5</td>\n",
       "      <td>0.6</td>\n",
       "      <td>0.34</td>\n",
       "      <td>26.81</td>\n",
       "      <td>12.9</td>\n",
       "    </tr>\n",
       "  </tbody>\n",
       "</table>\n",
       "</div>"
      ],
      "text/plain": [
       "                     Market_Cap  Beta  PE_Ratio   ROE   ROA  Asset_Turnover  \\\n",
       "Name                                                                          \n",
       "Abbott Laboratories       68.44  0.32      24.7  26.4  11.8             0.7   \n",
       "Allergan, Inc.             7.58  0.41      82.5  12.9   5.5             0.9   \n",
       "Amersham plc               6.30  0.46      20.7  14.9   7.8             0.9   \n",
       "AstraZeneca PLC           67.63  0.52      21.5  27.4  15.4             0.9   \n",
       "Aventis                   47.16  0.32      20.1  21.8   7.5             0.6   \n",
       "\n",
       "                     Leverage  Rev_Growth  Net_Profit_Margin  \n",
       "Name                                                          \n",
       "Abbott Laboratories      0.42        7.54               16.1  \n",
       "Allergan, Inc.           0.60        9.16                5.5  \n",
       "Amersham plc             0.27        7.05               11.2  \n",
       "AstraZeneca PLC          0.00       15.00               18.0  \n",
       "Aventis                  0.34       26.81               12.9  "
      ]
     },
     "execution_count": 187,
     "metadata": {},
     "output_type": "execute_result"
    }
   ],
   "source": [
    "pha_n.head()"
   ]
  },
  {
   "cell_type": "markdown",
   "id": "f7cd2786",
   "metadata": {},
   "source": [
    "군집 분석을 할 때 여러가지 고려사항 : \n",
    "\n",
    "    - 단위가 큰 변수는 두 레코드 간의 총 거리에 매우 큰 영향을 준다. 모두 동일한 단위로 변경할 필요가 있다\n",
    "    - 서로 강한 상관관계가 있는 변수라면 다른 거리측도를 선택하는 것이 좋다.\n",
    "    "
   ]
  },
  {
   "cell_type": "markdown",
   "id": "d80ec4b1",
   "metadata": {},
   "source": [
    "### b"
   ]
  },
  {
   "cell_type": "code",
   "execution_count": 188,
   "id": "5a074890",
   "metadata": {},
   "outputs": [],
   "source": [
    "# 표준정규화\n",
    "pha_norm = (pha_n - pha_n.mean())/pha_n.std()"
   ]
  },
  {
   "cell_type": "code",
   "execution_count": 189,
   "id": "70b2e296",
   "metadata": {},
   "outputs": [
    {
     "data": {
      "image/png": "[encoded data removed]",
      "text/plain": [
       "<Figure size 1080x432 with 1 Axes>"
      ]
     },
     "metadata": {
      "needs_background": "light"
     },
     "output_type": "display_data"
    }
   ],
   "source": [
    "Z = linkage(pha_norm, method='average')\n",
    "\n",
    "fig = plt.figure(figsize=(15, 6))\n",
    "fig.subplots_adjust(bottom=0.23)\n",
    "\n",
    "plt.title('Hierarchical Clustering Dendrogram (Single linkage)')\n",
    "plt.xlabel('Company')\n",
    "\n",
    "dendrogram(Z, labels=pha_norm.index, color_threshold=3.75)\n",
    "plt.axhline(y=3.75, color='black', linewidth=0.5, linestyle='dashed')\n",
    "plt.show()"
   ]
  },
  {
   "cell_type": "markdown",
   "id": "e2a7c902",
   "metadata": {},
   "source": [
    "6개의 군집으로 나누는 것이 적절?"
   ]
  },
  {
   "cell_type": "code",
   "execution_count": 190,
   "id": "214a256b",
   "metadata": {},
   "outputs": [
    {
     "name": "stdout",
     "output_type": "stream",
     "text": [
      "1 :  Elan Corporation, plc, Medicis Pharmaceutical Corporation\n",
      "2 :  Chattem, Inc\n",
      "3 :  GlaxoSmithKline plc, Johnson & Johnson, Merck & Co., Inc., Pfizer Inc\n",
      "4 :  Abbott Laboratories, Amersham plc, AstraZeneca PLC, Aventis, Bristol-Myers Squibb Company, Eli Lilly and Company, IVAX Corporation, Novartis AG, Schering-Plough Corporation, Watson Pharmaceuticals, Inc., Wyeth\n",
      "5 :  Allergan, Inc., Pharmacia Corporation\n",
      "6 :  Bayer AG\n"
     ]
    }
   ],
   "source": [
    "memb = fcluster(linkage(pha_norm, 'average'), 6, criterion='maxclust')\n",
    "memb = pd.Series(memb, index = pha_norm.index)\n",
    "for key, item in memb.groupby(memb):\n",
    "    print(key, ': ', ', '.join(item.index))"
   ]
  },
  {
   "cell_type": "code",
   "execution_count": 95,
   "id": "4a56fe66",
   "metadata": {},
   "outputs": [
    {
     "data": {
      "image/png": "[encoded data removed]",
      "text/plain": [
       "<Figure size 720x720 with 4 Axes>"
      ]
     },
     "metadata": {
      "needs_background": "light"
     },
     "output_type": "display_data"
    }
   ],
   "source": [
    "pha_norm.index = ['{}: {}'.format(cluster, state) for cluster, state in zip(memb, pha_norm.index)]\n",
    "sns.clustermap(pha_norm, method='average', col_cluster=False,  cmap=\"mako_r\")\n",
    "plt.show()"
   ]
  },
  {
   "cell_type": "markdown",
   "id": "9e4aa593",
   "metadata": {},
   "source": [
    "### c"
   ]
  },
  {
   "cell_type": "code",
   "execution_count": 209,
   "id": "f95a88d0",
   "metadata": {},
   "outputs": [],
   "source": [
    "pha_c=pha.iloc[:,9:12]\n",
    "pha_c['cluster']=[' {}'.format(i) for i,company in zip(memb, pha_n.index)] # 클러스터 변수 생성\n",
    "grouped= pha_c.groupby('cluster')"
   ]
  },
  {
   "cell_type": "code",
   "execution_count": 210,
   "id": "6ee9e1c8",
   "metadata": {},
   "outputs": [
    {
     "data": {
      "text/plain": [
       "cluster  Median_Recommendation\n",
       " 1       Moderate Buy             1\n",
       "         Moderate Sell            1\n",
       " 2       Moderate Buy             1\n",
       " 3       Hold                     2\n",
       "         Moderate Buy             2\n",
       " 4       Hold                     5\n",
       "         Moderate Sell            3\n",
       "         Moderate Buy             2\n",
       "         Strong Buy               1\n",
       " 5       Hold                     1\n",
       "         Moderate Buy             1\n",
       " 6       Hold                     1\n",
       "Name: Median_Recommendation, dtype: int64"
      ]
     },
     "execution_count": 210,
     "metadata": {},
     "output_type": "execute_result"
    }
   ],
   "source": [
    "grouped['Median_Recommendation'].value_counts()"
   ]
  },
  {
   "cell_type": "code",
   "execution_count": null,
   "id": "c11633ba",
   "metadata": {},
   "outputs": [],
   "source": [
    "# 얜 군집화한 클러스터에 대해 합쳐지지 않고 따로노네"
   ]
  },
  {
   "cell_type": "code",
   "execution_count": 211,
   "id": "15413ec9",
   "metadata": {},
   "outputs": [
    {
     "data": {
      "text/plain": [
       "cluster  Location   \n",
       " 1       IRELAND        1\n",
       "         US             1\n",
       " 2       US             1\n",
       " 3       US             3\n",
       "         UK             1\n",
       " 4       US             7\n",
       "         UK             2\n",
       "         FRANCE         1\n",
       "         SWITZERLAND    1\n",
       " 5       CANADA         1\n",
       "         US             1\n",
       " 6       GERMANY        1\n",
       "Name: Location, dtype: int64"
      ]
     },
     "execution_count": 211,
     "metadata": {},
     "output_type": "execute_result"
    }
   ],
   "source": [
    "grouped['Location'].value_counts()"
   ]
  },
  {
   "cell_type": "code",
   "execution_count": 212,
   "id": "5619ba90",
   "metadata": {},
   "outputs": [
    {
     "data": {
      "text/plain": [
       "cluster  Exchange\n",
       " 1       NYSE         2\n",
       " 2       NASDAQ       1\n",
       " 3       NYSE         4\n",
       " 4       NYSE        10\n",
       "         AMEX         1\n",
       " 5       NYSE         2\n",
       " 6       NYSE         1\n",
       "Name: Exchange, dtype: int64"
      ]
     },
     "execution_count": 212,
     "metadata": {},
     "output_type": "execute_result"
    }
   ],
   "source": [
    "grouped['Exchange'].value_counts()"
   ]
  },
  {
   "cell_type": "markdown",
   "id": "d3b71cf4",
   "metadata": {},
   "source": [
    "### d"
   ]
  },
  {
   "cell_type": "code",
   "execution_count": 217,
   "id": "d3b7877e",
   "metadata": {},
   "outputs": [],
   "source": [
    "pha_n['cluster']=[' {}'.format(i) for i,company in zip(memb, pha_n.index)] # 클러스터 변수 생성\n",
    "grouped= pha_n.groupby('cluster')"
   ]
  },
  {
   "cell_type": "code",
   "execution_count": 218,
   "id": "dc3a1d4d",
   "metadata": {},
   "outputs": [
    {
     "data": {
      "text/plain": [
       "cluster  Market_Cap\n",
       " 1       0.78          1\n",
       "         1.20          1\n",
       " 2       0.41          1\n",
       " 3       122.11        1\n",
       "         132.56        1\n",
       "         173.93        1\n",
       "         199.47        1\n",
       " 4       2.60          1\n",
       "         3.26          1\n",
       "         6.30          1\n",
       "         34.10         1\n",
       "         47.16         1\n",
       "         48.19         1\n",
       "         51.33         1\n",
       "         67.63         1\n",
       "         68.44         1\n",
       "         73.84         1\n",
       "         96.65         1\n",
       " 5       7.58          1\n",
       "         56.24         1\n",
       " 6       16.90         1\n",
       "Name: Market_Cap, dtype: int64"
      ]
     },
     "execution_count": 218,
     "metadata": {},
     "output_type": "execute_result"
    }
   ],
   "source": [
    "grouped['Market_Cap'].value_counts()"
   ]
  },
  {
   "cell_type": "markdown",
   "id": "6ea42393",
   "metadata": {},
   "source": [
    "# 15.3 아침용 시리얼에 대한 고객 평점"
   ]
  },
  {
   "cell_type": "code",
   "execution_count": 132,
   "id": "737d3d66",
   "metadata": {},
   "outputs": [],
   "source": [
    "cer_df = pd.read_csv('Cereals.csv')\n",
    "cer_df.set_index('name', inplace=True) # 영양 정보, 매장의 진열 상태, 고객의 평점"
   ]
  },
  {
   "cell_type": "code",
   "execution_count": 133,
   "id": "920f27c9",
   "metadata": {},
   "outputs": [],
   "source": [
    "cer=cer_df.dropna()"
   ]
  },
  {
   "cell_type": "code",
   "execution_count": 134,
   "id": "f6143aaa",
   "metadata": {},
   "outputs": [
    {
     "data": {
      "text/html": [
       "<div>\n",
       "<style scoped>\n",
       "    .dataframe tbody tr th:only-of-type {\n",
       "        vertical-align: middle;\n",
       "    }\n",
       "\n",
       "    .dataframe tbody tr th {\n",
       "        vertical-align: top;\n",
       "    }\n",
       "\n",
       "    .dataframe thead th {\n",
       "        text-align: right;\n",
       "    }\n",
       "</style>\n",
       "<table border=\"1\" class=\"dataframe\">\n",
       "  <thead>\n",
       "    <tr style=\"text-align: right;\">\n",
       "      <th></th>\n",
       "      <th>mfr</th>\n",
       "      <th>type</th>\n",
       "      <th>calories</th>\n",
       "      <th>protein</th>\n",
       "      <th>fat</th>\n",
       "      <th>sodium</th>\n",
       "      <th>fiber</th>\n",
       "      <th>carbo</th>\n",
       "      <th>sugars</th>\n",
       "      <th>potass</th>\n",
       "      <th>vitamins</th>\n",
       "      <th>shelf</th>\n",
       "      <th>weight</th>\n",
       "      <th>cups</th>\n",
       "      <th>rating</th>\n",
       "    </tr>\n",
       "    <tr>\n",
       "      <th>name</th>\n",
       "      <th></th>\n",
       "      <th></th>\n",
       "      <th></th>\n",
       "      <th></th>\n",
       "      <th></th>\n",
       "      <th></th>\n",
       "      <th></th>\n",
       "      <th></th>\n",
       "      <th></th>\n",
       "      <th></th>\n",
       "      <th></th>\n",
       "      <th></th>\n",
       "      <th></th>\n",
       "      <th></th>\n",
       "      <th></th>\n",
       "    </tr>\n",
       "  </thead>\n",
       "  <tbody>\n",
       "    <tr>\n",
       "      <th>100%_Bran</th>\n",
       "      <td>N</td>\n",
       "      <td>C</td>\n",
       "      <td>70</td>\n",
       "      <td>4</td>\n",
       "      <td>1</td>\n",
       "      <td>130</td>\n",
       "      <td>10.0</td>\n",
       "      <td>5.0</td>\n",
       "      <td>6.0</td>\n",
       "      <td>280.0</td>\n",
       "      <td>25</td>\n",
       "      <td>3</td>\n",
       "      <td>1.0</td>\n",
       "      <td>0.33</td>\n",
       "      <td>68.402973</td>\n",
       "    </tr>\n",
       "    <tr>\n",
       "      <th>100%_Natural_Bran</th>\n",
       "      <td>Q</td>\n",
       "      <td>C</td>\n",
       "      <td>120</td>\n",
       "      <td>3</td>\n",
       "      <td>5</td>\n",
       "      <td>15</td>\n",
       "      <td>2.0</td>\n",
       "      <td>8.0</td>\n",
       "      <td>8.0</td>\n",
       "      <td>135.0</td>\n",
       "      <td>0</td>\n",
       "      <td>3</td>\n",
       "      <td>1.0</td>\n",
       "      <td>1.00</td>\n",
       "      <td>33.983679</td>\n",
       "    </tr>\n",
       "    <tr>\n",
       "      <th>All-Bran</th>\n",
       "      <td>K</td>\n",
       "      <td>C</td>\n",
       "      <td>70</td>\n",
       "      <td>4</td>\n",
       "      <td>1</td>\n",
       "      <td>260</td>\n",
       "      <td>9.0</td>\n",
       "      <td>7.0</td>\n",
       "      <td>5.0</td>\n",
       "      <td>320.0</td>\n",
       "      <td>25</td>\n",
       "      <td>3</td>\n",
       "      <td>1.0</td>\n",
       "      <td>0.33</td>\n",
       "      <td>59.425505</td>\n",
       "    </tr>\n",
       "    <tr>\n",
       "      <th>All-Bran_with_Extra_Fiber</th>\n",
       "      <td>K</td>\n",
       "      <td>C</td>\n",
       "      <td>50</td>\n",
       "      <td>4</td>\n",
       "      <td>0</td>\n",
       "      <td>140</td>\n",
       "      <td>14.0</td>\n",
       "      <td>8.0</td>\n",
       "      <td>0.0</td>\n",
       "      <td>330.0</td>\n",
       "      <td>25</td>\n",
       "      <td>3</td>\n",
       "      <td>1.0</td>\n",
       "      <td>0.50</td>\n",
       "      <td>93.704912</td>\n",
       "    </tr>\n",
       "    <tr>\n",
       "      <th>Apple_Cinnamon_Cheerios</th>\n",
       "      <td>G</td>\n",
       "      <td>C</td>\n",
       "      <td>110</td>\n",
       "      <td>2</td>\n",
       "      <td>2</td>\n",
       "      <td>180</td>\n",
       "      <td>1.5</td>\n",
       "      <td>10.5</td>\n",
       "      <td>10.0</td>\n",
       "      <td>70.0</td>\n",
       "      <td>25</td>\n",
       "      <td>1</td>\n",
       "      <td>1.0</td>\n",
       "      <td>0.75</td>\n",
       "      <td>29.509541</td>\n",
       "    </tr>\n",
       "  </tbody>\n",
       "</table>\n",
       "</div>"
      ],
      "text/plain": [
       "                          mfr type  calories  protein  fat  sodium  fiber  \\\n",
       "name                                                                        \n",
       "100%_Bran                   N    C        70        4    1     130   10.0   \n",
       "100%_Natural_Bran           Q    C       120        3    5      15    2.0   \n",
       "All-Bran                    K    C        70        4    1     260    9.0   \n",
       "All-Bran_with_Extra_Fiber   K    C        50        4    0     140   14.0   \n",
       "Apple_Cinnamon_Cheerios     G    C       110        2    2     180    1.5   \n",
       "\n",
       "                           carbo  sugars  potass  vitamins  shelf  weight  \\\n",
       "name                                                                        \n",
       "100%_Bran                    5.0     6.0   280.0        25      3     1.0   \n",
       "100%_Natural_Bran            8.0     8.0   135.0         0      3     1.0   \n",
       "All-Bran                     7.0     5.0   320.0        25      3     1.0   \n",
       "All-Bran_with_Extra_Fiber    8.0     0.0   330.0        25      3     1.0   \n",
       "Apple_Cinnamon_Cheerios     10.5    10.0    70.0        25      1     1.0   \n",
       "\n",
       "                           cups     rating  \n",
       "name                                        \n",
       "100%_Bran                  0.33  68.402973  \n",
       "100%_Natural_Bran          1.00  33.983679  \n",
       "All-Bran                   0.33  59.425505  \n",
       "All-Bran_with_Extra_Fiber  0.50  93.704912  \n",
       "Apple_Cinnamon_Cheerios    0.75  29.509541  "
      ]
     },
     "execution_count": 134,
     "metadata": {},
     "output_type": "execute_result"
    }
   ],
   "source": [
    "cer.head(5) # 전처리된 형태"
   ]
  },
  {
   "cell_type": "code",
   "execution_count": 138,
   "id": "45a98e16",
   "metadata": {},
   "outputs": [
    {
     "name": "stdout",
     "output_type": "stream",
     "text": [
      "<class 'pandas.core.frame.DataFrame'>\n",
      "Index: 74 entries, 100%_Bran to Wheaties_Honey_Gold\n",
      "Data columns (total 15 columns):\n",
      " #   Column    Non-Null Count  Dtype  \n",
      "---  ------    --------------  -----  \n",
      " 0   mfr       74 non-null     object \n",
      " 1   type      74 non-null     object \n",
      " 2   calories  74 non-null     int64  \n",
      " 3   protein   74 non-null     int64  \n",
      " 4   fat       74 non-null     int64  \n",
      " 5   sodium    74 non-null     int64  \n",
      " 6   fiber     74 non-null     float64\n",
      " 7   carbo     74 non-null     float64\n",
      " 8   sugars    74 non-null     float64\n",
      " 9   potass    74 non-null     float64\n",
      " 10  vitamins  74 non-null     int64  \n",
      " 11  shelf     74 non-null     int64  \n",
      " 12  weight    74 non-null     float64\n",
      " 13  cups      74 non-null     float64\n",
      " 14  rating    74 non-null     float64\n",
      "dtypes: float64(7), int64(6), object(2)\n",
      "memory usage: 9.2+ KB\n"
     ]
    }
   ],
   "source": [
    "cer.info()"
   ]
  },
  {
   "cell_type": "code",
   "execution_count": 140,
   "id": "184637fd",
   "metadata": {},
   "outputs": [],
   "source": [
    "cer=cer.drop(columns=['mfr','type'])"
   ]
  },
  {
   "cell_type": "markdown",
   "id": "ecc6bac7",
   "metadata": {},
   "source": [
    "### a"
   ]
  },
  {
   "cell_type": "code",
   "execution_count": 142,
   "id": "2f2ac939",
   "metadata": {},
   "outputs": [],
   "source": [
    "# 정규화된 변수로 유클리드 거리 사용 \n",
    "cer_norm = cer.apply(preprocessing.scale, axis=0)\n",
    "\n",
    "d_norm = pairwise.pairwise_distances(cer_norm, metric='euclidean')"
   ]
  },
  {
   "cell_type": "code",
   "execution_count": 143,
   "id": "8cd799d6",
   "metadata": {},
   "outputs": [
    {
     "name": "stdout",
     "output_type": "stream",
     "text": [
      "1 :  Puffed_Rice, Puffed_Wheat\n",
      "2 :  100%_Bran, All-Bran\n",
      "3 :  All-Bran_with_Extra_Fiber\n",
      "4 :  Just_Right_Crunchy__Nuggets, Just_Right_Fruit_&_Nut, Product_19, Total_Corn_Flakes, Total_Raisin_Bran, Total_Whole_Grain\n",
      "5 :  Apple_Cinnamon_Cheerios, Apple_Jacks, Basic_4, Bran_Chex, Bran_Flakes, Cap'n'Crunch, Cheerios, Cinnamon_Toast_Crunch, Clusters, Cocoa_Puffs, Corn_Chex, Corn_Flakes, Corn_Pops, Count_Chocula, Cracklin'_Oat_Bran, Crispix, Crispy_Wheat_&_Raisins, Double_Chex, Froot_Loops, Frosted_Flakes, Frosted_Mini-Wheats, Fruit_&_Fibre_Dates,_Walnuts,_and_Oats, Fruitful_Bran, Fruity_Pebbles, Golden_Crisp, Golden_Grahams, Grape_Nuts_Flakes, Grape-Nuts, Great_Grains_Pecan, Honey_Graham_Ohs, Honey_Nut_Cheerios, Honey-comb, Kix, Life, Lucky_Charms, Maypo, Muesli_Raisins,_Dates,_&_Almonds, Muesli_Raisins,_Peaches,_&_Pecans, Mueslix_Crispy_Blend, Multi-Grain_Cheerios, Nut&Honey_Crunch, Nutri-Grain_Almond-Raisin, Nutri-grain_Wheat, Oatmeal_Raisin_Crisp, Post_Nat._Raisin_Bran, Quaker_Oat_Squares, Raisin_Bran, Raisin_Nut_Bran, Raisin_Squares, Rice_Chex, Rice_Krispies, Shredded_Wheat, Shredded_Wheat_'n'Bran, Shredded_Wheat_spoon_size, Smacks, Special_K, Strawberry_Fruit_Wheats, Triples, Trix, Wheat_Chex, Wheaties, Wheaties_Honey_Gold\n",
      "6 :  100%_Natural_Bran\n"
     ]
    }
   ],
   "source": [
    "# single\n",
    "\n",
    "memb = fcluster(linkage(cer_norm, 'single'), 6, criterion='maxclust')\n",
    "memb = pd.Series(memb, index=cer_norm.index)\n",
    "for key, item in memb.groupby(memb):\n",
    "    print(key, ': ', ', '.join(item.index))"
   ]
  },
  {
   "cell_type": "code",
   "execution_count": 145,
   "id": "10aeaff3",
   "metadata": {},
   "outputs": [
    {
     "data": {
      "image/png": "[encoded data removed]",
      "text/plain": [
       "<Figure size 720x432 with 1 Axes>"
      ]
     },
     "metadata": {
      "needs_background": "light"
     },
     "output_type": "display_data"
    }
   ],
   "source": [
    "Z = linkage(cer_norm, method='single')\n",
    "\n",
    "fig = plt.figure(figsize=(10, 6))\n",
    "fig.subplots_adjust(bottom=0.23)\n",
    "\n",
    "plt.title('Hierarchical Clustering Dendrogram (Average linkage)')\n",
    "plt.xlabel('name')\n",
    "\n",
    "dendrogram(Z, labels=cer_norm.index, color_threshold=3.6)\n",
    "plt.axhline(y=3.6, color='black', linewidth=0.5, linestyle='dashed')\n",
    "plt.show()"
   ]
  },
  {
   "cell_type": "code",
   "execution_count": 147,
   "id": "9b47df91",
   "metadata": {},
   "outputs": [
    {
     "name": "stdout",
     "output_type": "stream",
     "text": [
      "1 :  Basic_4, Fruit_&_Fibre_Dates,_Walnuts,_and_Oats, Fruitful_Bran, Just_Right_Fruit_&_Nut, Muesli_Raisins,_Dates,_&_Almonds, Muesli_Raisins,_Peaches,_&_Pecans, Mueslix_Crispy_Blend, Nutri-Grain_Almond-Raisin, Oatmeal_Raisin_Crisp, Post_Nat._Raisin_Bran, Raisin_Bran, Total_Raisin_Bran\n",
      "2 :  Cheerios, Corn_Chex, Corn_Flakes, Crispix, Double_Chex, Just_Right_Crunchy__Nuggets, Kix, Product_19, Rice_Chex, Rice_Krispies, Special_K, Total_Corn_Flakes, Total_Whole_Grain, Triples\n",
      "3 :  Apple_Cinnamon_Cheerios, Apple_Jacks, Bran_Chex, Bran_Flakes, Cap'n'Crunch, Cinnamon_Toast_Crunch, Clusters, Cocoa_Puffs, Corn_Pops, Count_Chocula, Cracklin'_Oat_Bran, Crispy_Wheat_&_Raisins, Froot_Loops, Frosted_Flakes, Fruity_Pebbles, Golden_Crisp, Golden_Grahams, Grape_Nuts_Flakes, Grape-Nuts, Great_Grains_Pecan, Honey_Graham_Ohs, Honey_Nut_Cheerios, Honey-comb, Life, Lucky_Charms, Multi-Grain_Cheerios, Nut&Honey_Crunch, Nutri-grain_Wheat, Quaker_Oat_Squares, Raisin_Nut_Bran, Smacks, Trix, Wheat_Chex, Wheaties, Wheaties_Honey_Gold\n",
      "4 :  100%_Bran, All-Bran, All-Bran_with_Extra_Fiber\n",
      "5 :  Frosted_Mini-Wheats, Maypo, Puffed_Rice, Puffed_Wheat, Raisin_Squares, Shredded_Wheat, Shredded_Wheat_'n'Bran, Shredded_Wheat_spoon_size, Strawberry_Fruit_Wheats\n",
      "6 :  100%_Natural_Bran\n"
     ]
    }
   ],
   "source": [
    "# 완전연결법\n",
    "\n",
    "memb = fcluster(linkage(cer_norm, 'complete'), 6, criterion='maxclust')\n",
    "memb = pd.Series(memb, index=cer_norm.index)\n",
    "\n",
    "for key, item in memb.groupby(memb):\n",
    "    print(key, ': ', ', '.join(item.index))"
   ]
  },
  {
   "cell_type": "code",
   "execution_count": 148,
   "id": "0b702c07",
   "metadata": {},
   "outputs": [
    {
     "data": {
      "image/png": "[encoded data removed]",
      "text/plain": [
       "<Figure size 720x432 with 1 Axes>"
      ]
     },
     "metadata": {
      "needs_background": "light"
     },
     "output_type": "display_data"
    }
   ],
   "source": [
    "Z = linkage(cer_norm, method='complete')\n",
    "\n",
    "fig = plt.figure(figsize=(10, 6))\n",
    "fig.subplots_adjust(bottom=0.23)\n",
    "\n",
    "plt.title('Hierarchical Clustering Dendrogram (Average linkage)')\n",
    "plt.xlabel('name')\n",
    "\n",
    "dendrogram(Z, labels=cer_norm.index, color_threshold=3.6)\n",
    "plt.axhline(y=3.6, color='black', linewidth=0.5, linestyle='dashed')\n",
    "plt.show()"
   ]
  },
  {
   "cell_type": "markdown",
   "id": "504ff5dd",
   "metadata": {},
   "source": [
    "### b"
   ]
  },
  {
   "cell_type": "code",
   "execution_count": null,
   "id": "76a4be83",
   "metadata": {},
   "outputs": [],
   "source": [
    "# 싱글 선택"
   ]
  },
  {
   "cell_type": "markdown",
   "id": "96f7b026",
   "metadata": {},
   "source": [
    "### c"
   ]
  },
  {
   "cell_type": "code",
   "execution_count": 172,
   "id": "433f2262",
   "metadata": {},
   "outputs": [
    {
     "data": {
      "image/png": "[encoded data removed]",
      "text/plain": [
       "<Figure size 720x432 with 1 Axes>"
      ]
     },
     "metadata": {
      "needs_background": "light"
     },
     "output_type": "display_data"
    }
   ],
   "source": [
    "Z = linkage(cer_norm, method='single')\n",
    "\n",
    "fig = plt.figure(figsize=(10, 6))\n",
    "fig.subplots_adjust(bottom=0.23)\n",
    "\n",
    "plt.title('Hierarchical Clustering Dendrogram (Average linkage)')\n",
    "plt.xlabel('name')\n",
    "\n",
    "dendrogram(Z, labels=cer_norm.index, color_threshold=3.65)\n",
    "plt.axhline(y=3.65, color='black', linewidth=0.5, linestyle='dashed')\n",
    "plt.show()"
   ]
  },
  {
   "cell_type": "code",
   "execution_count": null,
   "id": "f43864a2",
   "metadata": {},
   "outputs": [],
   "source": [
    "# 군집의 수는 4"
   ]
  },
  {
   "cell_type": "markdown",
   "id": "9ba4b184",
   "metadata": {},
   "source": [
    "### d"
   ]
  },
  {
   "cell_type": "code",
   "execution_count": 173,
   "id": "150a86b9",
   "metadata": {},
   "outputs": [],
   "source": [
    "# 정규화가 필요하다\n",
    "# -> 어떤 데이터를 사용하면 .. 좋은건지..?\n",
    "\n",
    "cer_norm['cluster'] = ['Cluster {}'.format(i) for i in cer_norm.index]"
   ]
  },
  {
   "cell_type": "code",
   "execution_count": null,
   "id": "ea45fba7",
   "metadata": {},
   "outputs": [],
   "source": []
  },
  {
   "cell_type": "markdown",
   "id": "e265e26a",
   "metadata": {},
   "source": [
    "# 15.4 항공사 상용고객 마케팅"
   ]
  },
  {
   "cell_type": "code",
   "execution_count": 149,
   "id": "32e94957",
   "metadata": {},
   "outputs": [],
   "source": [
    "ewa_df = pd.read_csv('EastWestAirlinesNN.csv')"
   ]
  },
  {
   "cell_type": "code",
   "execution_count": 150,
   "id": "7364d0cc",
   "metadata": {},
   "outputs": [
    {
     "name": "stdout",
     "output_type": "stream",
     "text": [
      "<class 'pandas.core.frame.DataFrame'>\n",
      "RangeIndex: 4987 entries, 0 to 4986\n",
      "Data columns (total 16 columns):\n",
      " #   Column             Non-Null Count  Dtype  \n",
      "---  ------             --------------  -----  \n",
      " 0   ID#                4985 non-null   float64\n",
      " 1   Topflight          4985 non-null   float64\n",
      " 2   Balance            4985 non-null   float64\n",
      " 3   Qual_miles         4985 non-null   float64\n",
      " 4   cc1_miles?         4985 non-null   float64\n",
      " 5   cc2_miles?         4985 non-null   float64\n",
      " 6   cc3_miles?         4985 non-null   float64\n",
      " 7   Bonus_miles        4986 non-null   float64\n",
      " 8   Bonus_trans        4986 non-null   float64\n",
      " 9   Flight_miles_12mo  4985 non-null   float64\n",
      " 10  Flight_trans_12    4985 non-null   float64\n",
      " 11  Online_12          4985 non-null   float64\n",
      " 12  Email              4985 non-null   float64\n",
      " 13  Club_member        4985 non-null   float64\n",
      " 14  Any_cc_miles_12mo  4985 non-null   float64\n",
      " 15  Phone_sale         4985 non-null   float64\n",
      "dtypes: float64(16)\n",
      "memory usage: 623.5 KB\n"
     ]
    }
   ],
   "source": [
    "ewa_df.info()"
   ]
  },
  {
   "cell_type": "code",
   "execution_count": 151,
   "id": "01da4011",
   "metadata": {},
   "outputs": [],
   "source": [
    "ewa_df.set_index('ID#', inplace=True)"
   ]
  },
  {
   "cell_type": "code",
   "execution_count": 156,
   "id": "605f24d1",
   "metadata": {},
   "outputs": [],
   "source": [
    "ewa=ewa_df.dropna()"
   ]
  },
  {
   "cell_type": "markdown",
   "id": "64aedad6",
   "metadata": {},
   "source": [
    "### a"
   ]
  },
  {
   "cell_type": "code",
   "execution_count": 161,
   "id": "76c726ef",
   "metadata": {},
   "outputs": [],
   "source": [
    "d = pairwise.pairwise_distances(ewa, metric='euclidean')"
   ]
  },
  {
   "cell_type": "code",
   "execution_count": 162,
   "id": "6f92bc05",
   "metadata": {},
   "outputs": [],
   "source": [
    "# pandas uses sample standard deviation\n",
    "ewa_norm = (ewa - ewa.mean())/ewa.std()\n",
    "\n",
    "# compute normalized distance based on Sales and Fuel Cost\n",
    "d_norm = pairwise.pairwise_distances(ewa_norm, \n",
    "                                     metric='euclidean')\n"
   ]
  },
  {
   "cell_type": "code",
   "execution_count": 165,
   "id": "3643e3cd",
   "metadata": {},
   "outputs": [
    {
     "ename": "KeyboardInterrupt",
     "evalue": "",
     "output_type": "error",
     "traceback": [
      "\u001b[1;31m---------------------------------------------------------------------------\u001b[0m",
      "\u001b[1;31mKeyboardInterrupt\u001b[0m                         Traceback (most recent call last)",
      "Input \u001b[1;32mIn [165]\u001b[0m, in \u001b[0;36m<cell line: 11>\u001b[1;34m()\u001b[0m\n\u001b[0;32m      9\u001b[0m dendrogram(Z, labels\u001b[38;5;241m=\u001b[39mewa_norm\u001b[38;5;241m.\u001b[39mindex, color_threshold\u001b[38;5;241m=\u001b[39m\u001b[38;5;241m50\u001b[39m)\n\u001b[0;32m     10\u001b[0m plt\u001b[38;5;241m.\u001b[39maxhline(y\u001b[38;5;241m=\u001b[39m\u001b[38;5;241m50\u001b[39m, color\u001b[38;5;241m=\u001b[39m\u001b[38;5;124m'\u001b[39m\u001b[38;5;124mblack\u001b[39m\u001b[38;5;124m'\u001b[39m, linewidth\u001b[38;5;241m=\u001b[39m\u001b[38;5;241m0.5\u001b[39m, linestyle\u001b[38;5;241m=\u001b[39m\u001b[38;5;124m'\u001b[39m\u001b[38;5;124mdashed\u001b[39m\u001b[38;5;124m'\u001b[39m)\n\u001b[1;32m---> 11\u001b[0m \u001b[43mplt\u001b[49m\u001b[38;5;241;43m.\u001b[39;49m\u001b[43mshow\u001b[49m\u001b[43m(\u001b[49m\u001b[43m)\u001b[49m\n",
      "File \u001b[1;32m~\\anaconda3\\lib\\site-packages\\matplotlib\\pyplot.py:368\u001b[0m, in \u001b[0;36mshow\u001b[1;34m(*args, **kwargs)\u001b[0m\n\u001b[0;32m    324\u001b[0m \u001b[38;5;124;03m\"\"\"\u001b[39;00m\n\u001b[0;32m    325\u001b[0m \u001b[38;5;124;03mDisplay all open figures.\u001b[39;00m\n\u001b[0;32m    326\u001b[0m \n\u001b[1;32m   (...)\u001b[0m\n\u001b[0;32m    365\u001b[0m \u001b[38;5;124;03mexplicitly there.\u001b[39;00m\n\u001b[0;32m    366\u001b[0m \u001b[38;5;124;03m\"\"\"\u001b[39;00m\n\u001b[0;32m    367\u001b[0m _warn_if_gui_out_of_main_thread()\n\u001b[1;32m--> 368\u001b[0m \u001b[38;5;28;01mreturn\u001b[39;00m _backend_mod\u001b[38;5;241m.\u001b[39mshow(\u001b[38;5;241m*\u001b[39margs, \u001b[38;5;241m*\u001b[39m\u001b[38;5;241m*\u001b[39mkwargs)\n",
      "File \u001b[1;32m~\\anaconda3\\lib\\site-packages\\matplotlib_inline\\backend_inline.py:41\u001b[0m, in \u001b[0;36mshow\u001b[1;34m(close, block)\u001b[0m\n\u001b[0;32m     39\u001b[0m \u001b[38;5;28;01mtry\u001b[39;00m:\n\u001b[0;32m     40\u001b[0m     \u001b[38;5;28;01mfor\u001b[39;00m figure_manager \u001b[38;5;129;01min\u001b[39;00m Gcf\u001b[38;5;241m.\u001b[39mget_all_fig_managers():\n\u001b[1;32m---> 41\u001b[0m         \u001b[43mdisplay\u001b[49m\u001b[43m(\u001b[49m\n\u001b[0;32m     42\u001b[0m \u001b[43m            \u001b[49m\u001b[43mfigure_manager\u001b[49m\u001b[38;5;241;43m.\u001b[39;49m\u001b[43mcanvas\u001b[49m\u001b[38;5;241;43m.\u001b[39;49m\u001b[43mfigure\u001b[49m\u001b[43m,\u001b[49m\n\u001b[0;32m     43\u001b[0m \u001b[43m            \u001b[49m\u001b[43mmetadata\u001b[49m\u001b[38;5;241;43m=\u001b[39;49m\u001b[43m_fetch_figure_metadata\u001b[49m\u001b[43m(\u001b[49m\u001b[43mfigure_manager\u001b[49m\u001b[38;5;241;43m.\u001b[39;49m\u001b[43mcanvas\u001b[49m\u001b[38;5;241;43m.\u001b[39;49m\u001b[43mfigure\u001b[49m\u001b[43m)\u001b[49m\n\u001b[0;32m     44\u001b[0m \u001b[43m        \u001b[49m\u001b[43m)\u001b[49m\n\u001b[0;32m     45\u001b[0m \u001b[38;5;28;01mfinally\u001b[39;00m:\n\u001b[0;32m     46\u001b[0m     show\u001b[38;5;241m.\u001b[39m_to_draw \u001b[38;5;241m=\u001b[39m []\n",
      "File \u001b[1;32m~\\anaconda3\\lib\\site-packages\\IPython\\core\\display_functions.py:298\u001b[0m, in \u001b[0;36mdisplay\u001b[1;34m(include, exclude, metadata, transient, display_id, raw, clear, *objs, **kwargs)\u001b[0m\n\u001b[0;32m    296\u001b[0m     publish_display_data(data\u001b[38;5;241m=\u001b[39mobj, metadata\u001b[38;5;241m=\u001b[39mmetadata, \u001b[38;5;241m*\u001b[39m\u001b[38;5;241m*\u001b[39mkwargs)\n\u001b[0;32m    297\u001b[0m \u001b[38;5;28;01melse\u001b[39;00m:\n\u001b[1;32m--> 298\u001b[0m     format_dict, md_dict \u001b[38;5;241m=\u001b[39m \u001b[38;5;28;43mformat\u001b[39;49m\u001b[43m(\u001b[49m\u001b[43mobj\u001b[49m\u001b[43m,\u001b[49m\u001b[43m \u001b[49m\u001b[43minclude\u001b[49m\u001b[38;5;241;43m=\u001b[39;49m\u001b[43minclude\u001b[49m\u001b[43m,\u001b[49m\u001b[43m \u001b[49m\u001b[43mexclude\u001b[49m\u001b[38;5;241;43m=\u001b[39;49m\u001b[43mexclude\u001b[49m\u001b[43m)\u001b[49m\n\u001b[0;32m    299\u001b[0m     \u001b[38;5;28;01mif\u001b[39;00m \u001b[38;5;129;01mnot\u001b[39;00m format_dict:\n\u001b[0;32m    300\u001b[0m         \u001b[38;5;66;03m# nothing to display (e.g. _ipython_display_ took over)\u001b[39;00m\n\u001b[0;32m    301\u001b[0m         \u001b[38;5;28;01mcontinue\u001b[39;00m\n",
      "File \u001b[1;32m~\\anaconda3\\lib\\site-packages\\IPython\\core\\formatters.py:178\u001b[0m, in \u001b[0;36mDisplayFormatter.format\u001b[1;34m(self, obj, include, exclude)\u001b[0m\n\u001b[0;32m    176\u001b[0m md \u001b[38;5;241m=\u001b[39m \u001b[38;5;28;01mNone\u001b[39;00m\n\u001b[0;32m    177\u001b[0m \u001b[38;5;28;01mtry\u001b[39;00m:\n\u001b[1;32m--> 178\u001b[0m     data \u001b[38;5;241m=\u001b[39m \u001b[43mformatter\u001b[49m\u001b[43m(\u001b[49m\u001b[43mobj\u001b[49m\u001b[43m)\u001b[49m\n\u001b[0;32m    179\u001b[0m \u001b[38;5;28;01mexcept\u001b[39;00m:\n\u001b[0;32m    180\u001b[0m     \u001b[38;5;66;03m# FIXME: log the exception\u001b[39;00m\n\u001b[0;32m    181\u001b[0m     \u001b[38;5;28;01mraise\u001b[39;00m\n",
      "File \u001b[1;32m~\\anaconda3\\lib\\site-packages\\decorator.py:232\u001b[0m, in \u001b[0;36mdecorate.<locals>.fun\u001b[1;34m(*args, **kw)\u001b[0m\n\u001b[0;32m    230\u001b[0m \u001b[38;5;28;01mif\u001b[39;00m \u001b[38;5;129;01mnot\u001b[39;00m kwsyntax:\n\u001b[0;32m    231\u001b[0m     args, kw \u001b[38;5;241m=\u001b[39m fix(args, kw, sig)\n\u001b[1;32m--> 232\u001b[0m \u001b[38;5;28;01mreturn\u001b[39;00m caller(func, \u001b[38;5;241m*\u001b[39m(extras \u001b[38;5;241m+\u001b[39m args), \u001b[38;5;241m*\u001b[39m\u001b[38;5;241m*\u001b[39mkw)\n",
      "File \u001b[1;32m~\\anaconda3\\lib\\site-packages\\IPython\\core\\formatters.py:222\u001b[0m, in \u001b[0;36mcatch_format_error\u001b[1;34m(method, self, *args, **kwargs)\u001b[0m\n\u001b[0;32m    220\u001b[0m \u001b[38;5;124;03m\"\"\"show traceback on failed format call\"\"\"\u001b[39;00m\n\u001b[0;32m    221\u001b[0m \u001b[38;5;28;01mtry\u001b[39;00m:\n\u001b[1;32m--> 222\u001b[0m     r \u001b[38;5;241m=\u001b[39m method(\u001b[38;5;28mself\u001b[39m, \u001b[38;5;241m*\u001b[39margs, \u001b[38;5;241m*\u001b[39m\u001b[38;5;241m*\u001b[39mkwargs)\n\u001b[0;32m    223\u001b[0m \u001b[38;5;28;01mexcept\u001b[39;00m \u001b[38;5;167;01mNotImplementedError\u001b[39;00m:\n\u001b[0;32m    224\u001b[0m     \u001b[38;5;66;03m# don't warn on NotImplementedErrors\u001b[39;00m\n\u001b[0;32m    225\u001b[0m     \u001b[38;5;28;01mreturn\u001b[39;00m \u001b[38;5;28mself\u001b[39m\u001b[38;5;241m.\u001b[39m_check_return(\u001b[38;5;28;01mNone\u001b[39;00m, args[\u001b[38;5;241m0\u001b[39m])\n",
      "File \u001b[1;32m~\\anaconda3\\lib\\site-packages\\IPython\\core\\formatters.py:339\u001b[0m, in \u001b[0;36mBaseFormatter.__call__\u001b[1;34m(self, obj)\u001b[0m\n\u001b[0;32m    337\u001b[0m     \u001b[38;5;28;01mpass\u001b[39;00m\n\u001b[0;32m    338\u001b[0m \u001b[38;5;28;01melse\u001b[39;00m:\n\u001b[1;32m--> 339\u001b[0m     \u001b[38;5;28;01mreturn\u001b[39;00m \u001b[43mprinter\u001b[49m\u001b[43m(\u001b[49m\u001b[43mobj\u001b[49m\u001b[43m)\u001b[49m\n\u001b[0;32m    340\u001b[0m \u001b[38;5;66;03m# Finally look for special method names\u001b[39;00m\n\u001b[0;32m    341\u001b[0m method \u001b[38;5;241m=\u001b[39m get_real_method(obj, \u001b[38;5;28mself\u001b[39m\u001b[38;5;241m.\u001b[39mprint_method)\n",
      "File \u001b[1;32m~\\anaconda3\\lib\\site-packages\\IPython\\core\\pylabtools.py:151\u001b[0m, in \u001b[0;36mprint_figure\u001b[1;34m(fig, fmt, bbox_inches, base64, **kwargs)\u001b[0m\n\u001b[0;32m    148\u001b[0m     \u001b[38;5;28;01mfrom\u001b[39;00m \u001b[38;5;21;01mmatplotlib\u001b[39;00m\u001b[38;5;21;01m.\u001b[39;00m\u001b[38;5;21;01mbackend_bases\u001b[39;00m \u001b[38;5;28;01mimport\u001b[39;00m FigureCanvasBase\n\u001b[0;32m    149\u001b[0m     FigureCanvasBase(fig)\n\u001b[1;32m--> 151\u001b[0m fig\u001b[38;5;241m.\u001b[39mcanvas\u001b[38;5;241m.\u001b[39mprint_figure(bytes_io, \u001b[38;5;241m*\u001b[39m\u001b[38;5;241m*\u001b[39mkw)\n\u001b[0;32m    152\u001b[0m data \u001b[38;5;241m=\u001b[39m bytes_io\u001b[38;5;241m.\u001b[39mgetvalue()\n\u001b[0;32m    153\u001b[0m \u001b[38;5;28;01mif\u001b[39;00m fmt \u001b[38;5;241m==\u001b[39m \u001b[38;5;124m'\u001b[39m\u001b[38;5;124msvg\u001b[39m\u001b[38;5;124m'\u001b[39m:\n",
      "File \u001b[1;32m~\\anaconda3\\lib\\site-packages\\matplotlib\\backend_bases.py:2295\u001b[0m, in \u001b[0;36mFigureCanvasBase.print_figure\u001b[1;34m(self, filename, dpi, facecolor, edgecolor, orientation, format, bbox_inches, pad_inches, bbox_extra_artists, backend, **kwargs)\u001b[0m\n\u001b[0;32m   2289\u001b[0m     renderer \u001b[38;5;241m=\u001b[39m _get_renderer(\n\u001b[0;32m   2290\u001b[0m         \u001b[38;5;28mself\u001b[39m\u001b[38;5;241m.\u001b[39mfigure,\n\u001b[0;32m   2291\u001b[0m         functools\u001b[38;5;241m.\u001b[39mpartial(\n\u001b[0;32m   2292\u001b[0m             print_method, orientation\u001b[38;5;241m=\u001b[39morientation)\n\u001b[0;32m   2293\u001b[0m     )\n\u001b[0;32m   2294\u001b[0m     \u001b[38;5;28;01mwith\u001b[39;00m \u001b[38;5;28mgetattr\u001b[39m(renderer, \u001b[38;5;124m\"\u001b[39m\u001b[38;5;124m_draw_disabled\u001b[39m\u001b[38;5;124m\"\u001b[39m, nullcontext)():\n\u001b[1;32m-> 2295\u001b[0m         \u001b[38;5;28;43mself\u001b[39;49m\u001b[38;5;241;43m.\u001b[39;49m\u001b[43mfigure\u001b[49m\u001b[38;5;241;43m.\u001b[39;49m\u001b[43mdraw\u001b[49m\u001b[43m(\u001b[49m\u001b[43mrenderer\u001b[49m\u001b[43m)\u001b[49m\n\u001b[0;32m   2297\u001b[0m \u001b[38;5;28;01mif\u001b[39;00m bbox_inches:\n\u001b[0;32m   2298\u001b[0m     \u001b[38;5;28;01mif\u001b[39;00m bbox_inches \u001b[38;5;241m==\u001b[39m \u001b[38;5;124m\"\u001b[39m\u001b[38;5;124mtight\u001b[39m\u001b[38;5;124m\"\u001b[39m:\n",
      "File \u001b[1;32m~\\anaconda3\\lib\\site-packages\\matplotlib\\artist.py:73\u001b[0m, in \u001b[0;36m_finalize_rasterization.<locals>.draw_wrapper\u001b[1;34m(artist, renderer, *args, **kwargs)\u001b[0m\n\u001b[0;32m     71\u001b[0m \u001b[38;5;129m@wraps\u001b[39m(draw)\n\u001b[0;32m     72\u001b[0m \u001b[38;5;28;01mdef\u001b[39;00m \u001b[38;5;21mdraw_wrapper\u001b[39m(artist, renderer, \u001b[38;5;241m*\u001b[39margs, \u001b[38;5;241m*\u001b[39m\u001b[38;5;241m*\u001b[39mkwargs):\n\u001b[1;32m---> 73\u001b[0m     result \u001b[38;5;241m=\u001b[39m draw(artist, renderer, \u001b[38;5;241m*\u001b[39margs, \u001b[38;5;241m*\u001b[39m\u001b[38;5;241m*\u001b[39mkwargs)\n\u001b[0;32m     74\u001b[0m     \u001b[38;5;28;01mif\u001b[39;00m renderer\u001b[38;5;241m.\u001b[39m_rasterizing:\n\u001b[0;32m     75\u001b[0m         renderer\u001b[38;5;241m.\u001b[39mstop_rasterizing()\n",
      "File \u001b[1;32m~\\anaconda3\\lib\\site-packages\\matplotlib\\artist.py:50\u001b[0m, in \u001b[0;36mallow_rasterization.<locals>.draw_wrapper\u001b[1;34m(artist, renderer)\u001b[0m\n\u001b[0;32m     47\u001b[0m     \u001b[38;5;28;01mif\u001b[39;00m artist\u001b[38;5;241m.\u001b[39mget_agg_filter() \u001b[38;5;129;01mis\u001b[39;00m \u001b[38;5;129;01mnot\u001b[39;00m \u001b[38;5;28;01mNone\u001b[39;00m:\n\u001b[0;32m     48\u001b[0m         renderer\u001b[38;5;241m.\u001b[39mstart_filter()\n\u001b[1;32m---> 50\u001b[0m     \u001b[38;5;28;01mreturn\u001b[39;00m \u001b[43mdraw\u001b[49m\u001b[43m(\u001b[49m\u001b[43martist\u001b[49m\u001b[43m,\u001b[49m\u001b[43m \u001b[49m\u001b[43mrenderer\u001b[49m\u001b[43m)\u001b[49m\n\u001b[0;32m     51\u001b[0m \u001b[38;5;28;01mfinally\u001b[39;00m:\n\u001b[0;32m     52\u001b[0m     \u001b[38;5;28;01mif\u001b[39;00m artist\u001b[38;5;241m.\u001b[39mget_agg_filter() \u001b[38;5;129;01mis\u001b[39;00m \u001b[38;5;129;01mnot\u001b[39;00m \u001b[38;5;28;01mNone\u001b[39;00m:\n",
      "File \u001b[1;32m~\\anaconda3\\lib\\site-packages\\matplotlib\\figure.py:2810\u001b[0m, in \u001b[0;36mFigure.draw\u001b[1;34m(self, renderer)\u001b[0m\n\u001b[0;32m   2807\u001b[0m         \u001b[38;5;66;03m# ValueError can occur when resizing a window.\u001b[39;00m\n\u001b[0;32m   2809\u001b[0m \u001b[38;5;28mself\u001b[39m\u001b[38;5;241m.\u001b[39mpatch\u001b[38;5;241m.\u001b[39mdraw(renderer)\n\u001b[1;32m-> 2810\u001b[0m \u001b[43mmimage\u001b[49m\u001b[38;5;241;43m.\u001b[39;49m\u001b[43m_draw_list_compositing_images\u001b[49m\u001b[43m(\u001b[49m\n\u001b[0;32m   2811\u001b[0m \u001b[43m    \u001b[49m\u001b[43mrenderer\u001b[49m\u001b[43m,\u001b[49m\u001b[43m \u001b[49m\u001b[38;5;28;43mself\u001b[39;49m\u001b[43m,\u001b[49m\u001b[43m \u001b[49m\u001b[43martists\u001b[49m\u001b[43m,\u001b[49m\u001b[43m \u001b[49m\u001b[38;5;28;43mself\u001b[39;49m\u001b[38;5;241;43m.\u001b[39;49m\u001b[43msuppressComposite\u001b[49m\u001b[43m)\u001b[49m\n\u001b[0;32m   2813\u001b[0m \u001b[38;5;28;01mfor\u001b[39;00m sfig \u001b[38;5;129;01min\u001b[39;00m \u001b[38;5;28mself\u001b[39m\u001b[38;5;241m.\u001b[39msubfigs:\n\u001b[0;32m   2814\u001b[0m     sfig\u001b[38;5;241m.\u001b[39mdraw(renderer)\n",
      "File \u001b[1;32m~\\anaconda3\\lib\\site-packages\\matplotlib\\image.py:132\u001b[0m, in \u001b[0;36m_draw_list_compositing_images\u001b[1;34m(renderer, parent, artists, suppress_composite)\u001b[0m\n\u001b[0;32m    130\u001b[0m \u001b[38;5;28;01mif\u001b[39;00m not_composite \u001b[38;5;129;01mor\u001b[39;00m \u001b[38;5;129;01mnot\u001b[39;00m has_images:\n\u001b[0;32m    131\u001b[0m     \u001b[38;5;28;01mfor\u001b[39;00m a \u001b[38;5;129;01min\u001b[39;00m artists:\n\u001b[1;32m--> 132\u001b[0m         \u001b[43ma\u001b[49m\u001b[38;5;241;43m.\u001b[39;49m\u001b[43mdraw\u001b[49m\u001b[43m(\u001b[49m\u001b[43mrenderer\u001b[49m\u001b[43m)\u001b[49m\n\u001b[0;32m    133\u001b[0m \u001b[38;5;28;01melse\u001b[39;00m:\n\u001b[0;32m    134\u001b[0m     \u001b[38;5;66;03m# Composite any adjacent images together\u001b[39;00m\n\u001b[0;32m    135\u001b[0m     image_group \u001b[38;5;241m=\u001b[39m []\n",
      "File \u001b[1;32m~\\anaconda3\\lib\\site-packages\\matplotlib\\artist.py:50\u001b[0m, in \u001b[0;36mallow_rasterization.<locals>.draw_wrapper\u001b[1;34m(artist, renderer)\u001b[0m\n\u001b[0;32m     47\u001b[0m     \u001b[38;5;28;01mif\u001b[39;00m artist\u001b[38;5;241m.\u001b[39mget_agg_filter() \u001b[38;5;129;01mis\u001b[39;00m \u001b[38;5;129;01mnot\u001b[39;00m \u001b[38;5;28;01mNone\u001b[39;00m:\n\u001b[0;32m     48\u001b[0m         renderer\u001b[38;5;241m.\u001b[39mstart_filter()\n\u001b[1;32m---> 50\u001b[0m     \u001b[38;5;28;01mreturn\u001b[39;00m \u001b[43mdraw\u001b[49m\u001b[43m(\u001b[49m\u001b[43martist\u001b[49m\u001b[43m,\u001b[49m\u001b[43m \u001b[49m\u001b[43mrenderer\u001b[49m\u001b[43m)\u001b[49m\n\u001b[0;32m     51\u001b[0m \u001b[38;5;28;01mfinally\u001b[39;00m:\n\u001b[0;32m     52\u001b[0m     \u001b[38;5;28;01mif\u001b[39;00m artist\u001b[38;5;241m.\u001b[39mget_agg_filter() \u001b[38;5;129;01mis\u001b[39;00m \u001b[38;5;129;01mnot\u001b[39;00m \u001b[38;5;28;01mNone\u001b[39;00m:\n",
      "File \u001b[1;32m~\\anaconda3\\lib\\site-packages\\matplotlib\\axes\\_base.py:3046\u001b[0m, in \u001b[0;36m_AxesBase.draw\u001b[1;34m(self, renderer)\u001b[0m\n\u001b[0;32m   3043\u001b[0m     \u001b[38;5;28;01mfor\u001b[39;00m spine \u001b[38;5;129;01min\u001b[39;00m \u001b[38;5;28mself\u001b[39m\u001b[38;5;241m.\u001b[39mspines\u001b[38;5;241m.\u001b[39mvalues():\n\u001b[0;32m   3044\u001b[0m         artists\u001b[38;5;241m.\u001b[39mremove(spine)\n\u001b[1;32m-> 3046\u001b[0m \u001b[38;5;28;43mself\u001b[39;49m\u001b[38;5;241;43m.\u001b[39;49m\u001b[43m_update_title_position\u001b[49m\u001b[43m(\u001b[49m\u001b[43mrenderer\u001b[49m\u001b[43m)\u001b[49m\n\u001b[0;32m   3048\u001b[0m \u001b[38;5;28;01mif\u001b[39;00m \u001b[38;5;129;01mnot\u001b[39;00m \u001b[38;5;28mself\u001b[39m\u001b[38;5;241m.\u001b[39maxison:\n\u001b[0;32m   3049\u001b[0m     \u001b[38;5;28;01mfor\u001b[39;00m _axis \u001b[38;5;129;01min\u001b[39;00m \u001b[38;5;28mself\u001b[39m\u001b[38;5;241m.\u001b[39m_get_axis_list():\n",
      "File \u001b[1;32m~\\anaconda3\\lib\\site-packages\\matplotlib\\axes\\_base.py:2986\u001b[0m, in \u001b[0;36m_AxesBase._update_title_position\u001b[1;34m(self, renderer)\u001b[0m\n\u001b[0;32m   2983\u001b[0m \u001b[38;5;28;01mfor\u001b[39;00m ax \u001b[38;5;129;01min\u001b[39;00m axs:\n\u001b[0;32m   2984\u001b[0m     \u001b[38;5;28;01mif\u001b[39;00m (ax\u001b[38;5;241m.\u001b[39mxaxis\u001b[38;5;241m.\u001b[39mget_ticks_position() \u001b[38;5;129;01min\u001b[39;00m [\u001b[38;5;124m'\u001b[39m\u001b[38;5;124mtop\u001b[39m\u001b[38;5;124m'\u001b[39m, \u001b[38;5;124m'\u001b[39m\u001b[38;5;124munknown\u001b[39m\u001b[38;5;124m'\u001b[39m]\n\u001b[0;32m   2985\u001b[0m             \u001b[38;5;129;01mor\u001b[39;00m ax\u001b[38;5;241m.\u001b[39mxaxis\u001b[38;5;241m.\u001b[39mget_label_position() \u001b[38;5;241m==\u001b[39m \u001b[38;5;124m'\u001b[39m\u001b[38;5;124mtop\u001b[39m\u001b[38;5;124m'\u001b[39m):\n\u001b[1;32m-> 2986\u001b[0m         bb \u001b[38;5;241m=\u001b[39m \u001b[43max\u001b[49m\u001b[38;5;241;43m.\u001b[39;49m\u001b[43mxaxis\u001b[49m\u001b[38;5;241;43m.\u001b[39;49m\u001b[43mget_tightbbox\u001b[49m\u001b[43m(\u001b[49m\u001b[43mrenderer\u001b[49m\u001b[43m)\u001b[49m\n\u001b[0;32m   2987\u001b[0m     \u001b[38;5;28;01melse\u001b[39;00m:\n\u001b[0;32m   2988\u001b[0m         bb \u001b[38;5;241m=\u001b[39m ax\u001b[38;5;241m.\u001b[39mget_window_extent(renderer)\n",
      "File \u001b[1;32m~\\anaconda3\\lib\\site-packages\\matplotlib\\axis.py:1105\u001b[0m, in \u001b[0;36mAxis.get_tightbbox\u001b[1;34m(self, renderer, for_layout_only)\u001b[0m\n\u001b[0;32m   1101\u001b[0m     \u001b[38;5;28;01mreturn\u001b[39;00m\n\u001b[0;32m   1103\u001b[0m ticks_to_draw \u001b[38;5;241m=\u001b[39m \u001b[38;5;28mself\u001b[39m\u001b[38;5;241m.\u001b[39m_update_ticks()\n\u001b[1;32m-> 1105\u001b[0m \u001b[38;5;28;43mself\u001b[39;49m\u001b[38;5;241;43m.\u001b[39;49m\u001b[43m_update_label_position\u001b[49m\u001b[43m(\u001b[49m\u001b[43mrenderer\u001b[49m\u001b[43m)\u001b[49m\n\u001b[0;32m   1107\u001b[0m \u001b[38;5;66;03m# go back to just this axis's tick labels\u001b[39;00m\n\u001b[0;32m   1108\u001b[0m ticklabelBoxes, ticklabelBoxes2 \u001b[38;5;241m=\u001b[39m \u001b[38;5;28mself\u001b[39m\u001b[38;5;241m.\u001b[39m_get_tick_bboxes(\n\u001b[0;32m   1109\u001b[0m             ticks_to_draw, renderer)\n",
      "File \u001b[1;32m~\\anaconda3\\lib\\site-packages\\matplotlib\\axis.py:2083\u001b[0m, in \u001b[0;36mXAxis._update_label_position\u001b[1;34m(self, renderer)\u001b[0m\n\u001b[0;32m   2079\u001b[0m     \u001b[38;5;28;01mreturn\u001b[39;00m\n\u001b[0;32m   2081\u001b[0m \u001b[38;5;66;03m# get bounding boxes for this axis and any siblings\u001b[39;00m\n\u001b[0;32m   2082\u001b[0m \u001b[38;5;66;03m# that have been set by `fig.align_xlabels()`\u001b[39;00m\n\u001b[1;32m-> 2083\u001b[0m bboxes, bboxes2 \u001b[38;5;241m=\u001b[39m \u001b[38;5;28;43mself\u001b[39;49m\u001b[38;5;241;43m.\u001b[39;49m\u001b[43m_get_tick_boxes_siblings\u001b[49m\u001b[43m(\u001b[49m\u001b[43mrenderer\u001b[49m\u001b[38;5;241;43m=\u001b[39;49m\u001b[43mrenderer\u001b[49m\u001b[43m)\u001b[49m\n\u001b[0;32m   2085\u001b[0m x, y \u001b[38;5;241m=\u001b[39m \u001b[38;5;28mself\u001b[39m\u001b[38;5;241m.\u001b[39mlabel\u001b[38;5;241m.\u001b[39mget_position()\n\u001b[0;32m   2086\u001b[0m \u001b[38;5;28;01mif\u001b[39;00m \u001b[38;5;28mself\u001b[39m\u001b[38;5;241m.\u001b[39mlabel_position \u001b[38;5;241m==\u001b[39m \u001b[38;5;124m'\u001b[39m\u001b[38;5;124mbottom\u001b[39m\u001b[38;5;124m'\u001b[39m:\n",
      "File \u001b[1;32m~\\anaconda3\\lib\\site-packages\\matplotlib\\axis.py:1881\u001b[0m, in \u001b[0;36mAxis._get_tick_boxes_siblings\u001b[1;34m(self, renderer)\u001b[0m\n\u001b[0;32m   1879\u001b[0m axis \u001b[38;5;241m=\u001b[39m \u001b[38;5;28mgetattr\u001b[39m(ax, \u001b[38;5;124mf\u001b[39m\u001b[38;5;124m\"\u001b[39m\u001b[38;5;132;01m{\u001b[39;00maxis_name\u001b[38;5;132;01m}\u001b[39;00m\u001b[38;5;124maxis\u001b[39m\u001b[38;5;124m\"\u001b[39m)\n\u001b[0;32m   1880\u001b[0m ticks_to_draw \u001b[38;5;241m=\u001b[39m axis\u001b[38;5;241m.\u001b[39m_update_ticks()\n\u001b[1;32m-> 1881\u001b[0m tlb, tlb2 \u001b[38;5;241m=\u001b[39m \u001b[43maxis\u001b[49m\u001b[38;5;241;43m.\u001b[39;49m\u001b[43m_get_tick_bboxes\u001b[49m\u001b[43m(\u001b[49m\u001b[43mticks_to_draw\u001b[49m\u001b[43m,\u001b[49m\u001b[43m \u001b[49m\u001b[43mrenderer\u001b[49m\u001b[43m)\u001b[49m\n\u001b[0;32m   1882\u001b[0m bboxes\u001b[38;5;241m.\u001b[39mextend(tlb)\n\u001b[0;32m   1883\u001b[0m bboxes2\u001b[38;5;241m.\u001b[39mextend(tlb2)\n",
      "File \u001b[1;32m~\\anaconda3\\lib\\site-packages\\matplotlib\\axis.py:1085\u001b[0m, in \u001b[0;36mAxis._get_tick_bboxes\u001b[1;34m(self, ticks, renderer)\u001b[0m\n\u001b[0;32m   1083\u001b[0m \u001b[38;5;28;01mdef\u001b[39;00m \u001b[38;5;21m_get_tick_bboxes\u001b[39m(\u001b[38;5;28mself\u001b[39m, ticks, renderer):\n\u001b[0;32m   1084\u001b[0m     \u001b[38;5;124;03m\"\"\"Return lists of bboxes for ticks' label1's and label2's.\"\"\"\u001b[39;00m\n\u001b[1;32m-> 1085\u001b[0m     \u001b[38;5;28;01mreturn\u001b[39;00m ([tick\u001b[38;5;241m.\u001b[39mlabel1\u001b[38;5;241m.\u001b[39mget_window_extent(renderer)\n\u001b[0;32m   1086\u001b[0m              \u001b[38;5;28;01mfor\u001b[39;00m tick \u001b[38;5;129;01min\u001b[39;00m ticks \u001b[38;5;28;01mif\u001b[39;00m tick\u001b[38;5;241m.\u001b[39mlabel1\u001b[38;5;241m.\u001b[39mget_visible()],\n\u001b[0;32m   1087\u001b[0m             [tick\u001b[38;5;241m.\u001b[39mlabel2\u001b[38;5;241m.\u001b[39mget_window_extent(renderer)\n\u001b[0;32m   1088\u001b[0m              \u001b[38;5;28;01mfor\u001b[39;00m tick \u001b[38;5;129;01min\u001b[39;00m ticks \u001b[38;5;28;01mif\u001b[39;00m tick\u001b[38;5;241m.\u001b[39mlabel2\u001b[38;5;241m.\u001b[39mget_visible()])\n",
      "File \u001b[1;32m~\\anaconda3\\lib\\site-packages\\matplotlib\\axis.py:1085\u001b[0m, in \u001b[0;36m<listcomp>\u001b[1;34m(.0)\u001b[0m\n\u001b[0;32m   1083\u001b[0m \u001b[38;5;28;01mdef\u001b[39;00m \u001b[38;5;21m_get_tick_bboxes\u001b[39m(\u001b[38;5;28mself\u001b[39m, ticks, renderer):\n\u001b[0;32m   1084\u001b[0m     \u001b[38;5;124;03m\"\"\"Return lists of bboxes for ticks' label1's and label2's.\"\"\"\u001b[39;00m\n\u001b[1;32m-> 1085\u001b[0m     \u001b[38;5;28;01mreturn\u001b[39;00m ([\u001b[43mtick\u001b[49m\u001b[38;5;241;43m.\u001b[39;49m\u001b[43mlabel1\u001b[49m\u001b[38;5;241;43m.\u001b[39;49m\u001b[43mget_window_extent\u001b[49m\u001b[43m(\u001b[49m\u001b[43mrenderer\u001b[49m\u001b[43m)\u001b[49m\n\u001b[0;32m   1086\u001b[0m              \u001b[38;5;28;01mfor\u001b[39;00m tick \u001b[38;5;129;01min\u001b[39;00m ticks \u001b[38;5;28;01mif\u001b[39;00m tick\u001b[38;5;241m.\u001b[39mlabel1\u001b[38;5;241m.\u001b[39mget_visible()],\n\u001b[0;32m   1087\u001b[0m             [tick\u001b[38;5;241m.\u001b[39mlabel2\u001b[38;5;241m.\u001b[39mget_window_extent(renderer)\n\u001b[0;32m   1088\u001b[0m              \u001b[38;5;28;01mfor\u001b[39;00m tick \u001b[38;5;129;01min\u001b[39;00m ticks \u001b[38;5;28;01mif\u001b[39;00m tick\u001b[38;5;241m.\u001b[39mlabel2\u001b[38;5;241m.\u001b[39mget_visible()])\n",
      "File \u001b[1;32m~\\anaconda3\\lib\\site-packages\\matplotlib\\text.py:910\u001b[0m, in \u001b[0;36mText.get_window_extent\u001b[1;34m(self, renderer, dpi)\u001b[0m\n\u001b[0;32m    907\u001b[0m     \u001b[38;5;28;01mraise\u001b[39;00m \u001b[38;5;167;01mRuntimeError\u001b[39;00m(\u001b[38;5;124m'\u001b[39m\u001b[38;5;124mCannot get window extent w/o renderer\u001b[39m\u001b[38;5;124m'\u001b[39m)\n\u001b[0;32m    909\u001b[0m \u001b[38;5;28;01mwith\u001b[39;00m cbook\u001b[38;5;241m.\u001b[39m_setattr_cm(\u001b[38;5;28mself\u001b[39m\u001b[38;5;241m.\u001b[39mfigure, dpi\u001b[38;5;241m=\u001b[39mdpi):\n\u001b[1;32m--> 910\u001b[0m     bbox, info, descent \u001b[38;5;241m=\u001b[39m \u001b[38;5;28;43mself\u001b[39;49m\u001b[38;5;241;43m.\u001b[39;49m\u001b[43m_get_layout\u001b[49m\u001b[43m(\u001b[49m\u001b[38;5;28;43mself\u001b[39;49m\u001b[38;5;241;43m.\u001b[39;49m\u001b[43m_renderer\u001b[49m\u001b[43m)\u001b[49m\n\u001b[0;32m    911\u001b[0m     x, y \u001b[38;5;241m=\u001b[39m \u001b[38;5;28mself\u001b[39m\u001b[38;5;241m.\u001b[39mget_unitless_position()\n\u001b[0;32m    912\u001b[0m     x, y \u001b[38;5;241m=\u001b[39m \u001b[38;5;28mself\u001b[39m\u001b[38;5;241m.\u001b[39mget_transform()\u001b[38;5;241m.\u001b[39mtransform((x, y))\n",
      "File \u001b[1;32m~\\anaconda3\\lib\\site-packages\\matplotlib\\text.py:309\u001b[0m, in \u001b[0;36mText._get_layout\u001b[1;34m(self, renderer)\u001b[0m\n\u001b[0;32m    306\u001b[0m ys \u001b[38;5;241m=\u001b[39m []\n\u001b[0;32m    308\u001b[0m \u001b[38;5;66;03m# Full vertical extent of font, including ascenders and descenders:\u001b[39;00m\n\u001b[1;32m--> 309\u001b[0m _, lp_h, lp_d \u001b[38;5;241m=\u001b[39m \u001b[43mrenderer\u001b[49m\u001b[38;5;241;43m.\u001b[39;49m\u001b[43mget_text_width_height_descent\u001b[49m\u001b[43m(\u001b[49m\n\u001b[0;32m    310\u001b[0m \u001b[43m    \u001b[49m\u001b[38;5;124;43m\"\u001b[39;49m\u001b[38;5;124;43mlp\u001b[39;49m\u001b[38;5;124;43m\"\u001b[39;49m\u001b[43m,\u001b[49m\u001b[43m \u001b[49m\u001b[38;5;28;43mself\u001b[39;49m\u001b[38;5;241;43m.\u001b[39;49m\u001b[43m_fontproperties\u001b[49m\u001b[43m,\u001b[49m\n\u001b[0;32m    311\u001b[0m \u001b[43m    \u001b[49m\u001b[43mismath\u001b[49m\u001b[38;5;241;43m=\u001b[39;49m\u001b[38;5;124;43m\"\u001b[39;49m\u001b[38;5;124;43mTeX\u001b[39;49m\u001b[38;5;124;43m\"\u001b[39;49m\u001b[43m \u001b[49m\u001b[38;5;28;43;01mif\u001b[39;49;00m\u001b[43m \u001b[49m\u001b[38;5;28;43mself\u001b[39;49m\u001b[38;5;241;43m.\u001b[39;49m\u001b[43mget_usetex\u001b[49m\u001b[43m(\u001b[49m\u001b[43m)\u001b[49m\u001b[43m \u001b[49m\u001b[38;5;28;43;01melse\u001b[39;49;00m\u001b[43m \u001b[49m\u001b[38;5;28;43;01mFalse\u001b[39;49;00m\u001b[43m)\u001b[49m\n\u001b[0;32m    312\u001b[0m min_dy \u001b[38;5;241m=\u001b[39m (lp_h \u001b[38;5;241m-\u001b[39m lp_d) \u001b[38;5;241m*\u001b[39m \u001b[38;5;28mself\u001b[39m\u001b[38;5;241m.\u001b[39m_linespacing\n\u001b[0;32m    314\u001b[0m \u001b[38;5;28;01mfor\u001b[39;00m i, line \u001b[38;5;129;01min\u001b[39;00m \u001b[38;5;28menumerate\u001b[39m(lines):\n",
      "File \u001b[1;32m~\\anaconda3\\lib\\site-packages\\matplotlib\\backends\\backend_agg.py:270\u001b[0m, in \u001b[0;36mRendererAgg.get_text_width_height_descent\u001b[1;34m(self, s, prop, ismath)\u001b[0m\n\u001b[0;32m    268\u001b[0m flags \u001b[38;5;241m=\u001b[39m get_hinting_flag()\n\u001b[0;32m    269\u001b[0m font \u001b[38;5;241m=\u001b[39m \u001b[38;5;28mself\u001b[39m\u001b[38;5;241m.\u001b[39m_get_agg_font(prop)\n\u001b[1;32m--> 270\u001b[0m \u001b[43mfont\u001b[49m\u001b[38;5;241;43m.\u001b[39;49m\u001b[43mset_text\u001b[49m\u001b[43m(\u001b[49m\u001b[43ms\u001b[49m\u001b[43m,\u001b[49m\u001b[43m \u001b[49m\u001b[38;5;241;43m0.0\u001b[39;49m\u001b[43m,\u001b[49m\u001b[43m \u001b[49m\u001b[43mflags\u001b[49m\u001b[38;5;241;43m=\u001b[39;49m\u001b[43mflags\u001b[49m\u001b[43m)\u001b[49m\n\u001b[0;32m    271\u001b[0m w, h \u001b[38;5;241m=\u001b[39m font\u001b[38;5;241m.\u001b[39mget_width_height()  \u001b[38;5;66;03m# width and height of unrotated string\u001b[39;00m\n\u001b[0;32m    272\u001b[0m d \u001b[38;5;241m=\u001b[39m font\u001b[38;5;241m.\u001b[39mget_descent()\n",
      "\u001b[1;31mKeyboardInterrupt\u001b[0m: "
     ]
    }
   ],
   "source": [
    "Z = linkage(ewa_norm, method='ward')\n",
    "\n",
    "fig = plt.figure(figsize=(30, 10))\n",
    "fig.subplots_adjust(bottom=0.23)\n",
    "\n",
    "plt.title('Hierarchical Clustering Dendrogram (Single linkage)')\n",
    "plt.xlabel('ID')\n",
    "\n",
    "dendrogram(Z, labels=ewa_norm.index, color_threshold=50)\n",
    "plt.axhline(y=50, color='black', linewidth=0.5, linestyle='dashed')\n",
    "plt.show()  # 왜 이 부분에서 계속 실행이 되지 않지"
   ]
  },
  {
   "cell_type": "code",
   "execution_count": null,
   "id": "4dda108f",
   "metadata": {},
   "outputs": [],
   "source": []
  },
  {
   "cell_type": "markdown",
   "id": "706c5d47",
   "metadata": {},
   "source": [
    "### b"
   ]
  },
  {
   "cell_type": "code",
   "execution_count": null,
   "id": "34876300",
   "metadata": {},
   "outputs": [],
   "source": [
    "# 데이터 정규화가 필요할 것으로 예상 "
   ]
  },
  {
   "cell_type": "code",
   "execution_count": 166,
   "id": "df3e8f3e",
   "metadata": {},
   "outputs": [
    {
     "ename": "KeyboardInterrupt",
     "evalue": "",
     "output_type": "error",
     "traceback": [
      "\u001b[1;31m---------------------------------------------------------------------------\u001b[0m",
      "\u001b[1;31mKeyboardInterrupt\u001b[0m                         Traceback (most recent call last)",
      "Input \u001b[1;32mIn [166]\u001b[0m, in \u001b[0;36m<cell line: 11>\u001b[1;34m()\u001b[0m\n\u001b[0;32m      9\u001b[0m dendrogram(Z, labels\u001b[38;5;241m=\u001b[39mewa\u001b[38;5;241m.\u001b[39mindex, color_threshold\u001b[38;5;241m=\u001b[39m\u001b[38;5;241m50\u001b[39m)\n\u001b[0;32m     10\u001b[0m plt\u001b[38;5;241m.\u001b[39maxhline(y\u001b[38;5;241m=\u001b[39m\u001b[38;5;241m50\u001b[39m, color\u001b[38;5;241m=\u001b[39m\u001b[38;5;124m'\u001b[39m\u001b[38;5;124mblack\u001b[39m\u001b[38;5;124m'\u001b[39m, linewidth\u001b[38;5;241m=\u001b[39m\u001b[38;5;241m0.5\u001b[39m, linestyle\u001b[38;5;241m=\u001b[39m\u001b[38;5;124m'\u001b[39m\u001b[38;5;124mdashed\u001b[39m\u001b[38;5;124m'\u001b[39m)\n\u001b[1;32m---> 11\u001b[0m \u001b[43mplt\u001b[49m\u001b[38;5;241;43m.\u001b[39;49m\u001b[43mshow\u001b[49m\u001b[43m(\u001b[49m\u001b[43m)\u001b[49m\n",
      "File \u001b[1;32m~\\anaconda3\\lib\\site-packages\\matplotlib\\pyplot.py:368\u001b[0m, in \u001b[0;36mshow\u001b[1;34m(*args, **kwargs)\u001b[0m\n\u001b[0;32m    324\u001b[0m \u001b[38;5;124;03m\"\"\"\u001b[39;00m\n\u001b[0;32m    325\u001b[0m \u001b[38;5;124;03mDisplay all open figures.\u001b[39;00m\n\u001b[0;32m    326\u001b[0m \n\u001b[1;32m   (...)\u001b[0m\n\u001b[0;32m    365\u001b[0m \u001b[38;5;124;03mexplicitly there.\u001b[39;00m\n\u001b[0;32m    366\u001b[0m \u001b[38;5;124;03m\"\"\"\u001b[39;00m\n\u001b[0;32m    367\u001b[0m _warn_if_gui_out_of_main_thread()\n\u001b[1;32m--> 368\u001b[0m \u001b[38;5;28;01mreturn\u001b[39;00m _backend_mod\u001b[38;5;241m.\u001b[39mshow(\u001b[38;5;241m*\u001b[39margs, \u001b[38;5;241m*\u001b[39m\u001b[38;5;241m*\u001b[39mkwargs)\n",
      "File \u001b[1;32m~\\anaconda3\\lib\\site-packages\\matplotlib_inline\\backend_inline.py:41\u001b[0m, in \u001b[0;36mshow\u001b[1;34m(close, block)\u001b[0m\n\u001b[0;32m     39\u001b[0m \u001b[38;5;28;01mtry\u001b[39;00m:\n\u001b[0;32m     40\u001b[0m     \u001b[38;5;28;01mfor\u001b[39;00m figure_manager \u001b[38;5;129;01min\u001b[39;00m Gcf\u001b[38;5;241m.\u001b[39mget_all_fig_managers():\n\u001b[1;32m---> 41\u001b[0m         \u001b[43mdisplay\u001b[49m\u001b[43m(\u001b[49m\n\u001b[0;32m     42\u001b[0m \u001b[43m            \u001b[49m\u001b[43mfigure_manager\u001b[49m\u001b[38;5;241;43m.\u001b[39;49m\u001b[43mcanvas\u001b[49m\u001b[38;5;241;43m.\u001b[39;49m\u001b[43mfigure\u001b[49m\u001b[43m,\u001b[49m\n\u001b[0;32m     43\u001b[0m \u001b[43m            \u001b[49m\u001b[43mmetadata\u001b[49m\u001b[38;5;241;43m=\u001b[39;49m\u001b[43m_fetch_figure_metadata\u001b[49m\u001b[43m(\u001b[49m\u001b[43mfigure_manager\u001b[49m\u001b[38;5;241;43m.\u001b[39;49m\u001b[43mcanvas\u001b[49m\u001b[38;5;241;43m.\u001b[39;49m\u001b[43mfigure\u001b[49m\u001b[43m)\u001b[49m\n\u001b[0;32m     44\u001b[0m \u001b[43m        \u001b[49m\u001b[43m)\u001b[49m\n\u001b[0;32m     45\u001b[0m \u001b[38;5;28;01mfinally\u001b[39;00m:\n\u001b[0;32m     46\u001b[0m     show\u001b[38;5;241m.\u001b[39m_to_draw \u001b[38;5;241m=\u001b[39m []\n",
      "File \u001b[1;32m~\\anaconda3\\lib\\site-packages\\IPython\\core\\display_functions.py:298\u001b[0m, in \u001b[0;36mdisplay\u001b[1;34m(include, exclude, metadata, transient, display_id, raw, clear, *objs, **kwargs)\u001b[0m\n\u001b[0;32m    296\u001b[0m     publish_display_data(data\u001b[38;5;241m=\u001b[39mobj, metadata\u001b[38;5;241m=\u001b[39mmetadata, \u001b[38;5;241m*\u001b[39m\u001b[38;5;241m*\u001b[39mkwargs)\n\u001b[0;32m    297\u001b[0m \u001b[38;5;28;01melse\u001b[39;00m:\n\u001b[1;32m--> 298\u001b[0m     format_dict, md_dict \u001b[38;5;241m=\u001b[39m \u001b[38;5;28;43mformat\u001b[39;49m\u001b[43m(\u001b[49m\u001b[43mobj\u001b[49m\u001b[43m,\u001b[49m\u001b[43m \u001b[49m\u001b[43minclude\u001b[49m\u001b[38;5;241;43m=\u001b[39;49m\u001b[43minclude\u001b[49m\u001b[43m,\u001b[49m\u001b[43m \u001b[49m\u001b[43mexclude\u001b[49m\u001b[38;5;241;43m=\u001b[39;49m\u001b[43mexclude\u001b[49m\u001b[43m)\u001b[49m\n\u001b[0;32m    299\u001b[0m     \u001b[38;5;28;01mif\u001b[39;00m \u001b[38;5;129;01mnot\u001b[39;00m format_dict:\n\u001b[0;32m    300\u001b[0m         \u001b[38;5;66;03m# nothing to display (e.g. _ipython_display_ took over)\u001b[39;00m\n\u001b[0;32m    301\u001b[0m         \u001b[38;5;28;01mcontinue\u001b[39;00m\n",
      "File \u001b[1;32m~\\anaconda3\\lib\\site-packages\\IPython\\core\\formatters.py:178\u001b[0m, in \u001b[0;36mDisplayFormatter.format\u001b[1;34m(self, obj, include, exclude)\u001b[0m\n\u001b[0;32m    176\u001b[0m md \u001b[38;5;241m=\u001b[39m \u001b[38;5;28;01mNone\u001b[39;00m\n\u001b[0;32m    177\u001b[0m \u001b[38;5;28;01mtry\u001b[39;00m:\n\u001b[1;32m--> 178\u001b[0m     data \u001b[38;5;241m=\u001b[39m \u001b[43mformatter\u001b[49m\u001b[43m(\u001b[49m\u001b[43mobj\u001b[49m\u001b[43m)\u001b[49m\n\u001b[0;32m    179\u001b[0m \u001b[38;5;28;01mexcept\u001b[39;00m:\n\u001b[0;32m    180\u001b[0m     \u001b[38;5;66;03m# FIXME: log the exception\u001b[39;00m\n\u001b[0;32m    181\u001b[0m     \u001b[38;5;28;01mraise\u001b[39;00m\n",
      "File \u001b[1;32m~\\anaconda3\\lib\\site-packages\\decorator.py:232\u001b[0m, in \u001b[0;36mdecorate.<locals>.fun\u001b[1;34m(*args, **kw)\u001b[0m\n\u001b[0;32m    230\u001b[0m \u001b[38;5;28;01mif\u001b[39;00m \u001b[38;5;129;01mnot\u001b[39;00m kwsyntax:\n\u001b[0;32m    231\u001b[0m     args, kw \u001b[38;5;241m=\u001b[39m fix(args, kw, sig)\n\u001b[1;32m--> 232\u001b[0m \u001b[38;5;28;01mreturn\u001b[39;00m caller(func, \u001b[38;5;241m*\u001b[39m(extras \u001b[38;5;241m+\u001b[39m args), \u001b[38;5;241m*\u001b[39m\u001b[38;5;241m*\u001b[39mkw)\n",
      "File \u001b[1;32m~\\anaconda3\\lib\\site-packages\\IPython\\core\\formatters.py:222\u001b[0m, in \u001b[0;36mcatch_format_error\u001b[1;34m(method, self, *args, **kwargs)\u001b[0m\n\u001b[0;32m    220\u001b[0m \u001b[38;5;124;03m\"\"\"show traceback on failed format call\"\"\"\u001b[39;00m\n\u001b[0;32m    221\u001b[0m \u001b[38;5;28;01mtry\u001b[39;00m:\n\u001b[1;32m--> 222\u001b[0m     r \u001b[38;5;241m=\u001b[39m method(\u001b[38;5;28mself\u001b[39m, \u001b[38;5;241m*\u001b[39margs, \u001b[38;5;241m*\u001b[39m\u001b[38;5;241m*\u001b[39mkwargs)\n\u001b[0;32m    223\u001b[0m \u001b[38;5;28;01mexcept\u001b[39;00m \u001b[38;5;167;01mNotImplementedError\u001b[39;00m:\n\u001b[0;32m    224\u001b[0m     \u001b[38;5;66;03m# don't warn on NotImplementedErrors\u001b[39;00m\n\u001b[0;32m    225\u001b[0m     \u001b[38;5;28;01mreturn\u001b[39;00m \u001b[38;5;28mself\u001b[39m\u001b[38;5;241m.\u001b[39m_check_return(\u001b[38;5;28;01mNone\u001b[39;00m, args[\u001b[38;5;241m0\u001b[39m])\n",
      "File \u001b[1;32m~\\anaconda3\\lib\\site-packages\\IPython\\core\\formatters.py:339\u001b[0m, in \u001b[0;36mBaseFormatter.__call__\u001b[1;34m(self, obj)\u001b[0m\n\u001b[0;32m    337\u001b[0m     \u001b[38;5;28;01mpass\u001b[39;00m\n\u001b[0;32m    338\u001b[0m \u001b[38;5;28;01melse\u001b[39;00m:\n\u001b[1;32m--> 339\u001b[0m     \u001b[38;5;28;01mreturn\u001b[39;00m \u001b[43mprinter\u001b[49m\u001b[43m(\u001b[49m\u001b[43mobj\u001b[49m\u001b[43m)\u001b[49m\n\u001b[0;32m    340\u001b[0m \u001b[38;5;66;03m# Finally look for special method names\u001b[39;00m\n\u001b[0;32m    341\u001b[0m method \u001b[38;5;241m=\u001b[39m get_real_method(obj, \u001b[38;5;28mself\u001b[39m\u001b[38;5;241m.\u001b[39mprint_method)\n",
      "File \u001b[1;32m~\\anaconda3\\lib\\site-packages\\IPython\\core\\pylabtools.py:151\u001b[0m, in \u001b[0;36mprint_figure\u001b[1;34m(fig, fmt, bbox_inches, base64, **kwargs)\u001b[0m\n\u001b[0;32m    148\u001b[0m     \u001b[38;5;28;01mfrom\u001b[39;00m \u001b[38;5;21;01mmatplotlib\u001b[39;00m\u001b[38;5;21;01m.\u001b[39;00m\u001b[38;5;21;01mbackend_bases\u001b[39;00m \u001b[38;5;28;01mimport\u001b[39;00m FigureCanvasBase\n\u001b[0;32m    149\u001b[0m     FigureCanvasBase(fig)\n\u001b[1;32m--> 151\u001b[0m fig\u001b[38;5;241m.\u001b[39mcanvas\u001b[38;5;241m.\u001b[39mprint_figure(bytes_io, \u001b[38;5;241m*\u001b[39m\u001b[38;5;241m*\u001b[39mkw)\n\u001b[0;32m    152\u001b[0m data \u001b[38;5;241m=\u001b[39m bytes_io\u001b[38;5;241m.\u001b[39mgetvalue()\n\u001b[0;32m    153\u001b[0m \u001b[38;5;28;01mif\u001b[39;00m fmt \u001b[38;5;241m==\u001b[39m \u001b[38;5;124m'\u001b[39m\u001b[38;5;124msvg\u001b[39m\u001b[38;5;124m'\u001b[39m:\n",
      "File \u001b[1;32m~\\anaconda3\\lib\\site-packages\\matplotlib\\backend_bases.py:2299\u001b[0m, in \u001b[0;36mFigureCanvasBase.print_figure\u001b[1;34m(self, filename, dpi, facecolor, edgecolor, orientation, format, bbox_inches, pad_inches, bbox_extra_artists, backend, **kwargs)\u001b[0m\n\u001b[0;32m   2297\u001b[0m \u001b[38;5;28;01mif\u001b[39;00m bbox_inches:\n\u001b[0;32m   2298\u001b[0m     \u001b[38;5;28;01mif\u001b[39;00m bbox_inches \u001b[38;5;241m==\u001b[39m \u001b[38;5;124m\"\u001b[39m\u001b[38;5;124mtight\u001b[39m\u001b[38;5;124m\"\u001b[39m:\n\u001b[1;32m-> 2299\u001b[0m         bbox_inches \u001b[38;5;241m=\u001b[39m \u001b[38;5;28;43mself\u001b[39;49m\u001b[38;5;241;43m.\u001b[39;49m\u001b[43mfigure\u001b[49m\u001b[38;5;241;43m.\u001b[39;49m\u001b[43mget_tightbbox\u001b[49m\u001b[43m(\u001b[49m\n\u001b[0;32m   2300\u001b[0m \u001b[43m            \u001b[49m\u001b[43mrenderer\u001b[49m\u001b[43m,\u001b[49m\u001b[43m \u001b[49m\u001b[43mbbox_extra_artists\u001b[49m\u001b[38;5;241;43m=\u001b[39;49m\u001b[43mbbox_extra_artists\u001b[49m\u001b[43m)\u001b[49m\n\u001b[0;32m   2301\u001b[0m         \u001b[38;5;28;01mif\u001b[39;00m pad_inches \u001b[38;5;129;01mis\u001b[39;00m \u001b[38;5;28;01mNone\u001b[39;00m:\n\u001b[0;32m   2302\u001b[0m             pad_inches \u001b[38;5;241m=\u001b[39m rcParams[\u001b[38;5;124m'\u001b[39m\u001b[38;5;124msavefig.pad_inches\u001b[39m\u001b[38;5;124m'\u001b[39m]\n",
      "File \u001b[1;32m~\\anaconda3\\lib\\site-packages\\matplotlib\\figure.py:1632\u001b[0m, in \u001b[0;36mFigureBase.get_tightbbox\u001b[1;34m(self, renderer, bbox_extra_artists)\u001b[0m\n\u001b[0;32m   1629\u001b[0m     artists \u001b[38;5;241m=\u001b[39m bbox_extra_artists\n\u001b[0;32m   1631\u001b[0m \u001b[38;5;28;01mfor\u001b[39;00m a \u001b[38;5;129;01min\u001b[39;00m artists:\n\u001b[1;32m-> 1632\u001b[0m     bbox \u001b[38;5;241m=\u001b[39m \u001b[43ma\u001b[49m\u001b[38;5;241;43m.\u001b[39;49m\u001b[43mget_tightbbox\u001b[49m\u001b[43m(\u001b[49m\u001b[43mrenderer\u001b[49m\u001b[43m)\u001b[49m\n\u001b[0;32m   1633\u001b[0m     \u001b[38;5;28;01mif\u001b[39;00m bbox \u001b[38;5;129;01mis\u001b[39;00m \u001b[38;5;129;01mnot\u001b[39;00m \u001b[38;5;28;01mNone\u001b[39;00m \u001b[38;5;129;01mand\u001b[39;00m (bbox\u001b[38;5;241m.\u001b[39mwidth \u001b[38;5;241m!=\u001b[39m \u001b[38;5;241m0\u001b[39m \u001b[38;5;129;01mor\u001b[39;00m bbox\u001b[38;5;241m.\u001b[39mheight \u001b[38;5;241m!=\u001b[39m \u001b[38;5;241m0\u001b[39m):\n\u001b[0;32m   1634\u001b[0m         bb\u001b[38;5;241m.\u001b[39mappend(bbox)\n",
      "File \u001b[1;32m~\\anaconda3\\lib\\site-packages\\matplotlib\\axes\\_base.py:4619\u001b[0m, in \u001b[0;36m_AxesBase.get_tightbbox\u001b[1;34m(self, renderer, call_axes_locator, bbox_extra_artists, for_layout_only)\u001b[0m\n\u001b[0;32m   4617\u001b[0m \u001b[38;5;28;01mif\u001b[39;00m \u001b[38;5;28mself\u001b[39m\u001b[38;5;241m.\u001b[39mxaxis\u001b[38;5;241m.\u001b[39mget_visible():\n\u001b[0;32m   4618\u001b[0m     \u001b[38;5;28;01mtry\u001b[39;00m:\n\u001b[1;32m-> 4619\u001b[0m         bb_xaxis \u001b[38;5;241m=\u001b[39m \u001b[38;5;28;43mself\u001b[39;49m\u001b[38;5;241;43m.\u001b[39;49m\u001b[43mxaxis\u001b[49m\u001b[38;5;241;43m.\u001b[39;49m\u001b[43mget_tightbbox\u001b[49m\u001b[43m(\u001b[49m\n\u001b[0;32m   4620\u001b[0m \u001b[43m            \u001b[49m\u001b[43mrenderer\u001b[49m\u001b[43m,\u001b[49m\u001b[43m \u001b[49m\u001b[43mfor_layout_only\u001b[49m\u001b[38;5;241;43m=\u001b[39;49m\u001b[43mfor_layout_only\u001b[49m\u001b[43m)\u001b[49m\n\u001b[0;32m   4621\u001b[0m     \u001b[38;5;28;01mexcept\u001b[39;00m \u001b[38;5;167;01mTypeError\u001b[39;00m:\n\u001b[0;32m   4622\u001b[0m         \u001b[38;5;66;03m# in case downstream library has redefined axis:\u001b[39;00m\n\u001b[0;32m   4623\u001b[0m         bb_xaxis \u001b[38;5;241m=\u001b[39m \u001b[38;5;28mself\u001b[39m\u001b[38;5;241m.\u001b[39mxaxis\u001b[38;5;241m.\u001b[39mget_tightbbox(renderer)\n",
      "File \u001b[1;32m~\\anaconda3\\lib\\site-packages\\matplotlib\\axis.py:1105\u001b[0m, in \u001b[0;36mAxis.get_tightbbox\u001b[1;34m(self, renderer, for_layout_only)\u001b[0m\n\u001b[0;32m   1101\u001b[0m     \u001b[38;5;28;01mreturn\u001b[39;00m\n\u001b[0;32m   1103\u001b[0m ticks_to_draw \u001b[38;5;241m=\u001b[39m \u001b[38;5;28mself\u001b[39m\u001b[38;5;241m.\u001b[39m_update_ticks()\n\u001b[1;32m-> 1105\u001b[0m \u001b[38;5;28;43mself\u001b[39;49m\u001b[38;5;241;43m.\u001b[39;49m\u001b[43m_update_label_position\u001b[49m\u001b[43m(\u001b[49m\u001b[43mrenderer\u001b[49m\u001b[43m)\u001b[49m\n\u001b[0;32m   1107\u001b[0m \u001b[38;5;66;03m# go back to just this axis's tick labels\u001b[39;00m\n\u001b[0;32m   1108\u001b[0m ticklabelBoxes, ticklabelBoxes2 \u001b[38;5;241m=\u001b[39m \u001b[38;5;28mself\u001b[39m\u001b[38;5;241m.\u001b[39m_get_tick_bboxes(\n\u001b[0;32m   1109\u001b[0m             ticks_to_draw, renderer)\n",
      "File \u001b[1;32m~\\anaconda3\\lib\\site-packages\\matplotlib\\axis.py:2083\u001b[0m, in \u001b[0;36mXAxis._update_label_position\u001b[1;34m(self, renderer)\u001b[0m\n\u001b[0;32m   2079\u001b[0m     \u001b[38;5;28;01mreturn\u001b[39;00m\n\u001b[0;32m   2081\u001b[0m \u001b[38;5;66;03m# get bounding boxes for this axis and any siblings\u001b[39;00m\n\u001b[0;32m   2082\u001b[0m \u001b[38;5;66;03m# that have been set by `fig.align_xlabels()`\u001b[39;00m\n\u001b[1;32m-> 2083\u001b[0m bboxes, bboxes2 \u001b[38;5;241m=\u001b[39m \u001b[38;5;28;43mself\u001b[39;49m\u001b[38;5;241;43m.\u001b[39;49m\u001b[43m_get_tick_boxes_siblings\u001b[49m\u001b[43m(\u001b[49m\u001b[43mrenderer\u001b[49m\u001b[38;5;241;43m=\u001b[39;49m\u001b[43mrenderer\u001b[49m\u001b[43m)\u001b[49m\n\u001b[0;32m   2085\u001b[0m x, y \u001b[38;5;241m=\u001b[39m \u001b[38;5;28mself\u001b[39m\u001b[38;5;241m.\u001b[39mlabel\u001b[38;5;241m.\u001b[39mget_position()\n\u001b[0;32m   2086\u001b[0m \u001b[38;5;28;01mif\u001b[39;00m \u001b[38;5;28mself\u001b[39m\u001b[38;5;241m.\u001b[39mlabel_position \u001b[38;5;241m==\u001b[39m \u001b[38;5;124m'\u001b[39m\u001b[38;5;124mbottom\u001b[39m\u001b[38;5;124m'\u001b[39m:\n",
      "File \u001b[1;32m~\\anaconda3\\lib\\site-packages\\matplotlib\\axis.py:1881\u001b[0m, in \u001b[0;36mAxis._get_tick_boxes_siblings\u001b[1;34m(self, renderer)\u001b[0m\n\u001b[0;32m   1879\u001b[0m axis \u001b[38;5;241m=\u001b[39m \u001b[38;5;28mgetattr\u001b[39m(ax, \u001b[38;5;124mf\u001b[39m\u001b[38;5;124m\"\u001b[39m\u001b[38;5;132;01m{\u001b[39;00maxis_name\u001b[38;5;132;01m}\u001b[39;00m\u001b[38;5;124maxis\u001b[39m\u001b[38;5;124m\"\u001b[39m)\n\u001b[0;32m   1880\u001b[0m ticks_to_draw \u001b[38;5;241m=\u001b[39m axis\u001b[38;5;241m.\u001b[39m_update_ticks()\n\u001b[1;32m-> 1881\u001b[0m tlb, tlb2 \u001b[38;5;241m=\u001b[39m \u001b[43maxis\u001b[49m\u001b[38;5;241;43m.\u001b[39;49m\u001b[43m_get_tick_bboxes\u001b[49m\u001b[43m(\u001b[49m\u001b[43mticks_to_draw\u001b[49m\u001b[43m,\u001b[49m\u001b[43m \u001b[49m\u001b[43mrenderer\u001b[49m\u001b[43m)\u001b[49m\n\u001b[0;32m   1882\u001b[0m bboxes\u001b[38;5;241m.\u001b[39mextend(tlb)\n\u001b[0;32m   1883\u001b[0m bboxes2\u001b[38;5;241m.\u001b[39mextend(tlb2)\n",
      "File \u001b[1;32m~\\anaconda3\\lib\\site-packages\\matplotlib\\axis.py:1085\u001b[0m, in \u001b[0;36mAxis._get_tick_bboxes\u001b[1;34m(self, ticks, renderer)\u001b[0m\n\u001b[0;32m   1083\u001b[0m \u001b[38;5;28;01mdef\u001b[39;00m \u001b[38;5;21m_get_tick_bboxes\u001b[39m(\u001b[38;5;28mself\u001b[39m, ticks, renderer):\n\u001b[0;32m   1084\u001b[0m     \u001b[38;5;124;03m\"\"\"Return lists of bboxes for ticks' label1's and label2's.\"\"\"\u001b[39;00m\n\u001b[1;32m-> 1085\u001b[0m     \u001b[38;5;28;01mreturn\u001b[39;00m ([tick\u001b[38;5;241m.\u001b[39mlabel1\u001b[38;5;241m.\u001b[39mget_window_extent(renderer)\n\u001b[0;32m   1086\u001b[0m              \u001b[38;5;28;01mfor\u001b[39;00m tick \u001b[38;5;129;01min\u001b[39;00m ticks \u001b[38;5;28;01mif\u001b[39;00m tick\u001b[38;5;241m.\u001b[39mlabel1\u001b[38;5;241m.\u001b[39mget_visible()],\n\u001b[0;32m   1087\u001b[0m             [tick\u001b[38;5;241m.\u001b[39mlabel2\u001b[38;5;241m.\u001b[39mget_window_extent(renderer)\n\u001b[0;32m   1088\u001b[0m              \u001b[38;5;28;01mfor\u001b[39;00m tick \u001b[38;5;129;01min\u001b[39;00m ticks \u001b[38;5;28;01mif\u001b[39;00m tick\u001b[38;5;241m.\u001b[39mlabel2\u001b[38;5;241m.\u001b[39mget_visible()])\n",
      "File \u001b[1;32m~\\anaconda3\\lib\\site-packages\\matplotlib\\axis.py:1085\u001b[0m, in \u001b[0;36m<listcomp>\u001b[1;34m(.0)\u001b[0m\n\u001b[0;32m   1083\u001b[0m \u001b[38;5;28;01mdef\u001b[39;00m \u001b[38;5;21m_get_tick_bboxes\u001b[39m(\u001b[38;5;28mself\u001b[39m, ticks, renderer):\n\u001b[0;32m   1084\u001b[0m     \u001b[38;5;124;03m\"\"\"Return lists of bboxes for ticks' label1's and label2's.\"\"\"\u001b[39;00m\n\u001b[1;32m-> 1085\u001b[0m     \u001b[38;5;28;01mreturn\u001b[39;00m ([\u001b[43mtick\u001b[49m\u001b[38;5;241;43m.\u001b[39;49m\u001b[43mlabel1\u001b[49m\u001b[38;5;241;43m.\u001b[39;49m\u001b[43mget_window_extent\u001b[49m\u001b[43m(\u001b[49m\u001b[43mrenderer\u001b[49m\u001b[43m)\u001b[49m\n\u001b[0;32m   1086\u001b[0m              \u001b[38;5;28;01mfor\u001b[39;00m tick \u001b[38;5;129;01min\u001b[39;00m ticks \u001b[38;5;28;01mif\u001b[39;00m tick\u001b[38;5;241m.\u001b[39mlabel1\u001b[38;5;241m.\u001b[39mget_visible()],\n\u001b[0;32m   1087\u001b[0m             [tick\u001b[38;5;241m.\u001b[39mlabel2\u001b[38;5;241m.\u001b[39mget_window_extent(renderer)\n\u001b[0;32m   1088\u001b[0m              \u001b[38;5;28;01mfor\u001b[39;00m tick \u001b[38;5;129;01min\u001b[39;00m ticks \u001b[38;5;28;01mif\u001b[39;00m tick\u001b[38;5;241m.\u001b[39mlabel2\u001b[38;5;241m.\u001b[39mget_visible()])\n",
      "File \u001b[1;32m~\\anaconda3\\lib\\site-packages\\matplotlib\\text.py:910\u001b[0m, in \u001b[0;36mText.get_window_extent\u001b[1;34m(self, renderer, dpi)\u001b[0m\n\u001b[0;32m    907\u001b[0m     \u001b[38;5;28;01mraise\u001b[39;00m \u001b[38;5;167;01mRuntimeError\u001b[39;00m(\u001b[38;5;124m'\u001b[39m\u001b[38;5;124mCannot get window extent w/o renderer\u001b[39m\u001b[38;5;124m'\u001b[39m)\n\u001b[0;32m    909\u001b[0m \u001b[38;5;28;01mwith\u001b[39;00m cbook\u001b[38;5;241m.\u001b[39m_setattr_cm(\u001b[38;5;28mself\u001b[39m\u001b[38;5;241m.\u001b[39mfigure, dpi\u001b[38;5;241m=\u001b[39mdpi):\n\u001b[1;32m--> 910\u001b[0m     bbox, info, descent \u001b[38;5;241m=\u001b[39m \u001b[38;5;28;43mself\u001b[39;49m\u001b[38;5;241;43m.\u001b[39;49m\u001b[43m_get_layout\u001b[49m\u001b[43m(\u001b[49m\u001b[38;5;28;43mself\u001b[39;49m\u001b[38;5;241;43m.\u001b[39;49m\u001b[43m_renderer\u001b[49m\u001b[43m)\u001b[49m\n\u001b[0;32m    911\u001b[0m     x, y \u001b[38;5;241m=\u001b[39m \u001b[38;5;28mself\u001b[39m\u001b[38;5;241m.\u001b[39mget_unitless_position()\n\u001b[0;32m    912\u001b[0m     x, y \u001b[38;5;241m=\u001b[39m \u001b[38;5;28mself\u001b[39m\u001b[38;5;241m.\u001b[39mget_transform()\u001b[38;5;241m.\u001b[39mtransform((x, y))\n",
      "File \u001b[1;32m~\\anaconda3\\lib\\site-packages\\matplotlib\\text.py:317\u001b[0m, in \u001b[0;36mText._get_layout\u001b[1;34m(self, renderer)\u001b[0m\n\u001b[0;32m    315\u001b[0m clean_line, ismath \u001b[38;5;241m=\u001b[39m \u001b[38;5;28mself\u001b[39m\u001b[38;5;241m.\u001b[39m_preprocess_math(line)\n\u001b[0;32m    316\u001b[0m \u001b[38;5;28;01mif\u001b[39;00m clean_line:\n\u001b[1;32m--> 317\u001b[0m     w, h, d \u001b[38;5;241m=\u001b[39m \u001b[43mrenderer\u001b[49m\u001b[38;5;241;43m.\u001b[39;49m\u001b[43mget_text_width_height_descent\u001b[49m\u001b[43m(\u001b[49m\n\u001b[0;32m    318\u001b[0m \u001b[43m        \u001b[49m\u001b[43mclean_line\u001b[49m\u001b[43m,\u001b[49m\u001b[43m \u001b[49m\u001b[38;5;28;43mself\u001b[39;49m\u001b[38;5;241;43m.\u001b[39;49m\u001b[43m_fontproperties\u001b[49m\u001b[43m,\u001b[49m\u001b[43m \u001b[49m\u001b[43mismath\u001b[49m\u001b[38;5;241;43m=\u001b[39;49m\u001b[43mismath\u001b[49m\u001b[43m)\u001b[49m\n\u001b[0;32m    319\u001b[0m \u001b[38;5;28;01melse\u001b[39;00m:\n\u001b[0;32m    320\u001b[0m     w \u001b[38;5;241m=\u001b[39m h \u001b[38;5;241m=\u001b[39m d \u001b[38;5;241m=\u001b[39m \u001b[38;5;241m0\u001b[39m\n",
      "File \u001b[1;32m~\\anaconda3\\lib\\site-packages\\matplotlib\\backends\\backend_agg.py:270\u001b[0m, in \u001b[0;36mRendererAgg.get_text_width_height_descent\u001b[1;34m(self, s, prop, ismath)\u001b[0m\n\u001b[0;32m    268\u001b[0m flags \u001b[38;5;241m=\u001b[39m get_hinting_flag()\n\u001b[0;32m    269\u001b[0m font \u001b[38;5;241m=\u001b[39m \u001b[38;5;28mself\u001b[39m\u001b[38;5;241m.\u001b[39m_get_agg_font(prop)\n\u001b[1;32m--> 270\u001b[0m \u001b[43mfont\u001b[49m\u001b[38;5;241;43m.\u001b[39;49m\u001b[43mset_text\u001b[49m\u001b[43m(\u001b[49m\u001b[43ms\u001b[49m\u001b[43m,\u001b[49m\u001b[43m \u001b[49m\u001b[38;5;241;43m0.0\u001b[39;49m\u001b[43m,\u001b[49m\u001b[43m \u001b[49m\u001b[43mflags\u001b[49m\u001b[38;5;241;43m=\u001b[39;49m\u001b[43mflags\u001b[49m\u001b[43m)\u001b[49m\n\u001b[0;32m    271\u001b[0m w, h \u001b[38;5;241m=\u001b[39m font\u001b[38;5;241m.\u001b[39mget_width_height()  \u001b[38;5;66;03m# width and height of unrotated string\u001b[39;00m\n\u001b[0;32m    272\u001b[0m d \u001b[38;5;241m=\u001b[39m font\u001b[38;5;241m.\u001b[39mget_descent()\n",
      "\u001b[1;31mKeyboardInterrupt\u001b[0m: "
     ]
    }
   ],
   "source": [
    "Z = linkage(ewa, method='ward')\n",
    "\n",
    "fig = plt.figure(figsize=(30, 10))\n",
    "fig.subplots_adjust(bottom=0.23)\n",
    "\n",
    "plt.title('Hierarchical Clustering Dendrogram (Single linkage)')\n",
    "plt.xlabel('ID')\n",
    "\n",
    "dendrogram(Z, labels=ewa.index, color_threshold=50)\n",
    "plt.axhline(y=50, color='black', linewidth=0.5, linestyle='dashed')\n",
    "plt.show()  # 왜 이 부분에서 계속 실행이 되지 않지"
   ]
  },
  {
   "cell_type": "code",
   "execution_count": null,
   "id": "a8fe1e7a",
   "metadata": {},
   "outputs": [],
   "source": []
  },
  {
   "cell_type": "markdown",
   "id": "1ca654cc",
   "metadata": {},
   "source": [
    "### c"
   ]
  },
  {
   "cell_type": "markdown",
   "id": "3927ce0c",
   "metadata": {},
   "source": [
    "### d"
   ]
  },
  {
   "cell_type": "markdown",
   "id": "66ca29dc",
   "metadata": {},
   "source": [
    "### e"
   ]
  },
  {
   "cell_type": "markdown",
   "id": "e5b85419",
   "metadata": {},
   "source": [
    "### f"
   ]
  },
  {
   "cell_type": "code",
   "execution_count": null,
   "id": "857a17cb",
   "metadata": {},
   "outputs": [],
   "source": []
  },
  {
   "cell_type": "code",
   "execution_count": null,
   "id": "396f660b",
   "metadata": {},
   "outputs": [],
   "source": []
  },
  {
   "cell_type": "code",
   "execution_count": null,
   "id": "237b8ff9",
   "metadata": {},
   "outputs": [],
   "source": []
  },
  {
   "cell_type": "code",
   "execution_count": null,
   "id": "8e699426",
   "metadata": {},
   "outputs": [],
   "source": []
  }
 ],
 "metadata": {
  "kernelspec": {
   "display_name": "Python 3 (ipykernel)",
   "language": "python",
   "name": "python3"
  },
  "language_info": {
   "codemirror_mode": {
    "name": "ipython",
    "version": 3
   },
   "file_extension": ".py",
   "mimetype": "text/x-python",
   "name": "python",
   "nbconvert_exporter": "python",
   "pygments_lexer": "ipython3",
   "version": "3.9.12"
  }
 },
 "nbformat": 4,
 "nbformat_minor": 5
}
