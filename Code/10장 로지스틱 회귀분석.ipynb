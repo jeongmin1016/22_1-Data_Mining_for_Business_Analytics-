{
 "cells": [
  {
   "cell_type": "code",
   "execution_count": 1,
   "id": "4ed81f4d",
   "metadata": {},
   "outputs": [],
   "source": [
    "%matplotlib inline\n",
    "\n",
    "from pathlib import Path\n",
    "\n",
    "import numpy as np\n",
    "import pandas as pd\n",
    "from sklearn.linear_model import LogisticRegression, LogisticRegressionCV\n",
    "from sklearn.model_selection import train_test_split"
   ]
  },
  {
   "cell_type": "code",
   "execution_count": 2,
   "id": "b1efee73",
   "metadata": {},
   "outputs": [],
   "source": [
    "from sklearn.linear_model import LogisticRegression\n",
    "\n",
    "import matplotlib.pylab as plt\n",
    "import seaborn as sns\n",
    "from dmba import classificationSummary, gainsChart, liftChart\n",
    "from dmba.metric import AIC_score"
   ]
  },
  {
   "cell_type": "code",
   "execution_count": 3,
   "id": "515a7f26",
   "metadata": {},
   "outputs": [
    {
     "name": "stdout",
     "output_type": "stream",
     "text": [
      "Requirement already satisfied: mord in c:\\users\\ajm10\\anaconda3\\lib\\site-packages (0.6)\n"
     ]
    }
   ],
   "source": [
    "!pip install mord"
   ]
  },
  {
   "cell_type": "code",
   "execution_count": 4,
   "id": "566bcf50",
   "metadata": {},
   "outputs": [],
   "source": [
    "import statsmodels.api as sm\n",
    "from mord import LogisticIT # No module named 'mord'"
   ]
  },
  {
   "cell_type": "markdown",
   "id": "d9c7bad5",
   "metadata": {},
   "source": [
    "## 10.1 은행 재정상태"
   ]
  },
  {
   "cell_type": "code",
   "execution_count": 98,
   "id": "07bd036e",
   "metadata": {},
   "outputs": [],
   "source": [
    "bank = pd.read_csv('Banks.csv')"
   ]
  },
  {
   "cell_type": "code",
   "execution_count": 6,
   "id": "de59eba0",
   "metadata": {},
   "outputs": [],
   "source": [
    "bank.drop(columns=['Obs', 'TotCap/Assets'], inplace=True)\n",
    "\n",
    "# 'TotExp/Assets' : 총 자산 대비 총 비용의 비율\n",
    "# 'TotLns&Lses/Assets' : 총 자산 대비 대출과 리스트의 총합인 비율\n",
    "# 결과 변수 > 'Financial Condition' : 은행의 재정 상태 (재정적으로 약함-1, 강함-0)"
   ]
  },
  {
   "cell_type": "code",
   "execution_count": 7,
   "id": "6cca7881",
   "metadata": {},
   "outputs": [
    {
     "data": {
      "text/plain": [
       "Index(['Financial Condition', 'TotExp/Assets', 'TotLns&Lses/Assets'], dtype='object')"
      ]
     },
     "execution_count": 7,
     "metadata": {},
     "output_type": "execute_result"
    }
   ],
   "source": [
    "bank.columns"
   ]
  },
  {
   "cell_type": "code",
   "execution_count": 8,
   "id": "4a465374",
   "metadata": {},
   "outputs": [],
   "source": [
    "bank.columns = [c.replace(' ', '_') for c in bank.columns]"
   ]
  },
  {
   "cell_type": "code",
   "execution_count": 9,
   "id": "88256524",
   "metadata": {},
   "outputs": [
    {
     "name": "stdout",
     "output_type": "stream",
     "text": [
      "intercept -14.720832806179038\n",
      "                         coef\n",
      "TotExp/Assets       89.832567\n",
      "TotLns&Lses/Assets   8.371267\n"
     ]
    }
   ],
   "source": [
    "predictors = ['TotExp/Assets', 'TotLns&Lses/Assets']\n",
    "outcome = 'Financial_Condition'\n",
    "\n",
    "y = bank[outcome]\n",
    "X = bank[predictors]\n",
    "\n",
    "# fit a logistic regression (set penalty=l2 and C=1e42 to avoid regularization)\n",
    "logit_reg = LogisticRegression(penalty=\"l2\", C=1e42, solver='liblinear')\n",
    "logit_reg.fit(X, y) ## 회귀식을 도출해야 함\n",
    "\n",
    "print('intercept', logit_reg.intercept_[0])\n",
    "print(pd.DataFrame({'coef': logit_reg.coef_[0]}, index=X.columns.transpose()))"
   ]
  },
  {
   "cell_type": "code",
   "execution_count": 10,
   "id": "93bc6fd7",
   "metadata": {},
   "outputs": [],
   "source": [
    "b0=round(-14.720832806179038,4)\n",
    "b1=round(89.832567,4)\n",
    "b2=round(8.371267,4)"
   ]
  },
  {
   "cell_type": "markdown",
   "id": "2c3f8866",
   "metadata": {},
   "source": [
    "#### a"
   ]
  },
  {
   "cell_type": "code",
   "execution_count": 11,
   "id": "d74e50b5",
   "metadata": {},
   "outputs": [
    {
     "name": "stdout",
     "output_type": "stream",
     "text": [
      "-14.7208 \t 89.8326 \t 8.3713\n"
     ]
    }
   ],
   "source": [
    "print(b0,'\\t', b1,'\\t', b2)"
   ]
  },
  {
   "cell_type": "code",
   "execution_count": 12,
   "id": "c6b5e737",
   "metadata": {},
   "outputs": [],
   "source": [
    "### 1 ### 로짓 사용"
   ]
  },
  {
   "cell_type": "markdown",
   "id": "173e5188",
   "metadata": {},
   "source": [
    "log(Odds) = -14.7208+ 89.8326 *x1 +  8.3713*x2"
   ]
  },
  {
   "cell_type": "code",
   "execution_count": 13,
   "id": "2d712082",
   "metadata": {},
   "outputs": [],
   "source": [
    "### 2 ### 오즈 사용"
   ]
  },
  {
   "cell_type": "markdown",
   "id": "1cd0d2b1",
   "metadata": {},
   "source": [
    "Odds(Y=1)=e^(-14.7208+ 89.8326 x1 + 8.3713x2)"
   ]
  },
  {
   "cell_type": "code",
   "execution_count": 14,
   "id": "f11237da",
   "metadata": {},
   "outputs": [],
   "source": [
    "### 3 ### 확률 사용"
   ]
  },
  {
   "cell_type": "markdown",
   "id": "e9402680",
   "metadata": {},
   "source": [
    "p=0dds/(Odds+1)"
   ]
  },
  {
   "cell_type": "markdown",
   "id": "84e1d31e",
   "metadata": {},
   "source": [
    "#### b"
   ]
  },
  {
   "cell_type": "code",
   "execution_count": 15,
   "id": "8a06f42f",
   "metadata": {},
   "outputs": [],
   "source": [
    "# TotLns&Lses/Assets = 0.6\n",
    "# TotExp/Assets = 0.11 -> 새로운 은행 고려"
   ]
  },
  {
   "cell_type": "code",
   "execution_count": 16,
   "id": "1450551c",
   "metadata": {},
   "outputs": [],
   "source": [
    "### 1 ### 로짓 사용"
   ]
  },
  {
   "cell_type": "code",
   "execution_count": 17,
   "id": "4b0967b3",
   "metadata": {},
   "outputs": [
    {
     "data": {
      "text/plain": [
       "0.1836"
      ]
     },
     "execution_count": 17,
     "metadata": {},
     "output_type": "execute_result"
    }
   ],
   "source": [
    "log_Odds = -14.7208+ 89.8326*0.11 + 8.3713*0.6\n",
    "log_Odds=round(log_Odds,4)\n",
    "log_Odds"
   ]
  },
  {
   "cell_type": "code",
   "execution_count": 18,
   "id": "9cbd9a9e",
   "metadata": {},
   "outputs": [],
   "source": [
    "### 2 ### 오즈 사용"
   ]
  },
  {
   "cell_type": "code",
   "execution_count": 19,
   "id": "36cf2509",
   "metadata": {},
   "outputs": [],
   "source": [
    "import math"
   ]
  },
  {
   "cell_type": "code",
   "execution_count": 20,
   "id": "9d0d0324",
   "metadata": {},
   "outputs": [
    {
     "data": {
      "text/plain": [
       "1.2015"
      ]
     },
     "execution_count": 20,
     "metadata": {},
     "output_type": "execute_result"
    }
   ],
   "source": [
    "Odds_Y_1=math.exp(log_Odds)\n",
    "Odds_Y_1=round(Odds_Y_1,4)\n",
    "Odds_Y_1"
   ]
  },
  {
   "cell_type": "code",
   "execution_count": 21,
   "id": "6d6b02ba",
   "metadata": {},
   "outputs": [],
   "source": [
    "### 3 ### 확률 사용, 컷오프 값 0.5 사용"
   ]
  },
  {
   "cell_type": "code",
   "execution_count": 22,
   "id": "7310370c",
   "metadata": {},
   "outputs": [
    {
     "data": {
      "text/plain": [
       "0.5458"
      ]
     },
     "execution_count": 22,
     "metadata": {},
     "output_type": "execute_result"
    }
   ],
   "source": [
    "p=Odds_Y_1/(Odds_Y_1+1)\n",
    "p=round(p,4)\n",
    "p "
   ]
  },
  {
   "cell_type": "markdown",
   "id": "3c22e03d",
   "metadata": {},
   "source": [
    "p= 0.54583이며 컷오프값인 0.5보다 크기 때문에 재정적으로 약하다(1)에 분류한다.\n",
    "\n",
    "// 컷오프값보다 크면 1에 분류"
   ]
  },
  {
   "cell_type": "markdown",
   "id": "38eed9b4",
   "metadata": {},
   "source": [
    "#### c"
   ]
  },
  {
   "cell_type": "code",
   "execution_count": 23,
   "id": "c58f2d58",
   "metadata": {},
   "outputs": [],
   "source": [
    "# 컷오프값 0.5는 재정적으로 약할 확률 (Y=1)"
   ]
  },
  {
   "cell_type": "code",
   "execution_count": 24,
   "id": "bc32de54",
   "metadata": {},
   "outputs": [],
   "source": [
    "#오즈의 임계값"
   ]
  },
  {
   "cell_type": "markdown",
   "id": "4d157267",
   "metadata": {},
   "source": [
    "그래프를 통해 오즈가 0에 수렴"
   ]
  },
  {
   "cell_type": "code",
   "execution_count": 25,
   "id": "c4366968",
   "metadata": {},
   "outputs": [],
   "source": [
    "#해당 로짓에 대한 임계값"
   ]
  },
  {
   "cell_type": "markdown",
   "id": "eff6ee42",
   "metadata": {},
   "source": [
    "양, 음의 무한대로 발산 -> 수렴하지 않는다."
   ]
  },
  {
   "cell_type": "markdown",
   "id": "c82c474e",
   "metadata": {},
   "source": [
    "#### d"
   ]
  },
  {
   "cell_type": "code",
   "execution_count": 26,
   "id": "6b5f7e2a",
   "metadata": {},
   "outputs": [],
   "source": [
    "# TotLns&Lses/Assets 회귀계수의 추정치 해석"
   ]
  },
  {
   "cell_type": "code",
   "execution_count": 27,
   "id": "f23730b9",
   "metadata": {},
   "outputs": [
    {
     "data": {
      "text/plain": [
       "8.3713"
      ]
     },
     "execution_count": 27,
     "metadata": {},
     "output_type": "execute_result"
    }
   ],
   "source": [
    "b2"
   ]
  },
  {
   "cell_type": "markdown",
   "id": "2cb665e6",
   "metadata": {},
   "source": [
    "양의 회귀계수는 그 예측변수 값이 클수록 재정적으로 약할 확률이 높음을 의미한다. #p265 참고"
   ]
  },
  {
   "cell_type": "markdown",
   "id": "67fe9186",
   "metadata": {},
   "source": [
    "#### e"
   ]
  },
  {
   "cell_type": "markdown",
   "id": "f8bb8e16",
   "metadata": {},
   "source": [
    "재정이 열악한 은행을 재정상태가 좋다고 오분류한 경우의 (비용) \n",
    "###### >\n",
    "\n",
    "재정이 튼튼한 은행을 재정이 약하다고 오분류한 경우의 비용"
   ]
  },
  {
   "cell_type": "code",
   "execution_count": 28,
   "id": "06e4d7f6",
   "metadata": {},
   "outputs": [
    {
     "name": "stdout",
     "output_type": "stream",
     "text": [
      "Confusion Matrix (Accuracy 0.9000)\n",
      "\n",
      "       Prediction\n",
      "Actual 0 1\n",
      "     0 9 1\n",
      "     1 1 9\n"
     ]
    }
   ],
   "source": [
    "classificationSummary(y, logit_reg.predict(X))"
   ]
  },
  {
   "cell_type": "markdown",
   "id": "7552a704",
   "metadata": {},
   "source": [
    "1/10 값을 감소해야 함"
   ]
  },
  {
   "cell_type": "code",
   "execution_count": 29,
   "id": "4225b29e",
   "metadata": {},
   "outputs": [],
   "source": [
    "## 분류 성능 평가 - 5장 표5.5\n",
    "## 비용이 큰 것을 감소하기 위해 재정이 열악하다고 의미하는 것에 있어서(y=1) 에 대해 컷오프값 감소"
   ]
  },
  {
   "cell_type": "markdown",
   "id": "692372e2",
   "metadata": {},
   "source": [
    "## 10.2 올바른 시스템 관리자 식별"
   ]
  },
  {
   "cell_type": "code",
   "execution_count": 30,
   "id": "ac65103e",
   "metadata": {},
   "outputs": [],
   "source": [
    "sys = pd.read_csv('SystemAdministrators.csv')"
   ]
  },
  {
   "cell_type": "code",
   "execution_count": 31,
   "id": "fa77206a",
   "metadata": {},
   "outputs": [
    {
     "data": {
      "text/plain": [
       "Index(['Experience', 'Training', 'Completed task'], dtype='object')"
      ]
     },
     "execution_count": 31,
     "metadata": {},
     "output_type": "execute_result"
    }
   ],
   "source": [
    "sys.columns ## 경험과 교육"
   ]
  },
  {
   "cell_type": "code",
   "execution_count": 32,
   "id": "76020eee",
   "metadata": {},
   "outputs": [
    {
     "data": {
      "text/html": [
       "<div>\n",
       "<style scoped>\n",
       "    .dataframe tbody tr th:only-of-type {\n",
       "        vertical-align: middle;\n",
       "    }\n",
       "\n",
       "    .dataframe tbody tr th {\n",
       "        vertical-align: top;\n",
       "    }\n",
       "\n",
       "    .dataframe thead th {\n",
       "        text-align: right;\n",
       "    }\n",
       "</style>\n",
       "<table border=\"1\" class=\"dataframe\">\n",
       "  <thead>\n",
       "    <tr style=\"text-align: right;\">\n",
       "      <th></th>\n",
       "      <th>Experience</th>\n",
       "      <th>Training</th>\n",
       "      <th>Completed task</th>\n",
       "    </tr>\n",
       "  </thead>\n",
       "  <tbody>\n",
       "    <tr>\n",
       "      <th>0</th>\n",
       "      <td>10.9</td>\n",
       "      <td>4</td>\n",
       "      <td>Yes</td>\n",
       "    </tr>\n",
       "    <tr>\n",
       "      <th>1</th>\n",
       "      <td>9.9</td>\n",
       "      <td>4</td>\n",
       "      <td>Yes</td>\n",
       "    </tr>\n",
       "    <tr>\n",
       "      <th>2</th>\n",
       "      <td>10.4</td>\n",
       "      <td>6</td>\n",
       "      <td>Yes</td>\n",
       "    </tr>\n",
       "    <tr>\n",
       "      <th>3</th>\n",
       "      <td>13.7</td>\n",
       "      <td>6</td>\n",
       "      <td>Yes</td>\n",
       "    </tr>\n",
       "    <tr>\n",
       "      <th>4</th>\n",
       "      <td>9.4</td>\n",
       "      <td>8</td>\n",
       "      <td>Yes</td>\n",
       "    </tr>\n",
       "  </tbody>\n",
       "</table>\n",
       "</div>"
      ],
      "text/plain": [
       "   Experience  Training Completed task\n",
       "0        10.9         4            Yes\n",
       "1         9.9         4            Yes\n",
       "2        10.4         6            Yes\n",
       "3        13.7         6            Yes\n",
       "4         9.4         8            Yes"
      ]
     },
     "execution_count": 32,
     "metadata": {},
     "output_type": "execute_result"
    }
   ],
   "source": [
    "sys.head(5)"
   ]
  },
  {
   "cell_type": "markdown",
   "id": "6184a077",
   "metadata": {},
   "source": [
    "#### a"
   ]
  },
  {
   "cell_type": "code",
   "execution_count": 33,
   "id": "ee2e7795",
   "metadata": {},
   "outputs": [],
   "source": [
    "import pandas as pd\n",
    "from pandas.plotting import scatter_matrix, parallel_coordinates"
   ]
  },
  {
   "cell_type": "code",
   "execution_count": 34,
   "id": "8910eca7",
   "metadata": {},
   "outputs": [
    {
     "data": {
      "text/html": [
       "<div>\n",
       "<style scoped>\n",
       "    .dataframe tbody tr th:only-of-type {\n",
       "        vertical-align: middle;\n",
       "    }\n",
       "\n",
       "    .dataframe tbody tr th {\n",
       "        vertical-align: top;\n",
       "    }\n",
       "\n",
       "    .dataframe thead th {\n",
       "        text-align: right;\n",
       "    }\n",
       "</style>\n",
       "<table border=\"1\" class=\"dataframe\">\n",
       "  <thead>\n",
       "    <tr style=\"text-align: right;\">\n",
       "      <th></th>\n",
       "      <th>No</th>\n",
       "      <th>Yes</th>\n",
       "    </tr>\n",
       "  </thead>\n",
       "  <tbody>\n",
       "    <tr>\n",
       "      <th>0</th>\n",
       "      <td>0</td>\n",
       "      <td>1</td>\n",
       "    </tr>\n",
       "    <tr>\n",
       "      <th>1</th>\n",
       "      <td>0</td>\n",
       "      <td>1</td>\n",
       "    </tr>\n",
       "    <tr>\n",
       "      <th>2</th>\n",
       "      <td>0</td>\n",
       "      <td>1</td>\n",
       "    </tr>\n",
       "    <tr>\n",
       "      <th>3</th>\n",
       "      <td>0</td>\n",
       "      <td>1</td>\n",
       "    </tr>\n",
       "    <tr>\n",
       "      <th>4</th>\n",
       "      <td>0</td>\n",
       "      <td>1</td>\n",
       "    </tr>\n",
       "  </tbody>\n",
       "</table>\n",
       "</div>"
      ],
      "text/plain": [
       "   No  Yes\n",
       "0   0    1\n",
       "1   0    1\n",
       "2   0    1\n",
       "3   0    1\n",
       "4   0    1"
      ]
     },
     "execution_count": 34,
     "metadata": {},
     "output_type": "execute_result"
    }
   ],
   "source": [
    "sys2 = pd.get_dummies(sys['Completed task'])\n",
    "sys2.head(5)"
   ]
  },
  {
   "cell_type": "code",
   "execution_count": 35,
   "id": "9d03635e",
   "metadata": {},
   "outputs": [
    {
     "data": {
      "text/plain": [
       "<AxesSubplot:xlabel='Experience', ylabel='Completed task'>"
      ]
     },
     "execution_count": 35,
     "metadata": {},
     "output_type": "execute_result"
    },
    {
     "data": {
      "image/png": "[encoded data removed]",
      "text/plain": [
       "<Figure size 432x288 with 1 Axes>"
      ]
     },
     "metadata": {
      "needs_background": "light"
     },
     "output_type": "display_data"
    }
   ],
   "source": [
    "sys.plot.scatter(x='Experience', y='Completed task', color=['C0' if color == 1 else 'C1'for color in sys2.Yes])\n",
    "\n",
    "## 아래 산점도를 보면 비교적으로 정확하게 구별되는 것을 확인해 볼 수 있다?"
   ]
  },
  {
   "cell_type": "markdown",
   "id": "f37a7540",
   "metadata": {},
   "source": [
    "#### b"
   ]
  },
  {
   "cell_type": "code",
   "execution_count": 36,
   "id": "5c92cfd7",
   "metadata": {},
   "outputs": [
    {
     "data": {
      "text/plain": [
       "LogisticRegression(C=1e+42, solver='liblinear')"
      ]
     },
     "execution_count": 36,
     "metadata": {},
     "output_type": "execute_result"
    }
   ],
   "source": [
    "predictors = ['Experience', 'Training']\n",
    "outcome = 'Completed task'\n",
    "\n",
    "y = sys[outcome]\n",
    "X = sys[predictors]\n",
    "\n",
    "train_X, valid_X, train_y, valid_y = train_test_split(X, y, test_size=0.4, random_state=1)\n",
    "\n",
    "# fit a logistic regression (set penalty=l2 and C=1e42 to avoid regularization)\n",
    "logit_reg = LogisticRegression(penalty=\"l2\", C=1e42, solver='liblinear')\n",
    "logit_reg.fit(train_X, train_y)"
   ]
  },
  {
   "cell_type": "code",
   "execution_count": 37,
   "id": "44e602f6",
   "metadata": {},
   "outputs": [
    {
     "name": "stdout",
     "output_type": "stream",
     "text": [
      "Confusion Matrix (Accuracy 0.9111)\n",
      "\n",
      "       Prediction\n",
      "Actual  0  1\n",
      "     0 31  1\n",
      "     1  3 10\n"
     ]
    }
   ],
   "source": [
    "classificationSummary(train_y, logit_reg.predict(train_X))"
   ]
  },
  {
   "cell_type": "markdown",
   "id": "1b76d49b",
   "metadata": {},
   "source": [
    "업무를 완료한 관리자들 중 업무를 완료하지 못한 것으로 잘못 분류된 관리자의 비율\n",
    "= 3/13"
   ]
  },
  {
   "cell_type": "markdown",
   "id": "fc23a611",
   "metadata": {},
   "source": [
    "#### c"
   ]
  },
  {
   "cell_type": "markdown",
   "id": "6e973d55",
   "metadata": {},
   "source": [
    "b의 확률을 감소하기 위해서 분자의 값이 작아지고 분모가 커져야 한다.\n",
    "따라서 0으로 오분류하는 경우를 감소하기 위해 컷오프값을 감소\n",
    "\n",
    "###### 5장 예측성능 평가 표 5.5 참고"
   ]
  },
  {
   "cell_type": "markdown",
   "id": "c58f9ed1",
   "metadata": {},
   "source": [
    "#### d"
   ]
  },
  {
   "cell_type": "code",
   "execution_count": 38,
   "id": "b5d57eda",
   "metadata": {},
   "outputs": [],
   "source": [
    "# 업무 추정 확률이 0.5 초과를 위해 - b번에서 데이터세트를 학습데이터로 사용했기에 이를 그대로 적용하여 풀이"
   ]
  },
  {
   "cell_type": "code",
   "execution_count": 39,
   "id": "325185c5",
   "metadata": {},
   "outputs": [
    {
     "name": "stdout",
     "output_type": "stream",
     "text": [
      "intercept -15.646119443605366\n",
      "                coef\n",
      "Experience  1.835234\n",
      "Training    0.118728\n"
     ]
    }
   ],
   "source": [
    "print('intercept', logit_reg.intercept_[0])\n",
    "print(pd.DataFrame({'coef': logit_reg.coef_[0]}, index=X.columns.transpose()))"
   ]
  },
  {
   "cell_type": "code",
   "execution_count": 40,
   "id": "2d364c5d",
   "metadata": {},
   "outputs": [
    {
     "name": "stdout",
     "output_type": "stream",
     "text": [
      "-15.6461 \t 1.8352 \t 0.1187\n"
     ]
    }
   ],
   "source": [
    "b0=round(-15.646119443605366,4)\n",
    "b1=round(1.835234,4) ## experience\n",
    "b2=round(0.118728,4) ## training\n",
    "print(b0,'\\t', b1,'\\t', b2)"
   ]
  },
  {
   "cell_type": "markdown",
   "id": "f937f410",
   "metadata": {},
   "source": [
    "log__Odds = -15.6461 + 1.8352 *x1 + 0.1187*x2\n",
    "\n",
    "Odds_Y_1=math.exp(log__Odds)\n",
    "\n",
    "p=Odds_Y_1/(Odds_Y_1+1)"
   ]
  },
  {
   "cell_type": "code",
   "execution_count": 41,
   "id": "aeb237d4",
   "metadata": {},
   "outputs": [],
   "source": [
    "# p>0.5\n",
    "\n",
    "# 오즈가 1보다 커야 함\n",
    "# 로짓이 0보다 커야 함 "
   ]
  },
  {
   "cell_type": "code",
   "execution_count": 42,
   "id": "cc23a450",
   "metadata": {},
   "outputs": [
    {
     "data": {
      "text/html": [
       "<div>\n",
       "<style scoped>\n",
       "    .dataframe tbody tr th:only-of-type {\n",
       "        vertical-align: middle;\n",
       "    }\n",
       "\n",
       "    .dataframe tbody tr th {\n",
       "        vertical-align: top;\n",
       "    }\n",
       "\n",
       "    .dataframe thead th {\n",
       "        text-align: right;\n",
       "    }\n",
       "</style>\n",
       "<table border=\"1\" class=\"dataframe\">\n",
       "  <thead>\n",
       "    <tr style=\"text-align: right;\">\n",
       "      <th></th>\n",
       "      <th>Experience</th>\n",
       "      <th>Training</th>\n",
       "    </tr>\n",
       "  </thead>\n",
       "  <tbody>\n",
       "    <tr>\n",
       "      <th>57</th>\n",
       "      <td>5.1</td>\n",
       "      <td>4</td>\n",
       "    </tr>\n",
       "    <tr>\n",
       "      <th>48</th>\n",
       "      <td>6.1</td>\n",
       "      <td>4</td>\n",
       "    </tr>\n",
       "    <tr>\n",
       "      <th>61</th>\n",
       "      <td>8.0</td>\n",
       "      <td>4</td>\n",
       "    </tr>\n",
       "    <tr>\n",
       "      <th>45</th>\n",
       "      <td>7.8</td>\n",
       "      <td>4</td>\n",
       "    </tr>\n",
       "    <tr>\n",
       "      <th>24</th>\n",
       "      <td>8.9</td>\n",
       "      <td>4</td>\n",
       "    </tr>\n",
       "  </tbody>\n",
       "</table>\n",
       "</div>"
      ],
      "text/plain": [
       "    Experience  Training\n",
       "57         5.1         4\n",
       "48         6.1         4\n",
       "61         8.0         4\n",
       "45         7.8         4\n",
       "24         8.9         4"
      ]
     },
     "execution_count": 42,
     "metadata": {},
     "output_type": "execute_result"
    }
   ],
   "source": [
    "train_X=train_X[train_X['Training']==4]\n",
    "train_X.head()"
   ]
  },
  {
   "cell_type": "code",
   "execution_count": 43,
   "id": "00e3de86",
   "metadata": {},
   "outputs": [
    {
     "data": {
      "text/plain": [
       "0      4.8324\n",
       "1      2.9972\n",
       "5      7.5852\n",
       "7      1.1620\n",
       "9      5.7500\n",
       "11     1.7125\n",
       "13    -1.2238\n",
       "14    -2.3249\n",
       "17    -5.9953\n",
       "18    -6.3623\n",
       "20    -7.4635\n",
       "22    -6.5459\n",
       "23    -5.6283\n",
       "24     1.1620\n",
       "28    -1.0403\n",
       "29   -10.2163\n",
       "30    -2.8755\n",
       "37    -1.2238\n",
       "41    -3.9766\n",
       "45    -0.8567\n",
       "46    -2.3249\n",
       "48    -3.9766\n",
       "49    -6.1788\n",
       "50    -2.5084\n",
       "51    -5.6283\n",
       "57    -5.8118\n",
       "61    -0.4897\n",
       "62    -7.8305\n",
       "63    -3.6095\n",
       "64    -3.0590\n",
       "67    -3.2425\n",
       "69    -4.3436\n",
       "74    -5.4447\n",
       "Name: Experience, dtype: float64"
      ]
     },
     "execution_count": 43,
     "metadata": {},
     "output_type": "execute_result"
    }
   ],
   "source": [
    "log_Odds2 = -15.6461 + 1.8352*train_X.Experience + 0.1187*4\n",
    "log_Odds2 =round(log_Odds2,4)\n",
    "log_Odds2.sort_index(ascending=True)"
   ]
  },
  {
   "cell_type": "code",
   "execution_count": 44,
   "id": "5659fe93",
   "metadata": {},
   "outputs": [],
   "source": [
    "# 로짓이 0보다 커야한다고 했기 때문에 최소로 갖는 양수값은 인덱스가 7일 때이다."
   ]
  },
  {
   "cell_type": "code",
   "execution_count": 45,
   "id": "8c663c1d",
   "metadata": {},
   "outputs": [
    {
     "data": {
      "text/html": [
       "<div>\n",
       "<style scoped>\n",
       "    .dataframe tbody tr th:only-of-type {\n",
       "        vertical-align: middle;\n",
       "    }\n",
       "\n",
       "    .dataframe tbody tr th {\n",
       "        vertical-align: top;\n",
       "    }\n",
       "\n",
       "    .dataframe thead th {\n",
       "        text-align: right;\n",
       "    }\n",
       "</style>\n",
       "<table border=\"1\" class=\"dataframe\">\n",
       "  <thead>\n",
       "    <tr style=\"text-align: right;\">\n",
       "      <th></th>\n",
       "      <th>Experience</th>\n",
       "      <th>Training</th>\n",
       "    </tr>\n",
       "  </thead>\n",
       "  <tbody>\n",
       "    <tr>\n",
       "      <th>0</th>\n",
       "      <td>10.9</td>\n",
       "      <td>4</td>\n",
       "    </tr>\n",
       "    <tr>\n",
       "      <th>1</th>\n",
       "      <td>9.9</td>\n",
       "      <td>4</td>\n",
       "    </tr>\n",
       "    <tr>\n",
       "      <th>5</th>\n",
       "      <td>12.4</td>\n",
       "      <td>4</td>\n",
       "    </tr>\n",
       "    <tr>\n",
       "      <th>7</th>\n",
       "      <td>8.9</td>\n",
       "      <td>4</td>\n",
       "    </tr>\n",
       "    <tr>\n",
       "      <th>9</th>\n",
       "      <td>11.4</td>\n",
       "      <td>4</td>\n",
       "    </tr>\n",
       "    <tr>\n",
       "      <th>11</th>\n",
       "      <td>9.2</td>\n",
       "      <td>4</td>\n",
       "    </tr>\n",
       "  </tbody>\n",
       "</table>\n",
       "</div>"
      ],
      "text/plain": [
       "    Experience  Training\n",
       "0         10.9         4\n",
       "1          9.9         4\n",
       "5         12.4         4\n",
       "7          8.9         4\n",
       "9         11.4         4\n",
       "11         9.2         4"
      ]
     },
     "execution_count": 45,
     "metadata": {},
     "output_type": "execute_result"
    }
   ],
   "source": [
    "train_X.sort_index(ascending=True).iloc[0:6] ## 양수값을 갖는 부분을 다 보임"
   ]
  },
  {
   "cell_type": "markdown",
   "id": "d529edb7",
   "metadata": {},
   "source": [
    "따라서 경험이 적어도 8.9개월은 되어야 업무완료의 추정 확률이 50퍼센트를 초과할 수 있다."
   ]
  },
  {
   "cell_type": "markdown",
   "id": "f73379d3",
   "metadata": {},
   "source": [
    "## 10.3 승차식 잔디깎이 기계의 판매"
   ]
  },
  {
   "cell_type": "code",
   "execution_count": 46,
   "id": "6ae776bb",
   "metadata": {},
   "outputs": [],
   "source": [
    "rm = pd.read_csv('RidingMowers.csv')"
   ]
  },
  {
   "cell_type": "code",
   "execution_count": 47,
   "id": "bcfd6eb4",
   "metadata": {},
   "outputs": [
    {
     "data": {
      "text/html": [
       "<div>\n",
       "<style scoped>\n",
       "    .dataframe tbody tr th:only-of-type {\n",
       "        vertical-align: middle;\n",
       "    }\n",
       "\n",
       "    .dataframe tbody tr th {\n",
       "        vertical-align: top;\n",
       "    }\n",
       "\n",
       "    .dataframe thead th {\n",
       "        text-align: right;\n",
       "    }\n",
       "</style>\n",
       "<table border=\"1\" class=\"dataframe\">\n",
       "  <thead>\n",
       "    <tr style=\"text-align: right;\">\n",
       "      <th></th>\n",
       "      <th>Income</th>\n",
       "      <th>Lot_Size</th>\n",
       "      <th>Ownership</th>\n",
       "    </tr>\n",
       "  </thead>\n",
       "  <tbody>\n",
       "    <tr>\n",
       "      <th>0</th>\n",
       "      <td>60.0</td>\n",
       "      <td>18.4</td>\n",
       "      <td>Owner</td>\n",
       "    </tr>\n",
       "    <tr>\n",
       "      <th>1</th>\n",
       "      <td>85.5</td>\n",
       "      <td>16.8</td>\n",
       "      <td>Owner</td>\n",
       "    </tr>\n",
       "    <tr>\n",
       "      <th>2</th>\n",
       "      <td>64.8</td>\n",
       "      <td>21.6</td>\n",
       "      <td>Owner</td>\n",
       "    </tr>\n",
       "    <tr>\n",
       "      <th>3</th>\n",
       "      <td>61.5</td>\n",
       "      <td>20.8</td>\n",
       "      <td>Owner</td>\n",
       "    </tr>\n",
       "    <tr>\n",
       "      <th>4</th>\n",
       "      <td>87.0</td>\n",
       "      <td>23.6</td>\n",
       "      <td>Owner</td>\n",
       "    </tr>\n",
       "  </tbody>\n",
       "</table>\n",
       "</div>"
      ],
      "text/plain": [
       "   Income  Lot_Size Ownership\n",
       "0    60.0      18.4     Owner\n",
       "1    85.5      16.8     Owner\n",
       "2    64.8      21.6     Owner\n",
       "3    61.5      20.8     Owner\n",
       "4    87.0      23.6     Owner"
      ]
     },
     "execution_count": 47,
     "metadata": {},
     "output_type": "execute_result"
    }
   ],
   "source": [
    "rm.head(5)"
   ]
  },
  {
   "cell_type": "markdown",
   "id": "e08f46f2",
   "metadata": {},
   "source": [
    "#### a"
   ]
  },
  {
   "cell_type": "code",
   "execution_count": 48,
   "id": "2e35ba0e",
   "metadata": {},
   "outputs": [
    {
     "name": "stdout",
     "output_type": "stream",
     "text": [
      "Income       12\n",
      "Lot_Size     12\n",
      "Ownership    12\n",
      "dtype: int64\n",
      "\n",
      "\n",
      "Income       12\n",
      "Lot_Size     12\n",
      "Ownership    12\n",
      "dtype: int64\n"
     ]
    }
   ],
   "source": [
    "print(rm[rm['Ownership']=='Owner'].count())\n",
    "print('\\n')\n",
    "print(rm[rm['Ownership']=='Nonowner'].count())"
   ]
  },
  {
   "cell_type": "markdown",
   "id": "ea99e51f",
   "metadata": {},
   "source": [
    "소유한 가구의 비율 = 0.5"
   ]
  },
  {
   "cell_type": "markdown",
   "id": "2a2ab021",
   "metadata": {},
   "source": [
    "#### b"
   ]
  },
  {
   "cell_type": "code",
   "execution_count": 49,
   "id": "9d20df2d",
   "metadata": {},
   "outputs": [
    {
     "data": {
      "text/plain": [
       "<AxesSubplot:xlabel='Income', ylabel='Lot_Size'>"
      ]
     },
     "execution_count": 49,
     "metadata": {},
     "output_type": "execute_result"
    },
    {
     "data": {
      "image/png": "[encoded data removed]",
      "text/plain": [
       "<Figure size 432x288 with 1 Axes>"
      ]
     },
     "metadata": {
      "needs_background": "light"
     },
     "output_type": "display_data"
    }
   ],
   "source": [
    "rm2 = pd.get_dummies(rm['Ownership'])\n",
    "rm.plot.scatter(x='Income', y='Lot_Size', color=['C0' if color == 1 else 'C1'for color in rm2.Owner])"
   ]
  },
  {
   "cell_type": "code",
   "execution_count": 50,
   "id": "7d393b5c",
   "metadata": {},
   "outputs": [],
   "source": [
    "rm['Ownership'] = rm['Ownership'].astype('category')\n",
    "rm = pd.get_dummies(rm, columns=['Ownership'], drop_first = True) # 1은 소유 0은 비소유"
   ]
  },
  {
   "cell_type": "code",
   "execution_count": 51,
   "id": "e1481800",
   "metadata": {},
   "outputs": [
    {
     "name": "stdout",
     "output_type": "stream",
     "text": [
      "평균소득 :   68.4375\n",
      "소유자의 소득 :   79.475\n",
      "비소유자의 소득 :   57.4\n"
     ]
    }
   ],
   "source": [
    "rm_Y=rm[rm['Ownership_Owner']==1]\n",
    "rm_N=rm[rm['Ownership_Owner']==0]\n",
    "print('평균소득 :  ', rm.Income.mean())\n",
    "print(\"소유자의 소득 :  \", rm_Y.Income.mean())\n",
    "print(\"비소유자의 소득 :  \",rm_N.Income.mean())"
   ]
  },
  {
   "cell_type": "markdown",
   "id": "d1611fed",
   "metadata": {},
   "source": [
    "소유자가 더 높게 갖는다"
   ]
  },
  {
   "cell_type": "markdown",
   "id": "e7b68b28",
   "metadata": {},
   "source": [
    "#### c"
   ]
  },
  {
   "cell_type": "code",
   "execution_count": 52,
   "id": "e4566469",
   "metadata": {},
   "outputs": [
    {
     "data": {
      "text/html": [
       "<div>\n",
       "<style scoped>\n",
       "    .dataframe tbody tr th:only-of-type {\n",
       "        vertical-align: middle;\n",
       "    }\n",
       "\n",
       "    .dataframe tbody tr th {\n",
       "        vertical-align: top;\n",
       "    }\n",
       "\n",
       "    .dataframe thead th {\n",
       "        text-align: right;\n",
       "    }\n",
       "</style>\n",
       "<table border=\"1\" class=\"dataframe\">\n",
       "  <thead>\n",
       "    <tr style=\"text-align: right;\">\n",
       "      <th></th>\n",
       "      <th>Income</th>\n",
       "      <th>Lot_Size</th>\n",
       "      <th>Ownership_Owner</th>\n",
       "    </tr>\n",
       "  </thead>\n",
       "  <tbody>\n",
       "    <tr>\n",
       "      <th>0</th>\n",
       "      <td>60.0</td>\n",
       "      <td>18.4</td>\n",
       "      <td>1</td>\n",
       "    </tr>\n",
       "    <tr>\n",
       "      <th>1</th>\n",
       "      <td>85.5</td>\n",
       "      <td>16.8</td>\n",
       "      <td>1</td>\n",
       "    </tr>\n",
       "    <tr>\n",
       "      <th>2</th>\n",
       "      <td>64.8</td>\n",
       "      <td>21.6</td>\n",
       "      <td>1</td>\n",
       "    </tr>\n",
       "    <tr>\n",
       "      <th>3</th>\n",
       "      <td>61.5</td>\n",
       "      <td>20.8</td>\n",
       "      <td>1</td>\n",
       "    </tr>\n",
       "    <tr>\n",
       "      <th>4</th>\n",
       "      <td>87.0</td>\n",
       "      <td>23.6</td>\n",
       "      <td>1</td>\n",
       "    </tr>\n",
       "  </tbody>\n",
       "</table>\n",
       "</div>"
      ],
      "text/plain": [
       "   Income  Lot_Size  Ownership_Owner\n",
       "0    60.0      18.4                1\n",
       "1    85.5      16.8                1\n",
       "2    64.8      21.6                1\n",
       "3    61.5      20.8                1\n",
       "4    87.0      23.6                1"
      ]
     },
     "execution_count": 52,
     "metadata": {},
     "output_type": "execute_result"
    }
   ],
   "source": [
    "rm.head(5)"
   ]
  },
  {
   "cell_type": "code",
   "execution_count": 53,
   "id": "11669e70",
   "metadata": {},
   "outputs": [
    {
     "name": "stdout",
     "output_type": "stream",
     "text": [
      "intercept -25.870471875172292\n",
      "              coef\n",
      "Income    0.110611\n",
      "Lot_Size  0.961144\n"
     ]
    }
   ],
   "source": [
    "X = rm.drop(columns=[\"Ownership_Owner\"])\n",
    "y = rm[\"Ownership_Owner\"]\n",
    "\n",
    "logit_reg = LogisticRegression(penalty=\"l2\", C=1e42, solver=\"liblinear\")\n",
    "logit_reg.fit(X, y)\n",
    "\n",
    "print('intercept', logit_reg.intercept_[0])\n",
    "print(pd.DataFrame({'coef': logit_reg.coef_[0]}, index=X.columns.transpose()))"
   ]
  },
  {
   "cell_type": "code",
   "execution_count": 54,
   "id": "bbd2190b",
   "metadata": {},
   "outputs": [
    {
     "name": "stdout",
     "output_type": "stream",
     "text": [
      "Confusion Matrix (Accuracy 0.8333)\n",
      "\n",
      "       Prediction\n",
      "Actual  0  1\n",
      "     0 10  2\n",
      "     1  2 10\n"
     ]
    }
   ],
   "source": [
    "classificationSummary(y, logit_reg.predict(X))"
   ]
  },
  {
   "cell_type": "markdown",
   "id": "1ff2890c",
   "metadata": {},
   "source": [
    "12명 중, 10명이 정확히 분류됐다 = 10/12"
   ]
  },
  {
   "cell_type": "markdown",
   "id": "fd3b6748",
   "metadata": {},
   "source": [
    "#### d"
   ]
  },
  {
   "cell_type": "code",
   "execution_count": 55,
   "id": "0119bf0a",
   "metadata": {},
   "outputs": [],
   "source": [
    "## 정확히 분류된 비율을 증가하기 위해 _ 5장 예측성능평가 참고 (p144)"
   ]
  },
  {
   "cell_type": "markdown",
   "id": "956b1f06",
   "metadata": {},
   "source": [
    "컷오프 증가"
   ]
  },
  {
   "cell_type": "markdown",
   "id": "d81fc050",
   "metadata": {},
   "source": [
    "#### e"
   ]
  },
  {
   "cell_type": "code",
   "execution_count": 56,
   "id": "9af56732",
   "metadata": {},
   "outputs": [
    {
     "name": "stdout",
     "output_type": "stream",
     "text": [
      "-25.8705 \t 0.1106 \t 0.9611\n"
     ]
    }
   ],
   "source": [
    "b0=round(-25.870471875172292,4)\n",
    "b1=round(0.110611,4) ## 소득 1만 달라 = 10 k\n",
    "b2=round(0.961144,4) ## 크기\n",
    "print(b0,'\\t', b1,'\\t', b2)"
   ]
  },
  {
   "cell_type": "markdown",
   "id": "7632eff8",
   "metadata": {},
   "source": [
    "로짓: log__Odds = -25.8705 + 0.1106 *x1 + 0.9611*x2\n",
    "\n",
    "오즈: Odds_Y_1=math.exp(log__Odds)\n",
    "\n",
    "확률: p=Odds_Y_1/(Odds_Y_1+1)"
   ]
  },
  {
   "cell_type": "code",
   "execution_count": 57,
   "id": "4fdf034f",
   "metadata": {},
   "outputs": [],
   "source": [
    "로짓 = -25.8705 + 0.1106*60 + 0.9611*20\n",
    "로짓 = round(로짓,4)"
   ]
  },
  {
   "cell_type": "code",
   "execution_count": 58,
   "id": "25911c2b",
   "metadata": {},
   "outputs": [
    {
     "data": {
      "text/plain": [
       "0.9875778004938814"
      ]
     },
     "execution_count": 58,
     "metadata": {},
     "output_type": "execute_result"
    }
   ],
   "source": [
    "오즈=math.exp(로짓)\n",
    "오즈"
   ]
  },
  {
   "cell_type": "markdown",
   "id": "db22c022",
   "metadata": {},
   "source": [
    "#### f"
   ]
  },
  {
   "cell_type": "code",
   "execution_count": 59,
   "id": "04097d27",
   "metadata": {},
   "outputs": [
    {
     "data": {
      "text/plain": [
       "0.4968750406894684"
      ]
     },
     "execution_count": 59,
     "metadata": {},
     "output_type": "execute_result"
    }
   ],
   "source": [
    "확률=오즈/(오즈+1)\n",
    "확률"
   ]
  },
  {
   "cell_type": "markdown",
   "id": "eea6b489",
   "metadata": {},
   "source": [
    "0.5를 넘지 않아 가구를 소유하고 있지 않다고 분류한다.\n",
    "\n",
    "(넷쨋자리까지 표기한 경우인데 소수점 몇째자리에서 반올림을 하냐에 따라 0.5 근방으로 근삿값으로 표현해 나타날 것 같음\n",
    "-> 미세한 차이로 미소유 or 소유로 분류 가능)"
   ]
  },
  {
   "cell_type": "markdown",
   "id": "dff23ae2",
   "metadata": {},
   "source": [
    "#### g"
   ]
  },
  {
   "cell_type": "code",
   "execution_count": 60,
   "id": "586ec88e",
   "metadata": {},
   "outputs": [],
   "source": [
    "X = rm.drop(columns=[\"Ownership_Owner\"])\n",
    "y = rm[\"Ownership_Owner\"]"
   ]
  },
  {
   "cell_type": "code",
   "execution_count": 61,
   "id": "642bbc2f",
   "metadata": {},
   "outputs": [],
   "source": [
    "## X=X[X['Lot_Size']==16]\n",
    "## X"
   ]
  },
  {
   "cell_type": "code",
   "execution_count": 62,
   "id": "10b524dd",
   "metadata": {},
   "outputs": [
    {
     "data": {
      "text/plain": [
       "0    -3.8569\n",
       "1    -1.0366\n",
       "2    -3.3260\n",
       "3    -3.6910\n",
       "4    -0.8707\n",
       "5     1.6842\n",
       "6     1.4519\n",
       "7    -1.3352\n",
       "8    -2.8615\n",
       "9    -0.2071\n",
       "10   -4.8523\n",
       "11   -1.5343\n",
       "12   -2.1979\n",
       "13   -4.6532\n",
       "14   -3.3260\n",
       "15   -5.7150\n",
       "16   -1.2025\n",
       "17   -5.0514\n",
       "18   -3.9233\n",
       "19   -3.1933\n",
       "20   -5.2505\n",
       "21   -6.8431\n",
       "22   -4.8523\n",
       "23   -3.5251\n",
       "Name: Income, dtype: float64"
      ]
     },
     "execution_count": 62,
     "metadata": {},
     "output_type": "execute_result"
    }
   ],
   "source": [
    "## 확률 p가 0.5보다 크면 소유한다.\n",
    "## 로짓은 양수여야 한다.\n",
    "\n",
    "로짓 = -25.8705 + 0.1106*X.Income + 0.9611*16\n",
    "로짓 =round(로짓,4)\n",
    "로짓.sort_index(ascending=True)"
   ]
  },
  {
   "cell_type": "code",
   "execution_count": 63,
   "id": "b26ec922",
   "metadata": {},
   "outputs": [
    {
     "data": {
      "text/html": [
       "<div>\n",
       "<style scoped>\n",
       "    .dataframe tbody tr th:only-of-type {\n",
       "        vertical-align: middle;\n",
       "    }\n",
       "\n",
       "    .dataframe tbody tr th {\n",
       "        vertical-align: top;\n",
       "    }\n",
       "\n",
       "    .dataframe thead th {\n",
       "        text-align: right;\n",
       "    }\n",
       "</style>\n",
       "<table border=\"1\" class=\"dataframe\">\n",
       "  <thead>\n",
       "    <tr style=\"text-align: right;\">\n",
       "      <th></th>\n",
       "      <th>Income</th>\n",
       "      <th>Lot_Size</th>\n",
       "    </tr>\n",
       "  </thead>\n",
       "  <tbody>\n",
       "    <tr>\n",
       "      <th>5</th>\n",
       "      <td>110.1</td>\n",
       "      <td>19.2</td>\n",
       "    </tr>\n",
       "    <tr>\n",
       "      <th>6</th>\n",
       "      <td>108.0</td>\n",
       "      <td>17.6</td>\n",
       "    </tr>\n",
       "  </tbody>\n",
       "</table>\n",
       "</div>"
      ],
      "text/plain": [
       "   Income  Lot_Size\n",
       "5   110.1      19.2\n",
       "6   108.0      17.6"
      ]
     },
     "execution_count": 63,
     "metadata": {},
     "output_type": "execute_result"
    }
   ],
   "source": [
    "X.sort_index(ascending=True).iloc[5:7] ## 양수값을 갖는 부분을 다 보임"
   ]
  },
  {
   "cell_type": "markdown",
   "id": "aae132c9",
   "metadata": {},
   "source": [
    "최소한의 소득은 108"
   ]
  },
  {
   "cell_type": "code",
   "execution_count": 64,
   "id": "eded5a18",
   "metadata": {},
   "outputs": [],
   "source": [
    "### ????????? 질문"
   ]
  },
  {
   "cell_type": "markdown",
   "id": "755695d2",
   "metadata": {},
   "source": [
    "## 10.4 eBay.com 의 경쟁적인 경매"
   ]
  },
  {
   "cell_type": "code",
   "execution_count": 65,
   "id": "e953532b",
   "metadata": {},
   "outputs": [],
   "source": [
    "ebay =  pd.read_csv(\"eBayAuctions.csv\")"
   ]
  },
  {
   "cell_type": "code",
   "execution_count": 66,
   "id": "452f8ecf",
   "metadata": {},
   "outputs": [
    {
     "data": {
      "text/plain": [
       "Category         object\n",
       "currency         object\n",
       "sellerRating      int64\n",
       "Duration          int64\n",
       "endDay           object\n",
       "ClosePrice      float64\n",
       "OpenPrice       float64\n",
       "Competitive?      int64\n",
       "dtype: object"
      ]
     },
     "execution_count": 66,
     "metadata": {},
     "output_type": "execute_result"
    }
   ],
   "source": [
    "ebay.dtypes"
   ]
  },
  {
   "cell_type": "code",
   "execution_count": 67,
   "id": "7f248d71",
   "metadata": {},
   "outputs": [
    {
     "data": {
      "text/plain": [
       "array(['Music/Movie/Game', 'Automotive', 'SportingGoods', 'Home/Garden',\n",
       "       'Books', 'Collectibles', 'Business/Industrial', 'Toys/Hobbies',\n",
       "       'Electronics', 'Computer', 'EverythingElse',\n",
       "       'Clothing/Accessories', 'Coins/Stamps', 'Antique/Art/Craft',\n",
       "       'Jewelry', 'Pottery/Glass', 'Health/Beauty', 'Photography'],\n",
       "      dtype=object)"
      ]
     },
     "execution_count": 67,
     "metadata": {},
     "output_type": "execute_result"
    }
   ],
   "source": [
    "ebay.Category.unique()"
   ]
  },
  {
   "cell_type": "code",
   "execution_count": 68,
   "id": "71e4a55d",
   "metadata": {},
   "outputs": [],
   "source": [
    "ebay.Category=ebay.Category.astype('category')\n",
    "ebay.currency=ebay.currency.astype('category')\n",
    "ebay.endDay=ebay.endDay.astype('category')\n",
    "ebay.Duration=ebay.Duration.astype('category')"
   ]
  },
  {
   "cell_type": "markdown",
   "id": "9d1e3ce6",
   "metadata": {},
   "source": [
    "#### a"
   ]
  },
  {
   "cell_type": "code",
   "execution_count": 69,
   "id": "1a1836f5",
   "metadata": {},
   "outputs": [],
   "source": [
    "## 문제를 해결하기 어려워 채형님이 푸신 방법 참고"
   ]
  },
  {
   "cell_type": "code",
   "execution_count": 70,
   "id": "d226c455",
   "metadata": {},
   "outputs": [
    {
     "data": {
      "text/plain": [
       "Category\n",
       "Photography             0.85\n",
       "Electronics             0.80\n",
       "SportingGoods           0.73\n",
       "Business/Industrial     0.67\n",
       "Computer                0.67\n",
       "Home/Garden             0.66\n",
       "Music/Movie/Game        0.60\n",
       "Collectibles            0.58\n",
       "Antique/Art/Craft       0.56\n",
       "Toys/Hobbies            0.53\n",
       "Clothing/Accessories    0.50\n",
       "Books                   0.50\n",
       "Jewelry                 0.37\n",
       "Automotive              0.35\n",
       "Pottery/Glass           0.35\n",
       "Coins/Stamps            0.30\n",
       "EverythingElse          0.24\n",
       "Health/Beauty           0.17\n",
       "Name: Competitive?, dtype: float64"
      ]
     },
     "execution_count": 70,
     "metadata": {},
     "output_type": "execute_result"
    }
   ],
   "source": [
    "a_Category = ebay.groupby([\"Category\"])['Competitive?'].mean()\n",
    "a_Category.sort_values(inplace=True, ascending=False)\n",
    "a_Category=round(a_Category,2)\n",
    "a_Category"
   ]
  },
  {
   "cell_type": "code",
   "execution_count": 71,
   "id": "9da8768a",
   "metadata": {},
   "outputs": [
    {
     "data": {
      "text/plain": [
       "Category\n",
       "Photography              (0.68, 0.85]\n",
       "Electronics              (0.68, 0.85]\n",
       "SportingGoods            (0.68, 0.85]\n",
       "Business/Industrial      (0.51, 0.68]\n",
       "Computer                 (0.51, 0.68]\n",
       "Home/Garden              (0.51, 0.68]\n",
       "Music/Movie/Game         (0.51, 0.68]\n",
       "Collectibles             (0.51, 0.68]\n",
       "Antique/Art/Craft        (0.51, 0.68]\n",
       "Toys/Hobbies             (0.51, 0.68]\n",
       "Clothing/Accessories     (0.34, 0.51]\n",
       "Books                    (0.34, 0.51]\n",
       "Jewelry                  (0.34, 0.51]\n",
       "Automotive               (0.34, 0.51]\n",
       "Pottery/Glass            (0.34, 0.51]\n",
       "Coins/Stamps            (0.169, 0.34]\n",
       "EverythingElse          (0.169, 0.34]\n",
       "Health/Beauty           (0.169, 0.34]\n",
       "Name: Competitive?, dtype: category\n",
       "Categories (4, interval[float64, right]): [(0.169, 0.34] < (0.34, 0.51] < (0.51, 0.68] < (0.68, 0.85]]"
      ]
     },
     "execution_count": 71,
     "metadata": {},
     "output_type": "execute_result"
    }
   ],
   "source": [
    "a_Category=pd.cut(a_Category,4)\n",
    "a_Category"
   ]
  },
  {
   "cell_type": "code",
   "execution_count": 72,
   "id": "609a0f50",
   "metadata": {},
   "outputs": [
    {
     "data": {
      "text/plain": [
       "currency\n",
       "GBP    0.69\n",
       "EUR    0.55\n",
       "US     0.52\n",
       "Name: Competitive?, dtype: float64"
      ]
     },
     "execution_count": 72,
     "metadata": {},
     "output_type": "execute_result"
    }
   ],
   "source": [
    "a_currency = ebay.groupby([\"currency\"])['Competitive?'].mean()\n",
    "a_currency.sort_values(inplace=True, ascending=False)\n",
    "round(a_currency,2)"
   ]
  },
  {
   "cell_type": "code",
   "execution_count": 73,
   "id": "5023be58",
   "metadata": {},
   "outputs": [
    {
     "data": {
      "text/plain": [
       "currency\n",
       "GBP    (0.603, 0.687]\n",
       "EUR    (0.519, 0.603]\n",
       "US     (0.519, 0.603]\n",
       "Name: Competitive?, dtype: category\n",
       "Categories (2, interval[float64, right]): [(0.519, 0.603] < (0.603, 0.687]]"
      ]
     },
     "execution_count": 73,
     "metadata": {},
     "output_type": "execute_result"
    }
   ],
   "source": [
    "a_currency=pd.cut(a_currency,2)\n",
    "a_currency"
   ]
  },
  {
   "cell_type": "code",
   "execution_count": 74,
   "id": "b5596089",
   "metadata": {},
   "outputs": [
    {
     "data": {
      "text/plain": [
       "endDay\n",
       "Mon    0.67\n",
       "Thu    0.60\n",
       "Tue    0.53\n",
       "Sun    0.49\n",
       "Wed    0.48\n",
       "Fri    0.47\n",
       "Sat    0.43\n",
       "Name: Competitive?, dtype: float64"
      ]
     },
     "execution_count": 74,
     "metadata": {},
     "output_type": "execute_result"
    }
   ],
   "source": [
    "a_endDay = ebay.groupby([\"endDay\"])['Competitive?'].mean()\n",
    "a_endDay=round(a_endDay,2)\n",
    "a_endDay.sort_values(inplace=True, ascending=False)\n",
    "a_endDay"
   ]
  },
  {
   "cell_type": "code",
   "execution_count": 75,
   "id": "13199722",
   "metadata": {},
   "outputs": [
    {
     "data": {
      "text/plain": [
       "endDay\n",
       "Mon    (0.59, 0.67]\n",
       "Thu    (0.59, 0.67]\n",
       "Tue    (0.51, 0.59]\n",
       "Sun    (0.43, 0.51]\n",
       "Wed    (0.43, 0.51]\n",
       "Fri    (0.43, 0.51]\n",
       "Sat    (0.43, 0.51]\n",
       "Name: Competitive?, dtype: category\n",
       "Categories (3, interval[float64, right]): [(0.43, 0.51] < (0.51, 0.59] < (0.59, 0.67]]"
      ]
     },
     "execution_count": 75,
     "metadata": {},
     "output_type": "execute_result"
    }
   ],
   "source": [
    "a_endDay=pd.cut(a_endDay,3)\n",
    "a_endDay"
   ]
  },
  {
   "cell_type": "code",
   "execution_count": 76,
   "id": "9db1b614",
   "metadata": {},
   "outputs": [
    {
     "data": {
      "text/plain": [
       "Duration\n",
       "5     0.69\n",
       "10    0.54\n",
       "1     0.52\n",
       "7     0.49\n",
       "3     0.45\n",
       "Name: Competitive?, dtype: float64"
      ]
     },
     "execution_count": 76,
     "metadata": {},
     "output_type": "execute_result"
    }
   ],
   "source": [
    "a_Duration = ebay.groupby([\"Duration\"])['Competitive?'].mean()\n",
    "a_Duration.sort_values(inplace=True, ascending=False)\n",
    "a_Duration=round(a_Duration,2)\n",
    "a_Duration"
   ]
  },
  {
   "cell_type": "code",
   "execution_count": 77,
   "id": "c8ca2dd2",
   "metadata": {},
   "outputs": [
    {
     "data": {
      "text/plain": [
       "Duration\n",
       "5     (0.61, 0.69]\n",
       "10    (0.53, 0.61]\n",
       "1     (0.45, 0.53]\n",
       "7     (0.45, 0.53]\n",
       "3     (0.45, 0.53]\n",
       "Name: Competitive?, dtype: category\n",
       "Categories (3, interval[float64, right]): [(0.45, 0.53] < (0.53, 0.61] < (0.61, 0.69]]"
      ]
     },
     "execution_count": 77,
     "metadata": {},
     "output_type": "execute_result"
    }
   ],
   "source": [
    "a_Duration=pd.cut(a_Duration,3)\n",
    "a_Duration"
   ]
  },
  {
   "cell_type": "markdown",
   "id": "d3b19716",
   "metadata": {},
   "source": [
    "#### b"
   ]
  },
  {
   "cell_type": "code",
   "execution_count": 78,
   "id": "7bfa195d",
   "metadata": {},
   "outputs": [
    {
     "data": {
      "text/html": [
       "<div>\n",
       "<style scoped>\n",
       "    .dataframe tbody tr th:only-of-type {\n",
       "        vertical-align: middle;\n",
       "    }\n",
       "\n",
       "    .dataframe tbody tr th {\n",
       "        vertical-align: top;\n",
       "    }\n",
       "\n",
       "    .dataframe thead th {\n",
       "        text-align: right;\n",
       "    }\n",
       "</style>\n",
       "<table border=\"1\" class=\"dataframe\">\n",
       "  <thead>\n",
       "    <tr style=\"text-align: right;\">\n",
       "      <th></th>\n",
       "      <th>Category70</th>\n",
       "      <th>Category50</th>\n",
       "      <th>Category0</th>\n",
       "      <th>currency_GBP</th>\n",
       "      <th>sellerRating</th>\n",
       "      <th>Duration_5</th>\n",
       "      <th>endDay_Mon_Tue</th>\n",
       "      <th>ClosePrice</th>\n",
       "      <th>OpenPrice</th>\n",
       "      <th>Competitive</th>\n",
       "    </tr>\n",
       "  </thead>\n",
       "  <tbody>\n",
       "    <tr>\n",
       "      <th>0</th>\n",
       "      <td>0</td>\n",
       "      <td>1</td>\n",
       "      <td>0</td>\n",
       "      <td>0</td>\n",
       "      <td>3249</td>\n",
       "      <td>1</td>\n",
       "      <td>1</td>\n",
       "      <td>0.01</td>\n",
       "      <td>0.01</td>\n",
       "      <td>0</td>\n",
       "    </tr>\n",
       "    <tr>\n",
       "      <th>1</th>\n",
       "      <td>0</td>\n",
       "      <td>1</td>\n",
       "      <td>0</td>\n",
       "      <td>0</td>\n",
       "      <td>3249</td>\n",
       "      <td>1</td>\n",
       "      <td>1</td>\n",
       "      <td>0.01</td>\n",
       "      <td>0.01</td>\n",
       "      <td>0</td>\n",
       "    </tr>\n",
       "    <tr>\n",
       "      <th>2</th>\n",
       "      <td>0</td>\n",
       "      <td>1</td>\n",
       "      <td>0</td>\n",
       "      <td>0</td>\n",
       "      <td>3249</td>\n",
       "      <td>1</td>\n",
       "      <td>1</td>\n",
       "      <td>0.01</td>\n",
       "      <td>0.01</td>\n",
       "      <td>0</td>\n",
       "    </tr>\n",
       "    <tr>\n",
       "      <th>3</th>\n",
       "      <td>0</td>\n",
       "      <td>1</td>\n",
       "      <td>0</td>\n",
       "      <td>0</td>\n",
       "      <td>3249</td>\n",
       "      <td>1</td>\n",
       "      <td>1</td>\n",
       "      <td>0.01</td>\n",
       "      <td>0.01</td>\n",
       "      <td>0</td>\n",
       "    </tr>\n",
       "    <tr>\n",
       "      <th>4</th>\n",
       "      <td>0</td>\n",
       "      <td>1</td>\n",
       "      <td>0</td>\n",
       "      <td>0</td>\n",
       "      <td>3249</td>\n",
       "      <td>1</td>\n",
       "      <td>1</td>\n",
       "      <td>0.01</td>\n",
       "      <td>0.01</td>\n",
       "      <td>0</td>\n",
       "    </tr>\n",
       "    <tr>\n",
       "      <th>...</th>\n",
       "      <td>...</td>\n",
       "      <td>...</td>\n",
       "      <td>...</td>\n",
       "      <td>...</td>\n",
       "      <td>...</td>\n",
       "      <td>...</td>\n",
       "      <td>...</td>\n",
       "      <td>...</td>\n",
       "      <td>...</td>\n",
       "      <td>...</td>\n",
       "    </tr>\n",
       "    <tr>\n",
       "      <th>1967</th>\n",
       "      <td>0</td>\n",
       "      <td>0</td>\n",
       "      <td>1</td>\n",
       "      <td>0</td>\n",
       "      <td>2992</td>\n",
       "      <td>1</td>\n",
       "      <td>0</td>\n",
       "      <td>359.95</td>\n",
       "      <td>359.95</td>\n",
       "      <td>0</td>\n",
       "    </tr>\n",
       "    <tr>\n",
       "      <th>1968</th>\n",
       "      <td>0</td>\n",
       "      <td>0</td>\n",
       "      <td>1</td>\n",
       "      <td>0</td>\n",
       "      <td>21</td>\n",
       "      <td>1</td>\n",
       "      <td>0</td>\n",
       "      <td>610.00</td>\n",
       "      <td>300.00</td>\n",
       "      <td>1</td>\n",
       "    </tr>\n",
       "    <tr>\n",
       "      <th>1969</th>\n",
       "      <td>0</td>\n",
       "      <td>0</td>\n",
       "      <td>1</td>\n",
       "      <td>0</td>\n",
       "      <td>1400</td>\n",
       "      <td>1</td>\n",
       "      <td>1</td>\n",
       "      <td>549.00</td>\n",
       "      <td>549.00</td>\n",
       "      <td>0</td>\n",
       "    </tr>\n",
       "    <tr>\n",
       "      <th>1970</th>\n",
       "      <td>0</td>\n",
       "      <td>0</td>\n",
       "      <td>1</td>\n",
       "      <td>0</td>\n",
       "      <td>57</td>\n",
       "      <td>0</td>\n",
       "      <td>0</td>\n",
       "      <td>820.00</td>\n",
       "      <td>650.00</td>\n",
       "      <td>1</td>\n",
       "    </tr>\n",
       "    <tr>\n",
       "      <th>1971</th>\n",
       "      <td>0</td>\n",
       "      <td>0</td>\n",
       "      <td>1</td>\n",
       "      <td>0</td>\n",
       "      <td>145</td>\n",
       "      <td>0</td>\n",
       "      <td>0</td>\n",
       "      <td>999.00</td>\n",
       "      <td>999.00</td>\n",
       "      <td>0</td>\n",
       "    </tr>\n",
       "  </tbody>\n",
       "</table>\n",
       "<p>1972 rows × 10 columns</p>\n",
       "</div>"
      ],
      "text/plain": [
       "      Category70  Category50  Category0  currency_GBP  sellerRating  \\\n",
       "0              0           1          0             0          3249   \n",
       "1              0           1          0             0          3249   \n",
       "2              0           1          0             0          3249   \n",
       "3              0           1          0             0          3249   \n",
       "4              0           1          0             0          3249   \n",
       "...          ...         ...        ...           ...           ...   \n",
       "1967           0           0          1             0          2992   \n",
       "1968           0           0          1             0            21   \n",
       "1969           0           0          1             0          1400   \n",
       "1970           0           0          1             0            57   \n",
       "1971           0           0          1             0           145   \n",
       "\n",
       "      Duration_5  endDay_Mon_Tue  ClosePrice  OpenPrice  Competitive  \n",
       "0              1               1        0.01       0.01            0  \n",
       "1              1               1        0.01       0.01            0  \n",
       "2              1               1        0.01       0.01            0  \n",
       "3              1               1        0.01       0.01            0  \n",
       "4              1               1        0.01       0.01            0  \n",
       "...          ...             ...         ...        ...          ...  \n",
       "1967           1               0      359.95     359.95            0  \n",
       "1968           1               0      610.00     300.00            1  \n",
       "1969           1               1      549.00     549.00            0  \n",
       "1970           0               0      820.00     650.00            1  \n",
       "1971           0               0      999.00     999.00            0  \n",
       "\n",
       "[1972 rows x 10 columns]"
      ]
     },
     "execution_count": 78,
     "metadata": {},
     "output_type": "execute_result"
    }
   ],
   "source": [
    "ebay_new = pd.DataFrame({\n",
    " \"Category70\" : [1 if d in (\"Photograpy\", \"Electronics\", \"SportingGoods\") else 0 for d in ebay.Category],\n",
    " \"Category50\" : [1 if d in (\"Business/Industrial\", \"Computer\", \"Home/Garden\", \"Music/Movie/Game\", \"Collectibles\",\n",
    "                            'Antique/Art/Craft', 'Toys/Hobbies', 'Clothing/Accessories','Books')\n",
    "                else 0 for d in ebay.Category],                                                       \n",
    " \"Category0\": [1 if d in (\"Jewelry\", \"Automotive\", \"Poterry/Glass\", \"Coins/Staps\", \"EverythingElse\", \"Health/Beauty\")\n",
    "                else 0 for d in ebay.Category],                         \n",
    "    \n",
    " \"currency_GBP\": [1 if d == \"GBP\" else 0 for d in ebay.currency],\n",
    "    \n",
    " \"sellerRating\": ebay.sellerRating,\n",
    "    \n",
    " \"Duration_5\": [1 if d == 5 else 0 for d in ebay.Duration], # 두 그룹으로 분류\n",
    "    \n",
    " \"endDay_Mon_Tue\": [1 if d in ('Mon', \"Thu\") else 0 for d in ebay.endDay], # 두 그룹으로 분류\n",
    " \"ClosePrice\": ebay.ClosePrice,\n",
    " \"OpenPrice\": ebay.OpenPrice,\n",
    " \"Competitive\": ebay['Competitive?']\n",
    "})\n",
    "ebay_new"
   ]
  },
  {
   "cell_type": "code",
   "execution_count": 79,
   "id": "76978e9a",
   "metadata": {},
   "outputs": [
    {
     "data": {
      "text/plain": [
       "Category70          int64\n",
       "Category50          int64\n",
       "Category0           int64\n",
       "currency_GBP        int64\n",
       "sellerRating        int64\n",
       "Duration_5          int64\n",
       "endDay_Mon_Tue      int64\n",
       "ClosePrice        float64\n",
       "OpenPrice         float64\n",
       "Competitive         int64\n",
       "dtype: object"
      ]
     },
     "execution_count": 79,
     "metadata": {},
     "output_type": "execute_result"
    }
   ],
   "source": [
    "ebay = ebay_new\n",
    "ebay.dtypes ## 가변수 변환한 형태"
   ]
  },
  {
   "cell_type": "code",
   "execution_count": 80,
   "id": "f24b5be7",
   "metadata": {},
   "outputs": [
    {
     "name": "stdout",
     "output_type": "stream",
     "text": [
      "intercept -1.2112757270881855\n",
      "                    coef\n",
      "Category70      0.707900\n",
      "Category50      0.799400\n",
      "Category0      -0.118287\n",
      "currency_GBP    0.670079\n",
      "sellerRating   -0.000023\n",
      "Duration_5      0.624379\n",
      "endDay_Mon_Tue  0.419607\n",
      "ClosePrice      0.075190\n",
      "OpenPrice      -0.087677\n"
     ]
    }
   ],
   "source": [
    "X = ebay.drop(columns=[\"Competitive\"])\n",
    "y = ebay[\"Competitive\"]\n",
    "\n",
    "train_X, valid_X, train_y, valid_y = train_test_split(X, y, test_size=0.4, random_state=1)\n",
    "\n",
    "logit_reg = LogisticRegression(penalty=\"l2\", C=1e42, solver='liblinear')\n",
    "logit_reg.fit(train_X, train_y)\n",
    "\n",
    "print('intercept', logit_reg.intercept_[0])\n",
    "print(pd.DataFrame({'coef': logit_reg.coef_[0]}, index=X.columns.transpose()))"
   ]
  },
  {
   "cell_type": "code",
   "execution_count": 81,
   "id": "fed1ede5",
   "metadata": {},
   "outputs": [
    {
     "name": "stdout",
     "output_type": "stream",
     "text": [
      "AIC 1133.5887731316363\n"
     ]
    }
   ],
   "source": [
    "# 통계 모델의 상대적인 품질을 평가하는 것이다. AIC 값은 낮을수록 좋다\n",
    "\n",
    "print('AIC', AIC_score(valid_y, logit_reg.predict(valid_X), df = len(train_X.columns) + 1))"
   ]
  },
  {
   "cell_type": "markdown",
   "id": "f94abc54",
   "metadata": {},
   "source": [
    "#### c"
   ]
  },
  {
   "cell_type": "code",
   "execution_count": 82,
   "id": "d71f62be",
   "metadata": {},
   "outputs": [
    {
     "name": "stdout",
     "output_type": "stream",
     "text": [
      "intercept -0.27385280711892046\n",
      "                    coef\n",
      "Category70      1.245361\n",
      "Category50      0.312967\n",
      "Category0      -0.670193\n",
      "currency_GBP    0.389203\n",
      "sellerRating   -0.000032\n",
      "Duration_5      0.572917\n",
      "endDay_Mon_Tue  0.538501\n",
      "OpenPrice      -0.003559\n"
     ]
    }
   ],
   "source": [
    "X = ebay.drop(columns=[\"Competitive\",\"ClosePrice\"])\n",
    "y = ebay[\"Competitive\"]\n",
    "\n",
    "train_X, valid_X, train_y, valid_y = train_test_split(X, y, test_size=0.4, random_state=1)\n",
    "\n",
    "logit_reg = LogisticRegression(penalty=\"l2\", C=1e42, solver='liblinear')\n",
    "logit_reg.fit(train_X, train_y)\n",
    "\n",
    "print('intercept', logit_reg.intercept_[0])\n",
    "print(pd.DataFrame({'coef': logit_reg.coef_[0]}, index=X.columns.transpose()))"
   ]
  },
  {
   "cell_type": "code",
   "execution_count": 83,
   "id": "63539eb8",
   "metadata": {},
   "outputs": [
    {
     "name": "stdout",
     "output_type": "stream",
     "text": [
      "AIC 1496.1347507533212\n"
     ]
    }
   ],
   "source": [
    "print('AIC', AIC_score(valid_y, logit_reg.predict(valid_X), df = len(train_X.columns) + 1))"
   ]
  },
  {
   "cell_type": "markdown",
   "id": "dd89ed57",
   "metadata": {},
   "source": [
    "경매 종가가 포함된 모든 예측변수가 있는 모델이 더 좋은 성능을 갖고 있다."
   ]
  },
  {
   "cell_type": "markdown",
   "id": "f06bc35b",
   "metadata": {},
   "source": [
    "#### d"
   ]
  },
  {
   "cell_type": "markdown",
   "id": "9540164e",
   "metadata": {},
   "source": [
    "양수이긴하나 값이 0.075190 으로 매우 작아"
   ]
  },
  {
   "cell_type": "code",
   "execution_count": 101,
   "id": "823363ee",
   "metadata": {},
   "outputs": [
    {
     "name": "stdout",
     "output_type": "stream",
     "text": [
      "intercept -1.2112757270881855\n",
      "                    coef\n",
      "Category70      0.707900\n",
      "Category50      0.799400\n",
      "Category0      -0.118287\n",
      "currency_GBP    0.670079\n",
      "sellerRating   -0.000023\n",
      "Duration_5      0.624379\n",
      "endDay_Mon_Tue  0.419607\n",
      "ClosePrice      0.075190\n",
      "OpenPrice      -0.087677\n"
     ]
    }
   ],
   "source": [
    "X = ebay.drop(columns=[\"Competitive\"])\n",
    "y = ebay[\"Competitive\"]\n",
    "\n",
    "train_X, valid_X, train_y, valid_y = train_test_split(X, y, test_size=0.4, random_state=1)\n",
    "\n",
    "logit_reg = LogisticRegression(penalty=\"l2\", C=1e42, solver='liblinear')\n",
    "logit_reg.fit(train_X, train_y)\n",
    "\n",
    "print('intercept', logit_reg.intercept_[0])\n",
    "print(pd.DataFrame({'coef': logit_reg.coef_[0]}, index=X.columns.transpose()))"
   ]
  },
  {
   "cell_type": "code",
   "execution_count": 85,
   "id": "8b6002a3",
   "metadata": {},
   "outputs": [
    {
     "name": "stderr",
     "output_type": "stream",
     "text": [
      "C:\\Users\\ajm10\\anaconda3\\lib\\site-packages\\statsmodels\\tsa\\tsatools.py:142: FutureWarning: In a future version of pandas all arguments of concat except for the argument 'objs' will be keyword-only\n",
      "  x = pd.concat(x[::order], 1)\n"
     ]
    },
    {
     "data": {
      "text/html": [
       "<table class=\"simpletable\">\n",
       "<caption>OLS Regression Results</caption>\n",
       "<tr>\n",
       "  <th>Dep. Variable:</th>       <td>Competitive</td>   <th>  R-squared:         </th> <td>   0.156</td>\n",
       "</tr>\n",
       "<tr>\n",
       "  <th>Model:</th>                   <td>OLS</td>       <th>  Adj. R-squared:    </th> <td>   0.152</td>\n",
       "</tr>\n",
       "<tr>\n",
       "  <th>Method:</th>             <td>Least Squares</td>  <th>  F-statistic:       </th> <td>   40.21</td>\n",
       "</tr>\n",
       "<tr>\n",
       "  <th>Date:</th>             <td>Mon, 23 May 2022</td> <th>  Prob (F-statistic):</th> <td>2.98e-66</td>\n",
       "</tr>\n",
       "<tr>\n",
       "  <th>Time:</th>                 <td>13:25:04</td>     <th>  Log-Likelihood:    </th> <td> -1257.8</td>\n",
       "</tr>\n",
       "<tr>\n",
       "  <th>No. Observations:</th>      <td>  1972</td>      <th>  AIC:               </th> <td>   2536.</td>\n",
       "</tr>\n",
       "<tr>\n",
       "  <th>Df Residuals:</th>          <td>  1962</td>      <th>  BIC:               </th> <td>   2592.</td>\n",
       "</tr>\n",
       "<tr>\n",
       "  <th>Df Model:</th>              <td>     9</td>      <th>                     </th>     <td> </td>   \n",
       "</tr>\n",
       "<tr>\n",
       "  <th>Covariance Type:</th>      <td>nonrobust</td>    <th>                     </th>     <td> </td>   \n",
       "</tr>\n",
       "</table>\n",
       "<table class=\"simpletable\">\n",
       "<tr>\n",
       "         <td></td>           <th>coef</th>     <th>std err</th>      <th>t</th>      <th>P>|t|</th>  <th>[0.025</th>    <th>0.975]</th>  \n",
       "</tr>\n",
       "<tr>\n",
       "  <th>const</th>          <td>    0.2994</td> <td>    0.057</td> <td>    5.225</td> <td> 0.000</td> <td>    0.187</td> <td>    0.412</td>\n",
       "</tr>\n",
       "<tr>\n",
       "  <th>Category70</th>     <td>    0.2956</td> <td>    0.067</td> <td>    4.431</td> <td> 0.000</td> <td>    0.165</td> <td>    0.426</td>\n",
       "</tr>\n",
       "<tr>\n",
       "  <th>Category50</th>     <td>    0.1975</td> <td>    0.057</td> <td>    3.460</td> <td> 0.001</td> <td>    0.086</td> <td>    0.309</td>\n",
       "</tr>\n",
       "<tr>\n",
       "  <th>Category0</th>      <td>   -0.0263</td> <td>    0.061</td> <td>   -0.431</td> <td> 0.666</td> <td>   -0.146</td> <td>    0.093</td>\n",
       "</tr>\n",
       "<tr>\n",
       "  <th>currency_GBP</th>   <td>    0.1220</td> <td>    0.046</td> <td>    2.677</td> <td> 0.008</td> <td>    0.033</td> <td>    0.211</td>\n",
       "</tr>\n",
       "<tr>\n",
       "  <th>sellerRating</th>   <td> -7.42e-06</td> <td> 1.87e-06</td> <td>   -3.961</td> <td> 0.000</td> <td>-1.11e-05</td> <td>-3.75e-06</td>\n",
       "</tr>\n",
       "<tr>\n",
       "  <th>Duration_5</th>     <td>    0.1460</td> <td>    0.028</td> <td>    5.216</td> <td> 0.000</td> <td>    0.091</td> <td>    0.201</td>\n",
       "</tr>\n",
       "<tr>\n",
       "  <th>endDay_Mon_Tue</th> <td>    0.0957</td> <td>    0.026</td> <td>    3.660</td> <td> 0.000</td> <td>    0.044</td> <td>    0.147</td>\n",
       "</tr>\n",
       "<tr>\n",
       "  <th>ClosePrice</th>     <td>    0.0015</td> <td>    0.000</td> <td>   11.124</td> <td> 0.000</td> <td>    0.001</td> <td>    0.002</td>\n",
       "</tr>\n",
       "<tr>\n",
       "  <th>OpenPrice</th>      <td>   -0.0022</td> <td>    0.000</td> <td>   -6.886</td> <td> 0.000</td> <td>   -0.003</td> <td>   -0.002</td>\n",
       "</tr>\n",
       "</table>\n",
       "<table class=\"simpletable\">\n",
       "<tr>\n",
       "  <th>Omnibus:</th>       <td>10910.004</td> <th>  Durbin-Watson:     </th> <td>   0.774</td>\n",
       "</tr>\n",
       "<tr>\n",
       "  <th>Prob(Omnibus):</th>  <td> 0.000</td>   <th>  Jarque-Bera (JB):  </th> <td> 205.335</td>\n",
       "</tr>\n",
       "<tr>\n",
       "  <th>Skew:</th>           <td>-0.087</td>   <th>  Prob(JB):          </th> <td>2.58e-45</td>\n",
       "</tr>\n",
       "<tr>\n",
       "  <th>Kurtosis:</th>       <td> 1.429</td>   <th>  Cond. No.          </th> <td>7.66e+04</td>\n",
       "</tr>\n",
       "</table><br/><br/>Notes:<br/>[1] Standard Errors assume that the covariance matrix of the errors is correctly specified.<br/>[2] The condition number is large, 7.66e+04. This might indicate that there are<br/>strong multicollinearity or other numerical problems."
      ],
      "text/plain": [
       "<class 'statsmodels.iolib.summary.Summary'>\n",
       "\"\"\"\n",
       "                            OLS Regression Results                            \n",
       "==============================================================================\n",
       "Dep. Variable:            Competitive   R-squared:                       0.156\n",
       "Model:                            OLS   Adj. R-squared:                  0.152\n",
       "Method:                 Least Squares   F-statistic:                     40.21\n",
       "Date:                Mon, 23 May 2022   Prob (F-statistic):           2.98e-66\n",
       "Time:                        13:25:04   Log-Likelihood:                -1257.8\n",
       "No. Observations:                1972   AIC:                             2536.\n",
       "Df Residuals:                    1962   BIC:                             2592.\n",
       "Df Model:                           9                                         \n",
       "Covariance Type:            nonrobust                                         \n",
       "==================================================================================\n",
       "                     coef    std err          t      P>|t|      [0.025      0.975]\n",
       "----------------------------------------------------------------------------------\n",
       "const              0.2994      0.057      5.225      0.000       0.187       0.412\n",
       "Category70         0.2956      0.067      4.431      0.000       0.165       0.426\n",
       "Category50         0.1975      0.057      3.460      0.001       0.086       0.309\n",
       "Category0         -0.0263      0.061     -0.431      0.666      -0.146       0.093\n",
       "currency_GBP       0.1220      0.046      2.677      0.008       0.033       0.211\n",
       "sellerRating    -7.42e-06   1.87e-06     -3.961      0.000   -1.11e-05   -3.75e-06\n",
       "Duration_5         0.1460      0.028      5.216      0.000       0.091       0.201\n",
       "endDay_Mon_Tue     0.0957      0.026      3.660      0.000       0.044       0.147\n",
       "ClosePrice         0.0015      0.000     11.124      0.000       0.001       0.002\n",
       "OpenPrice         -0.0022      0.000     -6.886      0.000      -0.003      -0.002\n",
       "==============================================================================\n",
       "Omnibus:                    10910.004   Durbin-Watson:                   0.774\n",
       "Prob(Omnibus):                  0.000   Jarque-Bera (JB):              205.335\n",
       "Skew:                          -0.087   Prob(JB):                     2.58e-45\n",
       "Kurtosis:                       1.429   Cond. No.                     7.66e+04\n",
       "==============================================================================\n",
       "\n",
       "Notes:\n",
       "[1] Standard Errors assume that the covariance matrix of the errors is correctly specified.\n",
       "[2] The condition number is large, 7.66e+04. This might indicate that there are\n",
       "strong multicollinearity or other numerical problems.\n",
       "\"\"\""
      ]
     },
     "execution_count": 85,
     "metadata": {},
     "output_type": "execute_result"
    }
   ],
   "source": [
    "import statsmodels.api as sm \n",
    "results = sm.OLS(y, sm.add_constant(X)).fit() \n",
    "results.summary()"
   ]
  },
  {
   "cell_type": "markdown",
   "id": "29a8d084",
   "metadata": {},
   "source": [
    "#### e"
   ]
  },
  {
   "cell_type": "code",
   "execution_count": 86,
   "id": "5c5e3cd0",
   "metadata": {},
   "outputs": [],
   "source": [
    "import matplotlib.pylab as plt\n",
    "\n",
    "from dmba import regressionSummary, exhaustive_search\n",
    "from dmba import backward_elimination, forward_selection, stepwise_selection\n",
    "from dmba import adjusted_r2_score, AIC_score, BIC_score"
   ]
  },
  {
   "cell_type": "code",
   "execution_count": 87,
   "id": "cf972af9",
   "metadata": {},
   "outputs": [],
   "source": [
    "## 단계적 회귀 (6장 참고)"
   ]
  },
  {
   "cell_type": "code",
   "execution_count": 88,
   "id": "a760e9bf",
   "metadata": {},
   "outputs": [],
   "source": [
    "def train_model(variables):\n",
    "    if len(variables) == 0:\n",
    "        return None\n",
    "    model = LogisticRegression(penalty=\"l2\", C=1e42, solver='liblinear')\n",
    "    model.fit(train_X[variables], train_y)\n",
    "    return model\n",
    "\n",
    "def score_model(model, variables):\n",
    "    if len(variables) == 0:\n",
    "        return AIC_score(train_y, [train_y.mean()] * len(train_y), model, df=1)\n",
    "    return AIC_score(train_y, model.predict(train_X[variables]), model)"
   ]
  },
  {
   "cell_type": "code",
   "execution_count": 89,
   "id": "1c7071b7",
   "metadata": {},
   "outputs": [
    {
     "name": "stdout",
     "output_type": "stream",
     "text": [
      "Variables: Category70, Category50, Category0, currency_GBP, sellerRating, Duration_5, endDay_Mon_Tue, ClosePrice, OpenPrice\n",
      "Start: score=1716.20, constant\n",
      "Step: score=1716.20, unchanged None\n",
      "[]\n"
     ]
    }
   ],
   "source": [
    "best_model, best_variables = stepwise_selection(train_X.columns, train_model, score_model, verbose=True)\n",
    "\n",
    "print(best_variables)## 왜 안나오지"
   ]
  },
  {
   "cell_type": "code",
   "execution_count": 90,
   "id": "fd3f65f8",
   "metadata": {},
   "outputs": [
    {
     "name": "stdout",
     "output_type": "stream",
     "text": [
      "   n     r2adj          AIC  Category0  Category50  Category70  ClosePrice  Duration_5  OpenPrice  \\\n",
      "0  1 -0.563308  2245.767621      False       False       False        True       False      False   \n",
      "1  2  0.062015  1641.460908      False       False       False        True       False       True   \n",
      "2  3  0.221745  1420.619814      False        True       False        True       False       True   \n",
      "3  4  0.245534  1383.894026      False        True       False        True       False       True   \n",
      "4  5  0.255730  1367.798540      False        True        True        True       False       True   \n",
      "5  6  0.245534  1383.894026       True        True        True        True       False       True   \n",
      "6  7  0.126587  1557.083692       True        True        True        True       False       True   \n",
      "7  8  0.024632  1687.694145       True       False        True        True        True       True   \n",
      "8  9  0.048421  1658.482784       True        True        True        True        True       True   \n",
      "\n",
      "   currency_GBP  endDay_Mon_Tue  sellerRating  \n",
      "0         False           False         False  \n",
      "1         False           False         False  \n",
      "2         False           False         False  \n",
      "3         False           False          True  \n",
      "4         False           False          True  \n",
      "5         False           False          True  \n",
      "6          True           False          True  \n",
      "7          True            True          True  \n",
      "8          True            True          True  \n"
     ]
    }
   ],
   "source": [
    "## 전역탐색 \n",
    "def train_model(variables):\n",
    "    model = LogisticRegression(penalty=\"l2\", C=1e42, solver='liblinear')\n",
    "    model.fit(train_X[variables], train_y)\n",
    "    return model\n",
    "\n",
    "def score_model(model, variables):\n",
    "    pred_y = model.predict(train_X[variables])\n",
    "    # we negate as score is optimized to be as low as possible\n",
    "    return -adjusted_r2_score(train_y, pred_y, model)\n",
    "\n",
    "allVariables = train_X.columns\n",
    "results = exhaustive_search(allVariables, train_model, score_model)\n",
    "\n",
    "data = []\n",
    "for result in results:\n",
    "    model = result['model']\n",
    "    variables = result['variables']\n",
    "    AIC = AIC_score(train_y, model.predict(train_X[variables]), model)\n",
    "    \n",
    "    d = {'n': result['n'], 'r2adj': -result['score'], 'AIC': AIC}\n",
    "    d.update({var: var in result['variables'] for var in allVariables})\n",
    "    data.append(d)\n",
    "    \n",
    "pd.set_option('display.width', 100)\n",
    "print(pd.DataFrame(data, columns=('n', 'r2adj', 'AIC') + tuple(sorted(allVariables))))\n",
    "pd.reset_option('display.width')"
   ]
  },
  {
   "cell_type": "code",
   "execution_count": 91,
   "id": "a42c2c82",
   "metadata": {},
   "outputs": [],
   "source": [
    "# r^2의 값이 증가하다가 안정된 형태가 되는 순간이 적합한 모형 n=5인 경우"
   ]
  },
  {
   "cell_type": "markdown",
   "id": "d30a6907",
   "metadata": {},
   "source": [
    " Category0 Category70  Duration_5 currency_GBP sellerRating "
   ]
  },
  {
   "cell_type": "markdown",
   "id": "fb2cc6e9",
   "metadata": {},
   "source": [
    "#### f"
   ]
  },
  {
   "cell_type": "code",
   "execution_count": 102,
   "id": "eef6ab6d",
   "metadata": {},
   "outputs": [
    {
     "name": "stdout",
     "output_type": "stream",
     "text": [
      "   n     r2adj          AIC  Category0  Category50  Category70  ClosePrice  Duration_5  OpenPrice  \\\n",
      "0  1 -0.590496  2266.164678      False       False       False        True       False      False   \n",
      "1  2  0.211549  1436.016994      False       False       False        True       False       True   \n",
      "2  3  0.306707  1283.862636      False       False       False        True       False       True   \n",
      "3  4  0.354286  1199.756161      False        True       False        True       False       True   \n",
      "4  5  0.357684  1193.513402      False        True        True        True       False       True   \n",
      "5  6  0.354286  1199.756161       True        True        True        True       False       True   \n",
      "6  7  0.286316  1318.154892       True        True        True        True       False       True   \n",
      "7  8  0.248933  1378.553159       True        True        True        True       False       True   \n",
      "8  9  0.150376  1524.414949       True        True        True        True        True       True   \n",
      "\n",
      "   currency_GBP  endDay_Mon_Tue  sellerRating  \n",
      "0         False           False         False  \n",
      "1         False           False         False  \n",
      "2         False            True         False  \n",
      "3         False            True         False  \n",
      "4         False            True         False  \n",
      "5         False            True         False  \n",
      "6          True            True         False  \n",
      "7          True            True          True  \n",
      "8          True            True          True  \n"
     ]
    }
   ],
   "source": [
    "## 전역탐색 \n",
    "def train_model(variables):\n",
    "    model = LogisticRegression(penalty=\"l2\", C=1e42, solver='liblinear')\n",
    "    model.fit(valid_X[variables], valid_y)\n",
    "    return model\n",
    "\n",
    "def score_model(model, variables):\n",
    "    pred_y = model.predict(train_X[variables])\n",
    "    # we negate as score is optimized to be as low as possible\n",
    "    return -adjusted_r2_score(train_y, pred_y, model)\n",
    "\n",
    "allVariables = train_X.columns\n",
    "results = exhaustive_search(allVariables, train_model, score_model)\n",
    "\n",
    "data = []\n",
    "for result in results:\n",
    "    model = result['model']\n",
    "    variables = result['variables']\n",
    "    AIC = AIC_score(train_y, model.predict(train_X[variables]), model)\n",
    "    \n",
    "    d = {'n': result['n'], 'r2adj': -result['score'], 'AIC': AIC}\n",
    "    d.update({var: var in result['variables'] for var in allVariables})\n",
    "    data.append(d)\n",
    "    \n",
    "pd.set_option('display.width', 100)\n",
    "print(pd.DataFrame(data, columns=('n', 'r2adj', 'AIC') + tuple(sorted(allVariables))))\n",
    "pd.reset_option('display.width')"
   ]
  },
  {
   "cell_type": "markdown",
   "id": "97577685",
   "metadata": {},
   "source": [
    "#### g"
   ]
  },
  {
   "cell_type": "code",
   "execution_count": 93,
   "id": "c2cabb3c",
   "metadata": {},
   "outputs": [
    {
     "name": "stdout",
     "output_type": "stream",
     "text": [
      "intercept 0.07874868088594657\n",
      "                  coef\n",
      "Category0    -1.041525\n",
      "Category70    0.897736\n",
      "Duration_5    0.815472\n",
      "currency_GBP  0.801772\n",
      "sellerRating -0.000025\n"
     ]
    }
   ],
   "source": [
    "X = ebay[[\"Category0\", \"Category70\", \"Duration_5\", \"currency_GBP\",\"sellerRating\"]]\n",
    "y = ebay[\"Competitive\"]\n",
    "\n",
    "train_X, valid_X, train_y, valid_y = train_test_split(X, y, test_size=0.4, random_state=1)\n",
    "\n",
    "logit_reg = LogisticRegression(penalty=\"l2\", C=1e42, solver='liblinear')\n",
    "logit_reg.fit(train_X, train_y)\n",
    "\n",
    "print('intercept', logit_reg.intercept_[0])\n",
    "print(pd.DataFrame({'coef': logit_reg.coef_[0]}, index=X.columns.transpose()))"
   ]
  },
  {
   "cell_type": "code",
   "execution_count": 94,
   "id": "c7bd2dbc",
   "metadata": {},
   "outputs": [
    {
     "name": "stdout",
     "output_type": "stream",
     "text": [
      "AIC 1392.257210952708\n"
     ]
    }
   ],
   "source": [
    "print('AIC', AIC_score(valid_y, logit_reg.predict(valid_X), df = len(train_X.columns) + 1))"
   ]
  },
  {
   "cell_type": "code",
   "execution_count": 95,
   "id": "85f991a8",
   "metadata": {},
   "outputs": [],
   "source": []
  },
  {
   "cell_type": "markdown",
   "id": "282aa8e7",
   "metadata": {},
   "source": [
    "#### h"
   ]
  },
  {
   "cell_type": "markdown",
   "id": "1e19afdc",
   "metadata": {},
   "source": [
    "가장 잘 적합하는 모델: Category50  Category70  ClosePrice OpenPrice sellerRating (n=5)\n",
    "\n",
    "가장 잘 예측하는 모델: Category50  Category70  ClosePrice OpenPrice endDay_Mon_Tue (n=5)  AIC 기준 \n",
    "\n",
    "두 모델은 다르다. 왜냐하면 잘 적합하기 위해서는 변수가 많을수록 적합하는데 유리할 것이고\n",
    "잘 예측하려면 적합하되 학습데이터의 잡음까지 학습하면 안되므로 변수의 수가 잘 적합하는 모델보다는 적을 것이기 때문이다.\n"
   ]
  },
  {
   "cell_type": "code",
   "execution_count": 97,
   "id": "08957b7a",
   "metadata": {},
   "outputs": [],
   "source": [
    "## 이 이후부터는 파이썬 교재 참고하여 문제풀이"
   ]
  },
  {
   "cell_type": "markdown",
   "id": "f498cf95",
   "metadata": {},
   "source": [
    "#### i"
   ]
  },
  {
   "cell_type": "code",
   "execution_count": null,
   "id": "86bce348",
   "metadata": {},
   "outputs": [],
   "source": []
  },
  {
   "cell_type": "code",
   "execution_count": null,
   "id": "2a16f58e",
   "metadata": {},
   "outputs": [],
   "source": []
  },
  {
   "cell_type": "code",
   "execution_count": null,
   "id": "0a052f7c",
   "metadata": {},
   "outputs": [],
   "source": []
  },
  {
   "cell_type": "markdown",
   "id": "56bf408f",
   "metadata": {},
   "source": [
    "#### j"
   ]
  },
  {
   "cell_type": "markdown",
   "id": "7181965b",
   "metadata": {},
   "source": [
    "낮은 컷오프 값을 사용해야 한다."
   ]
  },
  {
   "cell_type": "markdown",
   "id": "027c1219",
   "metadata": {},
   "source": [
    "#### k"
   ]
  },
  {
   "cell_type": "markdown",
   "id": "d6be72be",
   "metadata": {},
   "source": [
    "a번을 이용해 평균값이 가장 높을 때 경쟁적인 경매로 이어진다.\n",
    "각 변수를 확인했을 때 어떤 값이 가장 평균이 확인한다.\n"
   ]
  },
  {
   "cell_type": "code",
   "execution_count": null,
   "id": "5086c68b",
   "metadata": {},
   "outputs": [],
   "source": []
  }
 ],
 "metadata": {
  "kernelspec": {
   "display_name": "Python 3 (ipykernel)",
   "language": "python",
   "name": "python3"
  },
  "language_info": {
   "codemirror_mode": {
    "name": "ipython",
    "version": 3
   },
   "file_extension": ".py",
   "mimetype": "text/x-python",
   "name": "python",
   "nbconvert_exporter": "python",
   "pygments_lexer": "ipython3",
   "version": "3.9.12"
  }
 },
 "nbformat": 4,
 "nbformat_minor": 5
}
