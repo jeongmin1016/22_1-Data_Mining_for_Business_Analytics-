{
 "cells": [
  {
   "cell_type": "code",
   "execution_count": 1,
   "id": "9e136b28",
   "metadata": {},
   "outputs": [],
   "source": [
    "%matplotlib inline\n",
    "from pathlib import Path\n",
    "\n",
    "import pandas as pd\n",
    "from sklearn.model_selection import train_test_split\n",
    "from sklearn.linear_model import LinearRegression, Lasso, Ridge, LassoCV, BayesianRidge\n",
    "import statsmodels.formula.api as sm\n",
    "import matplotlib.pylab as plt\n",
    "\n",
    "from dmba import regressionSummary, exhaustive_search\n",
    "from dmba import backward_elimination, forward_selection, stepwise_selection\n",
    "from dmba import adjusted_r2_score, AIC_score, BIC_score"
   ]
  },
  {
   "cell_type": "markdown",
   "id": "65168146",
   "metadata": {},
   "source": [
    "## 6.1"
   ]
  },
  {
   "cell_type": "code",
   "execution_count": 2,
   "id": "1214330b",
   "metadata": {
    "scrolled": true
   },
   "outputs": [
    {
     "data": {
      "text/html": [
       "<div>\n",
       "<style scoped>\n",
       "    .dataframe tbody tr th:only-of-type {\n",
       "        vertical-align: middle;\n",
       "    }\n",
       "\n",
       "    .dataframe tbody tr th {\n",
       "        vertical-align: top;\n",
       "    }\n",
       "\n",
       "    .dataframe thead th {\n",
       "        text-align: right;\n",
       "    }\n",
       "</style>\n",
       "<table border=\"1\" class=\"dataframe\">\n",
       "  <thead>\n",
       "    <tr style=\"text-align: right;\">\n",
       "      <th></th>\n",
       "      <th>CRIM</th>\n",
       "      <th>ZN</th>\n",
       "      <th>INDUS</th>\n",
       "      <th>CHAS</th>\n",
       "      <th>NOX</th>\n",
       "      <th>RM</th>\n",
       "      <th>AGE</th>\n",
       "      <th>DIS</th>\n",
       "      <th>RAD</th>\n",
       "      <th>TAX</th>\n",
       "      <th>PTRATIO</th>\n",
       "      <th>LSTAT</th>\n",
       "      <th>MEDV</th>\n",
       "      <th>CAT. MEDV</th>\n",
       "    </tr>\n",
       "  </thead>\n",
       "  <tbody>\n",
       "    <tr>\n",
       "      <th>0</th>\n",
       "      <td>0.00632</td>\n",
       "      <td>18.0</td>\n",
       "      <td>2.31</td>\n",
       "      <td>0</td>\n",
       "      <td>0.538</td>\n",
       "      <td>6.575</td>\n",
       "      <td>65.2</td>\n",
       "      <td>4.0900</td>\n",
       "      <td>1</td>\n",
       "      <td>296</td>\n",
       "      <td>15.3</td>\n",
       "      <td>4.98</td>\n",
       "      <td>24.0</td>\n",
       "      <td>0</td>\n",
       "    </tr>\n",
       "    <tr>\n",
       "      <th>1</th>\n",
       "      <td>0.02731</td>\n",
       "      <td>0.0</td>\n",
       "      <td>7.07</td>\n",
       "      <td>0</td>\n",
       "      <td>0.469</td>\n",
       "      <td>6.421</td>\n",
       "      <td>78.9</td>\n",
       "      <td>4.9671</td>\n",
       "      <td>2</td>\n",
       "      <td>242</td>\n",
       "      <td>17.8</td>\n",
       "      <td>9.14</td>\n",
       "      <td>21.6</td>\n",
       "      <td>0</td>\n",
       "    </tr>\n",
       "    <tr>\n",
       "      <th>2</th>\n",
       "      <td>0.02729</td>\n",
       "      <td>0.0</td>\n",
       "      <td>7.07</td>\n",
       "      <td>0</td>\n",
       "      <td>0.469</td>\n",
       "      <td>7.185</td>\n",
       "      <td>61.1</td>\n",
       "      <td>4.9671</td>\n",
       "      <td>2</td>\n",
       "      <td>242</td>\n",
       "      <td>17.8</td>\n",
       "      <td>4.03</td>\n",
       "      <td>34.7</td>\n",
       "      <td>1</td>\n",
       "    </tr>\n",
       "    <tr>\n",
       "      <th>3</th>\n",
       "      <td>0.03237</td>\n",
       "      <td>0.0</td>\n",
       "      <td>2.18</td>\n",
       "      <td>0</td>\n",
       "      <td>0.458</td>\n",
       "      <td>6.998</td>\n",
       "      <td>45.8</td>\n",
       "      <td>6.0622</td>\n",
       "      <td>3</td>\n",
       "      <td>222</td>\n",
       "      <td>18.7</td>\n",
       "      <td>2.94</td>\n",
       "      <td>33.4</td>\n",
       "      <td>1</td>\n",
       "    </tr>\n",
       "    <tr>\n",
       "      <th>4</th>\n",
       "      <td>0.06905</td>\n",
       "      <td>0.0</td>\n",
       "      <td>2.18</td>\n",
       "      <td>0</td>\n",
       "      <td>0.458</td>\n",
       "      <td>7.147</td>\n",
       "      <td>54.2</td>\n",
       "      <td>6.0622</td>\n",
       "      <td>3</td>\n",
       "      <td>222</td>\n",
       "      <td>18.7</td>\n",
       "      <td>5.33</td>\n",
       "      <td>36.2</td>\n",
       "      <td>1</td>\n",
       "    </tr>\n",
       "    <tr>\n",
       "      <th>...</th>\n",
       "      <td>...</td>\n",
       "      <td>...</td>\n",
       "      <td>...</td>\n",
       "      <td>...</td>\n",
       "      <td>...</td>\n",
       "      <td>...</td>\n",
       "      <td>...</td>\n",
       "      <td>...</td>\n",
       "      <td>...</td>\n",
       "      <td>...</td>\n",
       "      <td>...</td>\n",
       "      <td>...</td>\n",
       "      <td>...</td>\n",
       "      <td>...</td>\n",
       "    </tr>\n",
       "    <tr>\n",
       "      <th>501</th>\n",
       "      <td>0.06263</td>\n",
       "      <td>0.0</td>\n",
       "      <td>11.93</td>\n",
       "      <td>0</td>\n",
       "      <td>0.573</td>\n",
       "      <td>6.593</td>\n",
       "      <td>69.1</td>\n",
       "      <td>2.4786</td>\n",
       "      <td>1</td>\n",
       "      <td>273</td>\n",
       "      <td>21.0</td>\n",
       "      <td>9.67</td>\n",
       "      <td>22.4</td>\n",
       "      <td>0</td>\n",
       "    </tr>\n",
       "    <tr>\n",
       "      <th>502</th>\n",
       "      <td>0.04527</td>\n",
       "      <td>0.0</td>\n",
       "      <td>11.93</td>\n",
       "      <td>0</td>\n",
       "      <td>0.573</td>\n",
       "      <td>6.120</td>\n",
       "      <td>76.7</td>\n",
       "      <td>2.2875</td>\n",
       "      <td>1</td>\n",
       "      <td>273</td>\n",
       "      <td>21.0</td>\n",
       "      <td>9.08</td>\n",
       "      <td>20.6</td>\n",
       "      <td>0</td>\n",
       "    </tr>\n",
       "    <tr>\n",
       "      <th>503</th>\n",
       "      <td>0.06076</td>\n",
       "      <td>0.0</td>\n",
       "      <td>11.93</td>\n",
       "      <td>0</td>\n",
       "      <td>0.573</td>\n",
       "      <td>6.976</td>\n",
       "      <td>91.0</td>\n",
       "      <td>2.1675</td>\n",
       "      <td>1</td>\n",
       "      <td>273</td>\n",
       "      <td>21.0</td>\n",
       "      <td>5.64</td>\n",
       "      <td>23.9</td>\n",
       "      <td>0</td>\n",
       "    </tr>\n",
       "    <tr>\n",
       "      <th>504</th>\n",
       "      <td>0.10959</td>\n",
       "      <td>0.0</td>\n",
       "      <td>11.93</td>\n",
       "      <td>0</td>\n",
       "      <td>0.573</td>\n",
       "      <td>6.794</td>\n",
       "      <td>89.3</td>\n",
       "      <td>2.3889</td>\n",
       "      <td>1</td>\n",
       "      <td>273</td>\n",
       "      <td>21.0</td>\n",
       "      <td>6.48</td>\n",
       "      <td>22.0</td>\n",
       "      <td>0</td>\n",
       "    </tr>\n",
       "    <tr>\n",
       "      <th>505</th>\n",
       "      <td>0.04741</td>\n",
       "      <td>0.0</td>\n",
       "      <td>11.93</td>\n",
       "      <td>0</td>\n",
       "      <td>0.573</td>\n",
       "      <td>6.030</td>\n",
       "      <td>80.8</td>\n",
       "      <td>2.5050</td>\n",
       "      <td>1</td>\n",
       "      <td>273</td>\n",
       "      <td>21.0</td>\n",
       "      <td>7.88</td>\n",
       "      <td>11.9</td>\n",
       "      <td>0</td>\n",
       "    </tr>\n",
       "  </tbody>\n",
       "</table>\n",
       "<p>506 rows × 14 columns</p>\n",
       "</div>"
      ],
      "text/plain": [
       "        CRIM    ZN  INDUS  CHAS    NOX     RM   AGE     DIS  RAD  TAX  \\\n",
       "0    0.00632  18.0   2.31     0  0.538  6.575  65.2  4.0900    1  296   \n",
       "1    0.02731   0.0   7.07     0  0.469  6.421  78.9  4.9671    2  242   \n",
       "2    0.02729   0.0   7.07     0  0.469  7.185  61.1  4.9671    2  242   \n",
       "3    0.03237   0.0   2.18     0  0.458  6.998  45.8  6.0622    3  222   \n",
       "4    0.06905   0.0   2.18     0  0.458  7.147  54.2  6.0622    3  222   \n",
       "..       ...   ...    ...   ...    ...    ...   ...     ...  ...  ...   \n",
       "501  0.06263   0.0  11.93     0  0.573  6.593  69.1  2.4786    1  273   \n",
       "502  0.04527   0.0  11.93     0  0.573  6.120  76.7  2.2875    1  273   \n",
       "503  0.06076   0.0  11.93     0  0.573  6.976  91.0  2.1675    1  273   \n",
       "504  0.10959   0.0  11.93     0  0.573  6.794  89.3  2.3889    1  273   \n",
       "505  0.04741   0.0  11.93     0  0.573  6.030  80.8  2.5050    1  273   \n",
       "\n",
       "     PTRATIO  LSTAT  MEDV  CAT. MEDV  \n",
       "0       15.3   4.98  24.0          0  \n",
       "1       17.8   9.14  21.6          0  \n",
       "2       17.8   4.03  34.7          1  \n",
       "3       18.7   2.94  33.4          1  \n",
       "4       18.7   5.33  36.2          1  \n",
       "..       ...    ...   ...        ...  \n",
       "501     21.0   9.67  22.4          0  \n",
       "502     21.0   9.08  20.6          0  \n",
       "503     21.0   5.64  23.9          0  \n",
       "504     21.0   6.48  22.0          0  \n",
       "505     21.0   7.88  11.9          0  \n",
       "\n",
       "[506 rows x 14 columns]"
      ]
     },
     "execution_count": 2,
     "metadata": {},
     "output_type": "execute_result"
    }
   ],
   "source": [
    "boston = pd.read_csv('BostonHousing.csv')\n",
    "boston"
   ]
  },
  {
   "cell_type": "markdown",
   "id": "0a5b14fe",
   "metadata": {},
   "source": [
    "#### a"
   ]
  },
  {
   "cell_type": "code",
   "execution_count": 3,
   "id": "36a4d3b9",
   "metadata": {},
   "outputs": [],
   "source": [
    "## 학습세트와 검증 세트로 나누는 이유"
   ]
  },
  {
   "cell_type": "markdown",
   "id": "e743e1d2",
   "metadata": {},
   "source": [
    "새로운 사례를 예측하는 것이 목적인 모델에서 데이터는 일반적으로 학습 세트와 검증 세트로 나눠진다.  \n",
    "데이터마이닝, 즉 예측 모델링을 할 때에는 데이터를 모델에 잘 적합시키는 것이 목표가 아니라 새로운 사례를 잘 예측시키는 것이 목적이기 때문에 학습세트가 아닌 검증세트로 예측 성능을 평가하는 과정이 있어야한다"
   ]
  },
  {
   "cell_type": "code",
   "execution_count": 4,
   "id": "05725b08",
   "metadata": {},
   "outputs": [],
   "source": [
    "## 학습 세트와 검증 세트는 어떤 용도로 사용"
   ]
  },
  {
   "cell_type": "markdown",
   "id": "9bb39351",
   "metadata": {},
   "source": [
    "학습 세트는 모델을 추정하는데 사용되며, 모델 구축하고 학습할 때 사용된다. \n",
    "검증세트는 학습 세트로부터 구축된 여러 모델 성능을 비교할때 즉, 이전에 관측되지 않았던 새로운 데이터에 대한 모델의 예측 성능을 평가하는데 사용된다."
   ]
  },
  {
   "cell_type": "code",
   "execution_count": 5,
   "id": "f6309f3b",
   "metadata": {},
   "outputs": [],
   "source": [
    "## CRIM  CHAs  RM 은 독립변수 / MEDV 종속변수 - 다중선형회귀모델\n",
    "predictors = [\"CRIM\", \"CHAS\", \"RM\"]\n",
    "outcome = \"MEDV\"\n",
    "\n",
    "X = pd.get_dummies(boston[predictors], drop_first=True)\n",
    "Y = boston[outcome]\n",
    "\n",
    "train_X, vaild_X, train_Y, vaild_Y = train_test_split(X, Y, test_size=0.4, random_state=1) \n",
    "#테스트 사이즈를 예시보고 임의적으로 넣음 - 학습과 검증 데이터를 나누는 과정"
   ]
  },
  {
   "cell_type": "code",
   "execution_count": 6,
   "id": "be27854a",
   "metadata": {},
   "outputs": [
    {
     "name": "stdout",
     "output_type": "stream",
     "text": [
      "Intercept -29.19346743060684\n",
      "\n",
      "  Preditior  coefficient\n",
      "0      CRIM    -0.240062\n",
      "1      CHAS     3.266817\n",
      "2        RM     8.325175\n"
     ]
    }
   ],
   "source": [
    "boston_lm = LinearRegression()\n",
    "boston_lm.fit(train_X, train_Y)\n",
    "\n",
    "print(\"Intercept\", boston_lm.intercept_)\n",
    "print()\n",
    "print(pd.DataFrame({'Preditior': X.columns, 'coefficient': boston_lm.coef_})) # 계수 print"
   ]
  },
  {
   "cell_type": "markdown",
   "id": "afd7f875",
   "metadata": {},
   "source": [
    "#### b"
   ]
  },
  {
   "cell_type": "code",
   "execution_count": 7,
   "id": "a2b72d0d",
   "metadata": {},
   "outputs": [],
   "source": [
    "## 모델의 예측 변수들로부터 주택가격 중앙값을 예측하기 위한 식 작성"
   ]
  },
  {
   "cell_type": "code",
   "execution_count": 8,
   "id": "4c0cb4dd",
   "metadata": {},
   "outputs": [
    {
     "name": "stdout",
     "output_type": "stream",
     "text": [
      "\n",
      " p_MEDV =  -29.193 + -0.24 *crim + 3.267 *chas+ 8.325 *rm\n"
     ]
    }
   ],
   "source": [
    "inter = round(boston_lm.intercept_,3)\n",
    "p_crim=round(boston_lm.coef_[0],3)\n",
    "p_chas=round(boston_lm.coef_[1],3)\n",
    "p_rm=round(boston_lm.coef_[2],3)\n",
    "\n",
    "print(\"\\n p_MEDV = \",inter, \"+\", p_crim,\"*crim +\", p_chas, \"*chas+\", p_rm,\"*rm\")"
   ]
  },
  {
   "cell_type": "markdown",
   "id": "6214f86f",
   "metadata": {},
   "source": [
    "#### c"
   ]
  },
  {
   "cell_type": "code",
   "execution_count": 9,
   "id": "a94268ef",
   "metadata": {},
   "outputs": [],
   "source": [
    "## Chas = 0, Crim = 0.1, Rm = 6 의 MEDV의 예측값과 예측오차는? "
   ]
  },
  {
   "cell_type": "code",
   "execution_count": 10,
   "id": "cea05b18",
   "metadata": {},
   "outputs": [
    {
     "name": "stdout",
     "output_type": "stream",
     "text": [
      "Predicted:  [20.73357813]\n",
      "예측값:  20.732999999999993\n"
     ]
    }
   ],
   "source": [
    "boston_pred = boston_lm.predict([[0.1, 0, 6]])\n",
    "print(\"Predicted: \", boston_pred)\n",
    "\n",
    "# 식에 직접 대입해서 구한 값 - 동일하게 나옴\n",
    "p_MEDV =  -29.193 + -0.24*0.1 + 3.267*0+ 8.325*6\n",
    "print(\"예측값: \", p_MEDV)"
   ]
  },
  {
   "cell_type": "code",
   "execution_count": 11,
   "id": "b74acb03",
   "metadata": {},
   "outputs": [
    {
     "name": "stdout",
     "output_type": "stream",
     "text": [
      "실제값:  33.1\n",
      "예측오차:  [12.36642187]\n"
     ]
    }
   ],
   "source": [
    "#실제값 구하는 방법\n",
    "b3=boston[boston['CHAS'] == 0]\n",
    "real_MEDV = float(b3[b3[\"CRIM\"] == 0.1]['MEDV'].values)\n",
    "                  \n",
    "print(\"실제값: \", real_MEDV)\n",
    "print(\"예측오차: \", real_MEDV-boston_pred) "
   ]
  },
  {
   "cell_type": "markdown",
   "id": "9feec659",
   "metadata": {},
   "source": [
    "#### d"
   ]
  },
  {
   "cell_type": "code",
   "execution_count": 12,
   "id": "1b75b6e8",
   "metadata": {},
   "outputs": [],
   "source": [
    "## 예측변수의 수를 감소하시오."
   ]
  },
  {
   "cell_type": "markdown",
   "id": "9bcca4f7",
   "metadata": {},
   "source": [
    "##### 1"
   ]
  },
  {
   "cell_type": "code",
   "execution_count": 13,
   "id": "9ba50bd3",
   "metadata": {},
   "outputs": [],
   "source": [
    "## 어떠한 예측변수들이 동일한 것을 측정할 것 같은가?\n",
    "## INDUS, NOX, TAX 간의 관계에 대해 논하시오."
   ]
  },
  {
   "cell_type": "markdown",
   "id": "1aff1f33",
   "metadata": {},
   "source": [
    "INDUS는 시별 비상업지역의 비율, NOX는 10ppm당 일산화질소이다. INDUS가 낮을수록, 즉 비상업지역의 비율이 낮을수록 상업지역의 비율이 높다는 것이고 NOX 일산화질소는 높을 것 같다.\n",
    "또한 TAX는 주택가격에 영향을 받기 때문에 주택가격을 예측하는 회귀분석에서 좋은 예측변수가 되지 못할 것이다.\n"
   ]
  },
  {
   "cell_type": "markdown",
   "id": "dcc02acb",
   "metadata": {},
   "source": [
    "##### 2"
   ]
  },
  {
   "cell_type": "code",
   "execution_count": 14,
   "id": "f134fb83",
   "metadata": {},
   "outputs": [],
   "source": [
    "boston2=boston.drop([\"MEDV\",\"CAT. MEDV\"], axis=1) \n",
    "## 12개의 수치형 예측 변수들이라 했으니 이 중 하나는 범주형 변수 - CAT.MEDV"
   ]
  },
  {
   "cell_type": "code",
   "execution_count": 15,
   "id": "94fe1cc9",
   "metadata": {},
   "outputs": [],
   "source": [
    "##상관관계 표 계산"
   ]
  },
  {
   "cell_type": "code",
   "execution_count": 16,
   "id": "f4ef9695",
   "metadata": {},
   "outputs": [],
   "source": [
    "corr=boston2.corr(method=\"pearson\")"
   ]
  },
  {
   "cell_type": "code",
   "execution_count": 17,
   "id": "c8361e67",
   "metadata": {},
   "outputs": [],
   "source": [
    "import matplotlib.pyplot as plt \n",
    "import seaborn as sns"
   ]
  },
  {
   "cell_type": "code",
   "execution_count": 18,
   "id": "1a7062fc",
   "metadata": {},
   "outputs": [
    {
     "data": {
      "image/png": "[encoded data removed]",
      "text/plain": [
       "<Figure size 1080x576 with 2 Axes>"
      ]
     },
     "metadata": {
      "needs_background": "light"
     },
     "output_type": "display_data"
    }
   ],
   "source": [
    "fig, ax = plt.subplots()\n",
    "fig.set_size_inches(15,8)\n",
    "df_heatmap = sns.heatmap(corr, cbar = True, \n",
    "                         annot = True, annot_kws={'size' : 7}, \n",
    "                         fmt = '.2f', square = True, cmap = 'Blues')"
   ]
  },
  {
   "cell_type": "code",
   "execution_count": 19,
   "id": "465c3ee1",
   "metadata": {},
   "outputs": [],
   "source": [
    "# 높은 상관관계를 갖는 변수의 쌍 찾기"
   ]
  },
  {
   "cell_type": "markdown",
   "id": "30b51b3a",
   "metadata": {},
   "source": [
    "0.91로 RAD와 TAX가 높은 상관관계를 갖는다. 따라서 둘 중 하나 제거하는데, 이 변수의 쌍은 잠재적으로 중복성을 갖고 다중공선성의 원인이 될 수 있기 때문에 제거하는 것이 좋다."
   ]
  },
  {
   "cell_type": "markdown",
   "id": "4cfda729",
   "metadata": {},
   "source": [
    "##### 3"
   ]
  },
  {
   "cell_type": "code",
   "execution_count": 20,
   "id": "39be25b9",
   "metadata": {},
   "outputs": [
    {
     "data": {
      "text/plain": [
       "LinearRegression()"
      ]
     },
     "execution_count": 20,
     "metadata": {},
     "output_type": "execute_result"
    }
   ],
   "source": [
    "predictors = ['CRIM', 'ZN', 'INDUS', 'CHAS', 'NOX', 'RM', 'AGE', 'DIS',\n",
    "       'PTRATIO', 'LSTAT'] ## 높은 상관관계 갖는 RAD 와 TAX 제외\n",
    "outcome = 'MEDV' \n",
    "\n",
    "# partition data\n",
    "X = pd.get_dummies(boston[predictors], drop_first=True)\n",
    "y = boston[outcome]\n",
    "train_X, valid_X, train_y, valid_y = train_test_split(X, y, test_size=0.4, random_state=1)\n",
    "\n",
    "boston_lm = LinearRegression()\n",
    "boston_lm.fit(train_X, train_y)"
   ]
  },
  {
   "cell_type": "code",
   "execution_count": 21,
   "id": "09ea3187",
   "metadata": {},
   "outputs": [
    {
     "name": "stdout",
     "output_type": "stream",
     "text": [
      "Variables: CRIM, ZN, INDUS, CHAS, NOX, RM, AGE, DIS, PTRATIO, LSTAT\n",
      "Start: score=1813.94\n",
      "Step: score=1811.94, remove AGE\n",
      "Step: score=1810.16, remove INDUS\n",
      "Step: score=1810.16, remove None\n",
      "['CRIM', 'ZN', 'CHAS', 'NOX', 'RM', 'DIS', 'PTRATIO', 'LSTAT']\n"
     ]
    }
   ],
   "source": [
    "## 나머지 예측변수들을 감소시키기 위해 후방소거법\n",
    "def train_model(variables):\n",
    "    model = LinearRegression()\n",
    "    model.fit(train_X[variables], train_y)\n",
    "    return model\n",
    "\n",
    "def score_model(model, variables):\n",
    "    return AIC_score(train_y, model.predict(train_X[variables]), model)\n",
    "\n",
    "best_model, best_variables = backward_elimination(train_X.columns, train_model, score_model, verbose=True)\n",
    "\n",
    "print(best_variables)"
   ]
  },
  {
   "cell_type": "markdown",
   "id": "de85cd15",
   "metadata": {},
   "source": [
    "후방 소거법을 통해 ZN, AGE, None 을 제거하고 'CRIM', 'ZN', 'CHAS', 'NOX', 'RM', 'DIS', 'PTRATIO', 'LSTAT' 의 변수를 포함하여 만든 모형"
   ]
  },
  {
   "cell_type": "code",
   "execution_count": 22,
   "id": "80bf2e6a",
   "metadata": {},
   "outputs": [
    {
     "name": "stdout",
     "output_type": "stream",
     "text": [
      "Variables: CRIM, ZN, INDUS, CHAS, NOX, RM, AGE, DIS, PTRATIO, LSTAT\n",
      "Start: score=2191.75, constant\n",
      "Step: score=1934.91, add LSTAT\n",
      "Step: score=1874.18, add RM\n",
      "Step: score=1842.54, add PTRATIO\n",
      "Step: score=1837.69, add CHAS\n",
      "Step: score=1835.00, add NOX\n",
      "Step: score=1817.90, add DIS\n",
      "Step: score=1811.82, add ZN\n",
      "Step: score=1810.16, add CRIM\n",
      "Step: score=1810.16, add None\n",
      "['LSTAT', 'RM', 'PTRATIO', 'CHAS', 'NOX', 'DIS', 'ZN', 'CRIM']\n"
     ]
    }
   ],
   "source": [
    "## 나머지 예측변수들을 감소시키기 위해 전방선택방법\n",
    "def train_model(variables):\n",
    "    if len(variables) == 0:\n",
    "        return None\n",
    "    model = LinearRegression()\n",
    "    model.fit(train_X[variables], train_y)\n",
    "    return model\n",
    "\n",
    "def score_model(model, variables):\n",
    "    if len(variables) == 0:\n",
    "        return AIC_score(train_y, [train_y.mean()] * len(train_y), model, df=1)\n",
    "    return AIC_score(train_y, model.predict(train_X[variables]), model)\n",
    "\n",
    "best_model, best_variables = forward_selection(train_X.columns, train_model, score_model, verbose=True)\n",
    "\n",
    "print(best_variables)"
   ]
  },
  {
   "cell_type": "markdown",
   "id": "58a4bd75",
   "metadata": {},
   "source": [
    "전방 소거법을 통해'LSTAT', 'RM', 'PTRATIO', 'CHAS', 'NOX', 'DIS', 'ZN', 'CRIM'의 변수로 만들어진 최적의 모형을 얻음"
   ]
  },
  {
   "cell_type": "code",
   "execution_count": 23,
   "id": "9b422604",
   "metadata": {},
   "outputs": [
    {
     "name": "stdout",
     "output_type": "stream",
     "text": [
      "Variables: CRIM, ZN, INDUS, CHAS, NOX, RM, AGE, DIS, PTRATIO, LSTAT\n",
      "Start: score=2191.75, constant\n",
      "Step: score=1934.91, add LSTAT\n",
      "Step: score=1874.18, add RM\n",
      "Step: score=1842.54, add PTRATIO\n",
      "Step: score=1837.69, add CHAS\n",
      "Step: score=1835.00, add NOX\n",
      "Step: score=1817.90, add DIS\n",
      "Step: score=1811.82, add ZN\n",
      "Step: score=1810.16, add CRIM\n",
      "Step: score=1810.16, unchanged None\n",
      "['LSTAT', 'RM', 'PTRATIO', 'CHAS', 'NOX', 'DIS', 'ZN', 'CRIM']\n"
     ]
    }
   ],
   "source": [
    "# 나머지 예측변수들을 감소시키기 위해 단계적 선택방법\n",
    "best_model, best_variables = stepwise_selection(train_X.columns, train_model, score_model, verbose=True)\n",
    "\n",
    "print(best_variables)"
   ]
  },
  {
   "cell_type": "markdown",
   "id": "3334bd4e",
   "metadata": {},
   "source": [
    "단계 선택방법을 통해 'LSTAT', 'RM', 'PTRATIO', 'CHAS', 'NOX', 'DIS', 'ZN', 'CRIM'를 포함하여 최적의 모형을 만든다."
   ]
  },
  {
   "cell_type": "code",
   "execution_count": 24,
   "id": "1337c7a7",
   "metadata": {},
   "outputs": [],
   "source": [
    "# [첫째] 성능이 좋은 상위 3개 모델 선택"
   ]
  },
  {
   "cell_type": "markdown",
   "id": "5fbc1ad2",
   "metadata": {},
   "source": [
    "단계, 후방, 전방 :  'LSTAT', 'RM', 'PTRATIO', 'CHAS', 'NOX', 'DIS', 'ZN', 'CRIM' 동일한 모형을 얻을 수 있다."
   ]
  },
  {
   "cell_type": "code",
   "execution_count": 25,
   "id": "add8ba10",
   "metadata": {},
   "outputs": [],
   "source": [
    "# [둘째] 학습 세트에 대해 각각 구축한 후 검증 세트에 대해 예측 정확도 비교"
   ]
  },
  {
   "cell_type": "code",
   "execution_count": 26,
   "id": "ebe39b5d",
   "metadata": {},
   "outputs": [
    {
     "data": {
      "text/plain": [
       "LinearRegression()"
      ]
     },
     "execution_count": 26,
     "metadata": {},
     "output_type": "execute_result"
    }
   ],
   "source": [
    "predictors = [ 'LSTAT', 'RM', 'PTRATIO', 'CHAS', 'NOX', 'DIS', 'ZN', 'CRIM' ]\n",
    "outcome = \"MEDV\"\n",
    "\n",
    "X = pd.get_dummies(boston[predictors], drop_first=True)\n",
    "y = boston[outcome]\n",
    "\n",
    "train_X, valid_X, train_y, valid_y = train_test_split(X, y, test_size=0.4, random_state=1) \n",
    "\n",
    "boston_lm = LinearRegression()\n",
    "boston_lm.fit(train_X, train_y)"
   ]
  },
  {
   "cell_type": "code",
   "execution_count": 27,
   "id": "2e53e532",
   "metadata": {},
   "outputs": [
    {
     "name": "stdout",
     "output_type": "stream",
     "text": [
      "adjusted r2 :  0.6916811808962059\n",
      "AIC :  1263.197413756775\n",
      "BIC :  1296.3294735471927\n"
     ]
    }
   ],
   "source": [
    "pred_y = boston_lm.predict(valid_X)\n",
    "print('adjusted r2 : ', adjusted_r2_score(valid_y, pred_y, boston_lm)) \n",
    "print('AIC : ', AIC_score(valid_y, pred_y, boston_lm))\n",
    "print('BIC : ', BIC_score(valid_y, pred_y, boston_lm)) "
   ]
  },
  {
   "cell_type": "code",
   "execution_count": 28,
   "id": "ac9e4579",
   "metadata": {},
   "outputs": [],
   "source": [
    "# [셋째] RMSE, 평균오차, 리프트 도표 사용하여 비교"
   ]
  },
  {
   "cell_type": "code",
   "execution_count": 29,
   "id": "f84a9b1c",
   "metadata": {},
   "outputs": [
    {
     "name": "stdout",
     "output_type": "stream",
     "text": [
      "\n",
      "Regression statistics\n",
      "\n",
      "                      Mean Error (ME) : -0.0397\n",
      "       Root Mean Squared Error (RMSE) : 5.1713\n",
      "            Mean Absolute Error (MAE) : 3.6519\n",
      "          Mean Percentage Error (MPE) : -5.2055\n",
      "Mean Absolute Percentage Error (MAPE) : 17.1988\n"
     ]
    }
   ],
   "source": [
    "pred_y = boston_lm.predict(valid_X)\n",
    "regressionSummary(valid_y, pred_y)"
   ]
  },
  {
   "cell_type": "code",
   "execution_count": 30,
   "id": "39a389d2",
   "metadata": {},
   "outputs": [
    {
     "data": {
      "image/png": "[encoded data removed]",
      "text/plain": [
       "<Figure size 720x288 with 2 Axes>"
      ]
     },
     "metadata": {
      "needs_background": "light"
     },
     "output_type": "display_data"
    }
   ],
   "source": [
    "all_residuals1 = valid_y -pred_y\n",
    "fig, axes = plt.subplots(nrows=1, ncols=2, figsize=(10,4))\n",
    "ax = pd.DataFrame({\"Model1 Residuals\": all_residuals1}).hist(bins=25, ax=axes[0])\n",
    "plt.tight_layout()\n",
    "plt.show()"
   ]
  },
  {
   "cell_type": "code",
   "execution_count": 31,
   "id": "d510f730",
   "metadata": {},
   "outputs": [],
   "source": [
    "# [넷째] 가장 좋은 모형을 선택 후 이에 대해 기술"
   ]
  },
  {
   "cell_type": "markdown",
   "id": "7ff8bfe3",
   "metadata": {},
   "source": [
    "## 6.2"
   ]
  },
  {
   "cell_type": "code",
   "execution_count": 32,
   "id": "a393a661",
   "metadata": {},
   "outputs": [
    {
     "data": {
      "text/plain": [
       "Index(['sequence_number', 'US', 'source_a', 'source_c', 'source_b', 'source_d',\n",
       "       'source_e', 'source_m', 'source_o', 'source_h', 'source_r', 'source_s',\n",
       "       'source_t', 'source_u', 'source_p', 'source_x', 'source_w', 'Freq',\n",
       "       'last_update_days_ago', '1st_update_days_ago', 'Web order',\n",
       "       'Gender=male', 'Address_is_res', 'Purchase', 'Spending'],\n",
       "      dtype='object')"
      ]
     },
     "execution_count": 32,
     "metadata": {},
     "output_type": "execute_result"
    }
   ],
   "source": [
    "tay=pd.read_csv('Tayko.csv')\n",
    "tay.columns"
   ]
  },
  {
   "cell_type": "code",
   "execution_count": 33,
   "id": "951f40ff",
   "metadata": {},
   "outputs": [
    {
     "data": {
      "text/html": [
       "<div>\n",
       "<style scoped>\n",
       "    .dataframe tbody tr th:only-of-type {\n",
       "        vertical-align: middle;\n",
       "    }\n",
       "\n",
       "    .dataframe tbody tr th {\n",
       "        vertical-align: top;\n",
       "    }\n",
       "\n",
       "    .dataframe thead th {\n",
       "        text-align: right;\n",
       "    }\n",
       "</style>\n",
       "<table border=\"1\" class=\"dataframe\">\n",
       "  <thead>\n",
       "    <tr style=\"text-align: right;\">\n",
       "      <th></th>\n",
       "      <th>sequence_number</th>\n",
       "      <th>US</th>\n",
       "      <th>source_a</th>\n",
       "      <th>source_c</th>\n",
       "      <th>source_b</th>\n",
       "      <th>source_d</th>\n",
       "      <th>source_e</th>\n",
       "      <th>source_m</th>\n",
       "      <th>source_o</th>\n",
       "      <th>source_h</th>\n",
       "      <th>...</th>\n",
       "      <th>source_x</th>\n",
       "      <th>source_w</th>\n",
       "      <th>Freq</th>\n",
       "      <th>last_update_days_ago</th>\n",
       "      <th>1st_update_days_ago</th>\n",
       "      <th>Web order</th>\n",
       "      <th>Gender=male</th>\n",
       "      <th>Address_is_res</th>\n",
       "      <th>Purchase</th>\n",
       "      <th>Spending</th>\n",
       "    </tr>\n",
       "  </thead>\n",
       "  <tbody>\n",
       "    <tr>\n",
       "      <th>0</th>\n",
       "      <td>1</td>\n",
       "      <td>1</td>\n",
       "      <td>0</td>\n",
       "      <td>0</td>\n",
       "      <td>1</td>\n",
       "      <td>0</td>\n",
       "      <td>0</td>\n",
       "      <td>0</td>\n",
       "      <td>0</td>\n",
       "      <td>0</td>\n",
       "      <td>...</td>\n",
       "      <td>0</td>\n",
       "      <td>0</td>\n",
       "      <td>2</td>\n",
       "      <td>3662</td>\n",
       "      <td>3662</td>\n",
       "      <td>1</td>\n",
       "      <td>0</td>\n",
       "      <td>1</td>\n",
       "      <td>1</td>\n",
       "      <td>128</td>\n",
       "    </tr>\n",
       "    <tr>\n",
       "      <th>1</th>\n",
       "      <td>2</td>\n",
       "      <td>1</td>\n",
       "      <td>0</td>\n",
       "      <td>0</td>\n",
       "      <td>0</td>\n",
       "      <td>0</td>\n",
       "      <td>1</td>\n",
       "      <td>0</td>\n",
       "      <td>0</td>\n",
       "      <td>0</td>\n",
       "      <td>...</td>\n",
       "      <td>0</td>\n",
       "      <td>0</td>\n",
       "      <td>0</td>\n",
       "      <td>2900</td>\n",
       "      <td>2900</td>\n",
       "      <td>1</td>\n",
       "      <td>1</td>\n",
       "      <td>0</td>\n",
       "      <td>0</td>\n",
       "      <td>0</td>\n",
       "    </tr>\n",
       "    <tr>\n",
       "      <th>2</th>\n",
       "      <td>3</td>\n",
       "      <td>1</td>\n",
       "      <td>0</td>\n",
       "      <td>0</td>\n",
       "      <td>0</td>\n",
       "      <td>0</td>\n",
       "      <td>0</td>\n",
       "      <td>0</td>\n",
       "      <td>0</td>\n",
       "      <td>0</td>\n",
       "      <td>...</td>\n",
       "      <td>0</td>\n",
       "      <td>0</td>\n",
       "      <td>2</td>\n",
       "      <td>3883</td>\n",
       "      <td>3914</td>\n",
       "      <td>0</td>\n",
       "      <td>0</td>\n",
       "      <td>0</td>\n",
       "      <td>1</td>\n",
       "      <td>127</td>\n",
       "    </tr>\n",
       "    <tr>\n",
       "      <th>3</th>\n",
       "      <td>4</td>\n",
       "      <td>1</td>\n",
       "      <td>0</td>\n",
       "      <td>1</td>\n",
       "      <td>0</td>\n",
       "      <td>0</td>\n",
       "      <td>0</td>\n",
       "      <td>0</td>\n",
       "      <td>0</td>\n",
       "      <td>0</td>\n",
       "      <td>...</td>\n",
       "      <td>0</td>\n",
       "      <td>0</td>\n",
       "      <td>1</td>\n",
       "      <td>829</td>\n",
       "      <td>829</td>\n",
       "      <td>0</td>\n",
       "      <td>1</td>\n",
       "      <td>0</td>\n",
       "      <td>0</td>\n",
       "      <td>0</td>\n",
       "    </tr>\n",
       "    <tr>\n",
       "      <th>4</th>\n",
       "      <td>5</td>\n",
       "      <td>1</td>\n",
       "      <td>0</td>\n",
       "      <td>1</td>\n",
       "      <td>0</td>\n",
       "      <td>0</td>\n",
       "      <td>0</td>\n",
       "      <td>0</td>\n",
       "      <td>0</td>\n",
       "      <td>0</td>\n",
       "      <td>...</td>\n",
       "      <td>0</td>\n",
       "      <td>0</td>\n",
       "      <td>1</td>\n",
       "      <td>869</td>\n",
       "      <td>869</td>\n",
       "      <td>0</td>\n",
       "      <td>0</td>\n",
       "      <td>0</td>\n",
       "      <td>0</td>\n",
       "      <td>0</td>\n",
       "    </tr>\n",
       "  </tbody>\n",
       "</table>\n",
       "<p>5 rows × 25 columns</p>\n",
       "</div>"
      ],
      "text/plain": [
       "   sequence_number  US  source_a  source_c  source_b  source_d  source_e  \\\n",
       "0                1   1         0         0         1         0         0   \n",
       "1                2   1         0         0         0         0         1   \n",
       "2                3   1         0         0         0         0         0   \n",
       "3                4   1         0         1         0         0         0   \n",
       "4                5   1         0         1         0         0         0   \n",
       "\n",
       "   source_m  source_o  source_h  ...  source_x  source_w  Freq  \\\n",
       "0         0         0         0  ...         0         0     2   \n",
       "1         0         0         0  ...         0         0     0   \n",
       "2         0         0         0  ...         0         0     2   \n",
       "3         0         0         0  ...         0         0     1   \n",
       "4         0         0         0  ...         0         0     1   \n",
       "\n",
       "   last_update_days_ago  1st_update_days_ago  Web order  Gender=male  \\\n",
       "0                  3662                 3662          1            0   \n",
       "1                  2900                 2900          1            1   \n",
       "2                  3883                 3914          0            0   \n",
       "3                   829                  829          0            1   \n",
       "4                   869                  869          0            0   \n",
       "\n",
       "   Address_is_res  Purchase  Spending  \n",
       "0               1         1       128  \n",
       "1               0         0         0  \n",
       "2               0         1       127  \n",
       "3               0         0         0  \n",
       "4               0         0         0  \n",
       "\n",
       "[5 rows x 25 columns]"
      ]
     },
     "execution_count": 33,
     "metadata": {},
     "output_type": "execute_result"
    }
   ],
   "source": [
    "tay.head(5)"
   ]
  },
  {
   "cell_type": "code",
   "execution_count": 34,
   "id": "822f6168",
   "metadata": {},
   "outputs": [],
   "source": [
    "tay=tay[['US', 'Address_is_res', 'Gender=male', 'Web order', 'last_update_days_ago', 'Freq','Spending']]"
   ]
  },
  {
   "cell_type": "markdown",
   "id": "1fb210f0",
   "metadata": {},
   "source": [
    "#### a"
   ]
  },
  {
   "cell_type": "code",
   "execution_count": 35,
   "id": "9583ce17",
   "metadata": {},
   "outputs": [
    {
     "data": {
      "text/html": [
       "<div>\n",
       "<style scoped>\n",
       "    .dataframe tbody tr th:only-of-type {\n",
       "        vertical-align: middle;\n",
       "    }\n",
       "\n",
       "    .dataframe tbody tr th {\n",
       "        vertical-align: top;\n",
       "    }\n",
       "\n",
       "    .dataframe thead th {\n",
       "        text-align: right;\n",
       "    }\n",
       "</style>\n",
       "<table border=\"1\" class=\"dataframe\">\n",
       "  <thead>\n",
       "    <tr style=\"text-align: right;\">\n",
       "      <th></th>\n",
       "      <th>US</th>\n",
       "      <th>Address_is_res</th>\n",
       "      <th>Gender=male</th>\n",
       "      <th>Web order</th>\n",
       "    </tr>\n",
       "  </thead>\n",
       "  <tbody>\n",
       "    <tr>\n",
       "      <th>0</th>\n",
       "      <td>1</td>\n",
       "      <td>1</td>\n",
       "      <td>0</td>\n",
       "      <td>1</td>\n",
       "    </tr>\n",
       "    <tr>\n",
       "      <th>1</th>\n",
       "      <td>1</td>\n",
       "      <td>0</td>\n",
       "      <td>1</td>\n",
       "      <td>1</td>\n",
       "    </tr>\n",
       "    <tr>\n",
       "      <th>2</th>\n",
       "      <td>1</td>\n",
       "      <td>0</td>\n",
       "      <td>0</td>\n",
       "      <td>0</td>\n",
       "    </tr>\n",
       "    <tr>\n",
       "      <th>3</th>\n",
       "      <td>1</td>\n",
       "      <td>0</td>\n",
       "      <td>1</td>\n",
       "      <td>0</td>\n",
       "    </tr>\n",
       "    <tr>\n",
       "      <th>4</th>\n",
       "      <td>1</td>\n",
       "      <td>0</td>\n",
       "      <td>0</td>\n",
       "      <td>0</td>\n",
       "    </tr>\n",
       "    <tr>\n",
       "      <th>...</th>\n",
       "      <td>...</td>\n",
       "      <td>...</td>\n",
       "      <td>...</td>\n",
       "      <td>...</td>\n",
       "    </tr>\n",
       "    <tr>\n",
       "      <th>1995</th>\n",
       "      <td>1</td>\n",
       "      <td>0</td>\n",
       "      <td>0</td>\n",
       "      <td>1</td>\n",
       "    </tr>\n",
       "    <tr>\n",
       "      <th>1996</th>\n",
       "      <td>1</td>\n",
       "      <td>0</td>\n",
       "      <td>1</td>\n",
       "      <td>1</td>\n",
       "    </tr>\n",
       "    <tr>\n",
       "      <th>1997</th>\n",
       "      <td>1</td>\n",
       "      <td>0</td>\n",
       "      <td>0</td>\n",
       "      <td>0</td>\n",
       "    </tr>\n",
       "    <tr>\n",
       "      <th>1998</th>\n",
       "      <td>1</td>\n",
       "      <td>1</td>\n",
       "      <td>1</td>\n",
       "      <td>0</td>\n",
       "    </tr>\n",
       "    <tr>\n",
       "      <th>1999</th>\n",
       "      <td>1</td>\n",
       "      <td>0</td>\n",
       "      <td>0</td>\n",
       "      <td>0</td>\n",
       "    </tr>\n",
       "  </tbody>\n",
       "</table>\n",
       "<p>2000 rows × 4 columns</p>\n",
       "</div>"
      ],
      "text/plain": [
       "      US  Address_is_res  Gender=male  Web order\n",
       "0      1               1            0          1\n",
       "1      1               0            1          1\n",
       "2      1               0            0          0\n",
       "3      1               0            1          0\n",
       "4      1               0            0          0\n",
       "...   ..             ...          ...        ...\n",
       "1995   1               0            0          1\n",
       "1996   1               0            1          1\n",
       "1997   1               0            0          0\n",
       "1998   1               1            1          0\n",
       "1999   1               0            0          0\n",
       "\n",
       "[2000 rows x 4 columns]"
      ]
     },
     "execution_count": 35,
     "metadata": {},
     "output_type": "execute_result"
    }
   ],
   "source": [
    "tay_class=tay[['US', 'Address_is_res', 'Gender=male', 'Web order', 'Spending']]\n",
    "tay_class.drop(['Spending'], axis = 1)"
   ]
  },
  {
   "cell_type": "code",
   "execution_count": 36,
   "id": "9b52e6cf",
   "metadata": {},
   "outputs": [],
   "source": [
    "us_1=tay_class[tay_class['US']==1].Spending.describe()\n",
    "us_0=tay_class[tay_class['US']==0].Spending.describe()\n",
    "\n",
    "add_1=tay_class[tay_class['Address_is_res']==1].Spending.describe()\n",
    "add_0=tay_class[tay_class['Address_is_res']==0].Spending.describe()\n",
    "\n",
    "gender_1=tay_class[tay_class['Gender=male']==1].Spending.describe()\n",
    "gender_0=tay_class[tay_class['Gender=male']==0].Spending.describe()\n",
    "\n",
    "web_1=tay_class[tay_class['Web order']==1].Spending.describe()\n",
    "web_0=tay_class[tay_class['Web order']==0].Spending.describe()"
   ]
  },
  {
   "cell_type": "code",
   "execution_count": 37,
   "id": "f0a40465",
   "metadata": {},
   "outputs": [
    {
     "data": {
      "text/html": [
       "<div>\n",
       "<style scoped>\n",
       "    .dataframe tbody tr th:only-of-type {\n",
       "        vertical-align: middle;\n",
       "    }\n",
       "\n",
       "    .dataframe tbody tr th {\n",
       "        vertical-align: top;\n",
       "    }\n",
       "\n",
       "    .dataframe thead th {\n",
       "        text-align: right;\n",
       "    }\n",
       "</style>\n",
       "<table border=\"1\" class=\"dataframe\">\n",
       "  <thead>\n",
       "    <tr style=\"text-align: right;\">\n",
       "      <th></th>\n",
       "      <th>mean</th>\n",
       "      <th>std</th>\n",
       "    </tr>\n",
       "  </thead>\n",
       "  <tbody>\n",
       "    <tr>\n",
       "      <th>us_1</th>\n",
       "      <td>449.775058</td>\n",
       "      <td>698.928156</td>\n",
       "    </tr>\n",
       "    <tr>\n",
       "      <th>us_0</th>\n",
       "      <td>278.882616</td>\n",
       "      <td>484.747687</td>\n",
       "    </tr>\n",
       "    <tr>\n",
       "      <th>add_1</th>\n",
       "      <td>183.734811</td>\n",
       "      <td>234.639178</td>\n",
       "    </tr>\n",
       "    <tr>\n",
       "      <th>add_0</th>\n",
       "      <td>438.978415</td>\n",
       "      <td>677.057361</td>\n",
       "    </tr>\n",
       "    <tr>\n",
       "      <th>gender_1</th>\n",
       "      <td>372.046359</td>\n",
       "      <td>574.150090</td>\n",
       "    </tr>\n",
       "    <tr>\n",
       "      <th>gender_0</th>\n",
       "      <td>357.771497</td>\n",
       "      <td>539.349506</td>\n",
       "    </tr>\n",
       "    <tr>\n",
       "      <th>web_1</th>\n",
       "      <td>357.176671</td>\n",
       "      <td>517.700987</td>\n",
       "    </tr>\n",
       "    <tr>\n",
       "      <th>web_0</th>\n",
       "      <td>379.289941</td>\n",
       "      <td>594.121612</td>\n",
       "    </tr>\n",
       "  </tbody>\n",
       "</table>\n",
       "</div>"
      ],
      "text/plain": [
       "                mean         std\n",
       "us_1      449.775058  698.928156\n",
       "us_0      278.882616  484.747687\n",
       "add_1     183.734811  234.639178\n",
       "add_0     438.978415  677.057361\n",
       "gender_1  372.046359  574.150090\n",
       "gender_0  357.771497  539.349506\n",
       "web_1     357.176671  517.700987\n",
       "web_0     379.289941  594.121612"
      ]
     },
     "execution_count": 37,
     "metadata": {},
     "output_type": "execute_result"
    }
   ],
   "source": [
    "data={'us_1':us_1, 'us_0':us_0,\n",
    "      'add_1':add_1, 'add_0':add_0,\n",
    "      'gender_1':gender_1, 'gender_0':gender_0,\n",
    "      'web_1':web_1, 'web_0':web_0           \n",
    "     }\n",
    "\n",
    "data2={'mean':pd.DataFrame(data).mean(), 'std':pd.DataFrame(data).std()}\n",
    "pd.DataFrame(data2)\n"
   ]
  },
  {
   "cell_type": "code",
   "execution_count": 38,
   "id": "67bc93eb",
   "metadata": {},
   "outputs": [
    {
     "ename": "KeyError",
     "evalue": "\"['FREQ' 'LAST_UPDATE' 'SPENDING'] not found in axis\"",
     "output_type": "error",
     "traceback": [
      "\u001b[1;31m---------------------------------------------------------------------------\u001b[0m",
      "\u001b[1;31mKeyError\u001b[0m                                  Traceback (most recent call last)",
      "\u001b[1;32mC:\\Users\\Public\\Documents\\ESTsoft\\CreatorTemp/ipykernel_1212/963398180.py\u001b[0m in \u001b[0;36m<module>\u001b[1;34m\u001b[0m\n\u001b[1;32m----> 1\u001b[1;33m \u001b[0mcarr\u001b[0m\u001b[1;33m=\u001b[0m\u001b[0mtay_class\u001b[0m\u001b[1;33m.\u001b[0m\u001b[0mdrop\u001b[0m\u001b[1;33m(\u001b[0m\u001b[0mcolumns\u001b[0m\u001b[1;33m=\u001b[0m\u001b[1;33m[\u001b[0m\u001b[1;34m\"FREQ\"\u001b[0m\u001b[1;33m,\u001b[0m\u001b[1;34m\"LAST_UPDATE\"\u001b[0m\u001b[1;33m,\u001b[0m\u001b[1;34m\"SPENDING\"\u001b[0m\u001b[1;33m]\u001b[0m\u001b[1;33m)\u001b[0m\u001b[1;33m\u001b[0m\u001b[1;33m\u001b[0m\u001b[0m\n\u001b[0m\u001b[0;32m      2\u001b[0m \u001b[1;33m\u001b[0m\u001b[0m\n\u001b[0;32m      3\u001b[0m \u001b[0mprint\u001b[0m\u001b[1;33m(\u001b[0m\u001b[0mraw_df\u001b[0m\u001b[1;33m.\u001b[0m\u001b[0mgroupby\u001b[0m\u001b[1;33m(\u001b[0m\u001b[0mlist\u001b[0m\u001b[1;33m(\u001b[0m\u001b[0mcarr\u001b[0m\u001b[1;33m.\u001b[0m\u001b[0mcolumns\u001b[0m\u001b[1;33m)\u001b[0m\u001b[1;33m)\u001b[0m\u001b[1;33m.\u001b[0m\u001b[0mmean\u001b[0m\u001b[1;33m(\u001b[0m\u001b[1;33m)\u001b[0m\u001b[1;33m.\u001b[0m\u001b[0mSPENDING\u001b[0m\u001b[1;33m)\u001b[0m\u001b[1;31m#평균\u001b[0m\u001b[1;33m\u001b[0m\u001b[1;33m\u001b[0m\u001b[0m\n\u001b[0;32m      4\u001b[0m \u001b[0mprint\u001b[0m\u001b[1;33m(\u001b[0m\u001b[0mraw_df\u001b[0m\u001b[1;33m.\u001b[0m\u001b[0mgroupby\u001b[0m\u001b[1;33m(\u001b[0m\u001b[0mlist\u001b[0m\u001b[1;33m(\u001b[0m\u001b[0mcarr\u001b[0m\u001b[1;33m.\u001b[0m\u001b[0mcolumns\u001b[0m\u001b[1;33m)\u001b[0m\u001b[1;33m)\u001b[0m\u001b[1;33m.\u001b[0m\u001b[0mstd\u001b[0m\u001b[1;33m(\u001b[0m\u001b[1;33m)\u001b[0m\u001b[1;33m.\u001b[0m\u001b[0mSPENDING\u001b[0m\u001b[1;33m)\u001b[0m\u001b[1;31m#표준편차\u001b[0m\u001b[1;33m\u001b[0m\u001b[1;33m\u001b[0m\u001b[0m\n",
      "\u001b[1;32m~\\anaconda3\\lib\\site-packages\\pandas\\util\\_decorators.py\u001b[0m in \u001b[0;36mwrapper\u001b[1;34m(*args, **kwargs)\u001b[0m\n\u001b[0;32m    309\u001b[0m                     \u001b[0mstacklevel\u001b[0m\u001b[1;33m=\u001b[0m\u001b[0mstacklevel\u001b[0m\u001b[1;33m,\u001b[0m\u001b[1;33m\u001b[0m\u001b[1;33m\u001b[0m\u001b[0m\n\u001b[0;32m    310\u001b[0m                 )\n\u001b[1;32m--> 311\u001b[1;33m             \u001b[1;32mreturn\u001b[0m \u001b[0mfunc\u001b[0m\u001b[1;33m(\u001b[0m\u001b[1;33m*\u001b[0m\u001b[0margs\u001b[0m\u001b[1;33m,\u001b[0m \u001b[1;33m**\u001b[0m\u001b[0mkwargs\u001b[0m\u001b[1;33m)\u001b[0m\u001b[1;33m\u001b[0m\u001b[1;33m\u001b[0m\u001b[0m\n\u001b[0m\u001b[0;32m    312\u001b[0m \u001b[1;33m\u001b[0m\u001b[0m\n\u001b[0;32m    313\u001b[0m         \u001b[1;32mreturn\u001b[0m \u001b[0mwrapper\u001b[0m\u001b[1;33m\u001b[0m\u001b[1;33m\u001b[0m\u001b[0m\n",
      "\u001b[1;32m~\\anaconda3\\lib\\site-packages\\pandas\\core\\frame.py\u001b[0m in \u001b[0;36mdrop\u001b[1;34m(self, labels, axis, index, columns, level, inplace, errors)\u001b[0m\n\u001b[0;32m   4904\u001b[0m                 \u001b[0mweight\u001b[0m  \u001b[1;36m1.0\u001b[0m     \u001b[1;36m0.8\u001b[0m\u001b[1;33m\u001b[0m\u001b[1;33m\u001b[0m\u001b[0m\n\u001b[0;32m   4905\u001b[0m         \"\"\"\n\u001b[1;32m-> 4906\u001b[1;33m         return super().drop(\n\u001b[0m\u001b[0;32m   4907\u001b[0m             \u001b[0mlabels\u001b[0m\u001b[1;33m=\u001b[0m\u001b[0mlabels\u001b[0m\u001b[1;33m,\u001b[0m\u001b[1;33m\u001b[0m\u001b[1;33m\u001b[0m\u001b[0m\n\u001b[0;32m   4908\u001b[0m             \u001b[0maxis\u001b[0m\u001b[1;33m=\u001b[0m\u001b[0maxis\u001b[0m\u001b[1;33m,\u001b[0m\u001b[1;33m\u001b[0m\u001b[1;33m\u001b[0m\u001b[0m\n",
      "\u001b[1;32m~\\anaconda3\\lib\\site-packages\\pandas\\core\\generic.py\u001b[0m in \u001b[0;36mdrop\u001b[1;34m(self, labels, axis, index, columns, level, inplace, errors)\u001b[0m\n\u001b[0;32m   4148\u001b[0m         \u001b[1;32mfor\u001b[0m \u001b[0maxis\u001b[0m\u001b[1;33m,\u001b[0m \u001b[0mlabels\u001b[0m \u001b[1;32min\u001b[0m \u001b[0maxes\u001b[0m\u001b[1;33m.\u001b[0m\u001b[0mitems\u001b[0m\u001b[1;33m(\u001b[0m\u001b[1;33m)\u001b[0m\u001b[1;33m:\u001b[0m\u001b[1;33m\u001b[0m\u001b[1;33m\u001b[0m\u001b[0m\n\u001b[0;32m   4149\u001b[0m             \u001b[1;32mif\u001b[0m \u001b[0mlabels\u001b[0m \u001b[1;32mis\u001b[0m \u001b[1;32mnot\u001b[0m \u001b[1;32mNone\u001b[0m\u001b[1;33m:\u001b[0m\u001b[1;33m\u001b[0m\u001b[1;33m\u001b[0m\u001b[0m\n\u001b[1;32m-> 4150\u001b[1;33m                 \u001b[0mobj\u001b[0m \u001b[1;33m=\u001b[0m \u001b[0mobj\u001b[0m\u001b[1;33m.\u001b[0m\u001b[0m_drop_axis\u001b[0m\u001b[1;33m(\u001b[0m\u001b[0mlabels\u001b[0m\u001b[1;33m,\u001b[0m \u001b[0maxis\u001b[0m\u001b[1;33m,\u001b[0m \u001b[0mlevel\u001b[0m\u001b[1;33m=\u001b[0m\u001b[0mlevel\u001b[0m\u001b[1;33m,\u001b[0m \u001b[0merrors\u001b[0m\u001b[1;33m=\u001b[0m\u001b[0merrors\u001b[0m\u001b[1;33m)\u001b[0m\u001b[1;33m\u001b[0m\u001b[1;33m\u001b[0m\u001b[0m\n\u001b[0m\u001b[0;32m   4151\u001b[0m \u001b[1;33m\u001b[0m\u001b[0m\n\u001b[0;32m   4152\u001b[0m         \u001b[1;32mif\u001b[0m \u001b[0minplace\u001b[0m\u001b[1;33m:\u001b[0m\u001b[1;33m\u001b[0m\u001b[1;33m\u001b[0m\u001b[0m\n",
      "\u001b[1;32m~\\anaconda3\\lib\\site-packages\\pandas\\core\\generic.py\u001b[0m in \u001b[0;36m_drop_axis\u001b[1;34m(self, labels, axis, level, errors)\u001b[0m\n\u001b[0;32m   4183\u001b[0m                 \u001b[0mnew_axis\u001b[0m \u001b[1;33m=\u001b[0m \u001b[0maxis\u001b[0m\u001b[1;33m.\u001b[0m\u001b[0mdrop\u001b[0m\u001b[1;33m(\u001b[0m\u001b[0mlabels\u001b[0m\u001b[1;33m,\u001b[0m \u001b[0mlevel\u001b[0m\u001b[1;33m=\u001b[0m\u001b[0mlevel\u001b[0m\u001b[1;33m,\u001b[0m \u001b[0merrors\u001b[0m\u001b[1;33m=\u001b[0m\u001b[0merrors\u001b[0m\u001b[1;33m)\u001b[0m\u001b[1;33m\u001b[0m\u001b[1;33m\u001b[0m\u001b[0m\n\u001b[0;32m   4184\u001b[0m             \u001b[1;32melse\u001b[0m\u001b[1;33m:\u001b[0m\u001b[1;33m\u001b[0m\u001b[1;33m\u001b[0m\u001b[0m\n\u001b[1;32m-> 4185\u001b[1;33m                 \u001b[0mnew_axis\u001b[0m \u001b[1;33m=\u001b[0m \u001b[0maxis\u001b[0m\u001b[1;33m.\u001b[0m\u001b[0mdrop\u001b[0m\u001b[1;33m(\u001b[0m\u001b[0mlabels\u001b[0m\u001b[1;33m,\u001b[0m \u001b[0merrors\u001b[0m\u001b[1;33m=\u001b[0m\u001b[0merrors\u001b[0m\u001b[1;33m)\u001b[0m\u001b[1;33m\u001b[0m\u001b[1;33m\u001b[0m\u001b[0m\n\u001b[0m\u001b[0;32m   4186\u001b[0m             \u001b[0mresult\u001b[0m \u001b[1;33m=\u001b[0m \u001b[0mself\u001b[0m\u001b[1;33m.\u001b[0m\u001b[0mreindex\u001b[0m\u001b[1;33m(\u001b[0m\u001b[1;33m**\u001b[0m\u001b[1;33m{\u001b[0m\u001b[0maxis_name\u001b[0m\u001b[1;33m:\u001b[0m \u001b[0mnew_axis\u001b[0m\u001b[1;33m}\u001b[0m\u001b[1;33m)\u001b[0m\u001b[1;33m\u001b[0m\u001b[1;33m\u001b[0m\u001b[0m\n\u001b[0;32m   4187\u001b[0m \u001b[1;33m\u001b[0m\u001b[0m\n",
      "\u001b[1;32m~\\anaconda3\\lib\\site-packages\\pandas\\core\\indexes\\base.py\u001b[0m in \u001b[0;36mdrop\u001b[1;34m(self, labels, errors)\u001b[0m\n\u001b[0;32m   6015\u001b[0m         \u001b[1;32mif\u001b[0m \u001b[0mmask\u001b[0m\u001b[1;33m.\u001b[0m\u001b[0many\u001b[0m\u001b[1;33m(\u001b[0m\u001b[1;33m)\u001b[0m\u001b[1;33m:\u001b[0m\u001b[1;33m\u001b[0m\u001b[1;33m\u001b[0m\u001b[0m\n\u001b[0;32m   6016\u001b[0m             \u001b[1;32mif\u001b[0m \u001b[0merrors\u001b[0m \u001b[1;33m!=\u001b[0m \u001b[1;34m\"ignore\"\u001b[0m\u001b[1;33m:\u001b[0m\u001b[1;33m\u001b[0m\u001b[1;33m\u001b[0m\u001b[0m\n\u001b[1;32m-> 6017\u001b[1;33m                 \u001b[1;32mraise\u001b[0m \u001b[0mKeyError\u001b[0m\u001b[1;33m(\u001b[0m\u001b[1;34mf\"{labels[mask]} not found in axis\"\u001b[0m\u001b[1;33m)\u001b[0m\u001b[1;33m\u001b[0m\u001b[1;33m\u001b[0m\u001b[0m\n\u001b[0m\u001b[0;32m   6018\u001b[0m             \u001b[0mindexer\u001b[0m \u001b[1;33m=\u001b[0m \u001b[0mindexer\u001b[0m\u001b[1;33m[\u001b[0m\u001b[1;33m~\u001b[0m\u001b[0mmask\u001b[0m\u001b[1;33m]\u001b[0m\u001b[1;33m\u001b[0m\u001b[1;33m\u001b[0m\u001b[0m\n\u001b[0;32m   6019\u001b[0m         \u001b[1;32mreturn\u001b[0m \u001b[0mself\u001b[0m\u001b[1;33m.\u001b[0m\u001b[0mdelete\u001b[0m\u001b[1;33m(\u001b[0m\u001b[0mindexer\u001b[0m\u001b[1;33m)\u001b[0m\u001b[1;33m\u001b[0m\u001b[1;33m\u001b[0m\u001b[0m\n",
      "\u001b[1;31mKeyError\u001b[0m: \"['FREQ' 'LAST_UPDATE' 'SPENDING'] not found in axis\""
     ]
    }
   ],
   "source": [
    "carr=tay_class.drop(columns=[\"FREQ\",\"LAST_UPDATE\",\"SPENDING\"])\n",
    "\n",
    "print(raw_df.groupby(list(carr.columns)).mean().SPENDING)#평균\n",
    "print(raw_df.groupby(list(carr.columns)).std().SPENDING)#표준편차"
   ]
  },
  {
   "cell_type": "markdown",
   "id": "aab3b552",
   "metadata": {},
   "source": [
    "#### b"
   ]
  },
  {
   "cell_type": "code",
   "execution_count": null,
   "id": "c03a187f",
   "metadata": {},
   "outputs": [],
   "source": [
    "import matplotlib.pyplot as plt"
   ]
  },
  {
   "cell_type": "code",
   "execution_count": 39,
   "id": "126a55ad",
   "metadata": {},
   "outputs": [
    {
     "data": {
      "image/png": "[encoded data removed]",
      "text/plain": [
       "<Figure size 720x288 with 2 Axes>"
      ]
     },
     "metadata": {
      "needs_background": "light"
     },
     "output_type": "display_data"
    }
   ],
   "source": [
    "fig, axes = plt.subplots(nrows=1, ncols=2,figsize=(10,4))\n",
    "\n",
    "ax = tay.plot.scatter(x='Freq', y='Spending', legend=False, ax=axes[0])\n",
    "ax = tay.plot.scatter(x='last_update_days_ago', y='Spending', legend=False, ax=axes[1])\n",
    "\n",
    "plt.tight_layout()\n",
    "plt.show()"
   ]
  },
  {
   "cell_type": "markdown",
   "id": "b38e9001",
   "metadata": {},
   "source": [
    "두 변수 모두 선형관계가 보이지 않는다."
   ]
  },
  {
   "cell_type": "markdown",
   "id": "3df26d5a",
   "metadata": {},
   "source": [
    "#### c"
   ]
  },
  {
   "cell_type": "markdown",
   "id": "ba79512c",
   "metadata": {},
   "source": [
    "##### 1"
   ]
  },
  {
   "cell_type": "code",
   "execution_count": 40,
   "id": "b058f2df",
   "metadata": {},
   "outputs": [],
   "source": [
    "predictors = ['US', # 미국 주소지인지에 대한 여부\n",
    "              'Freq', # 전년도 거래일수\n",
    "       'last_update_days_ago', # 최종갱신일로부터 경과일수\n",
    "              'Web order', #고객이 인터넷 구매 여부\n",
    "       'Gender=male', #성별\n",
    "              'Address_is_res'] #거주지 주소인지에 대한 여부\n",
    "outcome = 'Spending'\n",
    "\n",
    "X = pd.get_dummies(tay[predictors], drop_first=True)\n",
    "y = tay[outcome]\n",
    "train_X, valid_X, train_y, valid_y = train_test_split(X, y, test_size=0.4, random_state=1)"
   ]
  },
  {
   "cell_type": "markdown",
   "id": "120a6797",
   "metadata": {},
   "source": [
    "##### 2"
   ]
  },
  {
   "cell_type": "code",
   "execution_count": 41,
   "id": "7469bb95",
   "metadata": {},
   "outputs": [
    {
     "name": "stdout",
     "output_type": "stream",
     "text": [
      "Intercept 10.176\n",
      "\n",
      "              Preditior  coefficient\n",
      "0                    US    -4.620293\n",
      "1                  Freq    91.274450\n",
      "2  last_update_days_ago    -0.010374\n",
      "3             Web order    18.628731\n",
      "4           Gender=male    -9.111366\n",
      "5        Address_is_res   -75.815354\n"
     ]
    }
   ],
   "source": [
    "tay_lm = LinearRegression()\n",
    "tay_lm.fit(train_X, train_y)\n",
    "\n",
    "print(\"Intercept\", round(tay_lm.intercept_,3))\n",
    "print()\n",
    "print(pd.DataFrame({'Preditior': X.columns, 'coefficient': tay_lm.coef_}))"
   ]
  },
  {
   "cell_type": "markdown",
   "id": "3a87e470",
   "metadata": {},
   "source": [
    "선형회귀식 모형 : y = 10.176 - 4.62x1 + 91.274x2 - 0.01x3 + 18.629x4 - 9.111x5 - 75.815x6\n",
    "\n",
    "\n",
    "\n",
    "x1 US \n",
    "x2 Freq \n",
    "x3 last_update_days_ago \n",
    "x4 Web order \n",
    "x5 Gender \n",
    "x6 Address_is_res "
   ]
  },
  {
   "cell_type": "markdown",
   "id": "ad91fa8f",
   "metadata": {},
   "source": [
    "##### 3"
   ]
  },
  {
   "cell_type": "markdown",
   "id": "34f81b2f",
   "metadata": {},
   "source": [
    " 위의 선형회귀식 모형의 부호를 통해 알 수 있다.\n",
    "미국에 거주하지 않고\n",
    "전년도 거래일수가 많고\n",
    "최종갱신일로부터 경과일수가 작고\n",
    "인터넷 구매여부가 있고\n",
    "성별이 여자이고\n",
    "거주지 주소가 아닌 고객이 가장 많은 돈을 지출한다."
   ]
  },
  {
   "cell_type": "markdown",
   "id": "cdb6b86b",
   "metadata": {},
   "source": [
    "##### 4"
   ]
  },
  {
   "cell_type": "code",
   "execution_count": 42,
   "id": "2db3aff0",
   "metadata": {},
   "outputs": [
    {
     "name": "stdout",
     "output_type": "stream",
     "text": [
      "Variables: US, Freq, last_update_days_ago, Web order, Gender=male, Address_is_res\n",
      "Start: score=15028.53\n",
      "Step: score=15026.76, remove US\n",
      "Step: score=15026.38, remove Gender=male\n",
      "Step: score=15026.38, remove None\n",
      "['Freq', 'last_update_days_ago', 'Web order', 'Address_is_res']\n"
     ]
    }
   ],
   "source": [
    "def train_model(variables):\n",
    "    model = LinearRegression()\n",
    "    model.fit(train_X[variables], train_y)\n",
    "    return model\n",
    "\n",
    "def score_model(model, variables):\n",
    "    return AIC_score(train_y, model.predict(train_X[variables]), model)\n",
    "\n",
    "best_model, best_variables = backward_elimination(train_X.columns, train_model, score_model, verbose=True)\n",
    "\n",
    "print(best_variables)"
   ]
  },
  {
   "cell_type": "markdown",
   "id": "110fb3c2",
   "metadata": {},
   "source": [
    "제일 처음으로 US 미국 주소인지 여부를 알려주는 변수가 탈락한다."
   ]
  },
  {
   "cell_type": "markdown",
   "id": "c438b00a",
   "metadata": {},
   "source": [
    "##### 5"
   ]
  },
  {
   "cell_type": "code",
   "execution_count": 43,
   "id": "081e07d1",
   "metadata": {},
   "outputs": [
    {
     "data": {
      "text/html": [
       "<div>\n",
       "<style scoped>\n",
       "    .dataframe tbody tr th:only-of-type {\n",
       "        vertical-align: middle;\n",
       "    }\n",
       "\n",
       "    .dataframe tbody tr th {\n",
       "        vertical-align: top;\n",
       "    }\n",
       "\n",
       "    .dataframe thead th {\n",
       "        text-align: right;\n",
       "    }\n",
       "</style>\n",
       "<table border=\"1\" class=\"dataframe\">\n",
       "  <thead>\n",
       "    <tr style=\"text-align: right;\">\n",
       "      <th></th>\n",
       "      <th>US</th>\n",
       "      <th>Freq</th>\n",
       "      <th>last_update_days_ago</th>\n",
       "      <th>Web order</th>\n",
       "      <th>Gender=male</th>\n",
       "      <th>Address_is_res</th>\n",
       "    </tr>\n",
       "  </thead>\n",
       "  <tbody>\n",
       "    <tr>\n",
       "      <th>674</th>\n",
       "      <td>1</td>\n",
       "      <td>2</td>\n",
       "      <td>1346</td>\n",
       "      <td>0</td>\n",
       "      <td>1</td>\n",
       "      <td>1</td>\n",
       "    </tr>\n",
       "  </tbody>\n",
       "</table>\n",
       "</div>"
      ],
      "text/plain": [
       "     US  Freq  last_update_days_ago  Web order  Gender=male  Address_is_res\n",
       "674   1     2                  1346          0            1               1"
      ]
     },
     "execution_count": 43,
     "metadata": {},
     "output_type": "execute_result"
    }
   ],
   "source": [
    "valid_X.head(1) # x값"
   ]
  },
  {
   "cell_type": "code",
   "execution_count": 44,
   "id": "e717be3b",
   "metadata": {},
   "outputs": [
    {
     "data": {
      "text/plain": [
       "674    0\n",
       "Name: Spending, dtype: int64"
      ]
     },
     "execution_count": 44,
     "metadata": {},
     "output_type": "execute_result"
    }
   ],
   "source": [
    "valid_y.head(1) # y값"
   ]
  },
  {
   "cell_type": "code",
   "execution_count": 45,
   "id": "b81c4c2a",
   "metadata": {},
   "outputs": [
    {
     "name": "stdout",
     "output_type": "stream",
     "text": [
      "예측값:  89.71800000000002\n",
      "실제값:  0\n",
      "예측오차:  -89.71800000000002\n"
     ]
    }
   ],
   "source": [
    "y = 10.176 - 4.62*1 + 91.274*2 - 0.01*1346 + 18.629*0 - 9.111*1 - 75.815 * 1 \n",
    "print('예측값: ', y)\n",
    "print('실제값: ', 0)\n",
    "print('예측오차: ', 0-y)"
   ]
  },
  {
   "cell_type": "markdown",
   "id": "e88f6114",
   "metadata": {},
   "source": [
    "##### 6"
   ]
  },
  {
   "cell_type": "code",
   "execution_count": 46,
   "id": "f3b2147e",
   "metadata": {},
   "outputs": [
    {
     "name": "stdout",
     "output_type": "stream",
     "text": [
      "\n",
      "Regression statistics\n",
      "\n",
      "               Mean Error (ME) : 7.1933\n",
      "Root Mean Squared Error (RMSE) : 136.7397\n",
      "     Mean Absolute Error (MAE) : 83.6010\n"
     ]
    }
   ],
   "source": [
    "pred_y = tay_lm.predict(valid_X)\n",
    "regressionSummary(valid_y, pred_y) # 검증 세트에 대한 성능 파악"
   ]
  },
  {
   "cell_type": "code",
   "execution_count": 47,
   "id": "b80cd3d3",
   "metadata": {},
   "outputs": [
    {
     "name": "stdout",
     "output_type": "stream",
     "text": [
      "adjusted r2 :  0.4915759673170541\n",
      "AIC :  10155.227820697535\n",
      "BIC :  10192.704714518879\n"
     ]
    }
   ],
   "source": [
    "print('adjusted r2 : ', adjusted_r2_score(valid_y, pred_y, tay_lm)) \n",
    "print('AIC : ', AIC_score(valid_y, pred_y, tay_lm))\n",
    "print('BIC : ', BIC_score(valid_y, pred_y, tay_lm)) \n",
    "\n",
    "## 값이 클수록 좋은 적합성을 보이는 것으로 알고 있으나 1과 0중 0에 더 가까운 값으로 정확도가 좋다고 보기 어렵다."
   ]
  },
  {
   "cell_type": "markdown",
   "id": "a4c01f8b",
   "metadata": {},
   "source": [
    "##### 7"
   ]
  },
  {
   "cell_type": "code",
   "execution_count": 48,
   "id": "9b5726ee",
   "metadata": {},
   "outputs": [
    {
     "data": {
      "image/png": "[encoded data removed]",
      "text/plain": [
       "<Figure size 432x288 with 1 Axes>"
      ]
     },
     "metadata": {
      "needs_background": "light"
     },
     "output_type": "display_data"
    }
   ],
   "source": [
    "tay_residuals = valid_y - pred_y\n",
    "ax = pd.DataFrame({\"Residuals\":tay_residuals}).hist()\n",
    "\n",
    "plt.show()"
   ]
  },
  {
   "cell_type": "markdown",
   "id": "2814602e",
   "metadata": {},
   "source": [
    "## 6.3"
   ]
  },
  {
   "cell_type": "code",
   "execution_count": 49,
   "id": "d9ad3c63",
   "metadata": {},
   "outputs": [
    {
     "data": {
      "text/html": [
       "<div>\n",
       "<style scoped>\n",
       "    .dataframe tbody tr th:only-of-type {\n",
       "        vertical-align: middle;\n",
       "    }\n",
       "\n",
       "    .dataframe tbody tr th {\n",
       "        vertical-align: top;\n",
       "    }\n",
       "\n",
       "    .dataframe thead th {\n",
       "        text-align: right;\n",
       "    }\n",
       "</style>\n",
       "<table border=\"1\" class=\"dataframe\">\n",
       "  <thead>\n",
       "    <tr style=\"text-align: right;\">\n",
       "      <th></th>\n",
       "      <th>S_CODE</th>\n",
       "      <th>S_CITY</th>\n",
       "      <th>E_CODE</th>\n",
       "      <th>E_CITY</th>\n",
       "      <th>COUPON</th>\n",
       "      <th>NEW</th>\n",
       "      <th>VACATION</th>\n",
       "      <th>SW</th>\n",
       "      <th>HI</th>\n",
       "      <th>S_INCOME</th>\n",
       "      <th>E_INCOME</th>\n",
       "      <th>S_POP</th>\n",
       "      <th>E_POP</th>\n",
       "      <th>SLOT</th>\n",
       "      <th>GATE</th>\n",
       "      <th>DISTANCE</th>\n",
       "      <th>PAX</th>\n",
       "      <th>FARE</th>\n",
       "    </tr>\n",
       "  </thead>\n",
       "  <tbody>\n",
       "    <tr>\n",
       "      <th>0</th>\n",
       "      <td>*</td>\n",
       "      <td>Dallas/Fort Worth   TX</td>\n",
       "      <td>*</td>\n",
       "      <td>Amarillo            TX</td>\n",
       "      <td>1.00</td>\n",
       "      <td>3</td>\n",
       "      <td>No</td>\n",
       "      <td>Yes</td>\n",
       "      <td>5291.99</td>\n",
       "      <td>28637.0</td>\n",
       "      <td>21112.0</td>\n",
       "      <td>3036732</td>\n",
       "      <td>205711</td>\n",
       "      <td>Free</td>\n",
       "      <td>Free</td>\n",
       "      <td>312</td>\n",
       "      <td>7864</td>\n",
       "      <td>64.11</td>\n",
       "    </tr>\n",
       "    <tr>\n",
       "      <th>1</th>\n",
       "      <td>*</td>\n",
       "      <td>Atlanta             GA</td>\n",
       "      <td>*</td>\n",
       "      <td>Baltimore/Wash Intl MD</td>\n",
       "      <td>1.06</td>\n",
       "      <td>3</td>\n",
       "      <td>No</td>\n",
       "      <td>No</td>\n",
       "      <td>5419.16</td>\n",
       "      <td>26993.0</td>\n",
       "      <td>29838.0</td>\n",
       "      <td>3532657</td>\n",
       "      <td>7145897</td>\n",
       "      <td>Free</td>\n",
       "      <td>Free</td>\n",
       "      <td>576</td>\n",
       "      <td>8820</td>\n",
       "      <td>174.47</td>\n",
       "    </tr>\n",
       "    <tr>\n",
       "      <th>2</th>\n",
       "      <td>*</td>\n",
       "      <td>Boston              MA</td>\n",
       "      <td>*</td>\n",
       "      <td>Baltimore/Wash Intl MD</td>\n",
       "      <td>1.06</td>\n",
       "      <td>3</td>\n",
       "      <td>No</td>\n",
       "      <td>No</td>\n",
       "      <td>9185.28</td>\n",
       "      <td>30124.0</td>\n",
       "      <td>29838.0</td>\n",
       "      <td>5787293</td>\n",
       "      <td>7145897</td>\n",
       "      <td>Free</td>\n",
       "      <td>Free</td>\n",
       "      <td>364</td>\n",
       "      <td>6452</td>\n",
       "      <td>207.76</td>\n",
       "    </tr>\n",
       "    <tr>\n",
       "      <th>3</th>\n",
       "      <td>ORD</td>\n",
       "      <td>Chicago             IL</td>\n",
       "      <td>*</td>\n",
       "      <td>Baltimore/Wash Intl MD</td>\n",
       "      <td>1.06</td>\n",
       "      <td>3</td>\n",
       "      <td>No</td>\n",
       "      <td>Yes</td>\n",
       "      <td>2657.35</td>\n",
       "      <td>29260.0</td>\n",
       "      <td>29838.0</td>\n",
       "      <td>7830332</td>\n",
       "      <td>7145897</td>\n",
       "      <td>Controlled</td>\n",
       "      <td>Free</td>\n",
       "      <td>612</td>\n",
       "      <td>25144</td>\n",
       "      <td>85.47</td>\n",
       "    </tr>\n",
       "    <tr>\n",
       "      <th>4</th>\n",
       "      <td>MDW</td>\n",
       "      <td>Chicago             IL</td>\n",
       "      <td>*</td>\n",
       "      <td>Baltimore/Wash Intl MD</td>\n",
       "      <td>1.06</td>\n",
       "      <td>3</td>\n",
       "      <td>No</td>\n",
       "      <td>Yes</td>\n",
       "      <td>2657.35</td>\n",
       "      <td>29260.0</td>\n",
       "      <td>29838.0</td>\n",
       "      <td>7830332</td>\n",
       "      <td>7145897</td>\n",
       "      <td>Free</td>\n",
       "      <td>Free</td>\n",
       "      <td>612</td>\n",
       "      <td>25144</td>\n",
       "      <td>85.47</td>\n",
       "    </tr>\n",
       "    <tr>\n",
       "      <th>5</th>\n",
       "      <td>*</td>\n",
       "      <td>Cleveland           OH</td>\n",
       "      <td>*</td>\n",
       "      <td>Baltimore/Wash Intl MD</td>\n",
       "      <td>1.01</td>\n",
       "      <td>3</td>\n",
       "      <td>No</td>\n",
       "      <td>Yes</td>\n",
       "      <td>3408.11</td>\n",
       "      <td>26046.0</td>\n",
       "      <td>29838.0</td>\n",
       "      <td>2230955</td>\n",
       "      <td>7145897</td>\n",
       "      <td>Free</td>\n",
       "      <td>Free</td>\n",
       "      <td>309</td>\n",
       "      <td>13386</td>\n",
       "      <td>56.76</td>\n",
       "    </tr>\n",
       "    <tr>\n",
       "      <th>6</th>\n",
       "      <td>*</td>\n",
       "      <td>Dallas/Fort Worth   TX</td>\n",
       "      <td>*</td>\n",
       "      <td>Baltimore/Wash Intl MD</td>\n",
       "      <td>1.28</td>\n",
       "      <td>3</td>\n",
       "      <td>No</td>\n",
       "      <td>No</td>\n",
       "      <td>6754.48</td>\n",
       "      <td>28637.0</td>\n",
       "      <td>29838.0</td>\n",
       "      <td>3036732</td>\n",
       "      <td>7145897</td>\n",
       "      <td>Free</td>\n",
       "      <td>Free</td>\n",
       "      <td>1220</td>\n",
       "      <td>4625</td>\n",
       "      <td>228.00</td>\n",
       "    </tr>\n",
       "    <tr>\n",
       "      <th>7</th>\n",
       "      <td>*</td>\n",
       "      <td>Fort Lauderdale     FL</td>\n",
       "      <td>*</td>\n",
       "      <td>Baltimore/Wash Intl MD</td>\n",
       "      <td>1.15</td>\n",
       "      <td>3</td>\n",
       "      <td>Yes</td>\n",
       "      <td>Yes</td>\n",
       "      <td>5584.00</td>\n",
       "      <td>26752.0</td>\n",
       "      <td>29838.0</td>\n",
       "      <td>1440377</td>\n",
       "      <td>7145897</td>\n",
       "      <td>Free</td>\n",
       "      <td>Free</td>\n",
       "      <td>921</td>\n",
       "      <td>5512</td>\n",
       "      <td>116.54</td>\n",
       "    </tr>\n",
       "    <tr>\n",
       "      <th>8</th>\n",
       "      <td>*</td>\n",
       "      <td>Houston             TX</td>\n",
       "      <td>*</td>\n",
       "      <td>Baltimore/Wash Intl MD</td>\n",
       "      <td>1.33</td>\n",
       "      <td>3</td>\n",
       "      <td>No</td>\n",
       "      <td>Yes</td>\n",
       "      <td>4662.44</td>\n",
       "      <td>27211.0</td>\n",
       "      <td>29838.0</td>\n",
       "      <td>3770125</td>\n",
       "      <td>7145897</td>\n",
       "      <td>Free</td>\n",
       "      <td>Free</td>\n",
       "      <td>1249</td>\n",
       "      <td>7811</td>\n",
       "      <td>172.63</td>\n",
       "    </tr>\n",
       "    <tr>\n",
       "      <th>9</th>\n",
       "      <td>*</td>\n",
       "      <td>Kansas City         MO</td>\n",
       "      <td>*</td>\n",
       "      <td>Baltimore/Wash Intl MD</td>\n",
       "      <td>1.60</td>\n",
       "      <td>2</td>\n",
       "      <td>No</td>\n",
       "      <td>Yes</td>\n",
       "      <td>2617.00</td>\n",
       "      <td>25450.0</td>\n",
       "      <td>29838.0</td>\n",
       "      <td>1694803</td>\n",
       "      <td>7145897</td>\n",
       "      <td>Free</td>\n",
       "      <td>Free</td>\n",
       "      <td>964</td>\n",
       "      <td>4657</td>\n",
       "      <td>114.76</td>\n",
       "    </tr>\n",
       "  </tbody>\n",
       "</table>\n",
       "</div>"
      ],
      "text/plain": [
       "  S_CODE                  S_CITY E_CODE                  E_CITY  COUPON  NEW  \\\n",
       "0      *  Dallas/Fort Worth   TX      *  Amarillo            TX    1.00    3   \n",
       "1      *  Atlanta             GA      *  Baltimore/Wash Intl MD    1.06    3   \n",
       "2      *  Boston              MA      *  Baltimore/Wash Intl MD    1.06    3   \n",
       "3    ORD  Chicago             IL      *  Baltimore/Wash Intl MD    1.06    3   \n",
       "4    MDW  Chicago             IL      *  Baltimore/Wash Intl MD    1.06    3   \n",
       "5      *  Cleveland           OH      *  Baltimore/Wash Intl MD    1.01    3   \n",
       "6      *  Dallas/Fort Worth   TX      *  Baltimore/Wash Intl MD    1.28    3   \n",
       "7      *  Fort Lauderdale     FL      *  Baltimore/Wash Intl MD    1.15    3   \n",
       "8      *  Houston             TX      *  Baltimore/Wash Intl MD    1.33    3   \n",
       "9      *  Kansas City         MO      *  Baltimore/Wash Intl MD    1.60    2   \n",
       "\n",
       "  VACATION   SW       HI  S_INCOME  E_INCOME    S_POP    E_POP        SLOT  \\\n",
       "0       No  Yes  5291.99   28637.0   21112.0  3036732   205711        Free   \n",
       "1       No   No  5419.16   26993.0   29838.0  3532657  7145897        Free   \n",
       "2       No   No  9185.28   30124.0   29838.0  5787293  7145897        Free   \n",
       "3       No  Yes  2657.35   29260.0   29838.0  7830332  7145897  Controlled   \n",
       "4       No  Yes  2657.35   29260.0   29838.0  7830332  7145897        Free   \n",
       "5       No  Yes  3408.11   26046.0   29838.0  2230955  7145897        Free   \n",
       "6       No   No  6754.48   28637.0   29838.0  3036732  7145897        Free   \n",
       "7      Yes  Yes  5584.00   26752.0   29838.0  1440377  7145897        Free   \n",
       "8       No  Yes  4662.44   27211.0   29838.0  3770125  7145897        Free   \n",
       "9       No  Yes  2617.00   25450.0   29838.0  1694803  7145897        Free   \n",
       "\n",
       "   GATE  DISTANCE    PAX    FARE  \n",
       "0  Free       312   7864   64.11  \n",
       "1  Free       576   8820  174.47  \n",
       "2  Free       364   6452  207.76  \n",
       "3  Free       612  25144   85.47  \n",
       "4  Free       612  25144   85.47  \n",
       "5  Free       309  13386   56.76  \n",
       "6  Free      1220   4625  228.00  \n",
       "7  Free       921   5512  116.54  \n",
       "8  Free      1249   7811  172.63  \n",
       "9  Free       964   4657  114.76  "
      ]
     },
     "execution_count": 49,
     "metadata": {},
     "output_type": "execute_result"
    }
   ],
   "source": [
    "air = pd.read_csv('Airfares.csv')\n",
    "air.head(10)"
   ]
  },
  {
   "cell_type": "code",
   "execution_count": 50,
   "id": "0181b17c",
   "metadata": {},
   "outputs": [
    {
     "data": {
      "text/plain": [
       "S_CODE       object\n",
       "S_CITY       object\n",
       "E_CODE       object\n",
       "E_CITY       object\n",
       "COUPON      float64\n",
       "NEW           int64\n",
       "VACATION     object\n",
       "SW           object\n",
       "HI          float64\n",
       "S_INCOME    float64\n",
       "E_INCOME    float64\n",
       "S_POP         int64\n",
       "E_POP         int64\n",
       "SLOT         object\n",
       "GATE         object\n",
       "DISTANCE      int64\n",
       "PAX           int64\n",
       "FARE        float64\n",
       "dtype: object"
      ]
     },
     "execution_count": 50,
     "metadata": {},
     "output_type": "execute_result"
    }
   ],
   "source": [
    "air.dtypes"
   ]
  },
  {
   "cell_type": "markdown",
   "id": "cd86d732",
   "metadata": {},
   "source": [
    "#### a"
   ]
  },
  {
   "cell_type": "code",
   "execution_count": 51,
   "id": "5353cba8",
   "metadata": {},
   "outputs": [],
   "source": [
    "air_num = air[['COUPON','NEW','HI', 'S_INCOME', 'E_INCOME', 'S_POP', 'E_POP', 'DISTANCE', 'PAX', 'FARE']] # 수치형변수"
   ]
  },
  {
   "cell_type": "code",
   "execution_count": 52,
   "id": "72770a0b",
   "metadata": {},
   "outputs": [
    {
     "data": {
      "image/png": "[encoded data removed]",
      "text/plain": [
       "<Figure size 576x576 with 2 Axes>"
      ]
     },
     "metadata": {
      "needs_background": "light"
     },
     "output_type": "display_data"
    }
   ],
   "source": [
    "## 운임에 대한 상관관계 표\n",
    "corr = air_num.corr(method=\"pearson\")\n",
    "\n",
    "import seaborn as sns\n",
    "\n",
    "fig, ax= plt.subplots()\n",
    "fig.set_size_inches(8,8)\n",
    "\n",
    "df_heatmap = sns.heatmap(corr, cbar = True, \n",
    "                         annot = True, annot_kws={'size' : 15}, \n",
    "                         fmt = '.2f', square = True, cmap = 'Blues')"
   ]
  },
  {
   "cell_type": "code",
   "execution_count": 53,
   "id": "0534034d",
   "metadata": {},
   "outputs": [],
   "source": [
    "##운임과 예측변수들 사이의 산점도 그리기"
   ]
  },
  {
   "cell_type": "code",
   "execution_count": 54,
   "id": "3acb8ea3",
   "metadata": {},
   "outputs": [
    {
     "data": {
      "image/png": "[encoded data removed]",
      "text/plain": [
       "<Figure size 720x576 with 9 Axes>"
      ]
     },
     "metadata": {
      "needs_background": "light"
     },
     "output_type": "display_data"
    }
   ],
   "source": [
    "fig, axes = plt.subplots(nrows=3, ncols=3, figsize=(10,8))\n",
    "lst =[['COUPON', 'NEW', 'HI'], ['S_INCOME', 'E_INCOME', 'S_POP'], ['E_POP', 'DISTANCE', 'PAX']]\n",
    "for i in range(0,3):\n",
    "    for j in range(0,3):\n",
    "        ax = air_num.plot.scatter(x=lst[i][j], y='FARE', ax=axes[i][j])\n",
    "        ax.set_xlabel(lst[i][j])\n",
    "        if i == 2 and j == 2:\n",
    "            break\n",
    "plt.tight_layout()\n",
    "plt.show()"
   ]
  },
  {
   "cell_type": "markdown",
   "id": "28968f17",
   "metadata": {},
   "source": [
    "distance가 운임을 예측하는데에 최적의 변수로 보인다."
   ]
  },
  {
   "cell_type": "markdown",
   "id": "00e390b9",
   "metadata": {},
   "source": [
    "#### b"
   ]
  },
  {
   "cell_type": "code",
   "execution_count": 55,
   "id": "fd03875e",
   "metadata": {},
   "outputs": [
    {
     "name": "stdout",
     "output_type": "stream",
     "text": [
      "vacation 사이즈> \n",
      "\n",
      " VACATION\n",
      "No     468\n",
      "Yes    170\n",
      "dtype: int64 \n",
      "\n",
      "sw 사이즈> \n",
      "\n",
      " SW\n",
      "No     444\n",
      "Yes    194\n",
      "dtype: int64 \n",
      "\n",
      "slot 사이즈> \n",
      "\n",
      " SLOT\n",
      "Controlled    182\n",
      "Free          456\n",
      "dtype: int64 \n",
      "\n",
      "gate 사이즈> \n",
      "\n",
      " GATE\n",
      "Constrained    124\n",
      "Free           514\n",
      "dtype: int64\n"
     ]
    }
   ],
   "source": [
    "air_class = air[['VACATION', 'SW', 'SLOT', 'GATE', 'FARE']]\n",
    "print('vacation 사이즈> \\n\\n' ,air_class.groupby('VACATION').size(), '\\n')\n",
    "print('sw 사이즈> \\n\\n' ,air_class.groupby('SW').size(), '\\n')\n",
    "print('slot 사이즈> \\n\\n' ,air_class.groupby('SLOT').size(), '\\n')\n",
    "print('gate 사이즈> \\n\\n' ,air_class.groupby('GATE').size())"
   ]
  },
  {
   "cell_type": "code",
   "execution_count": 56,
   "id": "1bc58bb9",
   "metadata": {},
   "outputs": [],
   "source": [
    "vacation_no=air_class[air_class['VACATION']=='No'].FARE.mean()\n",
    "vacation_yes=air_class[air_class['VACATION']=='Yes'].FARE.mean()\n",
    "\n",
    "sw_no=air_class[air_class['SW']=='No'].FARE.mean()\n",
    "sw_yes=air_class[air_class['SW']=='Yes'].FARE.mean()\n",
    "\n",
    "slot_con=air_class[air_class['SLOT']=='Controlled'].FARE.mean()\n",
    "slot_free=air_class[air_class['SLOT']=='Free'].FARE.mean()\n",
    "\n",
    "\n",
    "gate_con=air_class[air_class['GATE']=='Constrained'].FARE.mean()\n",
    "gate_free=air_class[air_class['GATE']=='Free'].FARE.mean()"
   ]
  },
  {
   "cell_type": "code",
   "execution_count": 57,
   "id": "d6510dd3",
   "metadata": {},
   "outputs": [
    {
     "data": {
      "text/html": [
       "<div>\n",
       "<style scoped>\n",
       "    .dataframe tbody tr th:only-of-type {\n",
       "        vertical-align: middle;\n",
       "    }\n",
       "\n",
       "    .dataframe tbody tr th {\n",
       "        vertical-align: top;\n",
       "    }\n",
       "\n",
       "    .dataframe thead th {\n",
       "        text-align: right;\n",
       "    }\n",
       "</style>\n",
       "<table border=\"1\" class=\"dataframe\">\n",
       "  <thead>\n",
       "    <tr style=\"text-align: right;\">\n",
       "      <th></th>\n",
       "      <th>vacation_no</th>\n",
       "      <th>vacation_yes</th>\n",
       "      <th>sw_no</th>\n",
       "      <th>sw_yes</th>\n",
       "      <th>slot_con</th>\n",
       "      <th>slot_free</th>\n",
       "      <th>gate_con</th>\n",
       "      <th>gate_free</th>\n",
       "    </tr>\n",
       "  </thead>\n",
       "  <tbody>\n",
       "    <tr>\n",
       "      <th>0</th>\n",
       "      <td>0.733542</td>\n",
       "      <td>0.266458</td>\n",
       "      <td>0.695925</td>\n",
       "      <td>0.304075</td>\n",
       "      <td>0.285266</td>\n",
       "      <td>0.714734</td>\n",
       "      <td>0.194357</td>\n",
       "      <td>0.805643</td>\n",
       "    </tr>\n",
       "    <tr>\n",
       "      <th>1</th>\n",
       "      <td>173.552500</td>\n",
       "      <td>125.980882</td>\n",
       "      <td>188.182793</td>\n",
       "      <td>98.382268</td>\n",
       "      <td>186.059396</td>\n",
       "      <td>150.825680</td>\n",
       "      <td>193.129032</td>\n",
       "      <td>153.095953</td>\n",
       "    </tr>\n",
       "  </tbody>\n",
       "</table>\n",
       "</div>"
      ],
      "text/plain": [
       "   vacation_no  vacation_yes       sw_no     sw_yes    slot_con   slot_free  \\\n",
       "0     0.733542      0.266458    0.695925   0.304075    0.285266    0.714734   \n",
       "1   173.552500    125.980882  188.182793  98.382268  186.059396  150.825680   \n",
       "\n",
       "     gate_con   gate_free  \n",
       "0    0.194357    0.805643  \n",
       "1  193.129032  153.095953  "
      ]
     },
     "execution_count": 57,
     "metadata": {},
     "output_type": "execute_result"
    }
   ],
   "source": [
    "data = {'vacation_no': [468/638,vacation_no], \n",
    "        'vacation_yes':[(170/638),vacation_yes],\n",
    "        'sw_no':[444/638,sw_no],\n",
    "        'sw_yes':[(638-444)/638,sw_yes],\n",
    "        'slot_con':[182/638,slot_con],\n",
    "        'slot_free':[456/638,slot_free],\n",
    "        'gate_con':[124/638,gate_con],\n",
    "        'gate_free':[514/638,gate_free]\n",
    "       }\n",
    "df = pd.DataFrame(data)\n",
    "df # 첫 행은 각각의 백분율 , 두번째 행은 평균 운임을 보여줌"
   ]
  },
  {
   "cell_type": "markdown",
   "id": "7fc0299d",
   "metadata": {},
   "source": [
    "SW 변수가 범주 다른 것에 따라 운임료 차이가 가장 많이나는 것을 보아서 운임을 예측하는데 가장 좋은 예측변수인 것 같다."
   ]
  },
  {
   "cell_type": "code",
   "execution_count": 59,
   "id": "1c9512be",
   "metadata": {},
   "outputs": [
    {
     "name": "stdout",
     "output_type": "stream",
     "text": [
      "                FARE\n",
      "VACATION            \n",
      "No        173.552500\n",
      "Yes       125.980882\n",
      "           FARE\n",
      "SW             \n",
      "No   188.182793\n",
      "Yes   98.382268\n",
      "                  FARE\n",
      "SLOT                  \n",
      "Controlled  186.059396\n",
      "Free        150.825680\n",
      "                   FARE\n",
      "GATE                   \n",
      "Constrained  193.129032\n",
      "Free         153.095953\n"
     ]
    }
   ],
   "source": [
    "####### 다른 방법으로 평균과 백분율 구하기\n",
    "\n",
    "b_df=air_class[[\"VACATION\",\"SW\",\"SLOT\",\"GATE\",\"FARE\"]]\n",
    "lst=[\"VACATION\",\"SW\",\"SLOT\",\"GATE\"]\n",
    "for i in lst:\n",
    "    print(b_df.groupby(i).mean())"
   ]
  },
  {
   "cell_type": "markdown",
   "id": "fb1ed734",
   "metadata": {},
   "source": [
    "#### c"
   ]
  },
  {
   "cell_type": "markdown",
   "id": "2c01122e",
   "metadata": {},
   "source": [
    "##### 1"
   ]
  },
  {
   "cell_type": "code",
   "execution_count": 60,
   "id": "073349a0",
   "metadata": {},
   "outputs": [
    {
     "data": {
      "text/plain": [
       "LinearRegression()"
      ]
     },
     "execution_count": 60,
     "metadata": {},
     "output_type": "execute_result"
    }
   ],
   "source": [
    "predictors= ['COUPON', 'NEW', 'VACATION', 'SW', 'HI', 'S_INCOME', 'E_INCOME', 'S_POP', 'E_POP', 'SLOT', 'GATE', 'DISTANCE', 'PAX']\n",
    "outcome='FARE'\n",
    "\n",
    "X = pd.get_dummies(air[predictors], drop_first=True) # 범주형 변수 가변수로 변환\n",
    "y = air[outcome]\n",
    "\n",
    "train_X, valid_X, train_y, valid_y = train_test_split(X, y, test_size=0.4, random_state=1) # 학습세트와 검증세트로 분할 \n",
    "air_lm = LinearRegression()\n",
    "air_lm.fit(train_X, train_y) #학습세트에 대해 모델 적합"
   ]
  },
  {
   "cell_type": "code",
   "execution_count": 61,
   "id": "f5573589",
   "metadata": {},
   "outputs": [
    {
     "name": "stdout",
     "output_type": "stream",
     "text": [
      "adjusted r2 : 0.7777314391756964\n",
      "AIC : 2591.261260459084\n",
      "BIC : 2644.4389221262772\n"
     ]
    }
   ],
   "source": [
    "# 검증세트에 대해 평가\n",
    "air_pred = air_lm.predict(valid_X)\n",
    "\n",
    "print(\"adjusted r2 :\", adjusted_r2_score(valid_y, air_pred, air_lm))\n",
    "print(\"AIC :\", AIC_score(valid_y, air_pred, air_lm))\n",
    "print(\"BIC :\", BIC_score(valid_y, air_pred, air_lm))"
   ]
  },
  {
   "cell_type": "markdown",
   "id": "ebb1814c",
   "metadata": {},
   "source": [
    "##### 2"
   ]
  },
  {
   "cell_type": "code",
   "execution_count": 62,
   "id": "1dba187b",
   "metadata": {},
   "outputs": [],
   "source": [
    "## 예측변수를 줄이기 위해 단계적 회귀\n",
    "def train_model(variables):\n",
    "    if len(variables) == 0:\n",
    "        return None\n",
    "    model = LinearRegression()\n",
    "    model.fit(train_X[variables], train_y)\n",
    "    return model\n",
    "\n",
    "def score_model(model, variables):\n",
    "    if len(variables) == 0:\n",
    "        return AIC_score(train_y, [train_y.mean()] * len(train_y), model, df=1)\n",
    "    return AIC_score(train_y, model.predict(train_X[variables]), model)"
   ]
  },
  {
   "cell_type": "code",
   "execution_count": 63,
   "id": "8dd49fdf",
   "metadata": {},
   "outputs": [
    {
     "name": "stdout",
     "output_type": "stream",
     "text": [
      "Variables: COUPON, NEW, HI, S_INCOME, E_INCOME, S_POP, E_POP, DISTANCE, PAX, VACATION_Yes, SW_Yes, SLOT_Free, GATE_Free\n",
      "Start: score=4379.42, constant\n",
      "Step: score=4149.88, add DISTANCE\n",
      "Step: score=4025.89, add SW_Yes\n",
      "Step: score=3913.59, add VACATION_Yes\n",
      "Step: score=3890.27, add HI\n",
      "Step: score=3873.33, add GATE_Free\n",
      "Step: score=3852.81, add SLOT_Free\n",
      "Step: score=3850.30, add PAX\n",
      "Step: score=3844.58, add E_POP\n",
      "Step: score=3826.43, add S_POP\n",
      "Step: score=3821.88, add E_INCOME\n",
      "Step: score=3821.88, unchanged None\n",
      "['DISTANCE', 'SW_Yes', 'VACATION_Yes', 'HI', 'GATE_Free', 'SLOT_Free', 'PAX', 'E_POP', 'S_POP', 'E_INCOME']\n"
     ]
    }
   ],
   "source": [
    "best_model, best_variables = stepwise_selection(train_X.columns, train_model, score_model, verbose=True)\n",
    "\n",
    "print(best_variables)"
   ]
  },
  {
   "cell_type": "markdown",
   "id": "61149607",
   "metadata": {},
   "source": [
    "##### 3"
   ]
  },
  {
   "cell_type": "code",
   "execution_count": 64,
   "id": "4f88c4b8",
   "metadata": {},
   "outputs": [
    {
     "name": "stdout",
     "output_type": "stream",
     "text": [
      "     n     r2adj          AIC  COUPON  DISTANCE  E_INCOME  E_POP  GATE_Free     HI    NEW    PAX  \\\n",
      "0    1  0.453107  4149.881509   False      True     False  False      False  False  False  False   \n",
      "1    2  0.605715  4025.892420   False      True     False  False      False  False  False  False   \n",
      "2    3  0.706909  3913.585125   False      True     False  False      False  False  False  False   \n",
      "3    4  0.724977  3890.268211   False      True     False  False      False   True  False  False   \n",
      "4    5  0.737584  3873.328296   False      True     False  False       True   True  False  False   \n",
      "5    6  0.751947  3852.808698   False      True     False  False       True   True  False  False   \n",
      "6    7  0.758747  3843.170960   False      True     False   True      False   True  False   True   \n",
      "7    8  0.765105  3833.945866   False      True     False   True       True   True  False   True   \n",
      "8    9  0.770266  3826.433471   False      True     False   True       True   True  False   True   \n",
      "9   10  0.773567  3821.876901   False      True      True   True       True   True  False   True   \n",
      "10  11  0.773595  3822.798222   False      True      True   True       True   True  False   True   \n",
      "11  12  0.773559  3823.825398   False      True      True   True       True   True   True   True   \n",
      "12  13  0.773292  3825.237680    True      True      True   True       True   True   True   True   \n",
      "\n",
      "    SLOT_Free  SW_Yes  S_INCOME  S_POP  VACATION_Yes  \n",
      "0       False   False     False  False         False  \n",
      "1       False    True     False  False         False  \n",
      "2       False    True     False  False          True  \n",
      "3       False    True     False  False          True  \n",
      "4       False    True     False  False          True  \n",
      "5        True    True     False  False          True  \n",
      "6       False    True     False   True          True  \n",
      "7       False    True     False   True          True  \n",
      "8        True    True     False   True          True  \n",
      "9        True    True     False   True          True  \n",
      "10       True    True      True   True          True  \n",
      "11       True    True      True   True          True  \n",
      "12       True    True      True   True          True  \n"
     ]
    }
   ],
   "source": [
    "## 전역탐색 \n",
    "def train_model(variables):\n",
    "    model = LinearRegression()\n",
    "    model.fit(train_X[variables], train_y)\n",
    "    return model\n",
    "\n",
    "def score_model(model, variables):\n",
    "    pred_y = model.predict(train_X[variables])\n",
    "    # we negate as score is optimized to be as low as possible\n",
    "    return -adjusted_r2_score(train_y, pred_y, model)\n",
    "\n",
    "allVariables = train_X.columns\n",
    "results = exhaustive_search(allVariables, train_model, score_model)\n",
    "\n",
    "data = []\n",
    "for result in results:\n",
    "    model = result['model']\n",
    "    variables = result['variables']\n",
    "    AIC = AIC_score(train_y, model.predict(train_X[variables]), model)\n",
    "    \n",
    "    d = {'n': result['n'], 'r2adj': -result['score'], 'AIC': AIC}\n",
    "    d.update({var: var in result['variables'] for var in allVariables})\n",
    "    data.append(d)\n",
    "pd.set_option('display.width', 100)\n",
    "print(pd.DataFrame(data, columns=('n', 'r2adj', 'AIC') + tuple(sorted(allVariables))))\n",
    "pd.reset_option('display.width')"
   ]
  },
  {
   "cell_type": "markdown",
   "id": "0db4915a",
   "metadata": {},
   "source": [
    "r^2의 값이 증가하다가 안정된 형태가 되는 순간이며 단계적으로 얻은 것과 동일함"
   ]
  },
  {
   "cell_type": "markdown",
   "id": "aa84d157",
   "metadata": {},
   "source": [
    "##### 4"
   ]
  },
  {
   "cell_type": "code",
   "execution_count": 65,
   "id": "7726b3a0",
   "metadata": {},
   "outputs": [
    {
     "name": "stdout",
     "output_type": "stream",
     "text": [
      "\n",
      "Regression statistics\n",
      "\n",
      "                      Mean Error (ME) : -1.8231\n",
      "       Root Mean Squared Error (RMSE) : 36.0002\n",
      "            Mean Absolute Error (MAE) : 28.5002\n",
      "          Mean Percentage Error (MPE) : -6.6037\n",
      "Mean Absolute Percentage Error (MAPE) : 21.6048\n"
     ]
    }
   ],
   "source": [
    "airfare_pred = model.predict(valid_X) \n",
    "regressionSummary(valid_y, airfare_pred) #RMSE와 평균오차를 얻음"
   ]
  },
  {
   "cell_type": "code",
   "execution_count": 66,
   "id": "5972b331",
   "metadata": {},
   "outputs": [
    {
     "data": {
      "image/png": "[encoded data removed]",
      "text/plain": [
       "<Figure size 432x288 with 1 Axes>"
      ]
     },
     "metadata": {
      "needs_background": "light"
     },
     "output_type": "display_data"
    }
   ],
   "source": [
    "airfare_residuals = valid_y - airfare_pred\n",
    "\n",
    "ax = pd.DataFrame({\"Residuals\":airfare_residuals}).hist() #잔차히스토그램 얻음\n",
    "plt.tight_layout()\n",
    "plt.show()"
   ]
  },
  {
   "cell_type": "markdown",
   "id": "cb20ce48",
   "metadata": {},
   "source": [
    "##### 5"
   ]
  },
  {
   "cell_type": "code",
   "execution_count": 67,
   "id": "87674654",
   "metadata": {},
   "outputs": [
    {
     "name": "stdout",
     "output_type": "stream",
     "text": [
      "Predicted:  [122720.139013]\n"
     ]
    }
   ],
   "source": [
    "airfare_pred3 = model.predict([[1202, 3, 0, 0, 4442.141, 28760, 27644, 4557004, 3195503, 1, 1, 12782, 1976 ]])\n",
    "print(\"Predicted: \", airfare_pred3)"
   ]
  },
  {
   "cell_type": "markdown",
   "id": "877587b5",
   "metadata": {},
   "source": [
    "##### 6"
   ]
  },
  {
   "cell_type": "code",
   "execution_count": 68,
   "id": "9b6deb77",
   "metadata": {},
   "outputs": [
    {
     "name": "stdout",
     "output_type": "stream",
     "text": [
      "intercept  52.97284313801684\n",
      "\n",
      "       Predictor  coefficient\n",
      "0         COUPON   -11.744039\n",
      "1            NEW    -2.508229\n",
      "2             HI     0.006876\n",
      "3       S_INCOME     0.000626\n",
      "4       E_INCOME     0.001247\n",
      "5          S_POP     0.000004\n",
      "6          E_POP     0.000004\n",
      "7       DISTANCE     0.077822\n",
      "8            PAX    -0.000916\n",
      "9   VACATION_Yes   -35.206099\n",
      "10        SW_Yes   -42.157140\n",
      "11     SLOT_Free   -13.533183\n",
      "12     GATE_Free   -21.185849\n"
     ]
    }
   ],
   "source": [
    "print('intercept ', model.intercept_)\n",
    "print()\n",
    "print(pd.DataFrame({'Predictor': X.columns, 'coefficient': model.coef_}))"
   ]
  },
  {
   "cell_type": "markdown",
   "id": "5ac691ee",
   "metadata": {},
   "source": [
    "SW_Yes의 회귀계수는 -42.157\n",
    "\n",
    "따라서 사우스웨스트사가 이 노선을 운행할 때 SW_Yes=1이며 이 노선의 평균 운임 감소율은 -42.157만큼 감소한다."
   ]
  },
  {
   "cell_type": "markdown",
   "id": "2a94e3d4",
   "metadata": {},
   "source": [
    "##### 7"
   ]
  },
  {
   "cell_type": "markdown",
   "id": "24ec4244",
   "metadata": {},
   "source": [
    "PAX: 신규공항이므로 해당 노선 승객수 측정 x\n",
    "HI: 신규공항이므로 시장 점유율 측정 x\n",
    "비슷한 규모, 도시의 공항들과 비슷한 노선들을 연구해서 예측하거나 중앙값으로 대체해서 예측\n",
    "혹은 정확한 평균 운임을 예측하기 위해 제외하고 분석한다."
   ]
  },
  {
   "cell_type": "markdown",
   "id": "adb2cba3",
   "metadata": {},
   "source": [
    "##### 8"
   ]
  },
  {
   "cell_type": "code",
   "execution_count": 69,
   "id": "10f58464",
   "metadata": {},
   "outputs": [
    {
     "data": {
      "text/plain": [
       "LinearRegression()"
      ]
     },
     "execution_count": 69,
     "metadata": {},
     "output_type": "execute_result"
    }
   ],
   "source": [
    "predictors_new= ['COUPON', 'NEW', 'VACATION', 'SW', 'S_INCOME', 'E_INCOME', 'S_POP', 'E_POP', 'SLOT', 'GATE', 'DISTANCE']\n",
    "outcome=['FARE']\n",
    "X = pd.get_dummies(air[predictors_new], drop_first=True)\n",
    "y = air[outcome]\n",
    "train_X, valid_X, train_y, valid_y = train_test_split(X, y, test_size=0.4, random_state=1)\n",
    "model = LinearRegression()\n",
    "model.fit(train_X, train_y)"
   ]
  },
  {
   "cell_type": "code",
   "execution_count": 70,
   "id": "88ef2dd7",
   "metadata": {},
   "outputs": [],
   "source": [
    "def train_model(variables):\n",
    "    model = LinearRegression()\n",
    "    model.fit(train_X[variables], train_y)\n",
    "    return model\n",
    "\n",
    "def score_model(model, variables):\n",
    "    pred_y = model.predict(train_X[variables])\n",
    "    # we negate as score is optimized to be as low as possible\n",
    "    return -adjusted_r2_score(train_y, pred_y, model)"
   ]
  },
  {
   "cell_type": "code",
   "execution_count": 71,
   "id": "ff0d0a38",
   "metadata": {},
   "outputs": [],
   "source": [
    "allVariables = train_X.columns\n",
    "results = exhaustive_search(allVariables, train_model, score_model)"
   ]
  },
  {
   "cell_type": "code",
   "execution_count": 72,
   "id": "9be004e0",
   "metadata": {},
   "outputs": [
    {
     "name": "stdout",
     "output_type": "stream",
     "text": [
      "     n     r2adj          AIC  COUPON  DISTANCE  E_INCOME  E_POP  GATE_Free    NEW  SLOT_Free  \\\n",
      "0    1  0.453107  4149.881509   False      True     False  False      False  False      False   \n",
      "1    2  0.606753  4023.892420   False      True     False  False      False  False      False   \n",
      "2    3  0.708452  3909.585125   False      True     False  False      False  False      False   \n",
      "3    4  0.722611  3890.568278   False      True     False  False       True  False      False   \n",
      "4    5  0.730178  3880.002676   False      True     False  False       True  False       True   \n",
      "5    6  0.735468  3872.437877   False      True      True  False       True  False       True   \n",
      "6    7  0.736180  3871.409559   False      True      True  False       True  False       True   \n",
      "7    8  0.737322  3869.751454   False      True      True   True       True  False       True   \n",
      "8    9  0.737476  3869.527665   False      True      True   True       True   True       True   \n",
      "9   10  0.737535  3869.442315   False      True      True   True       True   True       True   \n",
      "10  11  0.737562  3869.402492    True      True      True   True       True   True       True   \n",
      "\n",
      "    SW_Yes  S_INCOME  S_POP  VACATION_Yes  \n",
      "0    False     False  False         False  \n",
      "1     True     False  False         False  \n",
      "2     True     False  False          True  \n",
      "3     True     False  False          True  \n",
      "4     True     False  False          True  \n",
      "5     True     False  False          True  \n",
      "6     True     False   True          True  \n",
      "7     True     False   True          True  \n",
      "8     True     False   True          True  \n",
      "9     True      True   True          True  \n",
      "10    True      True   True          True  \n"
     ]
    }
   ],
   "source": [
    "data = []\n",
    "for result in results:\n",
    "    model = result['model']\n",
    "    variables = result['variables']\n",
    "    AIC = AIC_score(train_y, model.predict(train_X[variables]), model)\n",
    "    \n",
    "    d = {'n': result['n'], 'r2adj': -result['score'], 'AIC': AIC}\n",
    "    d.update({var: var in result['variables'] for var in allVariables})\n",
    "    data.append(d)\n",
    "pd.set_option('display.width', 100)\n",
    "print(pd.DataFrame(data, columns=('n', 'r2adj', 'AIC') + tuple(sorted(allVariables))))\n",
    "pd.reset_option('display.width')"
   ]
  },
  {
   "cell_type": "markdown",
   "id": "38b3f602",
   "metadata": {},
   "source": [
    "##### 9"
   ]
  },
  {
   "cell_type": "code",
   "execution_count": 73,
   "id": "29db25eb",
   "metadata": {},
   "outputs": [
    {
     "name": "stdout",
     "output_type": "stream",
     "text": [
      "Predicted:  [[-1.47915671e+08]]\n"
     ]
    }
   ],
   "source": [
    "airfare_p = model.predict([[1202, 3, 0, 0, 28760, 27644, 4557004, 3195503, 1, 1, 1976 ]])\n",
    "print(\"Predicted: \", airfare_p)"
   ]
  },
  {
   "cell_type": "markdown",
   "id": "f9a261d7",
   "metadata": {},
   "source": [
    "##### 10"
   ]
  },
  {
   "cell_type": "code",
   "execution_count": 74,
   "id": "ea62b762",
   "metadata": {},
   "outputs": [
    {
     "name": "stdout",
     "output_type": "stream",
     "text": [
      "\n",
      "Regression statistics\n",
      "\n",
      "                      Mean Error (ME) : -0.6760\n",
      "       Root Mean Squared Error (RMSE) : 40.1840\n",
      "            Mean Absolute Error (MAE) : 32.0136\n",
      "          Mean Percentage Error (MPE) : -6.9218\n",
      "Mean Absolute Percentage Error (MAPE) : 23.5013\n"
     ]
    }
   ],
   "source": [
    "airfare_pred_new = model.predict(valid_X)\n",
    "regressionSummary(valid_y, airfare_pred_new)"
   ]
  },
  {
   "cell_type": "code",
   "execution_count": 75,
   "id": "7ddf2fd9",
   "metadata": {},
   "outputs": [
    {
     "name": "stdout",
     "output_type": "stream",
     "text": [
      "adjusted r2 : 0.7361507541696652\n",
      "AIC : 2623.552603359547\n",
      "BIC : 2634.1881356929857\n"
     ]
    }
   ],
   "source": [
    "airfare_pred_new = model.predict(valid_X)\n",
    "print(\"adjusted r2 :\", adjusted_r2_score(valid_y, airfare_pred_new, model))\n",
    "print(\"AIC :\", AIC_score(valid_y, airfare_pred_new, model))\n",
    "print(\"BIC :\", BIC_score(valid_y, airfare_pred_new, model))"
   ]
  },
  {
   "cell_type": "markdown",
   "id": "97afaf6e",
   "metadata": {},
   "source": [
    "#### d"
   ]
  },
  {
   "cell_type": "markdown",
   "id": "a40c1e8c",
   "metadata": {},
   "source": [
    "데이터 분할을 할 필요가 없다."
   ]
  },
  {
   "cell_type": "markdown",
   "id": "86879b4d",
   "metadata": {},
   "source": [
    "## 6.4"
   ]
  },
  {
   "cell_type": "code",
   "execution_count": 76,
   "id": "44795e88",
   "metadata": {},
   "outputs": [],
   "source": [
    "toyota = pd.read_csv('ToyotaCorolla.csv')"
   ]
  },
  {
   "cell_type": "code",
   "execution_count": 77,
   "id": "e7597a88",
   "metadata": {},
   "outputs": [],
   "source": [
    "toyota = toyota.copy()\n",
    "toyota = pd.get_dummies(toyota, columns=[\"Fuel_Type\"], prefix_sep='_', drop_first = True) \n",
    "## Fuel_Type object라 가변수로 변환 뒤 적용"
   ]
  },
  {
   "cell_type": "code",
   "execution_count": 78,
   "id": "dc0906b1",
   "metadata": {},
   "outputs": [
    {
     "data": {
      "text/plain": [
       "Id                    int64\n",
       "Model                object\n",
       "Price                 int64\n",
       "Age_08_04             int64\n",
       "Mfg_Month             int64\n",
       "Mfg_Year              int64\n",
       "KM                    int64\n",
       "HP                    int64\n",
       "Met_Color             int64\n",
       "Color                object\n",
       "Automatic             int64\n",
       "CC                    int64\n",
       "Doors                 int64\n",
       "Cylinders             int64\n",
       "Gears                 int64\n",
       "Quarterly_Tax         int64\n",
       "Weight                int64\n",
       "Mfr_Guarantee         int64\n",
       "BOVAG_Guarantee       int64\n",
       "Guarantee_Period      int64\n",
       "ABS                   int64\n",
       "Airbag_1              int64\n",
       "Airbag_2              int64\n",
       "Airco                 int64\n",
       "Automatic_airco       int64\n",
       "Boardcomputer         int64\n",
       "CD_Player             int64\n",
       "Central_Lock          int64\n",
       "Powered_Windows       int64\n",
       "Power_Steering        int64\n",
       "Radio                 int64\n",
       "Mistlamps             int64\n",
       "Sport_Model           int64\n",
       "Backseat_Divider      int64\n",
       "Metallic_Rim          int64\n",
       "Radio_cassette        int64\n",
       "Parking_Assistant     int64\n",
       "Tow_Bar               int64\n",
       "Fuel_Type_Diesel      uint8\n",
       "Fuel_Type_Petrol      uint8\n",
       "dtype: object"
      ]
     },
     "execution_count": 78,
     "metadata": {},
     "output_type": "execute_result"
    }
   ],
   "source": [
    "toyota.dtypes"
   ]
  },
  {
   "cell_type": "code",
   "execution_count": 79,
   "id": "130cee55",
   "metadata": {},
   "outputs": [],
   "source": [
    "predictors = ['Age_08_04',  'KM', 'Fuel_Type_Diesel', 'Fuel_Type_Petrol', 'HP', 'Automatic', 'Doors',\n",
    "             'Quarterly_Tax', 'Mfr_Guarantee', 'Guarantee_Period', 'Airco', 'Automatic_airco', 'CD_Player', \n",
    "              'Powered_Windows', 'Sport_Model', 'Tow_Bar']\n",
    "outcome = \"Price\"\n",
    "\n",
    "X = pd.get_dummies(toyota[predictors], drop_first=True)\n",
    "y = toyota[outcome]"
   ]
  },
  {
   "cell_type": "markdown",
   "id": "7c65a75f",
   "metadata": {},
   "source": [
    "#### a"
   ]
  },
  {
   "cell_type": "code",
   "execution_count": 80,
   "id": "3c267375",
   "metadata": {},
   "outputs": [
    {
     "name": "stdout",
     "output_type": "stream",
     "text": [
      "intercept :  8285.39834941601\n",
      "          Predictors  Coefficient\n",
      "0          Age_08_04  -111.220280\n",
      "1                 KM    -0.016265\n",
      "2   Fuel_Type_Diesel  2313.076450\n",
      "3   Fuel_Type_Petrol  3145.575719\n",
      "4                 HP    32.069859\n",
      "5          Automatic   536.593712\n",
      "6              Doors   130.936305\n",
      "7      Quarterly_Tax    21.689746\n",
      "8      Mfr_Guarantee   216.361361\n",
      "9   Guarantee_Period    91.314854\n",
      "10             Airco    62.256902\n",
      "11   Automatic_airco  3184.704838\n",
      "12         CD_Player   247.676882\n",
      "13   Powered_Windows   492.718042\n",
      "14       Sport_Model   349.905657\n",
      "15           Tow_Bar  -180.733479\n"
     ]
    }
   ],
   "source": [
    "# train:valid:test = 6:2;2로 나눔\n",
    "train_X, test_X, train_y, test_y = train_test_split(X, y, test_size=0.2, random_state=1)\n",
    "# X랑 y를 train: test=8:2로 나눔\n",
    "train_X, valid_X, train_y, valid_y = train_test_split(train_X, train_y, test_size=0.25, random_state=1)\n",
    "# 8에 해당하는 train을 또 train:valid=3:1 (0.75:0.25)로 나눠지고 이후 6:2로 나눠지게 됨\n",
    "\n",
    "model=LinearRegression()\n",
    "model.fit(train_X, train_y)\n",
    "\n",
    "print(\"intercept : \", model.intercept_)\n",
    "print(pd.DataFrame({\"Predictors\": X.columns, \"Coefficient\": model.coef_}))"
   ]
  },
  {
   "cell_type": "code",
   "execution_count": 81,
   "id": "185e813c",
   "metadata": {},
   "outputs": [],
   "source": [
    "## 가장 중요한 변수를 찾기위해 전역탐색 이용\n",
    "def train_model(variables):\n",
    "    model = LinearRegression()\n",
    "    model.fit(train_X[variables], train_y)\n",
    "    return model\n",
    "\n",
    "def score_model(model, variables):\n",
    "    pred_y = model.predict(train_X[variables])\n",
    "    # we negate as score is optimized to be as low as possible\n",
    "    return -adjusted_r2_score(train_y, pred_y, model)"
   ]
  },
  {
   "cell_type": "code",
   "execution_count": 82,
   "id": "12680ef7",
   "metadata": {},
   "outputs": [],
   "source": [
    "allVariables = train_X.columns\n",
    "results = exhaustive_search(allVariables, train_model, score_model)"
   ]
  },
  {
   "cell_type": "code",
   "execution_count": 83,
   "id": "57802f57",
   "metadata": {},
   "outputs": [
    {
     "name": "stdout",
     "output_type": "stream",
     "text": [
      "     n     r2adj           AIC  Age_08_04  Airco  Automatic  Automatic_airco  CD_Player  Doors  \\\n",
      "0    1  0.761855  15312.342479       True  False      False            False      False  False   \n",
      "1    2  0.817745  15083.046574       True  False      False             True      False  False   \n",
      "2    3  0.841174  14965.571840       True  False      False             True      False  False   \n",
      "3    4  0.850247  14915.917776       True  False      False             True      False  False   \n",
      "4    5  0.868412  14805.576124       True  False      False             True      False  False   \n",
      "5    6  0.873589  14772.010618       True  False      False             True      False  False   \n",
      "6    7  0.876484  14753.049493       True  False      False             True      False  False   \n",
      "7    8  0.880403  14726.283911       True  False      False             True      False  False   \n",
      "8    9  0.883718  14703.069300       True  False      False             True      False  False   \n",
      "9   10  0.885014  14694.403536       True  False      False             True      False  False   \n",
      "10  11  0.886010  14687.902664       True  False       True             True      False  False   \n",
      "11  12  0.886930  14681.910097       True  False       True             True      False   True   \n",
      "12  13  0.887719  14676.864598       True  False       True             True      False   True   \n",
      "13  14  0.888168  14674.398096       True  False       True             True       True   True   \n",
      "14  15  0.888502  14672.803324       True  False       True             True       True   True   \n",
      "15  16  0.888416  14674.451251       True   True       True             True       True   True   \n",
      "\n",
      "    Fuel_Type_Diesel  Fuel_Type_Petrol  Guarantee_Period     HP     KM  Mfr_Guarantee  \\\n",
      "0              False             False             False  False  False          False   \n",
      "1              False             False             False  False  False          False   \n",
      "2              False             False             False   True  False          False   \n",
      "3              False             False             False   True   True          False   \n",
      "4              False             False             False   True   True          False   \n",
      "5              False             False             False   True   True          False   \n",
      "6              False             False              True   True   True          False   \n",
      "7              False              True              True   True   True          False   \n",
      "8               True              True              True   True   True          False   \n",
      "9               True              True              True   True   True          False   \n",
      "10              True              True              True   True   True          False   \n",
      "11              True              True              True   True   True          False   \n",
      "12              True              True              True   True   True           True   \n",
      "13              True              True              True   True   True           True   \n",
      "14              True              True              True   True   True           True   \n",
      "15              True              True              True   True   True           True   \n",
      "\n",
      "    Powered_Windows  Quarterly_Tax  Sport_Model  Tow_Bar  \n",
      "0             False          False        False    False  \n",
      "1             False          False        False    False  \n",
      "2             False          False        False    False  \n",
      "3             False          False        False    False  \n",
      "4             False           True        False    False  \n",
      "5              True           True        False    False  \n",
      "6              True           True        False    False  \n",
      "7              True           True        False    False  \n",
      "8              True           True        False    False  \n",
      "9              True           True         True    False  \n",
      "10             True           True         True    False  \n",
      "11             True           True         True    False  \n",
      "12             True           True         True    False  \n",
      "13             True           True         True    False  \n",
      "14             True           True         True     True  \n",
      "15             True           True         True     True  \n"
     ]
    }
   ],
   "source": [
    "data = []\n",
    "for result in results:\n",
    "    model = result['model']\n",
    "    variables = result['variables']\n",
    "    AIC = AIC_score(train_y, model.predict(train_X[variables]), model)\n",
    "    \n",
    "    d = {'n': result['n'], 'r2adj': -result['score'], 'AIC': AIC}\n",
    "    d.update({var: var in result['variables'] for var in allVariables})\n",
    "    data.append(d)\n",
    "pd.set_option('display.width', 100)\n",
    "print(pd.DataFrame(data, columns=('n', 'r2adj', 'AIC') + tuple(sorted(allVariables))))\n",
    "pd.reset_option('display.width')"
   ]
  },
  {
   "cell_type": "markdown",
   "id": "e37f77ad",
   "metadata": {},
   "source": [
    "첫번째 시행했을 때 Age_08_04 변수가 가장 영향이 크고 다음으로 Automatic_airco이며 세번째로는 HP 변수로 가장 영향을 많이 끼치는 변수라 볼 수 있다."
   ]
  },
  {
   "cell_type": "markdown",
   "id": "f92e7e24",
   "metadata": {},
   "source": [
    "#### b"
   ]
  },
  {
   "cell_type": "code",
   "execution_count": 97,
   "id": "a049af2d",
   "metadata": {},
   "outputs": [],
   "source": [
    "pred_y = model.predict(valid_X)"
   ]
  },
  {
   "cell_type": "code",
   "execution_count": 98,
   "id": "f9fb64a0",
   "metadata": {},
   "outputs": [
    {
     "name": "stdout",
     "output_type": "stream",
     "text": [
      "adjusted r2 :  0.7250331008767493\n",
      "AIC :  1316.9971205344204\n",
      "BIC :  1359.7775744932146\n"
     ]
    }
   ],
   "source": [
    "#모델 적합도 평가\n",
    "print('adjusted r2 : ', adjusted_r2_score(valid_y, pred_y, model))\n",
    "print('AIC : ', AIC_score(valid_y, pred_y, model))\n",
    "print('BIC : ', BIC_score(valid_y, pred_y, model))"
   ]
  },
  {
   "cell_type": "code",
   "execution_count": 99,
   "id": "fc56b858",
   "metadata": {},
   "outputs": [
    {
     "name": "stdout",
     "output_type": "stream",
     "text": [
      "\n",
      "Regression statistics\n",
      "\n",
      "                      Mean Error (ME) : -0.7605\n",
      "       Root Mean Squared Error (RMSE) : 36.9067\n",
      "            Mean Absolute Error (MAE) : 28.0264\n",
      "          Mean Percentage Error (MPE) : -3.9226\n",
      "Mean Absolute Percentage Error (MAPE) : 23.1129\n"
     ]
    }
   ],
   "source": [
    "#모델 예측 성능 평가\n",
    "regressionSummary(valid_y, pred_y)"
   ]
  }
 ],
 "metadata": {
  "kernelspec": {
   "display_name": "Python 3 (ipykernel)",
   "language": "python",
   "name": "python3"
  },
  "language_info": {
   "codemirror_mode": {
    "name": "ipython",
    "version": 3
   },
   "file_extension": ".py",
   "mimetype": "text/x-python",
   "name": "python",
   "nbconvert_exporter": "python",
   "pygments_lexer": "ipython3",
   "version": "3.9.7"
  }
 },
 "nbformat": 4,
 "nbformat_minor": 5
}
