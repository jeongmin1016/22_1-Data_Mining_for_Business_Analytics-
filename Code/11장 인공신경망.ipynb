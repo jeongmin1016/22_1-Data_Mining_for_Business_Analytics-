{
 "cells": [
  {
   "cell_type": "code",
   "execution_count": 158,
   "id": "567bdf1c",
   "metadata": {},
   "outputs": [],
   "source": [
    "%matplotlib inline\n",
    "\n",
    "from pathlib import Path\n",
    "\n",
    "import pydotplus\n",
    "from IPython.display import Image\n",
    "import numbers\n",
    "\n",
    "import pandas as pd"
   ]
  },
  {
   "cell_type": "markdown",
   "id": "e7934a67",
   "metadata": {},
   "source": [
    "## 1. credit card use"
   ]
  },
  {
   "cell_type": "code",
   "execution_count": 151,
   "id": "53c0b104",
   "metadata": {},
   "outputs": [
    {
     "data": {
      "text/html": [
       "<div>\n",
       "<style scoped>\n",
       "    .dataframe tbody tr th:only-of-type {\n",
       "        vertical-align: middle;\n",
       "    }\n",
       "\n",
       "    .dataframe tbody tr th {\n",
       "        vertical-align: top;\n",
       "    }\n",
       "\n",
       "    .dataframe thead th {\n",
       "        text-align: right;\n",
       "    }\n",
       "</style>\n",
       "<table border=\"1\" class=\"dataframe\">\n",
       "  <thead>\n",
       "    <tr style=\"text-align: right;\">\n",
       "      <th></th>\n",
       "      <th>Years</th>\n",
       "      <th>Income</th>\n",
       "      <th>Used_credit</th>\n",
       "    </tr>\n",
       "  </thead>\n",
       "  <tbody>\n",
       "    <tr>\n",
       "      <th>0</th>\n",
       "      <td>4</td>\n",
       "      <td>43</td>\n",
       "      <td>0</td>\n",
       "    </tr>\n",
       "    <tr>\n",
       "      <th>1</th>\n",
       "      <td>18</td>\n",
       "      <td>65</td>\n",
       "      <td>1</td>\n",
       "    </tr>\n",
       "    <tr>\n",
       "      <th>2</th>\n",
       "      <td>1</td>\n",
       "      <td>53</td>\n",
       "      <td>0</td>\n",
       "    </tr>\n",
       "    <tr>\n",
       "      <th>3</th>\n",
       "      <td>3</td>\n",
       "      <td>95</td>\n",
       "      <td>0</td>\n",
       "    </tr>\n",
       "    <tr>\n",
       "      <th>4</th>\n",
       "      <td>15</td>\n",
       "      <td>88</td>\n",
       "      <td>1</td>\n",
       "    </tr>\n",
       "    <tr>\n",
       "      <th>5</th>\n",
       "      <td>6</td>\n",
       "      <td>112</td>\n",
       "      <td>1</td>\n",
       "    </tr>\n",
       "  </tbody>\n",
       "</table>\n",
       "</div>"
      ],
      "text/plain": [
       "   Years  Income  Used_credit\n",
       "0      4      43            0\n",
       "1     18      65            1\n",
       "2      1      53            0\n",
       "3      3      95            0\n",
       "4     15      88            1\n",
       "5      6     112            1"
      ]
     },
     "execution_count": 151,
     "metadata": {},
     "output_type": "execute_result"
    }
   ],
   "source": [
    "cc = pd.DataFrame({'Years':[4,18,1,3,15,6], # 고객이 은행과 거래한 연수 \n",
    "                             'Income':[43,65,53,95,88,112], # 고객의 연봉\n",
    "                             'Used_credit':[0,1,0,0,1,1]}) # 1 : 사용액이 남음 / 0 : 모두 지불\n",
    "cc"
   ]
  },
  {
   "cell_type": "code",
   "execution_count": 152,
   "id": "62464a97",
   "metadata": {},
   "outputs": [],
   "source": [
    "from sklearn.neural_network import MLPClassifier, MLPRegressor"
   ]
  },
  {
   "cell_type": "code",
   "execution_count": 153,
   "id": "fe06b643",
   "metadata": {},
   "outputs": [],
   "source": [
    "predictors=['Years','Income']\n",
    "outcome='Used_credit'\n",
    "\n",
    "X=cc[predictors]\n",
    "y=cc[outcome]\n",
    "\n",
    "classes=sorted(y.unique())\n",
    "clf=MLPClassifier(hidden_layer_sizes=(3),activation='logistic',solver='lbfgs',random_state=1)\n"
   ]
  },
  {
   "cell_type": "code",
   "execution_count": 154,
   "id": "0acc55a1",
   "metadata": {},
   "outputs": [
    {
     "name": "stdout",
     "output_type": "stream",
     "text": [
      "Intercepts\n",
      "[array([-0.39685328, -0.19535194, -0.13057996]), array([2.33295553e-05])]\n",
      "Weights\n",
      "[array([[-0.10494688,  0.27865319, -0.63222532],\n",
      "       [-0.2500133 , -0.44676191, -0.51558567]]), array([[ 0.05488134],\n",
      "       [-0.11426076],\n",
      "       [ 0.2619045 ]])]\n",
      "   Years  Income  Used_credit         0         1\n",
      "0      4      43            0  0.499994  0.500006\n",
      "1     18      65            1  0.499994  0.500006\n",
      "2      1      53            0  0.499994  0.500006\n",
      "3      3      95            0  0.499994  0.500006\n",
      "4     15      88            1  0.499994  0.500006\n",
      "5      6     112            1  0.499994  0.500006\n"
     ]
    }
   ],
   "source": [
    "clf.fit(X,y)\n",
    "clf.predict(X)\n",
    "\n",
    "print('Intercepts')\n",
    "print(clf.intercepts_)\n",
    "print('Weights')\n",
    "print(clf.coefs_)\n",
    "\n",
    "print(pd.concat([cc,pd.DataFrame(clf.predict_proba(X),columns=classes)], axis=1))"
   ]
  },
  {
   "cell_type": "code",
   "execution_count": 155,
   "id": "9cf6b935",
   "metadata": {},
   "outputs": [],
   "source": [
    "def unbiasedNode(id, label=None, output=None, style=None):\n",
    "    label = label or f'N{id}'\n",
    "    common = style or 'shape=record, style=rounded, color=gray26'\n",
    "    if output is None:\n",
    "        return f'{id} [ label=\"{label}\", fontsize=11, {common} ];'\n",
    "    return f'{id} [ label=\"{{ {label} | {output:.2f} }}\", fontsize=11, {common} ];'\n",
    "\n",
    "def biasedNode(id, bias, label=None, output=None):\n",
    "    label = label or f'N{id}'\n",
    "    if isinstance(bias, numbers.Number):\n",
    "        bias = f'{bias:.3f}'\n",
    "    if isinstance(output, numbers.Number):\n",
    "        output = f'{output:.3f}'\n",
    "    common = 'shape=record, style=rounded, fontsize=11, color=gray26'\n",
    "    if output is None:\n",
    "        return f'{id} [ label=\"{label}&#92;n{bias}\", {common} ];'\n",
    "    return f'{id} [ label=\"{{ {label}&#92;n{bias} | {output} }}\", {common} ];'\n",
    "\n",
    "def edge(n1, n2, weight=None):\n",
    "    if weight is None:\n",
    "        return f'{n1} -> {n2} [ label=\"w{n1}{n2}\" ];'\n",
    "    return f'{n1} -> {n2} [ label=\"{weight:.3f}\" ];'"
   ]
  },
  {
   "cell_type": "code",
   "execution_count": 159,
   "id": "334c5e34",
   "metadata": {},
   "outputs": [],
   "source": [
    "def layoutGraph(dot_data, pdfFile=None):\n",
    "    graph = pydotplus.graph_from_dot_data(dot_data)\n",
    "    return Image(graph.create_png())"
   ]
  },
  {
   "cell_type": "code",
   "execution_count": 164,
   "id": "de21de85",
   "metadata": {},
   "outputs": [
    {
     "data": {
      "image/png": "[encoded data removed]",
      "text/plain": [
       "<IPython.core.display.Image object>"
      ]
     },
     "execution_count": 164,
     "metadata": {},
     "output_type": "execute_result"
    }
   ],
   "source": [
    "commonSettings = \"\"\"\n",
    "edge [ fontsize=11, color=gray55 ];\n",
    "rankdir=LR;\n",
    "# size=\"10,10\"\n",
    "graph [ranksep=\"0.8\"];\n",
    "\"\"\"\n",
    "# node [shape=record, style=rounded, fontsize=11, color=gray26]; \n",
    "\n",
    "s = f\"\"\"\n",
    "digraph ethane {{\n",
    "{ commonSettings }\n",
    "{ unbiasedNode('Income', label='Income', style='color=white') }\n",
    "{ unbiasedNode('Years', label='Years', style='color=white') }\n",
    "\n",
    "    { unbiasedNode(2) }\n",
    "    { unbiasedNode(1) }\n",
    "    { biasedNode(4, -0.19535194)}\n",
    "    { biasedNode(3, -0.39685328)}\n",
    "    { biasedNode(5, -0.13057996)}\n",
    "    { biasedNode(6, 2.33295553e-05)}\n",
    "\n",
    "{ unbiasedNode('used_credit', label='used_credit', style='color=white') }\n",
    "Income -> 2;\n",
    "Years -> 1;\n",
    "\n",
    "{ edge(1, 3, -0.10494688) }\n",
    "{ edge(2, 3, -0.2500133) }\n",
    "\n",
    "{ edge(1, 4, -0.63222532) }\n",
    "{ edge(2, 4, -0.44676191) }\n",
    "\n",
    "{ edge(1, 5, -0.63222532) }\n",
    "{ edge(2, 5, -0.63222532) }\n",
    "\n",
    "{ edge(3, 6, 0.05488134) }\n",
    "{ edge(4, 6, -0.11426076) }\n",
    "{ edge(5, 6, 0.2619045 ) }\n",
    "6 -> used_credit\n",
    " }}\n",
    " \"\"\"\n",
    "layoutGraph(s, pdfFile='network-optimized.pdf')"
   ]
  },
  {
   "cell_type": "markdown",
   "id": "c4d24986",
   "metadata": {},
   "source": [
    "## 2. Neural Net Evolution"
   ]
  },
  {
   "cell_type": "code",
   "execution_count": 3,
   "id": "8b0e29a7",
   "metadata": {},
   "outputs": [],
   "source": [
    "## 임의의 계수로 시작하기 때문에 <임의의 예측값> 출력"
   ]
  },
  {
   "cell_type": "markdown",
   "id": "e4ba0563",
   "metadata": {},
   "source": [
    "추정된 연결강도를 반복적으로 갱신하기 위해 오차를 사용하는데 반복횟수가 많이 늘어나는 것에 주의해야 한다."
   ]
  },
  {
   "cell_type": "markdown",
   "id": "ba079635",
   "metadata": {},
   "source": [
    "은닉층 노드의 수를 변화하며 정오행렬 검토가 필요"
   ]
  },
  {
   "cell_type": "markdown",
   "id": "cc1445c9",
   "metadata": {},
   "source": [
    "## 3. Car Sales"
   ]
  },
  {
   "cell_type": "code",
   "execution_count": 121,
   "id": "4ec1e59b",
   "metadata": {},
   "outputs": [],
   "source": [
    "toyota = pd.read_csv('ToyotaCorolla.csv')"
   ]
  },
  {
   "cell_type": "code",
   "execution_count": 122,
   "id": "67ab0241",
   "metadata": {},
   "outputs": [
    {
     "data": {
      "text/html": [
       "<div>\n",
       "<style scoped>\n",
       "    .dataframe tbody tr th:only-of-type {\n",
       "        vertical-align: middle;\n",
       "    }\n",
       "\n",
       "    .dataframe tbody tr th {\n",
       "        vertical-align: top;\n",
       "    }\n",
       "\n",
       "    .dataframe thead th {\n",
       "        text-align: right;\n",
       "    }\n",
       "</style>\n",
       "<table border=\"1\" class=\"dataframe\">\n",
       "  <thead>\n",
       "    <tr style=\"text-align: right;\">\n",
       "      <th></th>\n",
       "      <th>Age_08_04</th>\n",
       "      <th>KM</th>\n",
       "      <th>Fuel_Type</th>\n",
       "      <th>HP</th>\n",
       "      <th>Automatic</th>\n",
       "      <th>Doors</th>\n",
       "      <th>Quarterly_Tax</th>\n",
       "      <th>Mfr_Guarantee</th>\n",
       "      <th>Guarantee_Period</th>\n",
       "      <th>Airco</th>\n",
       "      <th>Automatic_airco</th>\n",
       "      <th>CD_Player</th>\n",
       "      <th>Powered_Windows</th>\n",
       "      <th>Sport_Model</th>\n",
       "      <th>Tow_Bar</th>\n",
       "    </tr>\n",
       "  </thead>\n",
       "  <tbody>\n",
       "    <tr>\n",
       "      <th>0</th>\n",
       "      <td>23</td>\n",
       "      <td>46986</td>\n",
       "      <td>Diesel</td>\n",
       "      <td>90</td>\n",
       "      <td>0</td>\n",
       "      <td>3</td>\n",
       "      <td>210</td>\n",
       "      <td>0</td>\n",
       "      <td>3</td>\n",
       "      <td>0</td>\n",
       "      <td>0</td>\n",
       "      <td>0</td>\n",
       "      <td>1</td>\n",
       "      <td>0</td>\n",
       "      <td>0</td>\n",
       "    </tr>\n",
       "    <tr>\n",
       "      <th>1</th>\n",
       "      <td>23</td>\n",
       "      <td>72937</td>\n",
       "      <td>Diesel</td>\n",
       "      <td>90</td>\n",
       "      <td>0</td>\n",
       "      <td>3</td>\n",
       "      <td>210</td>\n",
       "      <td>0</td>\n",
       "      <td>3</td>\n",
       "      <td>1</td>\n",
       "      <td>0</td>\n",
       "      <td>1</td>\n",
       "      <td>0</td>\n",
       "      <td>0</td>\n",
       "      <td>0</td>\n",
       "    </tr>\n",
       "    <tr>\n",
       "      <th>2</th>\n",
       "      <td>24</td>\n",
       "      <td>41711</td>\n",
       "      <td>Diesel</td>\n",
       "      <td>90</td>\n",
       "      <td>0</td>\n",
       "      <td>3</td>\n",
       "      <td>210</td>\n",
       "      <td>1</td>\n",
       "      <td>3</td>\n",
       "      <td>0</td>\n",
       "      <td>0</td>\n",
       "      <td>0</td>\n",
       "      <td>0</td>\n",
       "      <td>0</td>\n",
       "      <td>0</td>\n",
       "    </tr>\n",
       "    <tr>\n",
       "      <th>3</th>\n",
       "      <td>26</td>\n",
       "      <td>48000</td>\n",
       "      <td>Diesel</td>\n",
       "      <td>90</td>\n",
       "      <td>0</td>\n",
       "      <td>3</td>\n",
       "      <td>210</td>\n",
       "      <td>1</td>\n",
       "      <td>3</td>\n",
       "      <td>0</td>\n",
       "      <td>0</td>\n",
       "      <td>0</td>\n",
       "      <td>0</td>\n",
       "      <td>0</td>\n",
       "      <td>0</td>\n",
       "    </tr>\n",
       "    <tr>\n",
       "      <th>4</th>\n",
       "      <td>30</td>\n",
       "      <td>38500</td>\n",
       "      <td>Diesel</td>\n",
       "      <td>90</td>\n",
       "      <td>0</td>\n",
       "      <td>3</td>\n",
       "      <td>210</td>\n",
       "      <td>1</td>\n",
       "      <td>3</td>\n",
       "      <td>1</td>\n",
       "      <td>0</td>\n",
       "      <td>0</td>\n",
       "      <td>1</td>\n",
       "      <td>0</td>\n",
       "      <td>0</td>\n",
       "    </tr>\n",
       "  </tbody>\n",
       "</table>\n",
       "</div>"
      ],
      "text/plain": [
       "   Age_08_04     KM Fuel_Type  HP  Automatic  Doors  Quarterly_Tax  \\\n",
       "0         23  46986    Diesel  90          0      3            210   \n",
       "1         23  72937    Diesel  90          0      3            210   \n",
       "2         24  41711    Diesel  90          0      3            210   \n",
       "3         26  48000    Diesel  90          0      3            210   \n",
       "4         30  38500    Diesel  90          0      3            210   \n",
       "\n",
       "   Mfr_Guarantee  Guarantee_Period  Airco  Automatic_airco  CD_Player  \\\n",
       "0              0                 3      0                0          0   \n",
       "1              0                 3      1                0          1   \n",
       "2              1                 3      0                0          0   \n",
       "3              1                 3      0                0          0   \n",
       "4              1                 3      1                0          0   \n",
       "\n",
       "   Powered_Windows  Sport_Model  Tow_Bar  \n",
       "0                1            0        0  \n",
       "1                0            0        0  \n",
       "2                0            0        0  \n",
       "3                0            0        0  \n",
       "4                1            0        0  "
      ]
     },
     "execution_count": 122,
     "metadata": {},
     "output_type": "execute_result"
    }
   ],
   "source": [
    "toyota_x=toyota[[ 'Age_08_04', 'KM', 'Fuel_Type', 'HP', 'Automatic', 'Doors', 'Quarterly_Tax', 'Mfr_Guarantee',\n",
    "       'Guarantee_Period', 'Airco', 'Automatic_airco', 'CD_Player', 'Powered_Windows', 'Sport_Model', 'Tow_Bar']]\n",
    "toyota_x.head()"
   ]
  },
  {
   "cell_type": "code",
   "execution_count": 123,
   "id": "4d4dff40",
   "metadata": {},
   "outputs": [
    {
     "data": {
      "text/plain": [
       "Age_08_04            int64\n",
       "KM                   int64\n",
       "Fuel_Type           object\n",
       "HP                   int64\n",
       "Automatic            int64\n",
       "Doors                int64\n",
       "Quarterly_Tax        int64\n",
       "Mfr_Guarantee        int64\n",
       "Guarantee_Period     int64\n",
       "Airco                int64\n",
       "Automatic_airco      int64\n",
       "CD_Player            int64\n",
       "Powered_Windows      int64\n",
       "Sport_Model          int64\n",
       "Tow_Bar              int64\n",
       "dtype: object"
      ]
     },
     "execution_count": 123,
     "metadata": {},
     "output_type": "execute_result"
    }
   ],
   "source": [
    "toyota_x.dtypes"
   ]
  },
  {
   "cell_type": "code",
   "execution_count": 124,
   "id": "1507d240",
   "metadata": {},
   "outputs": [
    {
     "data": {
      "text/html": [
       "<div>\n",
       "<style scoped>\n",
       "    .dataframe tbody tr th:only-of-type {\n",
       "        vertical-align: middle;\n",
       "    }\n",
       "\n",
       "    .dataframe tbody tr th {\n",
       "        vertical-align: top;\n",
       "    }\n",
       "\n",
       "    .dataframe thead th {\n",
       "        text-align: right;\n",
       "    }\n",
       "</style>\n",
       "<table border=\"1\" class=\"dataframe\">\n",
       "  <thead>\n",
       "    <tr style=\"text-align: right;\">\n",
       "      <th></th>\n",
       "      <th>Age_08_04</th>\n",
       "      <th>KM</th>\n",
       "      <th>HP</th>\n",
       "      <th>Automatic</th>\n",
       "      <th>Doors</th>\n",
       "      <th>Quarterly_Tax</th>\n",
       "      <th>Mfr_Guarantee</th>\n",
       "      <th>Guarantee_Period</th>\n",
       "      <th>Airco</th>\n",
       "      <th>Automatic_airco</th>\n",
       "      <th>CD_Player</th>\n",
       "      <th>Powered_Windows</th>\n",
       "      <th>Sport_Model</th>\n",
       "      <th>Tow_Bar</th>\n",
       "      <th>Fuel_Type_Diesel</th>\n",
       "      <th>Fuel_Type_Petrol</th>\n",
       "    </tr>\n",
       "  </thead>\n",
       "  <tbody>\n",
       "    <tr>\n",
       "      <th>0</th>\n",
       "      <td>23</td>\n",
       "      <td>46986</td>\n",
       "      <td>90</td>\n",
       "      <td>0</td>\n",
       "      <td>3</td>\n",
       "      <td>210</td>\n",
       "      <td>0</td>\n",
       "      <td>3</td>\n",
       "      <td>0</td>\n",
       "      <td>0</td>\n",
       "      <td>0</td>\n",
       "      <td>1</td>\n",
       "      <td>0</td>\n",
       "      <td>0</td>\n",
       "      <td>1</td>\n",
       "      <td>0</td>\n",
       "    </tr>\n",
       "    <tr>\n",
       "      <th>1</th>\n",
       "      <td>23</td>\n",
       "      <td>72937</td>\n",
       "      <td>90</td>\n",
       "      <td>0</td>\n",
       "      <td>3</td>\n",
       "      <td>210</td>\n",
       "      <td>0</td>\n",
       "      <td>3</td>\n",
       "      <td>1</td>\n",
       "      <td>0</td>\n",
       "      <td>1</td>\n",
       "      <td>0</td>\n",
       "      <td>0</td>\n",
       "      <td>0</td>\n",
       "      <td>1</td>\n",
       "      <td>0</td>\n",
       "    </tr>\n",
       "    <tr>\n",
       "      <th>2</th>\n",
       "      <td>24</td>\n",
       "      <td>41711</td>\n",
       "      <td>90</td>\n",
       "      <td>0</td>\n",
       "      <td>3</td>\n",
       "      <td>210</td>\n",
       "      <td>1</td>\n",
       "      <td>3</td>\n",
       "      <td>0</td>\n",
       "      <td>0</td>\n",
       "      <td>0</td>\n",
       "      <td>0</td>\n",
       "      <td>0</td>\n",
       "      <td>0</td>\n",
       "      <td>1</td>\n",
       "      <td>0</td>\n",
       "    </tr>\n",
       "    <tr>\n",
       "      <th>3</th>\n",
       "      <td>26</td>\n",
       "      <td>48000</td>\n",
       "      <td>90</td>\n",
       "      <td>0</td>\n",
       "      <td>3</td>\n",
       "      <td>210</td>\n",
       "      <td>1</td>\n",
       "      <td>3</td>\n",
       "      <td>0</td>\n",
       "      <td>0</td>\n",
       "      <td>0</td>\n",
       "      <td>0</td>\n",
       "      <td>0</td>\n",
       "      <td>0</td>\n",
       "      <td>1</td>\n",
       "      <td>0</td>\n",
       "    </tr>\n",
       "    <tr>\n",
       "      <th>4</th>\n",
       "      <td>30</td>\n",
       "      <td>38500</td>\n",
       "      <td>90</td>\n",
       "      <td>0</td>\n",
       "      <td>3</td>\n",
       "      <td>210</td>\n",
       "      <td>1</td>\n",
       "      <td>3</td>\n",
       "      <td>1</td>\n",
       "      <td>0</td>\n",
       "      <td>0</td>\n",
       "      <td>1</td>\n",
       "      <td>0</td>\n",
       "      <td>0</td>\n",
       "      <td>1</td>\n",
       "      <td>0</td>\n",
       "    </tr>\n",
       "    <tr>\n",
       "      <th>...</th>\n",
       "      <td>...</td>\n",
       "      <td>...</td>\n",
       "      <td>...</td>\n",
       "      <td>...</td>\n",
       "      <td>...</td>\n",
       "      <td>...</td>\n",
       "      <td>...</td>\n",
       "      <td>...</td>\n",
       "      <td>...</td>\n",
       "      <td>...</td>\n",
       "      <td>...</td>\n",
       "      <td>...</td>\n",
       "      <td>...</td>\n",
       "      <td>...</td>\n",
       "      <td>...</td>\n",
       "      <td>...</td>\n",
       "    </tr>\n",
       "    <tr>\n",
       "      <th>1431</th>\n",
       "      <td>69</td>\n",
       "      <td>20544</td>\n",
       "      <td>86</td>\n",
       "      <td>0</td>\n",
       "      <td>3</td>\n",
       "      <td>69</td>\n",
       "      <td>1</td>\n",
       "      <td>3</td>\n",
       "      <td>1</td>\n",
       "      <td>0</td>\n",
       "      <td>0</td>\n",
       "      <td>1</td>\n",
       "      <td>1</td>\n",
       "      <td>0</td>\n",
       "      <td>0</td>\n",
       "      <td>1</td>\n",
       "    </tr>\n",
       "    <tr>\n",
       "      <th>1432</th>\n",
       "      <td>72</td>\n",
       "      <td>19000</td>\n",
       "      <td>86</td>\n",
       "      <td>0</td>\n",
       "      <td>3</td>\n",
       "      <td>69</td>\n",
       "      <td>0</td>\n",
       "      <td>3</td>\n",
       "      <td>0</td>\n",
       "      <td>0</td>\n",
       "      <td>0</td>\n",
       "      <td>0</td>\n",
       "      <td>1</td>\n",
       "      <td>0</td>\n",
       "      <td>0</td>\n",
       "      <td>1</td>\n",
       "    </tr>\n",
       "    <tr>\n",
       "      <th>1433</th>\n",
       "      <td>71</td>\n",
       "      <td>17016</td>\n",
       "      <td>86</td>\n",
       "      <td>0</td>\n",
       "      <td>3</td>\n",
       "      <td>69</td>\n",
       "      <td>0</td>\n",
       "      <td>3</td>\n",
       "      <td>0</td>\n",
       "      <td>0</td>\n",
       "      <td>0</td>\n",
       "      <td>0</td>\n",
       "      <td>0</td>\n",
       "      <td>0</td>\n",
       "      <td>0</td>\n",
       "      <td>1</td>\n",
       "    </tr>\n",
       "    <tr>\n",
       "      <th>1434</th>\n",
       "      <td>70</td>\n",
       "      <td>16916</td>\n",
       "      <td>86</td>\n",
       "      <td>0</td>\n",
       "      <td>3</td>\n",
       "      <td>69</td>\n",
       "      <td>1</td>\n",
       "      <td>3</td>\n",
       "      <td>0</td>\n",
       "      <td>0</td>\n",
       "      <td>0</td>\n",
       "      <td>0</td>\n",
       "      <td>0</td>\n",
       "      <td>0</td>\n",
       "      <td>0</td>\n",
       "      <td>1</td>\n",
       "    </tr>\n",
       "    <tr>\n",
       "      <th>1435</th>\n",
       "      <td>76</td>\n",
       "      <td>1</td>\n",
       "      <td>110</td>\n",
       "      <td>0</td>\n",
       "      <td>5</td>\n",
       "      <td>19</td>\n",
       "      <td>0</td>\n",
       "      <td>3</td>\n",
       "      <td>0</td>\n",
       "      <td>0</td>\n",
       "      <td>0</td>\n",
       "      <td>0</td>\n",
       "      <td>0</td>\n",
       "      <td>0</td>\n",
       "      <td>0</td>\n",
       "      <td>1</td>\n",
       "    </tr>\n",
       "  </tbody>\n",
       "</table>\n",
       "<p>1436 rows × 16 columns</p>\n",
       "</div>"
      ],
      "text/plain": [
       "      Age_08_04     KM   HP  Automatic  Doors  Quarterly_Tax  Mfr_Guarantee  \\\n",
       "0            23  46986   90          0      3            210              0   \n",
       "1            23  72937   90          0      3            210              0   \n",
       "2            24  41711   90          0      3            210              1   \n",
       "3            26  48000   90          0      3            210              1   \n",
       "4            30  38500   90          0      3            210              1   \n",
       "...         ...    ...  ...        ...    ...            ...            ...   \n",
       "1431         69  20544   86          0      3             69              1   \n",
       "1432         72  19000   86          0      3             69              0   \n",
       "1433         71  17016   86          0      3             69              0   \n",
       "1434         70  16916   86          0      3             69              1   \n",
       "1435         76      1  110          0      5             19              0   \n",
       "\n",
       "      Guarantee_Period  Airco  Automatic_airco  CD_Player  Powered_Windows  \\\n",
       "0                    3      0                0          0                1   \n",
       "1                    3      1                0          1                0   \n",
       "2                    3      0                0          0                0   \n",
       "3                    3      0                0          0                0   \n",
       "4                    3      1                0          0                1   \n",
       "...                ...    ...              ...        ...              ...   \n",
       "1431                 3      1                0          0                1   \n",
       "1432                 3      0                0          0                0   \n",
       "1433                 3      0                0          0                0   \n",
       "1434                 3      0                0          0                0   \n",
       "1435                 3      0                0          0                0   \n",
       "\n",
       "      Sport_Model  Tow_Bar  Fuel_Type_Diesel  Fuel_Type_Petrol  \n",
       "0               0        0                 1                 0  \n",
       "1               0        0                 1                 0  \n",
       "2               0        0                 1                 0  \n",
       "3               0        0                 1                 0  \n",
       "4               0        0                 1                 0  \n",
       "...           ...      ...               ...               ...  \n",
       "1431            1        0                 0                 1  \n",
       "1432            1        0                 0                 1  \n",
       "1433            0        0                 0                 1  \n",
       "1434            0        0                 0                 1  \n",
       "1435            0        0                 0                 1  \n",
       "\n",
       "[1436 rows x 16 columns]"
      ]
     },
     "execution_count": 124,
     "metadata": {},
     "output_type": "execute_result"
    }
   ],
   "source": [
    "toyota_x = pd.get_dummies(toyota_x, columns=['Fuel_Type'], drop_first=True)\n",
    "toyota_x"
   ]
  },
  {
   "cell_type": "code",
   "execution_count": 125,
   "id": "cd5185fd",
   "metadata": {},
   "outputs": [],
   "source": [
    "toyota_y=toyota[[\"Price\"]]"
   ]
  },
  {
   "cell_type": "code",
   "execution_count": 126,
   "id": "1c05695c",
   "metadata": {},
   "outputs": [],
   "source": [
    "from sklearn.preprocessing import StandardScaler\n",
    "\n",
    "scaler = StandardScaler()\n",
    "toyota_x_std = scaler.fit_transform(toyota_x)\n",
    "toyota_y_std = scaler.fit_transform(toyota_y)"
   ]
  },
  {
   "cell_type": "code",
   "execution_count": 127,
   "id": "844a0af1",
   "metadata": {},
   "outputs": [],
   "source": [
    "from sklearn.model_selection import train_test_split"
   ]
  },
  {
   "cell_type": "code",
   "execution_count": 128,
   "id": "0db58db0",
   "metadata": {},
   "outputs": [],
   "source": [
    "train_X, valid_X, train_y, valid_y = train_test_split(toyota_x_std, toyota_y_std, test_size=0.4, random_state=1)"
   ]
  },
  {
   "cell_type": "code",
   "execution_count": 129,
   "id": "b1539e6e",
   "metadata": {},
   "outputs": [],
   "source": [
    "from dmba import regressionSummary, exhaustive_search"
   ]
  },
  {
   "cell_type": "code",
   "execution_count": 136,
   "id": "bb83d5df",
   "metadata": {},
   "outputs": [
    {
     "name": "stdout",
     "output_type": "stream",
     "text": [
      "\n",
      "Regression statistics\n",
      "\n",
      "                      Mean Error (ME) : -0.0004\n",
      "       Root Mean Squared Error (RMSE) : 0.2897\n",
      "            Mean Absolute Error (MAE) : 0.2180\n",
      "          Mean Percentage Error (MPE) : 19.5519\n",
      "Mean Absolute Percentage Error (MAPE) : 103.9578\n"
     ]
    },
    {
     "name": "stderr",
     "output_type": "stream",
     "text": [
      "C:\\Users\\ajm10\\anaconda3\\lib\\site-packages\\sklearn\\utils\\validation.py:63: DataConversionWarning: A column-vector y was passed when a 1d array was expected. Please change the shape of y to (n_samples, ), for example using ravel().\n",
      "  return f(*args, **kwargs)\n",
      "C:\\Users\\ajm10\\anaconda3\\lib\\site-packages\\sklearn\\neural_network\\_multilayer_perceptron.py:500: ConvergenceWarning: lbfgs failed to converge (status=1):\n",
      "STOP: TOTAL NO. of ITERATIONS REACHED LIMIT.\n",
      "\n",
      "Increase the number of iterations (max_iter) or scale the data as shown in:\n",
      "    https://scikit-learn.org/stable/modules/preprocessing.html\n",
      "  self.n_iter_ = _check_optimize_result(\"lbfgs\", opt_res, self.max_iter)\n"
     ]
    }
   ],
   "source": [
    "# 학습데이터\n",
    "X=train_X\n",
    "y=train_y\n",
    "\n",
    "clf=MLPRegressor(hidden_layer_sizes=(2),activation='logistic',solver='lbfgs',random_state=1)\n",
    "\n",
    "clf.fit(X,y)\n",
    "clf.predict(X)\n",
    "\n",
    "\n",
    "# Compute common accuracy measures\n",
    "regressionSummary(train_y, clf.predict(train_X))"
   ]
  },
  {
   "cell_type": "code",
   "execution_count": 137,
   "id": "3ac03844",
   "metadata": {},
   "outputs": [
    {
     "name": "stderr",
     "output_type": "stream",
     "text": [
      "C:\\Users\\ajm10\\anaconda3\\lib\\site-packages\\sklearn\\utils\\validation.py:63: DataConversionWarning: A column-vector y was passed when a 1d array was expected. Please change the shape of y to (n_samples, ), for example using ravel().\n",
      "  return f(*args, **kwargs)\n",
      "C:\\Users\\ajm10\\anaconda3\\lib\\site-packages\\sklearn\\neural_network\\_multilayer_perceptron.py:500: ConvergenceWarning: lbfgs failed to converge (status=1):\n",
      "STOP: TOTAL NO. of ITERATIONS REACHED LIMIT.\n",
      "\n",
      "Increase the number of iterations (max_iter) or scale the data as shown in:\n",
      "    https://scikit-learn.org/stable/modules/preprocessing.html\n",
      "  self.n_iter_ = _check_optimize_result(\"lbfgs\", opt_res, self.max_iter)\n"
     ]
    },
    {
     "name": "stdout",
     "output_type": "stream",
     "text": [
      "\n",
      "Regression statistics\n",
      "\n",
      "                      Mean Error (ME) : -0.0004\n",
      "       Root Mean Squared Error (RMSE) : 0.2521\n",
      "            Mean Absolute Error (MAE) : 0.1927\n",
      "          Mean Percentage Error (MPE) : 25.5538\n",
      "Mean Absolute Percentage Error (MAPE) : 100.0495\n"
     ]
    }
   ],
   "source": [
    "clf=MLPRegressor(hidden_layer_sizes=(5),activation='logistic',solver='lbfgs',random_state=1)\n",
    "\n",
    "clf.fit(X,y)\n",
    "clf.predict(X)\n",
    "\n",
    "\n",
    "# Compute common accuracy measures\n",
    "regressionSummary(train_y, clf.predict(train_X))"
   ]
  },
  {
   "cell_type": "code",
   "execution_count": 138,
   "id": "5b639e9a",
   "metadata": {},
   "outputs": [
    {
     "name": "stdout",
     "output_type": "stream",
     "text": [
      "\n",
      "Regression statistics\n",
      "\n",
      "                      Mean Error (ME) : -0.0000\n",
      "       Root Mean Squared Error (RMSE) : 1.0223\n",
      "            Mean Absolute Error (MAE) : 0.7381\n",
      "          Mean Percentage Error (MPE) : 97.5653\n",
      "Mean Absolute Percentage Error (MAPE) : 100.5048\n"
     ]
    },
    {
     "name": "stderr",
     "output_type": "stream",
     "text": [
      "C:\\Users\\ajm10\\anaconda3\\lib\\site-packages\\sklearn\\utils\\validation.py:63: DataConversionWarning: A column-vector y was passed when a 1d array was expected. Please change the shape of y to (n_samples, ), for example using ravel().\n",
      "  return f(*args, **kwargs)\n"
     ]
    }
   ],
   "source": [
    "clf=MLPRegressor(hidden_layer_sizes=(1,1,1,1),activation='logistic',solver='lbfgs',random_state=1)\n",
    "\n",
    "clf.fit(X,y)\n",
    "clf.predict(X)\n",
    "\n",
    "\n",
    "# Compute common accuracy measures\n",
    "regressionSummary(train_y, clf.predict(train_X))"
   ]
  },
  {
   "cell_type": "code",
   "execution_count": 139,
   "id": "ccb76cb4",
   "metadata": {},
   "outputs": [
    {
     "name": "stdout",
     "output_type": "stream",
     "text": [
      "\n",
      "Regression statistics\n",
      "\n",
      "                      Mean Error (ME) : 0.0000\n",
      "       Root Mean Squared Error (RMSE) : 0.2691\n",
      "            Mean Absolute Error (MAE) : 0.2084\n",
      "          Mean Percentage Error (MPE) : -2.4951\n",
      "Mean Absolute Percentage Error (MAPE) : 133.3953\n"
     ]
    },
    {
     "name": "stderr",
     "output_type": "stream",
     "text": [
      "C:\\Users\\ajm10\\anaconda3\\lib\\site-packages\\sklearn\\utils\\validation.py:63: DataConversionWarning: A column-vector y was passed when a 1d array was expected. Please change the shape of y to (n_samples, ), for example using ravel().\n",
      "  return f(*args, **kwargs)\n"
     ]
    }
   ],
   "source": [
    "# 검증데이터\n",
    "X=valid_X\n",
    "y=valid_y\n",
    "\n",
    "clf=MLPRegressor(hidden_layer_sizes=(2),activation='logistic',solver='lbfgs',random_state=1)\n",
    "\n",
    "clf.fit(X,y)\n",
    "clf.predict(X)\n",
    "\n",
    "\n",
    "# Compute common accuracy measures\n",
    "regressionSummary(valid_y, clf.predict(valid_X))"
   ]
  },
  {
   "cell_type": "code",
   "execution_count": 140,
   "id": "e1ce8e3b",
   "metadata": {},
   "outputs": [
    {
     "name": "stdout",
     "output_type": "stream",
     "text": [
      "\n",
      "Regression statistics\n",
      "\n",
      "                      Mean Error (ME) : -0.0002\n",
      "       Root Mean Squared Error (RMSE) : 0.2374\n",
      "            Mean Absolute Error (MAE) : 0.1848\n",
      "          Mean Percentage Error (MPE) : -9.2626\n",
      "Mean Absolute Percentage Error (MAPE) : 119.5594\n"
     ]
    },
    {
     "name": "stderr",
     "output_type": "stream",
     "text": [
      "C:\\Users\\ajm10\\anaconda3\\lib\\site-packages\\sklearn\\utils\\validation.py:63: DataConversionWarning: A column-vector y was passed when a 1d array was expected. Please change the shape of y to (n_samples, ), for example using ravel().\n",
      "  return f(*args, **kwargs)\n",
      "C:\\Users\\ajm10\\anaconda3\\lib\\site-packages\\sklearn\\neural_network\\_multilayer_perceptron.py:500: ConvergenceWarning: lbfgs failed to converge (status=1):\n",
      "STOP: TOTAL NO. of ITERATIONS REACHED LIMIT.\n",
      "\n",
      "Increase the number of iterations (max_iter) or scale the data as shown in:\n",
      "    https://scikit-learn.org/stable/modules/preprocessing.html\n",
      "  self.n_iter_ = _check_optimize_result(\"lbfgs\", opt_res, self.max_iter)\n"
     ]
    }
   ],
   "source": [
    "clf=MLPRegressor(hidden_layer_sizes=(5),activation='logistic',solver='lbfgs',random_state=1)\n",
    "\n",
    "clf.fit(X,y)\n",
    "clf.predict(X)\n",
    "\n",
    "\n",
    "# Compute common accuracy measures\n",
    "regressionSummary(valid_y, clf.predict(valid_X))"
   ]
  },
  {
   "cell_type": "code",
   "execution_count": 141,
   "id": "9ba02e8e",
   "metadata": {},
   "outputs": [
    {
     "name": "stdout",
     "output_type": "stream",
     "text": [
      "\n",
      "Regression statistics\n",
      "\n",
      "                      Mean Error (ME) : -0.0000\n",
      "       Root Mean Squared Error (RMSE) : 0.9654\n",
      "            Mean Absolute Error (MAE) : 0.7018\n",
      "          Mean Percentage Error (MPE) : 103.8358\n",
      "Mean Absolute Percentage Error (MAPE) : 103.8358\n"
     ]
    },
    {
     "name": "stderr",
     "output_type": "stream",
     "text": [
      "C:\\Users\\ajm10\\anaconda3\\lib\\site-packages\\sklearn\\utils\\validation.py:63: DataConversionWarning: A column-vector y was passed when a 1d array was expected. Please change the shape of y to (n_samples, ), for example using ravel().\n",
      "  return f(*args, **kwargs)\n"
     ]
    }
   ],
   "source": [
    "clf=MLPRegressor(hidden_layer_sizes=(1,1,1,1),activation='logistic',solver='lbfgs',random_state=1)\n",
    "\n",
    "clf.fit(X,y)\n",
    "clf.predict(X)\n",
    "\n",
    "\n",
    "# Compute common accuracy measures\n",
    "regressionSummary(valid_y, clf.predict(valid_X))"
   ]
  },
  {
   "cell_type": "markdown",
   "id": "7b73bded",
   "metadata": {},
   "source": [
    "## 4. Direct Mailing to Airline Customers"
   ]
  },
  {
   "cell_type": "code",
   "execution_count": 120,
   "id": "33173cad",
   "metadata": {},
   "outputs": [
    {
     "data": {
      "text/plain": [
       "array([[-0.44920373, -0.38118674, -0.1839366 , ...,  0.7358225 ,\n",
       "        -0.31769098,  0.93039976],\n",
       "       [-0.44920373, -0.47626444, -0.1839366 , ..., -1.3590234 ,\n",
       "        -0.31769098, -1.07480681],\n",
       "       [-0.44920373, -0.24003926, -0.1839366 , ...,  0.7358225 ,\n",
       "        -0.31769098,  0.93039976],\n",
       "       ...,\n",
       "       [-0.44920373, -0.67652697, -0.1839366 , ..., -1.3590234 ,\n",
       "        -0.31769098, -1.07480681],\n",
       "       [        nan,         nan,         nan, ...,         nan,\n",
       "                nan,         nan],\n",
       "       [        nan,         nan,         nan, ...,         nan,\n",
       "                nan,         nan]])"
      ]
     },
     "execution_count": 120,
     "metadata": {},
     "output_type": "execute_result"
    }
   ],
   "source": [
    "ewair_X_std # 왜 NaN 이 발생하는지 모르겠음"
   ]
  },
  {
   "cell_type": "code",
   "execution_count": 142,
   "id": "2b91fb7c",
   "metadata": {},
   "outputs": [],
   "source": [
    "ewair = pd.read_csv('EastWestAirlinesNN.csv')"
   ]
  },
  {
   "cell_type": "code",
   "execution_count": 143,
   "id": "229ca0b1",
   "metadata": {},
   "outputs": [],
   "source": [
    "ewair=ewair.dropna()"
   ]
  },
  {
   "cell_type": "code",
   "execution_count": 144,
   "id": "34a3ea30",
   "metadata": {},
   "outputs": [
    {
     "data": {
      "text/html": [
       "<div>\n",
       "<style scoped>\n",
       "    .dataframe tbody tr th:only-of-type {\n",
       "        vertical-align: middle;\n",
       "    }\n",
       "\n",
       "    .dataframe tbody tr th {\n",
       "        vertical-align: top;\n",
       "    }\n",
       "\n",
       "    .dataframe thead th {\n",
       "        text-align: right;\n",
       "    }\n",
       "</style>\n",
       "<table border=\"1\" class=\"dataframe\">\n",
       "  <thead>\n",
       "    <tr style=\"text-align: right;\">\n",
       "      <th></th>\n",
       "      <th>Topflight</th>\n",
       "      <th>Balance</th>\n",
       "      <th>Qual_miles</th>\n",
       "      <th>cc1_miles?</th>\n",
       "      <th>cc2_miles?</th>\n",
       "      <th>cc3_miles?</th>\n",
       "      <th>Bonus_miles</th>\n",
       "      <th>Bonus_trans</th>\n",
       "      <th>Flight_miles_12mo</th>\n",
       "      <th>Flight_trans_12</th>\n",
       "      <th>Online_12</th>\n",
       "      <th>Email</th>\n",
       "      <th>Club_member</th>\n",
       "      <th>Any_cc_miles_12mo</th>\n",
       "      <th>Phone_sale</th>\n",
       "    </tr>\n",
       "  </thead>\n",
       "  <tbody>\n",
       "    <tr>\n",
       "      <th>0</th>\n",
       "      <td>0.0</td>\n",
       "      <td>28143.0</td>\n",
       "      <td>0.0</td>\n",
       "      <td>0.0</td>\n",
       "      <td>1.0</td>\n",
       "      <td>0.0</td>\n",
       "      <td>174.0</td>\n",
       "      <td>1.0</td>\n",
       "      <td>0.0</td>\n",
       "      <td>0.0</td>\n",
       "      <td>0.0</td>\n",
       "      <td>1.0</td>\n",
       "      <td>0.0</td>\n",
       "      <td>1.0</td>\n",
       "      <td>0.0</td>\n",
       "    </tr>\n",
       "    <tr>\n",
       "      <th>1</th>\n",
       "      <td>0.0</td>\n",
       "      <td>19244.0</td>\n",
       "      <td>0.0</td>\n",
       "      <td>0.0</td>\n",
       "      <td>0.0</td>\n",
       "      <td>0.0</td>\n",
       "      <td>215.0</td>\n",
       "      <td>2.0</td>\n",
       "      <td>0.0</td>\n",
       "      <td>0.0</td>\n",
       "      <td>0.0</td>\n",
       "      <td>0.0</td>\n",
       "      <td>0.0</td>\n",
       "      <td>0.0</td>\n",
       "      <td>0.0</td>\n",
       "    </tr>\n",
       "    <tr>\n",
       "      <th>2</th>\n",
       "      <td>0.0</td>\n",
       "      <td>41354.0</td>\n",
       "      <td>0.0</td>\n",
       "      <td>1.0</td>\n",
       "      <td>0.0</td>\n",
       "      <td>0.0</td>\n",
       "      <td>4123.0</td>\n",
       "      <td>4.0</td>\n",
       "      <td>0.0</td>\n",
       "      <td>0.0</td>\n",
       "      <td>0.0</td>\n",
       "      <td>1.0</td>\n",
       "      <td>0.0</td>\n",
       "      <td>1.0</td>\n",
       "      <td>0.0</td>\n",
       "    </tr>\n",
       "    <tr>\n",
       "      <th>3</th>\n",
       "      <td>0.0</td>\n",
       "      <td>14776.0</td>\n",
       "      <td>0.0</td>\n",
       "      <td>0.0</td>\n",
       "      <td>0.0</td>\n",
       "      <td>0.0</td>\n",
       "      <td>500.0</td>\n",
       "      <td>1.0</td>\n",
       "      <td>0.0</td>\n",
       "      <td>0.0</td>\n",
       "      <td>0.0</td>\n",
       "      <td>1.0</td>\n",
       "      <td>0.0</td>\n",
       "      <td>0.0</td>\n",
       "      <td>0.0</td>\n",
       "    </tr>\n",
       "    <tr>\n",
       "      <th>4</th>\n",
       "      <td>1.0</td>\n",
       "      <td>97752.0</td>\n",
       "      <td>0.0</td>\n",
       "      <td>1.0</td>\n",
       "      <td>0.0</td>\n",
       "      <td>0.0</td>\n",
       "      <td>43300.0</td>\n",
       "      <td>26.0</td>\n",
       "      <td>2077.0</td>\n",
       "      <td>4.0</td>\n",
       "      <td>0.0</td>\n",
       "      <td>1.0</td>\n",
       "      <td>0.0</td>\n",
       "      <td>1.0</td>\n",
       "      <td>0.0</td>\n",
       "    </tr>\n",
       "  </tbody>\n",
       "</table>\n",
       "</div>"
      ],
      "text/plain": [
       "   Topflight  Balance  Qual_miles  cc1_miles?  cc2_miles?  cc3_miles?  \\\n",
       "0        0.0  28143.0         0.0         0.0         1.0         0.0   \n",
       "1        0.0  19244.0         0.0         0.0         0.0         0.0   \n",
       "2        0.0  41354.0         0.0         1.0         0.0         0.0   \n",
       "3        0.0  14776.0         0.0         0.0         0.0         0.0   \n",
       "4        1.0  97752.0         0.0         1.0         0.0         0.0   \n",
       "\n",
       "   Bonus_miles  Bonus_trans  Flight_miles_12mo  Flight_trans_12  Online_12  \\\n",
       "0        174.0          1.0                0.0              0.0        0.0   \n",
       "1        215.0          2.0                0.0              0.0        0.0   \n",
       "2       4123.0          4.0                0.0              0.0        0.0   \n",
       "3        500.0          1.0                0.0              0.0        0.0   \n",
       "4      43300.0         26.0             2077.0              4.0        0.0   \n",
       "\n",
       "   Email  Club_member  Any_cc_miles_12mo  Phone_sale  \n",
       "0    1.0          0.0                1.0         0.0  \n",
       "1    0.0          0.0                0.0         0.0  \n",
       "2    1.0          0.0                1.0         0.0  \n",
       "3    1.0          0.0                0.0         0.0  \n",
       "4    1.0          0.0                1.0         0.0  "
      ]
     },
     "execution_count": 144,
     "metadata": {},
     "output_type": "execute_result"
    }
   ],
   "source": [
    "ewair.drop(columns=['ID#'], inplace=True)\n",
    "ewair.head(5)"
   ]
  },
  {
   "cell_type": "code",
   "execution_count": 145,
   "id": "51eedea6",
   "metadata": {},
   "outputs": [],
   "source": [
    "ewair_X=ewair[['Topflight', 'Balance', 'Qual_miles', 'cc1_miles?', 'cc2_miles?',\n",
    "       'cc3_miles?', 'Bonus_miles', 'Bonus_trans', 'Flight_miles_12mo',\n",
    "       'Flight_trans_12', 'Online_12', 'Email', 'Club_member',\n",
    "       'Any_cc_miles_12mo']]\n",
    "\n",
    "ewair_y=ewair[['Phone_sale']]"
   ]
  },
  {
   "cell_type": "code",
   "execution_count": 147,
   "id": "54575a12",
   "metadata": {},
   "outputs": [],
   "source": [
    "from sklearn.preprocessing import StandardScaler\n",
    "\n",
    "scaler = StandardScaler()\n",
    "ewair_X_std = scaler.fit_transform(ewair_X)\n",
    "ewair_y_std = ewair_y"
   ]
  },
  {
   "cell_type": "code",
   "execution_count": 148,
   "id": "3b4d539d",
   "metadata": {},
   "outputs": [],
   "source": [
    "train_X, valid_X, train_y, valid_y = train_test_split(ewair_X_std, ewair_y_std, test_size=0.4, random_state=1)"
   ]
  },
  {
   "cell_type": "code",
   "execution_count": 150,
   "id": "6ca5e72e",
   "metadata": {},
   "outputs": [
    {
     "ename": "AttributeError",
     "evalue": "'numpy.ndarray' object has no attribute 'groupby'",
     "output_type": "error",
     "traceback": [
      "\u001b[1;31m---------------------------------------------------------------------------\u001b[0m",
      "\u001b[1;31mAttributeError\u001b[0m                            Traceback (most recent call last)",
      "\u001b[1;32mC:\\Users\\Public\\Documents\\ESTsoft\\CreatorTemp/ipykernel_13812/1956441731.py\u001b[0m in \u001b[0;36m<module>\u001b[1;34m\u001b[0m\n\u001b[1;32m----> 1\u001b[1;33m \u001b[0mliftChart\u001b[0m\u001b[1;33m(\u001b[0m\u001b[0mtrain_X\u001b[0m\u001b[1;33m,\u001b[0m \u001b[0mlabelBars\u001b[0m\u001b[1;33m=\u001b[0m\u001b[1;32mFalse\u001b[0m\u001b[1;33m)\u001b[0m\u001b[1;33m\u001b[0m\u001b[1;33m\u001b[0m\u001b[0m\n\u001b[0m\u001b[0;32m      2\u001b[0m \u001b[0mplt\u001b[0m\u001b[1;33m.\u001b[0m\u001b[0mtight_layout\u001b[0m\u001b[1;33m(\u001b[0m\u001b[1;33m)\u001b[0m\u001b[1;33m\u001b[0m\u001b[1;33m\u001b[0m\u001b[0m\n\u001b[0;32m      3\u001b[0m \u001b[0mplt\u001b[0m\u001b[1;33m.\u001b[0m\u001b[0mshow\u001b[0m\u001b[1;33m(\u001b[0m\u001b[1;33m)\u001b[0m\u001b[1;33m\u001b[0m\u001b[1;33m\u001b[0m\u001b[0m\n",
      "\u001b[1;32m~\\anaconda3\\lib\\site-packages\\dmba\\graphs.py\u001b[0m in \u001b[0;36mliftChart\u001b[1;34m(predicted, title, labelBars, ax, figsize)\u001b[0m\n\u001b[0;32m     30\u001b[0m     \u001b[1;31m# group the sorted predictions into 10 roughly equal groups and calculate the mean\u001b[0m\u001b[1;33m\u001b[0m\u001b[1;33m\u001b[0m\u001b[0m\n\u001b[0;32m     31\u001b[0m     \u001b[0mgroups\u001b[0m \u001b[1;33m=\u001b[0m \u001b[1;33m[\u001b[0m\u001b[0mint\u001b[0m\u001b[1;33m(\u001b[0m\u001b[1;36m10\u001b[0m \u001b[1;33m*\u001b[0m \u001b[0mi\u001b[0m \u001b[1;33m/\u001b[0m \u001b[0mlen\u001b[0m\u001b[1;33m(\u001b[0m\u001b[0mpredicted\u001b[0m\u001b[1;33m)\u001b[0m\u001b[1;33m)\u001b[0m \u001b[1;32mfor\u001b[0m \u001b[0mi\u001b[0m \u001b[1;32min\u001b[0m \u001b[0mrange\u001b[0m\u001b[1;33m(\u001b[0m\u001b[0mlen\u001b[0m\u001b[1;33m(\u001b[0m\u001b[0mpredicted\u001b[0m\u001b[1;33m)\u001b[0m\u001b[1;33m)\u001b[0m\u001b[1;33m]\u001b[0m\u001b[1;33m\u001b[0m\u001b[1;33m\u001b[0m\u001b[0m\n\u001b[1;32m---> 32\u001b[1;33m     \u001b[0mmeanPercentile\u001b[0m \u001b[1;33m=\u001b[0m \u001b[0mpredicted\u001b[0m\u001b[1;33m.\u001b[0m\u001b[0mgroupby\u001b[0m\u001b[1;33m(\u001b[0m\u001b[0mgroups\u001b[0m\u001b[1;33m)\u001b[0m\u001b[1;33m.\u001b[0m\u001b[0mmean\u001b[0m\u001b[1;33m(\u001b[0m\u001b[1;33m)\u001b[0m\u001b[1;33m\u001b[0m\u001b[1;33m\u001b[0m\u001b[0m\n\u001b[0m\u001b[0;32m     33\u001b[0m     \u001b[1;31m# divide by the mean prediction to get the mean response\u001b[0m\u001b[1;33m\u001b[0m\u001b[1;33m\u001b[0m\u001b[0m\n\u001b[0;32m     34\u001b[0m     \u001b[0mmeanResponse\u001b[0m \u001b[1;33m=\u001b[0m \u001b[0mmeanPercentile\u001b[0m \u001b[1;33m/\u001b[0m \u001b[0mpredicted\u001b[0m\u001b[1;33m.\u001b[0m\u001b[0mmean\u001b[0m\u001b[1;33m(\u001b[0m\u001b[1;33m)\u001b[0m\u001b[1;33m\u001b[0m\u001b[1;33m\u001b[0m\u001b[0m\n",
      "\u001b[1;31mAttributeError\u001b[0m: 'numpy.ndarray' object has no attribute 'groupby'"
     ]
    }
   ],
   "source": [
    "liftChart(train_X, labelBars=False)\n",
    "plt.tight_layout()\n",
    "plt.show()"
   ]
  },
  {
   "cell_type": "code",
   "execution_count": null,
   "id": "9dd5a75b",
   "metadata": {},
   "outputs": [],
   "source": []
  },
  {
   "cell_type": "code",
   "execution_count": null,
   "id": "eb1230db",
   "metadata": {},
   "outputs": [],
   "source": []
  },
  {
   "cell_type": "code",
   "execution_count": 149,
   "id": "b00243dc",
   "metadata": {},
   "outputs": [],
   "source": [
    "import matplotlib.pylab as plt\n",
    "\n",
    "from dmba import regressionSummary, classificationSummary, liftChart, gainsChart"
   ]
  },
  {
   "cell_type": "markdown",
   "id": "d8fdc4c0",
   "metadata": {},
   "source": [
    "#### a"
   ]
  },
  {
   "cell_type": "code",
   "execution_count": 94,
   "id": "2320c83a",
   "metadata": {},
   "outputs": [
    {
     "ename": "NameError",
     "evalue": "name 'classTree' is not defined",
     "output_type": "error",
     "traceback": [
      "\u001b[1;31m---------------------------------------------------------------------------\u001b[0m",
      "\u001b[1;31mNameError\u001b[0m                                 Traceback (most recent call last)",
      "\u001b[1;32mC:\\Users\\Public\\Documents\\ESTsoft\\CreatorTemp/ipykernel_13812/3526129414.py\u001b[0m in \u001b[0;36m<module>\u001b[1;34m\u001b[0m\n\u001b[1;32m----> 1\u001b[1;33m \u001b[0mdf\u001b[0m \u001b[1;33m=\u001b[0m \u001b[0mpd\u001b[0m\u001b[1;33m.\u001b[0m\u001b[0mDataFrame\u001b[0m\u001b[1;33m(\u001b[0m\u001b[1;33m{\u001b[0m\u001b[1;34m'actual'\u001b[0m\u001b[1;33m:\u001b[0m\u001b[0mtrain_y\u001b[0m\u001b[1;33m,\u001b[0m\u001b[1;34m'p'\u001b[0m\u001b[1;33m:\u001b[0m\u001b[0mclassTree\u001b[0m\u001b[1;33m.\u001b[0m\u001b[0mpredict\u001b[0m\u001b[1;33m(\u001b[0m\u001b[0mtrain_X\u001b[0m\u001b[1;33m)\u001b[0m\u001b[1;33m}\u001b[0m\u001b[1;33m)\u001b[0m\u001b[1;33m\u001b[0m\u001b[1;33m\u001b[0m\u001b[0m\n\u001b[0m\u001b[0;32m      2\u001b[0m \u001b[0mdf\u001b[0m \u001b[1;33m=\u001b[0m \u001b[0mdf\u001b[0m\u001b[1;33m.\u001b[0m\u001b[0msort_values\u001b[0m\u001b[1;33m(\u001b[0m\u001b[0mby\u001b[0m\u001b[1;33m=\u001b[0m\u001b[1;33m[\u001b[0m\u001b[1;34m'p'\u001b[0m\u001b[1;33m]\u001b[0m\u001b[1;33m,\u001b[0m\u001b[0mascending\u001b[0m\u001b[1;33m=\u001b[0m\u001b[1;32mFalse\u001b[0m\u001b[1;33m)\u001b[0m\u001b[1;33m.\u001b[0m\u001b[0mreset_index\u001b[0m\u001b[1;33m(\u001b[0m\u001b[0mdrop\u001b[0m\u001b[1;33m=\u001b[0m\u001b[1;32mTrue\u001b[0m\u001b[1;33m)\u001b[0m\u001b[1;33m\u001b[0m\u001b[1;33m\u001b[0m\u001b[0m\n",
      "\u001b[1;31mNameError\u001b[0m: name 'classTree' is not defined"
     ]
    }
   ],
   "source": [
    "df = pd.DataFrame({'actual':train_y,'p':classTree.predict(train_X)})\n",
    "df = df.sort_values(by=['p'],ascending=False).reset_index(drop=True)"
   ]
  },
  {
   "cell_type": "code",
   "execution_count": null,
   "id": "9aef8d41",
   "metadata": {},
   "outputs": [],
   "source": []
  },
  {
   "cell_type": "code",
   "execution_count": null,
   "id": "c8a24eb6",
   "metadata": {},
   "outputs": [],
   "source": []
  },
  {
   "cell_type": "code",
   "execution_count": null,
   "id": "f800c25a",
   "metadata": {},
   "outputs": [],
   "source": []
  },
  {
   "cell_type": "code",
   "execution_count": null,
   "id": "f5f610be",
   "metadata": {},
   "outputs": [],
   "source": []
  },
  {
   "cell_type": "markdown",
   "id": "297bf206",
   "metadata": {},
   "source": [
    "#### b"
   ]
  },
  {
   "cell_type": "markdown",
   "id": "554e03d1",
   "metadata": {},
   "source": [
    "#### c"
   ]
  },
  {
   "cell_type": "code",
   "execution_count": null,
   "id": "1617f359",
   "metadata": {},
   "outputs": [],
   "source": []
  },
  {
   "cell_type": "code",
   "execution_count": null,
   "id": "afae31de",
   "metadata": {},
   "outputs": [],
   "source": []
  }
 ],
 "metadata": {
  "kernelspec": {
   "display_name": "Python 3 (ipykernel)",
   "language": "python",
   "name": "python3"
  },
  "language_info": {
   "codemirror_mode": {
    "name": "ipython",
    "version": 3
   },
   "file_extension": ".py",
   "mimetype": "text/x-python",
   "name": "python",
   "nbconvert_exporter": "python",
   "pygments_lexer": "ipython3",
   "version": "3.9.12"
  }
 },
 "nbformat": 4,
 "nbformat_minor": 5
}
