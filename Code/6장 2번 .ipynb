{
 "cells": [
  {
   "cell_type": "code",
   "execution_count": 3,
   "id": "7699fbb2",
   "metadata": {},
   "outputs": [],
   "source": [
    "%matplotlib inline\n",
    "from pathlib import Path\n",
    "\n",
    "import pandas as pd\n",
    "from sklearn.model_selection import train_test_split\n",
    "from sklearn.linear_model import LinearRegression, Lasso, Ridge, LassoCV, BayesianRidge\n",
    "import statsmodels.formula.api as sm\n",
    "import matplotlib.pylab as plt\n",
    "\n",
    "from dmba import regressionSummary, exhaustive_search\n",
    "from dmba import backward_elimination, forward_selection, stepwise_selection\n",
    "from dmba import adjusted_r2_score, AIC_score, BIC_score"
   ]
  },
  {
   "cell_type": "code",
   "execution_count": 4,
   "id": "5bf3c32e",
   "metadata": {},
   "outputs": [],
   "source": [
    "tay=pd.read_csv('Tayko.csv')"
   ]
  },
  {
   "cell_type": "markdown",
   "id": "efdb00c5",
   "metadata": {},
   "source": [
    "##### tay의 열 이름\n",
    "'sequence_number', 'US', 'source_a', 'source_c', 'source_b', 'source_d',\n",
    "       'source_e', 'source_m', 'source_o', 'source_h', 'source_r', 'source_s',\n",
    "       'source_t', 'source_u', 'source_p', 'source_x', 'source_w', 'Freq',\n",
    "       'last_update_days_ago', '1st_update_days_ago', 'Web order',\n",
    "       'Gender=male', 'Address_is_res', 'Purchase', 'Spending'"
   ]
  },
  {
   "cell_type": "code",
   "execution_count": 5,
   "id": "2229ee5c",
   "metadata": {},
   "outputs": [],
   "source": [
    "##a"
   ]
  },
  {
   "cell_type": "code",
   "execution_count": 42,
   "id": "4b8b57d1",
   "metadata": {},
   "outputs": [
    {
     "data": {
      "text/html": [
       "<div>\n",
       "<style scoped>\n",
       "    .dataframe tbody tr th:only-of-type {\n",
       "        vertical-align: middle;\n",
       "    }\n",
       "\n",
       "    .dataframe tbody tr th {\n",
       "        vertical-align: top;\n",
       "    }\n",
       "\n",
       "    .dataframe thead th {\n",
       "        text-align: right;\n",
       "    }\n",
       "</style>\n",
       "<table border=\"1\" class=\"dataframe\">\n",
       "  <thead>\n",
       "    <tr style=\"text-align: right;\">\n",
       "      <th></th>\n",
       "      <th>US</th>\n",
       "      <th>Address_is_res</th>\n",
       "      <th>Gender=male</th>\n",
       "      <th>Web order</th>\n",
       "    </tr>\n",
       "  </thead>\n",
       "  <tbody>\n",
       "    <tr>\n",
       "      <th>0</th>\n",
       "      <td>1</td>\n",
       "      <td>1</td>\n",
       "      <td>0</td>\n",
       "      <td>1</td>\n",
       "    </tr>\n",
       "    <tr>\n",
       "      <th>1</th>\n",
       "      <td>1</td>\n",
       "      <td>0</td>\n",
       "      <td>1</td>\n",
       "      <td>1</td>\n",
       "    </tr>\n",
       "    <tr>\n",
       "      <th>2</th>\n",
       "      <td>1</td>\n",
       "      <td>0</td>\n",
       "      <td>0</td>\n",
       "      <td>0</td>\n",
       "    </tr>\n",
       "    <tr>\n",
       "      <th>3</th>\n",
       "      <td>1</td>\n",
       "      <td>0</td>\n",
       "      <td>1</td>\n",
       "      <td>0</td>\n",
       "    </tr>\n",
       "    <tr>\n",
       "      <th>4</th>\n",
       "      <td>1</td>\n",
       "      <td>0</td>\n",
       "      <td>0</td>\n",
       "      <td>0</td>\n",
       "    </tr>\n",
       "    <tr>\n",
       "      <th>...</th>\n",
       "      <td>...</td>\n",
       "      <td>...</td>\n",
       "      <td>...</td>\n",
       "      <td>...</td>\n",
       "    </tr>\n",
       "    <tr>\n",
       "      <th>1995</th>\n",
       "      <td>1</td>\n",
       "      <td>0</td>\n",
       "      <td>0</td>\n",
       "      <td>1</td>\n",
       "    </tr>\n",
       "    <tr>\n",
       "      <th>1996</th>\n",
       "      <td>1</td>\n",
       "      <td>0</td>\n",
       "      <td>1</td>\n",
       "      <td>1</td>\n",
       "    </tr>\n",
       "    <tr>\n",
       "      <th>1997</th>\n",
       "      <td>1</td>\n",
       "      <td>0</td>\n",
       "      <td>0</td>\n",
       "      <td>0</td>\n",
       "    </tr>\n",
       "    <tr>\n",
       "      <th>1998</th>\n",
       "      <td>1</td>\n",
       "      <td>1</td>\n",
       "      <td>1</td>\n",
       "      <td>0</td>\n",
       "    </tr>\n",
       "    <tr>\n",
       "      <th>1999</th>\n",
       "      <td>1</td>\n",
       "      <td>0</td>\n",
       "      <td>0</td>\n",
       "      <td>0</td>\n",
       "    </tr>\n",
       "  </tbody>\n",
       "</table>\n",
       "<p>2000 rows × 4 columns</p>\n",
       "</div>"
      ],
      "text/plain": [
       "      US  Address_is_res  Gender=male  Web order\n",
       "0      1               1            0          1\n",
       "1      1               0            1          1\n",
       "2      1               0            0          0\n",
       "3      1               0            1          0\n",
       "4      1               0            0          0\n",
       "...   ..             ...          ...        ...\n",
       "1995   1               0            0          1\n",
       "1996   1               0            1          1\n",
       "1997   1               0            0          0\n",
       "1998   1               1            1          0\n",
       "1999   1               0            0          0\n",
       "\n",
       "[2000 rows x 4 columns]"
      ]
     },
     "execution_count": 42,
     "metadata": {},
     "output_type": "execute_result"
    }
   ],
   "source": [
    "tay=tay[['US', 'Address_is_res', 'Gender=male', 'Web order', 'last_update_days_ago', 'Freq','Spending']]\n",
    "tay_class=tay[['US', 'Address_is_res', 'Gender=male', 'Web order', 'Spending']]\n",
    "tay_class.drop(['Spending'], axis = 1)"
   ]
  },
  {
   "cell_type": "code",
   "execution_count": 43,
   "id": "92f370e2",
   "metadata": {},
   "outputs": [],
   "source": [
    "us_1=tay_class[tay_class['US']==1].Spending.describe()\n",
    "us_0=tay_class[tay_class['US']==0].Spending.describe()\n",
    "\n",
    "add_1=tay_class[tay_class['Address_is_res']==1].Spending.describe()\n",
    "add_0=tay_class[tay_class['Address_is_res']==0].Spending.describe()\n",
    "\n",
    "gender_1=tay_class[tay_class['Gender=male']==1].Spending.describe()\n",
    "gender_0=tay_class[tay_class['Gender=male']==0].Spending.describe()\n",
    "\n",
    "web_1=tay_class[tay_class['Web order']==1].Spending.describe()\n",
    "web_0=tay_class[tay_class['Web order']==0].Spending.describe()"
   ]
  },
  {
   "cell_type": "code",
   "execution_count": 44,
   "id": "857bad47",
   "metadata": {},
   "outputs": [
    {
     "data": {
      "text/html": [
       "<div>\n",
       "<style scoped>\n",
       "    .dataframe tbody tr th:only-of-type {\n",
       "        vertical-align: middle;\n",
       "    }\n",
       "\n",
       "    .dataframe tbody tr th {\n",
       "        vertical-align: top;\n",
       "    }\n",
       "\n",
       "    .dataframe thead th {\n",
       "        text-align: right;\n",
       "    }\n",
       "</style>\n",
       "<table border=\"1\" class=\"dataframe\">\n",
       "  <thead>\n",
       "    <tr style=\"text-align: right;\">\n",
       "      <th></th>\n",
       "      <th>mean</th>\n",
       "      <th>std</th>\n",
       "    </tr>\n",
       "  </thead>\n",
       "  <tbody>\n",
       "    <tr>\n",
       "      <th>us_1</th>\n",
       "      <td>449.775058</td>\n",
       "      <td>698.928156</td>\n",
       "    </tr>\n",
       "    <tr>\n",
       "      <th>us_0</th>\n",
       "      <td>278.882616</td>\n",
       "      <td>484.747687</td>\n",
       "    </tr>\n",
       "    <tr>\n",
       "      <th>add_1</th>\n",
       "      <td>183.734811</td>\n",
       "      <td>234.639178</td>\n",
       "    </tr>\n",
       "    <tr>\n",
       "      <th>add_0</th>\n",
       "      <td>438.978415</td>\n",
       "      <td>677.057361</td>\n",
       "    </tr>\n",
       "    <tr>\n",
       "      <th>gender_1</th>\n",
       "      <td>372.046359</td>\n",
       "      <td>574.150090</td>\n",
       "    </tr>\n",
       "    <tr>\n",
       "      <th>gender_0</th>\n",
       "      <td>357.771497</td>\n",
       "      <td>539.349506</td>\n",
       "    </tr>\n",
       "    <tr>\n",
       "      <th>web_1</th>\n",
       "      <td>357.176671</td>\n",
       "      <td>517.700987</td>\n",
       "    </tr>\n",
       "    <tr>\n",
       "      <th>web_0</th>\n",
       "      <td>379.289941</td>\n",
       "      <td>594.121612</td>\n",
       "    </tr>\n",
       "  </tbody>\n",
       "</table>\n",
       "</div>"
      ],
      "text/plain": [
       "                mean         std\n",
       "us_1      449.775058  698.928156\n",
       "us_0      278.882616  484.747687\n",
       "add_1     183.734811  234.639178\n",
       "add_0     438.978415  677.057361\n",
       "gender_1  372.046359  574.150090\n",
       "gender_0  357.771497  539.349506\n",
       "web_1     357.176671  517.700987\n",
       "web_0     379.289941  594.121612"
      ]
     },
     "execution_count": 44,
     "metadata": {},
     "output_type": "execute_result"
    }
   ],
   "source": [
    "data={'us_1':us_1, 'us_0':us_0,\n",
    "      'add_1':add_1, 'add_0':add_0,\n",
    "      'gender_1':gender_1, 'gender_0':gender_0,\n",
    "      'web_1':web_1, 'web_0':web_0           \n",
    "     }\n",
    "\n",
    "data2={'mean':pd.DataFrame(data).mean(), 'std':pd.DataFrame(data).std()}\n",
    "pd.DataFrame(data2)\n"
   ]
  },
  {
   "cell_type": "code",
   "execution_count": 22,
   "id": "ae010c72",
   "metadata": {},
   "outputs": [
    {
     "name": "stdout",
     "output_type": "stream",
     "text": [
      "[Gender]\n",
      "             Spending                                                      \n",
      "               count        mean        std  min  25%   50%    75%     max\n",
      "Gender=male                                                               \n",
      "0              951.0  107.339642  190.83233  0.0  0.0  10.0  160.0  1443.0\n",
      "1             1049.0   98.350810  183.02006  0.0  0.0   0.0  146.0  1500.0\n",
      "\n",
      "\n",
      "[Web order]\n",
      "           Spending                                                        \n",
      "             count        mean         std  min  25%   50%     75%     max\n",
      "Web order                                                                 \n",
      "0           1148.0   82.902439  173.417088  0.0  0.0   0.0  130.00  1500.0\n",
      "1            852.0  129.199531  200.463840  0.0  0.0  68.5  164.25  1443.0\n",
      "\n",
      "\n",
      "['Address_is_res']\n",
      "                Spending                                                      \n",
      "                  count        mean         std  min  25%  50%    75%     max\n",
      "Address_is_res                                                               \n",
      "0                1558.0  105.306162  199.521159  0.0  0.0  0.0  149.0  1500.0\n",
      "1                 442.0   93.174208  132.204281  0.0  0.0  3.5  160.0   639.0\n",
      "\n",
      "\n",
      "['Purchase']\n",
      "          Spending                                                        \n",
      "            count     mean         std  min    25%    50%     75%     max\n",
      "Purchase                                                                 \n",
      "0          1000.0    0.001    0.031623  0.0   0.00    0.0    0.00     1.0\n",
      "1          1000.0  205.249  220.739559  3.0  94.75  153.0  233.75  1500.0\n"
     ]
    }
   ],
   "source": [
    "t_gender=tay[['Gender=male','Spending']].groupby('Gender=male').describe()\n",
    "t_order=tay[['Web order','Spending']].groupby('Web order').describe()\n",
    "t_res=tay[['Address_is_res','Spending']].groupby('Address_is_res').describe()\n",
    "t_purchase=tay[['Purchase','Spending']].groupby('Purchase').describe()\n",
    "\n",
    "print(\"[Gender]\\n\", t_gender)\n",
    "print(\"\\n\\n[Web order]\\n\", t_order)\n",
    "print(\"\\n\\n['Address_is_res']\\n\", t_res)\n",
    "print(\"\\n\\n['Purchase']\\n\", t_purchase) \n",
    "## 구매여부를 물어보는 변수인데 책에는 나와있지 않은 변수이기에 고려하지 않고 다음 문제부터 적용"
   ]
  },
  {
   "cell_type": "code",
   "execution_count": 23,
   "id": "b2b1f762",
   "metadata": {},
   "outputs": [],
   "source": [
    "#b 연속형 변수들에 대해 산점도 만들기"
   ]
  },
  {
   "cell_type": "code",
   "execution_count": 24,
   "id": "a7a49b63",
   "metadata": {},
   "outputs": [],
   "source": [
    "import matplotlib.pyplot as plt"
   ]
  },
  {
   "cell_type": "code",
   "execution_count": 25,
   "id": "d9e3c69d",
   "metadata": {},
   "outputs": [
    {
     "data": {
      "image/png": "[encoded data removed]",
      "text/plain": [
       "<Figure size 432x288 with 1 Axes>"
      ]
     },
     "metadata": {
      "needs_background": "light"
     },
     "output_type": "display_data"
    }
   ],
   "source": [
    "plt.scatter(tay['Freq'],tay['Spending'])\n",
    "plt.show()"
   ]
  },
  {
   "cell_type": "code",
   "execution_count": 26,
   "id": "e641d4e0",
   "metadata": {},
   "outputs": [
    {
     "data": {
      "image/png": "[encoded data removed]",
      "text/plain": [
       "<Figure size 432x288 with 1 Axes>"
      ]
     },
     "metadata": {
      "needs_background": "light"
     },
     "output_type": "display_data"
    }
   ],
   "source": [
    "plt.scatter(tay['last_update_days_ago'],tay['Spending'])\n",
    "plt.show()"
   ]
  },
  {
   "cell_type": "code",
   "execution_count": 27,
   "id": "ee987987",
   "metadata": {},
   "outputs": [],
   "source": [
    "###### 선형관계가 있어 보이지 않는다."
   ]
  },
  {
   "cell_type": "code",
   "execution_count": 28,
   "id": "a9d8fa5b",
   "metadata": {},
   "outputs": [],
   "source": [
    "#c "
   ]
  },
  {
   "cell_type": "code",
   "execution_count": 29,
   "id": "8af3d1a5",
   "metadata": {},
   "outputs": [],
   "source": [
    "##1 학습세트와 검정세트 나누기"
   ]
  },
  {
   "cell_type": "code",
   "execution_count": 76,
   "id": "0dba9eef",
   "metadata": {},
   "outputs": [],
   "source": [
    "predictors = ['US', # 미국 주소지인지에 대한 여부\n",
    "              'Freq', # 전년도 거래일수\n",
    "       'last_update_days_ago', # 최종갱신일로부터 경과일수\n",
    "              'Web order', #고객이 인터넷 구매 여부\n",
    "       'Gender=male', #성별\n",
    "              'Address_is_res'] #거주지 주소인지에 대한 여부\n",
    "outcome = 'Spending' ## 6개의 예측변수\n",
    "\n",
    "X = pd.get_dummies(tay[predictors], drop_first=True)\n",
    "y = tay[outcome]\n",
    "train_X, valid_X, train_y, valid_y = train_test_split(X, y, test_size=0.4, random_state=1)"
   ]
  },
  {
   "cell_type": "code",
   "execution_count": 38,
   "id": "1ac2a838",
   "metadata": {},
   "outputs": [],
   "source": [
    "##2 6개의 예측변수를 사용하여 다중 선형회귀 모형 제시"
   ]
  },
  {
   "cell_type": "code",
   "execution_count": 43,
   "id": "509e546e",
   "metadata": {},
   "outputs": [
    {
     "name": "stdout",
     "output_type": "stream",
     "text": [
      "Intercept 10.176\n",
      "              Preditior  coefficient\n",
      "0                    US    -4.620293\n",
      "1                  Freq    91.274450\n",
      "2  last_update_days_ago    -0.010374\n",
      "3             Web order    18.628731\n",
      "4           Gender=male    -9.111366\n",
      "5        Address_is_res   -75.815354\n"
     ]
    }
   ],
   "source": [
    "tay_lm = LinearRegression()\n",
    "tay_lm.fit(train_X, train_y)\n",
    "\n",
    "print(\"Intercept\", round(tay_lm.intercept_,3))\n",
    "print(pd.DataFrame({'Preditior': X.columns, 'coefficient': tay_lm.coef_})) # 계수 print"
   ]
  },
  {
   "cell_type": "code",
   "execution_count": 54,
   "id": "e73439a8",
   "metadata": {},
   "outputs": [],
   "source": [
    "## 선형회귀식 모형 : y = 10.176 - 4.62x1 + 91.274x2 - 0.01x3 + 18.629x4 - 9.111x5 - 75.815x6\n",
    "\n",
    "## x1 US\n",
    "## x2 Freq\n",
    "## x3 last_update_days_ago\n",
    "## x4 Web order\n",
    "## x5 Gender\n",
    "## x6 Address_is_res"
   ]
  },
  {
   "cell_type": "code",
   "execution_count": 55,
   "id": "9354947f",
   "metadata": {},
   "outputs": [],
   "source": [
    "##3 가장 많은 돈을 지출할 것 같은 고객의 유형?"
   ]
  },
  {
   "cell_type": "code",
   "execution_count": 56,
   "id": "898b5c40",
   "metadata": {},
   "outputs": [],
   "source": [
    "## 위의 선형회귀식 모형의 부호를 통해 알 수 있다.\n",
    "# 미국에 거주하지 않고\n",
    "# 전년도 거래일수가 많고\n",
    "# 최종갱신일로부터 경과일수가 작고\n",
    "# 인터넷 구매여부가 있고\n",
    "# 성별이 여자이고\n",
    "# 거주지 주소가 아닌 고객이 가장 많은 돈을 지출한다."
   ]
  },
  {
   "cell_type": "code",
   "execution_count": null,
   "id": "59007d6a",
   "metadata": {},
   "outputs": [],
   "source": [
    "##4 예측변수를 줄이기 위해 후방소거법 어떤 예측변수가 가장 먼저 탈락?"
   ]
  },
  {
   "cell_type": "code",
   "execution_count": 57,
   "id": "2b696fbc",
   "metadata": {},
   "outputs": [
    {
     "name": "stdout",
     "output_type": "stream",
     "text": [
      "Variables: US, Freq, last_update_days_ago, Web order, Gender=male, Address_is_res\n",
      "Start: score=15028.53\n",
      "Step: score=15026.76, remove US\n",
      "Step: score=15026.38, remove Gender=male\n",
      "Step: score=15026.38, remove None\n",
      "['Freq', 'last_update_days_ago', 'Web order', 'Address_is_res']\n"
     ]
    }
   ],
   "source": [
    "def train_model(variables):\n",
    "    model = LinearRegression()\n",
    "    model.fit(train_X[variables], train_y)\n",
    "    return model\n",
    "\n",
    "def score_model(model, variables):\n",
    "    return AIC_score(train_y, model.predict(train_X[variables]), model)\n",
    "\n",
    "best_model, best_variables = backward_elimination(train_X.columns, train_model, score_model, verbose=True)\n",
    "\n",
    "print(best_variables)"
   ]
  },
  {
   "cell_type": "code",
   "execution_count": 58,
   "id": "0c28ff11",
   "metadata": {},
   "outputs": [],
   "source": [
    "## 제일 처음으로 US 미국 주소인지 여부를 알려주는 변수가 탈락한다."
   ]
  },
  {
   "cell_type": "code",
   "execution_count": 59,
   "id": "e2dcafe7",
   "metadata": {},
   "outputs": [],
   "source": [
    "##5 검증데이터의 첫번째 구매데이터를 이용해 예측값과 예측오차 구하기"
   ]
  },
  {
   "cell_type": "code",
   "execution_count": 61,
   "id": "78c8dfcd",
   "metadata": {},
   "outputs": [
    {
     "data": {
      "text/html": [
       "<div>\n",
       "<style scoped>\n",
       "    .dataframe tbody tr th:only-of-type {\n",
       "        vertical-align: middle;\n",
       "    }\n",
       "\n",
       "    .dataframe tbody tr th {\n",
       "        vertical-align: top;\n",
       "    }\n",
       "\n",
       "    .dataframe thead th {\n",
       "        text-align: right;\n",
       "    }\n",
       "</style>\n",
       "<table border=\"1\" class=\"dataframe\">\n",
       "  <thead>\n",
       "    <tr style=\"text-align: right;\">\n",
       "      <th></th>\n",
       "      <th>US</th>\n",
       "      <th>Freq</th>\n",
       "      <th>last_update_days_ago</th>\n",
       "      <th>Web order</th>\n",
       "      <th>Gender=male</th>\n",
       "      <th>Address_is_res</th>\n",
       "    </tr>\n",
       "  </thead>\n",
       "  <tbody>\n",
       "    <tr>\n",
       "      <th>674</th>\n",
       "      <td>1</td>\n",
       "      <td>2</td>\n",
       "      <td>1346</td>\n",
       "      <td>0</td>\n",
       "      <td>1</td>\n",
       "      <td>1</td>\n",
       "    </tr>\n",
       "  </tbody>\n",
       "</table>\n",
       "</div>"
      ],
      "text/plain": [
       "     US  Freq  last_update_days_ago  Web order  Gender=male  Address_is_res\n",
       "674   1     2                  1346          0            1               1"
      ]
     },
     "execution_count": 61,
     "metadata": {},
     "output_type": "execute_result"
    }
   ],
   "source": [
    "valid_X.head(1)"
   ]
  },
  {
   "cell_type": "code",
   "execution_count": 67,
   "id": "88c8f304",
   "metadata": {},
   "outputs": [
    {
     "data": {
      "text/plain": [
       "674    0\n",
       "Name: Spending, dtype: int64"
      ]
     },
     "execution_count": 67,
     "metadata": {},
     "output_type": "execute_result"
    }
   ],
   "source": [
    "valid_y.head(1)"
   ]
  },
  {
   "cell_type": "code",
   "execution_count": 68,
   "id": "b5040695",
   "metadata": {},
   "outputs": [
    {
     "name": "stdout",
     "output_type": "stream",
     "text": [
      "예측값:  89.71800000000002\n",
      "실제값:  0\n",
      "예측오차:  -89.71800000000002\n"
     ]
    }
   ],
   "source": [
    "y = 10.176 - 4.62*1 + 91.274*2 - 0.01*1346 + 18.629*0 - 9.111*1 - 75.815 * 1 \n",
    "print('예측값: ', y)\n",
    "print('실제값: ', 0)\n",
    "print('예측오차: ', 0-y)"
   ]
  },
  {
   "cell_type": "code",
   "execution_count": 69,
   "id": "24e2e3e8",
   "metadata": {},
   "outputs": [],
   "source": [
    "##6 검증세트에 대한 모델성능을 검토한 후 모델의 예측 정확도를 평가하시오"
   ]
  },
  {
   "cell_type": "code",
   "execution_count": 78,
   "id": "496a8f7c",
   "metadata": {},
   "outputs": [
    {
     "name": "stdout",
     "output_type": "stream",
     "text": [
      "\n",
      "Regression statistics\n",
      "\n",
      "               Mean Error (ME) : 7.1933\n",
      "Root Mean Squared Error (RMSE) : 136.7397\n",
      "     Mean Absolute Error (MAE) : 83.6010\n"
     ]
    }
   ],
   "source": [
    "pred_y = tay_lm.predict(valid_X)\n",
    "regressionSummary(valid_y, pred_y) # 검증 세트에 대한 성능 파악"
   ]
  },
  {
   "cell_type": "code",
   "execution_count": 79,
   "id": "0fcadbf8",
   "metadata": {},
   "outputs": [
    {
     "name": "stdout",
     "output_type": "stream",
     "text": [
      "adjusted r2 :  0.4915759673170541\n",
      "AIC :  10155.227820697535\n",
      "BIC :  10192.704714518879\n"
     ]
    }
   ],
   "source": [
    "print('adjusted r2 : ', adjusted_r2_score(valid_y, pred_y, tay_lm)) \n",
    "print('AIC : ', AIC_score(valid_y, pred_y, tay_lm))\n",
    "print('BIC : ', BIC_score(valid_y, pred_y, tay_lm)) "
   ]
  },
  {
   "cell_type": "code",
   "execution_count": 81,
   "id": "54c69b73",
   "metadata": {},
   "outputs": [],
   "source": [
    "##7 모델 잔차에 대한 히스토그램 작성, 정규분포따르는가, 모델 예측 성능에 어떤 영향 ?"
   ]
  },
  {
   "cell_type": "code",
   "execution_count": 82,
   "id": "26290f2d",
   "metadata": {},
   "outputs": [
    {
     "data": {
      "image/png": "[encoded data removed]",
      "text/plain": [
       "<Figure size 432x288 with 1 Axes>"
      ]
     },
     "metadata": {
      "needs_background": "light"
     },
     "output_type": "display_data"
    }
   ],
   "source": [
    "tay_residuals = valid_y - pred_y\n",
    "ax = pd.DataFrame({\"Residuals\":tay_residuals}).hist()\n",
    "\n",
    "plt.show()"
   ]
  },
  {
   "cell_type": "code",
   "execution_count": 83,
   "id": "db6220ce",
   "metadata": {},
   "outputs": [],
   "source": [
    "## 왼쪽으로 치우쳐 있어 정규분포라 보기 어렵다.\n",
    "## 모델 예측 성능으로 볼 때 좋다고 하기 어렵다."
   ]
  },
  {
   "cell_type": "code",
   "execution_count": null,
   "id": "59df7ff8",
   "metadata": {},
   "outputs": [],
   "source": []
  }
 ],
 "metadata": {
  "kernelspec": {
   "display_name": "Python 3 (ipykernel)",
   "language": "python",
   "name": "python3"
  },
  "language_info": {
   "codemirror_mode": {
    "name": "ipython",
    "version": 3
   },
   "file_extension": ".py",
   "mimetype": "text/x-python",
   "name": "python",
   "nbconvert_exporter": "python",
   "pygments_lexer": "ipython3",
   "version": "3.9.7"
  }
 },
 "nbformat": 4,
 "nbformat_minor": 5
}
