{
 "cells": [
  {
   "cell_type": "code",
   "execution_count": 1,
   "id": "9f5f3acd",
   "metadata": {},
   "outputs": [],
   "source": [
    "%matplotlib inline\n",
    "\n",
    "from pathlib import Path\n",
    "\n",
    "import pandas as pd\n",
    "from sklearn import preprocessing\n",
    "from sklearn.model_selection import train_test_split\n",
    "from sklearn.metrics import accuracy_score\n",
    "from sklearn.neighbors import NearestNeighbors, KNeighborsClassifier\n",
    "import matplotlib.pylab as plt"
   ]
  },
  {
   "cell_type": "markdown",
   "id": "af71d529",
   "metadata": {},
   "source": [
    "## 7.1"
   ]
  },
  {
   "cell_type": "code",
   "execution_count": 2,
   "id": "cae12c48",
   "metadata": {},
   "outputs": [],
   "source": [
    "#a"
   ]
  },
  {
   "cell_type": "code",
   "execution_count": 3,
   "id": "e3a685db",
   "metadata": {},
   "outputs": [
    {
     "data": {
      "text/html": [
       "<div>\n",
       "<style scoped>\n",
       "    .dataframe tbody tr th:only-of-type {\n",
       "        vertical-align: middle;\n",
       "    }\n",
       "\n",
       "    .dataframe tbody tr th {\n",
       "        vertical-align: top;\n",
       "    }\n",
       "\n",
       "    .dataframe thead th {\n",
       "        text-align: right;\n",
       "    }\n",
       "</style>\n",
       "<table border=\"1\" class=\"dataframe\">\n",
       "  <thead>\n",
       "    <tr style=\"text-align: right;\">\n",
       "      <th></th>\n",
       "      <th>job</th>\n",
       "      <th>year</th>\n",
       "    </tr>\n",
       "  </thead>\n",
       "  <tbody>\n",
       "    <tr>\n",
       "      <th>0</th>\n",
       "      <td>IT</td>\n",
       "      <td>1.0</td>\n",
       "    </tr>\n",
       "    <tr>\n",
       "      <th>1</th>\n",
       "      <td>Stat</td>\n",
       "      <td>1.0</td>\n",
       "    </tr>\n",
       "    <tr>\n",
       "      <th>2</th>\n",
       "      <td>Other</td>\n",
       "      <td>1.1</td>\n",
       "    </tr>\n",
       "  </tbody>\n",
       "</table>\n",
       "</div>"
      ],
      "text/plain": [
       "     job  year\n",
       "0     IT   1.0\n",
       "1   Stat   1.0\n",
       "2  Other   1.1"
      ]
     },
     "execution_count": 3,
     "metadata": {},
     "output_type": "execute_result"
    }
   ],
   "source": [
    "data=pd.DataFrame({'job':['IT', 'Stat', 'Other'], 'year':[1,1,1.1]})\n",
    "data"
   ]
  },
  {
   "cell_type": "code",
   "execution_count": 4,
   "id": "622351b1",
   "metadata": {},
   "outputs": [
    {
     "data": {
      "text/html": [
       "<div>\n",
       "<style scoped>\n",
       "    .dataframe tbody tr th:only-of-type {\n",
       "        vertical-align: middle;\n",
       "    }\n",
       "\n",
       "    .dataframe tbody tr th {\n",
       "        vertical-align: top;\n",
       "    }\n",
       "\n",
       "    .dataframe thead th {\n",
       "        text-align: right;\n",
       "    }\n",
       "</style>\n",
       "<table border=\"1\" class=\"dataframe\">\n",
       "  <thead>\n",
       "    <tr style=\"text-align: right;\">\n",
       "      <th></th>\n",
       "      <th>year</th>\n",
       "      <th>job_IT</th>\n",
       "      <th>job_Other</th>\n",
       "      <th>job_Stat</th>\n",
       "    </tr>\n",
       "  </thead>\n",
       "  <tbody>\n",
       "    <tr>\n",
       "      <th>0</th>\n",
       "      <td>1.0</td>\n",
       "      <td>1</td>\n",
       "      <td>0</td>\n",
       "      <td>0</td>\n",
       "    </tr>\n",
       "    <tr>\n",
       "      <th>1</th>\n",
       "      <td>1.0</td>\n",
       "      <td>0</td>\n",
       "      <td>0</td>\n",
       "      <td>1</td>\n",
       "    </tr>\n",
       "    <tr>\n",
       "      <th>2</th>\n",
       "      <td>1.1</td>\n",
       "      <td>0</td>\n",
       "      <td>1</td>\n",
       "      <td>0</td>\n",
       "    </tr>\n",
       "  </tbody>\n",
       "</table>\n",
       "</div>"
      ],
      "text/plain": [
       "   year  job_IT  job_Other  job_Stat\n",
       "0   1.0       1          0         0\n",
       "1   1.0       0          0         1\n",
       "2   1.1       0          1         0"
      ]
     },
     "execution_count": 4,
     "metadata": {},
     "output_type": "execute_result"
    }
   ],
   "source": [
    "# 3개의 이진변수 변환을 위해 가변수 적용\n",
    "job_3 = pd.get_dummies(data)\n",
    "job_3"
   ]
  },
  {
   "cell_type": "code",
   "execution_count": 5,
   "id": "418bfe55",
   "metadata": {},
   "outputs": [
    {
     "data": {
      "text/html": [
       "<div>\n",
       "<style scoped>\n",
       "    .dataframe tbody tr th:only-of-type {\n",
       "        vertical-align: middle;\n",
       "    }\n",
       "\n",
       "    .dataframe tbody tr th {\n",
       "        vertical-align: top;\n",
       "    }\n",
       "\n",
       "    .dataframe thead th {\n",
       "        text-align: right;\n",
       "    }\n",
       "</style>\n",
       "<table border=\"1\" class=\"dataframe\">\n",
       "  <thead>\n",
       "    <tr style=\"text-align: right;\">\n",
       "      <th></th>\n",
       "      <th>year</th>\n",
       "      <th>job_Other</th>\n",
       "      <th>job_Stat</th>\n",
       "    </tr>\n",
       "  </thead>\n",
       "  <tbody>\n",
       "    <tr>\n",
       "      <th>0</th>\n",
       "      <td>1.0</td>\n",
       "      <td>0</td>\n",
       "      <td>0</td>\n",
       "    </tr>\n",
       "    <tr>\n",
       "      <th>1</th>\n",
       "      <td>1.0</td>\n",
       "      <td>0</td>\n",
       "      <td>1</td>\n",
       "    </tr>\n",
       "    <tr>\n",
       "      <th>2</th>\n",
       "      <td>1.1</td>\n",
       "      <td>1</td>\n",
       "      <td>0</td>\n",
       "    </tr>\n",
       "  </tbody>\n",
       "</table>\n",
       "</div>"
      ],
      "text/plain": [
       "   year  job_Other  job_Stat\n",
       "0   1.0          0         0\n",
       "1   1.0          0         1\n",
       "2   1.1          1         0"
      ]
     },
     "execution_count": 5,
     "metadata": {},
     "output_type": "execute_result"
    }
   ],
   "source": [
    "# 두 개를 가변수 적용하면 나머지 하나는 자동적으로 결정됨\n",
    "job_2 = pd.get_dummies(data, drop_first=True)\n",
    "job_2"
   ]
  },
  {
   "cell_type": "code",
   "execution_count": 6,
   "id": "aef2bd74",
   "metadata": {},
   "outputs": [],
   "source": [
    "#b 잠재고객과 각 고객의 유클리드 거리 계산"
   ]
  },
  {
   "cell_type": "code",
   "execution_count": 7,
   "id": "88d8f8ea",
   "metadata": {},
   "outputs": [],
   "source": [
    "c=job_3.iloc[1:]\n",
    "p=job_3.iloc[:1]"
   ]
  },
  {
   "cell_type": "code",
   "execution_count": 8,
   "id": "a3819db7",
   "metadata": {},
   "outputs": [
    {
     "name": "stdout",
     "output_type": "stream",
     "text": [
      "[[1.41421356]]\n"
     ]
    }
   ],
   "source": [
    "knn = NearestNeighbors(n_neighbors=1)\n",
    "knn.fit(c)\n",
    "distances, indices = knn.kneighbors(p) # 거리구하기\n",
    "print(distances) "
   ]
  },
  {
   "cell_type": "code",
   "execution_count": 9,
   "id": "17b4ea1b",
   "metadata": {},
   "outputs": [
    {
     "name": "stdout",
     "output_type": "stream",
     "text": [
      "[[1.41421356 1.41774469]]\n"
     ]
    }
   ],
   "source": [
    "knn = NearestNeighbors(n_neighbors=2)\n",
    "knn.fit(c)\n",
    "distances, indices = knn.kneighbors(p) # 거리구하기\n",
    "print(distances) "
   ]
  },
  {
   "cell_type": "code",
   "execution_count": 10,
   "id": "1185fb15",
   "metadata": {},
   "outputs": [],
   "source": [
    "#c k=1 일때 잠재고객을 코스 수강함 코스 수강하지 않음으로 분류"
   ]
  },
  {
   "cell_type": "code",
   "execution_count": 11,
   "id": "7a733850",
   "metadata": {},
   "outputs": [
    {
     "name": "stderr",
     "output_type": "stream",
     "text": [
      "C:\\Users\\Public\\Documents\\ESTsoft\\CreatorTemp/ipykernel_23044/3666573112.py:3: SettingWithCopyWarning: \n",
      "A value is trying to be set on a copy of a slice from a DataFrame.\n",
      "Try using .loc[row_indexer,col_indexer] = value instead\n",
      "\n",
      "See the caveats in the documentation: https://pandas.pydata.org/pandas-docs/stable/user_guide/indexing.html#returning-a-view-versus-a-copy\n",
      "  c3['course']=['NO', 'YES']\n"
     ]
    },
    {
     "data": {
      "text/html": [
       "<div>\n",
       "<style scoped>\n",
       "    .dataframe tbody tr th:only-of-type {\n",
       "        vertical-align: middle;\n",
       "    }\n",
       "\n",
       "    .dataframe tbody tr th {\n",
       "        vertical-align: top;\n",
       "    }\n",
       "\n",
       "    .dataframe thead th {\n",
       "        text-align: right;\n",
       "    }\n",
       "</style>\n",
       "<table border=\"1\" class=\"dataframe\">\n",
       "  <thead>\n",
       "    <tr style=\"text-align: right;\">\n",
       "      <th></th>\n",
       "      <th>year</th>\n",
       "      <th>job_IT</th>\n",
       "      <th>job_Other</th>\n",
       "      <th>job_Stat</th>\n",
       "      <th>course</th>\n",
       "    </tr>\n",
       "  </thead>\n",
       "  <tbody>\n",
       "    <tr>\n",
       "      <th>1</th>\n",
       "      <td>1.0</td>\n",
       "      <td>0</td>\n",
       "      <td>0</td>\n",
       "      <td>1</td>\n",
       "      <td>NO</td>\n",
       "    </tr>\n",
       "    <tr>\n",
       "      <th>2</th>\n",
       "      <td>1.1</td>\n",
       "      <td>0</td>\n",
       "      <td>1</td>\n",
       "      <td>0</td>\n",
       "      <td>YES</td>\n",
       "    </tr>\n",
       "  </tbody>\n",
       "</table>\n",
       "</div>"
      ],
      "text/plain": [
       "   year  job_IT  job_Other  job_Stat course\n",
       "1   1.0       0          0         1     NO\n",
       "2   1.1       0          1         0    YES"
      ]
     },
     "execution_count": 11,
     "metadata": {},
     "output_type": "execute_result"
    }
   ],
   "source": [
    "# 3개의 가변수\n",
    "c3=job_3.loc[1:]\n",
    "c3['course']=['NO', 'YES']\n",
    "c3"
   ]
  },
  {
   "cell_type": "code",
   "execution_count": 12,
   "id": "dff737be",
   "metadata": {},
   "outputs": [
    {
     "data": {
      "text/html": [
       "<div>\n",
       "<style scoped>\n",
       "    .dataframe tbody tr th:only-of-type {\n",
       "        vertical-align: middle;\n",
       "    }\n",
       "\n",
       "    .dataframe tbody tr th {\n",
       "        vertical-align: top;\n",
       "    }\n",
       "\n",
       "    .dataframe thead th {\n",
       "        text-align: right;\n",
       "    }\n",
       "</style>\n",
       "<table border=\"1\" class=\"dataframe\">\n",
       "  <thead>\n",
       "    <tr style=\"text-align: right;\">\n",
       "      <th></th>\n",
       "      <th>year</th>\n",
       "      <th>job_IT</th>\n",
       "      <th>job_Other</th>\n",
       "      <th>job_Stat</th>\n",
       "    </tr>\n",
       "  </thead>\n",
       "  <tbody>\n",
       "    <tr>\n",
       "      <th>0</th>\n",
       "      <td>1.0</td>\n",
       "      <td>1</td>\n",
       "      <td>0</td>\n",
       "      <td>0</td>\n",
       "    </tr>\n",
       "  </tbody>\n",
       "</table>\n",
       "</div>"
      ],
      "text/plain": [
       "   year  job_IT  job_Other  job_Stat\n",
       "0   1.0       1          0         0"
      ]
     },
     "execution_count": 12,
     "metadata": {},
     "output_type": "execute_result"
    }
   ],
   "source": [
    "c3_o=job_3.loc[:0]\n",
    "c3_o"
   ]
  },
  {
   "cell_type": "code",
   "execution_count": 13,
   "id": "29461dec",
   "metadata": {},
   "outputs": [
    {
     "name": "stdout",
     "output_type": "stream",
     "text": [
      "   year  job_IT  job_Other  job_Stat course\n",
      "1   1.0       0          0         1     NO\n"
     ]
    }
   ],
   "source": [
    "knn = NearestNeighbors(n_neighbors=1)\n",
    "knn.fit(c3[['year', 'job_IT', 'job_Other','job_Stat']])\n",
    "distances, indices = knn.kneighbors(c3_o)\n",
    "print(c3.iloc[indices[0],:])"
   ]
  },
  {
   "cell_type": "code",
   "execution_count": 14,
   "id": "b8f226dd",
   "metadata": {},
   "outputs": [
    {
     "name": "stderr",
     "output_type": "stream",
     "text": [
      "C:\\Users\\Public\\Documents\\ESTsoft\\CreatorTemp/ipykernel_23044/3658196055.py:3: SettingWithCopyWarning: \n",
      "A value is trying to be set on a copy of a slice from a DataFrame.\n",
      "Try using .loc[row_indexer,col_indexer] = value instead\n",
      "\n",
      "See the caveats in the documentation: https://pandas.pydata.org/pandas-docs/stable/user_guide/indexing.html#returning-a-view-versus-a-copy\n",
      "  c2['course']=['NO', 'YES']\n"
     ]
    }
   ],
   "source": [
    "# 가변수 2개\n",
    "c2=job_2.loc[1:]\n",
    "c2['course']=['NO', 'YES']"
   ]
  },
  {
   "cell_type": "code",
   "execution_count": 15,
   "id": "73a013ba",
   "metadata": {},
   "outputs": [
    {
     "data": {
      "text/html": [
       "<div>\n",
       "<style scoped>\n",
       "    .dataframe tbody tr th:only-of-type {\n",
       "        vertical-align: middle;\n",
       "    }\n",
       "\n",
       "    .dataframe tbody tr th {\n",
       "        vertical-align: top;\n",
       "    }\n",
       "\n",
       "    .dataframe thead th {\n",
       "        text-align: right;\n",
       "    }\n",
       "</style>\n",
       "<table border=\"1\" class=\"dataframe\">\n",
       "  <thead>\n",
       "    <tr style=\"text-align: right;\">\n",
       "      <th></th>\n",
       "      <th>year</th>\n",
       "      <th>job_Other</th>\n",
       "      <th>job_Stat</th>\n",
       "    </tr>\n",
       "  </thead>\n",
       "  <tbody>\n",
       "    <tr>\n",
       "      <th>0</th>\n",
       "      <td>1.0</td>\n",
       "      <td>0</td>\n",
       "      <td>0</td>\n",
       "    </tr>\n",
       "  </tbody>\n",
       "</table>\n",
       "</div>"
      ],
      "text/plain": [
       "   year  job_Other  job_Stat\n",
       "0   1.0          0         0"
      ]
     },
     "execution_count": 15,
     "metadata": {},
     "output_type": "execute_result"
    }
   ],
   "source": [
    "c2_o=job_2.loc[:0]\n",
    "c2_o"
   ]
  },
  {
   "cell_type": "code",
   "execution_count": 16,
   "id": "4c07e87b",
   "metadata": {},
   "outputs": [
    {
     "name": "stdout",
     "output_type": "stream",
     "text": [
      "   year  job_Other  job_Stat course\n",
      "1   1.0          0         1     NO\n"
     ]
    }
   ],
   "source": [
    "knn = NearestNeighbors(n_neighbors=1)\n",
    "knn.fit(c2[['year', 'job_Other','job_Stat']])\n",
    "distances, indices = knn.kneighbors(c2_o)\n",
    "print(c2.iloc[indices[0],:])"
   ]
  },
  {
   "cell_type": "code",
   "execution_count": 17,
   "id": "4a6e4ba6",
   "metadata": {},
   "outputs": [],
   "source": [
    "## 수강하지 않음으로 분류한다."
   ]
  },
  {
   "cell_type": "markdown",
   "id": "780b3a95",
   "metadata": {},
   "source": [
    "## 7.2"
   ]
  },
  {
   "cell_type": "code",
   "execution_count": 18,
   "id": "1727d931",
   "metadata": {},
   "outputs": [],
   "source": [
    "univ = pd.read_csv('UniversalBank.csv')"
   ]
  },
  {
   "cell_type": "code",
   "execution_count": 19,
   "id": "cce3c803",
   "metadata": {},
   "outputs": [
    {
     "data": {
      "text/plain": [
       "Index(['ID', 'Age', 'Experience', 'Income', 'ZIP Code', 'Family', 'CCAvg',\n",
       "       'Education', 'Mortgage', 'Personal Loan', 'Securities Account',\n",
       "       'CD Account', 'Online', 'CreditCard'],\n",
       "      dtype='object')"
      ]
     },
     "execution_count": 19,
     "metadata": {},
     "output_type": "execute_result"
    }
   ],
   "source": [
    "univ.columns"
   ]
  },
  {
   "cell_type": "code",
   "execution_count": 20,
   "id": "b66e10c2",
   "metadata": {},
   "outputs": [
    {
     "data": {
      "text/html": [
       "<div>\n",
       "<style scoped>\n",
       "    .dataframe tbody tr th:only-of-type {\n",
       "        vertical-align: middle;\n",
       "    }\n",
       "\n",
       "    .dataframe tbody tr th {\n",
       "        vertical-align: top;\n",
       "    }\n",
       "\n",
       "    .dataframe thead th {\n",
       "        text-align: right;\n",
       "    }\n",
       "</style>\n",
       "<table border=\"1\" class=\"dataframe\">\n",
       "  <thead>\n",
       "    <tr style=\"text-align: right;\">\n",
       "      <th></th>\n",
       "      <th>Age</th>\n",
       "      <th>Experience</th>\n",
       "      <th>Income</th>\n",
       "      <th>Family</th>\n",
       "      <th>CCAvg</th>\n",
       "      <th>Mortgage</th>\n",
       "      <th>Personal Loan</th>\n",
       "      <th>Securities Account</th>\n",
       "      <th>CD Account</th>\n",
       "      <th>Online</th>\n",
       "      <th>CreditCard</th>\n",
       "      <th>Education_1</th>\n",
       "      <th>Education_2</th>\n",
       "      <th>Education_3</th>\n",
       "    </tr>\n",
       "  </thead>\n",
       "  <tbody>\n",
       "    <tr>\n",
       "      <th>0</th>\n",
       "      <td>25</td>\n",
       "      <td>1</td>\n",
       "      <td>49</td>\n",
       "      <td>4</td>\n",
       "      <td>1.6</td>\n",
       "      <td>0</td>\n",
       "      <td>0</td>\n",
       "      <td>1</td>\n",
       "      <td>0</td>\n",
       "      <td>0</td>\n",
       "      <td>0</td>\n",
       "      <td>1</td>\n",
       "      <td>0</td>\n",
       "      <td>0</td>\n",
       "    </tr>\n",
       "    <tr>\n",
       "      <th>1</th>\n",
       "      <td>45</td>\n",
       "      <td>19</td>\n",
       "      <td>34</td>\n",
       "      <td>3</td>\n",
       "      <td>1.5</td>\n",
       "      <td>0</td>\n",
       "      <td>0</td>\n",
       "      <td>1</td>\n",
       "      <td>0</td>\n",
       "      <td>0</td>\n",
       "      <td>0</td>\n",
       "      <td>1</td>\n",
       "      <td>0</td>\n",
       "      <td>0</td>\n",
       "    </tr>\n",
       "    <tr>\n",
       "      <th>2</th>\n",
       "      <td>39</td>\n",
       "      <td>15</td>\n",
       "      <td>11</td>\n",
       "      <td>1</td>\n",
       "      <td>1.0</td>\n",
       "      <td>0</td>\n",
       "      <td>0</td>\n",
       "      <td>0</td>\n",
       "      <td>0</td>\n",
       "      <td>0</td>\n",
       "      <td>0</td>\n",
       "      <td>1</td>\n",
       "      <td>0</td>\n",
       "      <td>0</td>\n",
       "    </tr>\n",
       "    <tr>\n",
       "      <th>3</th>\n",
       "      <td>35</td>\n",
       "      <td>9</td>\n",
       "      <td>100</td>\n",
       "      <td>1</td>\n",
       "      <td>2.7</td>\n",
       "      <td>0</td>\n",
       "      <td>0</td>\n",
       "      <td>0</td>\n",
       "      <td>0</td>\n",
       "      <td>0</td>\n",
       "      <td>0</td>\n",
       "      <td>0</td>\n",
       "      <td>1</td>\n",
       "      <td>0</td>\n",
       "    </tr>\n",
       "    <tr>\n",
       "      <th>4</th>\n",
       "      <td>35</td>\n",
       "      <td>8</td>\n",
       "      <td>45</td>\n",
       "      <td>4</td>\n",
       "      <td>1.0</td>\n",
       "      <td>0</td>\n",
       "      <td>0</td>\n",
       "      <td>0</td>\n",
       "      <td>0</td>\n",
       "      <td>0</td>\n",
       "      <td>1</td>\n",
       "      <td>0</td>\n",
       "      <td>1</td>\n",
       "      <td>0</td>\n",
       "    </tr>\n",
       "    <tr>\n",
       "      <th>...</th>\n",
       "      <td>...</td>\n",
       "      <td>...</td>\n",
       "      <td>...</td>\n",
       "      <td>...</td>\n",
       "      <td>...</td>\n",
       "      <td>...</td>\n",
       "      <td>...</td>\n",
       "      <td>...</td>\n",
       "      <td>...</td>\n",
       "      <td>...</td>\n",
       "      <td>...</td>\n",
       "      <td>...</td>\n",
       "      <td>...</td>\n",
       "      <td>...</td>\n",
       "    </tr>\n",
       "    <tr>\n",
       "      <th>4995</th>\n",
       "      <td>29</td>\n",
       "      <td>3</td>\n",
       "      <td>40</td>\n",
       "      <td>1</td>\n",
       "      <td>1.9</td>\n",
       "      <td>0</td>\n",
       "      <td>0</td>\n",
       "      <td>0</td>\n",
       "      <td>0</td>\n",
       "      <td>1</td>\n",
       "      <td>0</td>\n",
       "      <td>0</td>\n",
       "      <td>0</td>\n",
       "      <td>1</td>\n",
       "    </tr>\n",
       "    <tr>\n",
       "      <th>4996</th>\n",
       "      <td>30</td>\n",
       "      <td>4</td>\n",
       "      <td>15</td>\n",
       "      <td>4</td>\n",
       "      <td>0.4</td>\n",
       "      <td>85</td>\n",
       "      <td>0</td>\n",
       "      <td>0</td>\n",
       "      <td>0</td>\n",
       "      <td>1</td>\n",
       "      <td>0</td>\n",
       "      <td>1</td>\n",
       "      <td>0</td>\n",
       "      <td>0</td>\n",
       "    </tr>\n",
       "    <tr>\n",
       "      <th>4997</th>\n",
       "      <td>63</td>\n",
       "      <td>39</td>\n",
       "      <td>24</td>\n",
       "      <td>2</td>\n",
       "      <td>0.3</td>\n",
       "      <td>0</td>\n",
       "      <td>0</td>\n",
       "      <td>0</td>\n",
       "      <td>0</td>\n",
       "      <td>0</td>\n",
       "      <td>0</td>\n",
       "      <td>0</td>\n",
       "      <td>0</td>\n",
       "      <td>1</td>\n",
       "    </tr>\n",
       "    <tr>\n",
       "      <th>4998</th>\n",
       "      <td>65</td>\n",
       "      <td>40</td>\n",
       "      <td>49</td>\n",
       "      <td>3</td>\n",
       "      <td>0.5</td>\n",
       "      <td>0</td>\n",
       "      <td>0</td>\n",
       "      <td>0</td>\n",
       "      <td>0</td>\n",
       "      <td>1</td>\n",
       "      <td>0</td>\n",
       "      <td>0</td>\n",
       "      <td>1</td>\n",
       "      <td>0</td>\n",
       "    </tr>\n",
       "    <tr>\n",
       "      <th>4999</th>\n",
       "      <td>28</td>\n",
       "      <td>4</td>\n",
       "      <td>83</td>\n",
       "      <td>3</td>\n",
       "      <td>0.8</td>\n",
       "      <td>0</td>\n",
       "      <td>0</td>\n",
       "      <td>0</td>\n",
       "      <td>0</td>\n",
       "      <td>1</td>\n",
       "      <td>1</td>\n",
       "      <td>1</td>\n",
       "      <td>0</td>\n",
       "      <td>0</td>\n",
       "    </tr>\n",
       "  </tbody>\n",
       "</table>\n",
       "<p>5000 rows × 14 columns</p>\n",
       "</div>"
      ],
      "text/plain": [
       "      Age  Experience  Income  Family  CCAvg  Mortgage  Personal Loan  \\\n",
       "0      25           1      49       4    1.6         0              0   \n",
       "1      45          19      34       3    1.5         0              0   \n",
       "2      39          15      11       1    1.0         0              0   \n",
       "3      35           9     100       1    2.7         0              0   \n",
       "4      35           8      45       4    1.0         0              0   \n",
       "...   ...         ...     ...     ...    ...       ...            ...   \n",
       "4995   29           3      40       1    1.9         0              0   \n",
       "4996   30           4      15       4    0.4        85              0   \n",
       "4997   63          39      24       2    0.3         0              0   \n",
       "4998   65          40      49       3    0.5         0              0   \n",
       "4999   28           4      83       3    0.8         0              0   \n",
       "\n",
       "      Securities Account  CD Account  Online  CreditCard  Education_1  \\\n",
       "0                      1           0       0           0            1   \n",
       "1                      1           0       0           0            1   \n",
       "2                      0           0       0           0            1   \n",
       "3                      0           0       0           0            0   \n",
       "4                      0           0       0           1            0   \n",
       "...                  ...         ...     ...         ...          ...   \n",
       "4995                   0           0       1           0            0   \n",
       "4996                   0           0       1           0            1   \n",
       "4997                   0           0       0           0            0   \n",
       "4998                   0           0       1           0            0   \n",
       "4999                   0           0       1           1            1   \n",
       "\n",
       "      Education_2  Education_3  \n",
       "0               0            0  \n",
       "1               0            0  \n",
       "2               0            0  \n",
       "3               1            0  \n",
       "4               1            0  \n",
       "...           ...          ...  \n",
       "4995            0            1  \n",
       "4996            0            0  \n",
       "4997            0            1  \n",
       "4998            1            0  \n",
       "4999            0            0  \n",
       "\n",
       "[5000 rows x 14 columns]"
      ]
     },
     "execution_count": 20,
     "metadata": {},
     "output_type": "execute_result"
    }
   ],
   "source": [
    "univ=univ.drop(columns=['ID','ZIP Code'])\n",
    "univ=pd.get_dummies(univ,columns=['Education'])\n",
    "univ"
   ]
  },
  {
   "cell_type": "code",
   "execution_count": 21,
   "id": "b72edd25",
   "metadata": {},
   "outputs": [],
   "source": [
    "trainData, validData = train_test_split(univ, test_size=0.4, random_state=26) # 데이터 분할"
   ]
  },
  {
   "cell_type": "code",
   "execution_count": 22,
   "id": "83379eee",
   "metadata": {},
   "outputs": [],
   "source": [
    "#a"
   ]
  },
  {
   "cell_type": "code",
   "execution_count": 23,
   "id": "a8c2bdc5",
   "metadata": {},
   "outputs": [
    {
     "data": {
      "text/html": [
       "<div>\n",
       "<style scoped>\n",
       "    .dataframe tbody tr th:only-of-type {\n",
       "        vertical-align: middle;\n",
       "    }\n",
       "\n",
       "    .dataframe tbody tr th {\n",
       "        vertical-align: top;\n",
       "    }\n",
       "\n",
       "    .dataframe thead th {\n",
       "        text-align: right;\n",
       "    }\n",
       "</style>\n",
       "<table border=\"1\" class=\"dataframe\">\n",
       "  <thead>\n",
       "    <tr style=\"text-align: right;\">\n",
       "      <th></th>\n",
       "      <th>Age</th>\n",
       "      <th>Experience</th>\n",
       "      <th>Income</th>\n",
       "      <th>Family</th>\n",
       "      <th>CCAvg</th>\n",
       "      <th>Education_1</th>\n",
       "      <th>Education_2</th>\n",
       "      <th>Education_3</th>\n",
       "      <th>Mortgage</th>\n",
       "      <th>Securities Account</th>\n",
       "      <th>CD Account</th>\n",
       "      <th>Online</th>\n",
       "      <th>CreditCard</th>\n",
       "    </tr>\n",
       "  </thead>\n",
       "  <tbody>\n",
       "    <tr>\n",
       "      <th>0</th>\n",
       "      <td>40</td>\n",
       "      <td>10</td>\n",
       "      <td>84</td>\n",
       "      <td>2</td>\n",
       "      <td>2</td>\n",
       "      <td>0</td>\n",
       "      <td>1</td>\n",
       "      <td>0</td>\n",
       "      <td>0</td>\n",
       "      <td>0</td>\n",
       "      <td>0</td>\n",
       "      <td>1</td>\n",
       "      <td>1</td>\n",
       "    </tr>\n",
       "  </tbody>\n",
       "</table>\n",
       "</div>"
      ],
      "text/plain": [
       "   Age  Experience  Income  Family  CCAvg  Education_1  Education_2  \\\n",
       "0   40          10      84       2      2            0            1   \n",
       "\n",
       "   Education_3  Mortgage  Securities Account  CD Account  Online  CreditCard  \n",
       "0            0         0                   0           0       1           1  "
      ]
     },
     "execution_count": 23,
     "metadata": {},
     "output_type": "execute_result"
    }
   ],
   "source": [
    "new_c=pd.DataFrame([{'Age':40, 'Experience':10, 'Income':84, 'Family':2, 'CCAvg':2, \n",
    " 'Education_1':0, 'Education_2':1, 'Education_3':0,\n",
    "'Mortgage':0, 'Securities Account':0, 'CD Account':0, 'Online':1, 'CreditCard':1}])\n",
    "new_c"
   ]
  },
  {
   "cell_type": "code",
   "execution_count": 24,
   "id": "53381ea5",
   "metadata": {},
   "outputs": [],
   "source": [
    "scaler = preprocessing.StandardScaler()\n",
    "\n",
    "scaler.fit(trainData[[ 'Age', 'Experience', 'Income', 'Family', 'CCAvg',\n",
    "       'Education_1', 'Education_2', 'Education_3', 'Mortgage', 'Securities Account',\n",
    "       'CD Account', 'Online', 'CreditCard']])  # Note the use of an array of column names\n",
    "\n",
    "# Transform the full dataset\n",
    "univNorm = pd.concat([pd.DataFrame(scaler.transform(univ[['Age', 'Experience', 'Income', 'Family', 'CCAvg',\n",
    "       'Education_1', 'Education_2', 'Education_3', 'Mortgage', 'Securities Account',\n",
    "       'CD Account', 'Online', 'CreditCard']]), \n",
    "                                    columns=['zAge', 'zExperience', 'zIncome', 'zFamily', 'zCCAvg',\n",
    "       'zEducation_1', 'zEducation_2', 'zEducation_3', 'zMortgage', 'zSecurities Account',\n",
    "       'zCD Account', 'zOnline', 'zCreditCard']),\n",
    "                       univ[[ 'Personal Loan']]], axis=1)\n",
    "\n",
    "trainNorm = univNorm.iloc[trainData.index]\n",
    "validNorm = univNorm.iloc[validData.index]\n",
    "newC_Norm = pd.DataFrame(scaler.transform(new_c), \n",
    "                                 columns=['zAge', 'zExperience', 'zIncome', 'zFamily', 'zCCAvg',\n",
    "       'zEducation_1', 'zEducation_2', 'zEducation_3', 'zMortgage', 'zSecurities Account',\n",
    "       'zCD Account', 'zOnline', 'zCreditCard'])"
   ]
  },
  {
   "cell_type": "code",
   "execution_count": 25,
   "id": "21370a13",
   "metadata": {},
   "outputs": [],
   "source": [
    "columns=['zAge', 'zExperience', 'zIncome', 'zFamily', 'zCCAvg',\n",
    "       'zEducation_1', 'zEducation_2', 'zEducation_3', 'zMortgage', 'zSecurities Account',\n",
    "       'zCD Account', 'zOnline', 'zCreditCard']"
   ]
  },
  {
   "cell_type": "code",
   "execution_count": 26,
   "id": "4f93eb7c",
   "metadata": {},
   "outputs": [
    {
     "name": "stdout",
     "output_type": "stream",
     "text": [
      "          zAge  zExperience   zIncome   zFamily    zCCAvg  zEducation_1  \\\n",
      "4407 -0.719804    -0.613601 -0.042428 -0.340587 -0.122566     -0.856799   \n",
      "\n",
      "      zEducation_2  zEducation_3  zMortgage  zSecurities Account  zCD Account  \\\n",
      "4407      1.587806     -0.643242  -0.547625            -0.346151    -0.248891   \n",
      "\n",
      "       zOnline  zCreditCard  Personal Loan  \n",
      "4407  0.806328     1.549632              0  \n"
     ]
    }
   ],
   "source": [
    "knn = NearestNeighbors(n_neighbors=1)\n",
    "knn.fit(trainNorm[columns])\n",
    "distances, indices = knn.kneighbors(newC_Norm)\n",
    "print(trainNorm.iloc[indices[0],:])  ## 대출수락되지 않음"
   ]
  },
  {
   "cell_type": "code",
   "execution_count": 27,
   "id": "6c9e8e3f",
   "metadata": {},
   "outputs": [],
   "source": [
    "#b"
   ]
  },
  {
   "cell_type": "code",
   "execution_count": 28,
   "id": "135f21a4",
   "metadata": {},
   "outputs": [
    {
     "name": "stdout",
     "output_type": "stream",
     "text": [
      "     k  accuracy\n",
      "0    1    0.9550\n",
      "1    2    0.9460\n",
      "2    3    0.9555\n",
      "3    4    0.9445\n",
      "4    5    0.9525\n",
      "5    6    0.9445\n",
      "6    7    0.9495\n",
      "7    8    0.9425\n",
      "8    9    0.9460\n",
      "9   10    0.9430\n",
      "10  11    0.9450\n",
      "11  12    0.9390\n",
      "12  13    0.9405\n",
      "13  14    0.9350\n"
     ]
    }
   ],
   "source": [
    "train_X = trainNorm[columns]\n",
    "train_y = trainNorm['Personal Loan']\n",
    "valid_X = validNorm[columns]\n",
    "valid_y = validNorm['Personal Loan']\n",
    "\n",
    "# Train a classifier for different values of k\n",
    "results = []\n",
    "for k in range(1, 15):\n",
    "    knn = KNeighborsClassifier(n_neighbors=k).fit(train_X, train_y)\n",
    "    results.append({\n",
    "        'k': k,\n",
    "        'accuracy': accuracy_score(valid_y, knn.predict(valid_X))\n",
    "    })\n",
    "\n",
    "# Convert results to a pandas data frame\n",
    "results = pd.DataFrame(results)\n",
    "print(results)"
   ]
  },
  {
   "cell_type": "code",
   "execution_count": 29,
   "id": "224e3ed8",
   "metadata": {},
   "outputs": [],
   "source": [
    "#c 정오행렬표 만들기"
   ]
  },
  {
   "cell_type": "code",
   "execution_count": 30,
   "id": "a3cf2408",
   "metadata": {},
   "outputs": [],
   "source": [
    "import matplotlib.pylab as plt\n",
    "\n",
    "from dmba import regressionSummary, classificationSummary, liftChart, gainsChart"
   ]
  },
  {
   "cell_type": "code",
   "execution_count": 31,
   "id": "038a666d",
   "metadata": {},
   "outputs": [
    {
     "name": "stdout",
     "output_type": "stream",
     "text": [
      "Confusion Matrix (Accuracy 0.9555)\n",
      "\n",
      "       Prediction\n",
      "Actual 대출 미수락  대출 수락\n",
      "대출 미수락   1779      6\n",
      " 대출 수락     83    132\n"
     ]
    }
   ],
   "source": [
    "knn = KNeighborsClassifier(n_neighbors=3).fit(train_X, train_y)\n",
    "classificationSummary(valid_y, knn.predict(valid_X), class_names=['대출 미수락','대출 수락'])"
   ]
  },
  {
   "cell_type": "code",
   "execution_count": 32,
   "id": "b230b3a3",
   "metadata": {},
   "outputs": [],
   "source": [
    "#d 최적의 k 사용해 고객들을 분류하기"
   ]
  },
  {
   "cell_type": "code",
   "execution_count": 33,
   "id": "26a91a88",
   "metadata": {},
   "outputs": [
    {
     "name": "stdout",
     "output_type": "stream",
     "text": [
      "          zAge  zExperience   zIncome   zFamily    zCCAvg  zEducation_1  \\\n",
      "4407 -0.719804    -0.613601 -0.042428 -0.340587 -0.122566     -0.856799   \n",
      "3398 -0.459477    -0.526770 -0.240212 -0.340587  0.279333     -0.856799   \n",
      "1630 -0.372701    -0.266279  0.572898 -0.340587 -0.065152     -0.856799   \n",
      "\n",
      "      zEducation_2  zEducation_3  zMortgage  zSecurities Account  zCD Account  \\\n",
      "4407      1.587806     -0.643242  -0.547625            -0.346151    -0.248891   \n",
      "3398      1.587806     -0.643242  -0.547625            -0.346151    -0.248891   \n",
      "1630      1.587806     -0.643242  -0.547625            -0.346151    -0.248891   \n",
      "\n",
      "       zOnline  zCreditCard  Personal Loan  \n",
      "4407  0.806328     1.549632              0  \n",
      "3398  0.806328     1.549632              0  \n",
      "1630  0.806328     1.549632              0  \n"
     ]
    }
   ],
   "source": [
    "knn = NearestNeighbors(n_neighbors=3)\n",
    "knn.fit(trainNorm[columns])\n",
    "distances, indices = knn.kneighbors(newC_Norm)\n",
    "print(trainNorm.iloc[indices[0],:]) "
   ]
  },
  {
   "cell_type": "code",
   "execution_count": 34,
   "id": "b83ca017",
   "metadata": {},
   "outputs": [],
   "source": [
    "##e 0.5 0.3 0.2 나누기 "
   ]
  },
  {
   "cell_type": "code",
   "execution_count": 35,
   "id": "bf460ed6",
   "metadata": {},
   "outputs": [],
   "source": [
    "trainNorm, temp = train_test_split(univ, test_size= 0.5, random_state=0)\n",
    "validNorm, testNorm = train_test_split(temp, test_size= 0.4, random_state=1)"
   ]
  },
  {
   "cell_type": "code",
   "execution_count": 36,
   "id": "ac81c5e3",
   "metadata": {},
   "outputs": [],
   "source": [
    "train_X = trainNorm.drop(columns=['Personal Loan'])\n",
    "train_y = trainNorm['Personal Loan']"
   ]
  },
  {
   "cell_type": "code",
   "execution_count": 37,
   "id": "f957e472",
   "metadata": {},
   "outputs": [],
   "source": [
    "knn = KNeighborsClassifier(n_neighbors=3).fit(train_X, train_y)"
   ]
  },
  {
   "cell_type": "code",
   "execution_count": 38,
   "id": "9e510339",
   "metadata": {},
   "outputs": [
    {
     "name": "stdout",
     "output_type": "stream",
     "text": [
      "Confusion Matrix (Accuracy 0.9508)\n",
      "\n",
      "       Prediction\n",
      "Actual 대출 미수락  대출 수락\n",
      "대출 미수락   2225     37\n",
      " 대출 수락     86    152\n"
     ]
    }
   ],
   "source": [
    "classificationSummary(train_y, knn.predict(train_X), class_names=['대출 미수락','대출 수락'])"
   ]
  },
  {
   "cell_type": "code",
   "execution_count": 41,
   "id": "1776045d",
   "metadata": {},
   "outputs": [
    {
     "name": "stdout",
     "output_type": "stream",
     "text": [
      "Confusion Matrix (Accuracy 0.9520)\n",
      "\n",
      "       Prediction\n",
      "Actual 대출 미수락  대출 수락\n",
      "대출 미수락   1337     24\n",
      " 대출 수락     48     91\n"
     ]
    }
   ],
   "source": [
    "valid_X = validNorm.drop(columns=['Personal Loan'])\n",
    "valid_y = validNorm['Personal Loan']\n",
    "knn = KNeighborsClassifier(n_neighbors=3).fit(valid_X, valid_y)\n",
    "classificationSummary(valid_y, knn.predict(valid_X), class_names=['대출 미수락','대출 수락'])"
   ]
  },
  {
   "cell_type": "code",
   "execution_count": 42,
   "id": "7378f5fe",
   "metadata": {},
   "outputs": [
    {
     "name": "stdout",
     "output_type": "stream",
     "text": [
      "Confusion Matrix (Accuracy 0.9380)\n",
      "\n",
      "       Prediction\n",
      "Actual 대출 미수락  대출 수락\n",
      "대출 미수락    881     16\n",
      " 대출 수락     46     57\n"
     ]
    }
   ],
   "source": [
    "test_X = testNorm.drop(columns=['Personal Loan'])\n",
    "test_y = testNorm['Personal Loan']\n",
    "knn = KNeighborsClassifier(n_neighbors=3).fit(test_X, test_y)\n",
    "classificationSummary(test_y, knn.predict(test_X), class_names=['대출 미수락','대출 수락'])"
   ]
  },
  {
   "cell_type": "markdown",
   "id": "f40c21f9",
   "metadata": {},
   "source": [
    "## 3"
   ]
  },
  {
   "cell_type": "code",
   "execution_count": 43,
   "id": "85d4ec89",
   "metadata": {},
   "outputs": [
    {
     "data": {
      "text/plain": [
       "Index(['CRIM', 'ZN', 'INDUS', 'CHAS', 'NOX', 'RM', 'AGE', 'DIS', 'RAD', 'TAX',\n",
       "       'PTRATIO', 'LSTAT', 'MEDV', 'CAT. MEDV'],\n",
       "      dtype='object')"
      ]
     },
     "execution_count": 43,
     "metadata": {},
     "output_type": "execute_result"
    }
   ],
   "source": [
    "boston = pd.read_csv('BostonHousing.csv')\n",
    "boston.columns"
   ]
  },
  {
   "cell_type": "code",
   "execution_count": 44,
   "id": "56c4e6b5",
   "metadata": {},
   "outputs": [],
   "source": [
    "boston=boston.drop(columns=['CAT. MEDV'])"
   ]
  },
  {
   "cell_type": "code",
   "execution_count": 49,
   "id": "b0ef3615",
   "metadata": {},
   "outputs": [
    {
     "name": "stdout",
     "output_type": "stream",
     "text": [
      "<class 'pandas.core.frame.DataFrame'>\n",
      "RangeIndex: 506 entries, 0 to 505\n",
      "Data columns (total 13 columns):\n",
      " #   Column   Non-Null Count  Dtype  \n",
      "---  ------   --------------  -----  \n",
      " 0   CRIM     506 non-null    float64\n",
      " 1   ZN       506 non-null    float64\n",
      " 2   INDUS    506 non-null    float64\n",
      " 3   CHAS     506 non-null    int64  \n",
      " 4   NOX      506 non-null    float64\n",
      " 5   RM       506 non-null    float64\n",
      " 6   AGE      506 non-null    float64\n",
      " 7   DIS      506 non-null    float64\n",
      " 8   RAD      506 non-null    int64  \n",
      " 9   TAX      506 non-null    int64  \n",
      " 10  PTRATIO  506 non-null    float64\n",
      " 11  LSTAT    506 non-null    float64\n",
      " 12  MEDV     506 non-null    int32  \n",
      "dtypes: float64(9), int32(1), int64(3)\n",
      "memory usage: 49.5 KB\n"
     ]
    }
   ],
   "source": [
    "boston.MEDV = boston.MEDV.astype(int)\n",
    "boston.info()"
   ]
  },
  {
   "cell_type": "code",
   "execution_count": 53,
   "id": "130cda03",
   "metadata": {},
   "outputs": [],
   "source": [
    "# MEDV 삭제\n",
    "x_boston= boston.drop('MEDV', axis=1)\n",
    "\n",
    "# MEDV 추출\n",
    "m_boston=boston['MEDV']"
   ]
  },
  {
   "cell_type": "code",
   "execution_count": 54,
   "id": "0511f665",
   "metadata": {},
   "outputs": [],
   "source": [
    "# 데이터 분할\n",
    "trainData, validData = train_test_split(boston, test_size=0.4, random_state=26) # 데이터 분할"
   ]
  },
  {
   "cell_type": "code",
   "execution_count": 55,
   "id": "65afd1c9",
   "metadata": {},
   "outputs": [
    {
     "data": {
      "text/plain": [
       "Index(['CRIM', 'ZN', 'INDUS', 'CHAS', 'NOX', 'RM', 'AGE', 'DIS', 'RAD', 'TAX',\n",
       "       'PTRATIO', 'LSTAT', 'MEDV'],\n",
       "      dtype='object')"
      ]
     },
     "execution_count": 55,
     "metadata": {},
     "output_type": "execute_result"
    }
   ],
   "source": [
    "boston.columns"
   ]
  },
  {
   "cell_type": "code",
   "execution_count": 56,
   "id": "e0fb9c40",
   "metadata": {},
   "outputs": [
    {
     "data": {
      "text/html": [
       "<div>\n",
       "<style scoped>\n",
       "    .dataframe tbody tr th:only-of-type {\n",
       "        vertical-align: middle;\n",
       "    }\n",
       "\n",
       "    .dataframe tbody tr th {\n",
       "        vertical-align: top;\n",
       "    }\n",
       "\n",
       "    .dataframe thead th {\n",
       "        text-align: right;\n",
       "    }\n",
       "</style>\n",
       "<table border=\"1\" class=\"dataframe\">\n",
       "  <thead>\n",
       "    <tr style=\"text-align: right;\">\n",
       "      <th></th>\n",
       "      <th>zCRIM</th>\n",
       "      <th>zZN</th>\n",
       "      <th>zINDUS</th>\n",
       "      <th>zCHAS</th>\n",
       "      <th>zNOX</th>\n",
       "      <th>zRM</th>\n",
       "      <th>zAGE</th>\n",
       "      <th>zDIS</th>\n",
       "      <th>zRAD</th>\n",
       "      <th>zTAX</th>\n",
       "      <th>zPTRATIO</th>\n",
       "      <th>zLSTAT</th>\n",
       "      <th>MEDV</th>\n",
       "    </tr>\n",
       "  </thead>\n",
       "  <tbody>\n",
       "    <tr>\n",
       "      <th>0</th>\n",
       "      <td>-0.432821</td>\n",
       "      <td>-0.428676</td>\n",
       "      <td>-0.181554</td>\n",
       "      <td>-0.251312</td>\n",
       "      <td>-0.074298</td>\n",
       "      <td>-0.599430</td>\n",
       "      <td>0.104857</td>\n",
       "      <td>-0.597442</td>\n",
       "      <td>-0.399488</td>\n",
       "      <td>0.154536</td>\n",
       "      <td>-0.334603</td>\n",
       "      <td>0.361212</td>\n",
       "      <td>20</td>\n",
       "    </tr>\n",
       "    <tr>\n",
       "      <th>1</th>\n",
       "      <td>-0.443598</td>\n",
       "      <td>-0.428676</td>\n",
       "      <td>-1.000951</td>\n",
       "      <td>-0.251312</td>\n",
       "      <td>-0.978185</td>\n",
       "      <td>0.123438</td>\n",
       "      <td>-0.822970</td>\n",
       "      <td>0.543440</td>\n",
       "      <td>-0.747651</td>\n",
       "      <td>-0.963638</td>\n",
       "      <td>0.001108</td>\n",
       "      <td>-0.427283</td>\n",
       "      <td>23</td>\n",
       "    </tr>\n",
       "    <tr>\n",
       "      <th>2</th>\n",
       "      <td>0.495733</td>\n",
       "      <td>-0.428676</td>\n",
       "      <td>1.019338</td>\n",
       "      <td>-0.251312</td>\n",
       "      <td>1.502892</td>\n",
       "      <td>-0.412072</td>\n",
       "      <td>0.925484</td>\n",
       "      <td>-0.896256</td>\n",
       "      <td>1.689491</td>\n",
       "      <td>1.568875</td>\n",
       "      <td>0.816406</td>\n",
       "      <td>0.406464</td>\n",
       "      <td>14</td>\n",
       "    </tr>\n",
       "    <tr>\n",
       "      <th>3</th>\n",
       "      <td>1.814624</td>\n",
       "      <td>-0.428676</td>\n",
       "      <td>1.019338</td>\n",
       "      <td>-0.251312</td>\n",
       "      <td>1.336872</td>\n",
       "      <td>-1.431358</td>\n",
       "      <td>1.028987</td>\n",
       "      <td>-1.118544</td>\n",
       "      <td>1.689491</td>\n",
       "      <td>1.568875</td>\n",
       "      <td>0.816406</td>\n",
       "      <td>2.478491</td>\n",
       "      <td>7</td>\n",
       "    </tr>\n",
       "    <tr>\n",
       "      <th>4</th>\n",
       "      <td>-0.419524</td>\n",
       "      <td>-0.428676</td>\n",
       "      <td>-0.641723</td>\n",
       "      <td>-0.251312</td>\n",
       "      <td>-0.987408</td>\n",
       "      <td>-0.378515</td>\n",
       "      <td>0.563225</td>\n",
       "      <td>0.994461</td>\n",
       "      <td>-0.747651</td>\n",
       "      <td>-1.048257</td>\n",
       "      <td>-0.286644</td>\n",
       "      <td>0.831566</td>\n",
       "      <td>16</td>\n",
       "    </tr>\n",
       "    <tr>\n",
       "      <th>...</th>\n",
       "      <td>...</td>\n",
       "      <td>...</td>\n",
       "      <td>...</td>\n",
       "      <td>...</td>\n",
       "      <td>...</td>\n",
       "      <td>...</td>\n",
       "      <td>...</td>\n",
       "      <td>...</td>\n",
       "      <td>...</td>\n",
       "      <td>...</td>\n",
       "      <td>...</td>\n",
       "      <td>...</td>\n",
       "      <td>...</td>\n",
       "    </tr>\n",
       "    <tr>\n",
       "      <th>298</th>\n",
       "      <td>0.563558</td>\n",
       "      <td>-0.428676</td>\n",
       "      <td>1.019338</td>\n",
       "      <td>-0.251312</td>\n",
       "      <td>1.456775</td>\n",
       "      <td>0.162588</td>\n",
       "      <td>1.036380</td>\n",
       "      <td>-0.742413</td>\n",
       "      <td>1.689491</td>\n",
       "      <td>1.568875</td>\n",
       "      <td>0.816406</td>\n",
       "      <td>0.901502</td>\n",
       "      <td>13</td>\n",
       "    </tr>\n",
       "    <tr>\n",
       "      <th>299</th>\n",
       "      <td>0.417787</td>\n",
       "      <td>-0.428676</td>\n",
       "      <td>1.019338</td>\n",
       "      <td>-0.251312</td>\n",
       "      <td>0.266965</td>\n",
       "      <td>0.173773</td>\n",
       "      <td>0.167698</td>\n",
       "      <td>-0.734780</td>\n",
       "      <td>1.689491</td>\n",
       "      <td>1.568875</td>\n",
       "      <td>0.816406</td>\n",
       "      <td>-0.096801</td>\n",
       "      <td>16</td>\n",
       "    </tr>\n",
       "    <tr>\n",
       "      <th>300</th>\n",
       "      <td>-0.380336</td>\n",
       "      <td>0.502928</td>\n",
       "      <td>-1.078141</td>\n",
       "      <td>-0.251312</td>\n",
       "      <td>0.848035</td>\n",
       "      <td>2.932419</td>\n",
       "      <td>0.785016</td>\n",
       "      <td>-0.691116</td>\n",
       "      <td>-0.515542</td>\n",
       "      <td>-0.860887</td>\n",
       "      <td>-2.636622</td>\n",
       "      <td>-0.936033</td>\n",
       "      <td>48</td>\n",
       "    </tr>\n",
       "    <tr>\n",
       "      <th>301</th>\n",
       "      <td>-0.396250</td>\n",
       "      <td>-0.428676</td>\n",
       "      <td>-0.197883</td>\n",
       "      <td>-0.251312</td>\n",
       "      <td>-0.101968</td>\n",
       "      <td>0.113651</td>\n",
       "      <td>-0.113238</td>\n",
       "      <td>-0.074556</td>\n",
       "      <td>-0.631596</td>\n",
       "      <td>-0.619120</td>\n",
       "      <td>-0.046851</td>\n",
       "      <td>-0.325807</td>\n",
       "      <td>23</td>\n",
       "    </tr>\n",
       "    <tr>\n",
       "      <th>302</th>\n",
       "      <td>-0.403339</td>\n",
       "      <td>-0.428676</td>\n",
       "      <td>-0.197883</td>\n",
       "      <td>-0.251312</td>\n",
       "      <td>-0.101968</td>\n",
       "      <td>-0.459610</td>\n",
       "      <td>0.237931</td>\n",
       "      <td>-0.287676</td>\n",
       "      <td>-0.631596</td>\n",
       "      <td>-0.619120</td>\n",
       "      <td>-0.046851</td>\n",
       "      <td>-0.379287</td>\n",
       "      <td>20</td>\n",
       "    </tr>\n",
       "  </tbody>\n",
       "</table>\n",
       "<p>303 rows × 13 columns</p>\n",
       "</div>"
      ],
      "text/plain": [
       "        zCRIM       zZN    zINDUS     zCHAS      zNOX       zRM      zAGE  \\\n",
       "0   -0.432821 -0.428676 -0.181554 -0.251312 -0.074298 -0.599430  0.104857   \n",
       "1   -0.443598 -0.428676 -1.000951 -0.251312 -0.978185  0.123438 -0.822970   \n",
       "2    0.495733 -0.428676  1.019338 -0.251312  1.502892 -0.412072  0.925484   \n",
       "3    1.814624 -0.428676  1.019338 -0.251312  1.336872 -1.431358  1.028987   \n",
       "4   -0.419524 -0.428676 -0.641723 -0.251312 -0.987408 -0.378515  0.563225   \n",
       "..        ...       ...       ...       ...       ...       ...       ...   \n",
       "298  0.563558 -0.428676  1.019338 -0.251312  1.456775  0.162588  1.036380   \n",
       "299  0.417787 -0.428676  1.019338 -0.251312  0.266965  0.173773  0.167698   \n",
       "300 -0.380336  0.502928 -1.078141 -0.251312  0.848035  2.932419  0.785016   \n",
       "301 -0.396250 -0.428676 -0.197883 -0.251312 -0.101968  0.113651 -0.113238   \n",
       "302 -0.403339 -0.428676 -0.197883 -0.251312 -0.101968 -0.459610  0.237931   \n",
       "\n",
       "         zDIS      zRAD      zTAX  zPTRATIO    zLSTAT  MEDV  \n",
       "0   -0.597442 -0.399488  0.154536 -0.334603  0.361212    20  \n",
       "1    0.543440 -0.747651 -0.963638  0.001108 -0.427283    23  \n",
       "2   -0.896256  1.689491  1.568875  0.816406  0.406464    14  \n",
       "3   -1.118544  1.689491  1.568875  0.816406  2.478491     7  \n",
       "4    0.994461 -0.747651 -1.048257 -0.286644  0.831566    16  \n",
       "..        ...       ...       ...       ...       ...   ...  \n",
       "298 -0.742413  1.689491  1.568875  0.816406  0.901502    13  \n",
       "299 -0.734780  1.689491  1.568875  0.816406 -0.096801    16  \n",
       "300 -0.691116 -0.515542 -0.860887 -2.636622 -0.936033    48  \n",
       "301 -0.074556 -0.631596 -0.619120 -0.046851 -0.325807    23  \n",
       "302 -0.287676 -0.631596 -0.619120 -0.046851 -0.379287    20  \n",
       "\n",
       "[303 rows x 13 columns]"
      ]
     },
     "execution_count": 56,
     "metadata": {},
     "output_type": "execute_result"
    }
   ],
   "source": [
    "# 데이터 정규화\n",
    "\n",
    "scaler = preprocessing.StandardScaler()\n",
    "train_X = trainData.iloc[:,:12]\n",
    "train_y = trainData.iloc[:,12]\n",
    "\n",
    "scaler.fit(train_X)  \n",
    "\n",
    "# Transform the full dataset\n",
    "train_y.index=list(range(303))\n",
    "tNorm=pd.concat([pd.DataFrame(scaler.transform(train_X),\n",
    "                                   columns=['zCRIM', 'zZN','zINDUS','zCHAS','zNOX','zRM','zAGE','zDIS',\n",
    "                                  'zRAD','zTAX','zPTRATIO','zLSTAT']),\n",
    "                                   train_y],axis=1)\n",
    "\n",
    "tNorm"
   ]
  },
  {
   "cell_type": "code",
   "execution_count": 57,
   "id": "2ae4d000",
   "metadata": {},
   "outputs": [
    {
     "data": {
      "text/html": [
       "<div>\n",
       "<style scoped>\n",
       "    .dataframe tbody tr th:only-of-type {\n",
       "        vertical-align: middle;\n",
       "    }\n",
       "\n",
       "    .dataframe tbody tr th {\n",
       "        vertical-align: top;\n",
       "    }\n",
       "\n",
       "    .dataframe thead th {\n",
       "        text-align: right;\n",
       "    }\n",
       "</style>\n",
       "<table border=\"1\" class=\"dataframe\">\n",
       "  <thead>\n",
       "    <tr style=\"text-align: right;\">\n",
       "      <th></th>\n",
       "      <th>zCRIM</th>\n",
       "      <th>zZN</th>\n",
       "      <th>zINDUS</th>\n",
       "      <th>zCHAS</th>\n",
       "      <th>zNOX</th>\n",
       "      <th>zRM</th>\n",
       "      <th>zAGE</th>\n",
       "      <th>zDIS</th>\n",
       "      <th>zRAD</th>\n",
       "      <th>zTAX</th>\n",
       "      <th>zPTRATIO</th>\n",
       "      <th>zLSTAT</th>\n",
       "      <th>MEDV</th>\n",
       "    </tr>\n",
       "  </thead>\n",
       "  <tbody>\n",
       "    <tr>\n",
       "      <th>0</th>\n",
       "      <td>-0.364884</td>\n",
       "      <td>-0.573166</td>\n",
       "      <td>1.551830</td>\n",
       "      <td>-0.302321</td>\n",
       "      <td>0.554631</td>\n",
       "      <td>0.289862</td>\n",
       "      <td>1.114725</td>\n",
       "      <td>-0.832355</td>\n",
       "      <td>-0.647525</td>\n",
       "      <td>0.151032</td>\n",
       "      <td>1.235448</td>\n",
       "      <td>0.010247</td>\n",
       "      <td>19</td>\n",
       "    </tr>\n",
       "    <tr>\n",
       "      <th>1</th>\n",
       "      <td>-0.390814</td>\n",
       "      <td>1.194813</td>\n",
       "      <td>-1.075627</td>\n",
       "      <td>-0.302321</td>\n",
       "      <td>-0.930360</td>\n",
       "      <td>0.765698</td>\n",
       "      <td>-0.846927</td>\n",
       "      <td>-0.078449</td>\n",
       "      <td>-0.534110</td>\n",
       "      <td>-0.074917</td>\n",
       "      <td>-1.404973</td>\n",
       "      <td>-0.849096</td>\n",
       "      <td>32</td>\n",
       "    </tr>\n",
       "    <tr>\n",
       "      <th>2</th>\n",
       "      <td>-0.311181</td>\n",
       "      <td>-0.573166</td>\n",
       "      <td>1.551830</td>\n",
       "      <td>-0.302321</td>\n",
       "      <td>0.554631</td>\n",
       "      <td>-0.915881</td>\n",
       "      <td>0.972182</td>\n",
       "      <td>-0.894921</td>\n",
       "      <td>-0.647525</td>\n",
       "      <td>0.151032</td>\n",
       "      <td>1.235448</td>\n",
       "      <td>0.843461</td>\n",
       "      <td>14</td>\n",
       "    </tr>\n",
       "    <tr>\n",
       "      <th>3</th>\n",
       "      <td>-0.260896</td>\n",
       "      <td>-0.573166</td>\n",
       "      <td>-0.406302</td>\n",
       "      <td>-0.302321</td>\n",
       "      <td>-0.128306</td>\n",
       "      <td>-0.456201</td>\n",
       "      <td>0.541162</td>\n",
       "      <td>0.012465</td>\n",
       "      <td>-0.647525</td>\n",
       "      <td>-0.602132</td>\n",
       "      <td>1.147434</td>\n",
       "      <td>2.203603</td>\n",
       "      <td>13</td>\n",
       "    </tr>\n",
       "    <tr>\n",
       "      <th>4</th>\n",
       "      <td>-0.388960</td>\n",
       "      <td>-0.573166</td>\n",
       "      <td>-0.716755</td>\n",
       "      <td>-0.302321</td>\n",
       "      <td>-0.438010</td>\n",
       "      <td>-0.616281</td>\n",
       "      <td>-0.157973</td>\n",
       "      <td>-0.263845</td>\n",
       "      <td>-0.534110</td>\n",
       "      <td>-0.764352</td>\n",
       "      <td>0.355308</td>\n",
       "      <td>-0.162493</td>\n",
       "      <td>20</td>\n",
       "    </tr>\n",
       "    <tr>\n",
       "      <th>...</th>\n",
       "      <td>...</td>\n",
       "      <td>...</td>\n",
       "      <td>...</td>\n",
       "      <td>...</td>\n",
       "      <td>...</td>\n",
       "      <td>...</td>\n",
       "      <td>...</td>\n",
       "      <td>...</td>\n",
       "      <td>...</td>\n",
       "      <td>...</td>\n",
       "      <td>...</td>\n",
       "      <td>...</td>\n",
       "      <td>...</td>\n",
       "    </tr>\n",
       "    <tr>\n",
       "      <th>198</th>\n",
       "      <td>-0.373623</td>\n",
       "      <td>-0.573166</td>\n",
       "      <td>-0.057399</td>\n",
       "      <td>-0.302321</td>\n",
       "      <td>-0.517421</td>\n",
       "      <td>-0.701461</td>\n",
       "      <td>0.225533</td>\n",
       "      <td>0.177186</td>\n",
       "      <td>-0.647525</td>\n",
       "      <td>-0.775939</td>\n",
       "      <td>0.091266</td>\n",
       "      <td>0.802816</td>\n",
       "      <td>22</td>\n",
       "    </tr>\n",
       "    <tr>\n",
       "      <th>199</th>\n",
       "      <td>-0.397338</td>\n",
       "      <td>0.801929</td>\n",
       "      <td>-1.349054</td>\n",
       "      <td>-0.302321</td>\n",
       "      <td>-0.890654</td>\n",
       "      <td>1.439798</td>\n",
       "      <td>-0.568631</td>\n",
       "      <td>1.388329</td>\n",
       "      <td>-0.987769</td>\n",
       "      <td>-0.735384</td>\n",
       "      <td>-1.272952</td>\n",
       "      <td>-1.021835</td>\n",
       "      <td>32</td>\n",
       "    </tr>\n",
       "    <tr>\n",
       "      <th>200</th>\n",
       "      <td>-0.386972</td>\n",
       "      <td>-0.082061</td>\n",
       "      <td>-0.444753</td>\n",
       "      <td>-0.302321</td>\n",
       "      <td>-0.239482</td>\n",
       "      <td>-0.369552</td>\n",
       "      <td>0.571707</td>\n",
       "      <td>1.022142</td>\n",
       "      <td>-0.534110</td>\n",
       "      <td>-0.578958</td>\n",
       "      <td>-1.404973</td>\n",
       "      <td>0.107504</td>\n",
       "      <td>18</td>\n",
       "    </tr>\n",
       "    <tr>\n",
       "      <th>201</th>\n",
       "      <td>-0.389630</td>\n",
       "      <td>1.194813</td>\n",
       "      <td>-1.075627</td>\n",
       "      <td>-0.302321</td>\n",
       "      <td>-0.930360</td>\n",
       "      <td>1.013896</td>\n",
       "      <td>-1.512124</td>\n",
       "      <td>1.136395</td>\n",
       "      <td>-0.534110</td>\n",
       "      <td>-0.074917</td>\n",
       "      <td>-1.404973</td>\n",
       "      <td>-1.078447</td>\n",
       "      <td>37</td>\n",
       "    </tr>\n",
       "    <tr>\n",
       "      <th>202</th>\n",
       "      <td>-0.384507</td>\n",
       "      <td>-0.573166</td>\n",
       "      <td>-0.139996</td>\n",
       "      <td>-0.302321</td>\n",
       "      <td>-0.056836</td>\n",
       "      <td>-0.009738</td>\n",
       "      <td>0.615827</td>\n",
       "      <td>-0.770060</td>\n",
       "      <td>-0.420696</td>\n",
       "      <td>0.122065</td>\n",
       "      <td>-0.260790</td>\n",
       "      <td>-0.301845</td>\n",
       "      <td>18</td>\n",
       "    </tr>\n",
       "  </tbody>\n",
       "</table>\n",
       "<p>203 rows × 13 columns</p>\n",
       "</div>"
      ],
      "text/plain": [
       "        zCRIM       zZN    zINDUS     zCHAS      zNOX       zRM      zAGE  \\\n",
       "0   -0.364884 -0.573166  1.551830 -0.302321  0.554631  0.289862  1.114725   \n",
       "1   -0.390814  1.194813 -1.075627 -0.302321 -0.930360  0.765698 -0.846927   \n",
       "2   -0.311181 -0.573166  1.551830 -0.302321  0.554631 -0.915881  0.972182   \n",
       "3   -0.260896 -0.573166 -0.406302 -0.302321 -0.128306 -0.456201  0.541162   \n",
       "4   -0.388960 -0.573166 -0.716755 -0.302321 -0.438010 -0.616281 -0.157973   \n",
       "..        ...       ...       ...       ...       ...       ...       ...   \n",
       "198 -0.373623 -0.573166 -0.057399 -0.302321 -0.517421 -0.701461  0.225533   \n",
       "199 -0.397338  0.801929 -1.349054 -0.302321 -0.890654  1.439798 -0.568631   \n",
       "200 -0.386972 -0.082061 -0.444753 -0.302321 -0.239482 -0.369552  0.571707   \n",
       "201 -0.389630  1.194813 -1.075627 -0.302321 -0.930360  1.013896 -1.512124   \n",
       "202 -0.384507 -0.573166 -0.139996 -0.302321 -0.056836 -0.009738  0.615827   \n",
       "\n",
       "         zDIS      zRAD      zTAX  zPTRATIO    zLSTAT  MEDV  \n",
       "0   -0.832355 -0.647525  0.151032  1.235448  0.010247    19  \n",
       "1   -0.078449 -0.534110 -0.074917 -1.404973 -0.849096    32  \n",
       "2   -0.894921 -0.647525  0.151032  1.235448  0.843461    14  \n",
       "3    0.012465 -0.647525 -0.602132  1.147434  2.203603    13  \n",
       "4   -0.263845 -0.534110 -0.764352  0.355308 -0.162493    20  \n",
       "..        ...       ...       ...       ...       ...   ...  \n",
       "198  0.177186 -0.647525 -0.775939  0.091266  0.802816    22  \n",
       "199  1.388329 -0.987769 -0.735384 -1.272952 -1.021835    32  \n",
       "200  1.022142 -0.534110 -0.578958 -1.404973  0.107504    18  \n",
       "201  1.136395 -0.534110 -0.074917 -1.404973 -1.078447    37  \n",
       "202 -0.770060 -0.420696  0.122065 -0.260790 -0.301845    18  \n",
       "\n",
       "[203 rows x 13 columns]"
      ]
     },
     "execution_count": 57,
     "metadata": {},
     "output_type": "execute_result"
    }
   ],
   "source": [
    "# 검증 데이터\n",
    "\n",
    "valid_X = validData.iloc[:,:12]\n",
    "valid_y = validData.iloc[:,12]\n",
    "\n",
    "scaler.fit(valid_X)  \n",
    "\n",
    "# (303, 13) (203, 13)\n",
    "valid_y.index=list(range(203))\n",
    "vNorm=pd.concat([pd.DataFrame(scaler.transform(valid_X),\n",
    "                                   columns=['zCRIM', 'zZN','zINDUS','zCHAS','zNOX','zRM','zAGE','zDIS',\n",
    "                                  'zRAD','zTAX','zPTRATIO','zLSTAT']),\n",
    "                                   valid_y],axis=1)\n",
    "\n",
    "vNorm"
   ]
  },
  {
   "cell_type": "code",
   "execution_count": 58,
   "id": "ae3275a5",
   "metadata": {},
   "outputs": [
    {
     "name": "stdout",
     "output_type": "stream",
     "text": [
      "(k=1)\n",
      "[19 32 14 13 20 30 23 22 20 13 14 17 16 19 20 14 20 21 36  8 22 48 22 27\n",
      " 16 23 21 21 30 20 23  8 27 35 20 19 10 50 26 13 34 46 20 24 24 45 14 15\n",
      " 24 36 19 19 18 21 28 18 25 23 20 30 21 23 19 18 10 15 23 22 19 50 20 18\n",
      "  8 16 21 33 23 19 34 23 30 10 20 19 22 11 19 43 20 20 13 13 11 24 23 25\n",
      " 22 23 22 31 11 25 25 17 24  7 15 32 37 24 29 22 18 20 20 22 17 20 22 10\n",
      " 36 50 18 27 33 48 12 16 19 25 22 30 26 24 25 14 19 34 22 14 22 16 23 20\n",
      " 50 29  7 19 23 32 35 25 16 16 22 18 36 22 22 13 14 24 17 12 28 14 13 22\n",
      " 31 28 19 22 32 46  8 27 11 19 19 21 17 21 17 13  5 21 10 12 10 11 14 16\n",
      " 12 15 33 21 21 19 22 32 18 37 18]\n",
      "\n",
      "\n",
      "(k=2)\n",
      "[18 32 14 13 20 30 23 21 20 13 12 17 16 19 20 14 19 21 29  7 22 27 21 27\n",
      " 12 23 19 19 30 19 22  8 23 35 14 19 10 30 24 12 32 35 19 24 24 24 12 15\n",
      " 22 30 19 18 17 21 18 16 25 19 20 27 21 22 11 18  7 15 20 22 19 27 20 18\n",
      "  8 16 20 30 23 19 32 22 30  5 20 19 21 11 19 36 13 20 13  5 11 22 20 25\n",
      " 22 23 22 31 11 25 19 17 22  7 15 24 36 20 29 22 13 19 20 20 17 19 19 10\n",
      " 36 28 18 25 29 35 12 13 19 19 22 30 22 24 21 12 17 28 19 14 20 14 23 20\n",
      " 43 29  7 19 22 32 24 25 16 16 22 18 36 19 19 12 14 22 17 12 23 14 11 22\n",
      " 31 20 19 19 32 31  7 17 11 19 19 21 17 19 11 11  5 11  8 12  8 11 14 16\n",
      " 12  7 32 21 21 17 20 19 18 36 18]\n",
      "\n",
      "\n",
      "(k=3)\n",
      "[18 29 14 12 20 30 16 21 20 13 12 14 13 19 20 12 19 21 29  7 22 18 21 18\n",
      " 12 23 16 19 30 19 22 10 16 20 14 19 10 30 26 12 29 24 19 24 22 20 12 15\n",
      " 24 30 19 18 18 21 18 16 23 19 20 18 21 23 11 18  7 15 20 21 19 16 20 18\n",
      "  8 16 20 19 18 19 32 21 19  5 20 19 20 11 19 36 20 20 12  5 11 20 20 25\n",
      " 22 23 22 31 11 20 19 19 21  7 15 20 28 20 29 20 13 19 22 19 17 20 18  5\n",
      " 31 28 18 20 29 20 12  5 16 15 22 30 22 24 21 12 19 28 19 14 20 14 23 19\n",
      " 36 29  7 14 22 29 24 25 16 16 20 18 28 19 19 12 14 19 10 12 23 14 11 23\n",
      " 21 20 18 19 32 21  7 10 11 19 19 21 17 19 11 11  5 11 10 12  8 11 14 16\n",
      " 12  7 29 21 21 19 18 19 18 29 18]\n",
      "\n",
      "\n",
      "(k=4)\n",
      "[18 29 18 12 20 30 11 21 17 13 14 18 12 19 23 12 19 21 29  7 22 18 21 18\n",
      " 16 19 16 21 30 20 22 10 16 20 14 19  8 30 24 12 29 24 21 24 24 20 12 17\n",
      " 24 36 19 18 18 21 19 14 23 19 20 18 21 23 11 18  7 15 19 21 19 16 20 19\n",
      "  8 16 20 19 18 22 22 21 19  5 20 19 21 13 19 31 20 20 12 10 11 20 23 25\n",
      " 22 23 22 36 11 19 19 19 21 10 15 20 28 20 33 20 12 19 22 18 17 20 18 10\n",
      " 31 20 18 20 33 20 12  5 16 15 22 36 22 22 21 12 19 20 19 14 24 12 22 18\n",
      " 31 29  7 14 19 33 21 25 16 16 19 18 28 19 19 12 14 19  8 16 19 14 13 23\n",
      " 21 20 18 19 22 21  7 10 14 18 21 21 17 19 11 11  5 11 10 14  8 11 14 16\n",
      " 14  7 33 21 21 19 18 19 18 29 18]\n",
      "\n",
      "\n",
      "(k=5)\n",
      "[18 29 18 13 22 30 11 21 24 13 14 18 12 19 23 12 16 21 29 10 22 18 21 18\n",
      " 14 25 16 21 20 20 22 10 12 20 22 20  8 20 24 12 29 21 21 22 24 20 16 17\n",
      " 24 36 19 19 18 21 19 14 23 19 20 18 21 23 11 18  7 15 19 21 19 13 20 19\n",
      "  8 16 20 20 18 19 22 22 20  5 20 19 21 13 19 30 20 20 14 10 11 22 23 25\n",
      " 22 23 22 36 11 19 19 19 21 10 15 20 18 20 33 20 12 19 20 18 17 20 18 10\n",
      " 36 20 20 19 33 20 13 10 16 15 22 36 22 22 21 12 19 20 19 14 24 12 22 18\n",
      " 30 29  7 14 19 33 20 25 16 16 19 18 18 18 19 12 14 19  8 16 25 14 13 23\n",
      " 21 20 18 19 22 21  7 10 14 18 21 20 24 18 11 11  5 11 10 14  8 11 14 16\n",
      " 14  7 33 21 21 19 20 19 18 29 18]\n",
      "\n",
      "\n"
     ]
    }
   ],
   "source": [
    "# Retrain with full dataset\n",
    "# 검증데이터로 예측\n",
    "\n",
    "# k=1 - 5\n",
    "valid_X = validData.iloc[:,:12]\n",
    "valid_y = validData.iloc[:,12]\n",
    "\n",
    "for i in range(1,6):\n",
    "    knn = KNeighborsClassifier(n_neighbors=i).fit(valid_X, valid_y)\n",
    "    distances, indices = knn.kneighbors(valid_X)\n",
    "    print(\"(k=%d)\" %i)\n",
    "    print(knn.predict(valid_X))\n",
    "    print()\n",
    "    print()"
   ]
  },
  {
   "cell_type": "code",
   "execution_count": 59,
   "id": "87aa8ecc",
   "metadata": {},
   "outputs": [
    {
     "name": "stdout",
     "output_type": "stream",
     "text": [
      "     k  accuracy\n",
      "0    1  0.137931\n",
      "1    2  0.142857\n",
      "2    3  0.103448\n",
      "3    4  0.118227\n",
      "4    5  0.123153\n",
      "5    6  0.118227\n",
      "6    7  0.123153\n",
      "7    8  0.128079\n",
      "8    9  0.133005\n",
      "9   10  0.123153\n",
      "10  11  0.098522\n",
      "11  12  0.108374\n",
      "12  13  0.103448\n",
      "13  14  0.128079\n"
     ]
    }
   ],
   "source": [
    "results=[]\n",
    "\n",
    "for k in range(1, 15):\n",
    "    knn = KNeighborsClassifier(n_neighbors=k).fit(train_X, train_y)\n",
    "    results.append({\n",
    "        'k': k,\n",
    "        'accuracy': accuracy_score(valid_y, knn.predict(valid_X))\n",
    "    })\n",
    "\n",
    "# Convert results to a pandas data frame\n",
    "results = pd.DataFrame(results)\n",
    "print(results)"
   ]
  },
  {
   "cell_type": "markdown",
   "id": "0f23b5b9",
   "metadata": {},
   "source": [
    "k = 2 일때 정확도가 가장 높음"
   ]
  },
  {
   "cell_type": "code",
   "execution_count": 61,
   "id": "83db7a2c",
   "metadata": {},
   "outputs": [],
   "source": [
    "#b"
   ]
  },
  {
   "cell_type": "code",
   "execution_count": 62,
   "id": "a1cdeab8",
   "metadata": {},
   "outputs": [
    {
     "data": {
      "text/html": [
       "<div>\n",
       "<style scoped>\n",
       "    .dataframe tbody tr th:only-of-type {\n",
       "        vertical-align: middle;\n",
       "    }\n",
       "\n",
       "    .dataframe tbody tr th {\n",
       "        vertical-align: top;\n",
       "    }\n",
       "\n",
       "    .dataframe thead th {\n",
       "        text-align: right;\n",
       "    }\n",
       "</style>\n",
       "<table border=\"1\" class=\"dataframe\">\n",
       "  <thead>\n",
       "    <tr style=\"text-align: right;\">\n",
       "      <th></th>\n",
       "      <th>CRIM</th>\n",
       "      <th>ZN</th>\n",
       "      <th>INDUS</th>\n",
       "      <th>CHAS</th>\n",
       "      <th>NOX</th>\n",
       "      <th>RM</th>\n",
       "      <th>AGE</th>\n",
       "      <th>DIS</th>\n",
       "      <th>RAD</th>\n",
       "      <th>TAX</th>\n",
       "      <th>PTRATIO</th>\n",
       "      <th>LSTAT</th>\n",
       "    </tr>\n",
       "  </thead>\n",
       "  <tbody>\n",
       "    <tr>\n",
       "      <th>0</th>\n",
       "      <td>0.2</td>\n",
       "      <td>0</td>\n",
       "      <td>7</td>\n",
       "      <td>0</td>\n",
       "      <td>0.538</td>\n",
       "      <td>6</td>\n",
       "      <td>62</td>\n",
       "      <td>4.7</td>\n",
       "      <td>4</td>\n",
       "      <td>307</td>\n",
       "      <td>21</td>\n",
       "      <td>10</td>\n",
       "    </tr>\n",
       "  </tbody>\n",
       "</table>\n",
       "</div>"
      ],
      "text/plain": [
       "   CRIM  ZN  INDUS  CHAS    NOX  RM  AGE  DIS  RAD  TAX  PTRATIO  LSTAT\n",
       "0   0.2   0      7     0  0.538   6   62  4.7    4  307       21     10"
      ]
     },
     "execution_count": 62,
     "metadata": {},
     "output_type": "execute_result"
    }
   ],
   "source": [
    "newboston = pd.DataFrame([{'CRIM': 0.2, 'ZN':0, 'INDUS':7, 'CHAS':0, 'NOX':0.538, 'RM':6,\n",
    "                          'AGE':62, 'DIS':4.7, 'RAD':4, 'TAX':307, 'PTRATIO':21, 'LSTAT':10}])\n",
    "newboston"
   ]
  },
  {
   "cell_type": "code",
   "execution_count": 63,
   "id": "4765852f",
   "metadata": {},
   "outputs": [
    {
     "name": "stdout",
     "output_type": "stream",
     "text": [
      "36.0\n"
     ]
    }
   ],
   "source": [
    "knn = NearestNeighbors(n_neighbors=2)\n",
    "knn.fit(train_X)\n",
    "\n",
    "#새로운 트랙 생성 및 정규화\n",
    "train_X1=train_X\n",
    "train_X1.loc[\"new\"]=[0.2,0,7,0,0.538,6,62,4.7,4,307,21,10]\n",
    "\n",
    "scaler = preprocessing.StandardScaler()\n",
    "scaler.fit(train_X1)\n",
    "\n",
    "newNorm=pd.concat([pd.DataFrame(scaler.transform(train_X1),columns=validData.columns[:12]),\n",
    "                     valid_y],axis=1)\n",
    "\n",
    "newNorm=vNorm.iloc[202][:12] \n",
    "newNorm=newNorm.to_frame().transpose()\n",
    "distances,indices=knn.kneighbors(newNorm)\n",
    "\n",
    "j=0\n",
    "sse=0\n",
    "for neighbor in indices.tolist(): \n",
    "    predict=0 \n",
    "    for i in neighbor: \n",
    "        predict+=train_y[i] \n",
    "    predict=predict/2 \n",
    "    \n",
    "print(predict) "
   ]
  },
  {
   "cell_type": "code",
   "execution_count": 64,
   "id": "005a48d8",
   "metadata": {},
   "outputs": [],
   "source": [
    "## c"
   ]
  },
  {
   "cell_type": "code",
   "execution_count": 66,
   "id": "8ae44cf3",
   "metadata": {},
   "outputs": [
    {
     "name": "stdout",
     "output_type": "stream",
     "text": [
      "2\n",
      "2 \n",
      " 42.14108910891089\n"
     ]
    }
   ],
   "source": [
    "for k in range(2,3):\n",
    "    knn = NearestNeighbors(n_neighbors=k) \n",
    "    knn.fit(train_X)\n",
    "    \n",
    "    distances, indices = knn.kneighbors(valid_X) \n",
    "    print(k)\n",
    "    \n",
    "    j=0\n",
    "    sse=0\n",
    "    for neighbor in indices.tolist(): \n",
    "        predict=0 \n",
    "        for i in neighbor: \n",
    "            predict+=train_y[i] \n",
    "        predict=predict/k \n",
    "        sse+=(predict-valid_y.iloc[j])**2\n",
    "        j+=1\n",
    "    mse=sse/202 \n",
    "    print(k, '\\n',mse)"
   ]
  },
  {
   "cell_type": "code",
   "execution_count": 67,
   "id": "f3ae274c",
   "metadata": {},
   "outputs": [],
   "source": [
    "#d"
   ]
  },
  {
   "cell_type": "markdown",
   "id": "6fb9e1e1",
   "metadata": {},
   "source": [
    "정확도가 높은 기준으로 k를 선정했기 때문에 오류가 낙관적"
   ]
  },
  {
   "cell_type": "code",
   "execution_count": 68,
   "id": "9739b12a",
   "metadata": {},
   "outputs": [],
   "source": [
    "#e"
   ]
  },
  {
   "cell_type": "markdown",
   "id": "f31f56de",
   "metadata": {},
   "source": [
    "수천 개의 새로운 트랙에 대한 y값을 예측할때 근접 이웃을 찾는 시간이 길어질 수 있고,\n",
    "예측변수의 개수가 많아 훈련 세트의 개수도 증가한다는 단점이 있다."
   ]
  },
  {
   "cell_type": "code",
   "execution_count": null,
   "id": "20ba13f9",
   "metadata": {},
   "outputs": [],
   "source": []
  }
 ],
 "metadata": {
  "kernelspec": {
   "display_name": "Python 3 (ipykernel)",
   "language": "python",
   "name": "python3"
  },
  "language_info": {
   "codemirror_mode": {
    "name": "ipython",
    "version": 3
   },
   "file_extension": ".py",
   "mimetype": "text/x-python",
   "name": "python",
   "nbconvert_exporter": "python",
   "pygments_lexer": "ipython3",
   "version": "3.9.7"
  }
 },
 "nbformat": 4,
 "nbformat_minor": 5
}
