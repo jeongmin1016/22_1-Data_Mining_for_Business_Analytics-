{
 "cells": [
  {
   "cell_type": "code",
   "execution_count": 5,
   "id": "fd53bda7",
   "metadata": {},
   "outputs": [],
   "source": [
    "%matplotlib inline\n",
    "\n",
    "from pathlib import Path\n",
    "\n",
    "import pandas as pd\n",
    "from sklearn.model_selection import train_test_split\n",
    "from sklearn.naive_bayes import MultinomialNB\n",
    "import matplotlib.pylab as plt\n",
    "from dmba import classificationSummary, gainsChart\n"
   ]
  },
  {
   "cell_type": "code",
   "execution_count": 75,
   "id": "d2ae86a4",
   "metadata": {},
   "outputs": [],
   "source": [
    "#univ.loc[univ['CCAvg']==0,'CC']=0\n",
    "#univ.loc[univ['CCAvg']!=0,'CC']=1\n",
    "\n",
    "#univ.CC=univ.CC.astype('int')"
   ]
  },
  {
   "cell_type": "markdown",
   "id": "27508200",
   "metadata": {},
   "source": [
    "## 8.1 개인대부 수용"
   ]
  },
  {
   "cell_type": "code",
   "execution_count": 95,
   "id": "d6626172",
   "metadata": {},
   "outputs": [],
   "source": [
    "univ = pd.read_csv('UniversalBank.csv')"
   ]
  },
  {
   "cell_type": "code",
   "execution_count": 96,
   "id": "5c480172",
   "metadata": {},
   "outputs": [
    {
     "data": {
      "text/html": [
       "<div>\n",
       "<style scoped>\n",
       "    .dataframe tbody tr th:only-of-type {\n",
       "        vertical-align: middle;\n",
       "    }\n",
       "\n",
       "    .dataframe tbody tr th {\n",
       "        vertical-align: top;\n",
       "    }\n",
       "\n",
       "    .dataframe thead th {\n",
       "        text-align: right;\n",
       "    }\n",
       "</style>\n",
       "<table border=\"1\" class=\"dataframe\">\n",
       "  <thead>\n",
       "    <tr style=\"text-align: right;\">\n",
       "      <th></th>\n",
       "      <th>ID</th>\n",
       "      <th>Age</th>\n",
       "      <th>Experience</th>\n",
       "      <th>Income</th>\n",
       "      <th>ZIP Code</th>\n",
       "      <th>Family</th>\n",
       "      <th>CCAvg</th>\n",
       "      <th>Education</th>\n",
       "      <th>Mortgage</th>\n",
       "      <th>Personal Loan</th>\n",
       "      <th>Securities Account</th>\n",
       "      <th>CD Account</th>\n",
       "      <th>Online</th>\n",
       "      <th>CreditCard</th>\n",
       "    </tr>\n",
       "  </thead>\n",
       "  <tbody>\n",
       "    <tr>\n",
       "      <th>0</th>\n",
       "      <td>1</td>\n",
       "      <td>25</td>\n",
       "      <td>1</td>\n",
       "      <td>49</td>\n",
       "      <td>91107</td>\n",
       "      <td>4</td>\n",
       "      <td>1.6</td>\n",
       "      <td>1</td>\n",
       "      <td>0</td>\n",
       "      <td>0</td>\n",
       "      <td>1</td>\n",
       "      <td>0</td>\n",
       "      <td>0</td>\n",
       "      <td>0</td>\n",
       "    </tr>\n",
       "    <tr>\n",
       "      <th>1</th>\n",
       "      <td>2</td>\n",
       "      <td>45</td>\n",
       "      <td>19</td>\n",
       "      <td>34</td>\n",
       "      <td>90089</td>\n",
       "      <td>3</td>\n",
       "      <td>1.5</td>\n",
       "      <td>1</td>\n",
       "      <td>0</td>\n",
       "      <td>0</td>\n",
       "      <td>1</td>\n",
       "      <td>0</td>\n",
       "      <td>0</td>\n",
       "      <td>0</td>\n",
       "    </tr>\n",
       "    <tr>\n",
       "      <th>2</th>\n",
       "      <td>3</td>\n",
       "      <td>39</td>\n",
       "      <td>15</td>\n",
       "      <td>11</td>\n",
       "      <td>94720</td>\n",
       "      <td>1</td>\n",
       "      <td>1.0</td>\n",
       "      <td>1</td>\n",
       "      <td>0</td>\n",
       "      <td>0</td>\n",
       "      <td>0</td>\n",
       "      <td>0</td>\n",
       "      <td>0</td>\n",
       "      <td>0</td>\n",
       "    </tr>\n",
       "    <tr>\n",
       "      <th>3</th>\n",
       "      <td>4</td>\n",
       "      <td>35</td>\n",
       "      <td>9</td>\n",
       "      <td>100</td>\n",
       "      <td>94112</td>\n",
       "      <td>1</td>\n",
       "      <td>2.7</td>\n",
       "      <td>2</td>\n",
       "      <td>0</td>\n",
       "      <td>0</td>\n",
       "      <td>0</td>\n",
       "      <td>0</td>\n",
       "      <td>0</td>\n",
       "      <td>0</td>\n",
       "    </tr>\n",
       "    <tr>\n",
       "      <th>4</th>\n",
       "      <td>5</td>\n",
       "      <td>35</td>\n",
       "      <td>8</td>\n",
       "      <td>45</td>\n",
       "      <td>91330</td>\n",
       "      <td>4</td>\n",
       "      <td>1.0</td>\n",
       "      <td>2</td>\n",
       "      <td>0</td>\n",
       "      <td>0</td>\n",
       "      <td>0</td>\n",
       "      <td>0</td>\n",
       "      <td>0</td>\n",
       "      <td>1</td>\n",
       "    </tr>\n",
       "  </tbody>\n",
       "</table>\n",
       "</div>"
      ],
      "text/plain": [
       "   ID  Age  Experience  Income  ZIP Code  Family  CCAvg  Education  Mortgage  \\\n",
       "0   1   25           1      49     91107       4    1.6          1         0   \n",
       "1   2   45          19      34     90089       3    1.5          1         0   \n",
       "2   3   39          15      11     94720       1    1.0          1         0   \n",
       "3   4   35           9     100     94112       1    2.7          2         0   \n",
       "4   5   35           8      45     91330       4    1.0          2         0   \n",
       "\n",
       "   Personal Loan  Securities Account  CD Account  Online  CreditCard  \n",
       "0              0                   1           0       0           0  \n",
       "1              0                   1           0       0           0  \n",
       "2              0                   0           0       0           0  \n",
       "3              0                   0           0       0           0  \n",
       "4              0                   0           0       0           1  "
      ]
     },
     "execution_count": 96,
     "metadata": {},
     "output_type": "execute_result"
    }
   ],
   "source": [
    "univ.head()"
   ]
  },
  {
   "cell_type": "code",
   "execution_count": 97,
   "id": "b57e2986",
   "metadata": {},
   "outputs": [],
   "source": [
    "univ=univ.rename(columns={'Personal Loan':'Loan','CreditCard':'CC'})"
   ]
  },
  {
   "cell_type": "code",
   "execution_count": 98,
   "id": "b37f9260",
   "metadata": {},
   "outputs": [],
   "source": [
    "univ.CC=univ.CC.astype('category')\n",
    "univ.Loan=univ.Loan.astype('category')\n",
    "univ.Online=univ.Online.astype('category')"
   ]
  },
  {
   "cell_type": "code",
   "execution_count": 99,
   "id": "3a565d7a",
   "metadata": {},
   "outputs": [
    {
     "name": "stdout",
     "output_type": "stream",
     "text": [
      "<class 'pandas.core.frame.DataFrame'>\n",
      "RangeIndex: 5000 entries, 0 to 4999\n",
      "Data columns (total 14 columns):\n",
      " #   Column              Non-Null Count  Dtype   \n",
      "---  ------              --------------  -----   \n",
      " 0   ID                  5000 non-null   int64   \n",
      " 1   Age                 5000 non-null   int64   \n",
      " 2   Experience          5000 non-null   int64   \n",
      " 3   Income              5000 non-null   int64   \n",
      " 4   ZIP Code            5000 non-null   int64   \n",
      " 5   Family              5000 non-null   int64   \n",
      " 6   CCAvg               5000 non-null   float64 \n",
      " 7   Education           5000 non-null   int64   \n",
      " 8   Mortgage            5000 non-null   int64   \n",
      " 9   Loan                5000 non-null   category\n",
      " 10  Securities Account  5000 non-null   int64   \n",
      " 11  CD Account          5000 non-null   int64   \n",
      " 12  Online              5000 non-null   category\n",
      " 13  CC                  5000 non-null   category\n",
      "dtypes: category(3), float64(1), int64(10)\n",
      "memory usage: 444.8 KB\n"
     ]
    }
   ],
   "source": [
    "univ.info()"
   ]
  },
  {
   "cell_type": "markdown",
   "id": "ea28eea2",
   "metadata": {},
   "source": [
    "### a"
   ]
  },
  {
   "cell_type": "code",
   "execution_count": 100,
   "id": "bf1e16b0",
   "metadata": {},
   "outputs": [],
   "source": [
    "#데이터 분할\n",
    "train_df, valid_df = train_test_split(univ, test_size=0.4)"
   ]
  },
  {
   "cell_type": "code",
   "execution_count": 101,
   "id": "d55b09cd",
   "metadata": {},
   "outputs": [
    {
     "data": {
      "text/html": [
       "<div>\n",
       "<style scoped>\n",
       "    .dataframe tbody tr th:only-of-type {\n",
       "        vertical-align: middle;\n",
       "    }\n",
       "\n",
       "    .dataframe tbody tr th {\n",
       "        vertical-align: top;\n",
       "    }\n",
       "\n",
       "    .dataframe thead th {\n",
       "        text-align: right;\n",
       "    }\n",
       "</style>\n",
       "<table border=\"1\" class=\"dataframe\">\n",
       "  <thead>\n",
       "    <tr style=\"text-align: right;\">\n",
       "      <th></th>\n",
       "      <th>ID</th>\n",
       "      <th>Age</th>\n",
       "      <th>Experience</th>\n",
       "      <th>Income</th>\n",
       "      <th>ZIP Code</th>\n",
       "      <th>Family</th>\n",
       "      <th>CCAvg</th>\n",
       "      <th>Education</th>\n",
       "      <th>Mortgage</th>\n",
       "      <th>Loan</th>\n",
       "      <th>Securities Account</th>\n",
       "      <th>CD Account</th>\n",
       "      <th>Online</th>\n",
       "      <th>CC</th>\n",
       "    </tr>\n",
       "  </thead>\n",
       "  <tbody>\n",
       "    <tr>\n",
       "      <th>4982</th>\n",
       "      <td>4983</td>\n",
       "      <td>36</td>\n",
       "      <td>10</td>\n",
       "      <td>45</td>\n",
       "      <td>95126</td>\n",
       "      <td>4</td>\n",
       "      <td>0.2</td>\n",
       "      <td>1</td>\n",
       "      <td>0</td>\n",
       "      <td>0</td>\n",
       "      <td>0</td>\n",
       "      <td>0</td>\n",
       "      <td>0</td>\n",
       "      <td>1</td>\n",
       "    </tr>\n",
       "    <tr>\n",
       "      <th>1335</th>\n",
       "      <td>1336</td>\n",
       "      <td>50</td>\n",
       "      <td>24</td>\n",
       "      <td>180</td>\n",
       "      <td>94539</td>\n",
       "      <td>1</td>\n",
       "      <td>1.7</td>\n",
       "      <td>1</td>\n",
       "      <td>0</td>\n",
       "      <td>0</td>\n",
       "      <td>0</td>\n",
       "      <td>0</td>\n",
       "      <td>1</td>\n",
       "      <td>1</td>\n",
       "    </tr>\n",
       "    <tr>\n",
       "      <th>392</th>\n",
       "      <td>393</td>\n",
       "      <td>54</td>\n",
       "      <td>29</td>\n",
       "      <td>48</td>\n",
       "      <td>91709</td>\n",
       "      <td>4</td>\n",
       "      <td>1.8</td>\n",
       "      <td>3</td>\n",
       "      <td>0</td>\n",
       "      <td>0</td>\n",
       "      <td>0</td>\n",
       "      <td>0</td>\n",
       "      <td>1</td>\n",
       "      <td>0</td>\n",
       "    </tr>\n",
       "    <tr>\n",
       "      <th>3194</th>\n",
       "      <td>3195</td>\n",
       "      <td>41</td>\n",
       "      <td>15</td>\n",
       "      <td>65</td>\n",
       "      <td>90019</td>\n",
       "      <td>3</td>\n",
       "      <td>0.5</td>\n",
       "      <td>3</td>\n",
       "      <td>0</td>\n",
       "      <td>0</td>\n",
       "      <td>0</td>\n",
       "      <td>0</td>\n",
       "      <td>0</td>\n",
       "      <td>0</td>\n",
       "    </tr>\n",
       "    <tr>\n",
       "      <th>509</th>\n",
       "      <td>510</td>\n",
       "      <td>52</td>\n",
       "      <td>28</td>\n",
       "      <td>118</td>\n",
       "      <td>90503</td>\n",
       "      <td>2</td>\n",
       "      <td>6.8</td>\n",
       "      <td>1</td>\n",
       "      <td>112</td>\n",
       "      <td>0</td>\n",
       "      <td>0</td>\n",
       "      <td>0</td>\n",
       "      <td>1</td>\n",
       "      <td>0</td>\n",
       "    </tr>\n",
       "    <tr>\n",
       "      <th>...</th>\n",
       "      <td>...</td>\n",
       "      <td>...</td>\n",
       "      <td>...</td>\n",
       "      <td>...</td>\n",
       "      <td>...</td>\n",
       "      <td>...</td>\n",
       "      <td>...</td>\n",
       "      <td>...</td>\n",
       "      <td>...</td>\n",
       "      <td>...</td>\n",
       "      <td>...</td>\n",
       "      <td>...</td>\n",
       "      <td>...</td>\n",
       "      <td>...</td>\n",
       "    </tr>\n",
       "    <tr>\n",
       "      <th>3081</th>\n",
       "      <td>3082</td>\n",
       "      <td>36</td>\n",
       "      <td>10</td>\n",
       "      <td>78</td>\n",
       "      <td>95064</td>\n",
       "      <td>2</td>\n",
       "      <td>4.5</td>\n",
       "      <td>3</td>\n",
       "      <td>204</td>\n",
       "      <td>0</td>\n",
       "      <td>0</td>\n",
       "      <td>0</td>\n",
       "      <td>1</td>\n",
       "      <td>1</td>\n",
       "    </tr>\n",
       "    <tr>\n",
       "      <th>3458</th>\n",
       "      <td>3459</td>\n",
       "      <td>48</td>\n",
       "      <td>23</td>\n",
       "      <td>191</td>\n",
       "      <td>95053</td>\n",
       "      <td>2</td>\n",
       "      <td>2.8</td>\n",
       "      <td>1</td>\n",
       "      <td>231</td>\n",
       "      <td>0</td>\n",
       "      <td>0</td>\n",
       "      <td>0</td>\n",
       "      <td>0</td>\n",
       "      <td>1</td>\n",
       "    </tr>\n",
       "    <tr>\n",
       "      <th>4767</th>\n",
       "      <td>4768</td>\n",
       "      <td>35</td>\n",
       "      <td>9</td>\n",
       "      <td>45</td>\n",
       "      <td>90639</td>\n",
       "      <td>3</td>\n",
       "      <td>0.9</td>\n",
       "      <td>1</td>\n",
       "      <td>101</td>\n",
       "      <td>0</td>\n",
       "      <td>1</td>\n",
       "      <td>0</td>\n",
       "      <td>0</td>\n",
       "      <td>0</td>\n",
       "    </tr>\n",
       "    <tr>\n",
       "      <th>4042</th>\n",
       "      <td>4043</td>\n",
       "      <td>29</td>\n",
       "      <td>3</td>\n",
       "      <td>190</td>\n",
       "      <td>92612</td>\n",
       "      <td>2</td>\n",
       "      <td>4.5</td>\n",
       "      <td>1</td>\n",
       "      <td>246</td>\n",
       "      <td>0</td>\n",
       "      <td>0</td>\n",
       "      <td>0</td>\n",
       "      <td>1</td>\n",
       "      <td>1</td>\n",
       "    </tr>\n",
       "    <tr>\n",
       "      <th>833</th>\n",
       "      <td>834</td>\n",
       "      <td>61</td>\n",
       "      <td>35</td>\n",
       "      <td>63</td>\n",
       "      <td>94939</td>\n",
       "      <td>3</td>\n",
       "      <td>2.2</td>\n",
       "      <td>3</td>\n",
       "      <td>0</td>\n",
       "      <td>0</td>\n",
       "      <td>0</td>\n",
       "      <td>0</td>\n",
       "      <td>0</td>\n",
       "      <td>0</td>\n",
       "    </tr>\n",
       "  </tbody>\n",
       "</table>\n",
       "<p>3000 rows × 14 columns</p>\n",
       "</div>"
      ],
      "text/plain": [
       "        ID  Age  Experience  Income  ZIP Code  Family  CCAvg  Education  \\\n",
       "4982  4983   36          10      45     95126       4    0.2          1   \n",
       "1335  1336   50          24     180     94539       1    1.7          1   \n",
       "392    393   54          29      48     91709       4    1.8          3   \n",
       "3194  3195   41          15      65     90019       3    0.5          3   \n",
       "509    510   52          28     118     90503       2    6.8          1   \n",
       "...    ...  ...         ...     ...       ...     ...    ...        ...   \n",
       "3081  3082   36          10      78     95064       2    4.5          3   \n",
       "3458  3459   48          23     191     95053       2    2.8          1   \n",
       "4767  4768   35           9      45     90639       3    0.9          1   \n",
       "4042  4043   29           3     190     92612       2    4.5          1   \n",
       "833    834   61          35      63     94939       3    2.2          3   \n",
       "\n",
       "      Mortgage Loan  Securities Account  CD Account Online CC  \n",
       "4982         0    0                   0           0      0  1  \n",
       "1335         0    0                   0           0      1  1  \n",
       "392          0    0                   0           0      1  0  \n",
       "3194         0    0                   0           0      0  0  \n",
       "509        112    0                   0           0      1  0  \n",
       "...        ...  ...                 ...         ...    ... ..  \n",
       "3081       204    0                   0           0      1  1  \n",
       "3458       231    0                   0           0      0  1  \n",
       "4767       101    0                   1           0      0  0  \n",
       "4042       246    0                   0           0      1  1  \n",
       "833          0    0                   0           0      0  0  \n",
       "\n",
       "[3000 rows x 14 columns]"
      ]
     },
     "execution_count": 101,
     "metadata": {},
     "output_type": "execute_result"
    }
   ],
   "source": [
    "train_df"
   ]
  },
  {
   "cell_type": "code",
   "execution_count": 102,
   "id": "c19dde53",
   "metadata": {},
   "outputs": [],
   "source": [
    "df=train_df[['CC', 'Loan','Online']]"
   ]
  },
  {
   "cell_type": "code",
   "execution_count": 103,
   "id": "7e92116d",
   "metadata": {},
   "outputs": [
    {
     "data": {
      "text/html": [
       "<div>\n",
       "<style scoped>\n",
       "    .dataframe tbody tr th:only-of-type {\n",
       "        vertical-align: middle;\n",
       "    }\n",
       "\n",
       "    .dataframe tbody tr th {\n",
       "        vertical-align: top;\n",
       "    }\n",
       "\n",
       "    .dataframe thead th {\n",
       "        text-align: right;\n",
       "    }\n",
       "</style>\n",
       "<table border=\"1\" class=\"dataframe\">\n",
       "  <thead>\n",
       "    <tr style=\"text-align: right;\">\n",
       "      <th></th>\n",
       "      <th>Online</th>\n",
       "      <th>0</th>\n",
       "      <th>1</th>\n",
       "    </tr>\n",
       "    <tr>\n",
       "      <th>CC</th>\n",
       "      <th>Loan</th>\n",
       "      <th></th>\n",
       "      <th></th>\n",
       "    </tr>\n",
       "  </thead>\n",
       "  <tbody>\n",
       "    <tr>\n",
       "      <th rowspan=\"2\" valign=\"top\">0</th>\n",
       "      <th>0</th>\n",
       "      <td>766</td>\n",
       "      <td>1146</td>\n",
       "    </tr>\n",
       "    <tr>\n",
       "      <th>1</th>\n",
       "      <td>64</td>\n",
       "      <td>124</td>\n",
       "    </tr>\n",
       "    <tr>\n",
       "      <th rowspan=\"2\" valign=\"top\">1</th>\n",
       "      <th>0</th>\n",
       "      <td>330</td>\n",
       "      <td>484</td>\n",
       "    </tr>\n",
       "    <tr>\n",
       "      <th>1</th>\n",
       "      <td>34</td>\n",
       "      <td>52</td>\n",
       "    </tr>\n",
       "  </tbody>\n",
       "</table>\n",
       "</div>"
      ],
      "text/plain": [
       "Online     0     1\n",
       "CC Loan           \n",
       "0  0     766  1146\n",
       "   1      64   124\n",
       "1  0     330   484\n",
       "   1      34    52"
      ]
     },
     "execution_count": 103,
     "metadata": {},
     "output_type": "execute_result"
    }
   ],
   "source": [
    "table_1=pd.pivot_table(df, index=['CC', 'Loan'], columns='Online', aggfunc=len)\n",
    "table_1"
   ]
  },
  {
   "cell_type": "code",
   "execution_count": 94,
   "id": "d7f1d165",
   "metadata": {},
   "outputs": [
    {
     "name": "stdout",
     "output_type": "stream",
     "text": [
      "CC         0    1\n",
      "Online           \n",
      "0        870  364\n",
      "1       1217  549\n",
      "\n",
      "Loan       0    1\n",
      "Online           \n",
      "0       1134  100\n",
      "1       1587  179\n",
      "\n"
     ]
    }
   ],
   "source": [
    "# online 열변수, CCAvg 첫번째 행변수, Loan 두번째 행변수\n",
    "#for predictor in ['CC', 'Loan']:\n",
    "    # construct the frequency table\n",
    " #   df = train_df[['Online', predictor]]\n",
    "  #  count = df.pivot_table(index='Online', columns=predictor, aggfunc=len)\n",
    "\n",
    "   # print(count)\n",
    "    # print() ## 셀 내부의 값을 개수로 표시함"
   ]
  },
  {
   "cell_type": "markdown",
   "id": "7612de1a",
   "metadata": {},
   "source": [
    "### b"
   ]
  },
  {
   "cell_type": "code",
   "execution_count": 104,
   "id": "c53c03e0",
   "metadata": {},
   "outputs": [],
   "source": [
    "## p(loan=1 | cc=1 and online=1)"
   ]
  },
  {
   "cell_type": "code",
   "execution_count": 106,
   "id": "bc66885a",
   "metadata": {},
   "outputs": [
    {
     "data": {
      "text/plain": [
       "0.09701492537313433"
      ]
     },
     "execution_count": 106,
     "metadata": {},
     "output_type": "execute_result"
    }
   ],
   "source": [
    "52/(484+52)"
   ]
  },
  {
   "cell_type": "markdown",
   "id": "54966708",
   "metadata": {},
   "source": [
    "### c"
   ]
  },
  {
   "cell_type": "code",
   "execution_count": 108,
   "id": "f489b25b",
   "metadata": {},
   "outputs": [
    {
     "name": "stdout",
     "output_type": "stream",
     "text": [
      "CC       0    1\n",
      "Loan           \n",
      "0     1912  814\n",
      "1      188   86\n",
      "\n",
      "Online     0     1\n",
      "Loan              \n",
      "0       1096  1630\n",
      "1         98   176\n",
      "\n"
     ]
    }
   ],
   "source": [
    "for predictor in ['CC','Online']:\n",
    "    # construct the frequency table\n",
    "    df = train_df[['Loan', predictor]]\n",
    "    freqTable = df.pivot_table(index='Loan', columns=predictor, aggfunc=len)\n",
    "    \n",
    "    print(freqTable)\n",
    "    print()"
   ]
  },
  {
   "cell_type": "markdown",
   "id": "385887fc",
   "metadata": {},
   "source": [
    "### d"
   ]
  },
  {
   "cell_type": "code",
   "execution_count": 16,
   "id": "d1339d44",
   "metadata": {},
   "outputs": [],
   "source": [
    "## 1 ##"
   ]
  },
  {
   "cell_type": "code",
   "execution_count": 109,
   "id": "a5307cb3",
   "metadata": {},
   "outputs": [
    {
     "data": {
      "text/plain": [
       "0.31386861313868614"
      ]
     },
     "execution_count": 109,
     "metadata": {},
     "output_type": "execute_result"
    }
   ],
   "source": [
    "86/(188+86)"
   ]
  },
  {
   "cell_type": "code",
   "execution_count": 18,
   "id": "86f74cf2",
   "metadata": {},
   "outputs": [],
   "source": [
    "## 2 ##"
   ]
  },
  {
   "cell_type": "code",
   "execution_count": 110,
   "id": "1d8d7ce7",
   "metadata": {},
   "outputs": [
    {
     "data": {
      "text/plain": [
       "0.09745293466223699"
      ]
     },
     "execution_count": 110,
     "metadata": {},
     "output_type": "execute_result"
    }
   ],
   "source": [
    "176/(1630+176)"
   ]
  },
  {
   "cell_type": "code",
   "execution_count": 16,
   "id": "8bc066c5",
   "metadata": {},
   "outputs": [],
   "source": [
    "## 3 ## && ## 6 ##"
   ]
  },
  {
   "cell_type": "code",
   "execution_count": 111,
   "id": "1a185439",
   "metadata": {},
   "outputs": [
    {
     "name": "stdout",
     "output_type": "stream",
     "text": [
      "0    0.908667\n",
      "1    0.091333\n",
      "Name: Loan, dtype: float64\n"
     ]
    }
   ],
   "source": [
    "print(train_df['Loan'].value_counts() / len(train_df))"
   ]
  },
  {
   "cell_type": "code",
   "execution_count": 23,
   "id": "c11ea8d3",
   "metadata": {},
   "outputs": [],
   "source": [
    "## 4 ##"
   ]
  },
  {
   "cell_type": "code",
   "execution_count": 112,
   "id": "321f9217",
   "metadata": {},
   "outputs": [
    {
     "data": {
      "text/plain": [
       "0.29860601614086574"
      ]
     },
     "execution_count": 112,
     "metadata": {},
     "output_type": "execute_result"
    }
   ],
   "source": [
    "814/(1912+814)"
   ]
  },
  {
   "cell_type": "code",
   "execution_count": 19,
   "id": "85b7bc47",
   "metadata": {},
   "outputs": [],
   "source": [
    "## 5 ##"
   ]
  },
  {
   "cell_type": "code",
   "execution_count": 113,
   "id": "9678727f",
   "metadata": {},
   "outputs": [
    {
     "data": {
      "text/plain": [
       "0.5979457079970653"
      ]
     },
     "execution_count": 113,
     "metadata": {},
     "output_type": "execute_result"
    }
   ],
   "source": [
    "1630/(1096+1630)"
   ]
  },
  {
   "cell_type": "markdown",
   "id": "ff7316d2",
   "metadata": {},
   "source": [
    "### e"
   ]
  },
  {
   "cell_type": "code",
   "execution_count": 115,
   "id": "b2409066",
   "metadata": {},
   "outputs": [
    {
     "data": {
      "text/plain": [
       "0.016938740830181386"
      ]
     },
     "execution_count": 115,
     "metadata": {},
     "output_type": "execute_result"
    }
   ],
   "source": [
    "# 나이브 베이즈 확률 P(Loan = 1 | CC = 1 and Online = 1)\n",
    "\n",
    "s1=0.3139*0.0975*0.091333\n",
    "s2=0.2986*0.5979* 0.908667\n",
    "\n",
    "s1/(s1+s2)"
   ]
  },
  {
   "cell_type": "markdown",
   "id": "e7542c0b",
   "metadata": {},
   "source": [
    "### f"
   ]
  },
  {
   "cell_type": "code",
   "execution_count": 116,
   "id": "5f6fe691",
   "metadata": {},
   "outputs": [],
   "source": [
    "## 완전한 베이즈 확률이 더 정확한 추정이다."
   ]
  },
  {
   "cell_type": "markdown",
   "id": "0c5135f6",
   "metadata": {},
   "source": [
    "### g"
   ]
  },
  {
   "cell_type": "code",
   "execution_count": null,
   "id": "11e434e0",
   "metadata": {},
   "outputs": [],
   "source": []
  },
  {
   "cell_type": "markdown",
   "id": "82582641",
   "metadata": {},
   "source": [
    "## 8.2 자동차 사고"
   ]
  },
  {
   "cell_type": "code",
   "execution_count": 117,
   "id": "fff3894b",
   "metadata": {},
   "outputs": [
    {
     "data": {
      "text/html": [
       "<div>\n",
       "<style scoped>\n",
       "    .dataframe tbody tr th:only-of-type {\n",
       "        vertical-align: middle;\n",
       "    }\n",
       "\n",
       "    .dataframe tbody tr th {\n",
       "        vertical-align: top;\n",
       "    }\n",
       "\n",
       "    .dataframe thead th {\n",
       "        text-align: right;\n",
       "    }\n",
       "</style>\n",
       "<table border=\"1\" class=\"dataframe\">\n",
       "  <thead>\n",
       "    <tr style=\"text-align: right;\">\n",
       "      <th></th>\n",
       "      <th>HOUR_I_R</th>\n",
       "      <th>ALCHL_I</th>\n",
       "      <th>ALIGN_I</th>\n",
       "      <th>STRATUM_R</th>\n",
       "      <th>WRK_ZONE</th>\n",
       "      <th>WKDY_I_R</th>\n",
       "      <th>INT_HWY</th>\n",
       "      <th>LGTCON_I_R</th>\n",
       "      <th>MANCOL_I_R</th>\n",
       "      <th>PED_ACC_R</th>\n",
       "      <th>...</th>\n",
       "      <th>SUR_COND</th>\n",
       "      <th>TRAF_CON_R</th>\n",
       "      <th>TRAF_WAY</th>\n",
       "      <th>VEH_INVL</th>\n",
       "      <th>WEATHER_R</th>\n",
       "      <th>INJURY_CRASH</th>\n",
       "      <th>NO_INJ_I</th>\n",
       "      <th>PRPTYDMG_CRASH</th>\n",
       "      <th>FATALITIES</th>\n",
       "      <th>MAX_SEV_IR</th>\n",
       "    </tr>\n",
       "  </thead>\n",
       "  <tbody>\n",
       "    <tr>\n",
       "      <th>0</th>\n",
       "      <td>0</td>\n",
       "      <td>2</td>\n",
       "      <td>2</td>\n",
       "      <td>1</td>\n",
       "      <td>0</td>\n",
       "      <td>1</td>\n",
       "      <td>0</td>\n",
       "      <td>3</td>\n",
       "      <td>0</td>\n",
       "      <td>0</td>\n",
       "      <td>...</td>\n",
       "      <td>4</td>\n",
       "      <td>0</td>\n",
       "      <td>3</td>\n",
       "      <td>1</td>\n",
       "      <td>1</td>\n",
       "      <td>1</td>\n",
       "      <td>1</td>\n",
       "      <td>0</td>\n",
       "      <td>0</td>\n",
       "      <td>1</td>\n",
       "    </tr>\n",
       "    <tr>\n",
       "      <th>1</th>\n",
       "      <td>1</td>\n",
       "      <td>2</td>\n",
       "      <td>1</td>\n",
       "      <td>0</td>\n",
       "      <td>0</td>\n",
       "      <td>1</td>\n",
       "      <td>1</td>\n",
       "      <td>3</td>\n",
       "      <td>2</td>\n",
       "      <td>0</td>\n",
       "      <td>...</td>\n",
       "      <td>4</td>\n",
       "      <td>0</td>\n",
       "      <td>3</td>\n",
       "      <td>2</td>\n",
       "      <td>2</td>\n",
       "      <td>0</td>\n",
       "      <td>0</td>\n",
       "      <td>1</td>\n",
       "      <td>0</td>\n",
       "      <td>0</td>\n",
       "    </tr>\n",
       "    <tr>\n",
       "      <th>2</th>\n",
       "      <td>1</td>\n",
       "      <td>2</td>\n",
       "      <td>1</td>\n",
       "      <td>0</td>\n",
       "      <td>0</td>\n",
       "      <td>1</td>\n",
       "      <td>0</td>\n",
       "      <td>3</td>\n",
       "      <td>2</td>\n",
       "      <td>0</td>\n",
       "      <td>...</td>\n",
       "      <td>4</td>\n",
       "      <td>1</td>\n",
       "      <td>2</td>\n",
       "      <td>2</td>\n",
       "      <td>2</td>\n",
       "      <td>0</td>\n",
       "      <td>0</td>\n",
       "      <td>1</td>\n",
       "      <td>0</td>\n",
       "      <td>0</td>\n",
       "    </tr>\n",
       "    <tr>\n",
       "      <th>3</th>\n",
       "      <td>1</td>\n",
       "      <td>2</td>\n",
       "      <td>1</td>\n",
       "      <td>1</td>\n",
       "      <td>0</td>\n",
       "      <td>0</td>\n",
       "      <td>0</td>\n",
       "      <td>3</td>\n",
       "      <td>2</td>\n",
       "      <td>0</td>\n",
       "      <td>...</td>\n",
       "      <td>4</td>\n",
       "      <td>1</td>\n",
       "      <td>2</td>\n",
       "      <td>2</td>\n",
       "      <td>1</td>\n",
       "      <td>0</td>\n",
       "      <td>0</td>\n",
       "      <td>1</td>\n",
       "      <td>0</td>\n",
       "      <td>0</td>\n",
       "    </tr>\n",
       "    <tr>\n",
       "      <th>4</th>\n",
       "      <td>1</td>\n",
       "      <td>1</td>\n",
       "      <td>1</td>\n",
       "      <td>0</td>\n",
       "      <td>0</td>\n",
       "      <td>1</td>\n",
       "      <td>0</td>\n",
       "      <td>3</td>\n",
       "      <td>2</td>\n",
       "      <td>0</td>\n",
       "      <td>...</td>\n",
       "      <td>4</td>\n",
       "      <td>0</td>\n",
       "      <td>2</td>\n",
       "      <td>3</td>\n",
       "      <td>1</td>\n",
       "      <td>0</td>\n",
       "      <td>0</td>\n",
       "      <td>1</td>\n",
       "      <td>0</td>\n",
       "      <td>0</td>\n",
       "    </tr>\n",
       "    <tr>\n",
       "      <th>...</th>\n",
       "      <td>...</td>\n",
       "      <td>...</td>\n",
       "      <td>...</td>\n",
       "      <td>...</td>\n",
       "      <td>...</td>\n",
       "      <td>...</td>\n",
       "      <td>...</td>\n",
       "      <td>...</td>\n",
       "      <td>...</td>\n",
       "      <td>...</td>\n",
       "      <td>...</td>\n",
       "      <td>...</td>\n",
       "      <td>...</td>\n",
       "      <td>...</td>\n",
       "      <td>...</td>\n",
       "      <td>...</td>\n",
       "      <td>...</td>\n",
       "      <td>...</td>\n",
       "      <td>...</td>\n",
       "      <td>...</td>\n",
       "      <td>...</td>\n",
       "    </tr>\n",
       "    <tr>\n",
       "      <th>42178</th>\n",
       "      <td>0</td>\n",
       "      <td>2</td>\n",
       "      <td>1</td>\n",
       "      <td>0</td>\n",
       "      <td>1</td>\n",
       "      <td>1</td>\n",
       "      <td>0</td>\n",
       "      <td>1</td>\n",
       "      <td>0</td>\n",
       "      <td>0</td>\n",
       "      <td>...</td>\n",
       "      <td>1</td>\n",
       "      <td>2</td>\n",
       "      <td>1</td>\n",
       "      <td>1</td>\n",
       "      <td>1</td>\n",
       "      <td>0</td>\n",
       "      <td>0</td>\n",
       "      <td>1</td>\n",
       "      <td>0</td>\n",
       "      <td>0</td>\n",
       "    </tr>\n",
       "    <tr>\n",
       "      <th>42179</th>\n",
       "      <td>1</td>\n",
       "      <td>2</td>\n",
       "      <td>1</td>\n",
       "      <td>1</td>\n",
       "      <td>0</td>\n",
       "      <td>0</td>\n",
       "      <td>0</td>\n",
       "      <td>1</td>\n",
       "      <td>0</td>\n",
       "      <td>0</td>\n",
       "      <td>...</td>\n",
       "      <td>1</td>\n",
       "      <td>0</td>\n",
       "      <td>1</td>\n",
       "      <td>1</td>\n",
       "      <td>1</td>\n",
       "      <td>1</td>\n",
       "      <td>1</td>\n",
       "      <td>0</td>\n",
       "      <td>0</td>\n",
       "      <td>1</td>\n",
       "    </tr>\n",
       "    <tr>\n",
       "      <th>42180</th>\n",
       "      <td>0</td>\n",
       "      <td>2</td>\n",
       "      <td>2</td>\n",
       "      <td>0</td>\n",
       "      <td>0</td>\n",
       "      <td>1</td>\n",
       "      <td>0</td>\n",
       "      <td>1</td>\n",
       "      <td>0</td>\n",
       "      <td>0</td>\n",
       "      <td>...</td>\n",
       "      <td>1</td>\n",
       "      <td>0</td>\n",
       "      <td>1</td>\n",
       "      <td>1</td>\n",
       "      <td>1</td>\n",
       "      <td>0</td>\n",
       "      <td>0</td>\n",
       "      <td>1</td>\n",
       "      <td>0</td>\n",
       "      <td>0</td>\n",
       "    </tr>\n",
       "    <tr>\n",
       "      <th>42181</th>\n",
       "      <td>1</td>\n",
       "      <td>2</td>\n",
       "      <td>1</td>\n",
       "      <td>1</td>\n",
       "      <td>0</td>\n",
       "      <td>1</td>\n",
       "      <td>0</td>\n",
       "      <td>1</td>\n",
       "      <td>0</td>\n",
       "      <td>0</td>\n",
       "      <td>...</td>\n",
       "      <td>1</td>\n",
       "      <td>0</td>\n",
       "      <td>1</td>\n",
       "      <td>1</td>\n",
       "      <td>1</td>\n",
       "      <td>0</td>\n",
       "      <td>0</td>\n",
       "      <td>1</td>\n",
       "      <td>0</td>\n",
       "      <td>0</td>\n",
       "    </tr>\n",
       "    <tr>\n",
       "      <th>42182</th>\n",
       "      <td>1</td>\n",
       "      <td>2</td>\n",
       "      <td>1</td>\n",
       "      <td>0</td>\n",
       "      <td>1</td>\n",
       "      <td>1</td>\n",
       "      <td>0</td>\n",
       "      <td>1</td>\n",
       "      <td>0</td>\n",
       "      <td>1</td>\n",
       "      <td>...</td>\n",
       "      <td>1</td>\n",
       "      <td>2</td>\n",
       "      <td>1</td>\n",
       "      <td>1</td>\n",
       "      <td>1</td>\n",
       "      <td>0</td>\n",
       "      <td>0</td>\n",
       "      <td>1</td>\n",
       "      <td>0</td>\n",
       "      <td>0</td>\n",
       "    </tr>\n",
       "  </tbody>\n",
       "</table>\n",
       "<p>42183 rows × 24 columns</p>\n",
       "</div>"
      ],
      "text/plain": [
       "       HOUR_I_R  ALCHL_I  ALIGN_I  STRATUM_R  WRK_ZONE  WKDY_I_R  INT_HWY  \\\n",
       "0             0        2        2          1         0         1        0   \n",
       "1             1        2        1          0         0         1        1   \n",
       "2             1        2        1          0         0         1        0   \n",
       "3             1        2        1          1         0         0        0   \n",
       "4             1        1        1          0         0         1        0   \n",
       "...         ...      ...      ...        ...       ...       ...      ...   \n",
       "42178         0        2        1          0         1         1        0   \n",
       "42179         1        2        1          1         0         0        0   \n",
       "42180         0        2        2          0         0         1        0   \n",
       "42181         1        2        1          1         0         1        0   \n",
       "42182         1        2        1          0         1         1        0   \n",
       "\n",
       "       LGTCON_I_R  MANCOL_I_R  PED_ACC_R  ...  SUR_COND  TRAF_CON_R  TRAF_WAY  \\\n",
       "0               3           0          0  ...         4           0         3   \n",
       "1               3           2          0  ...         4           0         3   \n",
       "2               3           2          0  ...         4           1         2   \n",
       "3               3           2          0  ...         4           1         2   \n",
       "4               3           2          0  ...         4           0         2   \n",
       "...           ...         ...        ...  ...       ...         ...       ...   \n",
       "42178           1           0          0  ...         1           2         1   \n",
       "42179           1           0          0  ...         1           0         1   \n",
       "42180           1           0          0  ...         1           0         1   \n",
       "42181           1           0          0  ...         1           0         1   \n",
       "42182           1           0          1  ...         1           2         1   \n",
       "\n",
       "       VEH_INVL  WEATHER_R  INJURY_CRASH  NO_INJ_I  PRPTYDMG_CRASH  \\\n",
       "0             1          1             1         1               0   \n",
       "1             2          2             0         0               1   \n",
       "2             2          2             0         0               1   \n",
       "3             2          1             0         0               1   \n",
       "4             3          1             0         0               1   \n",
       "...         ...        ...           ...       ...             ...   \n",
       "42178         1          1             0         0               1   \n",
       "42179         1          1             1         1               0   \n",
       "42180         1          1             0         0               1   \n",
       "42181         1          1             0         0               1   \n",
       "42182         1          1             0         0               1   \n",
       "\n",
       "       FATALITIES  MAX_SEV_IR  \n",
       "0               0           1  \n",
       "1               0           0  \n",
       "2               0           0  \n",
       "3               0           0  \n",
       "4               0           0  \n",
       "...           ...         ...  \n",
       "42178           0           0  \n",
       "42179           0           1  \n",
       "42180           0           0  \n",
       "42181           0           0  \n",
       "42182           0           0  \n",
       "\n",
       "[42183 rows x 24 columns]"
      ]
     },
     "execution_count": 117,
     "metadata": {},
     "output_type": "execute_result"
    }
   ],
   "source": [
    "acc = pd.read_csv('AccidentsFull.csv')\n",
    "acc"
   ]
  },
  {
   "cell_type": "code",
   "execution_count": 118,
   "id": "20d8aee7",
   "metadata": {},
   "outputs": [
    {
     "name": "stdout",
     "output_type": "stream",
     "text": [
      "<class 'pandas.core.frame.DataFrame'>\n",
      "RangeIndex: 42183 entries, 0 to 42182\n",
      "Data columns (total 24 columns):\n",
      " #   Column          Non-Null Count  Dtype\n",
      "---  ------          --------------  -----\n",
      " 0   HOUR_I_R        42183 non-null  int64\n",
      " 1   ALCHL_I         42183 non-null  int64\n",
      " 2   ALIGN_I         42183 non-null  int64\n",
      " 3   STRATUM_R       42183 non-null  int64\n",
      " 4   WRK_ZONE        42183 non-null  int64\n",
      " 5   WKDY_I_R        42183 non-null  int64\n",
      " 6   INT_HWY         42183 non-null  int64\n",
      " 7   LGTCON_I_R      42183 non-null  int64\n",
      " 8   MANCOL_I_R      42183 non-null  int64\n",
      " 9   PED_ACC_R       42183 non-null  int64\n",
      " 10  RELJCT_I_R      42183 non-null  int64\n",
      " 11  REL_RWY_R       42183 non-null  int64\n",
      " 12  PROFIL_I_R      42183 non-null  int64\n",
      " 13  SPD_LIM         42183 non-null  int64\n",
      " 14  SUR_COND        42183 non-null  int64\n",
      " 15  TRAF_CON_R      42183 non-null  int64\n",
      " 16  TRAF_WAY        42183 non-null  int64\n",
      " 17  VEH_INVL        42183 non-null  int64\n",
      " 18  WEATHER_R       42183 non-null  int64\n",
      " 19  INJURY_CRASH    42183 non-null  int64\n",
      " 20  NO_INJ_I        42183 non-null  int64\n",
      " 21  PRPTYDMG_CRASH  42183 non-null  int64\n",
      " 22  FATALITIES      42183 non-null  int64\n",
      " 23  MAX_SEV_IR      42183 non-null  int64\n",
      "dtypes: int64(24)\n",
      "memory usage: 7.7 MB\n"
     ]
    }
   ],
   "source": [
    "acc.info()"
   ]
  },
  {
   "cell_type": "code",
   "execution_count": 20,
   "id": "06326ce4",
   "metadata": {},
   "outputs": [],
   "source": [
    "acc.MAX_SEV_IR=acc.MAX_SEV_IR.astype('category')\n",
    "acc.WEATHER_R=acc.WEATHER_R.astype('category')\n",
    "acc.TRAF_CON_R=acc.TRAF_CON_R.astype('category')"
   ]
  },
  {
   "cell_type": "code",
   "execution_count": 21,
   "id": "b3d1a6ab",
   "metadata": {},
   "outputs": [],
   "source": [
    "IN=[]\n",
    "\n",
    "for i in acc['MAX_SEV_IR']:\n",
    "    if i == 0:\n",
    "        IN.append('No')\n",
    "    elif i != 0:\n",
    "        IN.append('Yes')"
   ]
  },
  {
   "cell_type": "code",
   "execution_count": 22,
   "id": "e734b4e4",
   "metadata": {},
   "outputs": [
    {
     "data": {
      "text/html": [
       "<div>\n",
       "<style scoped>\n",
       "    .dataframe tbody tr th:only-of-type {\n",
       "        vertical-align: middle;\n",
       "    }\n",
       "\n",
       "    .dataframe tbody tr th {\n",
       "        vertical-align: top;\n",
       "    }\n",
       "\n",
       "    .dataframe thead th {\n",
       "        text-align: right;\n",
       "    }\n",
       "</style>\n",
       "<table border=\"1\" class=\"dataframe\">\n",
       "  <thead>\n",
       "    <tr style=\"text-align: right;\">\n",
       "      <th></th>\n",
       "      <th>HOUR_I_R</th>\n",
       "      <th>ALCHL_I</th>\n",
       "      <th>ALIGN_I</th>\n",
       "      <th>STRATUM_R</th>\n",
       "      <th>WRK_ZONE</th>\n",
       "      <th>WKDY_I_R</th>\n",
       "      <th>INT_HWY</th>\n",
       "      <th>LGTCON_I_R</th>\n",
       "      <th>MANCOL_I_R</th>\n",
       "      <th>PED_ACC_R</th>\n",
       "      <th>...</th>\n",
       "      <th>TRAF_CON_R</th>\n",
       "      <th>TRAF_WAY</th>\n",
       "      <th>VEH_INVL</th>\n",
       "      <th>WEATHER_R</th>\n",
       "      <th>INJURY_CRASH</th>\n",
       "      <th>NO_INJ_I</th>\n",
       "      <th>PRPTYDMG_CRASH</th>\n",
       "      <th>FATALITIES</th>\n",
       "      <th>MAX_SEV_IR</th>\n",
       "      <th>INJURY</th>\n",
       "    </tr>\n",
       "  </thead>\n",
       "  <tbody>\n",
       "    <tr>\n",
       "      <th>0</th>\n",
       "      <td>0</td>\n",
       "      <td>2</td>\n",
       "      <td>2</td>\n",
       "      <td>1</td>\n",
       "      <td>0</td>\n",
       "      <td>1</td>\n",
       "      <td>0</td>\n",
       "      <td>3</td>\n",
       "      <td>0</td>\n",
       "      <td>0</td>\n",
       "      <td>...</td>\n",
       "      <td>0</td>\n",
       "      <td>3</td>\n",
       "      <td>1</td>\n",
       "      <td>1</td>\n",
       "      <td>1</td>\n",
       "      <td>1</td>\n",
       "      <td>0</td>\n",
       "      <td>0</td>\n",
       "      <td>1</td>\n",
       "      <td>Yes</td>\n",
       "    </tr>\n",
       "    <tr>\n",
       "      <th>1</th>\n",
       "      <td>1</td>\n",
       "      <td>2</td>\n",
       "      <td>1</td>\n",
       "      <td>0</td>\n",
       "      <td>0</td>\n",
       "      <td>1</td>\n",
       "      <td>1</td>\n",
       "      <td>3</td>\n",
       "      <td>2</td>\n",
       "      <td>0</td>\n",
       "      <td>...</td>\n",
       "      <td>0</td>\n",
       "      <td>3</td>\n",
       "      <td>2</td>\n",
       "      <td>2</td>\n",
       "      <td>0</td>\n",
       "      <td>0</td>\n",
       "      <td>1</td>\n",
       "      <td>0</td>\n",
       "      <td>0</td>\n",
       "      <td>No</td>\n",
       "    </tr>\n",
       "    <tr>\n",
       "      <th>2</th>\n",
       "      <td>1</td>\n",
       "      <td>2</td>\n",
       "      <td>1</td>\n",
       "      <td>0</td>\n",
       "      <td>0</td>\n",
       "      <td>1</td>\n",
       "      <td>0</td>\n",
       "      <td>3</td>\n",
       "      <td>2</td>\n",
       "      <td>0</td>\n",
       "      <td>...</td>\n",
       "      <td>1</td>\n",
       "      <td>2</td>\n",
       "      <td>2</td>\n",
       "      <td>2</td>\n",
       "      <td>0</td>\n",
       "      <td>0</td>\n",
       "      <td>1</td>\n",
       "      <td>0</td>\n",
       "      <td>0</td>\n",
       "      <td>No</td>\n",
       "    </tr>\n",
       "    <tr>\n",
       "      <th>3</th>\n",
       "      <td>1</td>\n",
       "      <td>2</td>\n",
       "      <td>1</td>\n",
       "      <td>1</td>\n",
       "      <td>0</td>\n",
       "      <td>0</td>\n",
       "      <td>0</td>\n",
       "      <td>3</td>\n",
       "      <td>2</td>\n",
       "      <td>0</td>\n",
       "      <td>...</td>\n",
       "      <td>1</td>\n",
       "      <td>2</td>\n",
       "      <td>2</td>\n",
       "      <td>1</td>\n",
       "      <td>0</td>\n",
       "      <td>0</td>\n",
       "      <td>1</td>\n",
       "      <td>0</td>\n",
       "      <td>0</td>\n",
       "      <td>No</td>\n",
       "    </tr>\n",
       "    <tr>\n",
       "      <th>4</th>\n",
       "      <td>1</td>\n",
       "      <td>1</td>\n",
       "      <td>1</td>\n",
       "      <td>0</td>\n",
       "      <td>0</td>\n",
       "      <td>1</td>\n",
       "      <td>0</td>\n",
       "      <td>3</td>\n",
       "      <td>2</td>\n",
       "      <td>0</td>\n",
       "      <td>...</td>\n",
       "      <td>0</td>\n",
       "      <td>2</td>\n",
       "      <td>3</td>\n",
       "      <td>1</td>\n",
       "      <td>0</td>\n",
       "      <td>0</td>\n",
       "      <td>1</td>\n",
       "      <td>0</td>\n",
       "      <td>0</td>\n",
       "      <td>No</td>\n",
       "    </tr>\n",
       "  </tbody>\n",
       "</table>\n",
       "<p>5 rows × 25 columns</p>\n",
       "</div>"
      ],
      "text/plain": [
       "   HOUR_I_R  ALCHL_I  ALIGN_I  STRATUM_R  WRK_ZONE  WKDY_I_R  INT_HWY  \\\n",
       "0         0        2        2          1         0         1        0   \n",
       "1         1        2        1          0         0         1        1   \n",
       "2         1        2        1          0         0         1        0   \n",
       "3         1        2        1          1         0         0        0   \n",
       "4         1        1        1          0         0         1        0   \n",
       "\n",
       "   LGTCON_I_R  MANCOL_I_R  PED_ACC_R  ...  TRAF_CON_R  TRAF_WAY  VEH_INVL  \\\n",
       "0           3           0          0  ...           0         3         1   \n",
       "1           3           2          0  ...           0         3         2   \n",
       "2           3           2          0  ...           1         2         2   \n",
       "3           3           2          0  ...           1         2         2   \n",
       "4           3           2          0  ...           0         2         3   \n",
       "\n",
       "   WEATHER_R  INJURY_CRASH NO_INJ_I  PRPTYDMG_CRASH  FATALITIES MAX_SEV_IR  \\\n",
       "0          1             1        1               0           0          1   \n",
       "1          2             0        0               1           0          0   \n",
       "2          2             0        0               1           0          0   \n",
       "3          1             0        0               1           0          0   \n",
       "4          1             0        0               1           0          0   \n",
       "\n",
       "   INJURY  \n",
       "0     Yes  \n",
       "1      No  \n",
       "2      No  \n",
       "3      No  \n",
       "4      No  \n",
       "\n",
       "[5 rows x 25 columns]"
      ]
     },
     "execution_count": 22,
     "metadata": {},
     "output_type": "execute_result"
    }
   ],
   "source": [
    "acc['INJURY'] = IN\n",
    "acc.head()"
   ]
  },
  {
   "cell_type": "markdown",
   "id": "77d0aaed",
   "metadata": {},
   "source": [
    "### a"
   ]
  },
  {
   "cell_type": "code",
   "execution_count": 23,
   "id": "3de1a6cd",
   "metadata": {},
   "outputs": [
    {
     "data": {
      "text/plain": [
       "42183"
      ]
     },
     "execution_count": 23,
     "metadata": {},
     "output_type": "execute_result"
    }
   ],
   "source": [
    "len(acc.INJURY=='No')"
   ]
  },
  {
   "cell_type": "code",
   "execution_count": 24,
   "id": "5ff233a6",
   "metadata": {},
   "outputs": [
    {
     "data": {
      "text/plain": [
       "42183"
      ]
     },
     "execution_count": 24,
     "metadata": {},
     "output_type": "execute_result"
    }
   ],
   "source": [
    "len(acc.INJURY=='Yes')"
   ]
  },
  {
   "cell_type": "markdown",
   "id": "b07505c8",
   "metadata": {},
   "source": [
    "### b"
   ]
  },
  {
   "cell_type": "code",
   "execution_count": 25,
   "id": "7e022075",
   "metadata": {},
   "outputs": [],
   "source": [
    "acc_b=acc.head(12)"
   ]
  },
  {
   "cell_type": "code",
   "execution_count": 26,
   "id": "d6b27b90",
   "metadata": {},
   "outputs": [
    {
     "data": {
      "text/html": [
       "<div>\n",
       "<style scoped>\n",
       "    .dataframe tbody tr th:only-of-type {\n",
       "        vertical-align: middle;\n",
       "    }\n",
       "\n",
       "    .dataframe tbody tr th {\n",
       "        vertical-align: top;\n",
       "    }\n",
       "\n",
       "    .dataframe thead th {\n",
       "        text-align: right;\n",
       "    }\n",
       "</style>\n",
       "<table border=\"1\" class=\"dataframe\">\n",
       "  <thead>\n",
       "    <tr style=\"text-align: right;\">\n",
       "      <th></th>\n",
       "      <th>INJURY</th>\n",
       "      <th>WEATHER_R</th>\n",
       "      <th>TRAF_CON_R</th>\n",
       "    </tr>\n",
       "  </thead>\n",
       "  <tbody>\n",
       "    <tr>\n",
       "      <th>0</th>\n",
       "      <td>Yes</td>\n",
       "      <td>1</td>\n",
       "      <td>0</td>\n",
       "    </tr>\n",
       "    <tr>\n",
       "      <th>1</th>\n",
       "      <td>No</td>\n",
       "      <td>2</td>\n",
       "      <td>0</td>\n",
       "    </tr>\n",
       "    <tr>\n",
       "      <th>2</th>\n",
       "      <td>No</td>\n",
       "      <td>2</td>\n",
       "      <td>1</td>\n",
       "    </tr>\n",
       "    <tr>\n",
       "      <th>3</th>\n",
       "      <td>No</td>\n",
       "      <td>1</td>\n",
       "      <td>1</td>\n",
       "    </tr>\n",
       "    <tr>\n",
       "      <th>4</th>\n",
       "      <td>No</td>\n",
       "      <td>1</td>\n",
       "      <td>0</td>\n",
       "    </tr>\n",
       "    <tr>\n",
       "      <th>5</th>\n",
       "      <td>Yes</td>\n",
       "      <td>2</td>\n",
       "      <td>0</td>\n",
       "    </tr>\n",
       "    <tr>\n",
       "      <th>6</th>\n",
       "      <td>No</td>\n",
       "      <td>2</td>\n",
       "      <td>0</td>\n",
       "    </tr>\n",
       "    <tr>\n",
       "      <th>7</th>\n",
       "      <td>Yes</td>\n",
       "      <td>1</td>\n",
       "      <td>0</td>\n",
       "    </tr>\n",
       "    <tr>\n",
       "      <th>8</th>\n",
       "      <td>No</td>\n",
       "      <td>2</td>\n",
       "      <td>0</td>\n",
       "    </tr>\n",
       "    <tr>\n",
       "      <th>9</th>\n",
       "      <td>No</td>\n",
       "      <td>2</td>\n",
       "      <td>0</td>\n",
       "    </tr>\n",
       "    <tr>\n",
       "      <th>10</th>\n",
       "      <td>No</td>\n",
       "      <td>2</td>\n",
       "      <td>0</td>\n",
       "    </tr>\n",
       "    <tr>\n",
       "      <th>11</th>\n",
       "      <td>No</td>\n",
       "      <td>1</td>\n",
       "      <td>2</td>\n",
       "    </tr>\n",
       "  </tbody>\n",
       "</table>\n",
       "</div>"
      ],
      "text/plain": [
       "   INJURY WEATHER_R TRAF_CON_R\n",
       "0     Yes         1          0\n",
       "1      No         2          0\n",
       "2      No         2          1\n",
       "3      No         1          1\n",
       "4      No         1          0\n",
       "5     Yes         2          0\n",
       "6      No         2          0\n",
       "7     Yes         1          0\n",
       "8      No         2          0\n",
       "9      No         2          0\n",
       "10     No         2          0\n",
       "11     No         1          2"
      ]
     },
     "execution_count": 26,
     "metadata": {},
     "output_type": "execute_result"
    }
   ],
   "source": [
    "acc_b=acc_b[['INJURY','WEATHER_R','TRAF_CON_R']]\n",
    "acc_b"
   ]
  },
  {
   "cell_type": "code",
   "execution_count": 27,
   "id": "14bc60f7",
   "metadata": {},
   "outputs": [
    {
     "data": {
      "text/html": [
       "<div>\n",
       "<style scoped>\n",
       "    .dataframe tbody tr th:only-of-type {\n",
       "        vertical-align: middle;\n",
       "    }\n",
       "\n",
       "    .dataframe tbody tr th {\n",
       "        vertical-align: top;\n",
       "    }\n",
       "\n",
       "    .dataframe thead th {\n",
       "        text-align: right;\n",
       "    }\n",
       "</style>\n",
       "<table border=\"1\" class=\"dataframe\">\n",
       "  <thead>\n",
       "    <tr style=\"text-align: right;\">\n",
       "      <th></th>\n",
       "      <th>INJURY</th>\n",
       "      <th>No</th>\n",
       "      <th>Yes</th>\n",
       "    </tr>\n",
       "    <tr>\n",
       "      <th>WEATHER_R</th>\n",
       "      <th>TRAF_CON_R</th>\n",
       "      <th></th>\n",
       "      <th></th>\n",
       "    </tr>\n",
       "  </thead>\n",
       "  <tbody>\n",
       "    <tr>\n",
       "      <th rowspan=\"3\" valign=\"top\">1</th>\n",
       "      <th>0</th>\n",
       "      <td>1.0</td>\n",
       "      <td>2.0</td>\n",
       "    </tr>\n",
       "    <tr>\n",
       "      <th>1</th>\n",
       "      <td>1.0</td>\n",
       "      <td>NaN</td>\n",
       "    </tr>\n",
       "    <tr>\n",
       "      <th>2</th>\n",
       "      <td>1.0</td>\n",
       "      <td>NaN</td>\n",
       "    </tr>\n",
       "    <tr>\n",
       "      <th rowspan=\"2\" valign=\"top\">2</th>\n",
       "      <th>0</th>\n",
       "      <td>5.0</td>\n",
       "      <td>1.0</td>\n",
       "    </tr>\n",
       "    <tr>\n",
       "      <th>1</th>\n",
       "      <td>1.0</td>\n",
       "      <td>NaN</td>\n",
       "    </tr>\n",
       "  </tbody>\n",
       "</table>\n",
       "</div>"
      ],
      "text/plain": [
       "INJURY                 No  Yes\n",
       "WEATHER_R TRAF_CON_R          \n",
       "1         0           1.0  2.0\n",
       "          1           1.0  NaN\n",
       "          2           1.0  NaN\n",
       "2         0           5.0  1.0\n",
       "          1           1.0  NaN"
      ]
     },
     "execution_count": 27,
     "metadata": {},
     "output_type": "execute_result"
    }
   ],
   "source": [
    "## 1 ##\n",
    "\n",
    "table_1=pd.pivot_table(acc_b, index=['WEATHER_R','TRAF_CON_R'], columns='INJURY', aggfunc=len)\n",
    "table_1"
   ]
  },
  {
   "cell_type": "code",
   "execution_count": 28,
   "id": "1fab7316",
   "metadata": {},
   "outputs": [
    {
     "data": {
      "text/html": [
       "<div>\n",
       "<style scoped>\n",
       "    .dataframe tbody tr th:only-of-type {\n",
       "        vertical-align: middle;\n",
       "    }\n",
       "\n",
       "    .dataframe tbody tr th {\n",
       "        vertical-align: top;\n",
       "    }\n",
       "\n",
       "    .dataframe thead th {\n",
       "        text-align: right;\n",
       "    }\n",
       "</style>\n",
       "<table border=\"1\" class=\"dataframe\">\n",
       "  <thead>\n",
       "    <tr style=\"text-align: right;\">\n",
       "      <th></th>\n",
       "      <th>INJURY</th>\n",
       "      <th>No</th>\n",
       "      <th>Yes</th>\n",
       "    </tr>\n",
       "    <tr>\n",
       "      <th>WEATHER_R</th>\n",
       "      <th>TRAF_CON_R</th>\n",
       "      <th></th>\n",
       "      <th></th>\n",
       "    </tr>\n",
       "  </thead>\n",
       "  <tbody>\n",
       "    <tr>\n",
       "      <th rowspan=\"3\" valign=\"top\">1</th>\n",
       "      <th>0</th>\n",
       "      <td>1.0</td>\n",
       "      <td>2.0</td>\n",
       "    </tr>\n",
       "    <tr>\n",
       "      <th>1</th>\n",
       "      <td>1.0</td>\n",
       "      <td>0.0</td>\n",
       "    </tr>\n",
       "    <tr>\n",
       "      <th>2</th>\n",
       "      <td>1.0</td>\n",
       "      <td>0.0</td>\n",
       "    </tr>\n",
       "    <tr>\n",
       "      <th rowspan=\"2\" valign=\"top\">2</th>\n",
       "      <th>0</th>\n",
       "      <td>5.0</td>\n",
       "      <td>1.0</td>\n",
       "    </tr>\n",
       "    <tr>\n",
       "      <th>1</th>\n",
       "      <td>1.0</td>\n",
       "      <td>0.0</td>\n",
       "    </tr>\n",
       "  </tbody>\n",
       "</table>\n",
       "</div>"
      ],
      "text/plain": [
       "INJURY                 No  Yes\n",
       "WEATHER_R TRAF_CON_R          \n",
       "1         0           1.0  2.0\n",
       "          1           1.0  0.0\n",
       "          2           1.0  0.0\n",
       "2         0           5.0  1.0\n",
       "          1           1.0  0.0"
      ]
     },
     "execution_count": 28,
     "metadata": {},
     "output_type": "execute_result"
    }
   ],
   "source": [
    "# NaN 결측치로 0으로 생각함\n",
    "table_1=table_1.fillna(0)\n",
    "table_1"
   ]
  },
  {
   "cell_type": "code",
   "execution_count": 29,
   "id": "4b8df595",
   "metadata": {},
   "outputs": [],
   "source": [
    "## 2 ##"
   ]
  },
  {
   "cell_type": "code",
   "execution_count": 30,
   "id": "7625d21c",
   "metadata": {},
   "outputs": [],
   "source": [
    "# w = 1, t = 0 : 2/3 \n",
    "# w = 1, t = 1 : 0/1 \n",
    "# w = 1, t = 2 : 0/1\n",
    "# w = 2, t = 0 : 1/6\n",
    "# w = 2, t = 1 : 0/6"
   ]
  },
  {
   "cell_type": "code",
   "execution_count": 31,
   "id": "006ba7fd",
   "metadata": {},
   "outputs": [],
   "source": [
    "## 3 ##"
   ]
  },
  {
   "cell_type": "code",
   "execution_count": null,
   "id": "4ab9d2de",
   "metadata": {},
   "outputs": [],
   "source": []
  },
  {
   "cell_type": "code",
   "execution_count": null,
   "id": "ce0ae35b",
   "metadata": {},
   "outputs": [],
   "source": []
  },
  {
   "cell_type": "code",
   "execution_count": null,
   "id": "c72494d4",
   "metadata": {},
   "outputs": [],
   "source": []
  },
  {
   "cell_type": "code",
   "execution_count": 32,
   "id": "4f77cc1f",
   "metadata": {},
   "outputs": [],
   "source": [
    "## 4 ##"
   ]
  },
  {
   "cell_type": "code",
   "execution_count": null,
   "id": "e12c0b72",
   "metadata": {},
   "outputs": [],
   "source": []
  },
  {
   "cell_type": "code",
   "execution_count": null,
   "id": "1ecae425",
   "metadata": {},
   "outputs": [],
   "source": []
  },
  {
   "cell_type": "code",
   "execution_count": null,
   "id": "a7c0742f",
   "metadata": {},
   "outputs": [],
   "source": []
  },
  {
   "cell_type": "code",
   "execution_count": null,
   "id": "f74c4741",
   "metadata": {},
   "outputs": [],
   "source": [
    "## 5 ##"
   ]
  },
  {
   "cell_type": "code",
   "execution_count": null,
   "id": "4c0a9c9c",
   "metadata": {},
   "outputs": [],
   "source": []
  },
  {
   "cell_type": "code",
   "execution_count": null,
   "id": "2c3272c3",
   "metadata": {},
   "outputs": [],
   "source": []
  },
  {
   "cell_type": "code",
   "execution_count": null,
   "id": "dfea8093",
   "metadata": {},
   "outputs": [],
   "source": []
  },
  {
   "cell_type": "code",
   "execution_count": null,
   "id": "a70a7e63",
   "metadata": {},
   "outputs": [],
   "source": []
  },
  {
   "cell_type": "markdown",
   "id": "ff27ad2e",
   "metadata": {},
   "source": [
    "### c"
   ]
  },
  {
   "cell_type": "code",
   "execution_count": 33,
   "id": "e1bdda5b",
   "metadata": {},
   "outputs": [],
   "source": [
    "# 데이터 분할\n",
    "train_df, valid_df = train_test_split(acc, test_size=0.4)"
   ]
  },
  {
   "cell_type": "code",
   "execution_count": 34,
   "id": "2404063a",
   "metadata": {},
   "outputs": [
    {
     "data": {
      "text/plain": [
       "Index(['HOUR_I_R', 'ALCHL_I', 'ALIGN_I', 'STRATUM_R', 'WRK_ZONE', 'WKDY_I_R',\n",
       "       'INT_HWY', 'LGTCON_I_R', 'MANCOL_I_R', 'PED_ACC_R', 'RELJCT_I_R',\n",
       "       'REL_RWY_R', 'PROFIL_I_R', 'SPD_LIM', 'SUR_COND', 'TRAF_CON_R',\n",
       "       'TRAF_WAY', 'VEH_INVL', 'WEATHER_R', 'INJURY_CRASH', 'NO_INJ_I',\n",
       "       'PRPTYDMG_CRASH', 'FATALITIES', 'MAX_SEV_IR', 'INJURY'],\n",
       "      dtype='object')"
      ]
     },
     "execution_count": 34,
     "metadata": {},
     "output_type": "execute_result"
    }
   ],
   "source": [
    "### 1 ###\n",
    "acc.columns"
   ]
  },
  {
   "cell_type": "code",
   "execution_count": 35,
   "id": "efac5825",
   "metadata": {},
   "outputs": [],
   "source": [
    "## 2 ##"
   ]
  },
  {
   "cell_type": "code",
   "execution_count": 36,
   "id": "b6a35dda",
   "metadata": {},
   "outputs": [
    {
     "data": {
      "text/html": [
       "<div>\n",
       "<style scoped>\n",
       "    .dataframe tbody tr th:only-of-type {\n",
       "        vertical-align: middle;\n",
       "    }\n",
       "\n",
       "    .dataframe tbody tr th {\n",
       "        vertical-align: top;\n",
       "    }\n",
       "\n",
       "    .dataframe thead th {\n",
       "        text-align: right;\n",
       "    }\n",
       "</style>\n",
       "<table border=\"1\" class=\"dataframe\">\n",
       "  <thead>\n",
       "    <tr style=\"text-align: right;\">\n",
       "      <th></th>\n",
       "      <th>HOUR_I_R</th>\n",
       "      <th>ALCHL_I</th>\n",
       "      <th>ALIGN_I</th>\n",
       "      <th>STRATUM_R</th>\n",
       "      <th>WRK_ZONE</th>\n",
       "      <th>WKDY_I_R</th>\n",
       "      <th>INT_HWY</th>\n",
       "      <th>LGTCON_I_R</th>\n",
       "      <th>MANCOL_I_R</th>\n",
       "      <th>PED_ACC_R</th>\n",
       "      <th>...</th>\n",
       "      <th>TRAF_CON_R</th>\n",
       "      <th>TRAF_WAY</th>\n",
       "      <th>VEH_INVL</th>\n",
       "      <th>WEATHER_R</th>\n",
       "      <th>INJURY_CRASH</th>\n",
       "      <th>NO_INJ_I</th>\n",
       "      <th>PRPTYDMG_CRASH</th>\n",
       "      <th>FATALITIES</th>\n",
       "      <th>MAX_SEV_IR</th>\n",
       "      <th>INJURY</th>\n",
       "    </tr>\n",
       "  </thead>\n",
       "  <tbody>\n",
       "    <tr>\n",
       "      <th>0</th>\n",
       "      <td>0</td>\n",
       "      <td>2</td>\n",
       "      <td>2</td>\n",
       "      <td>1</td>\n",
       "      <td>0</td>\n",
       "      <td>1</td>\n",
       "      <td>0</td>\n",
       "      <td>3</td>\n",
       "      <td>0</td>\n",
       "      <td>0</td>\n",
       "      <td>...</td>\n",
       "      <td>0</td>\n",
       "      <td>3</td>\n",
       "      <td>1</td>\n",
       "      <td>1</td>\n",
       "      <td>1</td>\n",
       "      <td>1</td>\n",
       "      <td>0</td>\n",
       "      <td>0</td>\n",
       "      <td>1</td>\n",
       "      <td>Yes</td>\n",
       "    </tr>\n",
       "  </tbody>\n",
       "</table>\n",
       "<p>1 rows × 25 columns</p>\n",
       "</div>"
      ],
      "text/plain": [
       "   HOUR_I_R  ALCHL_I  ALIGN_I  STRATUM_R  WRK_ZONE  WKDY_I_R  INT_HWY  \\\n",
       "0         0        2        2          1         0         1        0   \n",
       "\n",
       "   LGTCON_I_R  MANCOL_I_R  PED_ACC_R  ...  TRAF_CON_R  TRAF_WAY  VEH_INVL  \\\n",
       "0           3           0          0  ...           0         3         1   \n",
       "\n",
       "   WEATHER_R  INJURY_CRASH NO_INJ_I  PRPTYDMG_CRASH  FATALITIES MAX_SEV_IR  \\\n",
       "0          1             1        1               0           0          1   \n",
       "\n",
       "   INJURY  \n",
       "0     Yes  \n",
       "\n",
       "[1 rows x 25 columns]"
      ]
     },
     "execution_count": 36,
     "metadata": {},
     "output_type": "execute_result"
    }
   ],
   "source": [
    "acc.head(1)"
   ]
  },
  {
   "cell_type": "code",
   "execution_count": 37,
   "id": "80542a9f",
   "metadata": {},
   "outputs": [
    {
     "name": "stdout",
     "output_type": "stream",
     "text": [
      "<class 'pandas.core.frame.DataFrame'>\n",
      "RangeIndex: 42183 entries, 0 to 42182\n",
      "Data columns (total 25 columns):\n",
      " #   Column          Non-Null Count  Dtype   \n",
      "---  ------          --------------  -----   \n",
      " 0   HOUR_I_R        42183 non-null  int64   \n",
      " 1   ALCHL_I         42183 non-null  int64   \n",
      " 2   ALIGN_I         42183 non-null  int64   \n",
      " 3   STRATUM_R       42183 non-null  int64   \n",
      " 4   WRK_ZONE        42183 non-null  int64   \n",
      " 5   WKDY_I_R        42183 non-null  int64   \n",
      " 6   INT_HWY         42183 non-null  int64   \n",
      " 7   LGTCON_I_R      42183 non-null  int64   \n",
      " 8   MANCOL_I_R      42183 non-null  int64   \n",
      " 9   PED_ACC_R       42183 non-null  int64   \n",
      " 10  RELJCT_I_R      42183 non-null  int64   \n",
      " 11  REL_RWY_R       42183 non-null  int64   \n",
      " 12  PROFIL_I_R      42183 non-null  int64   \n",
      " 13  SPD_LIM         42183 non-null  int64   \n",
      " 14  SUR_COND        42183 non-null  int64   \n",
      " 15  TRAF_CON_R      42183 non-null  category\n",
      " 16  TRAF_WAY        42183 non-null  int64   \n",
      " 17  VEH_INVL        42183 non-null  int64   \n",
      " 18  WEATHER_R       42183 non-null  category\n",
      " 19  INJURY_CRASH    42183 non-null  int64   \n",
      " 20  NO_INJ_I        42183 non-null  int64   \n",
      " 21  PRPTYDMG_CRASH  42183 non-null  int64   \n",
      " 22  FATALITIES      42183 non-null  int64   \n",
      " 23  MAX_SEV_IR      42183 non-null  category\n",
      " 24  INJURY          42183 non-null  object  \n",
      "dtypes: category(3), int64(21), object(1)\n",
      "memory usage: 7.2+ MB\n"
     ]
    }
   ],
   "source": [
    "acc.info()"
   ]
  },
  {
   "cell_type": "code",
   "execution_count": 38,
   "id": "5d93bb5a",
   "metadata": {},
   "outputs": [
    {
     "name": "stdout",
     "output_type": "stream",
     "text": [
      "<class 'pandas.core.frame.DataFrame'>\n",
      "RangeIndex: 42183 entries, 0 to 42182\n",
      "Data columns (total 25 columns):\n",
      " #   Column          Non-Null Count  Dtype   \n",
      "---  ------          --------------  -----   \n",
      " 0   HOUR_I_R        42183 non-null  category\n",
      " 1   ALCHL_I         42183 non-null  category\n",
      " 2   ALIGN_I         42183 non-null  category\n",
      " 3   STRATUM_R       42183 non-null  category\n",
      " 4   WRK_ZONE        42183 non-null  category\n",
      " 5   WKDY_I_R        42183 non-null  category\n",
      " 6   INT_HWY         42183 non-null  category\n",
      " 7   LGTCON_I_R      42183 non-null  category\n",
      " 8   MANCOL_I_R      42183 non-null  category\n",
      " 9   PED_ACC_R       42183 non-null  category\n",
      " 10  RELJCT_I_R      42183 non-null  category\n",
      " 11  REL_RWY_R       42183 non-null  category\n",
      " 12  PROFIL_I_R      42183 non-null  category\n",
      " 13  SPD_LIM         42183 non-null  category\n",
      " 14  SUR_COND        42183 non-null  category\n",
      " 15  TRAF_CON_R      42183 non-null  category\n",
      " 16  TRAF_WAY        42183 non-null  category\n",
      " 17  VEH_INVL        42183 non-null  category\n",
      " 18  WEATHER_R       42183 non-null  category\n",
      " 19  INJURY_CRASH    42183 non-null  category\n",
      " 20  NO_INJ_I        42183 non-null  category\n",
      " 21  PRPTYDMG_CRASH  42183 non-null  category\n",
      " 22  FATALITIES      42183 non-null  category\n",
      " 23  MAX_SEV_IR      42183 non-null  category\n",
      " 24  INJURY          42183 non-null  category\n",
      "dtypes: category(25)\n",
      "memory usage: 1.0 MB\n"
     ]
    }
   ],
   "source": [
    "acc=acc.astype('category')\n",
    "acc.info()"
   ]
  },
  {
   "cell_type": "code",
   "execution_count": 39,
   "id": "99299181",
   "metadata": {},
   "outputs": [],
   "source": [
    "predictors = ['HOUR_I_R', 'ALCHL_I', 'ALIGN_I', 'STRATUM_R', 'WRK_ZONE', 'WKDY_I_R',\n",
    "       'INT_HWY', 'LGTCON_I_R', 'MANCOL_I_R', 'PED_ACC_R', 'RELJCT_I_R',\n",
    "       'REL_RWY_R', 'PROFIL_I_R', 'SPD_LIM', 'SUR_COND', 'TRAF_CON_R',\n",
    "       'TRAF_WAY', 'VEH_INVL', 'WEATHER_R', 'INJURY_CRASH', 'NO_INJ_I',\n",
    "       'PRPTYDMG_CRASH', 'FATALITIES']\n",
    "outcome = 'INJURY'\n",
    "\n",
    "X = pd.get_dummies(acc[predictors])\n",
    "y = (acc[outcome] == 'Yes').astype(int)\n",
    "classes = ['No', 'Yes']\n",
    "\n",
    "# split into training and validation\n",
    "X_train, X_valid, y_train, y_valid = train_test_split(X, y, test_size=0.40, random_state=1)"
   ]
  },
  {
   "cell_type": "code",
   "execution_count": 40,
   "id": "ad00835d",
   "metadata": {},
   "outputs": [],
   "source": [
    "# run naive Bayes\n",
    "delays_nb = MultinomialNB(alpha=0.01)\n",
    "delays_nb.fit(X_train, y_train)\n",
    "\n",
    "# predict probabilities\n",
    "predProb_train = delays_nb.predict_proba(X_train)\n",
    "predProb_valid = delays_nb.predict_proba(X_valid)\n",
    "\n",
    "# predict class membership\n",
    "y_valid_pred = delays_nb.predict(X_valid)\n",
    "y_train_pred = delays_nb.predict(X_train)"
   ]
  },
  {
   "cell_type": "code",
   "execution_count": 41,
   "id": "539ada99",
   "metadata": {},
   "outputs": [
    {
     "name": "stdout",
     "output_type": "stream",
     "text": [
      "Confusion Matrix (Accuracy 1.0000)\n",
      "\n",
      "       Prediction\n",
      "Actual    No   Yes\n",
      "    No 12392     0\n",
      "   Yes     0 12917\n",
      "\n"
     ]
    }
   ],
   "source": [
    "classificationSummary(y_train, y_train_pred, class_names=classes) \n",
    "\n",
    "print()\n"
   ]
  },
  {
   "cell_type": "code",
   "execution_count": 42,
   "id": "2af78335",
   "metadata": {},
   "outputs": [],
   "source": [
    "## 3 ##"
   ]
  },
  {
   "cell_type": "code",
   "execution_count": 43,
   "id": "cf7b5b2a",
   "metadata": {},
   "outputs": [
    {
     "name": "stdout",
     "output_type": "stream",
     "text": [
      "Confusion Matrix (Accuracy 1.0000)\n",
      "\n",
      "       Prediction\n",
      "Actual   No  Yes\n",
      "    No 8329    0\n",
      "   Yes    0 8545\n"
     ]
    }
   ],
   "source": [
    "\n",
    "classificationSummary(y_valid, y_valid_pred, class_names=classes) "
   ]
  },
  {
   "cell_type": "code",
   "execution_count": 44,
   "id": "00b3deb2",
   "metadata": {},
   "outputs": [],
   "source": [
    "## 4 ##"
   ]
  },
  {
   "cell_type": "code",
   "execution_count": 45,
   "id": "3fb4db20",
   "metadata": {},
   "outputs": [],
   "source": [
    "acc=pd.get_dummies(acc, columns = predictors)"
   ]
  },
  {
   "cell_type": "code",
   "execution_count": 46,
   "id": "7932715a",
   "metadata": {},
   "outputs": [
    {
     "ename": "AttributeError",
     "evalue": "Can only use .cat accessor with a 'category' dtype",
     "output_type": "error",
     "traceback": [
      "\u001b[1;31m---------------------------------------------------------------------------\u001b[0m",
      "\u001b[1;31mAttributeError\u001b[0m                            Traceback (most recent call last)",
      "\u001b[1;32mC:\\Users\\Public\\Documents\\ESTsoft\\CreatorTemp/ipykernel_13448/2298073725.py\u001b[0m in \u001b[0;36m<module>\u001b[1;34m\u001b[0m\n\u001b[1;32m----> 1\u001b[1;33m \u001b[0mdf\u001b[0m \u001b[1;33m=\u001b[0m \u001b[0mpd\u001b[0m\u001b[1;33m.\u001b[0m\u001b[0mDataFrame\u001b[0m\u001b[1;33m(\u001b[0m\u001b[1;33m{\u001b[0m\u001b[1;34m'actual'\u001b[0m\u001b[1;33m:\u001b[0m \u001b[1;36m1\u001b[0m \u001b[1;33m-\u001b[0m \u001b[0my_valid\u001b[0m\u001b[1;33m.\u001b[0m\u001b[0mcat\u001b[0m\u001b[1;33m.\u001b[0m\u001b[0mcodes\u001b[0m\u001b[1;33m,\u001b[0m \u001b[1;34m'prob'\u001b[0m\u001b[1;33m:\u001b[0m \u001b[0mpredProb_valid\u001b[0m\u001b[1;33m[\u001b[0m\u001b[1;33m:\u001b[0m\u001b[1;33m,\u001b[0m \u001b[1;36m0\u001b[0m\u001b[1;33m]\u001b[0m\u001b[1;33m}\u001b[0m\u001b[1;33m)\u001b[0m\u001b[1;33m\u001b[0m\u001b[1;33m\u001b[0m\u001b[0m\n\u001b[0m\u001b[0;32m      2\u001b[0m \u001b[0mdf\u001b[0m \u001b[1;33m=\u001b[0m \u001b[0mdf\u001b[0m\u001b[1;33m.\u001b[0m\u001b[0msort_values\u001b[0m\u001b[1;33m(\u001b[0m\u001b[0mby\u001b[0m\u001b[1;33m=\u001b[0m\u001b[1;33m[\u001b[0m\u001b[1;34m'prob'\u001b[0m\u001b[1;33m]\u001b[0m\u001b[1;33m,\u001b[0m \u001b[0mascending\u001b[0m\u001b[1;33m=\u001b[0m\u001b[1;32mFalse\u001b[0m\u001b[1;33m)\u001b[0m\u001b[1;33m.\u001b[0m\u001b[0mreset_index\u001b[0m\u001b[1;33m(\u001b[0m\u001b[0mdrop\u001b[0m\u001b[1;33m=\u001b[0m\u001b[1;32mTrue\u001b[0m\u001b[1;33m)\u001b[0m\u001b[1;33m\u001b[0m\u001b[1;33m\u001b[0m\u001b[0m\n\u001b[0;32m      3\u001b[0m \u001b[1;33m\u001b[0m\u001b[0m\n\u001b[0;32m      4\u001b[0m \u001b[0mfig\u001b[0m\u001b[1;33m,\u001b[0m \u001b[0max\u001b[0m \u001b[1;33m=\u001b[0m \u001b[0mplt\u001b[0m\u001b[1;33m.\u001b[0m\u001b[0msubplots\u001b[0m\u001b[1;33m(\u001b[0m\u001b[1;33m)\u001b[0m\u001b[1;33m\u001b[0m\u001b[1;33m\u001b[0m\u001b[0m\n\u001b[0;32m      5\u001b[0m \u001b[0mfig\u001b[0m\u001b[1;33m.\u001b[0m\u001b[0mset_size_inches\u001b[0m\u001b[1;33m(\u001b[0m\u001b[1;36m4\u001b[0m\u001b[1;33m,\u001b[0m \u001b[1;36m4\u001b[0m\u001b[1;33m)\u001b[0m\u001b[1;33m\u001b[0m\u001b[1;33m\u001b[0m\u001b[0m\n",
      "\u001b[1;32m~\\anaconda3\\lib\\site-packages\\pandas\\core\\generic.py\u001b[0m in \u001b[0;36m__getattr__\u001b[1;34m(self, name)\u001b[0m\n\u001b[0;32m   5485\u001b[0m         ):\n\u001b[0;32m   5486\u001b[0m             \u001b[1;32mreturn\u001b[0m \u001b[0mself\u001b[0m\u001b[1;33m[\u001b[0m\u001b[0mname\u001b[0m\u001b[1;33m]\u001b[0m\u001b[1;33m\u001b[0m\u001b[1;33m\u001b[0m\u001b[0m\n\u001b[1;32m-> 5487\u001b[1;33m         \u001b[1;32mreturn\u001b[0m \u001b[0mobject\u001b[0m\u001b[1;33m.\u001b[0m\u001b[0m__getattribute__\u001b[0m\u001b[1;33m(\u001b[0m\u001b[0mself\u001b[0m\u001b[1;33m,\u001b[0m \u001b[0mname\u001b[0m\u001b[1;33m)\u001b[0m\u001b[1;33m\u001b[0m\u001b[1;33m\u001b[0m\u001b[0m\n\u001b[0m\u001b[0;32m   5488\u001b[0m \u001b[1;33m\u001b[0m\u001b[0m\n\u001b[0;32m   5489\u001b[0m     \u001b[1;32mdef\u001b[0m \u001b[0m__setattr__\u001b[0m\u001b[1;33m(\u001b[0m\u001b[0mself\u001b[0m\u001b[1;33m,\u001b[0m \u001b[0mname\u001b[0m\u001b[1;33m:\u001b[0m \u001b[0mstr\u001b[0m\u001b[1;33m,\u001b[0m \u001b[0mvalue\u001b[0m\u001b[1;33m)\u001b[0m \u001b[1;33m->\u001b[0m \u001b[1;32mNone\u001b[0m\u001b[1;33m:\u001b[0m\u001b[1;33m\u001b[0m\u001b[1;33m\u001b[0m\u001b[0m\n",
      "\u001b[1;32m~\\anaconda3\\lib\\site-packages\\pandas\\core\\accessor.py\u001b[0m in \u001b[0;36m__get__\u001b[1;34m(self, obj, cls)\u001b[0m\n\u001b[0;32m    179\u001b[0m             \u001b[1;31m# we're accessing the attribute of the class, i.e., Dataset.geo\u001b[0m\u001b[1;33m\u001b[0m\u001b[1;33m\u001b[0m\u001b[0m\n\u001b[0;32m    180\u001b[0m             \u001b[1;32mreturn\u001b[0m \u001b[0mself\u001b[0m\u001b[1;33m.\u001b[0m\u001b[0m_accessor\u001b[0m\u001b[1;33m\u001b[0m\u001b[1;33m\u001b[0m\u001b[0m\n\u001b[1;32m--> 181\u001b[1;33m         \u001b[0maccessor_obj\u001b[0m \u001b[1;33m=\u001b[0m \u001b[0mself\u001b[0m\u001b[1;33m.\u001b[0m\u001b[0m_accessor\u001b[0m\u001b[1;33m(\u001b[0m\u001b[0mobj\u001b[0m\u001b[1;33m)\u001b[0m\u001b[1;33m\u001b[0m\u001b[1;33m\u001b[0m\u001b[0m\n\u001b[0m\u001b[0;32m    182\u001b[0m         \u001b[1;31m# Replace the property with the accessor object. Inspired by:\u001b[0m\u001b[1;33m\u001b[0m\u001b[1;33m\u001b[0m\u001b[0m\n\u001b[0;32m    183\u001b[0m         \u001b[1;31m# https://www.pydanny.com/cached-property.html\u001b[0m\u001b[1;33m\u001b[0m\u001b[1;33m\u001b[0m\u001b[0m\n",
      "\u001b[1;32m~\\anaconda3\\lib\\site-packages\\pandas\\core\\arrays\\categorical.py\u001b[0m in \u001b[0;36m__init__\u001b[1;34m(self, data)\u001b[0m\n\u001b[0;32m   2599\u001b[0m \u001b[1;33m\u001b[0m\u001b[0m\n\u001b[0;32m   2600\u001b[0m     \u001b[1;32mdef\u001b[0m \u001b[0m__init__\u001b[0m\u001b[1;33m(\u001b[0m\u001b[0mself\u001b[0m\u001b[1;33m,\u001b[0m \u001b[0mdata\u001b[0m\u001b[1;33m)\u001b[0m\u001b[1;33m:\u001b[0m\u001b[1;33m\u001b[0m\u001b[1;33m\u001b[0m\u001b[0m\n\u001b[1;32m-> 2601\u001b[1;33m         \u001b[0mself\u001b[0m\u001b[1;33m.\u001b[0m\u001b[0m_validate\u001b[0m\u001b[1;33m(\u001b[0m\u001b[0mdata\u001b[0m\u001b[1;33m)\u001b[0m\u001b[1;33m\u001b[0m\u001b[1;33m\u001b[0m\u001b[0m\n\u001b[0m\u001b[0;32m   2602\u001b[0m         \u001b[0mself\u001b[0m\u001b[1;33m.\u001b[0m\u001b[0m_parent\u001b[0m \u001b[1;33m=\u001b[0m \u001b[0mdata\u001b[0m\u001b[1;33m.\u001b[0m\u001b[0mvalues\u001b[0m\u001b[1;33m\u001b[0m\u001b[1;33m\u001b[0m\u001b[0m\n\u001b[0;32m   2603\u001b[0m         \u001b[0mself\u001b[0m\u001b[1;33m.\u001b[0m\u001b[0m_index\u001b[0m \u001b[1;33m=\u001b[0m \u001b[0mdata\u001b[0m\u001b[1;33m.\u001b[0m\u001b[0mindex\u001b[0m\u001b[1;33m\u001b[0m\u001b[1;33m\u001b[0m\u001b[0m\n",
      "\u001b[1;32m~\\anaconda3\\lib\\site-packages\\pandas\\core\\arrays\\categorical.py\u001b[0m in \u001b[0;36m_validate\u001b[1;34m(data)\u001b[0m\n\u001b[0;32m   2608\u001b[0m     \u001b[1;32mdef\u001b[0m \u001b[0m_validate\u001b[0m\u001b[1;33m(\u001b[0m\u001b[0mdata\u001b[0m\u001b[1;33m)\u001b[0m\u001b[1;33m:\u001b[0m\u001b[1;33m\u001b[0m\u001b[1;33m\u001b[0m\u001b[0m\n\u001b[0;32m   2609\u001b[0m         \u001b[1;32mif\u001b[0m \u001b[1;32mnot\u001b[0m \u001b[0mis_categorical_dtype\u001b[0m\u001b[1;33m(\u001b[0m\u001b[0mdata\u001b[0m\u001b[1;33m.\u001b[0m\u001b[0mdtype\u001b[0m\u001b[1;33m)\u001b[0m\u001b[1;33m:\u001b[0m\u001b[1;33m\u001b[0m\u001b[1;33m\u001b[0m\u001b[0m\n\u001b[1;32m-> 2610\u001b[1;33m             \u001b[1;32mraise\u001b[0m \u001b[0mAttributeError\u001b[0m\u001b[1;33m(\u001b[0m\u001b[1;34m\"Can only use .cat accessor with a 'category' dtype\"\u001b[0m\u001b[1;33m)\u001b[0m\u001b[1;33m\u001b[0m\u001b[1;33m\u001b[0m\u001b[0m\n\u001b[0m\u001b[0;32m   2611\u001b[0m \u001b[1;33m\u001b[0m\u001b[0m\n\u001b[0;32m   2612\u001b[0m     \u001b[1;32mdef\u001b[0m \u001b[0m_delegate_property_get\u001b[0m\u001b[1;33m(\u001b[0m\u001b[0mself\u001b[0m\u001b[1;33m,\u001b[0m \u001b[0mname\u001b[0m\u001b[1;33m)\u001b[0m\u001b[1;33m:\u001b[0m\u001b[1;33m\u001b[0m\u001b[1;33m\u001b[0m\u001b[0m\n",
      "\u001b[1;31mAttributeError\u001b[0m: Can only use .cat accessor with a 'category' dtype"
     ]
    }
   ],
   "source": [
    "df = pd.DataFrame({'actual': 1 - y_valid.cat.codes, 'prob': predProb_valid[:, 0]})\n",
    "df = df.sort_values(by=['prob'], ascending=False).reset_index(drop=True)\n",
    "\n",
    "fig, ax = plt.subplots()\n",
    "fig.set_size_inches(4, 4)\n",
    "gainsChart(df.actual, ax=ax)\n",
    "\n",
    "plt.tight_layout()\n",
    "plt.show()"
   ]
  },
  {
   "cell_type": "code",
   "execution_count": 47,
   "id": "0aa121bb",
   "metadata": {},
   "outputs": [],
   "source": [
    "## 5 ##"
   ]
  },
  {
   "cell_type": "code",
   "execution_count": 48,
   "id": "4a19a040",
   "metadata": {},
   "outputs": [],
   "source": [
    "## 조건부 확률 데이터 검증할때 검증데이터 해야하는지 학습데이터 해야하는지 ??"
   ]
  },
  {
   "cell_type": "code",
   "execution_count": 49,
   "id": "2ca6ee18",
   "metadata": {},
   "outputs": [],
   "source": [
    "train_df, valid_df = train_test_split(acc, test_size=0.4)"
   ]
  },
  {
   "cell_type": "code",
   "execution_count": null,
   "id": "afbdc9e4",
   "metadata": {},
   "outputs": [],
   "source": []
  },
  {
   "cell_type": "code",
   "execution_count": null,
   "id": "71dd89d6",
   "metadata": {},
   "outputs": [],
   "source": []
  },
  {
   "cell_type": "code",
   "execution_count": null,
   "id": "c026c477",
   "metadata": {},
   "outputs": [],
   "source": []
  },
  {
   "cell_type": "code",
   "execution_count": null,
   "id": "603a01d7",
   "metadata": {},
   "outputs": [],
   "source": []
  },
  {
   "cell_type": "code",
   "execution_count": null,
   "id": "8c6bd042",
   "metadata": {},
   "outputs": [],
   "source": []
  },
  {
   "cell_type": "code",
   "execution_count": null,
   "id": "816faa9c",
   "metadata": {},
   "outputs": [],
   "source": [
    "\n"
   ]
  }
 ],
 "metadata": {
  "kernelspec": {
   "display_name": "Python 3 (ipykernel)",
   "language": "python",
   "name": "python3"
  },
  "language_info": {
   "codemirror_mode": {
    "name": "ipython",
    "version": 3
   },
   "file_extension": ".py",
   "mimetype": "text/x-python",
   "name": "python",
   "nbconvert_exporter": "python",
   "pygments_lexer": "ipython3",
   "version": "3.9.7"
  }
 },
 "nbformat": 4,
 "nbformat_minor": 5
}
