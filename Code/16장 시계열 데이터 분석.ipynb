{
 "cells": [
  {
   "cell_type": "code",
   "execution_count": 165,
   "id": "d8893cee",
   "metadata": {},
   "outputs": [],
   "source": [
    "%matplotlib inline\n",
    "\n",
    "from pathlib import Path\n",
    "\n",
    "import pandas as pd\n",
    "import matplotlib.pylab as plt\n",
    "import statsmodels.formula.api as sm\n",
    "from statsmodels.tsa import tsatools\n",
    "from dmba import regressionSummary"
   ]
  },
  {
   "cell_type": "code",
   "execution_count": 166,
   "id": "e56f4a40",
   "metadata": {},
   "outputs": [
    {
     "name": "stdout",
     "output_type": "stream",
     "text": [
      "Note: you may need to restart the kernel to use updated packages.\n"
     ]
    },
    {
     "name": "stderr",
     "output_type": "stream",
     "text": [
      "ERROR: Invalid requirement: '#'\n"
     ]
    }
   ],
   "source": [
    "pip install dmba # 오류 해결 : No module named 'dmba'"
   ]
  },
  {
   "cell_type": "markdown",
   "id": "c3bd062a",
   "metadata": {},
   "source": [
    "# 16.1 9/11 사태로 인한 미국 항공기 여행 여파"
   ]
  },
  {
   "cell_type": "code",
   "execution_count": 167,
   "id": "8ae494cf",
   "metadata": {},
   "outputs": [
    {
     "data": {
      "text/html": [
       "<div>\n",
       "<style scoped>\n",
       "    .dataframe tbody tr th:only-of-type {\n",
       "        vertical-align: middle;\n",
       "    }\n",
       "\n",
       "    .dataframe tbody tr th {\n",
       "        vertical-align: top;\n",
       "    }\n",
       "\n",
       "    .dataframe thead th {\n",
       "        text-align: right;\n",
       "    }\n",
       "</style>\n",
       "<table border=\"1\" class=\"dataframe\">\n",
       "  <thead>\n",
       "    <tr style=\"text-align: right;\">\n",
       "      <th></th>\n",
       "      <th>Day</th>\n",
       "      <th>AirRPM</th>\n",
       "      <th>RailPM</th>\n",
       "      <th>VMT_billions</th>\n",
       "    </tr>\n",
       "  </thead>\n",
       "  <tbody>\n",
       "    <tr>\n",
       "      <th>0</th>\n",
       "      <td>Jan-90</td>\n",
       "      <td>35153577</td>\n",
       "      <td>454115779</td>\n",
       "      <td>163.28</td>\n",
       "    </tr>\n",
       "    <tr>\n",
       "      <th>1</th>\n",
       "      <td>Feb-90</td>\n",
       "      <td>32965187</td>\n",
       "      <td>435086002</td>\n",
       "      <td>153.25</td>\n",
       "    </tr>\n",
       "    <tr>\n",
       "      <th>2</th>\n",
       "      <td>Mar-90</td>\n",
       "      <td>39993913</td>\n",
       "      <td>568289732</td>\n",
       "      <td>178.42</td>\n",
       "    </tr>\n",
       "    <tr>\n",
       "      <th>3</th>\n",
       "      <td>Apr-90</td>\n",
       "      <td>37981886</td>\n",
       "      <td>568101697</td>\n",
       "      <td>178.68</td>\n",
       "    </tr>\n",
       "    <tr>\n",
       "      <th>4</th>\n",
       "      <td>May-90</td>\n",
       "      <td>38419672</td>\n",
       "      <td>539628385</td>\n",
       "      <td>188.88</td>\n",
       "    </tr>\n",
       "  </tbody>\n",
       "</table>\n",
       "</div>"
      ],
      "text/plain": [
       "      Day    AirRPM     RailPM  VMT_billions\n",
       "0  Jan-90  35153577  454115779        163.28\n",
       "1  Feb-90  32965187  435086002        153.25\n",
       "2  Mar-90  39993913  568289732        178.42\n",
       "3  Apr-90  37981886  568101697        178.68\n",
       "4  May-90  38419672  539628385        188.88"
      ]
     },
     "execution_count": 167,
     "metadata": {},
     "output_type": "execute_result"
    }
   ],
   "source": [
    "bts = pd.read_csv('Sept11Travel.csv')\n",
    "bts = bts.rename(columns = {'Month-Year':'Day'}) # 이름 변경해줌\n",
    "bts.head(5)"
   ]
  },
  {
   "cell_type": "code",
   "execution_count": 168,
   "id": "20552ba6",
   "metadata": {},
   "outputs": [
    {
     "data": {
      "text/plain": [
       "<bound method Series.info of 0      Jan-90\n",
       "1      Feb-90\n",
       "2      Mar-90\n",
       "3      Apr-90\n",
       "4      May-90\n",
       "        ...  \n",
       "167     3-Dec\n",
       "168     4-Jan\n",
       "169     4-Feb\n",
       "170     4-Mar\n",
       "171     4-Apr\n",
       "Name: Day, Length: 172, dtype: object>"
      ]
     },
     "execution_count": 168,
     "metadata": {},
     "output_type": "execute_result"
    }
   ],
   "source": [
    "bts.Day.info # object 형에서 day 형으로 변경해야 함"
   ]
  },
  {
   "cell_type": "code",
   "execution_count": 169,
   "id": "7e1e01a2",
   "metadata": {},
   "outputs": [
    {
     "data": {
      "text/html": [
       "<div>\n",
       "<style scoped>\n",
       "    .dataframe tbody tr th:only-of-type {\n",
       "        vertical-align: middle;\n",
       "    }\n",
       "\n",
       "    .dataframe tbody tr th {\n",
       "        vertical-align: top;\n",
       "    }\n",
       "\n",
       "    .dataframe thead th {\n",
       "        text-align: right;\n",
       "    }\n",
       "</style>\n",
       "<table border=\"1\" class=\"dataframe\">\n",
       "  <thead>\n",
       "    <tr style=\"text-align: right;\">\n",
       "      <th></th>\n",
       "      <th>Day</th>\n",
       "      <th>AirRPM</th>\n",
       "      <th>RailPM</th>\n",
       "      <th>VMT_billions</th>\n",
       "    </tr>\n",
       "  </thead>\n",
       "  <tbody>\n",
       "    <tr>\n",
       "      <th>0</th>\n",
       "      <td>Jan-90</td>\n",
       "      <td>35153577</td>\n",
       "      <td>454115779</td>\n",
       "      <td>163.28</td>\n",
       "    </tr>\n",
       "    <tr>\n",
       "      <th>1</th>\n",
       "      <td>Feb-90</td>\n",
       "      <td>32965187</td>\n",
       "      <td>435086002</td>\n",
       "      <td>153.25</td>\n",
       "    </tr>\n",
       "    <tr>\n",
       "      <th>2</th>\n",
       "      <td>Mar-90</td>\n",
       "      <td>39993913</td>\n",
       "      <td>568289732</td>\n",
       "      <td>178.42</td>\n",
       "    </tr>\n",
       "    <tr>\n",
       "      <th>3</th>\n",
       "      <td>Apr-90</td>\n",
       "      <td>37981886</td>\n",
       "      <td>568101697</td>\n",
       "      <td>178.68</td>\n",
       "    </tr>\n",
       "    <tr>\n",
       "      <th>4</th>\n",
       "      <td>May-90</td>\n",
       "      <td>38419672</td>\n",
       "      <td>539628385</td>\n",
       "      <td>188.88</td>\n",
       "    </tr>\n",
       "    <tr>\n",
       "      <th>...</th>\n",
       "      <td>...</td>\n",
       "      <td>...</td>\n",
       "      <td>...</td>\n",
       "      <td>...</td>\n",
       "    </tr>\n",
       "    <tr>\n",
       "      <th>115</th>\n",
       "      <td>Aug-99</td>\n",
       "      <td>63752132</td>\n",
       "      <td>528001216</td>\n",
       "      <td>242.57</td>\n",
       "    </tr>\n",
       "    <tr>\n",
       "      <th>116</th>\n",
       "      <td>Sep-99</td>\n",
       "      <td>53733696</td>\n",
       "      <td>393137094</td>\n",
       "      <td>225.30</td>\n",
       "    </tr>\n",
       "    <tr>\n",
       "      <th>117</th>\n",
       "      <td>Oct-99</td>\n",
       "      <td>57407208</td>\n",
       "      <td>425897553</td>\n",
       "      <td>234.66</td>\n",
       "    </tr>\n",
       "    <tr>\n",
       "      <th>118</th>\n",
       "      <td>Nov-99</td>\n",
       "      <td>53866781</td>\n",
       "      <td>421595015</td>\n",
       "      <td>222.83</td>\n",
       "    </tr>\n",
       "    <tr>\n",
       "      <th>119</th>\n",
       "      <td>Dec-99</td>\n",
       "      <td>52331272</td>\n",
       "      <td>442742459</td>\n",
       "      <td>222.46</td>\n",
       "    </tr>\n",
       "  </tbody>\n",
       "</table>\n",
       "<p>120 rows × 4 columns</p>\n",
       "</div>"
      ],
      "text/plain": [
       "        Day    AirRPM     RailPM  VMT_billions\n",
       "0    Jan-90  35153577  454115779        163.28\n",
       "1    Feb-90  32965187  435086002        153.25\n",
       "2    Mar-90  39993913  568289732        178.42\n",
       "3    Apr-90  37981886  568101697        178.68\n",
       "4    May-90  38419672  539628385        188.88\n",
       "..      ...       ...        ...           ...\n",
       "115  Aug-99  63752132  528001216        242.57\n",
       "116  Sep-99  53733696  393137094        225.30\n",
       "117  Oct-99  57407208  425897553        234.66\n",
       "118  Nov-99  53866781  421595015        222.83\n",
       "119  Dec-99  52331272  442742459        222.46\n",
       "\n",
       "[120 rows x 4 columns]"
      ]
     },
     "execution_count": 169,
     "metadata": {},
     "output_type": "execute_result"
    }
   ],
   "source": [
    "# [0:120]은 월 - 년도 / 나머지는 년도 - 월 로 구성됨 \n",
    "# 9/11 전의 데이터를 이용해 테러 공격이 없다는 가정하여 미래의 데이터를 예측\n",
    "# 시계열 데이터를 전과 후로 나눠 아래는 p_bts 전의 데이터\n",
    "p_bts = bts.iloc[0:120]\n",
    "p_bts"
   ]
  },
  {
   "cell_type": "code",
   "execution_count": 170,
   "id": "6385e472",
   "metadata": {},
   "outputs": [
    {
     "name": "stderr",
     "output_type": "stream",
     "text": [
      "C:\\Users\\Public\\Documents\\ESTsoft\\CreatorTemp\\ipykernel_2516\\398678094.py:1: SettingWithCopyWarning: \n",
      "A value is trying to be set on a copy of a slice from a DataFrame.\n",
      "Try using .loc[row_indexer,col_indexer] = value instead\n",
      "\n",
      "See the caveats in the documentation: https://pandas.pydata.org/pandas-docs/stable/user_guide/indexing.html#returning-a-view-versus-a-copy\n",
      "  p_bts['Day']=pd.to_datetime(p_bts.Day, format='%b-%y')\n"
     ]
    },
    {
     "data": {
      "text/html": [
       "<div>\n",
       "<style scoped>\n",
       "    .dataframe tbody tr th:only-of-type {\n",
       "        vertical-align: middle;\n",
       "    }\n",
       "\n",
       "    .dataframe tbody tr th {\n",
       "        vertical-align: top;\n",
       "    }\n",
       "\n",
       "    .dataframe thead th {\n",
       "        text-align: right;\n",
       "    }\n",
       "</style>\n",
       "<table border=\"1\" class=\"dataframe\">\n",
       "  <thead>\n",
       "    <tr style=\"text-align: right;\">\n",
       "      <th></th>\n",
       "      <th>Day</th>\n",
       "      <th>AirRPM</th>\n",
       "      <th>RailPM</th>\n",
       "      <th>VMT_billions</th>\n",
       "    </tr>\n",
       "  </thead>\n",
       "  <tbody>\n",
       "    <tr>\n",
       "      <th>0</th>\n",
       "      <td>1990-01-01</td>\n",
       "      <td>35153577</td>\n",
       "      <td>454115779</td>\n",
       "      <td>163.28</td>\n",
       "    </tr>\n",
       "    <tr>\n",
       "      <th>1</th>\n",
       "      <td>1990-02-01</td>\n",
       "      <td>32965187</td>\n",
       "      <td>435086002</td>\n",
       "      <td>153.25</td>\n",
       "    </tr>\n",
       "    <tr>\n",
       "      <th>2</th>\n",
       "      <td>1990-03-01</td>\n",
       "      <td>39993913</td>\n",
       "      <td>568289732</td>\n",
       "      <td>178.42</td>\n",
       "    </tr>\n",
       "    <tr>\n",
       "      <th>3</th>\n",
       "      <td>1990-04-01</td>\n",
       "      <td>37981886</td>\n",
       "      <td>568101697</td>\n",
       "      <td>178.68</td>\n",
       "    </tr>\n",
       "    <tr>\n",
       "      <th>4</th>\n",
       "      <td>1990-05-01</td>\n",
       "      <td>38419672</td>\n",
       "      <td>539628385</td>\n",
       "      <td>188.88</td>\n",
       "    </tr>\n",
       "    <tr>\n",
       "      <th>...</th>\n",
       "      <td>...</td>\n",
       "      <td>...</td>\n",
       "      <td>...</td>\n",
       "      <td>...</td>\n",
       "    </tr>\n",
       "    <tr>\n",
       "      <th>115</th>\n",
       "      <td>1999-08-01</td>\n",
       "      <td>63752132</td>\n",
       "      <td>528001216</td>\n",
       "      <td>242.57</td>\n",
       "    </tr>\n",
       "    <tr>\n",
       "      <th>116</th>\n",
       "      <td>1999-09-01</td>\n",
       "      <td>53733696</td>\n",
       "      <td>393137094</td>\n",
       "      <td>225.30</td>\n",
       "    </tr>\n",
       "    <tr>\n",
       "      <th>117</th>\n",
       "      <td>1999-10-01</td>\n",
       "      <td>57407208</td>\n",
       "      <td>425897553</td>\n",
       "      <td>234.66</td>\n",
       "    </tr>\n",
       "    <tr>\n",
       "      <th>118</th>\n",
       "      <td>1999-11-01</td>\n",
       "      <td>53866781</td>\n",
       "      <td>421595015</td>\n",
       "      <td>222.83</td>\n",
       "    </tr>\n",
       "    <tr>\n",
       "      <th>119</th>\n",
       "      <td>1999-12-01</td>\n",
       "      <td>52331272</td>\n",
       "      <td>442742459</td>\n",
       "      <td>222.46</td>\n",
       "    </tr>\n",
       "  </tbody>\n",
       "</table>\n",
       "<p>120 rows × 4 columns</p>\n",
       "</div>"
      ],
      "text/plain": [
       "           Day    AirRPM     RailPM  VMT_billions\n",
       "0   1990-01-01  35153577  454115779        163.28\n",
       "1   1990-02-01  32965187  435086002        153.25\n",
       "2   1990-03-01  39993913  568289732        178.42\n",
       "3   1990-04-01  37981886  568101697        178.68\n",
       "4   1990-05-01  38419672  539628385        188.88\n",
       "..         ...       ...        ...           ...\n",
       "115 1999-08-01  63752132  528001216        242.57\n",
       "116 1999-09-01  53733696  393137094        225.30\n",
       "117 1999-10-01  57407208  425897553        234.66\n",
       "118 1999-11-01  53866781  421595015        222.83\n",
       "119 1999-12-01  52331272  442742459        222.46\n",
       "\n",
       "[120 rows x 4 columns]"
      ]
     },
     "execution_count": 170,
     "metadata": {},
     "output_type": "execute_result"
    }
   ],
   "source": [
    "p_bts['Day']=pd.to_datetime(p_bts.Day, format='%b-%y')\n",
    "p_bts"
   ]
  },
  {
   "cell_type": "markdown",
   "id": "5c697f87",
   "metadata": {},
   "source": [
    "### a"
   ]
  },
  {
   "cell_type": "markdown",
   "id": "3f555992",
   "metadata": {},
   "source": [
    "9.11 사태의 영향을 파악하기 위해 이전 데이터로 미래 데이터를 예측하고 여파를 살펴보았으니 예측적 분석이라고 생각된다.\n",
    "\n",
    "앞 시점의 데이터를 이용해 모델 구축, 뒤 시점의 데이터로 구축된 모델의 성능 평가\n",
    "\n",
    "##### 변화에 목적이 있기에 탐색적 목적."
   ]
  },
  {
   "cell_type": "markdown",
   "id": "a190425e",
   "metadata": {},
   "source": [
    "### b"
   ]
  },
  {
   "cell_type": "markdown",
   "id": "a3c363c5",
   "metadata": {},
   "source": [
    "#### 1"
   ]
  },
  {
   "cell_type": "code",
   "execution_count": 171,
   "id": "fbfe2975",
   "metadata": {},
   "outputs": [
    {
     "name": "stdout",
     "output_type": "stream",
     "text": [
      "64397523\n",
      "29672427\n"
     ]
    },
    {
     "data": {
      "image/png": "[encoded data removed]",
      "text/plain": [
       "<Figure size 432x288 with 1 Axes>"
      ]
     },
     "metadata": {
      "needs_background": "light"
     },
     "output_type": "display_data"
    }
   ],
   "source": [
    "## 항공기 시계열 데이터\n",
    "\n",
    "# convert dataframe column to series (name is used to label the data)\n",
    "pbts_Airrpm = pd.Series(p_bts.AirRPM.values, index=p_bts.Day, name='AirRPM')\n",
    "\n",
    "# define the time series frequency\n",
    "pbts_Airrpm.index = pd.DatetimeIndex(pbts_Airrpm.index, freq=pbts_Airrpm.index.inferred_freq)\n",
    "\n",
    "# y 축 범위 조정을 위해 최댓값 및 최솟값 구하기\n",
    "print(p_bts.AirRPM.max())\n",
    "print(p_bts.AirRPM.min())\n",
    "\n",
    "ax = pbts_Airrpm.plot()\n",
    "ax.set_xlabel('Day')\n",
    "ax.set_ylabel('AirRPM')\n",
    "_ = ax.set_ylim(29000000, 65000000)\n",
    "\n",
    "plt.show()"
   ]
  },
  {
   "cell_type": "code",
   "execution_count": 172,
   "id": "02440565",
   "metadata": {},
   "outputs": [
    {
     "name": "stdout",
     "output_type": "stream",
     "text": [
      "664013874\n",
      "326874247\n"
     ]
    }
   ],
   "source": [
    "# convert dataframe column to series (name is used to label the data)\n",
    "pbts_Railpm = pd.Series(p_bts.RailPM.values, index=p_bts.Day, name='RailPM')\n",
    "\n",
    "# define the time series frequency\n",
    "pbts_Railpm.index = pd.DatetimeIndex(pbts_Railpm.index, freq=pbts_Railpm.index.inferred_freq)\n",
    "\n",
    "# y 축 범위 조정을 위해 최댓값 및 최솟값 구하기\n",
    "print(p_bts.RailPM.max())\n",
    "print(p_bts.RailPM.min())\n"
   ]
  },
  {
   "cell_type": "code",
   "execution_count": 173,
   "id": "e57f698f",
   "metadata": {},
   "outputs": [
    {
     "data": {
      "image/png": "[encoded data removed]",
      "text/plain": [
       "<Figure size 432x288 with 1 Axes>"
      ]
     },
     "metadata": {
      "needs_background": "light"
     },
     "output_type": "display_data"
    }
   ],
   "source": [
    "ax = pbts_Railpm.plot()\n",
    "ax.set_xlabel('Day')\n",
    "ax.set_ylabel('RailPM')\n",
    "_ = ax.set_ylim(310000000, 660000000)\n",
    "\n",
    "plt.show()"
   ]
  },
  {
   "cell_type": "code",
   "execution_count": 174,
   "id": "5617a1a6",
   "metadata": {},
   "outputs": [
    {
     "name": "stdout",
     "output_type": "stream",
     "text": [
      "244.2\n",
      "153.25\n"
     ]
    }
   ],
   "source": [
    "# convert dataframe column to series (name is used to label the data)\n",
    "pbts_VMT_billions = pd.Series(p_bts.VMT_billions.values, index=p_bts.Day, name='VMT_billions')\n",
    "\n",
    "# define the time series frequency\n",
    "pbts_VMT_billions.index = pd.DatetimeIndex(pbts_VMT_billions.index, freq=pbts_VMT_billions.index.inferred_freq)\n",
    "\n",
    "# y 축 범위 조정을 위해 최댓값 및 최솟값 구하기\n",
    "print(p_bts.VMT_billions.max())\n",
    "print(p_bts.VMT_billions.min())"
   ]
  },
  {
   "cell_type": "code",
   "execution_count": 175,
   "id": "14e690ed",
   "metadata": {},
   "outputs": [
    {
     "data": {
      "image/png": "[encoded data removed]",
      "text/plain": [
       "<Figure size 432x288 with 1 Axes>"
      ]
     },
     "metadata": {
      "needs_background": "light"
     },
     "output_type": "display_data"
    }
   ],
   "source": [
    "ax = pbts_VMT_billions.plot()\n",
    "ax.set_xlabel('Day')\n",
    "ax.set_ylabel('VMT_billions')\n",
    "_ = ax.set_ylim(160, 240)\n",
    "\n",
    "plt.show()"
   ]
  },
  {
   "cell_type": "code",
   "execution_count": 176,
   "id": "1eb2e329",
   "metadata": {},
   "outputs": [
    {
     "data": {
      "image/png": "[encoded data removed]",
      "text/plain": [
       "<Figure size 432x288 with 3 Axes>"
      ]
     },
     "metadata": {
      "needs_background": "light"
     },
     "output_type": "display_data"
    }
   ],
   "source": [
    "# 위의 시계열 그래프 한번에 항공기 철도 자동차 순서대로 나열하는 경우\n",
    "\n",
    "fig, axes = plt.subplots(nrows=3, ncols=1)\n",
    "\n",
    "pbts_Airrpm.plot(ax=axes[0])\n",
    "axes[0].set_xlabel('Day')\n",
    "axes[0].set_ylabel('AirRPM')\n",
    "_ = axes[0].set_ylim(29000000, 65000000)\n",
    "\n",
    "pbts_Railpm.plot(ax=axes[1])\n",
    "axes[1].set_xlabel('Day')\n",
    "axes[1].set_ylabel('RailPM')\n",
    "_ = axes[1].set_ylim(310000000, 660000000)\n",
    "\n",
    "pbts_VMT_billions.plot(ax=axes[2])\n",
    "axes[2].set_xlabel('Day')\n",
    "axes[2].set_ylabel('VMT_billions')\n",
    "_ = axes[2].set_ylim(160, 240)\n",
    "\n",
    "\n",
    "plt.suptitle('')  # Suppress the overall title\n",
    "plt.tight_layout()  # Increase the separation between the plots\n",
    "\n",
    "plt.show()"
   ]
  },
  {
   "cell_type": "markdown",
   "id": "887bd6fe",
   "metadata": {},
   "source": [
    "#### 2"
   ]
  },
  {
   "cell_type": "markdown",
   "id": "b133ec62",
   "metadata": {},
   "source": [
    " 어떤 종류의 추세로 보임\n",
    " 스케일 변화 / 추세선 첨가 / 계절 변동 제거\n",
    "\n",
    "1.  변동 점점 커짐 \n",
    "2. 지수적 추세, 변동 불규칙 \n",
    "3. 변동 일정"
   ]
  },
  {
   "cell_type": "code",
   "execution_count": 177,
   "id": "529c44b7",
   "metadata": {},
   "outputs": [
    {
     "data": {
      "image/png": "[encoded data removed]",
      "text/plain": [
       "<Figure size 432x288 with 2 Axes>"
      ]
     },
     "metadata": {
      "needs_background": "light"
     },
     "output_type": "display_data"
    }
   ],
   "source": [
    "fig, axes = plt.subplots(nrows=2, ncols=1)\n",
    "\n",
    "pbts_Airrpm.plot(ax=axes[0])\n",
    "axes[0].set_xlabel('Day')\n",
    "axes[0].set_ylabel('AirRPM')\n",
    "axes[0].set_yscale('log')\n",
    "_ = axes[0].set_ylim(29000000, 65000000)\n",
    "\n",
    "\n",
    "pbts_VMT_billions.plot(ax=axes[1])\n",
    "axes[1].set_xlabel('Day')\n",
    "axes[1].set_ylabel('VMT_billions')\n",
    "_ = axes[1].set_ylim(160, 240)\n",
    "\n",
    "\n",
    "plt.suptitle('')  # Suppress the overall title\n",
    "plt.tight_layout()  # Increase the separation between the plots\n",
    "\n",
    "plt.show()"
   ]
  },
  {
   "cell_type": "code",
   "execution_count": 178,
   "id": "0bd01155",
   "metadata": {},
   "outputs": [],
   "source": [
    "##???? 변동은 적용하는게 쉬운데 trend 는 어떻게 적용하지\n",
    "\n",
    "# convert dataframe column to series (name is used to label the data)\n",
    "pbts_Railpm = pd.Series(p_bts.RailPM.values, index=p_bts.Day, name='RailPM')\n",
    "\n",
    "# define the time series frequency\n",
    "pbts_Railpm.index = pd.DatetimeIndex(pbts_Railpm.index, freq=pbts_Railpm.index.inferred_freq)\n",
    "\n",
    "\n",
    "pbts_Railpm.plot(ax=axes[1])\n",
    "axes[1].set_xlabel('Day')\n",
    "axes[1].set_ylabel('RailPM')\n",
    "axes[0].set_yscale('log')\n",
    "\n",
    "_ = axes[1].set_ylim(310000000, 660000000)"
   ]
  },
  {
   "cell_type": "markdown",
   "id": "7889c81d",
   "metadata": {},
   "source": [
    "# 16.2 학습 데이터와 검증 데이터에 각각 적용 시 모델 성능"
   ]
  },
  {
   "cell_type": "markdown",
   "id": "7fa323bf",
   "metadata": {},
   "source": [
    "모델의 과적합을 피하고 미래 데이터에 대한 예측력을 계산하기 위해 학습 데이터와 검증데이터의 분할 필요\n",
    "\n",
    "시간 순서대로 데이터 분할\n",
    "\n",
    "앞 시점의 데이터를 이용해 모델 구축, 뒤 시점의 데이터로 구축된 모델의 성능 평가"
   ]
  },
  {
   "cell_type": "markdown",
   "id": "8ad3565b",
   "metadata": {},
   "source": [
    "### a"
   ]
  },
  {
   "cell_type": "markdown",
   "id": "4939ffdd",
   "metadata": {},
   "source": [
    "검증데이터가 많은 모델 A가 적합하다고 생각함"
   ]
  },
  {
   "cell_type": "markdown",
   "id": "ba66eb0a",
   "metadata": {},
   "source": [
    "### b"
   ]
  },
  {
   "cell_type": "markdown",
   "id": "44a5df3a",
   "metadata": {},
   "source": [
    "앞 시점의 데이터를 이용해 모델을 구축하니 데이터가 많을수록 이득이라 생각해 학습데이터가 많은 모델 B가 적합하다고 생각함"
   ]
  },
  {
   "cell_type": "markdown",
   "id": "ce615604",
   "metadata": {},
   "source": [
    "# 16.3 백화점 매출 예측"
   ]
  },
  {
   "cell_type": "markdown",
   "id": "dff9c37f",
   "metadata": {},
   "source": [
    "### a"
   ]
  },
  {
   "cell_type": "code",
   "execution_count": 179,
   "id": "e32a6c06",
   "metadata": {},
   "outputs": [],
   "source": [
    "departss = pd.read_csv('DepartmentStoreSales.csv')"
   ]
  },
  {
   "cell_type": "code",
   "execution_count": 180,
   "id": "c88776c9",
   "metadata": {},
   "outputs": [],
   "source": [
    "departss.Quarter = pd.to_datetime(departss.Quarter, format='%d') # 분기니까 일로 변환하여 적용하는 것이 간단할 것이라 생각"
   ]
  },
  {
   "cell_type": "code",
   "execution_count": 181,
   "id": "1b56a49e",
   "metadata": {},
   "outputs": [
    {
     "name": "stdout",
     "output_type": "stream",
     "text": [
      "103337    48617\n"
     ]
    }
   ],
   "source": [
    "# y 축 범위 조정을 위해 최댓값 및 최솟값 구하기\n",
    "print(departss.Sales.max(),'  ', departss.Sales.min())"
   ]
  },
  {
   "cell_type": "code",
   "execution_count": 182,
   "id": "30ed9dbb",
   "metadata": {},
   "outputs": [
    {
     "data": {
      "image/png": "[encoded data removed]",
      "text/plain": [
       "<Figure size 432x288 with 1 Axes>"
      ]
     },
     "metadata": {
      "needs_background": "light"
     },
     "output_type": "display_data"
    }
   ],
   "source": [
    "# convert dataframe column to series (name is used to label the data)\n",
    "de_Sales = pd.Series(departss.Sales.values, index=departss.Quarter, name='Sales')\n",
    "\n",
    "# define the time series frequency\n",
    "de_Sales.index = pd.DatetimeIndex(de_Sales.index, freq=de_Sales.index.inferred_freq)\n",
    "\n",
    "ax = de_Sales.plot()\n",
    "ax.set_xlabel('Quarter')\n",
    "ax.set_ylabel('Sales')\n",
    "_ = ax.set_ylim(48000, 105000) \n",
    "plt.show()"
   ]
  },
  {
   "cell_type": "markdown",
   "id": "e00b751b",
   "metadata": {},
   "source": [
    "### b"
   ]
  },
  {
   "cell_type": "code",
   "execution_count": 183,
   "id": "8aaf4877",
   "metadata": {},
   "outputs": [
    {
     "data": {
      "image/png": "[encoded data removed]",
      "text/plain": [
       "<Figure size 432x288 with 1 Axes>"
      ]
     },
     "metadata": {
      "needs_background": "light"
     },
     "output_type": "display_data"
    }
   ],
   "source": [
    "# 시간에 따라 분산 즉, 변동이 커지는 것을 확인할 수 있다. 잡음은 있다고 보기 어려움\n",
    "\n",
    "\n",
    "ax = de_Sales.plot()\n",
    "ax.set_xlabel('Quarter')\n",
    "ax.set_ylabel('Sales')\n",
    "\n",
    "ax.set_yscale('log') # 원래 x축도 로그변환 적용해야 하나\n",
    "\n",
    "_ = ax.set_ylim(48000, 105000) \n",
    "plt.show()\n"
   ]
  },
  {
   "cell_type": "markdown",
   "id": "26a3a73f",
   "metadata": {},
   "source": [
    "# 16.4 가전제품 선적량"
   ]
  },
  {
   "cell_type": "markdown",
   "id": "af66eb33",
   "metadata": {},
   "source": [
    "### a"
   ]
  },
  {
   "cell_type": "code",
   "execution_count": 238,
   "id": "2b17d5ff",
   "metadata": {},
   "outputs": [],
   "source": [
    "As = pd.read_csv('ApplianceShipments.csv')"
   ]
  },
  {
   "cell_type": "code",
   "execution_count": 239,
   "id": "51adf1af",
   "metadata": {},
   "outputs": [
    {
     "data": {
      "text/html": [
       "<div>\n",
       "<style scoped>\n",
       "    .dataframe tbody tr th:only-of-type {\n",
       "        vertical-align: middle;\n",
       "    }\n",
       "\n",
       "    .dataframe tbody tr th {\n",
       "        vertical-align: top;\n",
       "    }\n",
       "\n",
       "    .dataframe thead th {\n",
       "        text-align: right;\n",
       "    }\n",
       "</style>\n",
       "<table border=\"1\" class=\"dataframe\">\n",
       "  <thead>\n",
       "    <tr style=\"text-align: right;\">\n",
       "      <th></th>\n",
       "      <th>Quarter</th>\n",
       "      <th>Shipments</th>\n",
       "    </tr>\n",
       "  </thead>\n",
       "  <tbody>\n",
       "    <tr>\n",
       "      <th>0</th>\n",
       "      <td>Q1-1985</td>\n",
       "      <td>4009</td>\n",
       "    </tr>\n",
       "    <tr>\n",
       "      <th>1</th>\n",
       "      <td>Q2-1985</td>\n",
       "      <td>4321</td>\n",
       "    </tr>\n",
       "    <tr>\n",
       "      <th>2</th>\n",
       "      <td>Q3-1985</td>\n",
       "      <td>4224</td>\n",
       "    </tr>\n",
       "    <tr>\n",
       "      <th>3</th>\n",
       "      <td>Q4-1985</td>\n",
       "      <td>3944</td>\n",
       "    </tr>\n",
       "    <tr>\n",
       "      <th>4</th>\n",
       "      <td>Q1-1986</td>\n",
       "      <td>4123</td>\n",
       "    </tr>\n",
       "    <tr>\n",
       "      <th>5</th>\n",
       "      <td>Q2-1986</td>\n",
       "      <td>4522</td>\n",
       "    </tr>\n",
       "    <tr>\n",
       "      <th>6</th>\n",
       "      <td>Q3-1986</td>\n",
       "      <td>4657</td>\n",
       "    </tr>\n",
       "    <tr>\n",
       "      <th>7</th>\n",
       "      <td>Q4-1986</td>\n",
       "      <td>4030</td>\n",
       "    </tr>\n",
       "    <tr>\n",
       "      <th>8</th>\n",
       "      <td>Q1-1987</td>\n",
       "      <td>4493</td>\n",
       "    </tr>\n",
       "    <tr>\n",
       "      <th>9</th>\n",
       "      <td>Q2-1987</td>\n",
       "      <td>4806</td>\n",
       "    </tr>\n",
       "    <tr>\n",
       "      <th>10</th>\n",
       "      <td>Q3-1987</td>\n",
       "      <td>4551</td>\n",
       "    </tr>\n",
       "    <tr>\n",
       "      <th>11</th>\n",
       "      <td>Q4-1987</td>\n",
       "      <td>4485</td>\n",
       "    </tr>\n",
       "    <tr>\n",
       "      <th>12</th>\n",
       "      <td>Q1-1988</td>\n",
       "      <td>4595</td>\n",
       "    </tr>\n",
       "    <tr>\n",
       "      <th>13</th>\n",
       "      <td>Q2-1988</td>\n",
       "      <td>4799</td>\n",
       "    </tr>\n",
       "    <tr>\n",
       "      <th>14</th>\n",
       "      <td>Q3-1988</td>\n",
       "      <td>4417</td>\n",
       "    </tr>\n",
       "    <tr>\n",
       "      <th>15</th>\n",
       "      <td>Q4-1988</td>\n",
       "      <td>4258</td>\n",
       "    </tr>\n",
       "    <tr>\n",
       "      <th>16</th>\n",
       "      <td>Q1-1989</td>\n",
       "      <td>4245</td>\n",
       "    </tr>\n",
       "    <tr>\n",
       "      <th>17</th>\n",
       "      <td>Q2-1989</td>\n",
       "      <td>4900</td>\n",
       "    </tr>\n",
       "    <tr>\n",
       "      <th>18</th>\n",
       "      <td>Q3-1989</td>\n",
       "      <td>4585</td>\n",
       "    </tr>\n",
       "    <tr>\n",
       "      <th>19</th>\n",
       "      <td>Q4-1989</td>\n",
       "      <td>4533</td>\n",
       "    </tr>\n",
       "  </tbody>\n",
       "</table>\n",
       "</div>"
      ],
      "text/plain": [
       "    Quarter  Shipments\n",
       "0   Q1-1985       4009\n",
       "1   Q2-1985       4321\n",
       "2   Q3-1985       4224\n",
       "3   Q4-1985       3944\n",
       "4   Q1-1986       4123\n",
       "5   Q2-1986       4522\n",
       "6   Q3-1986       4657\n",
       "7   Q4-1986       4030\n",
       "8   Q1-1987       4493\n",
       "9   Q2-1987       4806\n",
       "10  Q3-1987       4551\n",
       "11  Q4-1987       4485\n",
       "12  Q1-1988       4595\n",
       "13  Q2-1988       4799\n",
       "14  Q3-1988       4417\n",
       "15  Q4-1988       4258\n",
       "16  Q1-1989       4245\n",
       "17  Q2-1989       4900\n",
       "18  Q3-1989       4585\n",
       "19  Q4-1989       4533"
      ]
     },
     "execution_count": 239,
     "metadata": {},
     "output_type": "execute_result"
    }
   ],
   "source": [
    "As"
   ]
  },
  {
   "cell_type": "code",
   "execution_count": 186,
   "id": "2f5204d0",
   "metadata": {},
   "outputs": [],
   "source": [
    "As['day']=pd.date_range(\"1985-1-1\", \"1989-12-31\", freq=\" Q-JAN\")"
   ]
  },
  {
   "cell_type": "code",
   "execution_count": 187,
   "id": "a7998c7c",
   "metadata": {},
   "outputs": [
    {
     "data": {
      "text/plain": [
       "<bound method Series.info of 0    1985-01-31\n",
       "1    1985-04-30\n",
       "2    1985-07-31\n",
       "3    1985-10-31\n",
       "4    1986-01-31\n",
       "5    1986-04-30\n",
       "6    1986-07-31\n",
       "7    1986-10-31\n",
       "8    1987-01-31\n",
       "9    1987-04-30\n",
       "10   1987-07-31\n",
       "11   1987-10-31\n",
       "12   1988-01-31\n",
       "13   1988-04-30\n",
       "14   1988-07-31\n",
       "15   1988-10-31\n",
       "16   1989-01-31\n",
       "17   1989-04-30\n",
       "18   1989-07-31\n",
       "19   1989-10-31\n",
       "Name: day, dtype: datetime64[ns]>"
      ]
     },
     "execution_count": 187,
     "metadata": {},
     "output_type": "execute_result"
    }
   ],
   "source": [
    "As.day.info # 분기 변경하는 방법 몰라서 주기기준으로 그냥 새로운 열을 만들었음"
   ]
  },
  {
   "cell_type": "code",
   "execution_count": 188,
   "id": "0a4fb08f",
   "metadata": {},
   "outputs": [
    {
     "name": "stdout",
     "output_type": "stream",
     "text": [
      "4900 \t 3944\n"
     ]
    }
   ],
   "source": [
    "print(As.Shipments.max(),'\\t', As.Shipments.min())"
   ]
  },
  {
   "cell_type": "code",
   "execution_count": 189,
   "id": "056296bb",
   "metadata": {},
   "outputs": [
    {
     "data": {
      "image/png": "[encoded data removed]",
      "text/plain": [
       "<Figure size 432x288 with 1 Axes>"
      ]
     },
     "metadata": {
      "needs_background": "light"
     },
     "output_type": "display_data"
    }
   ],
   "source": [
    "# convert dataframe column to series (name is used to label the data)\n",
    "ass = pd.Series(As.Shipments.values, index=As.day, name='Shipments')\n",
    "\n",
    "# define the time series frequency\n",
    "ass.index = pd.DatetimeIndex(ass.index, freq=ass.index.inferred_freq)\n",
    "\n",
    "ax = ass.plot()\n",
    "ax.set_xlabel('day')\n",
    "ax.set_ylabel('Shipments')\n",
    "_ = ax.set_ylim(3900, 5000) \n",
    "plt.show()"
   ]
  },
  {
   "cell_type": "markdown",
   "id": "c9362f25",
   "metadata": {},
   "source": [
    "### b"
   ]
  },
  {
   "cell_type": "markdown",
   "id": "dba8d628",
   "metadata": {},
   "source": [
    "완전.. 이상하다.. 추세가 지수적이지도 않고 선형성 있다고 보는건가..."
   ]
  },
  {
   "cell_type": "code",
   "execution_count": 190,
   "id": "4c9d6c5c",
   "metadata": {},
   "outputs": [
    {
     "data": {
      "image/png": "[encoded data removed]",
      "text/plain": [
       "<Figure size 432x288 with 1 Axes>"
      ]
     },
     "metadata": {
      "needs_background": "light"
     },
     "output_type": "display_data"
    }
   ],
   "source": [
    "# create a data frame with additional independent variables from time series\n",
    "# the following command adds a constant term, a trend term and a quadratic trend term\n",
    "As_df = tsatools.add_trend(ass, trend='ctt')\n",
    "\n",
    "# fit a linear regression model to the time series\n",
    "As_lm = sm.ols(formula='Shipments ~ trend + trend_squared', data=As_df).fit()\n",
    "\n",
    "\n",
    "# plot the series\n",
    "ax = ass.plot()\n",
    "ax.set_xlabel('day')\n",
    "ax.set_ylabel('Shipments')\n",
    "_ = ax.set_ylim(3900, 5000)\n",
    "\n",
    "As_lm.predict(As_df).plot()\n",
    "\n",
    "plt.show()\n",
    "\n",
    "# 선형성만 판단해주는 것 같고 좋지 않은 추세임은 알 수 있다. 평균을 구하기도 어려움?\n"
   ]
  },
  {
   "cell_type": "markdown",
   "id": "4a454949",
   "metadata": {},
   "source": [
    "# 16.5 캐나다 제조업체 종사자의 근무시간"
   ]
  },
  {
   "cell_type": "markdown",
   "id": "bc7195cb",
   "metadata": {},
   "source": [
    "### a"
   ]
  },
  {
   "cell_type": "code",
   "execution_count": 191,
   "id": "bfeb496b",
   "metadata": {},
   "outputs": [],
   "source": [
    "cwh = pd.read_csv('CanadianWorkHours.csv')"
   ]
  },
  {
   "cell_type": "code",
   "execution_count": 192,
   "id": "9174c703",
   "metadata": {},
   "outputs": [
    {
     "data": {
      "text/html": [
       "<div>\n",
       "<style scoped>\n",
       "    .dataframe tbody tr th:only-of-type {\n",
       "        vertical-align: middle;\n",
       "    }\n",
       "\n",
       "    .dataframe tbody tr th {\n",
       "        vertical-align: top;\n",
       "    }\n",
       "\n",
       "    .dataframe thead th {\n",
       "        text-align: right;\n",
       "    }\n",
       "</style>\n",
       "<table border=\"1\" class=\"dataframe\">\n",
       "  <thead>\n",
       "    <tr style=\"text-align: right;\">\n",
       "      <th></th>\n",
       "      <th>Year</th>\n",
       "      <th>Hours</th>\n",
       "    </tr>\n",
       "  </thead>\n",
       "  <tbody>\n",
       "    <tr>\n",
       "      <th>0</th>\n",
       "      <td>1966-01-01</td>\n",
       "      <td>37.2</td>\n",
       "    </tr>\n",
       "    <tr>\n",
       "      <th>1</th>\n",
       "      <td>1967-01-01</td>\n",
       "      <td>37.0</td>\n",
       "    </tr>\n",
       "    <tr>\n",
       "      <th>2</th>\n",
       "      <td>1968-01-01</td>\n",
       "      <td>37.4</td>\n",
       "    </tr>\n",
       "    <tr>\n",
       "      <th>3</th>\n",
       "      <td>1969-01-01</td>\n",
       "      <td>37.5</td>\n",
       "    </tr>\n",
       "    <tr>\n",
       "      <th>4</th>\n",
       "      <td>1970-01-01</td>\n",
       "      <td>37.7</td>\n",
       "    </tr>\n",
       "  </tbody>\n",
       "</table>\n",
       "</div>"
      ],
      "text/plain": [
       "        Year  Hours\n",
       "0 1966-01-01   37.2\n",
       "1 1967-01-01   37.0\n",
       "2 1968-01-01   37.4\n",
       "3 1969-01-01   37.5\n",
       "4 1970-01-01   37.7"
      ]
     },
     "execution_count": 192,
     "metadata": {},
     "output_type": "execute_result"
    }
   ],
   "source": [
    "cwh['Year']=pd.to_datetime(cwh.Year, format='%Y')\n",
    "\n",
    "cwh.head(5)"
   ]
  },
  {
   "cell_type": "code",
   "execution_count": 193,
   "id": "3ae212ff",
   "metadata": {},
   "outputs": [
    {
     "name": "stdout",
     "output_type": "stream",
     "text": [
      "37.7 \t 34.8\n"
     ]
    }
   ],
   "source": [
    "print(cwh.Hours.max(),'\\t', cwh.Hours.min())"
   ]
  },
  {
   "cell_type": "code",
   "execution_count": 194,
   "id": "2858b572",
   "metadata": {},
   "outputs": [
    {
     "data": {
      "image/png": "[encoded data removed]",
      "text/plain": [
       "<Figure size 432x288 with 1 Axes>"
      ]
     },
     "metadata": {
      "needs_background": "light"
     },
     "output_type": "display_data"
    }
   ],
   "source": [
    "# convert dataframe column to series (name is used to label the data)\n",
    "cwh_h = pd.Series(cwh.Hours.values, index=cwh.Year, name='Hours')\n",
    "\n",
    "# define the time series frequency\n",
    "cwh_h.index = pd.DatetimeIndex(cwh_h.index, freq=cwh_h.index.inferred_freq)\n",
    "\n",
    "ax = cwh_h.plot()\n",
    "ax.set_xlabel('Year')\n",
    "ax.set_ylabel('Hours')\n",
    "_ = ax.set_ylim(34.5, 38)\n",
    "\n",
    "plt.show()"
   ]
  },
  {
   "cell_type": "markdown",
   "id": "b0cbdf42",
   "metadata": {},
   "source": [
    "### b"
   ]
  },
  {
   "cell_type": "markdown",
   "id": "b127cd72",
   "metadata": {},
   "source": [
    "전반적으로 감소하는 추세이긴 하나 1980년도 말에 다시 증가하는 형태로 볼 수 있다.\n",
    "계절성이 있다고 보기는 어렵다.\n",
    "주기도 있다고 보기는 어렵지만,, 굳이 따져보자면 급감하는 구간과 급증하는 구간으로 나눠서 생각해볼 수 있다.\n",
    "분산의 문제라기 보다는 차분의 문제로 보인다."
   ]
  },
  {
   "cell_type": "markdown",
   "id": "3536fccf",
   "metadata": {},
   "source": [
    "# 16.6 기념품 판매량"
   ]
  },
  {
   "cell_type": "markdown",
   "id": "b8552c9f",
   "metadata": {},
   "source": [
    "# 본 데이터가 손실"
   ]
  },
  {
   "cell_type": "markdown",
   "id": "553b2a93",
   "metadata": {},
   "source": [
    "### a"
   ]
  },
  {
   "cell_type": "code",
   "execution_count": 209,
   "id": "3225de8e",
   "metadata": {},
   "outputs": [],
   "source": [
    "ss = pd.read_csv('SouvenirSales.csv')"
   ]
  },
  {
   "cell_type": "code",
   "execution_count": 210,
   "id": "632c4dbb",
   "metadata": {},
   "outputs": [],
   "source": [
    "ss=ss.drop(columns={'Unnamed: 2', 'From website'})"
   ]
  },
  {
   "cell_type": "code",
   "execution_count": 211,
   "id": "0d99c255",
   "metadata": {},
   "outputs": [
    {
     "data": {
      "text/html": [
       "<div>\n",
       "<style scoped>\n",
       "    .dataframe tbody tr th:only-of-type {\n",
       "        vertical-align: middle;\n",
       "    }\n",
       "\n",
       "    .dataframe tbody tr th {\n",
       "        vertical-align: top;\n",
       "    }\n",
       "\n",
       "    .dataframe thead th {\n",
       "        text-align: right;\n",
       "    }\n",
       "</style>\n",
       "<table border=\"1\" class=\"dataframe\">\n",
       "  <thead>\n",
       "    <tr style=\"text-align: right;\">\n",
       "      <th></th>\n",
       "      <th>Date</th>\n",
       "      <th>Sales</th>\n",
       "    </tr>\n",
       "  </thead>\n",
       "  <tbody>\n",
       "    <tr>\n",
       "      <th>0</th>\n",
       "      <td>Jan-95</td>\n",
       "      <td>1664.81</td>\n",
       "    </tr>\n",
       "    <tr>\n",
       "      <th>1</th>\n",
       "      <td>Feb-95</td>\n",
       "      <td>2397.53</td>\n",
       "    </tr>\n",
       "    <tr>\n",
       "      <th>2</th>\n",
       "      <td>Mar-95</td>\n",
       "      <td>2840.71</td>\n",
       "    </tr>\n",
       "    <tr>\n",
       "      <th>3</th>\n",
       "      <td>Apr-95</td>\n",
       "      <td>3547.29</td>\n",
       "    </tr>\n",
       "    <tr>\n",
       "      <th>4</th>\n",
       "      <td>May-95</td>\n",
       "      <td>3752.96</td>\n",
       "    </tr>\n",
       "  </tbody>\n",
       "</table>\n",
       "</div>"
      ],
      "text/plain": [
       "     Date    Sales\n",
       "0  Jan-95  1664.81\n",
       "1  Feb-95  2397.53\n",
       "2  Mar-95  2840.71\n",
       "3  Apr-95  3547.29\n",
       "4  May-95  3752.96"
      ]
     },
     "execution_count": 211,
     "metadata": {},
     "output_type": "execute_result"
    }
   ],
   "source": [
    "ss.head(5)"
   ]
  },
  {
   "cell_type": "code",
   "execution_count": 221,
   "id": "4a7bf1cb",
   "metadata": {},
   "outputs": [
    {
     "data": {
      "text/html": [
       "<div>\n",
       "<style scoped>\n",
       "    .dataframe tbody tr th:only-of-type {\n",
       "        vertical-align: middle;\n",
       "    }\n",
       "\n",
       "    .dataframe tbody tr th {\n",
       "        vertical-align: top;\n",
       "    }\n",
       "\n",
       "    .dataframe thead th {\n",
       "        text-align: right;\n",
       "    }\n",
       "</style>\n",
       "<table border=\"1\" class=\"dataframe\">\n",
       "  <thead>\n",
       "    <tr style=\"text-align: right;\">\n",
       "      <th></th>\n",
       "      <th>Date</th>\n",
       "      <th>Sales</th>\n",
       "    </tr>\n",
       "  </thead>\n",
       "  <tbody>\n",
       "    <tr>\n",
       "      <th>0</th>\n",
       "      <td>1995-01-01</td>\n",
       "      <td>1664.81</td>\n",
       "    </tr>\n",
       "    <tr>\n",
       "      <th>1</th>\n",
       "      <td>1995-02-01</td>\n",
       "      <td>2397.53</td>\n",
       "    </tr>\n",
       "    <tr>\n",
       "      <th>2</th>\n",
       "      <td>1995-03-01</td>\n",
       "      <td>2840.71</td>\n",
       "    </tr>\n",
       "    <tr>\n",
       "      <th>3</th>\n",
       "      <td>1995-04-01</td>\n",
       "      <td>3547.29</td>\n",
       "    </tr>\n",
       "    <tr>\n",
       "      <th>4</th>\n",
       "      <td>1995-05-01</td>\n",
       "      <td>3752.96</td>\n",
       "    </tr>\n",
       "    <tr>\n",
       "      <th>...</th>\n",
       "      <td>...</td>\n",
       "      <td>...</td>\n",
       "    </tr>\n",
       "    <tr>\n",
       "      <th>79</th>\n",
       "      <td>2001-08-01</td>\n",
       "      <td>28586.52</td>\n",
       "    </tr>\n",
       "    <tr>\n",
       "      <th>80</th>\n",
       "      <td>2001-09-01</td>\n",
       "      <td>30505.41</td>\n",
       "    </tr>\n",
       "    <tr>\n",
       "      <th>81</th>\n",
       "      <td>2001-10-01</td>\n",
       "      <td>30821.33</td>\n",
       "    </tr>\n",
       "    <tr>\n",
       "      <th>82</th>\n",
       "      <td>2001-11-01</td>\n",
       "      <td>46634.38</td>\n",
       "    </tr>\n",
       "    <tr>\n",
       "      <th>83</th>\n",
       "      <td>2001-12-01</td>\n",
       "      <td>104660.67</td>\n",
       "    </tr>\n",
       "  </tbody>\n",
       "</table>\n",
       "<p>84 rows × 2 columns</p>\n",
       "</div>"
      ],
      "text/plain": [
       "         Date      Sales\n",
       "0  1995-01-01    1664.81\n",
       "1  1995-02-01    2397.53\n",
       "2  1995-03-01    2840.71\n",
       "3  1995-04-01    3547.29\n",
       "4  1995-05-01    3752.96\n",
       "..        ...        ...\n",
       "79 2001-08-01   28586.52\n",
       "80 2001-09-01   30505.41\n",
       "81 2001-10-01   30821.33\n",
       "82 2001-11-01   46634.38\n",
       "83 2001-12-01  104660.67\n",
       "\n",
       "[84 rows x 2 columns]"
      ]
     },
     "execution_count": 221,
     "metadata": {},
     "output_type": "execute_result"
    }
   ],
   "source": [
    "ss"
   ]
  },
  {
   "cell_type": "code",
   "execution_count": 212,
   "id": "f9e070d1",
   "metadata": {},
   "outputs": [],
   "source": [
    "ss['Date']=pd.to_datetime(ss.Date, format='%b-%y')"
   ]
  },
  {
   "cell_type": "code",
   "execution_count": 213,
   "id": "c37c8b4b",
   "metadata": {},
   "outputs": [
    {
     "name": "stdout",
     "output_type": "stream",
     "text": [
      "104660.67 \t 1664.81\n"
     ]
    }
   ],
   "source": [
    "print(ss.Sales.max(),'\\t', ss.Sales.min())"
   ]
  },
  {
   "cell_type": "code",
   "execution_count": 215,
   "id": "8d889766",
   "metadata": {},
   "outputs": [
    {
     "data": {
      "image/png": "[encoded data removed]",
      "text/plain": [
       "<Figure size 432x288 with 1 Axes>"
      ]
     },
     "metadata": {
      "needs_background": "light"
     },
     "output_type": "display_data"
    }
   ],
   "source": [
    "# convert dataframe column to series (name is used to label the data)\n",
    "sss = pd.Series(ss.Sales.values, index=ss.Date, name='Sales')\n",
    "\n",
    "# define the time series frequency\n",
    "sss.index = pd.DatetimeIndex(sss.index, freq=sss.index.inferred_freq)\n",
    "\n",
    "ax = sss.plot()\n",
    "ax.set_xlabel('Sales')\n",
    "ax.set_ylabel('Date')\n",
    "_ = ax.set_ylim(1660, 104670)\n",
    "\n",
    "plt.show()"
   ]
  },
  {
   "cell_type": "markdown",
   "id": "e41e657a",
   "metadata": {},
   "source": [
    "### b"
   ]
  },
  {
   "cell_type": "code",
   "execution_count": 219,
   "id": "63bdff92",
   "metadata": {},
   "outputs": [
    {
     "data": {
      "image/png": "[encoded data removed]",
      "text/plain": [
       "<Figure size 432x288 with 3 Axes>"
      ]
     },
     "metadata": {
      "needs_background": "light"
     },
     "output_type": "display_data"
    }
   ],
   "source": [
    "fig, axes = plt.subplots(nrows=3, ncols=1)\n",
    "\n",
    "\n",
    "# y축 로그변환\n",
    "\n",
    "sss.plot(ax=axes[0])\n",
    "axes[0].set_xlabel('Sales')\n",
    "axes[0].set_ylabel('Date')\n",
    "axes[0].set_yscale('log')\n",
    "_ = ax.set_ylim(1660, 104670)\n",
    "\n",
    "# x축 로그변환\n",
    "\n",
    "sss.plot(ax=axes[1])\n",
    "axes[1].set_xlabel('Sales')\n",
    "axes[1].set_ylabel('Date')\n",
    "axes[1].set_xscale('log')\n",
    "_ = ax.set_ylim(1660, 104670)\n",
    "\n",
    "# x, y축 로그변환\n",
    "\n",
    "sss.plot(ax=axes[2])\n",
    "axes[2].set_xlabel('Sales')\n",
    "axes[2].set_ylabel('Date')\n",
    "axes[2].set_xscale('log')\n",
    "axes[2].set_yscale('log')\n",
    "_ = ax.set_ylim(1660, 104670)\n",
    "\n",
    "\n",
    "plt.suptitle('')  # Suppress the overall title\n",
    "plt.tight_layout()  # Increase the separation between the plots\n",
    "\n",
    "plt.show()"
   ]
  },
  {
   "cell_type": "markdown",
   "id": "a85f36e4",
   "metadata": {},
   "source": [
    "변동의 폭이 일정한 것이 좋은 시계열이라 볼 수 있으니까 x축 로그변환 제외하고 둘다 괜찮은 것으로 보인다. \n",
    "\n",
    "그래도 굳이 선형을 따지자면..y축 로그변환 "
   ]
  },
  {
   "cell_type": "markdown",
   "id": "93797827",
   "metadata": {},
   "source": [
    "### c"
   ]
  },
  {
   "cell_type": "markdown",
   "id": "2b92b9ed",
   "metadata": {},
   "source": [
    "증가하는 추세"
   ]
  },
  {
   "cell_type": "markdown",
   "id": "85356a03",
   "metadata": {},
   "source": [
    "### d"
   ]
  },
  {
   "cell_type": "code",
   "execution_count": 222,
   "id": "d04f0a51",
   "metadata": {},
   "outputs": [],
   "source": [
    "# 모델의 과적합을 피하고 미래 데이터에 대한 예측력을 계산하기 위해 학습 데이터와 검증데이터의 분할 필요\n",
    "\n",
    "# 시간 순서대로 데이터 분할\n",
    "\n",
    "# 앞 시점의 데이터를 이용해 모델 구축, 뒤 시점의 데이터로 구축된 모델의 성능 평가\n",
    "\n",
    "# 앞 데이터가 학습, 뒷 데이터가 검증이라 생각함"
   ]
  },
  {
   "cell_type": "code",
   "execution_count": 230,
   "id": "79692f74",
   "metadata": {},
   "outputs": [
    {
     "data": {
      "text/html": [
       "<div>\n",
       "<style scoped>\n",
       "    .dataframe tbody tr th:only-of-type {\n",
       "        vertical-align: middle;\n",
       "    }\n",
       "\n",
       "    .dataframe tbody tr th {\n",
       "        vertical-align: top;\n",
       "    }\n",
       "\n",
       "    .dataframe thead th {\n",
       "        text-align: right;\n",
       "    }\n",
       "</style>\n",
       "<table border=\"1\" class=\"dataframe\">\n",
       "  <thead>\n",
       "    <tr style=\"text-align: right;\">\n",
       "      <th></th>\n",
       "      <th>Date</th>\n",
       "      <th>Sales</th>\n",
       "    </tr>\n",
       "  </thead>\n",
       "  <tbody>\n",
       "    <tr>\n",
       "      <th>72</th>\n",
       "      <td>2001-01-01</td>\n",
       "      <td>10243.24</td>\n",
       "    </tr>\n",
       "  </tbody>\n",
       "</table>\n",
       "</div>"
      ],
      "text/plain": [
       "         Date     Sales\n",
       "72 2001-01-01  10243.24"
      ]
     },
     "execution_count": 230,
     "metadata": {},
     "output_type": "execute_result"
    }
   ],
   "source": [
    "ss[ss['Date']=='2001-01-01']"
   ]
  },
  {
   "cell_type": "code",
   "execution_count": 232,
   "id": "fbbc7760",
   "metadata": {},
   "outputs": [],
   "source": [
    "T_ss=ss.iloc[:72]"
   ]
  },
  {
   "cell_type": "code",
   "execution_count": 234,
   "id": "7499ba7a",
   "metadata": {},
   "outputs": [],
   "source": [
    "V_ss=ss.iloc[72:]"
   ]
  },
  {
   "cell_type": "markdown",
   "id": "b8e3229b",
   "metadata": {},
   "source": [
    "# 16.7 샴푸 판매량 예측"
   ]
  },
  {
   "cell_type": "markdown",
   "id": "70850373",
   "metadata": {},
   "source": [
    "### a"
   ]
  },
  {
   "cell_type": "code",
   "execution_count": 224,
   "id": "d1039819",
   "metadata": {},
   "outputs": [],
   "source": [
    "shampoo = pd.read_csv('ShampooSales.csv')"
   ]
  },
  {
   "cell_type": "code",
   "execution_count": 226,
   "id": "ba239838",
   "metadata": {},
   "outputs": [
    {
     "data": {
      "text/html": [
       "<div>\n",
       "<style scoped>\n",
       "    .dataframe tbody tr th:only-of-type {\n",
       "        vertical-align: middle;\n",
       "    }\n",
       "\n",
       "    .dataframe tbody tr th {\n",
       "        vertical-align: top;\n",
       "    }\n",
       "\n",
       "    .dataframe thead th {\n",
       "        text-align: right;\n",
       "    }\n",
       "</style>\n",
       "<table border=\"1\" class=\"dataframe\">\n",
       "  <thead>\n",
       "    <tr style=\"text-align: right;\">\n",
       "      <th></th>\n",
       "      <th>Month</th>\n",
       "      <th>Sales</th>\n",
       "    </tr>\n",
       "  </thead>\n",
       "  <tbody>\n",
       "    <tr>\n",
       "      <th>0</th>\n",
       "      <td>1-01</td>\n",
       "      <td>266.0</td>\n",
       "    </tr>\n",
       "    <tr>\n",
       "      <th>1</th>\n",
       "      <td>1-02</td>\n",
       "      <td>145.9</td>\n",
       "    </tr>\n",
       "    <tr>\n",
       "      <th>2</th>\n",
       "      <td>1-03</td>\n",
       "      <td>183.1</td>\n",
       "    </tr>\n",
       "    <tr>\n",
       "      <th>3</th>\n",
       "      <td>1-04</td>\n",
       "      <td>119.3</td>\n",
       "    </tr>\n",
       "    <tr>\n",
       "      <th>4</th>\n",
       "      <td>1-05</td>\n",
       "      <td>180.3</td>\n",
       "    </tr>\n",
       "    <tr>\n",
       "      <th>5</th>\n",
       "      <td>1-06</td>\n",
       "      <td>168.5</td>\n",
       "    </tr>\n",
       "    <tr>\n",
       "      <th>6</th>\n",
       "      <td>1-07</td>\n",
       "      <td>231.8</td>\n",
       "    </tr>\n",
       "    <tr>\n",
       "      <th>7</th>\n",
       "      <td>1-08</td>\n",
       "      <td>224.5</td>\n",
       "    </tr>\n",
       "    <tr>\n",
       "      <th>8</th>\n",
       "      <td>1-09</td>\n",
       "      <td>192.8</td>\n",
       "    </tr>\n",
       "    <tr>\n",
       "      <th>9</th>\n",
       "      <td>1-10</td>\n",
       "      <td>122.9</td>\n",
       "    </tr>\n",
       "    <tr>\n",
       "      <th>10</th>\n",
       "      <td>1-11</td>\n",
       "      <td>336.5</td>\n",
       "    </tr>\n",
       "    <tr>\n",
       "      <th>11</th>\n",
       "      <td>1-12</td>\n",
       "      <td>185.9</td>\n",
       "    </tr>\n",
       "    <tr>\n",
       "      <th>12</th>\n",
       "      <td>2-01</td>\n",
       "      <td>194.3</td>\n",
       "    </tr>\n",
       "    <tr>\n",
       "      <th>13</th>\n",
       "      <td>2-02</td>\n",
       "      <td>149.5</td>\n",
       "    </tr>\n",
       "    <tr>\n",
       "      <th>14</th>\n",
       "      <td>2-03</td>\n",
       "      <td>210.1</td>\n",
       "    </tr>\n",
       "    <tr>\n",
       "      <th>15</th>\n",
       "      <td>2-04</td>\n",
       "      <td>273.3</td>\n",
       "    </tr>\n",
       "    <tr>\n",
       "      <th>16</th>\n",
       "      <td>2-05</td>\n",
       "      <td>191.4</td>\n",
       "    </tr>\n",
       "    <tr>\n",
       "      <th>17</th>\n",
       "      <td>2-06</td>\n",
       "      <td>287.0</td>\n",
       "    </tr>\n",
       "    <tr>\n",
       "      <th>18</th>\n",
       "      <td>2-07</td>\n",
       "      <td>226.0</td>\n",
       "    </tr>\n",
       "    <tr>\n",
       "      <th>19</th>\n",
       "      <td>2-08</td>\n",
       "      <td>303.6</td>\n",
       "    </tr>\n",
       "    <tr>\n",
       "      <th>20</th>\n",
       "      <td>2-09</td>\n",
       "      <td>289.9</td>\n",
       "    </tr>\n",
       "    <tr>\n",
       "      <th>21</th>\n",
       "      <td>2-10</td>\n",
       "      <td>421.6</td>\n",
       "    </tr>\n",
       "    <tr>\n",
       "      <th>22</th>\n",
       "      <td>2-11</td>\n",
       "      <td>264.5</td>\n",
       "    </tr>\n",
       "    <tr>\n",
       "      <th>23</th>\n",
       "      <td>2-12</td>\n",
       "      <td>342.3</td>\n",
       "    </tr>\n",
       "    <tr>\n",
       "      <th>24</th>\n",
       "      <td>3-01</td>\n",
       "      <td>339.7</td>\n",
       "    </tr>\n",
       "    <tr>\n",
       "      <th>25</th>\n",
       "      <td>3-02</td>\n",
       "      <td>440.4</td>\n",
       "    </tr>\n",
       "    <tr>\n",
       "      <th>26</th>\n",
       "      <td>3-03</td>\n",
       "      <td>315.9</td>\n",
       "    </tr>\n",
       "    <tr>\n",
       "      <th>27</th>\n",
       "      <td>3-04</td>\n",
       "      <td>439.3</td>\n",
       "    </tr>\n",
       "    <tr>\n",
       "      <th>28</th>\n",
       "      <td>3-05</td>\n",
       "      <td>401.3</td>\n",
       "    </tr>\n",
       "    <tr>\n",
       "      <th>29</th>\n",
       "      <td>3-06</td>\n",
       "      <td>437.4</td>\n",
       "    </tr>\n",
       "    <tr>\n",
       "      <th>30</th>\n",
       "      <td>3-07</td>\n",
       "      <td>575.5</td>\n",
       "    </tr>\n",
       "    <tr>\n",
       "      <th>31</th>\n",
       "      <td>3-08</td>\n",
       "      <td>407.6</td>\n",
       "    </tr>\n",
       "    <tr>\n",
       "      <th>32</th>\n",
       "      <td>3-09</td>\n",
       "      <td>682.0</td>\n",
       "    </tr>\n",
       "    <tr>\n",
       "      <th>33</th>\n",
       "      <td>3-10</td>\n",
       "      <td>475.3</td>\n",
       "    </tr>\n",
       "    <tr>\n",
       "      <th>34</th>\n",
       "      <td>3-11</td>\n",
       "      <td>581.3</td>\n",
       "    </tr>\n",
       "    <tr>\n",
       "      <th>35</th>\n",
       "      <td>3-12</td>\n",
       "      <td>646.9</td>\n",
       "    </tr>\n",
       "  </tbody>\n",
       "</table>\n",
       "</div>"
      ],
      "text/plain": [
       "   Month  Sales\n",
       "0   1-01  266.0\n",
       "1   1-02  145.9\n",
       "2   1-03  183.1\n",
       "3   1-04  119.3\n",
       "4   1-05  180.3\n",
       "5   1-06  168.5\n",
       "6   1-07  231.8\n",
       "7   1-08  224.5\n",
       "8   1-09  192.8\n",
       "9   1-10  122.9\n",
       "10  1-11  336.5\n",
       "11  1-12  185.9\n",
       "12  2-01  194.3\n",
       "13  2-02  149.5\n",
       "14  2-03  210.1\n",
       "15  2-04  273.3\n",
       "16  2-05  191.4\n",
       "17  2-06  287.0\n",
       "18  2-07  226.0\n",
       "19  2-08  303.6\n",
       "20  2-09  289.9\n",
       "21  2-10  421.6\n",
       "22  2-11  264.5\n",
       "23  2-12  342.3\n",
       "24  3-01  339.7\n",
       "25  3-02  440.4\n",
       "26  3-03  315.9\n",
       "27  3-04  439.3\n",
       "28  3-05  401.3\n",
       "29  3-06  437.4\n",
       "30  3-07  575.5\n",
       "31  3-08  407.6\n",
       "32  3-09  682.0\n",
       "33  3-10  475.3\n",
       "34  3-11  581.3\n",
       "35  3-12  646.9"
      ]
     },
     "execution_count": 226,
     "metadata": {},
     "output_type": "execute_result"
    }
   ],
   "source": [
    "shampoo"
   ]
  },
  {
   "cell_type": "code",
   "execution_count": 236,
   "id": "6959e503",
   "metadata": {},
   "outputs": [],
   "source": [
    "shampoo['month']=pd.date_range(\"2022-1-1\", \"2024-12-31\", freq=\"M\")"
   ]
  },
  {
   "cell_type": "code",
   "execution_count": 237,
   "id": "91f1b75a",
   "metadata": {},
   "outputs": [
    {
     "data": {
      "text/html": [
       "<div>\n",
       "<style scoped>\n",
       "    .dataframe tbody tr th:only-of-type {\n",
       "        vertical-align: middle;\n",
       "    }\n",
       "\n",
       "    .dataframe tbody tr th {\n",
       "        vertical-align: top;\n",
       "    }\n",
       "\n",
       "    .dataframe thead th {\n",
       "        text-align: right;\n",
       "    }\n",
       "</style>\n",
       "<table border=\"1\" class=\"dataframe\">\n",
       "  <thead>\n",
       "    <tr style=\"text-align: right;\">\n",
       "      <th></th>\n",
       "      <th>Month</th>\n",
       "      <th>Sales</th>\n",
       "      <th>month</th>\n",
       "    </tr>\n",
       "  </thead>\n",
       "  <tbody>\n",
       "    <tr>\n",
       "      <th>0</th>\n",
       "      <td>1-01</td>\n",
       "      <td>266.0</td>\n",
       "      <td>2022-01-31</td>\n",
       "    </tr>\n",
       "    <tr>\n",
       "      <th>1</th>\n",
       "      <td>1-02</td>\n",
       "      <td>145.9</td>\n",
       "      <td>2022-02-28</td>\n",
       "    </tr>\n",
       "    <tr>\n",
       "      <th>2</th>\n",
       "      <td>1-03</td>\n",
       "      <td>183.1</td>\n",
       "      <td>2022-03-31</td>\n",
       "    </tr>\n",
       "    <tr>\n",
       "      <th>3</th>\n",
       "      <td>1-04</td>\n",
       "      <td>119.3</td>\n",
       "      <td>2022-04-30</td>\n",
       "    </tr>\n",
       "    <tr>\n",
       "      <th>4</th>\n",
       "      <td>1-05</td>\n",
       "      <td>180.3</td>\n",
       "      <td>2022-05-31</td>\n",
       "    </tr>\n",
       "  </tbody>\n",
       "</table>\n",
       "</div>"
      ],
      "text/plain": [
       "  Month  Sales      month\n",
       "0  1-01  266.0 2022-01-31\n",
       "1  1-02  145.9 2022-02-28\n",
       "2  1-03  183.1 2022-03-31\n",
       "3  1-04  119.3 2022-04-30\n",
       "4  1-05  180.3 2022-05-31"
      ]
     },
     "execution_count": 237,
     "metadata": {},
     "output_type": "execute_result"
    }
   ],
   "source": [
    "shampoo.head(5)"
   ]
  },
  {
   "cell_type": "markdown",
   "id": "6d3123f4",
   "metadata": {},
   "source": [
    "### b"
   ]
  },
  {
   "cell_type": "markdown",
   "id": "2823b57b",
   "metadata": {},
   "source": [
    "### c"
   ]
  },
  {
   "cell_type": "markdown",
   "id": "c339916b",
   "metadata": {},
   "source": [
    "### d"
   ]
  },
  {
   "cell_type": "markdown",
   "id": "3f175a69",
   "metadata": {},
   "source": [
    "### e"
   ]
  }
 ],
 "metadata": {
  "kernelspec": {
   "display_name": "Python 3 (ipykernel)",
   "language": "python",
   "name": "python3"
  },
  "language_info": {
   "codemirror_mode": {
    "name": "ipython",
    "version": 3
   },
   "file_extension": ".py",
   "mimetype": "text/x-python",
   "name": "python",
   "nbconvert_exporter": "python",
   "pygments_lexer": "ipython3",
   "version": "3.9.12"
  }
 },
 "nbformat": 4,
 "nbformat_minor": 5
}
