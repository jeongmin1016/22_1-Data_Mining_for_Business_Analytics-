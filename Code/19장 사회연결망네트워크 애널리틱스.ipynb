{
 "cells": [
  {
   "cell_type": "code",
   "execution_count": 2,
   "id": "99a433a2",
   "metadata": {},
   "outputs": [],
   "source": [
    "%matplotlib inline\n",
    "\n",
    "from pathlib import Path\n",
    "\n",
    "import collections\n",
    "import pandas as pd\n",
    "import networkx as nx\n",
    "import matplotlib.pyplot as plt"
   ]
  },
  {
   "cell_type": "markdown",
   "id": "8a0bf5a3",
   "metadata": {},
   "source": [
    "# 19.1 네트워크 분석"
   ]
  },
  {
   "cell_type": "markdown",
   "id": "36a01f82",
   "metadata": {},
   "source": [
    "## a"
   ]
  },
  {
   "cell_type": "code",
   "execution_count": 3,
   "id": "900410fc",
   "metadata": {},
   "outputs": [
    {
     "data": {
      "image/png": "[encoded data removed]",
      "text/plain": [
       "<Figure size 432x288 with 1 Axes>"
      ]
     },
     "metadata": {},
     "output_type": "display_data"
    }
   ],
   "source": [
    "# 다섯개의 노드와 그것들을 연결하는 선으로 구성된 네트워크 형성\n",
    "df = pd.DataFrame([\n",
    "    (\"A\", \"B\"), (\"A\", \"C\"), (\"B\", \"C\"),\n",
    "    (\"C\", \"D\"), (\"D\", \"E\")], columns=['from', 'to'])\n",
    "\n",
    "G = nx.from_pandas_edgelist(df, 'from', 'to')\n",
    " \n",
    "# 무방향, 즉 방향성이 없는 그래프 그리기\n",
    "nx.draw(G, with_labels=True, node_color='lightblue', node_size=1600)\n",
    "plt.show()"
   ]
  },
  {
   "cell_type": "markdown",
   "id": "40f876c5",
   "metadata": {},
   "source": [
    "## b"
   ]
  },
  {
   "cell_type": "markdown",
   "id": "bae062a6",
   "metadata": {},
   "source": [
    "#### 클릭 \n",
    "네트워크 구조의 일종으로 각각의 노드가 다른 모든 노드에 연결된 경우를 의미함.\n",
    "연결은 하나 이상의 노드를 거치지 않고 직접 연결되어야 함."
   ]
  },
  {
   "cell_type": "markdown",
   "id": "12d947dc",
   "metadata": {},
   "source": [
    "d, e 제거"
   ]
  },
  {
   "cell_type": "markdown",
   "id": "d8b90ff0",
   "metadata": {},
   "source": [
    "## c"
   ]
  },
  {
   "cell_type": "markdown",
   "id": "ae4b0ce9",
   "metadata": {},
   "source": [
    "##### 연결도 \n",
    "\n",
    "특정노드가 보유하고 있는 연결선의 개수"
   ]
  },
  {
   "cell_type": "code",
   "execution_count": 4,
   "id": "11ca8f2c",
   "metadata": {},
   "outputs": [
    {
     "name": "stdout",
     "output_type": "stream",
     "text": [
      "[('A', 2), ('B', 2), ('C', 3), ('D', 2), ('E', 1)]\n"
     ]
    }
   ],
   "source": [
    "print(G.degree())"
   ]
  },
  {
   "cell_type": "markdown",
   "id": "9de890af",
   "metadata": {},
   "source": [
    "2"
   ]
  },
  {
   "cell_type": "markdown",
   "id": "0d19b622",
   "metadata": {},
   "source": [
    "## d"
   ]
  },
  {
   "cell_type": "code",
   "execution_count": 5,
   "id": "0331eab1",
   "metadata": {},
   "outputs": [
    {
     "name": "stdout",
     "output_type": "stream",
     "text": [
      "[('A', 2), ('B', 2), ('C', 3), ('D', 2), ('E', 1)]\n"
     ]
    }
   ],
   "source": [
    "print(G.degree())"
   ]
  },
  {
   "cell_type": "markdown",
   "id": "74be0b76",
   "metadata": {},
   "source": [
    "E, 하나의 연결 보유 "
   ]
  },
  {
   "cell_type": "markdown",
   "id": "cac7e991",
   "metadata": {},
   "source": [
    "## e"
   ]
  },
  {
   "cell_type": "code",
   "execution_count": 6,
   "id": "99bbf89a",
   "metadata": {},
   "outputs": [],
   "source": [
    "# 연결도 분포를 표로 나타내기 -> 네트워크 측정측도 확인"
   ]
  },
  {
   "cell_type": "code",
   "execution_count": 7,
   "id": "82245fbb",
   "metadata": {},
   "outputs": [
    {
     "data": {
      "text/plain": [
       "[0, 1, 3, 1]"
      ]
     },
     "execution_count": 7,
     "metadata": {},
     "output_type": "execute_result"
    }
   ],
   "source": [
    "degreeCount = collections.Counter(d for node, d in G.degree())\n",
    "degreeDistribution = [0] * (1 + max(degreeCount))\n",
    "for degree, count in degreeCount.items():\n",
    "    degreeDistribution[degree] = count\n",
    "degreeDistribution"
   ]
  },
  {
   "cell_type": "code",
   "execution_count": 8,
   "id": "641e4dfd",
   "metadata": {},
   "outputs": [
    {
     "data": {
      "text/html": [
       "<div>\n",
       "<style scoped>\n",
       "    .dataframe tbody tr th:only-of-type {\n",
       "        vertical-align: middle;\n",
       "    }\n",
       "\n",
       "    .dataframe tbody tr th {\n",
       "        vertical-align: top;\n",
       "    }\n",
       "\n",
       "    .dataframe thead th {\n",
       "        text-align: right;\n",
       "    }\n",
       "</style>\n",
       "<table border=\"1\" class=\"dataframe\">\n",
       "  <thead>\n",
       "    <tr style=\"text-align: right;\">\n",
       "      <th></th>\n",
       "      <th>Degree</th>\n",
       "      <th>Frequency</th>\n",
       "    </tr>\n",
       "  </thead>\n",
       "  <tbody>\n",
       "    <tr>\n",
       "      <th>0</th>\n",
       "      <td>degree0</td>\n",
       "      <td>0</td>\n",
       "    </tr>\n",
       "    <tr>\n",
       "      <th>1</th>\n",
       "      <td>degree1</td>\n",
       "      <td>1</td>\n",
       "    </tr>\n",
       "    <tr>\n",
       "      <th>2</th>\n",
       "      <td>degree2</td>\n",
       "      <td>3</td>\n",
       "    </tr>\n",
       "    <tr>\n",
       "      <th>3</th>\n",
       "      <td>degree3</td>\n",
       "      <td>1</td>\n",
       "    </tr>\n",
       "  </tbody>\n",
       "</table>\n",
       "</div>"
      ],
      "text/plain": [
       "    Degree  Frequency\n",
       "0  degree0          0\n",
       "1  degree1          1\n",
       "2  degree2          3\n",
       "3  degree3          1"
      ]
     },
     "execution_count": 8,
     "metadata": {},
     "output_type": "execute_result"
    }
   ],
   "source": [
    "network_1 = pd.DataFrame({\"Degree\":[\"degree0\", \"degree1\", \"degree2\", \"degree3\"],\n",
    "                         \"Frequency\":degreeDistribution})\n",
    "network_1"
   ]
  },
  {
   "cell_type": "markdown",
   "id": "afb79789",
   "metadata": {},
   "source": [
    "## f"
   ]
  },
  {
   "cell_type": "markdown",
   "id": "44f9d191",
   "metadata": {},
   "source": [
    "네트워크가 연결되었다는 것은 모든 노드 간 경로가 존재한다는 의미"
   ]
  },
  {
   "cell_type": "markdown",
   "id": "7e18f41e",
   "metadata": {},
   "source": [
    "본 네트워크는 모두 연결되어 있다."
   ]
  },
  {
   "cell_type": "markdown",
   "id": "29377801",
   "metadata": {},
   "source": [
    "## g"
   ]
  },
  {
   "cell_type": "code",
   "execution_count": 9,
   "id": "785f3c60",
   "metadata": {},
   "outputs": [],
   "source": [
    "# the betweenness centrality for nodes A and C"
   ]
  },
  {
   "cell_type": "code",
   "execution_count": 10,
   "id": "b5501b4a",
   "metadata": {},
   "outputs": [
    {
     "name": "stdout",
     "output_type": "stream",
     "text": [
      "{'A': 0.0, 'B': 0.0, 'C': 0.6666666666666666, 'D': 0.5, 'E': 0.0}\n"
     ]
    }
   ],
   "source": [
    "print(nx.betweenness_centrality(G))"
   ]
  },
  {
   "cell_type": "markdown",
   "id": "7c221576",
   "metadata": {},
   "source": [
    "## h"
   ]
  },
  {
   "cell_type": "markdown",
   "id": "a99f15c1",
   "metadata": {},
   "source": [
    "위의 문제는 무방향 네트워크"
   ]
  },
  {
   "cell_type": "markdown",
   "id": "9b643e93",
   "metadata": {},
   "source": [
    "e/10"
   ]
  },
  {
   "cell_type": "code",
   "execution_count": 11,
   "id": "5e66562f",
   "metadata": {},
   "outputs": [
    {
     "data": {
      "text/plain": [
       "0.5"
      ]
     },
     "execution_count": 11,
     "metadata": {},
     "output_type": "execute_result"
    }
   ],
   "source": [
    "nx.density(G)"
   ]
  },
  {
   "cell_type": "markdown",
   "id": "04819b27",
   "metadata": {},
   "source": [
    "# 19.2 네트워크의 밀도와 크기"
   ]
  },
  {
   "cell_type": "markdown",
   "id": "6ba63884",
   "metadata": {},
   "source": [
    "## a"
   ]
  },
  {
   "cell_type": "markdown",
   "id": "ef7858f1",
   "metadata": {},
   "source": [
    "기존 5개 노드에 2개 추가이기에 0.4 증가"
   ]
  },
  {
   "cell_type": "markdown",
   "id": "01970144",
   "metadata": {},
   "source": [
    "## b"
   ]
  },
  {
   "cell_type": "markdown",
   "id": "e550c870",
   "metadata": {},
   "source": [
    "최단 경로 \n",
    "\n",
    "공통된 이웃의 개수 \n",
    "\n",
    "연결된 가중치 로 확인?"
   ]
  },
  {
   "cell_type": "markdown",
   "id": "db2b8cd2",
   "metadata": {},
   "source": [
    "## c"
   ]
  },
  {
   "cell_type": "code",
   "execution_count": null,
   "id": "a6488e1e",
   "metadata": {},
   "outputs": [],
   "source": []
  },
  {
   "cell_type": "markdown",
   "id": "4f6ff7c6",
   "metadata": {},
   "source": [
    "## d"
   ]
  },
  {
   "cell_type": "code",
   "execution_count": null,
   "id": "16c8a923",
   "metadata": {},
   "outputs": [],
   "source": []
  },
  {
   "cell_type": "markdown",
   "id": "b0ae84ce",
   "metadata": {},
   "source": [
    "## e"
   ]
  },
  {
   "cell_type": "code",
   "execution_count": 16,
   "id": "1da50a06",
   "metadata": {},
   "outputs": [
    {
     "data": {
      "text/html": [
       "<div>\n",
       "<style scoped>\n",
       "    .dataframe tbody tr th:only-of-type {\n",
       "        vertical-align: middle;\n",
       "    }\n",
       "\n",
       "    .dataframe tbody tr th {\n",
       "        vertical-align: top;\n",
       "    }\n",
       "\n",
       "    .dataframe thead th {\n",
       "        text-align: right;\n",
       "    }\n",
       "</style>\n",
       "<table border=\"1\" class=\"dataframe\">\n",
       "  <thead>\n",
       "    <tr style=\"text-align: right;\">\n",
       "      <th></th>\n",
       "      <th>from</th>\n",
       "      <th>to</th>\n",
       "    </tr>\n",
       "  </thead>\n",
       "  <tbody>\n",
       "    <tr>\n",
       "      <th>0</th>\n",
       "      <td>A</td>\n",
       "      <td>B</td>\n",
       "    </tr>\n",
       "    <tr>\n",
       "      <th>1</th>\n",
       "      <td>A</td>\n",
       "      <td>C</td>\n",
       "    </tr>\n",
       "    <tr>\n",
       "      <th>2</th>\n",
       "      <td>A</td>\n",
       "      <td>D</td>\n",
       "    </tr>\n",
       "    <tr>\n",
       "      <th>3</th>\n",
       "      <td>B</td>\n",
       "      <td>F</td>\n",
       "    </tr>\n",
       "    <tr>\n",
       "      <th>4</th>\n",
       "      <td>C</td>\n",
       "      <td>E</td>\n",
       "    </tr>\n",
       "    <tr>\n",
       "      <th>5</th>\n",
       "      <td>D</td>\n",
       "      <td>E</td>\n",
       "    </tr>\n",
       "    <tr>\n",
       "      <th>6</th>\n",
       "      <td>E</td>\n",
       "      <td>G</td>\n",
       "    </tr>\n",
       "    <tr>\n",
       "      <th>0</th>\n",
       "      <td>F</td>\n",
       "      <td>B</td>\n",
       "    </tr>\n",
       "    <tr>\n",
       "      <th>1</th>\n",
       "      <td>F</td>\n",
       "      <td>D</td>\n",
       "    </tr>\n",
       "    <tr>\n",
       "      <th>2</th>\n",
       "      <td>F</td>\n",
       "      <td>C</td>\n",
       "    </tr>\n",
       "    <tr>\n",
       "      <th>3</th>\n",
       "      <td>G</td>\n",
       "      <td>A</td>\n",
       "    </tr>\n",
       "    <tr>\n",
       "      <th>4</th>\n",
       "      <td>G</td>\n",
       "      <td>D</td>\n",
       "    </tr>\n",
       "  </tbody>\n",
       "</table>\n",
       "</div>"
      ],
      "text/plain": [
       "  from to\n",
       "0    A  B\n",
       "1    A  C\n",
       "2    A  D\n",
       "3    B  F\n",
       "4    C  E\n",
       "5    D  E\n",
       "6    E  G\n",
       "0    F  B\n",
       "1    F  D\n",
       "2    F  C\n",
       "3    G  A\n",
       "4    G  D"
      ]
     },
     "execution_count": 16,
     "metadata": {},
     "output_type": "execute_result"
    }
   ],
   "source": [
    "\n",
    "dF = pd.DataFrame([(\"F\", \"B\"), (\"F\", \"D\"), (\"F\", \"C\"), (\"G\", \"A\"), (\"G\", \"D\")], columns=[\"from\", \"to\"])\n",
    "df1 = pd.concat([df, dF], axis=0)\n",
    "df1\n"
   ]
  },
  {
   "cell_type": "code",
   "execution_count": 17,
   "id": "a1ecaba2",
   "metadata": {},
   "outputs": [
    {
     "data": {
      "image/png": "[encoded data removed]",
      "text/plain": [
       "<Figure size 432x288 with 1 Axes>"
      ]
     },
     "metadata": {},
     "output_type": "display_data"
    }
   ],
   "source": [
    "G = nx.from_pandas_edgelist(df1, \"from\", \"to\")\n",
    "nx.draw(G, with_labels=True, node_color=\"lightblue\", node_size=1600)\n",
    "plt.show()"
   ]
  },
  {
   "cell_type": "code",
   "execution_count": 19,
   "id": "6cd7fff6",
   "metadata": {},
   "outputs": [
    {
     "data": {
      "text/html": [
       "<div>\n",
       "<style scoped>\n",
       "    .dataframe tbody tr th:only-of-type {\n",
       "        vertical-align: middle;\n",
       "    }\n",
       "\n",
       "    .dataframe tbody tr th {\n",
       "        vertical-align: top;\n",
       "    }\n",
       "\n",
       "    .dataframe thead th {\n",
       "        text-align: right;\n",
       "    }\n",
       "</style>\n",
       "<table border=\"1\" class=\"dataframe\">\n",
       "  <thead>\n",
       "    <tr style=\"text-align: right;\">\n",
       "      <th></th>\n",
       "      <th>Degree</th>\n",
       "      <th>Frequency</th>\n",
       "    </tr>\n",
       "  </thead>\n",
       "  <tbody>\n",
       "    <tr>\n",
       "      <th>0</th>\n",
       "      <td>degree0</td>\n",
       "      <td>0</td>\n",
       "    </tr>\n",
       "    <tr>\n",
       "      <th>1</th>\n",
       "      <td>degree1</td>\n",
       "      <td>0</td>\n",
       "    </tr>\n",
       "    <tr>\n",
       "      <th>2</th>\n",
       "      <td>degree2</td>\n",
       "      <td>1</td>\n",
       "    </tr>\n",
       "    <tr>\n",
       "      <th>3</th>\n",
       "      <td>degree3</td>\n",
       "      <td>4</td>\n",
       "    </tr>\n",
       "    <tr>\n",
       "      <th>4</th>\n",
       "      <td>degree4</td>\n",
       "      <td>2</td>\n",
       "    </tr>\n",
       "  </tbody>\n",
       "</table>\n",
       "</div>"
      ],
      "text/plain": [
       "    Degree  Frequency\n",
       "0  degree0          0\n",
       "1  degree1          0\n",
       "2  degree2          1\n",
       "3  degree3          4\n",
       "4  degree4          2"
      ]
     },
     "execution_count": 19,
     "metadata": {},
     "output_type": "execute_result"
    }
   ],
   "source": [
    "degreeCount1 = collections.Counter(d for node, d in G.degree())\n",
    "degreeDistribution1 = [0]* (1+max(degreeCount1))\n",
    "\n",
    "for degree, count in degreeCount1.items():\n",
    "    degreeDistribution1[degree] = count\n",
    "    \n",
    "degreeDistribution_df1 = pd.DataFrame({'Degree':[\"degree0\", \"degree1\", \"degree2\", \"degree3\", \"degree4\"],\n",
    " \"Frequency\": degreeDistribution1})\n",
    "\n",
    "degreeDistribution_df1"
   ]
  },
  {
   "cell_type": "markdown",
   "id": "3fe0ee8e",
   "metadata": {},
   "source": [
    "# 19.3 연결선 예측"
   ]
  },
  {
   "cell_type": "code",
   "execution_count": 13,
   "id": "8ecb1be0",
   "metadata": {},
   "outputs": [
    {
     "data": {
      "text/html": [
       "<div>\n",
       "<style scoped>\n",
       "    .dataframe tbody tr th:only-of-type {\n",
       "        vertical-align: middle;\n",
       "    }\n",
       "\n",
       "    .dataframe tbody tr th {\n",
       "        vertical-align: top;\n",
       "    }\n",
       "\n",
       "    .dataframe thead th {\n",
       "        text-align: right;\n",
       "    }\n",
       "</style>\n",
       "<table border=\"1\" class=\"dataframe\">\n",
       "  <thead>\n",
       "    <tr style=\"text-align: right;\">\n",
       "      <th></th>\n",
       "      <th>from</th>\n",
       "      <th>to</th>\n",
       "    </tr>\n",
       "  </thead>\n",
       "  <tbody>\n",
       "    <tr>\n",
       "      <th>0</th>\n",
       "      <td>A</td>\n",
       "      <td>B</td>\n",
       "    </tr>\n",
       "    <tr>\n",
       "      <th>1</th>\n",
       "      <td>A</td>\n",
       "      <td>C</td>\n",
       "    </tr>\n",
       "    <tr>\n",
       "      <th>2</th>\n",
       "      <td>A</td>\n",
       "      <td>D</td>\n",
       "    </tr>\n",
       "    <tr>\n",
       "      <th>3</th>\n",
       "      <td>B</td>\n",
       "      <td>F</td>\n",
       "    </tr>\n",
       "    <tr>\n",
       "      <th>4</th>\n",
       "      <td>C</td>\n",
       "      <td>E</td>\n",
       "    </tr>\n",
       "    <tr>\n",
       "      <th>5</th>\n",
       "      <td>D</td>\n",
       "      <td>E</td>\n",
       "    </tr>\n",
       "    <tr>\n",
       "      <th>6</th>\n",
       "      <td>E</td>\n",
       "      <td>G</td>\n",
       "    </tr>\n",
       "  </tbody>\n",
       "</table>\n",
       "</div>"
      ],
      "text/plain": [
       "  from to\n",
       "0    A  B\n",
       "1    A  C\n",
       "2    A  D\n",
       "3    B  F\n",
       "4    C  E\n",
       "5    D  E\n",
       "6    E  G"
      ]
     },
     "execution_count": 13,
     "metadata": {},
     "output_type": "execute_result"
    }
   ],
   "source": [
    "df = pd.DataFrame([(\"A\", \"B\"), (\"A\", \"C\"), (\"A\", \"D\"), (\"B\", \"F\"),\n",
    " ('C', \"E\"), (\"D\", \"E\"), (\"E\", \"G\")], columns=[\"from\", \"to\"])\n",
    "df"
   ]
  },
  {
   "cell_type": "code",
   "execution_count": 14,
   "id": "87bbbd43",
   "metadata": {},
   "outputs": [
    {
     "data": {
      "image/png": "[encoded data removed]",
      "text/plain": [
       "<Figure size 432x288 with 1 Axes>"
      ]
     },
     "metadata": {},
     "output_type": "display_data"
    }
   ],
   "source": [
    "G = nx.from_pandas_edgelist(df, \"from\", \"to\")\n",
    "nx.draw(G, with_labels=True, node_color=\"lightblue\", node_size=1600)\n",
    "plt.show()"
   ]
  },
  {
   "cell_type": "markdown",
   "id": "819dd4de",
   "metadata": {},
   "source": [
    "## a"
   ]
  },
  {
   "cell_type": "code",
   "execution_count": 15,
   "id": "5aa49eca",
   "metadata": {},
   "outputs": [
    {
     "name": "stdout",
     "output_type": "stream",
     "text": [
      "pair D - B : 1.500000\n",
      "pair D - G : 1.500000\n",
      "pair D - C : 2.300000\n",
      "pair D - F : 0.466667\n",
      "pair B - C : 1.500000\n",
      "pair B - E : 0.466667\n",
      "pair B - G : 0.350000\n",
      "pair C - G : 1.500000\n",
      "pair C - F : 0.466667\n",
      "pair E - A : 2.300000\n",
      "pair E - F : 0.350000\n",
      "pair G - A : 0.466667\n",
      "pair G - F : 0.280000\n",
      "pair F - A : 1.500000\n"
     ]
    }
   ],
   "source": [
    "neighbors_score = nx.common_neighbor_centrality(G , ebunch=None, alpha=0.8)\n",
    "\n",
    "for u, v, p in neighbors_score: \n",
    "    print(\"pair %s - %s : %f\" %(u, v, p))"
   ]
  }
 ],
 "metadata": {
  "kernelspec": {
   "display_name": "Python 3 (ipykernel)",
   "language": "python",
   "name": "python3"
  },
  "language_info": {
   "codemirror_mode": {
    "name": "ipython",
    "version": 3
   },
   "file_extension": ".py",
   "mimetype": "text/x-python",
   "name": "python",
   "nbconvert_exporter": "python",
   "pygments_lexer": "ipython3",
   "version": "3.9.12"
  }
 },
 "nbformat": 4,
 "nbformat_minor": 5
}
