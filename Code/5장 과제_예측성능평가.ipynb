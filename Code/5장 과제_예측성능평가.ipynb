{
 "cells": [
  {
   "cell_type": "markdown",
   "id": "4195ffe0",
   "metadata": {},
   "source": [
    "## 5.1\n",
    "거래 데이터세트에 데이터마이닝 과정이 적용됨. 88개의 레코드들을 사기라고 분류 & 952개를 비사기라 분류. 정오행렬을 작성하고 전체적인 오차율 계산 "
   ]
  },
  {
   "cell_type": "code",
   "execution_count": 8,
   "id": "68fca95c",
   "metadata": {},
   "outputs": [
    {
     "name": "stdout",
     "output_type": "stream",
     "text": [
      "Requirement already satisfied: numpy in c:\\users\\ajm10\\anaconda3\\lib\\site-packages (1.20.3)\n",
      "Requirement already satisfied: dmba in c:\\users\\ajm10\\anaconda3\\lib\\site-packages (0.1.0)\n"
     ]
    }
   ],
   "source": [
    "! pip install numpy\n",
    "! pip install dmba"
   ]
  },
  {
   "cell_type": "code",
   "execution_count": 10,
   "id": "60b992fa",
   "metadata": {},
   "outputs": [],
   "source": [
    "import math\n",
    "import pandas as pd\n",
    "from sklearn.model_selection import train_test_split\n",
    "from sklearn.linear_model import LinearRegression\n",
    "from sklearn.metrics import accuracy_score, roc_curve, auc\n",
    "import matplotlib.pylab as plt\n",
    "from dmba import regressionSummary, classificationSummary \n",
    "from dmba import liftChart, gainsChart"
   ]
  },
  {
   "cell_type": "code",
   "execution_count": 11,
   "id": "b2d66213",
   "metadata": {},
   "outputs": [],
   "source": [
    "import numpy as np\n",
    "import pandas as pd #기본 자료구조 : Series, DataFrame"
   ]
  },
  {
   "cell_type": "code",
   "execution_count": 12,
   "id": "ce5de67b",
   "metadata": {},
   "outputs": [
    {
     "data": {
      "text/html": [
       "<div>\n",
       "<style scoped>\n",
       "    .dataframe tbody tr th:only-of-type {\n",
       "        vertical-align: middle;\n",
       "    }\n",
       "\n",
       "    .dataframe tbody tr th {\n",
       "        vertical-align: top;\n",
       "    }\n",
       "\n",
       "    .dataframe thead th {\n",
       "        text-align: right;\n",
       "    }\n",
       "</style>\n",
       "<table border=\"1\" class=\"dataframe\">\n",
       "  <thead>\n",
       "    <tr style=\"text-align: right;\">\n",
       "      <th></th>\n",
       "      <th>real_class_0</th>\n",
       "      <th>real_class_1</th>\n",
       "    </tr>\n",
       "  </thead>\n",
       "  <tbody>\n",
       "    <tr>\n",
       "      <th>0</th>\n",
       "      <td>30</td>\n",
       "      <td>58</td>\n",
       "    </tr>\n",
       "    <tr>\n",
       "      <th>1</th>\n",
       "      <td>32</td>\n",
       "      <td>920</td>\n",
       "    </tr>\n",
       "  </tbody>\n",
       "</table>\n",
       "</div>"
      ],
      "text/plain": [
       "   real_class_0  real_class_1\n",
       "0            30            58\n",
       "1            32           920"
      ]
     },
     "execution_count": 12,
     "metadata": {},
     "output_type": "execute_result"
    }
   ],
   "source": [
    "data = {'real_class_0': [30, 32], 'real_class_1':[58, 920]} \n",
    "df = pd.DataFrame(data) ##첫번째 열의 0과 1은 predict class\n",
    "df ##정오행렬"
   ]
  },
  {
   "cell_type": "code",
   "execution_count": 13,
   "id": "c67636f0",
   "metadata": {},
   "outputs": [
    {
     "data": {
      "text/plain": [
       "0.08653846153846154"
      ]
     },
     "execution_count": 13,
     "metadata": {},
     "output_type": "execute_result"
    }
   ],
   "source": [
    "err = (58+32)/(df['real_class_0'].sum() +df['real_class_1'].sum()) ##sum을 이용해서 구한 것은 총 관측값의 합\n",
    "err ##오차율"
   ]
  },
  {
   "cell_type": "markdown",
   "id": "44c85cd2",
   "metadata": {},
   "source": [
    "## 5.2\n",
    "사기라고 분류된 레코들의 비율을 변경할 수 있는 조정가능한 컷오프 매커니즘이 있음. 컷오프 값을 올리거나 내리면 어떤 효과?"
   ]
  },
  {
   "cell_type": "code",
   "execution_count": 14,
   "id": "cc8603e4",
   "metadata": {},
   "outputs": [],
   "source": [
    "## 임계값 = 컷오프"
   ]
  },
  {
   "cell_type": "code",
   "execution_count": 15,
   "id": "ee3c9a72",
   "metadata": {},
   "outputs": [],
   "source": [
    "## 많은 경우에 하나의 클래스에 특히 관심을 갖기 때문에 특정 클래스에 초점을 두고 클래스에 속할 추정 확률값을 컷오프값과 비교함\n",
    "## 클래스들을 통합하여 관심있는 클래스와 나머지 모든 클래스으 두개의 클래스로 병합하는 것이 합당"
   ]
  },
  {
   "cell_type": "markdown",
   "id": "3100466e",
   "metadata": {},
   "source": [
    "#### a\n",
    "정말 사기인 레코드에 대한 분류 오차율"
   ]
  },
  {
   "cell_type": "markdown",
   "id": "4013c389",
   "metadata": {},
   "source": [
    "이럴경우에 컷오프값이 점점 커질수록 적은 레코드를 사기로 분류하며 오분류율은 감소한다.?"
   ]
  },
  {
   "cell_type": "markdown",
   "id": "3556f9eb",
   "metadata": {},
   "source": [
    "#### b\n",
    "정말 비사기인 레코드에 대한 분류 오차율 "
   ]
  },
  {
   "cell_type": "markdown",
   "id": "ef89841c",
   "metadata": {},
   "source": [
    " 컷오프값이 점점 작아질수록 적은 레코드를 비사기로 분류하며 오분류율은 감소한다."
   ]
  },
  {
   "cell_type": "markdown",
   "id": "c07ced18",
   "metadata": {},
   "source": [
    "## 5.3\n",
    "이 회사는 기계학습과 데이터마이닝 기법들을 사용해 고객들을 위한 법안이 미국 의회와 주 의회를 통과할지 여부를 예측하고 있다 . 이 회사는 94%의 정확도를 보고한다. "
   ]
  },
  {
   "cell_type": "code",
   "execution_count": 16,
   "id": "989a5f15",
   "metadata": {},
   "outputs": [],
   "source": [
    "#미국 의회에서 제기된 법안만을 고려해 인터넷 조사를 해서 제기된 법안의 수와 통과율을 알아봐라."
   ]
  },
  {
   "cell_type": "code",
   "execution_count": 17,
   "id": "2bd68c35",
   "metadata": {},
   "outputs": [],
   "source": [
    "#가능한 오분류의 유형을 규정하고 측도로서 전체적인 정확도를 사용하는 것에 대한 의견을 개진하시오."
   ]
  },
  {
   "cell_type": "code",
   "execution_count": 18,
   "id": "83b72c53",
   "metadata": {},
   "outputs": [],
   "source": [
    "#다른 가능한 측도들과 경향의 잠재적인 역할에 대한 논의를 포함하시오."
   ]
  },
  {
   "cell_type": "markdown",
   "id": "e92a1cb5",
   "metadata": {},
   "source": [
    "## 5.4 \n",
    "새로운 데이터에 적용된 거래 데이터 모델에 대한 십분위 향상차트"
   ]
  },
  {
   "cell_type": "markdown",
   "id": "102015dd",
   "metadata": {},
   "source": [
    "#### a"
   ]
  },
  {
   "cell_type": "code",
   "execution_count": 19,
   "id": "5c42d1f8",
   "metadata": {},
   "outputs": [],
   "source": [
    "# y축 상의 막대기들은 한 번에 십분위 하나씩 취하면서 우리 모델이 0과 1을 임의로 배정하는 것보다 잘하는 정도를 보여준다."
   ]
  },
  {
   "cell_type": "markdown",
   "id": "0c9e2b8d",
   "metadata": {},
   "source": [
    "경향이 가장 커서 가장 1이 될 가능성이 높다고 랭크된 레코드들의 10%를 취하면 10%의 레코드들을 임의로 선택하는 것보다\n",
    "6배 많은 1을 얻을 수 있음을 알 수 있다. 또한 상위 20%의 레코드들을 이 모델을 사용하여 선택해도 여전히 임의로 하는 것보다 3배 좋은 성능을 냄을 시사한다."
   ]
  },
  {
   "cell_type": "markdown",
   "id": "47f5f32a",
   "metadata": {},
   "source": [
    "#### b"
   ]
  },
  {
   "cell_type": "markdown",
   "id": "17b75475",
   "metadata": {},
   "source": [
    "무작위로 사람을 고르지 않고 첫번째 막대나 두번째 막대와 같이 응답률이 높은 사람들 중에서 택한다면 더 좋은 성능을 보인다."
   ]
  },
  {
   "cell_type": "markdown",
   "id": "66b19a6f",
   "metadata": {},
   "source": [
    "#### c"
   ]
  },
  {
   "cell_type": "markdown",
   "id": "00075f11",
   "metadata": {},
   "source": [
    "모든 것을 비사기로 분류한다면 오차율은 감소하고 결과적으로 모델의 정확도는 커져서 개선할 수 있다고 말할 수 있다."
   ]
  },
  {
   "cell_type": "markdown",
   "id": "226a10d2",
   "metadata": {},
   "source": [
    "#### d"
   ]
  },
  {
   "cell_type": "markdown",
   "id": "8b063e2a",
   "metadata": {},
   "source": [
    "십분위 차트를 통해 확인해보면 상위레코드들의 향상정도가 뚜렷하기 때문에 해당 모델 성능을 보여주기에 적합하다. a번에서 오차율에 관해 서술하고 있고 실제 데이터에 맞게 구분하는지 나타나기 때문에 모델 성능을 보여주기에 적합하다고 볼 수 있다."
   ]
  },
  {
   "cell_type": "markdown",
   "id": "dd6ca7f9",
   "metadata": {},
   "source": [
    "## 5.5"
   ]
  },
  {
   "cell_type": "markdown",
   "id": "69a85004",
   "metadata": {},
   "source": [
    "#### a"
   ]
  },
  {
   "cell_type": "code",
   "execution_count": 57,
   "id": "b30be372",
   "metadata": {},
   "outputs": [
    {
     "data": {
      "text/html": [
       "<div>\n",
       "<style scoped>\n",
       "    .dataframe tbody tr th:only-of-type {\n",
       "        vertical-align: middle;\n",
       "    }\n",
       "\n",
       "    .dataframe tbody tr th {\n",
       "        vertical-align: top;\n",
       "    }\n",
       "\n",
       "    .dataframe thead th {\n",
       "        text-align: right;\n",
       "    }\n",
       "</style>\n",
       "<table border=\"1\" class=\"dataframe\">\n",
       "  <thead>\n",
       "    <tr style=\"text-align: right;\">\n",
       "      <th></th>\n",
       "      <th>0</th>\n",
       "      <th>1</th>\n",
       "    </tr>\n",
       "  </thead>\n",
       "  <tbody>\n",
       "    <tr>\n",
       "      <th>0</th>\n",
       "      <td>270</td>\n",
       "      <td>90</td>\n",
       "    </tr>\n",
       "    <tr>\n",
       "      <th>1</th>\n",
       "      <td>130</td>\n",
       "      <td>310</td>\n",
       "    </tr>\n",
       "  </tbody>\n",
       "</table>\n",
       "</div>"
      ],
      "text/plain": [
       "     0    1\n",
       "0  270   90\n",
       "1  130  310"
      ]
     },
     "execution_count": 57,
     "metadata": {},
     "output_type": "execute_result"
    }
   ],
   "source": [
    "data2 = {'0': [270, 130], '1':[90, 310]} #0은 비사기\n",
    "df2 = pd.DataFrame(data2) \n",
    "df2 ##정오행렬"
   ]
  },
  {
   "cell_type": "code",
   "execution_count": 58,
   "id": "d7c2bdd7",
   "metadata": {},
   "outputs": [
    {
     "data": {
      "text/plain": [
       "0.275"
      ]
     },
     "execution_count": 58,
     "metadata": {},
     "output_type": "execute_result"
    }
   ],
   "source": [
    "err=220/800 #오분류율\n",
    "err"
   ]
  },
  {
   "cell_type": "markdown",
   "id": "6d757d7c",
   "metadata": {},
   "source": [
    "#### b"
   ]
  },
  {
   "cell_type": "code",
   "execution_count": 51,
   "id": "6774b8f2",
   "metadata": {},
   "outputs": [],
   "source": [
    "k=round(50/99,4)"
   ]
  },
  {
   "cell_type": "code",
   "execution_count": 59,
   "id": "ad04498d",
   "metadata": {},
   "outputs": [
    {
     "data": {
      "text/html": [
       "<div>\n",
       "<style scoped>\n",
       "    .dataframe tbody tr th:only-of-type {\n",
       "        vertical-align: middle;\n",
       "    }\n",
       "\n",
       "    .dataframe tbody tr th {\n",
       "        vertical-align: top;\n",
       "    }\n",
       "\n",
       "    .dataframe thead th {\n",
       "        text-align: right;\n",
       "    }\n",
       "</style>\n",
       "<table border=\"1\" class=\"dataframe\">\n",
       "  <thead>\n",
       "    <tr style=\"text-align: right;\">\n",
       "      <th></th>\n",
       "      <th>0</th>\n",
       "      <th>1</th>\n",
       "    </tr>\n",
       "  </thead>\n",
       "  <tbody>\n",
       "    <tr>\n",
       "      <th>0</th>\n",
       "      <td>534.5476</td>\n",
       "      <td>1.8</td>\n",
       "    </tr>\n",
       "    <tr>\n",
       "      <th>1</th>\n",
       "      <td>257.3748</td>\n",
       "      <td>6.2</td>\n",
       "    </tr>\n",
       "  </tbody>\n",
       "</table>\n",
       "</div>"
      ],
      "text/plain": [
       "          0    1\n",
       "0  534.5476  1.8\n",
       "1  257.3748  6.2"
      ]
     },
     "execution_count": 59,
     "metadata": {},
     "output_type": "execute_result"
    }
   ],
   "source": [
    "data2 = {'0': [round(270/k,4), round(130/k,4)], '1':[90/50, 310/50]} \n",
    "df2 = pd.DataFrame(data2) \n",
    "df2 ##정오행렬"
   ]
  },
  {
   "cell_type": "code",
   "execution_count": 60,
   "id": "b365e297",
   "metadata": {},
   "outputs": [
    {
     "data": {
      "text/plain": [
       "800"
      ]
     },
     "execution_count": 60,
     "metadata": {},
     "output_type": "execute_result"
    }
   ],
   "source": [
    "round(df2['0'].sum()+df2['1'].sum())"
   ]
  },
  {
   "cell_type": "code",
   "execution_count": 61,
   "id": "bc35e886",
   "metadata": {},
   "outputs": [
    {
     "data": {
      "text/plain": [
       "0.3239685"
      ]
     },
     "execution_count": 61,
     "metadata": {},
     "output_type": "execute_result"
    }
   ],
   "source": [
    "err2=(round(130/k,4)+1.8)/800 #오분류율\n",
    "err2"
   ]
  },
  {
   "cell_type": "markdown",
   "id": "445f971f",
   "metadata": {},
   "source": [
    "#### c"
   ]
  },
  {
   "cell_type": "code",
   "execution_count": 62,
   "id": "92c9f826",
   "metadata": {},
   "outputs": [
    {
     "data": {
      "text/plain": [
       "0.3294685"
      ]
     },
     "execution_count": 62,
     "metadata": {},
     "output_type": "execute_result"
    }
   ],
   "source": [
    "(257.3748+6.2)/800"
   ]
  },
  {
   "cell_type": "markdown",
   "id": "543fc54f",
   "metadata": {},
   "source": [
    "## 5.6"
   ]
  },
  {
   "cell_type": "markdown",
   "id": "8eebbaec",
   "metadata": {},
   "source": [
    "#### a"
   ]
  },
  {
   "cell_type": "code",
   "execution_count": 1,
   "id": "e89501f6",
   "metadata": {},
   "outputs": [
    {
     "data": {
      "text/plain": [
       "2500000"
      ]
     },
     "execution_count": 1,
     "metadata": {},
     "output_type": "execute_result"
    }
   ],
   "source": [
    "## 평균 * 총 사람 수 = 전체 수익 \n",
    "2500*1000"
   ]
  },
  {
   "cell_type": "markdown",
   "id": "a7fc24e9",
   "metadata": {},
   "source": [
    "#### b"
   ]
  },
  {
   "cell_type": "markdown",
   "id": "6cd807dc",
   "metadata": {},
   "source": [
    "십분위 차트를 통해 상위 10%에 해당된는 것을 진행해야 한다."
   ]
  },
  {
   "cell_type": "markdown",
   "id": "9ae0e8ac",
   "metadata": {},
   "source": [
    "#### c"
   ]
  },
  {
   "cell_type": "markdown",
   "id": "1285f2ed",
   "metadata": {},
   "source": [
    "컷오프값이 낮아지면 오차율은 커진다. 따라서 상위 10%에 해당되는 것을 진행해야한다."
   ]
  },
  {
   "cell_type": "markdown",
   "id": "0c51935b",
   "metadata": {},
   "source": [
    "d"
   ]
  },
  {
   "cell_type": "markdown",
   "id": "037d8514",
   "metadata": {},
   "source": [
    "올바른 분류와 잘못된 분류의 이득과 비용이 알려져 있거나 추정될 수 있을때, 향상차트는 유용한 시각화와 결정도구이기 때문이다.\n",
    "\n",
    "\n"
   ]
  },
  {
   "cell_type": "markdown",
   "id": "893f65f1",
   "metadata": {},
   "source": [
    "## 5.7"
   ]
  },
  {
   "cell_type": "markdown",
   "id": "0885f0e5",
   "metadata": {},
   "source": [
    "#### a"
   ]
  },
  {
   "cell_type": "code",
   "execution_count": 69,
   "id": "265e78bd",
   "metadata": {},
   "outputs": [
    {
     "data": {
      "text/html": [
       "<div>\n",
       "<style scoped>\n",
       "    .dataframe tbody tr th:only-of-type {\n",
       "        vertical-align: middle;\n",
       "    }\n",
       "\n",
       "    .dataframe tbody tr th {\n",
       "        vertical-align: top;\n",
       "    }\n",
       "\n",
       "    .dataframe thead th {\n",
       "        text-align: right;\n",
       "    }\n",
       "</style>\n",
       "<table border=\"1\" class=\"dataframe\">\n",
       "  <thead>\n",
       "    <tr style=\"text-align: right;\">\n",
       "      <th></th>\n",
       "      <th>real</th>\n",
       "      <th>p</th>\n",
       "    </tr>\n",
       "  </thead>\n",
       "  <tbody>\n",
       "    <tr>\n",
       "      <th>0</th>\n",
       "      <td>0</td>\n",
       "      <td>0.03</td>\n",
       "    </tr>\n",
       "    <tr>\n",
       "      <th>1</th>\n",
       "      <td>0</td>\n",
       "      <td>0.52</td>\n",
       "    </tr>\n",
       "    <tr>\n",
       "      <th>2</th>\n",
       "      <td>0</td>\n",
       "      <td>0.38</td>\n",
       "    </tr>\n",
       "    <tr>\n",
       "      <th>3</th>\n",
       "      <td>1</td>\n",
       "      <td>0.85</td>\n",
       "    </tr>\n",
       "    <tr>\n",
       "      <th>4</th>\n",
       "      <td>0</td>\n",
       "      <td>0.33</td>\n",
       "    </tr>\n",
       "    <tr>\n",
       "      <th>5</th>\n",
       "      <td>0</td>\n",
       "      <td>0.42</td>\n",
       "    </tr>\n",
       "    <tr>\n",
       "      <th>6</th>\n",
       "      <td>1</td>\n",
       "      <td>0.55</td>\n",
       "    </tr>\n",
       "    <tr>\n",
       "      <th>7</th>\n",
       "      <td>0</td>\n",
       "      <td>0.29</td>\n",
       "    </tr>\n",
       "    <tr>\n",
       "      <th>8</th>\n",
       "      <td>0</td>\n",
       "      <td>0.09</td>\n",
       "    </tr>\n",
       "    <tr>\n",
       "      <th>9</th>\n",
       "      <td>0</td>\n",
       "      <td>0.21</td>\n",
       "    </tr>\n",
       "    <tr>\n",
       "      <th>10</th>\n",
       "      <td>0</td>\n",
       "      <td>0.43</td>\n",
       "    </tr>\n",
       "    <tr>\n",
       "      <th>11</th>\n",
       "      <td>0</td>\n",
       "      <td>0.04</td>\n",
       "    </tr>\n",
       "    <tr>\n",
       "      <th>12</th>\n",
       "      <td>0</td>\n",
       "      <td>0.08</td>\n",
       "    </tr>\n",
       "    <tr>\n",
       "      <th>13</th>\n",
       "      <td>0</td>\n",
       "      <td>0.13</td>\n",
       "    </tr>\n",
       "    <tr>\n",
       "      <th>14</th>\n",
       "      <td>0</td>\n",
       "      <td>0.01</td>\n",
       "    </tr>\n",
       "    <tr>\n",
       "      <th>15</th>\n",
       "      <td>1</td>\n",
       "      <td>0.79</td>\n",
       "    </tr>\n",
       "    <tr>\n",
       "      <th>16</th>\n",
       "      <td>0</td>\n",
       "      <td>0.42</td>\n",
       "    </tr>\n",
       "    <tr>\n",
       "      <th>17</th>\n",
       "      <td>0</td>\n",
       "      <td>0.29</td>\n",
       "    </tr>\n",
       "    <tr>\n",
       "      <th>18</th>\n",
       "      <td>0</td>\n",
       "      <td>0.08</td>\n",
       "    </tr>\n",
       "    <tr>\n",
       "      <th>19</th>\n",
       "      <td>0</td>\n",
       "      <td>0.02</td>\n",
       "    </tr>\n",
       "  </tbody>\n",
       "</table>\n",
       "</div>"
      ],
      "text/plain": [
       "    real     p\n",
       "0      0  0.03\n",
       "1      0  0.52\n",
       "2      0  0.38\n",
       "3      1  0.85\n",
       "4      0  0.33\n",
       "5      0  0.42\n",
       "6      1  0.55\n",
       "7      0  0.29\n",
       "8      0  0.09\n",
       "9      0  0.21\n",
       "10     0  0.43\n",
       "11     0  0.04\n",
       "12     0  0.08\n",
       "13     0  0.13\n",
       "14     0  0.01\n",
       "15     1  0.79\n",
       "16     0  0.42\n",
       "17     0  0.29\n",
       "18     0  0.08\n",
       "19     0  0.02"
      ]
     },
     "execution_count": 69,
     "metadata": {},
     "output_type": "execute_result"
    }
   ],
   "source": [
    "data4 = {'real':[0, 0, 0, 1, 0, 0, 1, 0, 0, 0, 0, 0, 0, 0, 0, 1, 0, 0, 0, 0],\n",
    "        'p':[0.03, 0.52, 0.38, 0.85, 0.33, 0.42, 0.55, 0.29, 0.09, 0.21, 0.43, 0.04, 0.08, 0.13, 0.01, 0.79, 0.42, 0.29, 0.08, 0.02],} \n",
    "df4 = pd.DataFrame(data4) ##첫번째 열의 0과 1은 predict class\n",
    "df4 ##정오행렬"
   ]
  },
  {
   "cell_type": "code",
   "execution_count": 70,
   "id": "685254a4",
   "metadata": {},
   "outputs": [
    {
     "name": "stdout",
     "output_type": "stream",
     "text": [
      "Confusion Matrix (Accuracy 0.6000)\n",
      "\n",
      "       Prediction\n",
      "Actual zero  one\n",
      "  zero    9    8\n",
      "   one    0    3\n"
     ]
    }
   ],
   "source": [
    "## cut off = 0.25\n",
    "predicted = [1 if p > 0.25 else 0 for p in df4.p]\n",
    "classificationSummary(df4.real, predicted, class_names=['zero', 'one'])"
   ]
  },
  {
   "cell_type": "code",
   "execution_count": 71,
   "id": "49133afe",
   "metadata": {},
   "outputs": [
    {
     "name": "stdout",
     "output_type": "stream",
     "text": [
      "cut off=0.25일때, \n",
      "오차율:  0.4 \n",
      "민감도:  0.5294117647058824 \n",
      "특이도:  1.0\n"
     ]
    }
   ],
   "source": [
    "err=8/20\n",
    "sensi=9/17\n",
    "spec=3/3\n",
    "print(\"cut off=0.25일때, \\n오차율: \", err, \"\\n민감도: \", sensi,\"\\n특이도: \", spec)"
   ]
  },
  {
   "cell_type": "code",
   "execution_count": 72,
   "id": "dee4e4be",
   "metadata": {},
   "outputs": [
    {
     "name": "stdout",
     "output_type": "stream",
     "text": [
      "Confusion Matrix (Accuracy 0.9500)\n",
      "\n",
      "       Prediction\n",
      "Actual zero  one\n",
      "  zero   16    1\n",
      "   one    0    3\n"
     ]
    }
   ],
   "source": [
    "## cut off = 0.5\n",
    "predicted = [1 if p > 0.5 else 0 for p in df4.p]\n",
    "classificationSummary(df4.real, predicted, class_names=['zero', 'one'])"
   ]
  },
  {
   "cell_type": "code",
   "execution_count": 73,
   "id": "4d3cf0ad",
   "metadata": {},
   "outputs": [
    {
     "name": "stdout",
     "output_type": "stream",
     "text": [
      "cut off=0.5일때, \n",
      "오차율:  0.05 \n",
      "민감도:  0.9411764705882353 \n",
      "특이도:  1.0\n"
     ]
    }
   ],
   "source": [
    "err=1/20\n",
    "sensi=16/17\n",
    "spec=3/3\n",
    "print(\"cut off=0.5일때, \\n오차율: \", err, \"\\n민감도: \", sensi,\"\\n특이도: \", spec)"
   ]
  },
  {
   "cell_type": "code",
   "execution_count": 74,
   "id": "07785402",
   "metadata": {},
   "outputs": [
    {
     "name": "stdout",
     "output_type": "stream",
     "text": [
      "Confusion Matrix (Accuracy 0.9500)\n",
      "\n",
      "       Prediction\n",
      "Actual zero  one\n",
      "  zero   17    0\n",
      "   one    1    2\n"
     ]
    }
   ],
   "source": [
    "## cut off = 0.75\n",
    "predicted = [1 if p > 0.75 else 0 for p in df4.p]\n",
    "classificationSummary(df4.real, predicted, class_names=['zero', 'one'])"
   ]
  },
  {
   "cell_type": "code",
   "execution_count": 75,
   "id": "a7dbed85",
   "metadata": {},
   "outputs": [
    {
     "name": "stdout",
     "output_type": "stream",
     "text": [
      "cut off=0.5일때, \n",
      "오차율:  0.05 \n",
      "민감도:  1.0 \n",
      "특이도:  0.6666666666666666\n"
     ]
    }
   ],
   "source": [
    "err=1/20\n",
    "sensi=17/17\n",
    "spec=2/3\n",
    "print(\"cut off=0.5일때, \\n오차율: \", err, \"\\n민감도: \", sensi,\"\\n특이도: \", spec)"
   ]
  },
  {
   "cell_type": "markdown",
   "id": "11214faa",
   "metadata": {},
   "source": [
    "#### b"
   ]
  },
  {
   "cell_type": "code",
   "execution_count": 76,
   "id": "bcca1bc8",
   "metadata": {},
   "outputs": [
    {
     "data": {
      "text/plain": [
       "<AxesSubplot:title={'center':'Decile Lift Chart'}, xlabel='Percentile', ylabel='Lift'>"
      ]
     },
     "execution_count": 76,
     "metadata": {},
     "output_type": "execute_result"
    },
    {
     "data": {
      "image/png": "[encoded data removed]",
      "text/plain": [
       "<Figure size 432x288 with 1 Axes>"
      ]
     },
     "metadata": {
      "needs_background": "light"
     },
     "output_type": "display_data"
    }
   ],
   "source": [
    "df4=df4.sort_values(by=['p'], ascending=False)\n",
    "liftChart(df4.real)"
   ]
  },
  {
   "cell_type": "code",
   "execution_count": null,
   "id": "92dd0027",
   "metadata": {},
   "outputs": [],
   "source": []
  },
  {
   "cell_type": "code",
   "execution_count": null,
   "id": "d736a1e9",
   "metadata": {},
   "outputs": [],
   "source": []
  }
 ],
 "metadata": {
  "kernelspec": {
   "display_name": "Python 3 (ipykernel)",
   "language": "python",
   "name": "python3"
  },
  "language_info": {
   "codemirror_mode": {
    "name": "ipython",
    "version": 3
   },
   "file_extension": ".py",
   "mimetype": "text/x-python",
   "name": "python",
   "nbconvert_exporter": "python",
   "pygments_lexer": "ipython3",
   "version": "3.9.7"
  }
 },
 "nbformat": 4,
 "nbformat_minor": 5
}
